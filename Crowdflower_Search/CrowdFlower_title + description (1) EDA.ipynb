{
 "cells": [
  {
   "cell_type": "markdown",
   "metadata": {},
   "source": [
    "# Crowdflower Search Result Relevance"
   ]
  },
  {
   "cell_type": "markdown",
   "metadata": {},
   "source": [
    "* 설명\n",
    "  * 검색 결과의 관련성을 측정하는 데 사용할 수있는 오픈 소스 모델을 만드는 것\n",
    "  * 전자 상거래 사이트의 검색어 및 결과 제품, 제품 설명을 통해 검색 알고리즘의 정확성을 평가"
   ]
  },
  {
   "cell_type": "markdown",
   "metadata": {},
   "source": [
    "* 평가\n",
    "  * 두 등급 간의 일치도를 측정하는 quadratic weighted kappa 기준으로 채점\n",
    "  * 인간의 평가 점수와 예측 평가 점수의 일치도 측정\n",
    "  * 0 (평가자 간의 임의 합의)에서 1 (평가자 간의 완전한 합의)"
   ]
  },
  {
   "cell_type": "markdown",
   "metadata": {},
   "source": [
    "* ### Data 설명"
   ]
  },
  {
   "cell_type": "markdown",
   "metadata": {},
   "source": [
    "* train.csv - training data set\n",
    "  - id : 제품 ID\n",
    "  - query : 검색어 사용\n",
    "  - product title : 제품 이름\n",
    "  - product_description : HTML 형식 지정 태그와 함께 전체 제품 설명\n",
    "  - median_relevance : 3 명의 평가자에 의한 중앙 관련성 점수. 1 - 4 사이의 정수\n",
    "  - relevance_variance : 평가자가 준 관련성 점수의 편차. "
   ]
  },
  {
   "cell_type": "markdown",
   "metadata": {},
   "source": [
    "* test.csv - test data set\n",
    "  - id : 제품 ID\n",
    "  - query : 검색어 사용\n",
    "  - product title : 제품 이름\n",
    "  - product_description : HTML 형식 지정 태그와 함께 전체 제품 설명"
   ]
  },
  {
   "cell_type": "markdown",
   "metadata": {},
   "source": [
    "* ampleSubmission.csv - sample submission correct format\n",
    "  - id : 제품 ID\n",
    "  - prediction : 예측 값"
   ]
  },
  {
   "cell_type": "code",
   "execution_count": null,
   "metadata": {
    "collapsed": true
   },
   "outputs": [],
   "source": []
  },
  {
   "cell_type": "markdown",
   "metadata": {},
   "source": [
    "# Training Goal"
   ]
  },
  {
   "cell_type": "markdown",
   "metadata": {},
   "source": [
    "* Modeling 을 진행하기에 앞서 Data Preprocessing 및 Back of Word 진행"
   ]
  },
  {
   "cell_type": "markdown",
   "metadata": {},
   "source": [
    "# Process"
   ]
  },
  {
   "cell_type": "markdown",
   "metadata": {},
   "source": [
    "* ### Back of Word\n",
    "  * description 의 사용 유무에 따른 차이를 확인하기 위해 본 파일에서는 description 을 포함하여 query 와 title+description 사용\n",
    "  * TF-IDF 를 통해 Back of Word 진행\n",
    "  * query 와 title 을 Question 과 Result 로 따로 구분하여 전처리 및 BOW 후 hstack"
   ]
  },
  {
   "cell_type": "markdown",
   "metadata": {},
   "source": [
    "* ### Preprocessing\n",
    "  1. Train data 와 Test data 를 합쳐 corpus 제작 :**sentence**\n",
    "  2. 3개의 product 정보를 하나로 통합 : **sentence**\n",
    "  3. 대문자 Text data 를 소문자로 변환 : **sentence**\n",
    "  4. stopword - 2글자 이상의 알파벳, ennglish, html 용어 : **word list**\n",
    "  5. stemming : **word list**\n",
    "  6. word embedding 을 위해 각 product 의 word list 를 sentence 로 변환 :**sentence**\n",
    "  7. TF-IDF : **matrix**"
   ]
  },
  {
   "cell_type": "code",
   "execution_count": 1,
   "metadata": {
    "collapsed": true
   },
   "outputs": [],
   "source": [
    "import numpy as np\n",
    "import pandas as pd\n",
    "import sklearn as sk\n",
    "\n",
    "import matplotlib as mpl\n",
    "import matplotlib.pylab as plt\n",
    "from mpl_toolkits.mplot3d import Axes3D\n",
    "\n",
    "from sklearn.metrics import confusion_matrix, classification_report, roc_curve, auc, roc_auc_score, accuracy_score\n",
    "from sklearn.feature_extraction.text import TfidfVectorizer\n",
    "from nltk.stem import PorterStemmer\n",
    "from nltk.corpus import stopwords\n",
    "\n",
    "import re\n",
    "import joblib\n",
    "from joblib import dump, load\n",
    "\n",
    "pd.options.display.max_columns = 400\n",
    "pd.options.display.max_rows = 200\n",
    "pd.options.display.max_colwidth = 600\n",
    "pd.options.display.precision = 10"
   ]
  },
  {
   "cell_type": "markdown",
   "metadata": {},
   "source": [
    "## Data load / Variables define"
   ]
  },
  {
   "cell_type": "markdown",
   "metadata": {},
   "source": [
    "* train data / test data / submission data load"
   ]
  },
  {
   "cell_type": "code",
   "execution_count": 2,
   "metadata": {
    "collapsed": true
   },
   "outputs": [],
   "source": [
    "df_train = pd.read_excel(\"./__data/excel/train.xlsx\").fillna(\"\")\n",
    "df_test = pd.read_excel(\"./__data/excel/test.xlsx\").fillna(\"\")"
   ]
  },
  {
   "cell_type": "code",
   "execution_count": 3,
   "metadata": {
    "scrolled": true
   },
   "outputs": [
    {
     "data": {
      "text/html": [
       "<div>\n",
       "<style>\n",
       "    .dataframe thead tr:only-child th {\n",
       "        text-align: right;\n",
       "    }\n",
       "\n",
       "    .dataframe thead th {\n",
       "        text-align: left;\n",
       "    }\n",
       "\n",
       "    .dataframe tbody tr th {\n",
       "        vertical-align: top;\n",
       "    }\n",
       "</style>\n",
       "<table border=\"1\" class=\"dataframe\">\n",
       "  <thead>\n",
       "    <tr style=\"text-align: right;\">\n",
       "      <th></th>\n",
       "      <th>id</th>\n",
       "      <th>query</th>\n",
       "      <th>product_title</th>\n",
       "      <th>product_description</th>\n",
       "      <th>median_relevance</th>\n",
       "      <th>relevance_variance</th>\n",
       "    </tr>\n",
       "  </thead>\n",
       "  <tbody>\n",
       "    <tr>\n",
       "      <th>10154</th>\n",
       "      <td>32663</td>\n",
       "      <td>playstation vita system</td>\n",
       "      <td>MLB 15: The Show (PlayStation Vita)</td>\n",
       "      <td>An essential part of every fan?셲 season and The Show?셲 10th anniversary edition, MLB 15 The Show is full of new features that deliver the most accurate sports simulation possible. \\n\\nFor the first time, partnerships with real-world equipment brands will bring MLB-accurate bats, gloves, shoes, and batting gloves to the game. Customize your Road to The Show player in the best gear from the sport?셲 best brands. \\n\\nIt?셲 not just the gear that?셲 more authentic this year. Players and teams also have more unique personalities and styles plus a wide array of emotional reactions to all the heartb...</td>\n",
       "      <td>2</td>\n",
       "      <td>1.247</td>\n",
       "    </tr>\n",
       "    <tr>\n",
       "      <th>10155</th>\n",
       "      <td>32666</td>\n",
       "      <td>flower bulbs</td>\n",
       "      <td>Junkyard Findings Vintage Trinkets-Small Typo Bulbs 8/Pkg</td>\n",
       "      <td>PRIMA FLOWERS-Junkyard Findings Vintage Trinkets: Typo Bulbs. These trinkets have a vintage style that will look great when incorporated into various paper crafting; mixed media; or home accent projects. Each one looks like half of a light bulb and features a different sentiment printed on the surface. Overall measurements are 1-1/4x1/2x1/4 inch. This package contains eight total trinkets. Imported</td>\n",
       "      <td>1</td>\n",
       "      <td>0.471</td>\n",
       "    </tr>\n",
       "    <tr>\n",
       "      <th>10156</th>\n",
       "      <td>32668</td>\n",
       "      <td>polar heart rate monitor</td>\n",
       "      <td>Polar F6 Black Coal Heart Rate Monitor Mens Pink Tone</td>\n",
       "      <td></td>\n",
       "      <td>4</td>\n",
       "      <td>0.000</td>\n",
       "    </tr>\n",
       "  </tbody>\n",
       "</table>\n",
       "</div>"
      ],
      "text/plain": [
       "          id                     query  \\\n",
       "10154  32663   playstation vita system   \n",
       "10155  32666              flower bulbs   \n",
       "10156  32668  polar heart rate monitor   \n",
       "\n",
       "                                                   product_title  \\\n",
       "10154                        MLB 15: The Show (PlayStation Vita)   \n",
       "10155  Junkyard Findings Vintage Trinkets-Small Typo Bulbs 8/Pkg   \n",
       "10156      Polar F6 Black Coal Heart Rate Monitor Mens Pink Tone   \n",
       "\n",
       "                                                                                                                                                                                                                                                                                                                                                                                                                                                                                                                                                                                                           product_description  \\\n",
       "10154  An essential part of every fan?셲 season and The Show?셲 10th anniversary edition, MLB 15 The Show is full of new features that deliver the most accurate sports simulation possible. \\n\\nFor the first time, partnerships with real-world equipment brands will bring MLB-accurate bats, gloves, shoes, and batting gloves to the game. Customize your Road to The Show player in the best gear from the sport?셲 best brands. \\n\\nIt?셲 not just the gear that?셲 more authentic this year. Players and teams also have more unique personalities and styles plus a wide array of emotional reactions to all the heartb...   \n",
       "10155                                                                                                                                                                                                        PRIMA FLOWERS-Junkyard Findings Vintage Trinkets: Typo Bulbs. These trinkets have a vintage style that will look great when incorporated into various paper crafting; mixed media; or home accent projects. Each one looks like half of a light bulb and features a different sentiment printed on the surface. Overall measurements are 1-1/4x1/2x1/4 inch. This package contains eight total trinkets. Imported   \n",
       "10156                                                                                                                                                                                                                                                                                                                                                                                                                                                                                                                                                                                                                            \n",
       "\n",
       "       median_relevance  relevance_variance  \n",
       "10154                 2               1.247  \n",
       "10155                 1               0.471  \n",
       "10156                 4               0.000  "
      ]
     },
     "execution_count": 3,
     "metadata": {},
     "output_type": "execute_result"
    }
   ],
   "source": [
    "df_train.tail(3)"
   ]
  },
  {
   "cell_type": "markdown",
   "metadata": {},
   "source": [
    "* ### html 제거"
   ]
  },
  {
   "cell_type": "code",
   "execution_count": 4,
   "metadata": {},
   "outputs": [
    {
     "name": "stderr",
     "output_type": "stream",
     "text": [
      "C:\\Users\\JI SEONG MIN\\Anaconda3\\lib\\site-packages\\ipykernel_launcher.py:3: SettingWithCopyWarning: \n",
      "A value is trying to be set on a copy of a slice from a DataFrame\n",
      "\n",
      "See the caveats in the documentation: http://pandas.pydata.org/pandas-docs/stable/indexing.html#indexing-view-versus-copy\n",
      "  This is separate from the ipykernel package so we can avoid doing imports until\n"
     ]
    },
    {
     "name": "stdout",
     "output_type": "stream",
     "text": [
      "Wall time: 1.34 s\n"
     ]
    }
   ],
   "source": [
    "%%time\n",
    "for num in range(len(df_train['product_description'])):\n",
    "    if '<ul>' in df_train['product_description'][num]:\n",
    "        df_train['product_description'][num] = []        "
   ]
  },
  {
   "cell_type": "code",
   "execution_count": 5,
   "metadata": {
    "collapsed": true
   },
   "outputs": [],
   "source": [
    "y = df_train['median_relevance']"
   ]
  },
  {
   "cell_type": "code",
   "execution_count": 6,
   "metadata": {
    "scrolled": true
   },
   "outputs": [
    {
     "data": {
      "text/plain": [
       "10154    2\n",
       "10155    1\n",
       "10156    4\n",
       "Name: median_relevance, dtype: int64"
      ]
     },
     "execution_count": 6,
     "metadata": {},
     "output_type": "execute_result"
    }
   ],
   "source": [
    "y.tail(3)"
   ]
  },
  {
   "cell_type": "code",
   "execution_count": 7,
   "metadata": {},
   "outputs": [
    {
     "data": {
      "text/plain": [
       "array([1, 4, 2, 3], dtype=int64)"
      ]
     },
     "execution_count": 7,
     "metadata": {},
     "output_type": "execute_result"
    }
   ],
   "source": [
    "y.unique()"
   ]
  },
  {
   "cell_type": "code",
   "execution_count": 8,
   "metadata": {
    "collapsed": true
   },
   "outputs": [],
   "source": [
    "def count_bar_plot(data):\n",
    "    data_count = data.value_counts()\n",
    "    data_count.plot(kind='bar')\n",
    "    plt.ylabel('Data count')\n",
    "    fig = plt.gcf()\n",
    "    fig.set_size_inches(12, 5)\n",
    "    plt.show()"
   ]
  },
  {
   "cell_type": "code",
   "execution_count": 9,
   "metadata": {
    "scrolled": true
   },
   "outputs": [
    {
     "data": {
      "image/png": "[encoded data removed]",
      "text/plain": [
       "<matplotlib.figure.Figure at 0x242834bcb70>"
      ]
     },
     "metadata": {},
     "output_type": "display_data"
    }
   ],
   "source": [
    "count_bar_plot(y)"
   ]
  },
  {
   "cell_type": "code",
   "execution_count": 393,
   "metadata": {},
   "outputs": [
    {
     "data": {
      "text/plain": [
       "['y.pkl']"
      ]
     },
     "execution_count": 393,
     "metadata": {},
     "output_type": "execute_result"
    }
   ],
   "source": [
    "joblib.dump(y, 'y.pkl')"
   ]
  },
  {
   "cell_type": "code",
   "execution_count": null,
   "metadata": {
    "collapsed": true
   },
   "outputs": [],
   "source": []
  },
  {
   "cell_type": "markdown",
   "metadata": {},
   "source": [
    "* ### Train data / Test data 를 사용하여 corpus 제작"
   ]
  },
  {
   "cell_type": "code",
   "execution_count": 10,
   "metadata": {
    "collapsed": true
   },
   "outputs": [],
   "source": [
    "df_corpus = pd.concat([df_train, df_test], axis=0)"
   ]
  },
  {
   "cell_type": "code",
   "execution_count": 11,
   "metadata": {
    "collapsed": true
   },
   "outputs": [],
   "source": [
    "df_corpus = df_corpus.drop('median_relevance', axis = 1)\n",
    "df_corpus = df_corpus.drop('relevance_variance', axis = 1)"
   ]
  },
  {
   "cell_type": "code",
   "execution_count": 12,
   "metadata": {},
   "outputs": [
    {
     "data": {
      "text/html": [
       "<div>\n",
       "<style>\n",
       "    .dataframe thead tr:only-child th {\n",
       "        text-align: right;\n",
       "    }\n",
       "\n",
       "    .dataframe thead th {\n",
       "        text-align: left;\n",
       "    }\n",
       "\n",
       "    .dataframe tbody tr th {\n",
       "        vertical-align: top;\n",
       "    }\n",
       "</style>\n",
       "<table border=\"1\" class=\"dataframe\">\n",
       "  <thead>\n",
       "    <tr style=\"text-align: right;\">\n",
       "      <th></th>\n",
       "      <th>0</th>\n",
       "    </tr>\n",
       "  </thead>\n",
       "  <tbody>\n",
       "    <tr>\n",
       "      <th>query</th>\n",
       "      <td>0</td>\n",
       "    </tr>\n",
       "    <tr>\n",
       "      <th>product_title</th>\n",
       "      <td>0</td>\n",
       "    </tr>\n",
       "    <tr>\n",
       "      <th>product_description</th>\n",
       "      <td>0</td>\n",
       "    </tr>\n",
       "    <tr>\n",
       "      <th>id</th>\n",
       "      <td>0</td>\n",
       "    </tr>\n",
       "  </tbody>\n",
       "</table>\n",
       "</div>"
      ],
      "text/plain": [
       "                     0\n",
       "query                0\n",
       "product_title        0\n",
       "product_description  0\n",
       "id                   0"
      ]
     },
     "execution_count": 12,
     "metadata": {},
     "output_type": "execute_result"
    }
   ],
   "source": [
    "pd.DataFrame(df_corpus.isnull().sum().sort_values(ascending=False))"
   ]
  },
  {
   "cell_type": "code",
   "execution_count": 13,
   "metadata": {},
   "outputs": [
    {
     "data": {
      "text/plain": [
       "32670"
      ]
     },
     "execution_count": 13,
     "metadata": {},
     "output_type": "execute_result"
    }
   ],
   "source": [
    "len((df_corpus['id']))"
   ]
  },
  {
   "cell_type": "code",
   "execution_count": 14,
   "metadata": {
    "scrolled": true
   },
   "outputs": [
    {
     "data": {
      "text/html": [
       "<div>\n",
       "<style>\n",
       "    .dataframe thead tr:only-child th {\n",
       "        text-align: right;\n",
       "    }\n",
       "\n",
       "    .dataframe thead th {\n",
       "        text-align: left;\n",
       "    }\n",
       "\n",
       "    .dataframe tbody tr th {\n",
       "        vertical-align: top;\n",
       "    }\n",
       "</style>\n",
       "<table border=\"1\" class=\"dataframe\">\n",
       "  <thead>\n",
       "    <tr style=\"text-align: right;\">\n",
       "      <th></th>\n",
       "      <th>id</th>\n",
       "      <th>product_description</th>\n",
       "      <th>product_title</th>\n",
       "      <th>query</th>\n",
       "    </tr>\n",
       "  </thead>\n",
       "  <tbody>\n",
       "    <tr>\n",
       "      <th>22510</th>\n",
       "      <td>32669</td>\n",
       "      <td>The Grappling Gloves are built to serve and protect. One of the best things a training fighter can do is to make sure that they don?셳 get injured while training. One of the worst things a fighter can do is to sustain an injury in the gym</td>\n",
       "      <td>Lion Martial Arts Large Red Grappling Glove Pair</td>\n",
       "      <td>gym gloves</td>\n",
       "    </tr>\n",
       "    <tr>\n",
       "      <th>22511</th>\n",
       "      <td>32670</td>\n",
       "      <td>The team behind Disney's Wreck-It Ralph, the tale of a video game villain who wants to go good, committed to authenticity at every level of the movie, from including Q-Bert and and Clyde (aka the orange ghost from Pac-Man) as minor characters to making sure the film's music conveyed the golden age of arcade games and the feel of the games that followed. Wreck-It-Ralph shows that composer Henry Jackman and the other artists featured here did an impressive job of capturing that spirit without getting geeky enough to alienate anyone not steeped in gamer culture. That said, this soundtrack rel...</td>\n",
       "      <td>Wreck-It Ralph (Original Score)</td>\n",
       "      <td>wreck it ralph</td>\n",
       "    </tr>\n",
       "    <tr>\n",
       "      <th>22512</th>\n",
       "      <td>32671</td>\n",
       "      <td>Hair accessories that really hold! Goody Slide Proof accessories are infused with Slide-Proof technology to provide a secure hold without sacrificng style. Be confident that your accessories will not roll, slide, or fall out of your hair,no matter what! Keep your hairstyle in place with Goody Slide-Proof headwraps.</td>\n",
       "      <td>Goody Slide proof Claw Clip, Large (Pack of 2)</td>\n",
       "      <td>hair accessories</td>\n",
       "    </tr>\n",
       "  </tbody>\n",
       "</table>\n",
       "</div>"
      ],
      "text/plain": [
       "          id  \\\n",
       "22510  32669   \n",
       "22511  32670   \n",
       "22512  32671   \n",
       "\n",
       "                                                                                                                                                                                                                                                                                                                                                                                                                                                                                                                                                                                                           product_description  \\\n",
       "22510                                                                                                                                                                                                                                                                                                                                                                            The Grappling Gloves are built to serve and protect. One of the best things a training fighter can do is to make sure that they don?셳 get injured while training. One of the worst things a fighter can do is to sustain an injury in the gym   \n",
       "22511  The team behind Disney's Wreck-It Ralph, the tale of a video game villain who wants to go good, committed to authenticity at every level of the movie, from including Q-Bert and and Clyde (aka the orange ghost from Pac-Man) as minor characters to making sure the film's music conveyed the golden age of arcade games and the feel of the games that followed. Wreck-It-Ralph shows that composer Henry Jackman and the other artists featured here did an impressive job of capturing that spirit without getting geeky enough to alienate anyone not steeped in gamer culture. That said, this soundtrack rel...   \n",
       "22512                                                                                                                                                                                                                                                                                             Hair accessories that really hold! Goody Slide Proof accessories are infused with Slide-Proof technology to provide a secure hold without sacrificng style. Be confident that your accessories will not roll, slide, or fall out of your hair,no matter what! Keep your hairstyle in place with Goody Slide-Proof headwraps.   \n",
       "\n",
       "                                          product_title             query  \n",
       "22510  Lion Martial Arts Large Red Grappling Glove Pair        gym gloves  \n",
       "22511                   Wreck-It Ralph (Original Score)    wreck it ralph  \n",
       "22512    Goody Slide proof Claw Clip, Large (Pack of 2)  hair accessories  "
      ]
     },
     "execution_count": 14,
     "metadata": {},
     "output_type": "execute_result"
    }
   ],
   "source": [
    "df_corpus.tail(3)"
   ]
  },
  {
   "cell_type": "code",
   "execution_count": null,
   "metadata": {
    "collapsed": true
   },
   "outputs": [],
   "source": []
  },
  {
   "cell_type": "markdown",
   "metadata": {},
   "source": [
    "# Preprocessing"
   ]
  },
  {
   "cell_type": "code",
   "execution_count": 15,
   "metadata": {},
   "outputs": [
    {
     "data": {
      "text/plain": [
       "'Like a silent and sturdy tree, the Southern Enterprises Bird and Branch Coat Rack is an eye-catching addition to your home d챕cor. This tree themed coat rack features strong branches with pinecone accents and a small bird perched at the top to give it a whimsical and welcoming appearance while still making it sturdy enough to hold your coats, hats, umbrellas and more. Whether it serves as a coat rack, a hat rack or a combination of the two, it?셪l be a great space saver that gets appreciated for its graceful appearance.\\nNumber of Hooks: 10\\nFrame Material: Metal\\nHardware Material: Metal\\nDimensions: 69.5 \" H x 13.25 \" W x 13.25 \" D\\nWeight: 12.0 Lb.\\nAssembly Details: assembly required'"
      ]
     },
     "execution_count": 15,
     "metadata": {},
     "output_type": "execute_result"
    }
   ],
   "source": [
    "df_train['product_description'][3]"
   ]
  },
  {
   "cell_type": "markdown",
   "metadata": {},
   "source": [
    "* ### 각 product 에 대한 정보를 하나로 합친 후 list 의 형태로 변환"
   ]
  },
  {
   "cell_type": "code",
   "execution_count": 58,
   "metadata": {
    "collapsed": true
   },
   "outputs": [],
   "source": [
    "def feature_merge(df_text):\n",
    "    textdata = list(df_text.apply(lambda x:'%s %s' % (x['product_title'], x['product_description']), axis=1))\n",
    "    return textdata"
   ]
  },
  {
   "cell_type": "code",
   "execution_count": 59,
   "metadata": {
    "collapsed": true
   },
   "outputs": [],
   "source": [
    "# question 변수 생성\n",
    "\n",
    "train_q = list(df_train['query'])\n",
    "test_q = list(df_test['query'])"
   ]
  },
  {
   "cell_type": "code",
   "execution_count": 60,
   "metadata": {
    "collapsed": true
   },
   "outputs": [],
   "source": [
    "# result 변수 생성\n",
    "\n",
    "train_r =feature_merge(df_train)\n",
    "test_r = feature_merge(df_test)"
   ]
  },
  {
   "cell_type": "code",
   "execution_count": 61,
   "metadata": {},
   "outputs": [
    {
     "name": "stdout",
     "output_type": "stream",
     "text": [
      "Wall time: 2 s\n"
     ]
    }
   ],
   "source": [
    "%%time\n",
    "corpusdata = list(df_corpus.apply(lambda x:'%s %s %s' % (x['query'], x['product_title'], x['product_description']), axis=1))"
   ]
  },
  {
   "cell_type": "code",
   "execution_count": 404,
   "metadata": {},
   "outputs": [
    {
     "data": {
      "text/plain": [
       "['corpusdata.pkl']"
      ]
     },
     "execution_count": 404,
     "metadata": {},
     "output_type": "execute_result"
    }
   ],
   "source": [
    "joblib.dump(corpusdata, 'corpusdata.pkl')"
   ]
  },
  {
   "cell_type": "markdown",
   "metadata": {},
   "source": [
    "* #### product 정보의 최소 길이와 최대 길이 확인"
   ]
  },
  {
   "cell_type": "code",
   "execution_count": 62,
   "metadata": {
    "collapsed": true
   },
   "outputs": [],
   "source": [
    "def length_check(data):\n",
    "    length = []\n",
    "    for num in range(len(data)):\n",
    "        length.append(len(data[num]))\n",
    "    \n",
    "    print('Max length : ', max(length))\n",
    "    print('Min length : ', min(length))"
   ]
  },
  {
   "cell_type": "code",
   "execution_count": 63,
   "metadata": {},
   "outputs": [
    {
     "name": "stdout",
     "output_type": "stream",
     "text": [
      "Max length :  33\n",
      "Min length :  2\n"
     ]
    }
   ],
   "source": [
    "length_check(train_q)"
   ]
  },
  {
   "cell_type": "code",
   "execution_count": 64,
   "metadata": {},
   "outputs": [
    {
     "name": "stdout",
     "output_type": "stream",
     "text": [
      "Max length :  18154\n",
      "Min length :  9\n"
     ]
    }
   ],
   "source": [
    "length_check(train_r)"
   ]
  },
  {
   "cell_type": "code",
   "execution_count": 65,
   "metadata": {},
   "outputs": [
    {
     "name": "stdout",
     "output_type": "stream",
     "text": [
      "Max length :  33\n",
      "Min length :  0\n"
     ]
    }
   ],
   "source": [
    "length_check(test_q)"
   ]
  },
  {
   "cell_type": "code",
   "execution_count": 66,
   "metadata": {},
   "outputs": [
    {
     "name": "stdout",
     "output_type": "stream",
     "text": [
      "Max length :  25909\n",
      "Min length :  1\n"
     ]
    }
   ],
   "source": [
    "length_check(test_r)"
   ]
  },
  {
   "cell_type": "code",
   "execution_count": 67,
   "metadata": {},
   "outputs": [
    {
     "name": "stdout",
     "output_type": "stream",
     "text": [
      "Max length :  25931\n",
      "Min length :  2\n"
     ]
    }
   ],
   "source": [
    "length_check(corpusdata)"
   ]
  },
  {
   "cell_type": "code",
   "execution_count": 68,
   "metadata": {},
   "outputs": [
    {
     "name": "stdout",
     "output_type": "stream",
     "text": [
      "32670\n"
     ]
    }
   ],
   "source": [
    "print(len(corpusdata))"
   ]
  },
  {
   "cell_type": "markdown",
   "metadata": {},
   "source": [
    "* ### 모든 Text data 를 소문자로 변환"
   ]
  },
  {
   "cell_type": "code",
   "execution_count": 69,
   "metadata": {
    "collapsed": true
   },
   "outputs": [],
   "source": [
    "def lower_convert(data):\n",
    "    for num in range(len(data)):\n",
    "        data[num] = data[num].lower()"
   ]
  },
  {
   "cell_type": "code",
   "execution_count": 70,
   "metadata": {
    "collapsed": true
   },
   "outputs": [],
   "source": [
    "lower_convert(train_q)\n",
    "lower_convert(train_r)\n",
    "lower_convert(test_q)\n",
    "lower_convert(test_r)\n",
    "lower_convert(corpusdata)"
   ]
  },
  {
   "cell_type": "code",
   "execution_count": 71,
   "metadata": {},
   "outputs": [
    {
     "data": {
      "text/plain": [
       "['bridal shower decorations accent pillow with heart design - red/black red satin accent pillow embroidered with a heart in black thread. 8\" x 8\".',\n",
       " 'led christmas lights set of 10 battery operated multi led train christmas lights - clear wire set of 10 battery operated train christmas lights item #x124210 features: color: multi-color bulbs with matching train light covers / clear wire multi-color consists of red, green, blue and yellow bulbs number of bulbs on string: 10 bulb size: micro led spacing between bulbs: 6 inches lighted length: 4.5 feet total length: 5.5 feet 12 inch lead cord additional product features: led lights use 90% less energy cool to the touch if one bulb burns out, the rest will stay lit lights are equipped with lamp lock feature, which makes them replaceable, interchangeable and keeps them from falling out requires 3 \"aa\" batteries (not included) convenient on/off/timer switch located on battery pack timer function on battery pack allows for 6 hours on and 18 hours off cannot connect multiple sets together ul listed for indoor use only train dimensions: 1.5\"h x 1.8\"w x .5\"d material(s): plastic/wire/acrylic',\n",
       " 'projector viewsonic pro8200 dlp multimedia projector ',\n",
       " 'wine rack concept housewares wr-44526 solid-wood ceiling/wall-mount wine rack, charcoal grey, 6 bottle like a silent and sturdy tree, the southern enterprises bird and branch coat rack is an eye-catching addition to your home d챕cor. this tree themed coat rack features strong branches with pinecone accents and a small bird perched at the top to give it a whimsical and welcoming appearance while still making it sturdy enough to hold your coats, hats, umbrellas and more. whether it serves as a coat rack, a hat rack or a combination of the two, it?셪l be a great space saver that gets appreciated for its graceful appearance.\\nnumber of hooks: 10\\nframe material: metal\\nhardware material: metal\\ndimensions: 69.5 \" h x 13.25 \" w x 13.25 \" d\\nweight: 12.0 lb.\\nassembly details: assembly required',\n",
       " 'light bulb wintergreen lighting christmas led light bulb (pack of 25) wtgr1011\\nfeatures\\nnickel base, 60,000 average hours, acrylic resin bulb material\\nchristmas light bulb\\nsteady dimmable replacement lamps\\nnickel bases prevent corrosion in sockets\\nwattage: 0.96 watts\\nvoltage: 130 volts\\ndimmable: yes\\nlight source: led\\nbulb shape type: candle\\n\\ncolor amber\\nbulb color: amber']"
      ]
     },
     "execution_count": 71,
     "metadata": {},
     "output_type": "execute_result"
    }
   ],
   "source": [
    "corpusdata[:5]"
   ]
  },
  {
   "cell_type": "markdown",
   "metadata": {},
   "source": [
    "* ### 2글자 이상의 알파벳만 존재하도록 Stopwords 생성 및 적용"
   ]
  },
  {
   "cell_type": "code",
   "execution_count": 73,
   "metadata": {
    "collapsed": true
   },
   "outputs": [],
   "source": [
    "def alphabet_stopwords(data):\n",
    "    for num in range(len(data)):\n",
    "        data[num] = re.findall(r'[a-zA-Z]+', data[num])\n",
    "        \n",
    "    for num in range(len(data)):\n",
    "        data[num] = (\" \").join(data[num])\n",
    "    \n",
    "    for num in range(len(data)):\n",
    "        data[num] = re.findall(r'\\w\\w+', data[num])"
   ]
  },
  {
   "cell_type": "code",
   "execution_count": 74,
   "metadata": {},
   "outputs": [
    {
     "name": "stdout",
     "output_type": "stream",
     "text": [
      "Wall time: 5.9 s\n"
     ]
    }
   ],
   "source": [
    "%%time\n",
    "alphabet_stopwords(train_q)\n",
    "alphabet_stopwords(train_r)\n",
    "alphabet_stopwords(test_q)\n",
    "alphabet_stopwords(test_r)\n",
    "alphabet_stopwords(corpusdata)"
   ]
  },
  {
   "cell_type": "markdown",
   "metadata": {},
   "source": [
    "* ### Stopwords (english)"
   ]
  },
  {
   "cell_type": "code",
   "execution_count": 76,
   "metadata": {
    "collapsed": true
   },
   "outputs": [],
   "source": [
    "def eng_stopwords(data):\n",
    "    data_copy = data.copy()\n",
    "    for num in range(len(data_copy)):\n",
    "        data_copy[num] = []\n",
    "    \n",
    "    stop = stopwords.words('english')\n",
    "    \n",
    "    for num in range(len(data)):\n",
    "        for i in range(len(data[num])):\n",
    "            if data[num][i] not in stop:\n",
    "                data_copy[num].append(data[num][i])\n",
    "                \n",
    "    return data_copy"
   ]
  },
  {
   "cell_type": "code",
   "execution_count": 83,
   "metadata": {},
   "outputs": [
    {
     "name": "stdout",
     "output_type": "stream",
     "text": [
      "Wall time: 15.8 s\n"
     ]
    }
   ],
   "source": [
    "%%time\n",
    "train_q = eng_stopwords(train_q)\n",
    "train_r = eng_stopwords(train_r)\n",
    "test_q = eng_stopwords(test_q)\n",
    "test_r = eng_stopwords(test_r)\n",
    "corpus_data = eng_stopwords(corpusdata)"
   ]
  },
  {
   "cell_type": "code",
   "execution_count": 84,
   "metadata": {},
   "outputs": [
    {
     "data": {
      "text/plain": [
       "[['bridal',\n",
       "  'shower',\n",
       "  'decorations',\n",
       "  'accent',\n",
       "  'pillow',\n",
       "  'heart',\n",
       "  'design',\n",
       "  'red',\n",
       "  'black',\n",
       "  'red',\n",
       "  'satin',\n",
       "  'accent',\n",
       "  'pillow',\n",
       "  'embroidered',\n",
       "  'heart',\n",
       "  'black',\n",
       "  'thread'],\n",
       " ['led',\n",
       "  'christmas',\n",
       "  'lights',\n",
       "  'set',\n",
       "  'battery',\n",
       "  'operated',\n",
       "  'multi',\n",
       "  'led',\n",
       "  'train',\n",
       "  'christmas',\n",
       "  'lights',\n",
       "  'clear',\n",
       "  'wire',\n",
       "  'set',\n",
       "  'battery',\n",
       "  'operated',\n",
       "  'train',\n",
       "  'christmas',\n",
       "  'lights',\n",
       "  'item',\n",
       "  'features',\n",
       "  'color',\n",
       "  'multi',\n",
       "  'color',\n",
       "  'bulbs',\n",
       "  'matching',\n",
       "  'train',\n",
       "  'light',\n",
       "  'covers',\n",
       "  'clear',\n",
       "  'wire',\n",
       "  'multi',\n",
       "  'color',\n",
       "  'consists',\n",
       "  'red',\n",
       "  'green',\n",
       "  'blue',\n",
       "  'yellow',\n",
       "  'bulbs',\n",
       "  'number',\n",
       "  'bulbs',\n",
       "  'string',\n",
       "  'bulb',\n",
       "  'size',\n",
       "  'micro',\n",
       "  'led',\n",
       "  'spacing',\n",
       "  'bulbs',\n",
       "  'inches',\n",
       "  'lighted',\n",
       "  'length',\n",
       "  'feet',\n",
       "  'total',\n",
       "  'length',\n",
       "  'feet',\n",
       "  'inch',\n",
       "  'lead',\n",
       "  'cord',\n",
       "  'additional',\n",
       "  'product',\n",
       "  'features',\n",
       "  'led',\n",
       "  'lights',\n",
       "  'use',\n",
       "  'less',\n",
       "  'energy',\n",
       "  'cool',\n",
       "  'touch',\n",
       "  'one',\n",
       "  'bulb',\n",
       "  'burns',\n",
       "  'rest',\n",
       "  'stay',\n",
       "  'lit',\n",
       "  'lights',\n",
       "  'equipped',\n",
       "  'lamp',\n",
       "  'lock',\n",
       "  'feature',\n",
       "  'makes',\n",
       "  'replaceable',\n",
       "  'interchangeable',\n",
       "  'keeps',\n",
       "  'falling',\n",
       "  'requires',\n",
       "  'aa',\n",
       "  'batteries',\n",
       "  'included',\n",
       "  'convenient',\n",
       "  'timer',\n",
       "  'switch',\n",
       "  'located',\n",
       "  'battery',\n",
       "  'pack',\n",
       "  'timer',\n",
       "  'function',\n",
       "  'battery',\n",
       "  'pack',\n",
       "  'allows',\n",
       "  'hours',\n",
       "  'hours',\n",
       "  'cannot',\n",
       "  'connect',\n",
       "  'multiple',\n",
       "  'sets',\n",
       "  'together',\n",
       "  'ul',\n",
       "  'listed',\n",
       "  'indoor',\n",
       "  'use',\n",
       "  'train',\n",
       "  'dimensions',\n",
       "  'material',\n",
       "  'plastic',\n",
       "  'wire',\n",
       "  'acrylic'],\n",
       " ['projector', 'viewsonic', 'pro', 'dlp', 'multimedia', 'projector'],\n",
       " ['wine',\n",
       "  'rack',\n",
       "  'concept',\n",
       "  'housewares',\n",
       "  'wr',\n",
       "  'solid',\n",
       "  'wood',\n",
       "  'ceiling',\n",
       "  'wall',\n",
       "  'mount',\n",
       "  'wine',\n",
       "  'rack',\n",
       "  'charcoal',\n",
       "  'grey',\n",
       "  'bottle',\n",
       "  'like',\n",
       "  'silent',\n",
       "  'sturdy',\n",
       "  'tree',\n",
       "  'southern',\n",
       "  'enterprises',\n",
       "  'bird',\n",
       "  'branch',\n",
       "  'coat',\n",
       "  'rack',\n",
       "  'eye',\n",
       "  'catching',\n",
       "  'addition',\n",
       "  'home',\n",
       "  'cor',\n",
       "  'tree',\n",
       "  'themed',\n",
       "  'coat',\n",
       "  'rack',\n",
       "  'features',\n",
       "  'strong',\n",
       "  'branches',\n",
       "  'pinecone',\n",
       "  'accents',\n",
       "  'small',\n",
       "  'bird',\n",
       "  'perched',\n",
       "  'top',\n",
       "  'give',\n",
       "  'whimsical',\n",
       "  'welcoming',\n",
       "  'appearance',\n",
       "  'still',\n",
       "  'making',\n",
       "  'sturdy',\n",
       "  'enough',\n",
       "  'hold',\n",
       "  'coats',\n",
       "  'hats',\n",
       "  'umbrellas',\n",
       "  'whether',\n",
       "  'serves',\n",
       "  'coat',\n",
       "  'rack',\n",
       "  'hat',\n",
       "  'rack',\n",
       "  'combination',\n",
       "  'two',\n",
       "  'great',\n",
       "  'space',\n",
       "  'saver',\n",
       "  'gets',\n",
       "  'appreciated',\n",
       "  'graceful',\n",
       "  'appearance',\n",
       "  'number',\n",
       "  'hooks',\n",
       "  'frame',\n",
       "  'material',\n",
       "  'metal',\n",
       "  'hardware',\n",
       "  'material',\n",
       "  'metal',\n",
       "  'dimensions',\n",
       "  'weight',\n",
       "  'lb',\n",
       "  'assembly',\n",
       "  'details',\n",
       "  'assembly',\n",
       "  'required'],\n",
       " ['light',\n",
       "  'bulb',\n",
       "  'wintergreen',\n",
       "  'lighting',\n",
       "  'christmas',\n",
       "  'led',\n",
       "  'light',\n",
       "  'bulb',\n",
       "  'pack',\n",
       "  'wtgr',\n",
       "  'features',\n",
       "  'nickel',\n",
       "  'base',\n",
       "  'average',\n",
       "  'hours',\n",
       "  'acrylic',\n",
       "  'resin',\n",
       "  'bulb',\n",
       "  'material',\n",
       "  'christmas',\n",
       "  'light',\n",
       "  'bulb',\n",
       "  'steady',\n",
       "  'dimmable',\n",
       "  'replacement',\n",
       "  'lamps',\n",
       "  'nickel',\n",
       "  'bases',\n",
       "  'prevent',\n",
       "  'corrosion',\n",
       "  'sockets',\n",
       "  'wattage',\n",
       "  'watts',\n",
       "  'voltage',\n",
       "  'volts',\n",
       "  'dimmable',\n",
       "  'yes',\n",
       "  'light',\n",
       "  'source',\n",
       "  'led',\n",
       "  'bulb',\n",
       "  'shape',\n",
       "  'type',\n",
       "  'candle',\n",
       "  'color',\n",
       "  'amber',\n",
       "  'bulb',\n",
       "  'color',\n",
       "  'amber']]"
      ]
     },
     "execution_count": 84,
     "metadata": {},
     "output_type": "execute_result"
    }
   ],
   "source": [
    "corpus_data[:5]"
   ]
  },
  {
   "cell_type": "markdown",
   "metadata": {},
   "source": [
    "* ### Stopwords (html 용어)"
   ]
  },
  {
   "cell_type": "code",
   "execution_count": 87,
   "metadata": {
    "collapsed": true
   },
   "outputs": [],
   "source": [
    "def html_stopwords(data):\n",
    "    data_copy = data.copy()\n",
    "    for num in range(len(data_copy)):\n",
    "        data_copy[num] = []\n",
    "    \n",
    "    html_words = ['ul', 'li', 'td', 'tr','br', 'table', 'strong', 'color', 'size', 'font', 'px', 'text', 'link', 'item', 'www', 'http']\n",
    "\n",
    "    for num in range(len(data)):\n",
    "        for i in range(len(data[num])):\n",
    "            if data[num][i] not in html_words:\n",
    "                data_copy[num].append(data[num][i])\n",
    "                \n",
    "    return data_copy"
   ]
  },
  {
   "cell_type": "code",
   "execution_count": 88,
   "metadata": {},
   "outputs": [
    {
     "name": "stdout",
     "output_type": "stream",
     "text": [
      "Wall time: 2.5 s\n"
     ]
    }
   ],
   "source": [
    "%%time\n",
    "train_q = html_stopwords(train_q)\n",
    "train_r = html_stopwords(train_r)\n",
    "test_q = html_stopwords(test_q)\n",
    "test_r = html_stopwords(test_r)\n",
    "corpus_data = html_stopwords(corpus_data)"
   ]
  },
  {
   "cell_type": "markdown",
   "metadata": {},
   "source": [
    "## Stemming"
   ]
  },
  {
   "cell_type": "code",
   "execution_count": 90,
   "metadata": {
    "collapsed": true
   },
   "outputs": [],
   "source": [
    "# 타 참가자의 코드 참고\n",
    "\n",
    "def stemPorter(text):\n",
    "            porter = PorterStemmer()\n",
    "            stem_data = []\n",
    "            for num in text:\n",
    "                final_stem = []\n",
    "                for word in num:\n",
    "                    final_stem.append(porter.stem(word))\n",
    "                stem_data.append(final_stem)\n",
    "            return stem_data"
   ]
  },
  {
   "cell_type": "code",
   "execution_count": 91,
   "metadata": {},
   "outputs": [
    {
     "name": "stdout",
     "output_type": "stream",
     "text": [
      "Wall time: 16.5 s\n"
     ]
    }
   ],
   "source": [
    "%%time\n",
    "train_q = stemPorter(train_q)\n",
    "train_r = stemPorter(train_r)"
   ]
  },
  {
   "cell_type": "code",
   "execution_count": 92,
   "metadata": {},
   "outputs": [
    {
     "name": "stdout",
     "output_type": "stream",
     "text": [
      "Wall time: 40 s\n"
     ]
    }
   ],
   "source": [
    "%%time\n",
    "test_q = stemPorter(test_q)\n",
    "test_t = stemPorter(test_r)"
   ]
  },
  {
   "cell_type": "code",
   "execution_count": 93,
   "metadata": {},
   "outputs": [
    {
     "name": "stdout",
     "output_type": "stream",
     "text": [
      "Wall time: 57.1 s\n"
     ]
    }
   ],
   "source": [
    "%%time\n",
    "corpus_data = stemPorter(corpus_data)"
   ]
  },
  {
   "cell_type": "markdown",
   "metadata": {},
   "source": [
    "* ### 각 Data 에 가장 많이 분포되어 있는 단어 확인"
   ]
  },
  {
   "cell_type": "code",
   "execution_count": 94,
   "metadata": {
    "collapsed": true
   },
   "outputs": [],
   "source": [
    "def words_count(data):\n",
    "    words = []\n",
    "    for i in range(len(data)):\n",
    "        for j in range(len(data[i])):\n",
    "            words.append(data[i][j])\n",
    "            \n",
    "    words_data = pd.DataFrame(words, columns=['words'])\n",
    "    \n",
    "    words_counts = words_data['words'].value_counts()\n",
    "    words_counts[words_counts > sorted(words_counts)[-11]].plot(kind='bar')\n",
    "    print(words_counts.keys()[:11])\n",
    "    \n",
    "    plt.ylabel('Data count')\n",
    "    fig = plt.gcf()\n",
    "    fig.set_size_inches(12, 7)\n",
    "    plt.show()    "
   ]
  },
  {
   "cell_type": "code",
   "execution_count": 95,
   "metadata": {},
   "outputs": [
    {
     "name": "stdout",
     "output_type": "stream",
     "text": [
      "Index(['dress', 'coffe', 'maker', 'shoe', 'case', 'women', 'shirt', 'memori',\n",
      "       'bike', 'pillow', 'candl'],\n",
      "      dtype='object')\n"
     ]
    },
    {
     "data": {
      "image/png": "[encoded data removed]",
      "text/plain": [
       "<matplotlib.figure.Figure at 0x242a6170d68>"
      ]
     },
     "metadata": {},
     "output_type": "display_data"
    }
   ],
   "source": [
    "words_count(train_q)"
   ]
  },
  {
   "cell_type": "code",
   "execution_count": 97,
   "metadata": {},
   "outputs": [
    {
     "name": "stdout",
     "output_type": "stream",
     "text": [
      "Index(['featur', 'set', 'design', 'inch', 'use', 'includ', 'black', 'comfort',\n",
      "       'make', 'easi', 'style'],\n",
      "      dtype='object')\n"
     ]
    },
    {
     "data": {
      "image/png": "[encoded data removed]",
      "text/plain": [
       "<matplotlib.figure.Figure at 0x2429d1356d8>"
      ]
     },
     "metadata": {},
     "output_type": "display_data"
    }
   ],
   "source": [
    "words_count(train_r)"
   ]
  },
  {
   "cell_type": "code",
   "execution_count": 98,
   "metadata": {
    "scrolled": false
   },
   "outputs": [
    {
     "name": "stdout",
     "output_type": "stream",
     "text": [
      "Index(['dress', 'coffe', 'maker', 'shoe', 'case', 'women', 'shirt', 'bike',\n",
      "       'candl', 'memori', 'wireless'],\n",
      "      dtype='object')\n"
     ]
    },
    {
     "data": {
      "image/png": "[encoded data removed]",
      "text/plain": [
       "<matplotlib.figure.Figure at 0x2429c805128>"
      ]
     },
     "metadata": {},
     "output_type": "display_data"
    }
   ],
   "source": [
    "words_count(test_q)"
   ]
  },
  {
   "cell_type": "code",
   "execution_count": 99,
   "metadata": {},
   "outputs": [
    {
     "name": "stdout",
     "output_type": "stream",
     "text": [
      "Index(['nbsp', 'new', 'features', 'black', 'set', 'condition', 'easy', 'style',\n",
      "       'high', 'design', 'top'],\n",
      "      dtype='object')\n"
     ]
    },
    {
     "data": {
      "image/png": "[encoded data removed]",
      "text/plain": [
       "<matplotlib.figure.Figure at 0x2429cd8a400>"
      ]
     },
     "metadata": {},
     "output_type": "display_data"
    }
   ],
   "source": [
    "words_count(test_r)"
   ]
  },
  {
   "cell_type": "code",
   "execution_count": 100,
   "metadata": {},
   "outputs": [
    {
     "name": "stdout",
     "output_type": "stream",
     "text": [
      "Index(['featur', 'nbsp', 'design', 'new', 'set', 'use', 'includ', 'inch',\n",
      "       'black', 'comfort', 'style'],\n",
      "      dtype='object')\n"
     ]
    },
    {
     "data": {
      "image/png": "[encoded data removed]",
      "text/plain": [
       "<matplotlib.figure.Figure at 0x2429c9c0400>"
      ]
     },
     "metadata": {},
     "output_type": "display_data"
    }
   ],
   "source": [
    "words_count(corpus_data)"
   ]
  },
  {
   "cell_type": "code",
   "execution_count": null,
   "metadata": {
    "collapsed": true
   },
   "outputs": [],
   "source": []
  },
  {
   "cell_type": "markdown",
   "metadata": {},
   "source": [
    "## Data type conversion for word embadding (word list to sentence)"
   ]
  },
  {
   "cell_type": "code",
   "execution_count": 101,
   "metadata": {
    "collapsed": true
   },
   "outputs": [],
   "source": [
    "def data_join(list_data):\n",
    "    for num in range(len(list_data)):\n",
    "        list_data[num] = (\" \").join(list_data[num])"
   ]
  },
  {
   "cell_type": "code",
   "execution_count": 102,
   "metadata": {
    "collapsed": true
   },
   "outputs": [],
   "source": [
    "data_join(train_q)\n",
    "data_join(train_r)\n",
    "data_join(test_q)\n",
    "data_join(test_r)\n",
    "data_join(corpus_data)"
   ]
  },
  {
   "cell_type": "code",
   "execution_count": 103,
   "metadata": {},
   "outputs": [
    {
     "name": "stdout",
     "output_type": "stream",
     "text": [
      "10157\n",
      "10157\n",
      "22513\n",
      "22513\n",
      "32670\n"
     ]
    }
   ],
   "source": [
    "print(len(train_q))\n",
    "print(len(train_r))\n",
    "print(len(test_q))\n",
    "print(len(test_r))\n",
    "print(len(corpus_data))"
   ]
  },
  {
   "cell_type": "code",
   "execution_count": 104,
   "metadata": {},
   "outputs": [
    {
     "data": {
      "text/plain": [
       "['bridal shower decor accent pillow heart design red black red satin accent pillow embroid heart black thread',\n",
       " 'led christma light set batteri oper multi led train christma light clear wire set batteri oper train christma light featur multi bulb match train light cover clear wire multi consist red green blue yellow bulb number bulb string bulb micro led space bulb inch light length feet total length feet inch lead cord addit product featur led light use less energi cool touch one bulb burn rest stay lit light equip lamp lock featur make replac interchang keep fall requir aa batteri includ conveni timer switch locat batteri pack timer function batteri pack allow hour hour cannot connect multipl set togeth list indoor use train dimens materi plastic wire acryl',\n",
       " 'projector viewson pro dlp multimedia projector',\n",
       " 'wine rack concept housewar wr solid wood ceil wall mount wine rack charcoal grey bottl like silent sturdi tree southern enterpris bird branch coat rack eye catch addit home cor tree theme coat rack featur branch pinecon accent small bird perch top give whimsic welcom appear still make sturdi enough hold coat hat umbrella whether serv coat rack hat rack combin two great space saver get appreci grace appear number hook frame materi metal hardwar materi metal dimens weight lb assembl detail assembl requir',\n",
       " 'light bulb wintergreen light christma led light bulb pack wtgr featur nickel base averag hour acryl resin bulb materi christma light bulb steadi dimmabl replac lamp nickel base prevent corros socket wattag watt voltag volt dimmabl ye light sourc led bulb shape type candl amber bulb amber']"
      ]
     },
     "execution_count": 104,
     "metadata": {},
     "output_type": "execute_result"
    }
   ],
   "source": [
    "corpus_data[:5]"
   ]
  },
  {
   "cell_type": "markdown",
   "metadata": {},
   "source": [
    "## TF-IDF"
   ]
  },
  {
   "cell_type": "code",
   "execution_count": 106,
   "metadata": {
    "collapsed": true
   },
   "outputs": [],
   "source": [
    "tfv = TfidfVectorizer(analyzer='word', token_pattern=r'\\w+', ngram_range=(1, 3), stop_words = 'english')"
   ]
  },
  {
   "cell_type": "code",
   "execution_count": 107,
   "metadata": {},
   "outputs": [
    {
     "name": "stdout",
     "output_type": "stream",
     "text": [
      "Wall time: 18.9 s\n"
     ]
    },
    {
     "data": {
      "text/plain": [
       "TfidfVectorizer(analyzer='word', binary=False, decode_error='strict',\n",
       "        dtype=<class 'numpy.int64'>, encoding='utf-8', input='content',\n",
       "        lowercase=True, max_df=1.0, max_features=None, min_df=1,\n",
       "        ngram_range=(1, 3), norm='l2', preprocessor=None, smooth_idf=True,\n",
       "        stop_words='english', strip_accents=None, sublinear_tf=False,\n",
       "        token_pattern='\\\\w+', tokenizer=None, use_idf=True,\n",
       "        vocabulary=None)"
      ]
     },
     "execution_count": 107,
     "metadata": {},
     "output_type": "execute_result"
    }
   ],
   "source": [
    "%%time\n",
    "tfv.fit(corpus_data)"
   ]
  },
  {
   "cell_type": "code",
   "execution_count": 108,
   "metadata": {},
   "outputs": [
    {
     "name": "stdout",
     "output_type": "stream",
     "text": [
      "Wall time: 8.3 s\n"
     ]
    }
   ],
   "source": [
    "%%time\n",
    "train_Q = tfv.transform(train_q)\n",
    "train_R = tfv.transform(train_r)\n",
    "test_Q = tfv.transform(test_q)\n",
    "test_R = tfv.transform(test_r)"
   ]
  },
  {
   "cell_type": "code",
   "execution_count": 109,
   "metadata": {
    "collapsed": true
   },
   "outputs": [],
   "source": [
    "from scipy.sparse import hstack"
   ]
  },
  {
   "cell_type": "code",
   "execution_count": 110,
   "metadata": {
    "collapsed": true
   },
   "outputs": [],
   "source": [
    "train_X = hstack((train_Q, train_R))"
   ]
  },
  {
   "cell_type": "code",
   "execution_count": 111,
   "metadata": {
    "collapsed": true
   },
   "outputs": [],
   "source": [
    "test_X = hstack((test_Q, test_R))"
   ]
  },
  {
   "cell_type": "code",
   "execution_count": 112,
   "metadata": {},
   "outputs": [
    {
     "name": "stdout",
     "output_type": "stream",
     "text": [
      "(10157, 1355653)\n",
      "(10157, 1355653)\n",
      "(22513, 1355653)\n",
      "(22513, 1355653)\n",
      "(10157, 2711306)\n",
      "(22513, 2711306)\n"
     ]
    }
   ],
   "source": [
    "print(train_Q.shape)\n",
    "print(train_R.shape)\n",
    "print(test_Q.shape)\n",
    "print(test_R.shape)\n",
    "print(train_X.shape)\n",
    "print(test_X.shape)"
   ]
  },
  {
   "cell_type": "code",
   "execution_count": 113,
   "metadata": {},
   "outputs": [
    {
     "data": {
      "text/plain": [
       "['train_X_mixed.pkl']"
      ]
     },
     "execution_count": 113,
     "metadata": {},
     "output_type": "execute_result"
    }
   ],
   "source": [
    "joblib.dump(train_X, 'train_X_mixed.pkl')"
   ]
  },
  {
   "cell_type": "code",
   "execution_count": 114,
   "metadata": {},
   "outputs": [
    {
     "data": {
      "text/plain": [
       "['test_X_mixed.pkl']"
      ]
     },
     "execution_count": 114,
     "metadata": {},
     "output_type": "execute_result"
    }
   ],
   "source": [
    "joblib.dump(test_X, 'test_X_mixed.pkl')"
   ]
  },
  {
   "cell_type": "code",
   "execution_count": null,
   "metadata": {
    "collapsed": true
   },
   "outputs": [],
   "source": []
  }
 ],
 "metadata": {
  "kernelspec": {
   "display_name": "Python 3",
   "language": "python",
   "name": "python3"
  },
  "language_info": {
   "codemirror_mode": {
    "name": "ipython",
    "version": 3
   },
   "file_extension": ".py",
   "mimetype": "text/x-python",
   "name": "python",
   "nbconvert_exporter": "python",
   "pygments_lexer": "ipython3",
   "version": "3.6.3"
  }
 },
 "nbformat": 4,
 "nbformat_minor": 2
}
