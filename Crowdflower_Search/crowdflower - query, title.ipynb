{
 "cells": [
  {
   "cell_type": "code",
   "execution_count": 2,
   "metadata": {
    "collapsed": true
   },
   "outputs": [],
   "source": [
    "import numpy as np\n",
    "import pandas as pd\n",
    "import sklearn as sk\n",
    "\n",
    "import matplotlib as mpl\n",
    "import matplotlib.pylab as plt\n",
    "from mpl_toolkits.mplot3d import Axes3D\n",
    "\n",
    "from sklearn.metrics import confusion_matrix, classification_report, roc_curve, auc, roc_auc_score, accuracy_score\n",
    "\n",
    "import joblib\n",
    "from joblib import dump, load\n",
    "\n",
    "pd.options.display.max_columns = 400\n",
    "pd.options.display.max_rows = 200\n",
    "pd.options.display.max_colwidth = 600\n",
    "pd.options.display.precision = 10"
   ]
  },
  {
   "cell_type": "code",
   "execution_count": 3,
   "metadata": {
    "collapsed": true
   },
   "outputs": [],
   "source": [
    "df_train = pd.read_excel(\"C:/Users/tjdal/Desktop/fast_campus/Project/individual_project/Crowdflower_Search/__data/excel/train.xlsx\").fillna(\"\")"
   ]
  },
  {
   "cell_type": "code",
   "execution_count": 4,
   "metadata": {
    "collapsed": true
   },
   "outputs": [],
   "source": [
    "df_test = pd.read_excel(\"C:/Users/tjdal/Desktop/fast_campus/Project/individual_project/Crowdflower_Search/__data/excel/test.xlsx\").fillna(\"\")"
   ]
  },
  {
   "cell_type": "code",
   "execution_count": 5,
   "metadata": {
    "collapsed": true
   },
   "outputs": [],
   "source": [
    "test_sub = pd.read_excel(\"C:/Users/tjdal/Desktop/fast_campus/Project/individual_project/Crowdflower_Search/__data/excel/sampleSubmission.xlsx\")"
   ]
  },
  {
   "cell_type": "code",
   "execution_count": 6,
   "metadata": {
    "collapsed": true
   },
   "outputs": [],
   "source": [
    "df_train = df_train.drop('Unnamed: 6', axis = 1)\n",
    "df_train = df_train.drop('Unnamed: 7', axis = 1)\n",
    "df_train = df_train.drop('relevance_variance', axis = 1)"
   ]
  },
  {
   "cell_type": "code",
   "execution_count": 7,
   "metadata": {
    "collapsed": true
   },
   "outputs": [],
   "source": [
    "df_test = df_test.drop('Unnamed: 4', axis = 1)\n",
    "df_test = df_test.drop('Unnamed: 5', axis = 1)"
   ]
  },
  {
   "cell_type": "markdown",
   "metadata": {},
   "source": [
    "### df_test / test_sub matching"
   ]
  },
  {
   "cell_type": "code",
   "execution_count": 8,
   "metadata": {},
   "outputs": [
    {
     "name": "stdout",
     "output_type": "stream",
     "text": [
      "22511\n",
      "22513\n"
     ]
    }
   ],
   "source": [
    "print(len(df_test))\n",
    "print(len(test_sub))"
   ]
  },
  {
   "cell_type": "code",
   "execution_count": 9,
   "metadata": {},
   "outputs": [
    {
     "name": "stdout",
     "output_type": "stream",
     "text": [
      "[23102, 24760]\n"
     ]
    }
   ],
   "source": [
    "# submission 에는 있지만 test data 에는 존재하지 않는 'id' 확인\n",
    "\n",
    "no_sub = []\n",
    "for num in range(len(test_sub['id'])):\n",
    "    if test_sub['id'][num] not in df_test['id'].values:\n",
    "        no_sub.append(test_sub['id'][num])\n",
    "\n",
    "print(no_sub)"
   ]
  },
  {
   "cell_type": "code",
   "execution_count": 10,
   "metadata": {},
   "outputs": [
    {
     "name": "stdout",
     "output_type": "stream",
     "text": [
      "index :  15947 value :  23102\n",
      "index :  17085 value :  24760\n"
     ]
    }
   ],
   "source": [
    "# 위의 'id' 값의 index 확인\n",
    "\n",
    "for num in range(len(test_sub.values)):\n",
    "    if test_sub['id'].values[num] in no_sub:\n",
    "        print('index : ', test_sub.index[num], 'value : ', test_sub['id'].values[num])"
   ]
  },
  {
   "cell_type": "code",
   "execution_count": 11,
   "metadata": {
    "collapsed": true
   },
   "outputs": [],
   "source": [
    "# 존재하지 않는 'id' index 제거\n",
    "\n",
    "test_sub = test_sub.drop(17085, axis=0)\n",
    "test_sub = test_sub.drop(15947, axis=0)"
   ]
  },
  {
   "cell_type": "code",
   "execution_count": 12,
   "metadata": {},
   "outputs": [
    {
     "name": "stdout",
     "output_type": "stream",
     "text": [
      "23098\n",
      "23101\n",
      "23103\n",
      "23104\n"
     ]
    }
   ],
   "source": [
    "print(test_sub['id'].values[15945])\n",
    "print(test_sub['id'].values[15946])\n",
    "print(test_sub['id'].values[15947])\n",
    "print(test_sub['id'].values[15948])"
   ]
  },
  {
   "cell_type": "code",
   "execution_count": 13,
   "metadata": {},
   "outputs": [
    {
     "name": "stdout",
     "output_type": "stream",
     "text": [
      "24759\n",
      "24761\n",
      "24762\n",
      "24764\n"
     ]
    }
   ],
   "source": [
    "print(test_sub['id'].values[17083])\n",
    "print(test_sub['id'].values[17084])\n",
    "print(test_sub['id'].values[17085])\n",
    "print(test_sub['id'].values[17086])"
   ]
  },
  {
   "cell_type": "code",
   "execution_count": 14,
   "metadata": {
    "collapsed": true
   },
   "outputs": [],
   "source": [
    "y = df_train['median_relevance']"
   ]
  },
  {
   "cell_type": "code",
   "execution_count": 15,
   "metadata": {
    "collapsed": true
   },
   "outputs": [],
   "source": [
    "y = joblib.load('y.pkl')"
   ]
  },
  {
   "cell_type": "markdown",
   "metadata": {},
   "source": [
    "### Corpus 제작 및 Question / Result 구분"
   ]
  },
  {
   "cell_type": "code",
   "execution_count": 16,
   "metadata": {
    "collapsed": true
   },
   "outputs": [],
   "source": [
    "train_corpus = df_train.drop('id', axis = 1)\n",
    "train_corpus = train_corpus.drop('product_description', axis = 1)\n",
    "train_corpus = train_corpus.drop('median_relevance', axis = 1)"
   ]
  },
  {
   "cell_type": "code",
   "execution_count": 17,
   "metadata": {
    "collapsed": true
   },
   "outputs": [],
   "source": [
    "test_corpus = df_test.drop('id', axis = 1)\n",
    "test_corpus = test_corpus.drop('product_description', axis = 1)"
   ]
  },
  {
   "cell_type": "code",
   "execution_count": 18,
   "metadata": {
    "collapsed": true
   },
   "outputs": [],
   "source": [
    "df_corpus = pd.concat([train_corpus, test_corpus], axis=0)"
   ]
  },
  {
   "cell_type": "code",
   "execution_count": 19,
   "metadata": {
    "scrolled": true
   },
   "outputs": [
    {
     "data": {
      "text/html": [
       "<div>\n",
       "<style>\n",
       "    .dataframe thead tr:only-child th {\n",
       "        text-align: right;\n",
       "    }\n",
       "\n",
       "    .dataframe thead th {\n",
       "        text-align: left;\n",
       "    }\n",
       "\n",
       "    .dataframe tbody tr th {\n",
       "        vertical-align: top;\n",
       "    }\n",
       "</style>\n",
       "<table border=\"1\" class=\"dataframe\">\n",
       "  <thead>\n",
       "    <tr style=\"text-align: right;\">\n",
       "      <th></th>\n",
       "      <th>query</th>\n",
       "      <th>product_title</th>\n",
       "    </tr>\n",
       "  </thead>\n",
       "  <tbody>\n",
       "    <tr>\n",
       "      <th>0</th>\n",
       "      <td>bridal shower decorations</td>\n",
       "      <td>Accent Pillow with Heart Design - Red/Black</td>\n",
       "    </tr>\n",
       "    <tr>\n",
       "      <th>1</th>\n",
       "      <td>led christmas lights</td>\n",
       "      <td>Set of 10 Battery Operated Multi LED Train Christmas Lights - Clear Wire</td>\n",
       "    </tr>\n",
       "    <tr>\n",
       "      <th>2</th>\n",
       "      <td>projector</td>\n",
       "      <td>ViewSonic Pro8200 DLP Multimedia Projector</td>\n",
       "    </tr>\n",
       "    <tr>\n",
       "      <th>3</th>\n",
       "      <td>wine rack</td>\n",
       "      <td>Concept Housewares WR-44526 Solid-Wood Ceiling/Wall-Mount Wine Rack, Charcoal Grey, 6 Bottle</td>\n",
       "    </tr>\n",
       "    <tr>\n",
       "      <th>4</th>\n",
       "      <td>light bulb</td>\n",
       "      <td>Wintergreen Lighting Christmas LED Light Bulb (Pack of 25)</td>\n",
       "    </tr>\n",
       "    <tr>\n",
       "      <th>5</th>\n",
       "      <td>oakley polarized radar</td>\n",
       "      <td>Oakley Sunglasses - Radar Path Polished Black/Gray Sunglasses</td>\n",
       "    </tr>\n",
       "    <tr>\n",
       "      <th>6</th>\n",
       "      <td>boyfriend jeans</td>\n",
       "      <td>How To Make An American Quilt (DVD)</td>\n",
       "    </tr>\n",
       "    <tr>\n",
       "      <th>7</th>\n",
       "      <td>screen protector samsung</td>\n",
       "      <td>ZAGG InvisibleShield Cell Phone Screen Protector for Samsung Galaxy S4 Mini</td>\n",
       "    </tr>\n",
       "    <tr>\n",
       "      <th>8</th>\n",
       "      <td>pots and pans set</td>\n",
       "      <td>Cook N Home Stainless Steel 4-Piece Pasta Cooker/ Steamer Multi-pots with Encapsulated Bottom, 8-Quart</td>\n",
       "    </tr>\n",
       "    <tr>\n",
       "      <th>9</th>\n",
       "      <td>waffle maker</td>\n",
       "      <td>Presto FlipSide Electric Waffle Maker- 03510</td>\n",
       "    </tr>\n",
       "    <tr>\n",
       "      <th>10</th>\n",
       "      <td>oakley radar</td>\n",
       "      <td>Oakley Radar Pitch Replacement Lens Gray, One Size</td>\n",
       "    </tr>\n",
       "    <tr>\n",
       "      <th>11</th>\n",
       "      <td>workout clothes for women</td>\n",
       "      <td>Plus Size Peyton Tank - Tulah</td>\n",
       "    </tr>\n",
       "    <tr>\n",
       "      <th>12</th>\n",
       "      <td>decorative pillows</td>\n",
       "      <td>Surya Ruffle Circle Decorative Pillows Gray 18x18 Poly Fill</td>\n",
       "    </tr>\n",
       "    <tr>\n",
       "      <th>13</th>\n",
       "      <td>wall clocks</td>\n",
       "      <td>Lorell Round ProFile Radio Controlled Wall Clock</td>\n",
       "    </tr>\n",
       "    <tr>\n",
       "      <th>14</th>\n",
       "      <td>cuisinart coffee maker</td>\n",
       "      <td>Cuisinart DCC-3200 PerfecTemp 14-Cup Programmable Coffeemaker</td>\n",
       "    </tr>\n",
       "    <tr>\n",
       "      <th>15</th>\n",
       "      <td>thomas the train</td>\n",
       "      <td>Bachmann Trains Thomas' Christmas Express Ho Scale Ready To Run Electric Train Set</td>\n",
       "    </tr>\n",
       "    <tr>\n",
       "      <th>16</th>\n",
       "      <td>silver necklace</td>\n",
       "      <td>Fremada Sterling Silver Freeform Necklace</td>\n",
       "    </tr>\n",
       "    <tr>\n",
       "      <th>17</th>\n",
       "      <td>bluray hobbit extended</td>\n",
       "      <td>The Hobbit: The Battle of The Five Armies (3D) Blu-ray Disc (Anamorphic Widescreen 16:9)</td>\n",
       "    </tr>\n",
       "    <tr>\n",
       "      <th>18</th>\n",
       "      <td>cat grass</td>\n",
       "      <td>Gimborn 731072 Cat Grass Plus Single Cat 60Gr</td>\n",
       "    </tr>\n",
       "    <tr>\n",
       "      <th>19</th>\n",
       "      <td>soda stream</td>\n",
       "      <td>SodaStream Home Soda Maker Kit</td>\n",
       "    </tr>\n",
       "    <tr>\n",
       "      <th>20</th>\n",
       "      <td>microwave</td>\n",
       "      <td>Frigidaire FFCE1439LB - microwave oven - freestanding - black</td>\n",
       "    </tr>\n",
       "    <tr>\n",
       "      <th>21</th>\n",
       "      <td>aqua shoes</td>\n",
       "      <td>Nurse Mates Bryar (Women's) Aqua</td>\n",
       "    </tr>\n",
       "    <tr>\n",
       "      <th>22</th>\n",
       "      <td>leather mens briefcase</td>\n",
       "      <td>Royce Leather RFID Blocking Men's Bifold Wallet with Double ID Flap in Genuine Leather</td>\n",
       "    </tr>\n",
       "    <tr>\n",
       "      <th>23</th>\n",
       "      <td>girls halloween costumes</td>\n",
       "      <td>Colonial Girl Child Halloween Costume</td>\n",
       "    </tr>\n",
       "    <tr>\n",
       "      <th>24</th>\n",
       "      <td>knife victorinox</td>\n",
       "      <td>Victorinox Swiss Army 5.25 Serrated Utility Knife</td>\n",
       "    </tr>\n",
       "    <tr>\n",
       "      <th>25</th>\n",
       "      <td>micro usb to hdmi</td>\n",
       "      <td>CIRAGO Cirago MHL1000 MHL Adapter, Micro USB to HDMI Black</td>\n",
       "    </tr>\n",
       "    <tr>\n",
       "      <th>26</th>\n",
       "      <td>zippo</td>\n",
       "      <td>Zippo Windproof Satin Chrome Serenity Prayer Lighter , # 28458, New In Box</td>\n",
       "    </tr>\n",
       "    <tr>\n",
       "      <th>27</th>\n",
       "      <td>sleeping bags</td>\n",
       "      <td>Snugpak Chrysalis 3 Sleeping Bag</td>\n",
       "    </tr>\n",
       "    <tr>\n",
       "      <th>28</th>\n",
       "      <td>routers</td>\n",
       "      <td>Belkin WiFi Range Extender - White (F9K1015)</td>\n",
       "    </tr>\n",
       "    <tr>\n",
       "      <th>29</th>\n",
       "      <td>hello kitty</td>\n",
       "      <td>Girls' Hello Kitty Polka Dot Footed Sleeper</td>\n",
       "    </tr>\n",
       "    <tr>\n",
       "      <th>30</th>\n",
       "      <td>golf clubs</td>\n",
       "      <td>Pinemeadow Golf Nitrix Pro Men's Complete 12-Piece Golf Club Set, Right-Handed</td>\n",
       "    </tr>\n",
       "    <tr>\n",
       "      <th>31</th>\n",
       "      <td>converse low top</td>\n",
       "      <td>Converse Chuck Taylor Low Top Sneaker - Women's</td>\n",
       "    </tr>\n",
       "    <tr>\n",
       "      <th>32</th>\n",
       "      <td>memory foam pillow</td>\n",
       "      <td>Sleep Innovations 2-in-1 Reversible Memory Foam Pillow</td>\n",
       "    </tr>\n",
       "    <tr>\n",
       "      <th>33</th>\n",
       "      <td>kitchen faucet</td>\n",
       "      <td>Modern Single Lever Oil Rubbed Bronze Kitchen Faucet</td>\n",
       "    </tr>\n",
       "    <tr>\n",
       "      <th>34</th>\n",
       "      <td>hollister polo</td>\n",
       "      <td>George Men's Short Sleeve Polo</td>\n",
       "    </tr>\n",
       "    <tr>\n",
       "      <th>35</th>\n",
       "      <td>dc shoes black</td>\n",
       "      <td>Women's DC Shoes Trase TX Black/White</td>\n",
       "    </tr>\n",
       "    <tr>\n",
       "      <th>36</th>\n",
       "      <td>donut shoppe k cups</td>\n",
       "      <td>Keurig Donut Shop Medium Roast Coffee K-Cups 3 Count</td>\n",
       "    </tr>\n",
       "    <tr>\n",
       "      <th>37</th>\n",
       "      <td>hollister polo</td>\n",
       "      <td>Cold-Eeze Cold Remedy Lozenges, Sugar Free, Honey Lemon, 18 ea</td>\n",
       "    </tr>\n",
       "    <tr>\n",
       "      <th>38</th>\n",
       "      <td>eye cream</td>\n",
       "      <td>Obagi Elastiderm Eye Treatment Cream 0.5 oz / 15g Authentic NiB Sealed [5]</td>\n",
       "    </tr>\n",
       "    <tr>\n",
       "      <th>39</th>\n",
       "      <td>plantronics corded headset</td>\n",
       "      <td>Plantronics 26088-11 Starset II H31 Mono Corded In the Ear Headset</td>\n",
       "    </tr>\n",
       "    <tr>\n",
       "      <th>40</th>\n",
       "      <td>sleeping bags</td>\n",
       "      <td>Wildkin Stay Warm 30-Degree Kids' Sleeping Bag, Pink Leopard</td>\n",
       "    </tr>\n",
       "    <tr>\n",
       "      <th>41</th>\n",
       "      <td>ps3 wireless controller</td>\n",
       "      <td>PS3 Dualshock 3 Wireless Controller - Urban Camouflage</td>\n",
       "    </tr>\n",
       "    <tr>\n",
       "      <th>42</th>\n",
       "      <td>bluesky gel nail polish</td>\n",
       "      <td>Bluesky 0.33oz Soak Off UV Gel Nail Polish Purple, FEDORA, 510</td>\n",
       "    </tr>\n",
       "    <tr>\n",
       "      <th>43</th>\n",
       "      <td>yankee candle</td>\n",
       "      <td>Yankee Candle BLACK COCONUT Large Jar 22 oz.  BRAND NEW  PRIORITY SHIPPING !!!!!</td>\n",
       "    </tr>\n",
       "    <tr>\n",
       "      <th>44</th>\n",
       "      <td>projector</td>\n",
       "      <td>InFocus Projector Lamp for the IN112a, IN114a, IN116a</td>\n",
       "    </tr>\n",
       "    <tr>\n",
       "      <th>45</th>\n",
       "      <td>macbook case 13 case</td>\n",
       "      <td>MacAlly 13 MacBook Air Case\"</td>\n",
       "    </tr>\n",
       "    <tr>\n",
       "      <th>46</th>\n",
       "      <td>girls halloween costumes</td>\n",
       "      <td>Crayola Blue Tween Halloween Costume, Size: Teen Girls' - One Size</td>\n",
       "    </tr>\n",
       "    <tr>\n",
       "      <th>47</th>\n",
       "      <td>iphone 5</td>\n",
       "      <td>Mophie Juice Pack Plus for iPhone 5 - Red</td>\n",
       "    </tr>\n",
       "    <tr>\n",
       "      <th>48</th>\n",
       "      <td>vanity fair bras</td>\n",
       "      <td>Vanity Fair 100 Years (Hardcover)</td>\n",
       "    </tr>\n",
       "    <tr>\n",
       "      <th>49</th>\n",
       "      <td>duffle bag</td>\n",
       "      <td>Pittsburgh Steelers Roadblock Duffel - Black</td>\n",
       "    </tr>\n",
       "    <tr>\n",
       "      <th>50</th>\n",
       "      <td>white plain dinner set</td>\n",
       "      <td>Corelle Plain White Dinner Plate 10 1/4 Set of 2\"</td>\n",
       "    </tr>\n",
       "    <tr>\n",
       "      <th>51</th>\n",
       "      <td>dress shirts</td>\n",
       "      <td>George Boys' 2 Piece Dress Shirt and Tie Set</td>\n",
       "    </tr>\n",
       "    <tr>\n",
       "      <th>52</th>\n",
       "      <td>led christmas lights</td>\n",
       "      <td>Set of 96 Twinkling Warm White LED Christmas Lights Extension Set - Black Wire</td>\n",
       "    </tr>\n",
       "    <tr>\n",
       "      <th>53</th>\n",
       "      <td>steel necklace</td>\n",
       "      <td>Fashion Gift Men's 316L Stainless Steel Cross Pendant Necklace Chain Silver</td>\n",
       "    </tr>\n",
       "    <tr>\n",
       "      <th>54</th>\n",
       "      <td>kitchenaid mixer</td>\n",
       "      <td>KitchenAid RRFGA Food Grinder Mixer Attachment (Refurbished)</td>\n",
       "    </tr>\n",
       "    <tr>\n",
       "      <th>55</th>\n",
       "      <td>dc shoes black</td>\n",
       "      <td>Boys' DC Shoes Pure Black/Grey/Yellow</td>\n",
       "    </tr>\n",
       "    <tr>\n",
       "      <th>56</th>\n",
       "      <td>duffle bag</td>\n",
       "      <td>Every Day Carry Tactical Large Heavy Duty Carry All Shoulder Duffle Bag - ODG</td>\n",
       "    </tr>\n",
       "    <tr>\n",
       "      <th>57</th>\n",
       "      <td>hello kitty</td>\n",
       "      <td>Sanrio Co. 'Hello Kitty' Women's 3.4-ounce Eau de Toilette (Tester) Spray</td>\n",
       "    </tr>\n",
       "    <tr>\n",
       "      <th>58</th>\n",
       "      <td>pots and pans set</td>\n",
       "      <td>Cookware Pots And Pans Set 7 Piece Stainless Steel Kitchen Food Cooking</td>\n",
       "    </tr>\n",
       "    <tr>\n",
       "      <th>59</th>\n",
       "      <td>electric blanket</td>\n",
       "      <td>Sunbeam Heated Electric Blanket Channeled Microplush King Size Slate Grey</td>\n",
       "    </tr>\n",
       "    <tr>\n",
       "      <th>60</th>\n",
       "      <td>aveeno shampoo</td>\n",
       "      <td>Herbal Essences Body Envy Volumizing Shampoo, 33.8 oz</td>\n",
       "    </tr>\n",
       "    <tr>\n",
       "      <th>61</th>\n",
       "      <td>blender</td>\n",
       "      <td>Bosch Universal Plus Blender Pitcher</td>\n",
       "    </tr>\n",
       "    <tr>\n",
       "      <th>62</th>\n",
       "      <td>skechers womens shoes</td>\n",
       "      <td>Danskin Now Girl's Bungee Tie Cross-trainer Shoe</td>\n",
       "    </tr>\n",
       "    <tr>\n",
       "      <th>63</th>\n",
       "      <td>bird seed feeder</td>\n",
       "      <td>Perky-Pet Mason Jar Wild Bird Feeder , New, Free Shipping</td>\n",
       "    </tr>\n",
       "    <tr>\n",
       "      <th>64</th>\n",
       "      <td>long prom dress</td>\n",
       "      <td>R &amp; M Richards Petites' Long Lace Mesh Ribbon Belt Dress</td>\n",
       "    </tr>\n",
       "    <tr>\n",
       "      <th>65</th>\n",
       "      <td>led christmas lights</td>\n",
       "      <td>Swirling LED Lighted Christmas Tree Glitterdome Figure with Winter Town Scene</td>\n",
       "    </tr>\n",
       "    <tr>\n",
       "      <th>66</th>\n",
       "      <td>harleydavidson</td>\n",
       "      <td>Harley Davidson - Eagle' Framed Art Print with Gel Coated Finish</td>\n",
       "    </tr>\n",
       "    <tr>\n",
       "      <th>67</th>\n",
       "      <td>harleydavidson</td>\n",
       "      <td>Ultimate Harley-Davidson (Hardcover)</td>\n",
       "    </tr>\n",
       "    <tr>\n",
       "      <th>68</th>\n",
       "      <td>bike lock</td>\n",
       "      <td>Wordlock Bike Lock Match Key 10mm 5ft - Black</td>\n",
       "    </tr>\n",
       "    <tr>\n",
       "      <th>69</th>\n",
       "      <td>rain jacket</td>\n",
       "      <td>Cloudburst Rain Jacket</td>\n",
       "    </tr>\n",
       "    <tr>\n",
       "      <th>70</th>\n",
       "      <td>duffle bag</td>\n",
       "      <td>WalterDrake Duffle Bag</td>\n",
       "    </tr>\n",
       "    <tr>\n",
       "      <th>71</th>\n",
       "      <td>lego star wars</td>\n",
       "      <td>Lego Star Wars Republic Frigate (7694) No minifigs</td>\n",
       "    </tr>\n",
       "    <tr>\n",
       "      <th>72</th>\n",
       "      <td>reusable straws</td>\n",
       "      <td>Itzy Ritzy Snack Happens Reusable Snack Bag with Thermos Straw Bottle, Jungle</td>\n",
       "    </tr>\n",
       "    <tr>\n",
       "      <th>73</th>\n",
       "      <td>projector</td>\n",
       "      <td>LG PH300 Minibeam LED Projector with Embedded Battery and Built-in Digital Tuner</td>\n",
       "    </tr>\n",
       "    <tr>\n",
       "      <th>74</th>\n",
       "      <td>kitchenaid glass bowl</td>\n",
       "      <td>KitchenAid K5GB 5 Qt. Glass Bowl for Stand Mixer - NEW IN BOX</td>\n",
       "    </tr>\n",
       "    <tr>\n",
       "      <th>75</th>\n",
       "      <td>yoga mat</td>\n",
       "      <td>The Macbeth Collection Margarita Fashion Yoga Mat</td>\n",
       "    </tr>\n",
       "    <tr>\n",
       "      <th>76</th>\n",
       "      <td>portable hard drive</td>\n",
       "      <td>Toshiba Canvio Connect 2TB Portable External Hard Drive, Black</td>\n",
       "    </tr>\n",
       "    <tr>\n",
       "      <th>77</th>\n",
       "      <td>harleydavidson</td>\n",
       "      <td>Harley-Davidson and Philosophy (Paperback)</td>\n",
       "    </tr>\n",
       "    <tr>\n",
       "      <th>78</th>\n",
       "      <td>rice cooker</td>\n",
       "      <td>Stainless Steel 10-cup Rice Cooker with Steam Tray</td>\n",
       "    </tr>\n",
       "    <tr>\n",
       "      <th>79</th>\n",
       "      <td>ps3 wireless controller</td>\n",
       "      <td>Rock Candy Wireless Controller, Red (PS3)</td>\n",
       "    </tr>\n",
       "    <tr>\n",
       "      <th>80</th>\n",
       "      <td>power surge protector</td>\n",
       "      <td>Accell Powramid Power Center and Surge Protector</td>\n",
       "    </tr>\n",
       "    <tr>\n",
       "      <th>81</th>\n",
       "      <td>toaster oven</td>\n",
       "      <td>Oster 4-Slice Toaster</td>\n",
       "    </tr>\n",
       "    <tr>\n",
       "      <th>82</th>\n",
       "      <td>face cream</td>\n",
       "      <td>Retinol Face Moisturizer Organic Lilie De Vallee 4 oz Cream</td>\n",
       "    </tr>\n",
       "    <tr>\n",
       "      <th>83</th>\n",
       "      <td>hawaiian shirt</td>\n",
       "      <td>Polo Shirt - Mossimo Supply Co.</td>\n",
       "    </tr>\n",
       "    <tr>\n",
       "      <th>84</th>\n",
       "      <td>multiple phone charger</td>\n",
       "      <td>Samsung Galaxy S5 Mini 16GB Unlocked GSM Dual-SIM Cell Phone</td>\n",
       "    </tr>\n",
       "    <tr>\n",
       "      <th>85</th>\n",
       "      <td>hollister polo</td>\n",
       "      <td>George - Boys' Long-Sleeve Polo Shirts, 4-Pack Value Bundle</td>\n",
       "    </tr>\n",
       "    <tr>\n",
       "      <th>86</th>\n",
       "      <td>table clock</td>\n",
       "      <td>Howard Miller Windsor Carriage Table Clock</td>\n",
       "    </tr>\n",
       "    <tr>\n",
       "      <th>87</th>\n",
       "      <td>rain boot</td>\n",
       "      <td>Women's Black and Red Tall Rain Boots</td>\n",
       "    </tr>\n",
       "    <tr>\n",
       "      <th>88</th>\n",
       "      <td>cat grass</td>\n",
       "      <td>Special Kitty Outdoor Dry Cat Food, 44 lbs</td>\n",
       "    </tr>\n",
       "    <tr>\n",
       "      <th>89</th>\n",
       "      <td>vanity fair bras</td>\n",
       "      <td>Fruit of the Loom - Comfort Front-Close Sports Bra, Style 96014, 4-pack</td>\n",
       "    </tr>\n",
       "    <tr>\n",
       "      <th>90</th>\n",
       "      <td>wii microphone</td>\n",
       "      <td>Official Logitech Rock Band USB Microphone for Xbox 360 Nintendo Wii PS3 Tested</td>\n",
       "    </tr>\n",
       "    <tr>\n",
       "      <th>91</th>\n",
       "      <td>high chairs</td>\n",
       "      <td>Cosco Simple Fold High Chair, Zury</td>\n",
       "    </tr>\n",
       "    <tr>\n",
       "      <th>92</th>\n",
       "      <td>san francisco 49ers</td>\n",
       "      <td>San Francisco 49ers Official NFL Infant One Size Hooded Infant Towel</td>\n",
       "    </tr>\n",
       "    <tr>\n",
       "      <th>93</th>\n",
       "      <td>stick vacuum</td>\n",
       "      <td>Bissell 53Y8 Lift-Off Floors and More Cordless 2-in-1 Stick Vacuum</td>\n",
       "    </tr>\n",
       "    <tr>\n",
       "      <th>94</th>\n",
       "      <td>ice cream maker</td>\n",
       "      <td>Koolatron Deluxe Double Treat Ice Cream Maker  FT03</td>\n",
       "    </tr>\n",
       "    <tr>\n",
       "      <th>95</th>\n",
       "      <td>an extremely goofy movie</td>\n",
       "      <td>A Goofy Movie (Full Frame)</td>\n",
       "    </tr>\n",
       "    <tr>\n",
       "      <th>96</th>\n",
       "      <td>gym gloves</td>\n",
       "      <td>Everlast Wristwrap Glove, Black</td>\n",
       "    </tr>\n",
       "    <tr>\n",
       "      <th>97</th>\n",
       "      <td>double stroller</td>\n",
       "      <td>Contours Options Elite Twin Tandem Double Baby Stroller Sand NEW</td>\n",
       "    </tr>\n",
       "    <tr>\n",
       "      <th>98</th>\n",
       "      <td>wine rack</td>\n",
       "      <td>Jumbo Bin 120-Bottle Mahogany Wine Rack</td>\n",
       "    </tr>\n",
       "    <tr>\n",
       "      <th>99</th>\n",
       "      <td>leather mens briefcase</td>\n",
       "      <td>Leather Briefcase with Removable Laptop Sleeve - Red</td>\n",
       "    </tr>\n",
       "    <tr>\n",
       "      <th>...</th>\n",
       "      <td>...</td>\n",
       "      <td>...</td>\n",
       "    </tr>\n",
       "    <tr>\n",
       "      <th>22411</th>\n",
       "      <td>stick vacuum</td>\n",
       "      <td>Bissell - Bolt Xrt Bagless Cordless 2-in-1 Pet Handheld/stick Vacuum - Labamba Pink/silver</td>\n",
       "    </tr>\n",
       "    <tr>\n",
       "      <th>22412</th>\n",
       "      <td>speck iphone 5 case</td>\n",
       "      <td>New OEM Speck GemShell Case for iPhone 5c Clear Original</td>\n",
       "    </tr>\n",
       "    <tr>\n",
       "      <th>22413</th>\n",
       "      <td>knife victorinox</td>\n",
       "      <td>Victorinox Swiss Army Rosewood 7-piece Block Set</td>\n",
       "    </tr>\n",
       "    <tr>\n",
       "      <th>22414</th>\n",
       "      <td>projector</td>\n",
       "      <td>ViewSonic PJD6543w Networkable WXGA Projector</td>\n",
       "    </tr>\n",
       "    <tr>\n",
       "      <th>22415</th>\n",
       "      <td>dress shirts</td>\n",
       "      <td>George Big Men's Long Sleeve Poplin Dress Shirt</td>\n",
       "    </tr>\n",
       "    <tr>\n",
       "      <th>22416</th>\n",
       "      <td>bluetooth speaker</td>\n",
       "      <td>Latte SoundMagic Mini Bluetooth Speaker - Blue</td>\n",
       "    </tr>\n",
       "    <tr>\n",
       "      <th>22417</th>\n",
       "      <td>solar battery charger</td>\n",
       "      <td>GSM Cyclops Solar Solutions 20 Watt 12 Volt Amorphous Solar Panel Battery Charger</td>\n",
       "    </tr>\n",
       "    <tr>\n",
       "      <th>22418</th>\n",
       "      <td>full tang knife</td>\n",
       "      <td>Full Tang 7-inch All Black Hunting Knife Whistle Sheath Hook Blade</td>\n",
       "    </tr>\n",
       "    <tr>\n",
       "      <th>22419</th>\n",
       "      <td>men earrings diamond squared</td>\n",
       "      <td>Sterling Silver Men's 1/6ct TDW Diamond V-prong Square Stud Earrings (I-J, I2-I3)</td>\n",
       "    </tr>\n",
       "    <tr>\n",
       "      <th>22420</th>\n",
       "      <td>projector</td>\n",
       "      <td>Multimedia HD LCD LED Projector 1080P HDMI USB TV Home Theater Game VGA Video</td>\n",
       "    </tr>\n",
       "    <tr>\n",
       "      <th>22421</th>\n",
       "      <td>nike flip flops</td>\n",
       "      <td>Nike Womens Comfort Thong Sandals</td>\n",
       "    </tr>\n",
       "    <tr>\n",
       "      <th>22422</th>\n",
       "      <td>playstation 4</td>\n",
       "      <td>PlayStation 4 500GB with COD Advanced Warfare &amp; 8 in 1 Kit</td>\n",
       "    </tr>\n",
       "    <tr>\n",
       "      <th>22423</th>\n",
       "      <td>yankee candle</td>\n",
       "      <td>Yankee Candle Perfect Pillar Sage &amp; Citrus Candle</td>\n",
       "    </tr>\n",
       "    <tr>\n",
       "      <th>22424</th>\n",
       "      <td>memory foam pillow</td>\n",
       "      <td>PureCare One Gel Memory Foam Contour Pillow</td>\n",
       "    </tr>\n",
       "    <tr>\n",
       "      <th>22425</th>\n",
       "      <td>laptop lenovo</td>\n",
       "      <td>Lenovo IdeaPad Yoga 2-in-1 11.6in Laptop i5 1.5GHz 4GB 128GB SSD WiFi</td>\n",
       "    </tr>\n",
       "    <tr>\n",
       "      <th>22426</th>\n",
       "      <td>nike shoes</td>\n",
       "      <td>Nike Air Visi Pro V Mens Basketball Shoes</td>\n",
       "    </tr>\n",
       "    <tr>\n",
       "      <th>22427</th>\n",
       "      <td>baseball photo frame</td>\n",
       "      <td>Boston Red Sox MLB Stadium Dirt Coin Photo Frame</td>\n",
       "    </tr>\n",
       "    <tr>\n",
       "      <th>22428</th>\n",
       "      <td>teenage mutant ninja turtles</td>\n",
       "      <td>Teenage Mutant Ninja Turtles 16 oz. Plastic Cup</td>\n",
       "    </tr>\n",
       "    <tr>\n",
       "      <th>22429</th>\n",
       "      <td>cuisinart coffee maker</td>\n",
       "      <td>Cuisinart - 600BC Automatic Grind and Brew Thermal Coffee maker 10 Cup Carafe</td>\n",
       "    </tr>\n",
       "    <tr>\n",
       "      <th>22430</th>\n",
       "      <td>bluetooth speaker</td>\n",
       "      <td>JBL Flip Bluetooth Speaker</td>\n",
       "    </tr>\n",
       "    <tr>\n",
       "      <th>22431</th>\n",
       "      <td>full tang knife</td>\n",
       "      <td>MTECH Full Tang Fixed Black Handle 440 Stainless Black Blade Hunter Knife+Sheath</td>\n",
       "    </tr>\n",
       "    <tr>\n",
       "      <th>22432</th>\n",
       "      <td>shaver panasonic</td>\n",
       "      <td>Panasonic D-Size Alkaline Plus Battery Pack</td>\n",
       "    </tr>\n",
       "    <tr>\n",
       "      <th>22433</th>\n",
       "      <td>neck pillow</td>\n",
       "      <td>Lewis N. Clark Comfort Neck Pillow - Blue</td>\n",
       "    </tr>\n",
       "    <tr>\n",
       "      <th>22434</th>\n",
       "      <td>rain boot</td>\n",
       "      <td>Nomad Puddles Rain Boot - Women's</td>\n",
       "    </tr>\n",
       "    <tr>\n",
       "      <th>22435</th>\n",
       "      <td>face cream</td>\n",
       "      <td>VitaShield Intensive Eye Firming Treatment</td>\n",
       "    </tr>\n",
       "    <tr>\n",
       "      <th>22436</th>\n",
       "      <td>teenage mutant ninja turtles</td>\n",
       "      <td>Teenage Mutant Ninja Turtles 'Turtle Power' Travel Coffee Mug</td>\n",
       "    </tr>\n",
       "    <tr>\n",
       "      <th>22437</th>\n",
       "      <td>pittsburgh pirates</td>\n",
       "      <td>Nike Women's Pittsburgh Pirates Track Jacket</td>\n",
       "    </tr>\n",
       "    <tr>\n",
       "      <th>22438</th>\n",
       "      <td>galaxy note 3</td>\n",
       "      <td>INSTEN Hard Plastic Slim Snap-on Phone Case Cover For Samsung Galaxy Note 3</td>\n",
       "    </tr>\n",
       "    <tr>\n",
       "      <th>22439</th>\n",
       "      <td>silver ring</td>\n",
       "      <td>Loren Jewels Sterling Silver Macrame Bracelet with Black Diamonds</td>\n",
       "    </tr>\n",
       "    <tr>\n",
       "      <th>22440</th>\n",
       "      <td>high heels shoes</td>\n",
       "      <td>Dv by Dolce Vita Talin High Heel Sandals Women's Shoes</td>\n",
       "    </tr>\n",
       "    <tr>\n",
       "      <th>22441</th>\n",
       "      <td>rachel ray cookware</td>\n",
       "      <td>Rachael Ray Stainless Steel Nonstick 11-Piece Cookware Set</td>\n",
       "    </tr>\n",
       "    <tr>\n",
       "      <th>22442</th>\n",
       "      <td>screen protector samsung</td>\n",
       "      <td>Minisuit Kinnect Case + Screen Protector for Samsung Galaxy S4 (Frost Graphite Gray)</td>\n",
       "    </tr>\n",
       "    <tr>\n",
       "      <th>22443</th>\n",
       "      <td>wired xbox 360 controller</td>\n",
       "      <td>Wired USB Game Pad Joypad Controller For MICROSOFT Xbox 360 Slim &amp; PC xmas gift</td>\n",
       "    </tr>\n",
       "    <tr>\n",
       "      <th>22444</th>\n",
       "      <td>cleaning robot</td>\n",
       "      <td>Water Tech Pool Blaster Blue Pearl Robotic Pool Cleaner</td>\n",
       "    </tr>\n",
       "    <tr>\n",
       "      <th>22445</th>\n",
       "      <td>sweater dress</td>\n",
       "      <td>Longsleeve V-Neck Sweater Dress - Mossimo Supply Co.</td>\n",
       "    </tr>\n",
       "    <tr>\n",
       "      <th>22446</th>\n",
       "      <td>gold dress</td>\n",
       "      <td>Auro a Gold Toe Brand Men's 5pk Dress Socks - Black with Assorted Patterns</td>\n",
       "    </tr>\n",
       "    <tr>\n",
       "      <th>22447</th>\n",
       "      <td>cocoa butter</td>\n",
       "      <td>Greenwich Bay Trading Co. Coconut Milk, Macadamia Oil &amp; Pure Honey Exfoliating Spa Soap (Set of 2)</td>\n",
       "    </tr>\n",
       "    <tr>\n",
       "      <th>22448</th>\n",
       "      <td>rain jacket</td>\n",
       "      <td>London Fog Women's Plus Size Single-breasted Double Collar Raincoat</td>\n",
       "    </tr>\n",
       "    <tr>\n",
       "      <th>22449</th>\n",
       "      <td>bedspreads</td>\n",
       "      <td>Plisse Hydrangea Floral Bedspread with Separate Sham</td>\n",
       "    </tr>\n",
       "    <tr>\n",
       "      <th>22450</th>\n",
       "      <td>rachel ray cookware</td>\n",
       "      <td>Rachael Ray Hard-Anodized II Nonstick 3/4-Quart Warmer (5R463)</td>\n",
       "    </tr>\n",
       "    <tr>\n",
       "      <th>22451</th>\n",
       "      <td>solar battery charger</td>\n",
       "      <td>Renogy Premium Solar Panel Kit 300W with 3 100W Poly Panel/ 20 ft. Adapter Kit/ 40A MPPT Controller/ Z Bracket</td>\n",
       "    </tr>\n",
       "    <tr>\n",
       "      <th>22452</th>\n",
       "      <td>cuisinart coffee maker</td>\n",
       "      <td>New Cuisinart DCC-3000 Coffee On Demand 12-Cup Programmable CoffeeMaker</td>\n",
       "    </tr>\n",
       "    <tr>\n",
       "      <th>22453</th>\n",
       "      <td>car window sticker</td>\n",
       "      <td>Duke Blue Devils 2015 Basketball Championship 8</td>\n",
       "    </tr>\n",
       "    <tr>\n",
       "      <th>22454</th>\n",
       "      <td>white jeans</td>\n",
       "      <td>Faded Glory Women's Plus-Size Distressed Boyfriend Jean</td>\n",
       "    </tr>\n",
       "    <tr>\n",
       "      <th>22455</th>\n",
       "      <td>dish towels</td>\n",
       "      <td>Solid Set of 6 Dish Towels and Dish Cloths</td>\n",
       "    </tr>\n",
       "    <tr>\n",
       "      <th>22456</th>\n",
       "      <td>storage ottoman</td>\n",
       "      <td>Microfiber Storage Ottoman</td>\n",
       "    </tr>\n",
       "    <tr>\n",
       "      <th>22457</th>\n",
       "      <td>watch women fossil</td>\n",
       "      <td>Fossil Watch, Women's Emma Gold Tone Stainless Steel Bracelet 38mm ES3113</td>\n",
       "    </tr>\n",
       "    <tr>\n",
       "      <th>22458</th>\n",
       "      <td>tote bag</td>\n",
       "      <td>Royce Leather '24 Hour Tote Bag' Saffiano Leather Tote Bag</td>\n",
       "    </tr>\n",
       "    <tr>\n",
       "      <th>22459</th>\n",
       "      <td>brett favre ny titans jersey blue</td>\n",
       "      <td>New England Patriots Ultimate Hand</td>\n",
       "    </tr>\n",
       "    <tr>\n",
       "      <th>22460</th>\n",
       "      <td>car window sticker</td>\n",
       "      <td>Eddie Bauer 2pk Cling Car Window Shades - Black</td>\n",
       "    </tr>\n",
       "    <tr>\n",
       "      <th>22461</th>\n",
       "      <td>dc shoes black</td>\n",
       "      <td>Blue Children's B-smith Lace-up Shoes</td>\n",
       "    </tr>\n",
       "    <tr>\n",
       "      <th>22462</th>\n",
       "      <td>solar charger</td>\n",
       "      <td>Wakawaka - Power+ Solar Charger And Light - Black</td>\n",
       "    </tr>\n",
       "    <tr>\n",
       "      <th>22463</th>\n",
       "      <td>notebook paper</td>\n",
       "      <td>Bilingual Handyman Notebook in French and English</td>\n",
       "    </tr>\n",
       "    <tr>\n",
       "      <th>22464</th>\n",
       "      <td>robe</td>\n",
       "      <td>Women's Nordstrom Terry Lined Waffle Robe</td>\n",
       "    </tr>\n",
       "    <tr>\n",
       "      <th>22465</th>\n",
       "      <td>ps3 wireless controller</td>\n",
       "      <td>Bluetooth Wireless Double Vibration Controller Remote Console for Sony PS3 Black</td>\n",
       "    </tr>\n",
       "    <tr>\n",
       "      <th>22466</th>\n",
       "      <td>stick vacuum</td>\n",
       "      <td>Metrovac Antistatic 1.7PK HP Accscleaning System</td>\n",
       "    </tr>\n",
       "    <tr>\n",
       "      <th>22467</th>\n",
       "      <td>three wheeled bike</td>\n",
       "      <td>Mobo Shift 20 in. Reversible Three Wheeled Cruiser Recumbent Bicycle</td>\n",
       "    </tr>\n",
       "    <tr>\n",
       "      <th>22468</th>\n",
       "      <td>notebook paper</td>\n",
       "      <td>HP Office Recycled Paper, White, 8 1/2 x 11, Ten 500 Sheet Reams/Carton</td>\n",
       "    </tr>\n",
       "    <tr>\n",
       "      <th>22469</th>\n",
       "      <td>yoga pants</td>\n",
       "      <td>Yoga Sprout Newborn Boys' 2 Pack Yoga Pants - Navy/Green</td>\n",
       "    </tr>\n",
       "    <tr>\n",
       "      <th>22470</th>\n",
       "      <td>power surge protector</td>\n",
       "      <td>Fellowes Basic Home/ Office 6-outlet Surge Protector</td>\n",
       "    </tr>\n",
       "    <tr>\n",
       "      <th>22471</th>\n",
       "      <td>pyrex</td>\n",
       "      <td>Pyrex 6pc Easy Grab Set</td>\n",
       "    </tr>\n",
       "    <tr>\n",
       "      <th>22472</th>\n",
       "      <td>speck iphone 5 case</td>\n",
       "      <td>Speck - Candyshell Amped Case For Apple Iphone 5 And 5s - Black/slate Gray</td>\n",
       "    </tr>\n",
       "    <tr>\n",
       "      <th>22473</th>\n",
       "      <td>aveeno shampoo</td>\n",
       "      <td>Aveeno Pure Renewal 2-in-1 Shampoo &amp; Conditioner</td>\n",
       "    </tr>\n",
       "    <tr>\n",
       "      <th>22474</th>\n",
       "      <td>wireless mouse</td>\n",
       "      <td>Logitech M185 Wireless Mouse - Black/Gray (910-003888)</td>\n",
       "    </tr>\n",
       "    <tr>\n",
       "      <th>22475</th>\n",
       "      <td>chocolate molds</td>\n",
       "      <td>Sacro-Ease Memory Foam Molded Seat; Chocolate</td>\n",
       "    </tr>\n",
       "    <tr>\n",
       "      <th>22476</th>\n",
       "      <td>converse low top</td>\n",
       "      <td>Converse Chuck Taylor Low Top Sneaker - Men's</td>\n",
       "    </tr>\n",
       "    <tr>\n",
       "      <th>22477</th>\n",
       "      <td>girls halloween costumes</td>\n",
       "      <td>RG Costumes Beer Garden Girl Halloween Costume - RG Costumes</td>\n",
       "    </tr>\n",
       "    <tr>\n",
       "      <th>22478</th>\n",
       "      <td>bluetooth speaker</td>\n",
       "      <td>INSTEN Black SK-S10 Portable Mini Mic Micro Card Bluetooth Speaker MP3 Player</td>\n",
       "    </tr>\n",
       "    <tr>\n",
       "      <th>22479</th>\n",
       "      <td>refrigirator</td>\n",
       "      <td>Boelter - Illinois Fighting Illini 32 Cu Ft Compact Refrigerator</td>\n",
       "    </tr>\n",
       "    <tr>\n",
       "      <th>22480</th>\n",
       "      <td>volcom short</td>\n",
       "      <td>VOLCOM Linestone Boys Slim Shorts</td>\n",
       "    </tr>\n",
       "    <tr>\n",
       "      <th>22481</th>\n",
       "      <td>wine rack</td>\n",
       "      <td>24 Bottle Wine Liquor Cabinet Storage Rack Glass Holder Bar Pub Home Furniture</td>\n",
       "    </tr>\n",
       "    <tr>\n",
       "      <th>22482</th>\n",
       "      <td>samsonite</td>\n",
       "      <td>Samsonite Travel Sentry Key Lock, Black, 2/Pack</td>\n",
       "    </tr>\n",
       "    <tr>\n",
       "      <th>22483</th>\n",
       "      <td>tablet accessories</td>\n",
       "      <td>FileMate ECO Faux Leather Case with Elastic and Button Closure for 7 Tablets\"</td>\n",
       "    </tr>\n",
       "    <tr>\n",
       "      <th>22484</th>\n",
       "      <td>cast iron skillet</td>\n",
       "      <td>#8 Unmarked Griswold,  755C, Cast Iron Skillet, Smoke Ring</td>\n",
       "    </tr>\n",
       "    <tr>\n",
       "      <th>22485</th>\n",
       "      <td>tote bag</td>\n",
       "      <td>Color A Tote Bag by Alex</td>\n",
       "    </tr>\n",
       "    <tr>\n",
       "      <th>22486</th>\n",
       "      <td>cast iron skillet</td>\n",
       "      <td>The Heuck 3-Piece Pre-Seasoned Cast Iron Skillet Set, Black</td>\n",
       "    </tr>\n",
       "    <tr>\n",
       "      <th>22487</th>\n",
       "      <td>aqua shoes</td>\n",
       "      <td>New Balance WX711 (Women's) Grey-Aqua</td>\n",
       "    </tr>\n",
       "    <tr>\n",
       "      <th>22488</th>\n",
       "      <td>dean guitar</td>\n",
       "      <td>Dean Zone 4-String Electric Bass Guitar Metallic Black</td>\n",
       "    </tr>\n",
       "    <tr>\n",
       "      <th>22489</th>\n",
       "      <td>sweater dress</td>\n",
       "      <td>Women's Jewel Embellished Sweater Dress</td>\n",
       "    </tr>\n",
       "    <tr>\n",
       "      <th>22490</th>\n",
       "      <td>extenal hardisk 500 gb</td>\n",
       "      <td>ASUS VivoBook V451LA-DS51T - 14</td>\n",
       "    </tr>\n",
       "    <tr>\n",
       "      <th>22491</th>\n",
       "      <td>assassinss creed</td>\n",
       "      <td>Assassin's Creed : Revelations (Paperback)</td>\n",
       "    </tr>\n",
       "    <tr>\n",
       "      <th>22492</th>\n",
       "      <td>pittsburgh pirates</td>\n",
       "      <td>Majestic Men's Pittsburgh Pirates Replica Jersey</td>\n",
       "    </tr>\n",
       "    <tr>\n",
       "      <th>22493</th>\n",
       "      <td>barbie</td>\n",
       "      <td>Women's Latico Barbi Clutch 7920 Clay Leather</td>\n",
       "    </tr>\n",
       "    <tr>\n",
       "      <th>22494</th>\n",
       "      <td>werewolf costume</td>\n",
       "      <td>California Costume Collections CC00880-M Mens Full Moon Madness Werewolf Costume Size Medium</td>\n",
       "    </tr>\n",
       "    <tr>\n",
       "      <th>22495</th>\n",
       "      <td>flower bulbs</td>\n",
       "      <td>Floral Hurricane Antique Brass Finish Table Lamp</td>\n",
       "    </tr>\n",
       "    <tr>\n",
       "      <th>22496</th>\n",
       "      <td>16 gb memory card</td>\n",
       "      <td>Sony 16GB SDHC Class 10 Memory Card</td>\n",
       "    </tr>\n",
       "    <tr>\n",
       "      <th>22497</th>\n",
       "      <td>galaxy note 3</td>\n",
       "      <td>Samsung Galaxy Note 3 Factory Unlocked N900V Black or White Cell Phone</td>\n",
       "    </tr>\n",
       "    <tr>\n",
       "      <th>22498</th>\n",
       "      <td>wired xbox 360 controller</td>\n",
       "      <td>Green light Glow Wired Game Remote Controller for Microsoft Xbox 360 Console</td>\n",
       "    </tr>\n",
       "    <tr>\n",
       "      <th>22499</th>\n",
       "      <td>queen comforter sets</td>\n",
       "      <td>Brett Camouflage 5 Piece Full/Queen Comforter Set Bedding</td>\n",
       "    </tr>\n",
       "    <tr>\n",
       "      <th>22500</th>\n",
       "      <td>vanilla scented perfumes</td>\n",
       "      <td>Lancome Hypnose Women's 1.7-ounce Eau de Parfum Spray</td>\n",
       "    </tr>\n",
       "    <tr>\n",
       "      <th>22501</th>\n",
       "      <td>aroma diffuser</td>\n",
       "      <td>pureguardian Ultrasonic Aroma Spa Diffuser &amp; Alarm Clock</td>\n",
       "    </tr>\n",
       "    <tr>\n",
       "      <th>22502</th>\n",
       "      <td>button down shirt</td>\n",
       "      <td>Brio Milano Men's White/ Gingham Trim Button-down Shirt</td>\n",
       "    </tr>\n",
       "    <tr>\n",
       "      <th>22503</th>\n",
       "      <td>dr who lanyard</td>\n",
       "      <td>Ultra Neck Strap/Lanyard for USB drives</td>\n",
       "    </tr>\n",
       "    <tr>\n",
       "      <th>22504</th>\n",
       "      <td>hawaiian shirt</td>\n",
       "      <td>La Leela Likre Mens' Blue Tropical Printed Beach Swim Camp Hawaiian Shirt</td>\n",
       "    </tr>\n",
       "    <tr>\n",
       "      <th>22505</th>\n",
       "      <td>bluesky gel nail polish</td>\n",
       "      <td>Sally Hansen Miracle Gel Nail Color, Red Eye 0.5 fl oz</td>\n",
       "    </tr>\n",
       "    <tr>\n",
       "      <th>22506</th>\n",
       "      <td>seagate 2tb hard disk</td>\n",
       "      <td>Seagate Backup Plus STDU4000100 4 TB 3.5 External Hard Drive - USB 3.0 - Portable - Silver - 1 Pack\"</td>\n",
       "    </tr>\n",
       "    <tr>\n",
       "      <th>22507</th>\n",
       "      <td>storage ottoman</td>\n",
       "      <td>Chevron Storage Ottoman, Gray and White</td>\n",
       "    </tr>\n",
       "    <tr>\n",
       "      <th>22508</th>\n",
       "      <td>gym gloves</td>\n",
       "      <td>Lion Martial Arts Large Red Grappling Glove Pair</td>\n",
       "    </tr>\n",
       "    <tr>\n",
       "      <th>22509</th>\n",
       "      <td>wreck it ralph</td>\n",
       "      <td>Wreck-It Ralph (Original Score)</td>\n",
       "    </tr>\n",
       "    <tr>\n",
       "      <th>22510</th>\n",
       "      <td>hair accessories</td>\n",
       "      <td>Goody Slide proof Claw Clip, Large (Pack of 2)</td>\n",
       "    </tr>\n",
       "  </tbody>\n",
       "</table>\n",
       "<p>32668 rows × 2 columns</p>\n",
       "</div>"
      ],
      "text/plain": [
       "                                   query  \\\n",
       "0              bridal shower decorations   \n",
       "1                   led christmas lights   \n",
       "2                              projector   \n",
       "3                              wine rack   \n",
       "4                             light bulb   \n",
       "5                 oakley polarized radar   \n",
       "6                        boyfriend jeans   \n",
       "7               screen protector samsung   \n",
       "8                      pots and pans set   \n",
       "9                           waffle maker   \n",
       "10                          oakley radar   \n",
       "11             workout clothes for women   \n",
       "12                    decorative pillows   \n",
       "13                           wall clocks   \n",
       "14                cuisinart coffee maker   \n",
       "15                      thomas the train   \n",
       "16                       silver necklace   \n",
       "17                bluray hobbit extended   \n",
       "18                             cat grass   \n",
       "19                           soda stream   \n",
       "20                             microwave   \n",
       "21                            aqua shoes   \n",
       "22                leather mens briefcase   \n",
       "23              girls halloween costumes   \n",
       "24                      knife victorinox   \n",
       "25                     micro usb to hdmi   \n",
       "26                                 zippo   \n",
       "27                         sleeping bags   \n",
       "28                               routers   \n",
       "29                           hello kitty   \n",
       "30                            golf clubs   \n",
       "31                      converse low top   \n",
       "32                    memory foam pillow   \n",
       "33                        kitchen faucet   \n",
       "34                        hollister polo   \n",
       "35                        dc shoes black   \n",
       "36                   donut shoppe k cups   \n",
       "37                        hollister polo   \n",
       "38                             eye cream   \n",
       "39            plantronics corded headset   \n",
       "40                         sleeping bags   \n",
       "41               ps3 wireless controller   \n",
       "42               bluesky gel nail polish   \n",
       "43                         yankee candle   \n",
       "44                             projector   \n",
       "45                  macbook case 13 case   \n",
       "46              girls halloween costumes   \n",
       "47                              iphone 5   \n",
       "48                      vanity fair bras   \n",
       "49                            duffle bag   \n",
       "50                white plain dinner set   \n",
       "51                          dress shirts   \n",
       "52                  led christmas lights   \n",
       "53                        steel necklace   \n",
       "54                      kitchenaid mixer   \n",
       "55                        dc shoes black   \n",
       "56                            duffle bag   \n",
       "57                           hello kitty   \n",
       "58                     pots and pans set   \n",
       "59                      electric blanket   \n",
       "60                        aveeno shampoo   \n",
       "61                               blender   \n",
       "62                 skechers womens shoes   \n",
       "63                      bird seed feeder   \n",
       "64                       long prom dress   \n",
       "65                  led christmas lights   \n",
       "66                        harleydavidson   \n",
       "67                        harleydavidson   \n",
       "68                             bike lock   \n",
       "69                           rain jacket   \n",
       "70                            duffle bag   \n",
       "71                        lego star wars   \n",
       "72                       reusable straws   \n",
       "73                             projector   \n",
       "74                 kitchenaid glass bowl   \n",
       "75                              yoga mat   \n",
       "76                   portable hard drive   \n",
       "77                        harleydavidson   \n",
       "78                           rice cooker   \n",
       "79               ps3 wireless controller   \n",
       "80                 power surge protector   \n",
       "81                          toaster oven   \n",
       "82                            face cream   \n",
       "83                        hawaiian shirt   \n",
       "84                multiple phone charger   \n",
       "85                        hollister polo   \n",
       "86                           table clock   \n",
       "87                             rain boot   \n",
       "88                             cat grass   \n",
       "89                      vanity fair bras   \n",
       "90                        wii microphone   \n",
       "91                           high chairs   \n",
       "92                   san francisco 49ers   \n",
       "93                          stick vacuum   \n",
       "94                       ice cream maker   \n",
       "95              an extremely goofy movie   \n",
       "96                            gym gloves   \n",
       "97                       double stroller   \n",
       "98                             wine rack   \n",
       "99                leather mens briefcase   \n",
       "...                                  ...   \n",
       "22411                       stick vacuum   \n",
       "22412                speck iphone 5 case   \n",
       "22413                   knife victorinox   \n",
       "22414                          projector   \n",
       "22415                       dress shirts   \n",
       "22416                  bluetooth speaker   \n",
       "22417              solar battery charger   \n",
       "22418                    full tang knife   \n",
       "22419       men earrings diamond squared   \n",
       "22420                          projector   \n",
       "22421                    nike flip flops   \n",
       "22422                      playstation 4   \n",
       "22423                      yankee candle   \n",
       "22424                 memory foam pillow   \n",
       "22425                      laptop lenovo   \n",
       "22426                         nike shoes   \n",
       "22427               baseball photo frame   \n",
       "22428       teenage mutant ninja turtles   \n",
       "22429             cuisinart coffee maker   \n",
       "22430                  bluetooth speaker   \n",
       "22431                    full tang knife   \n",
       "22432                   shaver panasonic   \n",
       "22433                        neck pillow   \n",
       "22434                          rain boot   \n",
       "22435                         face cream   \n",
       "22436       teenage mutant ninja turtles   \n",
       "22437                 pittsburgh pirates   \n",
       "22438                      galaxy note 3   \n",
       "22439                        silver ring   \n",
       "22440                   high heels shoes   \n",
       "22441                rachel ray cookware   \n",
       "22442           screen protector samsung   \n",
       "22443          wired xbox 360 controller   \n",
       "22444                     cleaning robot   \n",
       "22445                      sweater dress   \n",
       "22446                         gold dress   \n",
       "22447                       cocoa butter   \n",
       "22448                        rain jacket   \n",
       "22449                         bedspreads   \n",
       "22450                rachel ray cookware   \n",
       "22451              solar battery charger   \n",
       "22452             cuisinart coffee maker   \n",
       "22453                 car window sticker   \n",
       "22454                        white jeans   \n",
       "22455                        dish towels   \n",
       "22456                    storage ottoman   \n",
       "22457                 watch women fossil   \n",
       "22458                           tote bag   \n",
       "22459  brett favre ny titans jersey blue   \n",
       "22460                 car window sticker   \n",
       "22461                     dc shoes black   \n",
       "22462                      solar charger   \n",
       "22463                     notebook paper   \n",
       "22464                               robe   \n",
       "22465            ps3 wireless controller   \n",
       "22466                       stick vacuum   \n",
       "22467                 three wheeled bike   \n",
       "22468                     notebook paper   \n",
       "22469                         yoga pants   \n",
       "22470              power surge protector   \n",
       "22471                              pyrex   \n",
       "22472                speck iphone 5 case   \n",
       "22473                     aveeno shampoo   \n",
       "22474                     wireless mouse   \n",
       "22475                    chocolate molds   \n",
       "22476                   converse low top   \n",
       "22477           girls halloween costumes   \n",
       "22478                  bluetooth speaker   \n",
       "22479                       refrigirator   \n",
       "22480                       volcom short   \n",
       "22481                          wine rack   \n",
       "22482                          samsonite   \n",
       "22483                 tablet accessories   \n",
       "22484                  cast iron skillet   \n",
       "22485                           tote bag   \n",
       "22486                  cast iron skillet   \n",
       "22487                         aqua shoes   \n",
       "22488                        dean guitar   \n",
       "22489                      sweater dress   \n",
       "22490             extenal hardisk 500 gb   \n",
       "22491                   assassinss creed   \n",
       "22492                 pittsburgh pirates   \n",
       "22493                             barbie   \n",
       "22494                   werewolf costume   \n",
       "22495                       flower bulbs   \n",
       "22496                  16 gb memory card   \n",
       "22497                      galaxy note 3   \n",
       "22498          wired xbox 360 controller   \n",
       "22499               queen comforter sets   \n",
       "22500           vanilla scented perfumes   \n",
       "22501                     aroma diffuser   \n",
       "22502                  button down shirt   \n",
       "22503                     dr who lanyard   \n",
       "22504                     hawaiian shirt   \n",
       "22505            bluesky gel nail polish   \n",
       "22506              seagate 2tb hard disk   \n",
       "22507                    storage ottoman   \n",
       "22508                         gym gloves   \n",
       "22509                     wreck it ralph   \n",
       "22510                   hair accessories   \n",
       "\n",
       "                                                                                                        product_title  \n",
       "0                                                                         Accent Pillow with Heart Design - Red/Black  \n",
       "1                                            Set of 10 Battery Operated Multi LED Train Christmas Lights - Clear Wire  \n",
       "2                                                                          ViewSonic Pro8200 DLP Multimedia Projector  \n",
       "3                        Concept Housewares WR-44526 Solid-Wood Ceiling/Wall-Mount Wine Rack, Charcoal Grey, 6 Bottle  \n",
       "4                                                          Wintergreen Lighting Christmas LED Light Bulb (Pack of 25)  \n",
       "5                                                       Oakley Sunglasses - Radar Path Polished Black/Gray Sunglasses  \n",
       "6                                                                                 How To Make An American Quilt (DVD)  \n",
       "7                                         ZAGG InvisibleShield Cell Phone Screen Protector for Samsung Galaxy S4 Mini  \n",
       "8              Cook N Home Stainless Steel 4-Piece Pasta Cooker/ Steamer Multi-pots with Encapsulated Bottom, 8-Quart  \n",
       "9                                                                        Presto FlipSide Electric Waffle Maker- 03510  \n",
       "10                                                                 Oakley Radar Pitch Replacement Lens Gray, One Size  \n",
       "11                                                                                      Plus Size Peyton Tank - Tulah  \n",
       "12                                                        Surya Ruffle Circle Decorative Pillows Gray 18x18 Poly Fill  \n",
       "13                                                                   Lorell Round ProFile Radio Controlled Wall Clock  \n",
       "14                                                      Cuisinart DCC-3200 PerfecTemp 14-Cup Programmable Coffeemaker  \n",
       "15                                 Bachmann Trains Thomas' Christmas Express Ho Scale Ready To Run Electric Train Set  \n",
       "16                                                                          Fremada Sterling Silver Freeform Necklace  \n",
       "17                           The Hobbit: The Battle of The Five Armies (3D) Blu-ray Disc (Anamorphic Widescreen 16:9)  \n",
       "18                                                                      Gimborn 731072 Cat Grass Plus Single Cat 60Gr  \n",
       "19                                                                                     SodaStream Home Soda Maker Kit  \n",
       "20                                                      Frigidaire FFCE1439LB - microwave oven - freestanding - black  \n",
       "21                                                                                   Nurse Mates Bryar (Women's) Aqua  \n",
       "22                             Royce Leather RFID Blocking Men's Bifold Wallet with Double ID Flap in Genuine Leather  \n",
       "23                                                                              Colonial Girl Child Halloween Costume  \n",
       "24                                                                  Victorinox Swiss Army 5.25 Serrated Utility Knife  \n",
       "25                                                         CIRAGO Cirago MHL1000 MHL Adapter, Micro USB to HDMI Black  \n",
       "26                                         Zippo Windproof Satin Chrome Serenity Prayer Lighter , # 28458, New In Box  \n",
       "27                                                                                   Snugpak Chrysalis 3 Sleeping Bag  \n",
       "28                                                                       Belkin WiFi Range Extender - White (F9K1015)  \n",
       "29                                                                        Girls' Hello Kitty Polka Dot Footed Sleeper  \n",
       "30                                     Pinemeadow Golf Nitrix Pro Men's Complete 12-Piece Golf Club Set, Right-Handed  \n",
       "31                                                                    Converse Chuck Taylor Low Top Sneaker - Women's  \n",
       "32                                                             Sleep Innovations 2-in-1 Reversible Memory Foam Pillow  \n",
       "33                                                               Modern Single Lever Oil Rubbed Bronze Kitchen Faucet  \n",
       "34                                                                                     George Men's Short Sleeve Polo  \n",
       "35                                                                              Women's DC Shoes Trase TX Black/White  \n",
       "36                                                               Keurig Donut Shop Medium Roast Coffee K-Cups 3 Count  \n",
       "37                                                     Cold-Eeze Cold Remedy Lozenges, Sugar Free, Honey Lemon, 18 ea  \n",
       "38                                         Obagi Elastiderm Eye Treatment Cream 0.5 oz / 15g Authentic NiB Sealed [5]  \n",
       "39                                                 Plantronics 26088-11 Starset II H31 Mono Corded In the Ear Headset  \n",
       "40                                                       Wildkin Stay Warm 30-Degree Kids' Sleeping Bag, Pink Leopard  \n",
       "41                                                             PS3 Dualshock 3 Wireless Controller - Urban Camouflage  \n",
       "42                                                     Bluesky 0.33oz Soak Off UV Gel Nail Polish Purple, FEDORA, 510  \n",
       "43                                   Yankee Candle BLACK COCONUT Large Jar 22 oz.  BRAND NEW  PRIORITY SHIPPING !!!!!  \n",
       "44                                                              InFocus Projector Lamp for the IN112a, IN114a, IN116a  \n",
       "45                                                                                       MacAlly 13 MacBook Air Case\"  \n",
       "46                                                 Crayola Blue Tween Halloween Costume, Size: Teen Girls' - One Size  \n",
       "47                                                                          Mophie Juice Pack Plus for iPhone 5 - Red  \n",
       "48                                                                                  Vanity Fair 100 Years (Hardcover)  \n",
       "49                                                                       Pittsburgh Steelers Roadblock Duffel - Black  \n",
       "50                                                                  Corelle Plain White Dinner Plate 10 1/4 Set of 2\"  \n",
       "51                                                                       George Boys' 2 Piece Dress Shirt and Tie Set  \n",
       "52                                     Set of 96 Twinkling Warm White LED Christmas Lights Extension Set - Black Wire  \n",
       "53                                        Fashion Gift Men's 316L Stainless Steel Cross Pendant Necklace Chain Silver  \n",
       "54                                                       KitchenAid RRFGA Food Grinder Mixer Attachment (Refurbished)  \n",
       "55                                                                              Boys' DC Shoes Pure Black/Grey/Yellow  \n",
       "56                                      Every Day Carry Tactical Large Heavy Duty Carry All Shoulder Duffle Bag - ODG  \n",
       "57                                          Sanrio Co. 'Hello Kitty' Women's 3.4-ounce Eau de Toilette (Tester) Spray  \n",
       "58                                            Cookware Pots And Pans Set 7 Piece Stainless Steel Kitchen Food Cooking  \n",
       "59                                          Sunbeam Heated Electric Blanket Channeled Microplush King Size Slate Grey  \n",
       "60                                                              Herbal Essences Body Envy Volumizing Shampoo, 33.8 oz  \n",
       "61                                                                               Bosch Universal Plus Blender Pitcher  \n",
       "62                                                                   Danskin Now Girl's Bungee Tie Cross-trainer Shoe  \n",
       "63                                                          Perky-Pet Mason Jar Wild Bird Feeder , New, Free Shipping  \n",
       "64                                                           R & M Richards Petites' Long Lace Mesh Ribbon Belt Dress  \n",
       "65                                      Swirling LED Lighted Christmas Tree Glitterdome Figure with Winter Town Scene  \n",
       "66                                                   Harley Davidson - Eagle' Framed Art Print with Gel Coated Finish  \n",
       "67                                                                               Ultimate Harley-Davidson (Hardcover)  \n",
       "68                                                                      Wordlock Bike Lock Match Key 10mm 5ft - Black  \n",
       "69                                                                                             Cloudburst Rain Jacket  \n",
       "70                                                                                             WalterDrake Duffle Bag  \n",
       "71                                                                 Lego Star Wars Republic Frigate (7694) No minifigs  \n",
       "72                                      Itzy Ritzy Snack Happens Reusable Snack Bag with Thermos Straw Bottle, Jungle  \n",
       "73                                   LG PH300 Minibeam LED Projector with Embedded Battery and Built-in Digital Tuner  \n",
       "74                                                      KitchenAid K5GB 5 Qt. Glass Bowl for Stand Mixer - NEW IN BOX  \n",
       "75                                                                  The Macbeth Collection Margarita Fashion Yoga Mat  \n",
       "76                                                     Toshiba Canvio Connect 2TB Portable External Hard Drive, Black  \n",
       "77                                                                         Harley-Davidson and Philosophy (Paperback)  \n",
       "78                                                                 Stainless Steel 10-cup Rice Cooker with Steam Tray  \n",
       "79                                                                          Rock Candy Wireless Controller, Red (PS3)  \n",
       "80                                                                   Accell Powramid Power Center and Surge Protector  \n",
       "81                                                                                              Oster 4-Slice Toaster  \n",
       "82                                                        Retinol Face Moisturizer Organic Lilie De Vallee 4 oz Cream  \n",
       "83                                                                                    Polo Shirt - Mossimo Supply Co.  \n",
       "84                                                       Samsung Galaxy S5 Mini 16GB Unlocked GSM Dual-SIM Cell Phone  \n",
       "85                                                        George - Boys' Long-Sleeve Polo Shirts, 4-Pack Value Bundle  \n",
       "86                                                                         Howard Miller Windsor Carriage Table Clock  \n",
       "87                                                                              Women's Black and Red Tall Rain Boots  \n",
       "88                                                                         Special Kitty Outdoor Dry Cat Food, 44 lbs  \n",
       "89                                            Fruit of the Loom - Comfort Front-Close Sports Bra, Style 96014, 4-pack  \n",
       "90                                    Official Logitech Rock Band USB Microphone for Xbox 360 Nintendo Wii PS3 Tested  \n",
       "91                                                                                 Cosco Simple Fold High Chair, Zury  \n",
       "92                                               San Francisco 49ers Official NFL Infant One Size Hooded Infant Towel  \n",
       "93                                                 Bissell 53Y8 Lift-Off Floors and More Cordless 2-in-1 Stick Vacuum  \n",
       "94                                                                Koolatron Deluxe Double Treat Ice Cream Maker  FT03  \n",
       "95                                                                                         A Goofy Movie (Full Frame)  \n",
       "96                                                                                    Everlast Wristwrap Glove, Black  \n",
       "97                                                   Contours Options Elite Twin Tandem Double Baby Stroller Sand NEW  \n",
       "98                                                                            Jumbo Bin 120-Bottle Mahogany Wine Rack  \n",
       "99                                                               Leather Briefcase with Removable Laptop Sleeve - Red  \n",
       "...                                                                                                               ...  \n",
       "22411                      Bissell - Bolt Xrt Bagless Cordless 2-in-1 Pet Handheld/stick Vacuum - Labamba Pink/silver  \n",
       "22412                                                        New OEM Speck GemShell Case for iPhone 5c Clear Original  \n",
       "22413                                                                Victorinox Swiss Army Rosewood 7-piece Block Set  \n",
       "22414                                                                   ViewSonic PJD6543w Networkable WXGA Projector  \n",
       "22415                                                                 George Big Men's Long Sleeve Poplin Dress Shirt  \n",
       "22416                                                                  Latte SoundMagic Mini Bluetooth Speaker - Blue  \n",
       "22417                               GSM Cyclops Solar Solutions 20 Watt 12 Volt Amorphous Solar Panel Battery Charger  \n",
       "22418                                              Full Tang 7-inch All Black Hunting Knife Whistle Sheath Hook Blade  \n",
       "22419                               Sterling Silver Men's 1/6ct TDW Diamond V-prong Square Stud Earrings (I-J, I2-I3)  \n",
       "22420                                   Multimedia HD LCD LED Projector 1080P HDMI USB TV Home Theater Game VGA Video  \n",
       "22421                                                                               Nike Womens Comfort Thong Sandals  \n",
       "22422                                                      PlayStation 4 500GB with COD Advanced Warfare & 8 in 1 Kit  \n",
       "22423                                                               Yankee Candle Perfect Pillar Sage & Citrus Candle  \n",
       "22424                                                                     PureCare One Gel Memory Foam Contour Pillow  \n",
       "22425                                           Lenovo IdeaPad Yoga 2-in-1 11.6in Laptop i5 1.5GHz 4GB 128GB SSD WiFi  \n",
       "22426                                                                       Nike Air Visi Pro V Mens Basketball Shoes  \n",
       "22427                                                                Boston Red Sox MLB Stadium Dirt Coin Photo Frame  \n",
       "22428                                                                 Teenage Mutant Ninja Turtles 16 oz. Plastic Cup  \n",
       "22429                                   Cuisinart - 600BC Automatic Grind and Brew Thermal Coffee maker 10 Cup Carafe  \n",
       "22430                                                                                      JBL Flip Bluetooth Speaker  \n",
       "22431                                MTECH Full Tang Fixed Black Handle 440 Stainless Black Blade Hunter Knife+Sheath  \n",
       "22432                                                                     Panasonic D-Size Alkaline Plus Battery Pack  \n",
       "22433                                                                       Lewis N. Clark Comfort Neck Pillow - Blue  \n",
       "22434                                                                               Nomad Puddles Rain Boot - Women's  \n",
       "22435                                                                      VitaShield Intensive Eye Firming Treatment  \n",
       "22436                                                   Teenage Mutant Ninja Turtles 'Turtle Power' Travel Coffee Mug  \n",
       "22437                                                                    Nike Women's Pittsburgh Pirates Track Jacket  \n",
       "22438                                     INSTEN Hard Plastic Slim Snap-on Phone Case Cover For Samsung Galaxy Note 3  \n",
       "22439                                               Loren Jewels Sterling Silver Macrame Bracelet with Black Diamonds  \n",
       "22440                                                          Dv by Dolce Vita Talin High Heel Sandals Women's Shoes  \n",
       "22441                                                      Rachael Ray Stainless Steel Nonstick 11-Piece Cookware Set  \n",
       "22442                            Minisuit Kinnect Case + Screen Protector for Samsung Galaxy S4 (Frost Graphite Gray)  \n",
       "22443                                 Wired USB Game Pad Joypad Controller For MICROSOFT Xbox 360 Slim & PC xmas gift  \n",
       "22444                                                         Water Tech Pool Blaster Blue Pearl Robotic Pool Cleaner  \n",
       "22445                                                            Longsleeve V-Neck Sweater Dress - Mossimo Supply Co.  \n",
       "22446                                      Auro a Gold Toe Brand Men's 5pk Dress Socks - Black with Assorted Patterns  \n",
       "22447              Greenwich Bay Trading Co. Coconut Milk, Macadamia Oil & Pure Honey Exfoliating Spa Soap (Set of 2)  \n",
       "22448                                             London Fog Women's Plus Size Single-breasted Double Collar Raincoat  \n",
       "22449                                                            Plisse Hydrangea Floral Bedspread with Separate Sham  \n",
       "22450                                                  Rachael Ray Hard-Anodized II Nonstick 3/4-Quart Warmer (5R463)  \n",
       "22451  Renogy Premium Solar Panel Kit 300W with 3 100W Poly Panel/ 20 ft. Adapter Kit/ 40A MPPT Controller/ Z Bracket  \n",
       "22452                                         New Cuisinart DCC-3000 Coffee On Demand 12-Cup Programmable CoffeeMaker  \n",
       "22453                                                                 Duke Blue Devils 2015 Basketball Championship 8  \n",
       "22454                                                         Faded Glory Women's Plus-Size Distressed Boyfriend Jean  \n",
       "22455                                                                      Solid Set of 6 Dish Towels and Dish Cloths  \n",
       "22456                                                                                      Microfiber Storage Ottoman  \n",
       "22457                                       Fossil Watch, Women's Emma Gold Tone Stainless Steel Bracelet 38mm ES3113  \n",
       "22458                                                      Royce Leather '24 Hour Tote Bag' Saffiano Leather Tote Bag  \n",
       "22459                                                                              New England Patriots Ultimate Hand  \n",
       "22460                                                                 Eddie Bauer 2pk Cling Car Window Shades - Black  \n",
       "22461                                                                           Blue Children's B-smith Lace-up Shoes  \n",
       "22462                                                               Wakawaka - Power+ Solar Charger And Light - Black  \n",
       "22463                                                               Bilingual Handyman Notebook in French and English  \n",
       "22464                                                                       Women's Nordstrom Terry Lined Waffle Robe  \n",
       "22465                                Bluetooth Wireless Double Vibration Controller Remote Console for Sony PS3 Black  \n",
       "22466                                                                Metrovac Antistatic 1.7PK HP Accscleaning System  \n",
       "22467                                            Mobo Shift 20 in. Reversible Three Wheeled Cruiser Recumbent Bicycle  \n",
       "22468                                         HP Office Recycled Paper, White, 8 1/2 x 11, Ten 500 Sheet Reams/Carton  \n",
       "22469                                                        Yoga Sprout Newborn Boys' 2 Pack Yoga Pants - Navy/Green  \n",
       "22470                                                            Fellowes Basic Home/ Office 6-outlet Surge Protector  \n",
       "22471                                                                                         Pyrex 6pc Easy Grab Set  \n",
       "22472                                      Speck - Candyshell Amped Case For Apple Iphone 5 And 5s - Black/slate Gray  \n",
       "22473                                                                Aveeno Pure Renewal 2-in-1 Shampoo & Conditioner  \n",
       "22474                                                          Logitech M185 Wireless Mouse - Black/Gray (910-003888)  \n",
       "22475                                                                   Sacro-Ease Memory Foam Molded Seat; Chocolate  \n",
       "22476                                                                   Converse Chuck Taylor Low Top Sneaker - Men's  \n",
       "22477                                                    RG Costumes Beer Garden Girl Halloween Costume - RG Costumes  \n",
       "22478                                   INSTEN Black SK-S10 Portable Mini Mic Micro Card Bluetooth Speaker MP3 Player  \n",
       "22479                                                Boelter - Illinois Fighting Illini 32 Cu Ft Compact Refrigerator  \n",
       "22480                                                                               VOLCOM Linestone Boys Slim Shorts  \n",
       "22481                                  24 Bottle Wine Liquor Cabinet Storage Rack Glass Holder Bar Pub Home Furniture  \n",
       "22482                                                                 Samsonite Travel Sentry Key Lock, Black, 2/Pack  \n",
       "22483                                   FileMate ECO Faux Leather Case with Elastic and Button Closure for 7 Tablets\"  \n",
       "22484                                                      #8 Unmarked Griswold,  755C, Cast Iron Skillet, Smoke Ring  \n",
       "22485                                                                                        Color A Tote Bag by Alex  \n",
       "22486                                                     The Heuck 3-Piece Pre-Seasoned Cast Iron Skillet Set, Black  \n",
       "22487                                                                           New Balance WX711 (Women's) Grey-Aqua  \n",
       "22488                                                          Dean Zone 4-String Electric Bass Guitar Metallic Black  \n",
       "22489                                                                         Women's Jewel Embellished Sweater Dress  \n",
       "22490                                                                                 ASUS VivoBook V451LA-DS51T - 14  \n",
       "22491                                                                      Assassin's Creed : Revelations (Paperback)  \n",
       "22492                                                                Majestic Men's Pittsburgh Pirates Replica Jersey  \n",
       "22493                                                                   Women's Latico Barbi Clutch 7920 Clay Leather  \n",
       "22494                    California Costume Collections CC00880-M Mens Full Moon Madness Werewolf Costume Size Medium  \n",
       "22495                                                                Floral Hurricane Antique Brass Finish Table Lamp  \n",
       "22496                                                                             Sony 16GB SDHC Class 10 Memory Card  \n",
       "22497                                          Samsung Galaxy Note 3 Factory Unlocked N900V Black or White Cell Phone  \n",
       "22498                                    Green light Glow Wired Game Remote Controller for Microsoft Xbox 360 Console  \n",
       "22499                                                       Brett Camouflage 5 Piece Full/Queen Comforter Set Bedding  \n",
       "22500                                                           Lancome Hypnose Women's 1.7-ounce Eau de Parfum Spray  \n",
       "22501                                                        pureguardian Ultrasonic Aroma Spa Diffuser & Alarm Clock  \n",
       "22502                                                         Brio Milano Men's White/ Gingham Trim Button-down Shirt  \n",
       "22503                                                                         Ultra Neck Strap/Lanyard for USB drives  \n",
       "22504                                       La Leela Likre Mens' Blue Tropical Printed Beach Swim Camp Hawaiian Shirt  \n",
       "22505                                                          Sally Hansen Miracle Gel Nail Color, Red Eye 0.5 fl oz  \n",
       "22506            Seagate Backup Plus STDU4000100 4 TB 3.5 External Hard Drive - USB 3.0 - Portable - Silver - 1 Pack\"  \n",
       "22507                                                                         Chevron Storage Ottoman, Gray and White  \n",
       "22508                                                                Lion Martial Arts Large Red Grappling Glove Pair  \n",
       "22509                                                                                 Wreck-It Ralph (Original Score)  \n",
       "22510                                                                  Goody Slide proof Claw Clip, Large (Pack of 2)  \n",
       "\n",
       "[32668 rows x 2 columns]"
      ]
     },
     "execution_count": 19,
     "metadata": {},
     "output_type": "execute_result"
    }
   ],
   "source": [
    "df_corpus"
   ]
  },
  {
   "cell_type": "code",
   "execution_count": 20,
   "metadata": {
    "collapsed": true
   },
   "outputs": [],
   "source": [
    "def feature_merge(df_text):\n",
    "    textdata = list(df_text.apply(lambda x:'%s %s' % (x['query'], x['product_title']), axis=1))\n",
    "    return textdata"
   ]
  },
  {
   "cell_type": "code",
   "execution_count": 21,
   "metadata": {
    "collapsed": true
   },
   "outputs": [],
   "source": [
    "corpusdata = feature_merge(df_corpus)"
   ]
  },
  {
   "cell_type": "code",
   "execution_count": 22,
   "metadata": {
    "collapsed": true
   },
   "outputs": [],
   "source": [
    "train_q = list(df_train['query'])\n",
    "test_q = list(df_test['query'])"
   ]
  },
  {
   "cell_type": "code",
   "execution_count": 23,
   "metadata": {
    "collapsed": true
   },
   "outputs": [],
   "source": [
    "train_r = list(df_train['product_title'])\n",
    "test_r = list(df_test['product_title'])"
   ]
  },
  {
   "cell_type": "code",
   "execution_count": null,
   "metadata": {
    "collapsed": true
   },
   "outputs": [],
   "source": []
  },
  {
   "cell_type": "code",
   "execution_count": 24,
   "metadata": {
    "collapsed": true
   },
   "outputs": [],
   "source": [
    "def no_str_check(data):\n",
    "    for num in range(len(data)):\n",
    "        if type(data[num]) == float or type(data[num]) == int:\n",
    "            data[num] = 'a'"
   ]
  },
  {
   "cell_type": "code",
   "execution_count": 25,
   "metadata": {
    "collapsed": true
   },
   "outputs": [],
   "source": [
    "no_str_check(test_r)"
   ]
  },
  {
   "cell_type": "code",
   "execution_count": 26,
   "metadata": {},
   "outputs": [
    {
     "name": "stdout",
     "output_type": "stream",
     "text": [
      "{<class 'str'>}\n"
     ]
    }
   ],
   "source": [
    "types = []\n",
    "for num in range(len(test_r)):\n",
    "    types.append(type(test_r[num]))\n",
    "\n",
    "type_set = set(types)\n",
    "print(type_set)    "
   ]
  },
  {
   "cell_type": "code",
   "execution_count": null,
   "metadata": {
    "collapsed": true
   },
   "outputs": [],
   "source": []
  },
  {
   "cell_type": "markdown",
   "metadata": {},
   "source": [
    "### 소문자 변환"
   ]
  },
  {
   "cell_type": "code",
   "execution_count": 27,
   "metadata": {
    "collapsed": true
   },
   "outputs": [],
   "source": [
    "def lower_convert(data):\n",
    "    for num in range(len(data)):\n",
    "        data[num] = data[num].lower()"
   ]
  },
  {
   "cell_type": "code",
   "execution_count": 28,
   "metadata": {
    "collapsed": true
   },
   "outputs": [],
   "source": [
    "lower_convert(train_q)\n",
    "lower_convert(train_r)\n",
    "lower_convert(test_q)\n",
    "lower_convert(test_r)\n",
    "lower_convert(corpusdata)"
   ]
  },
  {
   "cell_type": "code",
   "execution_count": null,
   "metadata": {
    "collapsed": true
   },
   "outputs": [],
   "source": []
  },
  {
   "cell_type": "markdown",
   "metadata": {},
   "source": [
    "### 알파벳 / 숫자 stopwords"
   ]
  },
  {
   "cell_type": "code",
   "execution_count": 29,
   "metadata": {
    "collapsed": true
   },
   "outputs": [],
   "source": [
    "import re"
   ]
  },
  {
   "cell_type": "code",
   "execution_count": 30,
   "metadata": {
    "collapsed": true
   },
   "outputs": [],
   "source": [
    "def alphabet_stopwords(data):\n",
    "    for num in range(len(data)):\n",
    "        data[num] = re.findall(r'[a-zA-Z1-9]+', data[num])\n",
    "        \n",
    "    for num in range(len(data)):\n",
    "        data[num] = (\" \").join(data[num])\n",
    "    \n",
    "    for num in range(len(data)):\n",
    "        data[num] = re.findall(r'\\w\\w+', data[num])"
   ]
  },
  {
   "cell_type": "code",
   "execution_count": 31,
   "metadata": {},
   "outputs": [
    {
     "name": "stdout",
     "output_type": "stream",
     "text": [
      "Wall time: 1.09 s\n"
     ]
    }
   ],
   "source": [
    "%%time\n",
    "alphabet_stopwords(train_q)\n",
    "alphabet_stopwords(train_r)\n",
    "alphabet_stopwords(test_q)\n",
    "alphabet_stopwords(test_r)\n",
    "alphabet_stopwords(corpusdata)"
   ]
  },
  {
   "cell_type": "code",
   "execution_count": null,
   "metadata": {
    "collapsed": true
   },
   "outputs": [],
   "source": []
  },
  {
   "cell_type": "code",
   "execution_count": 32,
   "metadata": {
    "collapsed": true
   },
   "outputs": [],
   "source": [
    "def data_join(list_data):\n",
    "    for num in range(len(list_data)):\n",
    "        list_data[num] = (\" \").join(list_data[num])"
   ]
  },
  {
   "cell_type": "code",
   "execution_count": 33,
   "metadata": {
    "collapsed": true
   },
   "outputs": [],
   "source": [
    "data_join(train_q)\n",
    "data_join(train_r)\n",
    "data_join(test_q)\n",
    "data_join(test_r)\n",
    "data_join(corpusdata)"
   ]
  },
  {
   "cell_type": "code",
   "execution_count": null,
   "metadata": {
    "collapsed": true
   },
   "outputs": [],
   "source": []
  },
  {
   "cell_type": "markdown",
   "metadata": {},
   "source": [
    "### 토큰 생성"
   ]
  },
  {
   "cell_type": "code",
   "execution_count": 34,
   "metadata": {
    "collapsed": true
   },
   "outputs": [],
   "source": [
    "from nltk.corpus import stopwords\n",
    "from nltk.tokenize import word_tokenize"
   ]
  },
  {
   "cell_type": "code",
   "execution_count": 35,
   "metadata": {
    "collapsed": true
   },
   "outputs": [],
   "source": [
    "def word_token(data):\n",
    "    for num in range(len(data)):\n",
    "        data[num] = word_tokenize(data[num])"
   ]
  },
  {
   "cell_type": "code",
   "execution_count": 36,
   "metadata": {},
   "outputs": [
    {
     "name": "stdout",
     "output_type": "stream",
     "text": [
      "Wall time: 15 s\n"
     ]
    }
   ],
   "source": [
    "%%time\n",
    "word_token(train_q)\n",
    "word_token(train_r)\n",
    "word_token(test_q)\n",
    "word_token(test_r)\n",
    "word_token(corpusdata)"
   ]
  },
  {
   "cell_type": "code",
   "execution_count": null,
   "metadata": {
    "collapsed": true
   },
   "outputs": [],
   "source": []
  },
  {
   "cell_type": "markdown",
   "metadata": {},
   "source": [
    "### Stemming"
   ]
  },
  {
   "cell_type": "code",
   "execution_count": 37,
   "metadata": {
    "collapsed": true
   },
   "outputs": [],
   "source": [
    "from nltk.stem import PorterStemmer"
   ]
  },
  {
   "cell_type": "code",
   "execution_count": 38,
   "metadata": {
    "collapsed": true
   },
   "outputs": [],
   "source": [
    "# 타 참가자의 코드 참고\n",
    "\n",
    "def stemPorter(text):\n",
    "            porter = PorterStemmer()\n",
    "            stem_data = []\n",
    "            for num in text:\n",
    "                final_stem = []\n",
    "                for word in num:\n",
    "                    final_stem.append(porter.stem(word))\n",
    "                stem_data.append(final_stem)\n",
    "            return stem_data"
   ]
  },
  {
   "cell_type": "code",
   "execution_count": 39,
   "metadata": {},
   "outputs": [
    {
     "name": "stdout",
     "output_type": "stream",
     "text": [
      "Wall time: 23.9 s\n"
     ]
    }
   ],
   "source": [
    "%%time\n",
    "train_q = stemPorter(train_q)\n",
    "train_r = stemPorter(train_r)\n",
    "test_q = stemPorter(test_q)\n",
    "test_t = stemPorter(test_r)\n",
    "corpusdata = stemPorter(corpusdata)"
   ]
  },
  {
   "cell_type": "markdown",
   "metadata": {},
   "source": [
    "### TF-IDF"
   ]
  },
  {
   "cell_type": "code",
   "execution_count": 40,
   "metadata": {
    "collapsed": true
   },
   "outputs": [],
   "source": [
    "from sklearn.feature_extraction.text import TfidfVectorizer"
   ]
  },
  {
   "cell_type": "code",
   "execution_count": 41,
   "metadata": {},
   "outputs": [
    {
     "name": "stdout",
     "output_type": "stream",
     "text": [
      "Wall time: 97.3 ms\n"
     ]
    }
   ],
   "source": [
    "%%time\n",
    "data_join(train_q)\n",
    "data_join(train_r)\n",
    "data_join(test_q)\n",
    "data_join(test_r)\n",
    "data_join(corpusdata)"
   ]
  },
  {
   "cell_type": "code",
   "execution_count": 42,
   "metadata": {
    "collapsed": true
   },
   "outputs": [],
   "source": [
    "tfv = TfidfVectorizer(analyzer='word', token_pattern=r'\\w+', ngram_range=(1, 3), stop_words = 'english')"
   ]
  },
  {
   "cell_type": "code",
   "execution_count": 43,
   "metadata": {},
   "outputs": [
    {
     "data": {
      "text/plain": [
       "TfidfVectorizer(analyzer='word', binary=False, decode_error='strict',\n",
       "        dtype=<class 'numpy.int64'>, encoding='utf-8', input='content',\n",
       "        lowercase=True, max_df=1.0, max_features=None, min_df=1,\n",
       "        ngram_range=(1, 3), norm='l2', preprocessor=None, smooth_idf=True,\n",
       "        stop_words='english', strip_accents=None, sublinear_tf=False,\n",
       "        token_pattern='\\\\w+', tokenizer=None, use_idf=True,\n",
       "        vocabulary=None)"
      ]
     },
     "execution_count": 43,
     "metadata": {},
     "output_type": "execute_result"
    }
   ],
   "source": [
    "tfv.fit(corpusdata)"
   ]
  },
  {
   "cell_type": "code",
   "execution_count": 44,
   "metadata": {
    "collapsed": true
   },
   "outputs": [],
   "source": [
    "train_Q = tfv.transform(train_q)\n",
    "train_R = tfv.transform(train_r)\n",
    "test_Q = tfv.transform(test_q)\n",
    "test_R = tfv.transform(test_r)"
   ]
  },
  {
   "cell_type": "code",
   "execution_count": 45,
   "metadata": {
    "collapsed": true
   },
   "outputs": [],
   "source": [
    "from scipy.sparse import hstack"
   ]
  },
  {
   "cell_type": "code",
   "execution_count": 46,
   "metadata": {
    "collapsed": true
   },
   "outputs": [],
   "source": [
    "train_X = hstack((train_Q, train_R))"
   ]
  },
  {
   "cell_type": "code",
   "execution_count": 47,
   "metadata": {
    "collapsed": true
   },
   "outputs": [],
   "source": [
    "test_X = hstack((test_Q, test_R))"
   ]
  },
  {
   "cell_type": "code",
   "execution_count": 48,
   "metadata": {},
   "outputs": [
    {
     "name": "stdout",
     "output_type": "stream",
     "text": [
      "(10157, 254750)\n",
      "(10157, 254750)\n",
      "(22511, 254750)\n",
      "(22511, 254750)\n",
      "(10157, 509500)\n",
      "(22511, 509500)\n"
     ]
    }
   ],
   "source": [
    "print(train_Q.shape)\n",
    "print(train_R.shape)\n",
    "print(test_Q.shape)\n",
    "print(test_R.shape)\n",
    "print(train_X.shape)\n",
    "print(test_X.shape)"
   ]
  },
  {
   "cell_type": "code",
   "execution_count": null,
   "metadata": {
    "collapsed": true
   },
   "outputs": [],
   "source": []
  },
  {
   "cell_type": "markdown",
   "metadata": {},
   "source": [
    "### Modeling"
   ]
  },
  {
   "cell_type": "code",
   "execution_count": 49,
   "metadata": {},
   "outputs": [
    {
     "name": "stderr",
     "output_type": "stream",
     "text": [
      "C:\\Users\\tjdal\\Anaconda3\\lib\\site-packages\\sklearn\\cross_validation.py:44: DeprecationWarning: This module was deprecated in version 0.18 in favor of the model_selection module into which all the refactored classes and functions are moved. Also note that the interface of the new CV iterators are different from that of this module. This module will be removed in 0.20.\n",
      "  \"This module will be removed in 0.20.\", DeprecationWarning)\n",
      "C:\\Users\\tjdal\\Anaconda3\\lib\\site-packages\\sklearn\\grid_search.py:43: DeprecationWarning: This module was deprecated in version 0.18 in favor of the model_selection module into which all the refactored classes and functions are moved. This module will be removed in 0.20.\n",
      "  DeprecationWarning)\n"
     ]
    }
   ],
   "source": [
    "from sklearn.decomposition import TruncatedSVD\n",
    "from sklearn.preprocessing import StandardScaler\n",
    "import xgboost as xgb\n",
    "from sklearn.model_selection import GridSearchCV\n",
    "from sklearn import pipeline\n",
    "from sklearn import grid_search\n",
    "from sklearn import metrics"
   ]
  },
  {
   "cell_type": "code",
   "execution_count": 50,
   "metadata": {
    "collapsed": true
   },
   "outputs": [],
   "source": [
    "svd = TruncatedSVD()\n",
    "scl = StandardScaler()\n",
    "xgb_model = xgb.XGBRegressor()    "
   ]
  },
  {
   "cell_type": "code",
   "execution_count": 51,
   "metadata": {
    "collapsed": true
   },
   "outputs": [],
   "source": [
    "clf = pipeline.Pipeline([('svd', svd), ('scl', scl), ('xgb', xgb_model)])"
   ]
  },
  {
   "cell_type": "code",
   "execution_count": 52,
   "metadata": {
    "collapsed": true
   },
   "outputs": [],
   "source": [
    "clf2 = pipeline.Pipeline([('svd', svd), ('xgb', xgb_model)])"
   ]
  },
  {
   "cell_type": "code",
   "execution_count": 53,
   "metadata": {
    "collapsed": true
   },
   "outputs": [],
   "source": [
    "clf3 = pipeline.Pipeline([('xgb', xgb_model)])"
   ]
  },
  {
   "cell_type": "code",
   "execution_count": 54,
   "metadata": {
    "collapsed": true
   },
   "outputs": [],
   "source": [
    "param_grid = {'xgb__max_depth':[5, 6, 7, 8, 9, 10], 'xgb__n_estimators':list(range(10, 101, 10)), \n",
    "              'xgb__learning_rate':[0.001, 0.01, 0.1], 'xgb__gamma':[0.1, 1.0, 10.0, 100.0], 'xgb__subsample':[0.75]}"
   ]
  },
  {
   "cell_type": "code",
   "execution_count": 55,
   "metadata": {
    "collapsed": true
   },
   "outputs": [],
   "source": [
    "from ml_metrics import quadratic_weighted_kappa"
   ]
  },
  {
   "cell_type": "code",
   "execution_count": 56,
   "metadata": {
    "collapsed": true
   },
   "outputs": [],
   "source": [
    "from sklearn.metrics import r2_score"
   ]
  },
  {
   "cell_type": "code",
   "execution_count": 57,
   "metadata": {
    "collapsed": true
   },
   "outputs": [],
   "source": [
    "kappa_scorer = metrics.make_scorer(quadratic_weighted_kappa, greater_is_better = True)"
   ]
  },
  {
   "cell_type": "code",
   "execution_count": 58,
   "metadata": {
    "collapsed": true
   },
   "outputs": [],
   "source": [
    "model = grid_search.GridSearchCV(estimator = clf, param_grid=param_grid, scoring='r2',\n",
    "                                     verbose=1, n_jobs=-1, iid=True, refit=True, cv=4)"
   ]
  },
  {
   "cell_type": "code",
   "execution_count": 59,
   "metadata": {
    "collapsed": true
   },
   "outputs": [],
   "source": [
    "model2 = grid_search.GridSearchCV(estimator = clf2, param_grid=param_grid, scoring='r2',\n",
    "                                     verbose=1, n_jobs=-1, iid=True, refit=True, cv=4)"
   ]
  },
  {
   "cell_type": "code",
   "execution_count": 61,
   "metadata": {
    "collapsed": true
   },
   "outputs": [],
   "source": [
    "model3 = grid_search.GridSearchCV(estimator = clf3, param_grid=param_grid, scoring='r2',\n",
    "                                     verbose=1, n_jobs=-1, iid=True, refit=True, cv=4)"
   ]
  },
  {
   "cell_type": "code",
   "execution_count": 343,
   "metadata": {},
   "outputs": [
    {
     "name": "stdout",
     "output_type": "stream",
     "text": [
      "Fitting 4 folds for each of 720 candidates, totalling 2880 fits\n"
     ]
    },
    {
     "name": "stderr",
     "output_type": "stream",
     "text": [
      "[Parallel(n_jobs=-1)]: Done  42 tasks      | elapsed:   45.2s\n",
      "[Parallel(n_jobs=-1)]: Done 192 tasks      | elapsed:  3.0min\n",
      "[Parallel(n_jobs=-1)]: Done 442 tasks      | elapsed:  6.8min\n",
      "[Parallel(n_jobs=-1)]: Done 792 tasks      | elapsed: 12.2min\n",
      "[Parallel(n_jobs=-1)]: Done 1242 tasks      | elapsed: 19.0min\n",
      "[Parallel(n_jobs=-1)]: Done 1792 tasks      | elapsed: 27.4min\n",
      "[Parallel(n_jobs=-1)]: Done 2442 tasks      | elapsed: 37.2min\n",
      "[Parallel(n_jobs=-1)]: Done 2880 out of 2880 | elapsed: 43.9min finished\n"
     ]
    },
    {
     "name": "stdout",
     "output_type": "stream",
     "text": [
      "Wall time: 43min 58s\n"
     ]
    }
   ],
   "source": [
    "%%time\n",
    "reg_model = model.fit(train_X, y)"
   ]
  },
  {
   "cell_type": "code",
   "execution_count": 365,
   "metadata": {},
   "outputs": [
    {
     "name": "stdout",
     "output_type": "stream",
     "text": [
      "Fitting 4 folds for each of 720 candidates, totalling 2880 fits\n"
     ]
    },
    {
     "name": "stderr",
     "output_type": "stream",
     "text": [
      "[Parallel(n_jobs=-1)]: Done  42 tasks      | elapsed:   42.4s\n",
      "[Parallel(n_jobs=-1)]: Done 192 tasks      | elapsed:  2.9min\n",
      "[Parallel(n_jobs=-1)]: Done 442 tasks      | elapsed:  6.7min\n",
      "[Parallel(n_jobs=-1)]: Done 792 tasks      | elapsed: 12.0min\n",
      "[Parallel(n_jobs=-1)]: Done 1242 tasks      | elapsed: 18.7min\n",
      "[Parallel(n_jobs=-1)]: Done 1792 tasks      | elapsed: 26.9min\n",
      "[Parallel(n_jobs=-1)]: Done 2442 tasks      | elapsed: 36.6min\n",
      "[Parallel(n_jobs=-1)]: Done 2880 out of 2880 | elapsed: 43.1min finished\n"
     ]
    },
    {
     "name": "stdout",
     "output_type": "stream",
     "text": [
      "Wall time: 43min 10s\n"
     ]
    }
   ],
   "source": [
    "%%time\n",
    "reg_model2 = model2.fit(train_X, y)"
   ]
  },
  {
   "cell_type": "code",
   "execution_count": 366,
   "metadata": {},
   "outputs": [
    {
     "data": {
      "text/plain": [
       "0.11655279577750394"
      ]
     },
     "execution_count": 366,
     "metadata": {},
     "output_type": "execute_result"
    }
   ],
   "source": [
    "reg_model2.best_score_"
   ]
  },
  {
   "cell_type": "code",
   "execution_count": 62,
   "metadata": {},
   "outputs": [
    {
     "name": "stdout",
     "output_type": "stream",
     "text": [
      "Fitting 4 folds for each of 720 candidates, totalling 2880 fits\n"
     ]
    },
    {
     "name": "stderr",
     "output_type": "stream",
     "text": [
      "[Parallel(n_jobs=-1)]: Done  42 tasks      | elapsed:   43.5s\n",
      "[Parallel(n_jobs=-1)]: Done 192 tasks      | elapsed:  3.0min\n",
      "[Parallel(n_jobs=-1)]: Done 442 tasks      | elapsed:  6.7min\n",
      "[Parallel(n_jobs=-1)]: Done 792 tasks      | elapsed: 11.9min\n",
      "[Parallel(n_jobs=-1)]: Done 1242 tasks      | elapsed: 18.6min\n",
      "[Parallel(n_jobs=-1)]: Done 1792 tasks      | elapsed: 26.8min\n",
      "[Parallel(n_jobs=-1)]: Done 2442 tasks      | elapsed: 36.4min\n",
      "[Parallel(n_jobs=-1)]: Done 2880 out of 2880 | elapsed: 42.9min finished\n"
     ]
    },
    {
     "name": "stdout",
     "output_type": "stream",
     "text": [
      "Wall time: 42min 58s\n"
     ]
    }
   ],
   "source": [
    "%%time\n",
    "reg_model3 = model2.fit(train_X, y)"
   ]
  },
  {
   "cell_type": "code",
   "execution_count": 63,
   "metadata": {},
   "outputs": [
    {
     "data": {
      "text/plain": [
       "0.11495273516491124"
      ]
     },
     "execution_count": 63,
     "metadata": {},
     "output_type": "execute_result"
    }
   ],
   "source": [
    "reg_model3.best_score_"
   ]
  },
  {
   "cell_type": "code",
   "execution_count": null,
   "metadata": {
    "collapsed": true
   },
   "outputs": [],
   "source": []
  }
 ],
 "metadata": {
  "kernelspec": {
   "display_name": "Python 3",
   "language": "python",
   "name": "python3"
  },
  "language_info": {
   "codemirror_mode": {
    "name": "ipython",
    "version": 3
   },
   "file_extension": ".py",
   "mimetype": "text/x-python",
   "name": "python",
   "nbconvert_exporter": "python",
   "pygments_lexer": "ipython3",
   "version": "3.6.1"
  }
 },
 "nbformat": 4,
 "nbformat_minor": 2
}
