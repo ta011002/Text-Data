{
 "cells": [
  {
   "cell_type": "markdown",
   "metadata": {},
   "source": [
    "# Crowdflower Search Result Relevance"
   ]
  },
  {
   "cell_type": "markdown",
   "metadata": {},
   "source": [
    "* 설명\n",
    "  * 검색 결과의 관련성을 측정하는 데 사용할 수있는 오픈 소스 모델을 만드는 것\n",
    "  * 전자 상거래 사이트의 검색어 및 결과 제품, 제품 설명을 통해 검색 알고리즘의 정확성을 평가"
   ]
  },
  {
   "cell_type": "markdown",
   "metadata": {},
   "source": [
    "* 평가\n",
    "  * 두 등급 간의 일치도를 측정하는 quadratic weighted kappa 기준으로 채점\n",
    "  * 인간의 평가 점수와 예측 평가 점수의 일치도 측정\n",
    "  * 0 (평가자 간의 임의 합의)에서 1 (평가자 간의 완전한 합의)"
   ]
  },
  {
   "cell_type": "markdown",
   "metadata": {},
   "source": [
    "* ### Data 설명"
   ]
  },
  {
   "cell_type": "markdown",
   "metadata": {},
   "source": [
    "* train.csv - training data set\n",
    "  - id : 제품 ID\n",
    "  - query : 검색어 사용\n",
    "  - product title : 제품 이름\n",
    "  - product_description : HTML 형식 지정 태그와 함께 전체 제품 설명\n",
    "  - median_relevance : 3 명의 평가자에 의한 중앙 관련성 점수. 1 - 4 사이의 정수\n",
    "  - relevance_variance : 평가자가 준 관련성 점수의 편차. "
   ]
  },
  {
   "cell_type": "markdown",
   "metadata": {},
   "source": [
    "* test.csv - test data set\n",
    "  - id : 제품 ID\n",
    "  - query : 검색어 사용\n",
    "  - product title : 제품 이름\n",
    "  - product_description : HTML 형식 지정 태그와 함께 전체 제품 설명"
   ]
  },
  {
   "cell_type": "markdown",
   "metadata": {},
   "source": [
    "* ampleSubmission.csv - sample submission correct format\n",
    "  - id : 제품 ID\n",
    "  - prediction : 예측 값"
   ]
  },
  {
   "cell_type": "code",
   "execution_count": null,
   "metadata": {
    "collapsed": true
   },
   "outputs": [],
   "source": []
  },
  {
   "cell_type": "markdown",
   "metadata": {},
   "source": [
    "## Training Goal"
   ]
  },
  {
   "cell_type": "markdown",
   "metadata": {},
   "source": [
    "* 검색어와 상품 설명 사이의 관계를 확인하기 위해서 qeury 와 description(title + description) 을 따로 embedding (Question / Result)\n",
    "  - TF-IDF embedding 시 toarray를 할 경우 memory를 많이 차지하기 때문에 transform 만으로 sparse matrix 생성"
   ]
  },
  {
   "cell_type": "markdown",
   "metadata": {},
   "source": [
    "* 각각 embedding 후 concate 등을 통해서 matrix 병합"
   ]
  },
  {
   "cell_type": "markdown",
   "metadata": {},
   "source": [
    "* target data 가 1~4 정수의 평가 점수로 neumeric 하기 때문에 xgboot 등을 통해서 regression 적용"
   ]
  },
  {
   "cell_type": "code",
   "execution_count": null,
   "metadata": {
    "collapsed": true
   },
   "outputs": [],
   "source": []
  },
  {
   "cell_type": "code",
   "execution_count": null,
   "metadata": {
    "collapsed": true
   },
   "outputs": [],
   "source": []
  },
  {
   "cell_type": "markdown",
   "metadata": {},
   "source": [
    "## 1. Preprocessing\n",
    "  1. Train data 와 Test data 를 합쳐 corpus 제작 :**sentence**\n",
    "  2. 3개의 product 정보를 하나로 통합 : **sentence**\n",
    "  3. 대문자 Text data 를 소문자로 변환 : **sentence**\n",
    "  4. stopword - 2글자 이상의 알파벳, ennglish, html 용어 : **word list**\n",
    "  5. stemming : **word list**\n",
    "  6. word embedding 을 위해 각 product 의 word list 를 sentence 로 변환 :**sentence**\n",
    "  7. TF-IDF : **matrix**"
   ]
  },
  {
   "cell_type": "markdown",
   "metadata": {},
   "source": [
    "## 2. Modeling\n",
    "  1. TruncatedSVD\n",
    "  2. Modeling"
   ]
  },
  {
   "cell_type": "code",
   "execution_count": 1,
   "metadata": {
    "collapsed": true
   },
   "outputs": [],
   "source": [
    "import numpy as np\n",
    "import pandas as pd\n",
    "import sklearn as sk\n",
    "\n",
    "import matplotlib as mpl\n",
    "import matplotlib.pylab as plt\n",
    "from mpl_toolkits.mplot3d import Axes3D\n",
    "\n",
    "from sklearn.metrics import confusion_matrix, classification_report, roc_curve, auc, roc_auc_score, accuracy_score\n",
    "\n",
    "import joblib\n",
    "from joblib import dump, load\n",
    "\n",
    "pd.options.display.max_columns = 400\n",
    "pd.options.display.max_rows = 200\n",
    "pd.options.display.max_colwidth = 600\n",
    "pd.options.display.precision = 10"
   ]
  },
  {
   "cell_type": "markdown",
   "metadata": {},
   "source": [
    "## Data load / Variables define"
   ]
  },
  {
   "cell_type": "markdown",
   "metadata": {},
   "source": [
    "* train data / test data / submission data load"
   ]
  },
  {
   "cell_type": "code",
   "execution_count": 2,
   "metadata": {
    "collapsed": true
   },
   "outputs": [],
   "source": [
    "df_train = pd.read_excel(\"./__data/excel/train.xlsx\").fillna(\"\")\n",
    "df_test = pd.read_excel(\"./__data/excel/test.xlsx\").fillna(\"\")\n",
    "test_sub = pd.read_excel(\"./__data/excel/sampleSubmission.xlsx\")"
   ]
  },
  {
   "cell_type": "code",
   "execution_count": 3,
   "metadata": {
    "collapsed": true
   },
   "outputs": [],
   "source": [
    "df_train = df_train.drop('Unnamed: 6', axis = 1)\n",
    "df_train = df_train.drop('Unnamed: 7', axis = 1)"
   ]
  },
  {
   "cell_type": "code",
   "execution_count": 4,
   "metadata": {
    "collapsed": true
   },
   "outputs": [],
   "source": [
    "df_test = df_test.drop('Unnamed: 4', axis = 1)\n",
    "df_test = df_test.drop('Unnamed: 5', axis = 1)"
   ]
  },
  {
   "cell_type": "code",
   "execution_count": 5,
   "metadata": {},
   "outputs": [
    {
     "data": {
      "text/html": [
       "<div>\n",
       "<style>\n",
       "    .dataframe thead tr:only-child th {\n",
       "        text-align: right;\n",
       "    }\n",
       "\n",
       "    .dataframe thead th {\n",
       "        text-align: left;\n",
       "    }\n",
       "\n",
       "    .dataframe tbody tr th {\n",
       "        vertical-align: top;\n",
       "    }\n",
       "</style>\n",
       "<table border=\"1\" class=\"dataframe\">\n",
       "  <thead>\n",
       "    <tr style=\"text-align: right;\">\n",
       "      <th></th>\n",
       "      <th>id</th>\n",
       "      <th>query</th>\n",
       "      <th>product_title</th>\n",
       "      <th>product_description</th>\n",
       "      <th>median_relevance</th>\n",
       "      <th>relevance_variance</th>\n",
       "    </tr>\n",
       "  </thead>\n",
       "  <tbody>\n",
       "    <tr>\n",
       "      <th>10154</th>\n",
       "      <td>32663</td>\n",
       "      <td>playstation vita system</td>\n",
       "      <td>MLB 15: The Show (PlayStation Vita)</td>\n",
       "      <td>An essential part of every fan?셲 season and The Show?셲 10th anniversary edition, MLB 15 The Show is full of new features that deliver the most accurate sports simulation possible. \\n\\nFor the first time, partnerships with real-world equipment brands will bring MLB-accurate bats, gloves, shoes, and batting gloves to the game. Customize your Road to The Show player in the best gear from the sport?셲 best brands. \\n\\nIt?셲 not just the gear that?셲 more authentic this year. Players and teams also have more unique personalities and styles plus a wide array of emotional reactions to all the heartb...</td>\n",
       "      <td>2</td>\n",
       "      <td>1.247</td>\n",
       "    </tr>\n",
       "    <tr>\n",
       "      <th>10155</th>\n",
       "      <td>32666</td>\n",
       "      <td>flower bulbs</td>\n",
       "      <td>Junkyard Findings Vintage Trinkets-Small Typo Bulbs 8/Pkg</td>\n",
       "      <td>PRIMA FLOWERS-Junkyard Findings Vintage Trinkets: Typo Bulbs. These trinkets have a vintage style that will look great when incorporated into various paper crafting; mixed media; or home accent projects. Each one looks like half of a light bulb and features a different sentiment printed on the surface. Overall measurements are 1-1/4x1/2x1/4 inch. This package contains eight total trinkets. Imported</td>\n",
       "      <td>1</td>\n",
       "      <td>0.471</td>\n",
       "    </tr>\n",
       "    <tr>\n",
       "      <th>10156</th>\n",
       "      <td>32668</td>\n",
       "      <td>polar heart rate monitor</td>\n",
       "      <td>Polar F6 Black Coal Heart Rate Monitor Mens Pink Tone</td>\n",
       "      <td></td>\n",
       "      <td>4</td>\n",
       "      <td>0</td>\n",
       "    </tr>\n",
       "  </tbody>\n",
       "</table>\n",
       "</div>"
      ],
      "text/plain": [
       "          id                     query  \\\n",
       "10154  32663   playstation vita system   \n",
       "10155  32666              flower bulbs   \n",
       "10156  32668  polar heart rate monitor   \n",
       "\n",
       "                                                   product_title  \\\n",
       "10154                        MLB 15: The Show (PlayStation Vita)   \n",
       "10155  Junkyard Findings Vintage Trinkets-Small Typo Bulbs 8/Pkg   \n",
       "10156      Polar F6 Black Coal Heart Rate Monitor Mens Pink Tone   \n",
       "\n",
       "                                                                                                                                                                                                                                                                                                                                                                                                                                                                                                                                                                                                           product_description  \\\n",
       "10154  An essential part of every fan?셲 season and The Show?셲 10th anniversary edition, MLB 15 The Show is full of new features that deliver the most accurate sports simulation possible. \\n\\nFor the first time, partnerships with real-world equipment brands will bring MLB-accurate bats, gloves, shoes, and batting gloves to the game. Customize your Road to The Show player in the best gear from the sport?셲 best brands. \\n\\nIt?셲 not just the gear that?셲 more authentic this year. Players and teams also have more unique personalities and styles plus a wide array of emotional reactions to all the heartb...   \n",
       "10155                                                                                                                                                                                                        PRIMA FLOWERS-Junkyard Findings Vintage Trinkets: Typo Bulbs. These trinkets have a vintage style that will look great when incorporated into various paper crafting; mixed media; or home accent projects. Each one looks like half of a light bulb and features a different sentiment printed on the surface. Overall measurements are 1-1/4x1/2x1/4 inch. This package contains eight total trinkets. Imported   \n",
       "10156                                                                                                                                                                                                                                                                                                                                                                                                                                                                                                                                                                                                                            \n",
       "\n",
       "      median_relevance relevance_variance  \n",
       "10154                2              1.247  \n",
       "10155                1              0.471  \n",
       "10156                4                  0  "
      ]
     },
     "execution_count": 5,
     "metadata": {},
     "output_type": "execute_result"
    }
   ],
   "source": [
    "df_train.tail(3)"
   ]
  },
  {
   "cell_type": "markdown",
   "metadata": {},
   "source": [
    "* ### html 제거"
   ]
  },
  {
   "cell_type": "code",
   "execution_count": 6,
   "metadata": {},
   "outputs": [
    {
     "name": "stderr",
     "output_type": "stream",
     "text": [
      "C:\\Users\\tjdal\\Anaconda3\\lib\\site-packages\\ipykernel_launcher.py:3: SettingWithCopyWarning: \n",
      "A value is trying to be set on a copy of a slice from a DataFrame\n",
      "\n",
      "See the caveats in the documentation: http://pandas.pydata.org/pandas-docs/stable/indexing.html#indexing-view-versus-copy\n",
      "  This is separate from the ipykernel package so we can avoid doing imports until\n"
     ]
    }
   ],
   "source": [
    "for num in range(len(df_train['product_description'])):\n",
    "    if '<ul>' in df_train['product_description'][num]:\n",
    "        df_train['product_description'][num] = []        "
   ]
  },
  {
   "cell_type": "markdown",
   "metadata": {},
   "source": [
    "* ### Target data 확인"
   ]
  },
  {
   "cell_type": "code",
   "execution_count": 7,
   "metadata": {
    "collapsed": true
   },
   "outputs": [],
   "source": [
    "y = df_train['median_relevance']"
   ]
  },
  {
   "cell_type": "code",
   "execution_count": 8,
   "metadata": {},
   "outputs": [
    {
     "data": {
      "text/plain": [
       "10154    2\n",
       "10155    1\n",
       "10156    4\n",
       "Name: median_relevance, dtype: object"
      ]
     },
     "execution_count": 8,
     "metadata": {},
     "output_type": "execute_result"
    }
   ],
   "source": [
    "y.tail(3)"
   ]
  },
  {
   "cell_type": "code",
   "execution_count": 9,
   "metadata": {},
   "outputs": [
    {
     "data": {
      "text/plain": [
       "array([1, 4, 2, 3, \"California Golden Bears Men's Polo Grey XXL\"], dtype=object)"
      ]
     },
     "execution_count": 9,
     "metadata": {},
     "output_type": "execute_result"
    }
   ],
   "source": [
    "y.unique()"
   ]
  },
  {
   "cell_type": "code",
   "execution_count": 10,
   "metadata": {
    "collapsed": true
   },
   "outputs": [],
   "source": [
    "y = y.replace(\"California Golden Bears Men's Polo Grey XXL\", 0)"
   ]
  },
  {
   "cell_type": "code",
   "execution_count": 11,
   "metadata": {},
   "outputs": [
    {
     "data": {
      "text/plain": [
       "array([1, 4, 2, 3, 0], dtype=int64)"
      ]
     },
     "execution_count": 11,
     "metadata": {},
     "output_type": "execute_result"
    }
   ],
   "source": [
    "y.unique()"
   ]
  },
  {
   "cell_type": "code",
   "execution_count": 12,
   "metadata": {},
   "outputs": [
    {
     "data": {
      "text/plain": [
       "3"
      ]
     },
     "execution_count": 12,
     "metadata": {},
     "output_type": "execute_result"
    }
   ],
   "source": [
    "int(y.mean())"
   ]
  },
  {
   "cell_type": "code",
   "execution_count": 13,
   "metadata": {
    "collapsed": true
   },
   "outputs": [],
   "source": [
    "y = y.replace(0, int(y.mean()))"
   ]
  },
  {
   "cell_type": "code",
   "execution_count": 14,
   "metadata": {},
   "outputs": [
    {
     "data": {
      "text/plain": [
       "array([1, 4, 2, 3], dtype=int64)"
      ]
     },
     "execution_count": 14,
     "metadata": {},
     "output_type": "execute_result"
    }
   ],
   "source": [
    "y.unique()"
   ]
  },
  {
   "cell_type": "code",
   "execution_count": 15,
   "metadata": {
    "collapsed": true
   },
   "outputs": [],
   "source": [
    "def count_bar_plot(data):\n",
    "    data_count = data.value_counts()\n",
    "    data_count.plot(kind='bar')\n",
    "    plt.ylabel('Data count')\n",
    "    fig = plt.gcf()\n",
    "    fig.set_size_inches(12, 5)\n",
    "    plt.show()"
   ]
  },
  {
   "cell_type": "code",
   "execution_count": 16,
   "metadata": {
    "scrolled": true
   },
   "outputs": [
    {
     "data": {
      "image/png": "[encoded data removed]",
      "text/plain": [
       "<matplotlib.figure.Figure at 0x1cc67e30ef0>"
      ]
     },
     "metadata": {},
     "output_type": "display_data"
    }
   ],
   "source": [
    "count_bar_plot(y)"
   ]
  },
  {
   "cell_type": "code",
   "execution_count": 129,
   "metadata": {},
   "outputs": [
    {
     "data": {
      "text/plain": [
       "['y.pkl']"
      ]
     },
     "execution_count": 129,
     "metadata": {},
     "output_type": "execute_result"
    }
   ],
   "source": [
    "joblib.dump(y, 'y.pkl')"
   ]
  },
  {
   "cell_type": "code",
   "execution_count": null,
   "metadata": {
    "collapsed": true
   },
   "outputs": [],
   "source": []
  },
  {
   "cell_type": "markdown",
   "metadata": {},
   "source": [
    "* ### Train data / Test data 를 사용하여 corpus 제작"
   ]
  },
  {
   "cell_type": "code",
   "execution_count": 17,
   "metadata": {
    "collapsed": true
   },
   "outputs": [],
   "source": [
    "df_corpus = pd.concat([df_train, df_test], axis=0)"
   ]
  },
  {
   "cell_type": "code",
   "execution_count": 18,
   "metadata": {
    "collapsed": true
   },
   "outputs": [],
   "source": [
    "df_corpus = df_corpus.drop('median_relevance', axis = 1)\n",
    "df_corpus = df_corpus.drop('relevance_variance', axis = 1)"
   ]
  },
  {
   "cell_type": "code",
   "execution_count": 19,
   "metadata": {},
   "outputs": [
    {
     "data": {
      "text/html": [
       "<div>\n",
       "<style>\n",
       "    .dataframe thead tr:only-child th {\n",
       "        text-align: right;\n",
       "    }\n",
       "\n",
       "    .dataframe thead th {\n",
       "        text-align: left;\n",
       "    }\n",
       "\n",
       "    .dataframe tbody tr th {\n",
       "        vertical-align: top;\n",
       "    }\n",
       "</style>\n",
       "<table border=\"1\" class=\"dataframe\">\n",
       "  <thead>\n",
       "    <tr style=\"text-align: right;\">\n",
       "      <th></th>\n",
       "      <th>0</th>\n",
       "    </tr>\n",
       "  </thead>\n",
       "  <tbody>\n",
       "    <tr>\n",
       "      <th>query</th>\n",
       "      <td>0</td>\n",
       "    </tr>\n",
       "    <tr>\n",
       "      <th>product_title</th>\n",
       "      <td>0</td>\n",
       "    </tr>\n",
       "    <tr>\n",
       "      <th>product_description</th>\n",
       "      <td>0</td>\n",
       "    </tr>\n",
       "    <tr>\n",
       "      <th>id</th>\n",
       "      <td>0</td>\n",
       "    </tr>\n",
       "  </tbody>\n",
       "</table>\n",
       "</div>"
      ],
      "text/plain": [
       "                     0\n",
       "query                0\n",
       "product_title        0\n",
       "product_description  0\n",
       "id                   0"
      ]
     },
     "execution_count": 19,
     "metadata": {},
     "output_type": "execute_result"
    }
   ],
   "source": [
    "pd.DataFrame(df_corpus.isnull().sum().sort_values(ascending=False))"
   ]
  },
  {
   "cell_type": "code",
   "execution_count": 20,
   "metadata": {},
   "outputs": [
    {
     "data": {
      "text/plain": [
       "32668"
      ]
     },
     "execution_count": 20,
     "metadata": {},
     "output_type": "execute_result"
    }
   ],
   "source": [
    "len((df_corpus['id']))"
   ]
  },
  {
   "cell_type": "code",
   "execution_count": 21,
   "metadata": {
    "scrolled": true
   },
   "outputs": [
    {
     "data": {
      "text/html": [
       "<div>\n",
       "<style>\n",
       "    .dataframe thead tr:only-child th {\n",
       "        text-align: right;\n",
       "    }\n",
       "\n",
       "    .dataframe thead th {\n",
       "        text-align: left;\n",
       "    }\n",
       "\n",
       "    .dataframe tbody tr th {\n",
       "        vertical-align: top;\n",
       "    }\n",
       "</style>\n",
       "<table border=\"1\" class=\"dataframe\">\n",
       "  <thead>\n",
       "    <tr style=\"text-align: right;\">\n",
       "      <th></th>\n",
       "      <th>id</th>\n",
       "      <th>product_description</th>\n",
       "      <th>product_title</th>\n",
       "      <th>query</th>\n",
       "    </tr>\n",
       "  </thead>\n",
       "  <tbody>\n",
       "    <tr>\n",
       "      <th>22508</th>\n",
       "      <td>32669</td>\n",
       "      <td>The Grappling Gloves are built to serve and protect. One of the best things a training fighter can do is to make sure that they don?셳 get injured while training. One of the worst things a fighter can do is to sustain an injury in the gym</td>\n",
       "      <td>Lion Martial Arts Large Red Grappling Glove Pair</td>\n",
       "      <td>gym gloves</td>\n",
       "    </tr>\n",
       "    <tr>\n",
       "      <th>22509</th>\n",
       "      <td>32670</td>\n",
       "      <td>The team behind Disney's Wreck-It Ralph, the tale of a video game villain who wants to go good, committed to authenticity at every level of the movie, from including Q-Bert and and Clyde (aka the orange ghost from Pac-Man) as minor characters to making sure the film's music conveyed the golden age of arcade games and the feel of the games that followed. Wreck-It-Ralph shows that composer Henry Jackman and the other artists featured here did an impressive job of capturing that spirit without getting geeky enough to alienate anyone not steeped in gamer culture. That said, this soundtrack rel...</td>\n",
       "      <td>Wreck-It Ralph (Original Score)</td>\n",
       "      <td>wreck it ralph</td>\n",
       "    </tr>\n",
       "    <tr>\n",
       "      <th>22510</th>\n",
       "      <td>32671</td>\n",
       "      <td>Hair accessories that really hold! Goody Slide Proof accessories are infused with Slide-Proof technology to provide a secure hold without sacrificng style. Be confident that your accessories will not roll, slide, or fall out of your hair,no matter what! Keep your hairstyle in place with Goody Slide-Proof headwraps.</td>\n",
       "      <td>Goody Slide proof Claw Clip, Large (Pack of 2)</td>\n",
       "      <td>hair accessories</td>\n",
       "    </tr>\n",
       "  </tbody>\n",
       "</table>\n",
       "</div>"
      ],
      "text/plain": [
       "          id  \\\n",
       "22508  32669   \n",
       "22509  32670   \n",
       "22510  32671   \n",
       "\n",
       "                                                                                                                                                                                                                                                                                                                                                                                                                                                                                                                                                                                                           product_description  \\\n",
       "22508                                                                                                                                                                                                                                                                                                                                                                            The Grappling Gloves are built to serve and protect. One of the best things a training fighter can do is to make sure that they don?셳 get injured while training. One of the worst things a fighter can do is to sustain an injury in the gym   \n",
       "22509  The team behind Disney's Wreck-It Ralph, the tale of a video game villain who wants to go good, committed to authenticity at every level of the movie, from including Q-Bert and and Clyde (aka the orange ghost from Pac-Man) as minor characters to making sure the film's music conveyed the golden age of arcade games and the feel of the games that followed. Wreck-It-Ralph shows that composer Henry Jackman and the other artists featured here did an impressive job of capturing that spirit without getting geeky enough to alienate anyone not steeped in gamer culture. That said, this soundtrack rel...   \n",
       "22510                                                                                                                                                                                                                                                                                             Hair accessories that really hold! Goody Slide Proof accessories are infused with Slide-Proof technology to provide a secure hold without sacrificng style. Be confident that your accessories will not roll, slide, or fall out of your hair,no matter what! Keep your hairstyle in place with Goody Slide-Proof headwraps.   \n",
       "\n",
       "                                          product_title             query  \n",
       "22508  Lion Martial Arts Large Red Grappling Glove Pair        gym gloves  \n",
       "22509                   Wreck-It Ralph (Original Score)    wreck it ralph  \n",
       "22510    Goody Slide proof Claw Clip, Large (Pack of 2)  hair accessories  "
      ]
     },
     "execution_count": 21,
     "metadata": {},
     "output_type": "execute_result"
    }
   ],
   "source": [
    "df_corpus.tail(3)"
   ]
  },
  {
   "cell_type": "code",
   "execution_count": null,
   "metadata": {
    "collapsed": true
   },
   "outputs": [],
   "source": []
  },
  {
   "cell_type": "markdown",
   "metadata": {},
   "source": [
    "# Preprocessing"
   ]
  },
  {
   "cell_type": "code",
   "execution_count": 22,
   "metadata": {},
   "outputs": [
    {
     "data": {
      "text/plain": [
       "'Like a silent and sturdy tree, the Southern Enterprises Bird and Branch Coat Rack is an eye-catching addition to your home d챕cor. This tree themed coat rack features strong branches with pinecone accents and a small bird perched at the top to give it a whimsical and welcoming appearance while still making it sturdy enough to hold your coats, hats, umbrellas and more. Whether it serves as a coat rack, a hat rack or a combination of the two, it?셪l be a great space saver that gets appreciated for its graceful appearance.\\nNumber of Hooks: 10\\nFrame Material: Metal\\nHardware Material: Metal\\nDimensions: 69.5 \" H x 13.25 \" W x 13.25 \" D\\nWeight: 12.0 Lb.\\nAssembly Details: assembly required'"
      ]
     },
     "execution_count": 22,
     "metadata": {},
     "output_type": "execute_result"
    }
   ],
   "source": [
    "df_train['product_description'][3]"
   ]
  },
  {
   "cell_type": "markdown",
   "metadata": {},
   "source": [
    "* ### 각 product 에 대한 정보를 하나로 합친 후 list 의 형태로 변환"
   ]
  },
  {
   "cell_type": "code",
   "execution_count": 23,
   "metadata": {
    "collapsed": true
   },
   "outputs": [],
   "source": [
    "def feature_merge(df_text):\n",
    "    textdata = list(df_text.apply(lambda x:'%s %s' % (x['product_title'], x['product_description']), axis=1))\n",
    "    return textdata"
   ]
  },
  {
   "cell_type": "code",
   "execution_count": 24,
   "metadata": {
    "collapsed": true
   },
   "outputs": [],
   "source": [
    "# question 변수 생성\n",
    "\n",
    "train_q = list(df_train['query'])\n",
    "test_q = list(df_test['query'])"
   ]
  },
  {
   "cell_type": "code",
   "execution_count": 25,
   "metadata": {
    "collapsed": true
   },
   "outputs": [],
   "source": [
    "# result 변수 생성\n",
    "\n",
    "train_r =feature_merge(df_train)\n",
    "test_r = feature_merge(df_test)"
   ]
  },
  {
   "cell_type": "code",
   "execution_count": 26,
   "metadata": {},
   "outputs": [
    {
     "name": "stdout",
     "output_type": "stream",
     "text": [
      "Wall time: 1.92 s\n"
     ]
    }
   ],
   "source": [
    "%%time\n",
    "corpusdata = list(df_corpus.apply(lambda x:'%s %s %s' % (x['query'], x['product_title'], x['product_description']), axis=1))"
   ]
  },
  {
   "cell_type": "code",
   "execution_count": 144,
   "metadata": {},
   "outputs": [
    {
     "data": {
      "text/plain": [
       "['corpusdata.pkl']"
      ]
     },
     "execution_count": 144,
     "metadata": {},
     "output_type": "execute_result"
    }
   ],
   "source": [
    "joblib.dump(corpusdata, 'corpusdata.pkl')"
   ]
  },
  {
   "cell_type": "markdown",
   "metadata": {},
   "source": [
    "* #### product 정보의 최소 길이와 최대 길이 확인"
   ]
  },
  {
   "cell_type": "code",
   "execution_count": 27,
   "metadata": {
    "collapsed": true
   },
   "outputs": [],
   "source": [
    "def length_check(data):\n",
    "    length = []\n",
    "    for num in range(len(data)):\n",
    "        length.append(len(data[num]))\n",
    "    \n",
    "    print('Max length : ', max(length))\n",
    "    print('Min length : ', min(length))"
   ]
  },
  {
   "cell_type": "code",
   "execution_count": 28,
   "metadata": {},
   "outputs": [
    {
     "name": "stdout",
     "output_type": "stream",
     "text": [
      "Max length :  33\n",
      "Min length :  2\n"
     ]
    }
   ],
   "source": [
    "length_check(train_q)"
   ]
  },
  {
   "cell_type": "code",
   "execution_count": 29,
   "metadata": {},
   "outputs": [
    {
     "name": "stdout",
     "output_type": "stream",
     "text": [
      "Max length :  18154\n",
      "Min length :  9\n"
     ]
    }
   ],
   "source": [
    "length_check(train_r)"
   ]
  },
  {
   "cell_type": "code",
   "execution_count": 30,
   "metadata": {},
   "outputs": [
    {
     "name": "stdout",
     "output_type": "stream",
     "text": [
      "Max length :  33\n",
      "Min length :  2\n"
     ]
    }
   ],
   "source": [
    "length_check(test_q)"
   ]
  },
  {
   "cell_type": "code",
   "execution_count": 31,
   "metadata": {},
   "outputs": [
    {
     "name": "stdout",
     "output_type": "stream",
     "text": [
      "Max length :  25909\n",
      "Min length :  5\n"
     ]
    }
   ],
   "source": [
    "length_check(test_r)"
   ]
  },
  {
   "cell_type": "code",
   "execution_count": 32,
   "metadata": {},
   "outputs": [
    {
     "name": "stdout",
     "output_type": "stream",
     "text": [
      "Max length :  25931\n",
      "Min length :  15\n"
     ]
    }
   ],
   "source": [
    "length_check(corpusdata)"
   ]
  },
  {
   "cell_type": "code",
   "execution_count": 33,
   "metadata": {},
   "outputs": [
    {
     "name": "stdout",
     "output_type": "stream",
     "text": [
      "32668\n"
     ]
    }
   ],
   "source": [
    "print(len(corpusdata))"
   ]
  },
  {
   "cell_type": "markdown",
   "metadata": {},
   "source": [
    "* ### 모든 Text data 를 소문자로 변환"
   ]
  },
  {
   "cell_type": "code",
   "execution_count": 34,
   "metadata": {
    "collapsed": true
   },
   "outputs": [],
   "source": [
    "def lower_convert(data):\n",
    "    for num in range(len(data)):\n",
    "        data[num] = data[num].lower()"
   ]
  },
  {
   "cell_type": "code",
   "execution_count": 35,
   "metadata": {
    "collapsed": true
   },
   "outputs": [],
   "source": [
    "lower_convert(train_q)\n",
    "lower_convert(train_r)\n",
    "lower_convert(test_q)\n",
    "lower_convert(test_r)\n",
    "lower_convert(corpusdata)"
   ]
  },
  {
   "cell_type": "code",
   "execution_count": 36,
   "metadata": {},
   "outputs": [
    {
     "data": {
      "text/plain": [
       "['bridal shower decorations accent pillow with heart design - red/black red satin accent pillow embroidered with a heart in black thread. 8\" x 8\".',\n",
       " 'led christmas lights set of 10 battery operated multi led train christmas lights - clear wire set of 10 battery operated train christmas lights item #x124210 features: color: multi-color bulbs with matching train light covers / clear wire multi-color consists of red, green, blue and yellow bulbs number of bulbs on string: 10 bulb size: micro led spacing between bulbs: 6 inches lighted length: 4.5 feet total length: 5.5 feet 12 inch lead cord additional product features: led lights use 90% less energy cool to the touch if one bulb burns out, the rest will stay lit lights are equipped with lamp lock feature, which makes them replaceable, interchangeable and keeps them from falling out requires 3 \"aa\" batteries (not included) convenient on/off/timer switch located on battery pack timer function on battery pack allows for 6 hours on and 18 hours off cannot connect multiple sets together ul listed for indoor use only train dimensions: 1.5\"h x 1.8\"w x .5\"d material(s): plastic/wire/acrylic',\n",
       " 'projector viewsonic pro8200 dlp multimedia projector ',\n",
       " 'wine rack concept housewares wr-44526 solid-wood ceiling/wall-mount wine rack, charcoal grey, 6 bottle like a silent and sturdy tree, the southern enterprises bird and branch coat rack is an eye-catching addition to your home d챕cor. this tree themed coat rack features strong branches with pinecone accents and a small bird perched at the top to give it a whimsical and welcoming appearance while still making it sturdy enough to hold your coats, hats, umbrellas and more. whether it serves as a coat rack, a hat rack or a combination of the two, it?셪l be a great space saver that gets appreciated for its graceful appearance.\\nnumber of hooks: 10\\nframe material: metal\\nhardware material: metal\\ndimensions: 69.5 \" h x 13.25 \" w x 13.25 \" d\\nweight: 12.0 lb.\\nassembly details: assembly required',\n",
       " 'light bulb wintergreen lighting christmas led light bulb (pack of 25) wtgr1011\\nfeatures\\nnickel base, 60,000 average hours, acrylic resin bulb material\\nchristmas light bulb\\nsteady dimmable replacement lamps\\nnickel bases prevent corrosion in sockets\\nwattage: 0.96 watts\\nvoltage: 130 volts\\ndimmable: yes\\nlight source: led\\nbulb shape type: candle\\n\\ncolor amber\\nbulb color: amber']"
      ]
     },
     "execution_count": 36,
     "metadata": {},
     "output_type": "execute_result"
    }
   ],
   "source": [
    "corpusdata[:5]"
   ]
  },
  {
   "cell_type": "markdown",
   "metadata": {},
   "source": [
    "* ### 2글자 이상의 알파벳만 존재하도록 Stopwords 생성 및 적용"
   ]
  },
  {
   "cell_type": "code",
   "execution_count": 37,
   "metadata": {
    "collapsed": true
   },
   "outputs": [],
   "source": [
    "import re"
   ]
  },
  {
   "cell_type": "code",
   "execution_count": 38,
   "metadata": {
    "collapsed": true
   },
   "outputs": [],
   "source": [
    "def alphabet_stopwords(data):\n",
    "    for num in range(len(data)):\n",
    "        data[num] = re.findall(r'[a-zA-Z]+', data[num])\n",
    "        \n",
    "    for num in range(len(data)):\n",
    "        data[num] = (\" \").join(data[num])\n",
    "    \n",
    "    for num in range(len(data)):\n",
    "        data[num] = re.findall(r'\\w\\w+', data[num])"
   ]
  },
  {
   "cell_type": "code",
   "execution_count": 39,
   "metadata": {},
   "outputs": [
    {
     "name": "stdout",
     "output_type": "stream",
     "text": [
      "Wall time: 6.68 s\n"
     ]
    }
   ],
   "source": [
    "%%time\n",
    "alphabet_stopwords(train_q)\n",
    "alphabet_stopwords(train_r)\n",
    "alphabet_stopwords(test_q)\n",
    "alphabet_stopwords(test_r)\n",
    "alphabet_stopwords(corpusdata)"
   ]
  },
  {
   "cell_type": "markdown",
   "metadata": {},
   "source": [
    "* ### Stopwords (english)"
   ]
  },
  {
   "cell_type": "code",
   "execution_count": 40,
   "metadata": {
    "collapsed": true
   },
   "outputs": [],
   "source": [
    "from nltk.corpus import stopwords"
   ]
  },
  {
   "cell_type": "code",
   "execution_count": 41,
   "metadata": {
    "collapsed": true
   },
   "outputs": [],
   "source": [
    "def eng_stopwords(data):\n",
    "    data_copy = data.copy()\n",
    "    for num in range(len(data_copy)):\n",
    "        data_copy[num] = []\n",
    "    \n",
    "    stop = stopwords.words('english')\n",
    "    \n",
    "    for num in range(len(data)):\n",
    "        for i in range(len(data[num])):\n",
    "            if data[num][i] not in stop:\n",
    "                data_copy[num].append(data[num][i])\n",
    "                \n",
    "    return data_copy"
   ]
  },
  {
   "cell_type": "code",
   "execution_count": 42,
   "metadata": {},
   "outputs": [
    {
     "name": "stdout",
     "output_type": "stream",
     "text": [
      "Wall time: 20.4 s\n"
     ]
    }
   ],
   "source": [
    "%%time\n",
    "train_q = eng_stopwords(train_q)\n",
    "train_r = eng_stopwords(train_r)\n",
    "test_q = eng_stopwords(test_q)\n",
    "test_r = eng_stopwords(test_r)\n",
    "corpus_data = eng_stopwords(corpusdata)"
   ]
  },
  {
   "cell_type": "code",
   "execution_count": 43,
   "metadata": {},
   "outputs": [
    {
     "data": {
      "text/plain": [
       "[['bridal',\n",
       "  'shower',\n",
       "  'decorations',\n",
       "  'accent',\n",
       "  'pillow',\n",
       "  'heart',\n",
       "  'design',\n",
       "  'red',\n",
       "  'black',\n",
       "  'red',\n",
       "  'satin',\n",
       "  'accent',\n",
       "  'pillow',\n",
       "  'embroidered',\n",
       "  'heart',\n",
       "  'black',\n",
       "  'thread'],\n",
       " ['led',\n",
       "  'christmas',\n",
       "  'lights',\n",
       "  'set',\n",
       "  'battery',\n",
       "  'operated',\n",
       "  'multi',\n",
       "  'led',\n",
       "  'train',\n",
       "  'christmas',\n",
       "  'lights',\n",
       "  'clear',\n",
       "  'wire',\n",
       "  'set',\n",
       "  'battery',\n",
       "  'operated',\n",
       "  'train',\n",
       "  'christmas',\n",
       "  'lights',\n",
       "  'item',\n",
       "  'features',\n",
       "  'color',\n",
       "  'multi',\n",
       "  'color',\n",
       "  'bulbs',\n",
       "  'matching',\n",
       "  'train',\n",
       "  'light',\n",
       "  'covers',\n",
       "  'clear',\n",
       "  'wire',\n",
       "  'multi',\n",
       "  'color',\n",
       "  'consists',\n",
       "  'red',\n",
       "  'green',\n",
       "  'blue',\n",
       "  'yellow',\n",
       "  'bulbs',\n",
       "  'number',\n",
       "  'bulbs',\n",
       "  'string',\n",
       "  'bulb',\n",
       "  'size',\n",
       "  'micro',\n",
       "  'led',\n",
       "  'spacing',\n",
       "  'bulbs',\n",
       "  'inches',\n",
       "  'lighted',\n",
       "  'length',\n",
       "  'feet',\n",
       "  'total',\n",
       "  'length',\n",
       "  'feet',\n",
       "  'inch',\n",
       "  'lead',\n",
       "  'cord',\n",
       "  'additional',\n",
       "  'product',\n",
       "  'features',\n",
       "  'led',\n",
       "  'lights',\n",
       "  'use',\n",
       "  'less',\n",
       "  'energy',\n",
       "  'cool',\n",
       "  'touch',\n",
       "  'one',\n",
       "  'bulb',\n",
       "  'burns',\n",
       "  'rest',\n",
       "  'stay',\n",
       "  'lit',\n",
       "  'lights',\n",
       "  'equipped',\n",
       "  'lamp',\n",
       "  'lock',\n",
       "  'feature',\n",
       "  'makes',\n",
       "  'replaceable',\n",
       "  'interchangeable',\n",
       "  'keeps',\n",
       "  'falling',\n",
       "  'requires',\n",
       "  'aa',\n",
       "  'batteries',\n",
       "  'included',\n",
       "  'convenient',\n",
       "  'timer',\n",
       "  'switch',\n",
       "  'located',\n",
       "  'battery',\n",
       "  'pack',\n",
       "  'timer',\n",
       "  'function',\n",
       "  'battery',\n",
       "  'pack',\n",
       "  'allows',\n",
       "  'hours',\n",
       "  'hours',\n",
       "  'cannot',\n",
       "  'connect',\n",
       "  'multiple',\n",
       "  'sets',\n",
       "  'together',\n",
       "  'ul',\n",
       "  'listed',\n",
       "  'indoor',\n",
       "  'use',\n",
       "  'train',\n",
       "  'dimensions',\n",
       "  'material',\n",
       "  'plastic',\n",
       "  'wire',\n",
       "  'acrylic'],\n",
       " ['projector', 'viewsonic', 'pro', 'dlp', 'multimedia', 'projector'],\n",
       " ['wine',\n",
       "  'rack',\n",
       "  'concept',\n",
       "  'housewares',\n",
       "  'wr',\n",
       "  'solid',\n",
       "  'wood',\n",
       "  'ceiling',\n",
       "  'wall',\n",
       "  'mount',\n",
       "  'wine',\n",
       "  'rack',\n",
       "  'charcoal',\n",
       "  'grey',\n",
       "  'bottle',\n",
       "  'like',\n",
       "  'silent',\n",
       "  'sturdy',\n",
       "  'tree',\n",
       "  'southern',\n",
       "  'enterprises',\n",
       "  'bird',\n",
       "  'branch',\n",
       "  'coat',\n",
       "  'rack',\n",
       "  'eye',\n",
       "  'catching',\n",
       "  'addition',\n",
       "  'home',\n",
       "  'cor',\n",
       "  'tree',\n",
       "  'themed',\n",
       "  'coat',\n",
       "  'rack',\n",
       "  'features',\n",
       "  'strong',\n",
       "  'branches',\n",
       "  'pinecone',\n",
       "  'accents',\n",
       "  'small',\n",
       "  'bird',\n",
       "  'perched',\n",
       "  'top',\n",
       "  'give',\n",
       "  'whimsical',\n",
       "  'welcoming',\n",
       "  'appearance',\n",
       "  'still',\n",
       "  'making',\n",
       "  'sturdy',\n",
       "  'enough',\n",
       "  'hold',\n",
       "  'coats',\n",
       "  'hats',\n",
       "  'umbrellas',\n",
       "  'whether',\n",
       "  'serves',\n",
       "  'coat',\n",
       "  'rack',\n",
       "  'hat',\n",
       "  'rack',\n",
       "  'combination',\n",
       "  'two',\n",
       "  'great',\n",
       "  'space',\n",
       "  'saver',\n",
       "  'gets',\n",
       "  'appreciated',\n",
       "  'graceful',\n",
       "  'appearance',\n",
       "  'number',\n",
       "  'hooks',\n",
       "  'frame',\n",
       "  'material',\n",
       "  'metal',\n",
       "  'hardware',\n",
       "  'material',\n",
       "  'metal',\n",
       "  'dimensions',\n",
       "  'weight',\n",
       "  'lb',\n",
       "  'assembly',\n",
       "  'details',\n",
       "  'assembly',\n",
       "  'required'],\n",
       " ['light',\n",
       "  'bulb',\n",
       "  'wintergreen',\n",
       "  'lighting',\n",
       "  'christmas',\n",
       "  'led',\n",
       "  'light',\n",
       "  'bulb',\n",
       "  'pack',\n",
       "  'wtgr',\n",
       "  'features',\n",
       "  'nickel',\n",
       "  'base',\n",
       "  'average',\n",
       "  'hours',\n",
       "  'acrylic',\n",
       "  'resin',\n",
       "  'bulb',\n",
       "  'material',\n",
       "  'christmas',\n",
       "  'light',\n",
       "  'bulb',\n",
       "  'steady',\n",
       "  'dimmable',\n",
       "  'replacement',\n",
       "  'lamps',\n",
       "  'nickel',\n",
       "  'bases',\n",
       "  'prevent',\n",
       "  'corrosion',\n",
       "  'sockets',\n",
       "  'wattage',\n",
       "  'watts',\n",
       "  'voltage',\n",
       "  'volts',\n",
       "  'dimmable',\n",
       "  'yes',\n",
       "  'light',\n",
       "  'source',\n",
       "  'led',\n",
       "  'bulb',\n",
       "  'shape',\n",
       "  'type',\n",
       "  'candle',\n",
       "  'color',\n",
       "  'amber',\n",
       "  'bulb',\n",
       "  'color',\n",
       "  'amber']]"
      ]
     },
     "execution_count": 43,
     "metadata": {},
     "output_type": "execute_result"
    }
   ],
   "source": [
    "corpus_data[:5]"
   ]
  },
  {
   "cell_type": "markdown",
   "metadata": {},
   "source": [
    "## Stemming"
   ]
  },
  {
   "cell_type": "code",
   "execution_count": 44,
   "metadata": {
    "collapsed": true
   },
   "outputs": [],
   "source": [
    "from nltk.stem import PorterStemmer"
   ]
  },
  {
   "cell_type": "code",
   "execution_count": 45,
   "metadata": {
    "collapsed": true
   },
   "outputs": [],
   "source": [
    "# 타 참가자의 코드 참고\n",
    "\n",
    "def stemPorter(text):\n",
    "            porter = PorterStemmer()\n",
    "            stem_data = []\n",
    "            for num in text:\n",
    "                final_stem = []\n",
    "                for word in num:\n",
    "                    final_stem.append(porter.stem(word))\n",
    "                stem_data.append(final_stem)\n",
    "            return stem_data"
   ]
  },
  {
   "cell_type": "code",
   "execution_count": 46,
   "metadata": {},
   "outputs": [
    {
     "name": "stdout",
     "output_type": "stream",
     "text": [
      "Wall time: 22.6 s\n"
     ]
    }
   ],
   "source": [
    "%%time\n",
    "train_q = stemPorter(train_q)\n",
    "train_r = stemPorter(train_r)"
   ]
  },
  {
   "cell_type": "code",
   "execution_count": 47,
   "metadata": {},
   "outputs": [
    {
     "name": "stdout",
     "output_type": "stream",
     "text": [
      "Wall time: 1min 12s\n"
     ]
    }
   ],
   "source": [
    "%%time\n",
    "test_q = stemPorter(test_q)\n",
    "test_t = stemPorter(test_r)"
   ]
  },
  {
   "cell_type": "code",
   "execution_count": 48,
   "metadata": {},
   "outputs": [
    {
     "name": "stdout",
     "output_type": "stream",
     "text": [
      "Wall time: 3h 47min 52s\n"
     ]
    }
   ],
   "source": [
    "%%time\n",
    "corpus_data = stemPorter(corpus_data)"
   ]
  },
  {
   "cell_type": "markdown",
   "metadata": {},
   "source": [
    "* ### 각 Data 에 가장 많이 분포되어 있는 단어 확인"
   ]
  },
  {
   "cell_type": "code",
   "execution_count": 168,
   "metadata": {
    "collapsed": true
   },
   "outputs": [],
   "source": [
    "def words_count(data):\n",
    "    words = []\n",
    "    for i in range(len(data)):\n",
    "        for j in range(len(data[i])):\n",
    "            words.append(data[i][j])\n",
    "            \n",
    "    words_data = pd.DataFrame(words, columns=['words'])\n",
    "    \n",
    "    words_counts = words_data['words'].value_counts()\n",
    "    words_counts[words_counts > sorted(words_counts)[-11]].plot(kind='bar')\n",
    "    print(words_counts.keys()[:11])\n",
    "    \n",
    "    plt.ylabel('Data count')\n",
    "    fig = plt.gcf()\n",
    "    fig.set_size_inches(12, 7)\n",
    "    plt.show()    "
   ]
  },
  {
   "cell_type": "code",
   "execution_count": 169,
   "metadata": {},
   "outputs": [
    {
     "name": "stdout",
     "output_type": "stream",
     "text": [
      "Index(['dress', 'coffe', 'maker', 'shoe', 'case', 'women', 'shirt', 'memori',\n",
      "       'bike', 'pillow', 'candl'],\n",
      "      dtype='object')\n"
     ]
    },
    {
     "data": {
      "image/png": "[encoded data removed]",
      "text/plain": [
       "<matplotlib.figure.Figure at 0x19d2b4a1080>"
      ]
     },
     "metadata": {},
     "output_type": "display_data"
    }
   ],
   "source": [
    "words_count(train_q)"
   ]
  },
  {
   "cell_type": "code",
   "execution_count": 170,
   "metadata": {},
   "outputs": [
    {
     "name": "stdout",
     "output_type": "stream",
     "text": [
      "Index(['featur', 'set', 'design', 'inch', 'use', 'color', 'includ', 'black',\n",
      "       'comfort', 'make', 'easi'],\n",
      "      dtype='object')\n"
     ]
    },
    {
     "data": {
      "image/png": "[encoded data removed]",
      "text/plain": [
       "<matplotlib.figure.Figure at 0x19d2ab5e860>"
      ]
     },
     "metadata": {},
     "output_type": "display_data"
    }
   ],
   "source": [
    "words_count(train_r)"
   ]
  },
  {
   "cell_type": "code",
   "execution_count": 171,
   "metadata": {
    "scrolled": false
   },
   "outputs": [
    {
     "name": "stdout",
     "output_type": "stream",
     "text": [
      "Index(['dress', 'coffe', 'maker', 'shoe', 'case', 'women', 'shirt', 'tabl',\n",
      "       'bike', 'candl', 'memori'],\n",
      "      dtype='object')\n"
     ]
    },
    {
     "data": {
      "image/png": "[encoded data removed]",
      "text/plain": [
       "<matplotlib.figure.Figure at 0x19d2c8956a0>"
      ]
     },
     "metadata": {},
     "output_type": "display_data"
    }
   ],
   "source": [
    "words_count(test_q)"
   ]
  },
  {
   "cell_type": "code",
   "execution_count": 172,
   "metadata": {},
   "outputs": [
    {
     "name": "stdout",
     "output_type": "stream",
     "text": [
      "Index(['li', 'td', 'strong', 'tr', 'px', 'nbsp', 'br', 'ul', 'table', 'item',\n",
      "       'new'],\n",
      "      dtype='object')\n"
     ]
    },
    {
     "data": {
      "image/png": "[encoded data removed]",
      "text/plain": [
       "<matplotlib.figure.Figure at 0x19d2b2045c0>"
      ]
     },
     "metadata": {},
     "output_type": "display_data"
    }
   ],
   "source": [
    "words_count(test_r)"
   ]
  },
  {
   "cell_type": "code",
   "execution_count": 173,
   "metadata": {},
   "outputs": [
    {
     "name": "stdout",
     "output_type": "stream",
     "text": [
      "Index(['li', 'td', 'strong', 'tr', 'px', 'featur', 'item', 'color', 'tabl',\n",
      "       'nbsp', 'design'],\n",
      "      dtype='object')\n"
     ]
    },
    {
     "data": {
      "image/png": "[encoded data removed]",
      "text/plain": [
       "<matplotlib.figure.Figure at 0x19d3fb42f98>"
      ]
     },
     "metadata": {},
     "output_type": "display_data"
    }
   ],
   "source": [
    "words_count(corpus_data)"
   ]
  },
  {
   "cell_type": "code",
   "execution_count": null,
   "metadata": {
    "collapsed": true
   },
   "outputs": [],
   "source": []
  },
  {
   "cell_type": "markdown",
   "metadata": {},
   "source": [
    "## Data type conversion for word embadding (word list to sentence)"
   ]
  },
  {
   "cell_type": "code",
   "execution_count": 175,
   "metadata": {
    "collapsed": true
   },
   "outputs": [],
   "source": [
    "def data_join(list_data):\n",
    "    for num in range(len(list_data)):\n",
    "        list_data[num] = (\" \").join(list_data[num])"
   ]
  },
  {
   "cell_type": "code",
   "execution_count": 176,
   "metadata": {
    "collapsed": true
   },
   "outputs": [],
   "source": [
    "data_join(train_q)\n",
    "data_join(train_r)\n",
    "data_join(test_q)\n",
    "data_join(test_r)\n",
    "data_join(corpus_data)"
   ]
  },
  {
   "cell_type": "code",
   "execution_count": 177,
   "metadata": {},
   "outputs": [
    {
     "name": "stdout",
     "output_type": "stream",
     "text": [
      "10157\n",
      "10157\n",
      "22511\n",
      "22511\n",
      "32668\n"
     ]
    }
   ],
   "source": [
    "print(len(train_q))\n",
    "print(len(train_r))\n",
    "print(len(test_q))\n",
    "print(len(test_r))\n",
    "print(len(corpus_data))"
   ]
  },
  {
   "cell_type": "code",
   "execution_count": 180,
   "metadata": {},
   "outputs": [
    {
     "data": {
      "text/plain": [
       "['bridal shower decor accent pillow heart design red black red satin accent pillow embroid heart black thread',\n",
       " 'led christma light set batteri oper multi led train christma light clear wire set batteri oper train christma light item featur color multi color bulb match train light cover clear wire multi color consist red green blue yellow bulb number bulb string bulb size micro led space bulb inch light length feet total length feet inch lead cord addit product featur led light use less energi cool touch one bulb burn rest stay lit light equip lamp lock featur make replac interchang keep fall requir aa batteri includ conveni timer switch locat batteri pack timer function batteri pack allow hour hour cannot connect multipl set togeth ul list indoor use train dimens materi plastic wire acryl',\n",
       " 'projector viewson pro dlp multimedia projector',\n",
       " 'wine rack concept housewar wr solid wood ceil wall mount wine rack charcoal grey bottl like silent sturdi tree southern enterpris bird branch coat rack eye catch addit home cor tree theme coat rack featur strong branch pinecon accent small bird perch top give whimsic welcom appear still make sturdi enough hold coat hat umbrella whether serv coat rack hat rack combin two great space saver get appreci grace appear number hook frame materi metal hardwar materi metal dimens weight lb assembl detail assembl requir',\n",
       " 'light bulb wintergreen light christma led light bulb pack wtgr featur nickel base averag hour acryl resin bulb materi christma light bulb steadi dimmabl replac lamp nickel base prevent corros socket wattag watt voltag volt dimmabl ye light sourc led bulb shape type candl color amber bulb color amber']"
      ]
     },
     "execution_count": 180,
     "metadata": {},
     "output_type": "execute_result"
    }
   ],
   "source": [
    "corpus_data[:5]"
   ]
  },
  {
   "cell_type": "markdown",
   "metadata": {},
   "source": [
    "## TF-IDF"
   ]
  },
  {
   "cell_type": "code",
   "execution_count": 185,
   "metadata": {
    "collapsed": true
   },
   "outputs": [],
   "source": [
    "from sklearn.feature_extraction.text import TfidfVectorizer"
   ]
  },
  {
   "cell_type": "code",
   "execution_count": 186,
   "metadata": {
    "collapsed": true
   },
   "outputs": [],
   "source": [
    "tfv = TfidfVectorizer(analyzer='word', token_pattern=r'\\w+', ngram_range=(1, 3), stop_words = 'english')"
   ]
  },
  {
   "cell_type": "code",
   "execution_count": 187,
   "metadata": {},
   "outputs": [
    {
     "name": "stdout",
     "output_type": "stream",
     "text": [
      "Wall time: 19.9 s\n"
     ]
    },
    {
     "data": {
      "text/plain": [
       "TfidfVectorizer(analyzer='word', binary=False, decode_error='strict',\n",
       "        dtype=<class 'numpy.int64'>, encoding='utf-8', input='content',\n",
       "        lowercase=True, max_df=1.0, max_features=None, min_df=1,\n",
       "        ngram_range=(1, 3), norm='l2', preprocessor=None, smooth_idf=True,\n",
       "        stop_words='english', strip_accents=None, sublinear_tf=False,\n",
       "        token_pattern='\\\\w+', tokenizer=None, use_idf=True,\n",
       "        vocabulary=None)"
      ]
     },
     "execution_count": 187,
     "metadata": {},
     "output_type": "execute_result"
    }
   ],
   "source": [
    "%%time\n",
    "tfv.fit(corpus_data)"
   ]
  },
  {
   "cell_type": "code",
   "execution_count": 188,
   "metadata": {},
   "outputs": [
    {
     "name": "stdout",
     "output_type": "stream",
     "text": [
      "Wall time: 13.9 s\n"
     ]
    }
   ],
   "source": [
    "%%time\n",
    "train_Q = tfv.transform(train_q)\n",
    "train_R = tfv.transform(train_r)\n",
    "test_Q = tfv.transform(test_q)\n",
    "test_R = tfv.transform(test_r)"
   ]
  },
  {
   "cell_type": "code",
   "execution_count": 189,
   "metadata": {
    "collapsed": true
   },
   "outputs": [],
   "source": [
    "from scipy.sparse import hstack"
   ]
  },
  {
   "cell_type": "code",
   "execution_count": 191,
   "metadata": {
    "collapsed": true
   },
   "outputs": [],
   "source": [
    "train_X = hstack((train_Q, train_R))"
   ]
  },
  {
   "cell_type": "code",
   "execution_count": 193,
   "metadata": {
    "collapsed": true
   },
   "outputs": [],
   "source": [
    "test_X = hstack((test_Q, test_R))"
   ]
  },
  {
   "cell_type": "code",
   "execution_count": 197,
   "metadata": {},
   "outputs": [
    {
     "name": "stdout",
     "output_type": "stream",
     "text": [
      "(10157, 1366634)\n",
      "(10157, 1366634)\n",
      "(22511, 1366634)\n",
      "(22511, 1366634)\n",
      "(10157, 2733268)\n",
      "(22511, 2733268)\n"
     ]
    }
   ],
   "source": [
    "print(train_Q.shape)\n",
    "print(train_R.shape)\n",
    "print(test_Q.shape)\n",
    "print(test_R.shape)\n",
    "print(train_X.shape)\n",
    "print(test_X.shape)"
   ]
  },
  {
   "cell_type": "code",
   "execution_count": 198,
   "metadata": {},
   "outputs": [
    {
     "data": {
      "text/plain": [
       "['train_X.pkl']"
      ]
     },
     "execution_count": 198,
     "metadata": {},
     "output_type": "execute_result"
    }
   ],
   "source": [
    "joblib.dump(train_X, 'train_X.pkl')"
   ]
  },
  {
   "cell_type": "code",
   "execution_count": 199,
   "metadata": {},
   "outputs": [
    {
     "data": {
      "text/plain": [
       "['test_X.pkl']"
      ]
     },
     "execution_count": 199,
     "metadata": {},
     "output_type": "execute_result"
    }
   ],
   "source": [
    "joblib.dump(test_X, 'test_X.pkl')"
   ]
  },
  {
   "cell_type": "code",
   "execution_count": null,
   "metadata": {
    "collapsed": true
   },
   "outputs": [],
   "source": []
  },
  {
   "cell_type": "markdown",
   "metadata": {},
   "source": [
    "# Modeling"
   ]
  },
  {
   "cell_type": "code",
   "execution_count": 206,
   "metadata": {
    "collapsed": true
   },
   "outputs": [],
   "source": [
    "from sklearn.decomposition import TruncatedSVD\n",
    "from sklearn.preprocessing import StandardScaler\n",
    "import xgboost as xgb\n",
    "from sklearn.model_selection import GridSearchCV\n",
    "from sklearn import pipeline\n",
    "from sklearn import grid_search\n",
    "from sklearn import metrics"
   ]
  },
  {
   "cell_type": "code",
   "execution_count": 207,
   "metadata": {
    "collapsed": true
   },
   "outputs": [],
   "source": [
    "from sklearn.model_selection import train_test_split"
   ]
  },
  {
   "cell_type": "code",
   "execution_count": 208,
   "metadata": {
    "collapsed": true
   },
   "outputs": [],
   "source": [
    "from sklearn.metrics import r2_score"
   ]
  },
  {
   "cell_type": "code",
   "execution_count": 204,
   "metadata": {
    "collapsed": true
   },
   "outputs": [],
   "source": [
    "svd = TruncatedSVD()\n",
    "scl = StandardScaler()\n",
    "xgb_model = xgb.XGBRegressor()  "
   ]
  },
  {
   "cell_type": "code",
   "execution_count": 214,
   "metadata": {
    "collapsed": true
   },
   "outputs": [],
   "source": [
    "X_train, X_test, y_train, y_test = train_test_split(train_X, y, test_size=0.20, random_state=33)"
   ]
  },
  {
   "cell_type": "code",
   "execution_count": null,
   "metadata": {
    "collapsed": true
   },
   "outputs": [],
   "source": []
  },
  {
   "cell_type": "code",
   "execution_count": 216,
   "metadata": {
    "collapsed": true
   },
   "outputs": [],
   "source": [
    "clf = pipeline.Pipeline([('svd', svd), ('scl', scl), ('xgb', xgb_model)])"
   ]
  },
  {
   "cell_type": "code",
   "execution_count": 217,
   "metadata": {
    "collapsed": true
   },
   "outputs": [],
   "source": [
    "clf2 = pipeline.Pipeline([('svd', svd), ('xgb', xgb_model)])"
   ]
  },
  {
   "cell_type": "code",
   "execution_count": 219,
   "metadata": {
    "collapsed": true
   },
   "outputs": [],
   "source": [
    "clf3 = xgb.XGBRegressor()"
   ]
  },
  {
   "cell_type": "code",
   "execution_count": null,
   "metadata": {
    "collapsed": true
   },
   "outputs": [],
   "source": []
  },
  {
   "cell_type": "code",
   "execution_count": 220,
   "metadata": {},
   "outputs": [
    {
     "name": "stdout",
     "output_type": "stream",
     "text": [
      "Wall time: 3min 30s\n"
     ]
    }
   ],
   "source": [
    "%%time\n",
    "model_sgb = xgb.XGBRegressor().fit(X_train, y_train)"
   ]
  },
  {
   "cell_type": "code",
   "execution_count": 225,
   "metadata": {},
   "outputs": [
    {
     "name": "stderr",
     "output_type": "stream",
     "text": [
      "IOPub data rate exceeded.\n",
      "The notebook server will temporarily stop sending output\n",
      "to the client in order to avoid crashing it.\n",
      "To change this limit, set the config variable\n",
      "`--NotebookApp.iopub_data_rate_limit`.\n"
     ]
    }
   ],
   "source": [
    "xgb_pred = model_sgb.predict(X_test)"
   ]
  },
  {
   "cell_type": "code",
   "execution_count": 224,
   "metadata": {},
   "outputs": [
    {
     "ename": "NameError",
     "evalue": "name 'xgb_pred' is not defined",
     "output_type": "error",
     "traceback": [
      "\u001b[1;31m---------------------------------------------------------------------------\u001b[0m",
      "\u001b[1;31mNameError\u001b[0m                                 Traceback (most recent call last)",
      "\u001b[1;32m<ipython-input-224-d46d57b187e3>\u001b[0m in \u001b[0;36m<module>\u001b[1;34m()\u001b[0m\n\u001b[1;32m----> 1\u001b[1;33m \u001b[0mscore_xgb\u001b[0m \u001b[1;33m=\u001b[0m \u001b[0mroc_auc_score\u001b[0m\u001b[1;33m(\u001b[0m\u001b[0my_test\u001b[0m\u001b[1;33m,\u001b[0m \u001b[0mxgb_pred\u001b[0m\u001b[1;33m)\u001b[0m\u001b[1;33m\u001b[0m\u001b[0m\n\u001b[0m\u001b[0;32m      2\u001b[0m \u001b[0mscore_xgb\u001b[0m\u001b[1;33m\u001b[0m\u001b[0m\n",
      "\u001b[1;31mNameError\u001b[0m: name 'xgb_pred' is not defined"
     ]
    }
   ],
   "source": [
    "score_xgb = roc_auc_score(y_test, xgb_pred)\n",
    "score_xgb"
   ]
  },
  {
   "cell_type": "code",
   "execution_count": null,
   "metadata": {
    "collapsed": true
   },
   "outputs": [],
   "source": []
  },
  {
   "cell_type": "code",
   "execution_count": 134,
   "metadata": {
    "collapsed": true
   },
   "outputs": [],
   "source": [
    "clf = GridSearchCV(xgb_model,\n",
    "                   {'max_depth':[1, 2, 3, 4, 5, 6, 7, 8, 9, 10], \n",
    "              'n_estimators':list(range(10, 151, 10)), \n",
    "              'learning_rate':[0.0001, 0.001, 0.01, 0.1, 1], \n",
    "              'gamma':[0.0001, 0.001, 0.01, 0.1, 1.0, 10.0, 100.0, 1000.0], \n",
    "              'subsample':[0.75]}, \n",
    "                   verbose=1,\n",
    "                  cv=2)"
   ]
  },
  {
   "cell_type": "code",
   "execution_count": 135,
   "metadata": {},
   "outputs": [
    {
     "name": "stdout",
     "output_type": "stream",
     "text": [
      "Fitting 2 folds for each of 6000 candidates, totalling 12000 fits\n"
     ]
    },
    {
     "name": "stderr",
     "output_type": "stream",
     "text": [
      "[Parallel(n_jobs=1)]: Done 12000 out of 12000 | elapsed: 8030.2min finished\n"
     ]
    },
    {
     "name": "stdout",
     "output_type": "stream",
     "text": [
      "Wall time: 5d 13h 52min 2s\n"
     ]
    }
   ],
   "source": [
    "%%time\n",
    "clf = clf.fit(X, y)"
   ]
  },
  {
   "cell_type": "code",
   "execution_count": 137,
   "metadata": {
    "collapsed": true
   },
   "outputs": [],
   "source": [
    "import joblib\n",
    "from joblib import dump, load"
   ]
  },
  {
   "cell_type": "code",
   "execution_count": 140,
   "metadata": {},
   "outputs": [
    {
     "data": {
      "text/plain": [
       "['xgb_grid.pkl']"
      ]
     },
     "execution_count": 140,
     "metadata": {},
     "output_type": "execute_result"
    }
   ],
   "source": [
    "joblib.dump(clf, 'xgb_grid.pkl')"
   ]
  },
  {
   "cell_type": "code",
   "execution_count": 141,
   "metadata": {
    "scrolled": true
   },
   "outputs": [
    {
     "name": "stderr",
     "output_type": "stream",
     "text": [
      "C:\\Users\\tjdal\\Anaconda3\\lib\\site-packages\\sklearn\\model_selection\\_search.py:667: DeprecationWarning: The grid_scores_ attribute was deprecated in version 0.18 in favor of the more elaborate cv_results_ attribute. The grid_scores_ attribute will not be available from 0.20\n",
      "  DeprecationWarning)\n"
     ]
    },
    {
     "data": {
      "text/plain": [
       "[mean: -8.20841, std: 0.34308, params: {'gamma': 0.0001, 'learning_rate': 0.0001, 'max_depth': 1, 'n_estimators': 10, 'subsample': 0.75},\n",
       " mean: -8.19201, std: 0.34265, params: {'gamma': 0.0001, 'learning_rate': 0.0001, 'max_depth': 1, 'n_estimators': 20, 'subsample': 0.75},\n",
       " mean: -8.17562, std: 0.34223, params: {'gamma': 0.0001, 'learning_rate': 0.0001, 'max_depth': 1, 'n_estimators': 30, 'subsample': 0.75},\n",
       " mean: -8.15927, std: 0.34181, params: {'gamma': 0.0001, 'learning_rate': 0.0001, 'max_depth': 1, 'n_estimators': 40, 'subsample': 0.75},\n",
       " mean: -8.14295, std: 0.34139, params: {'gamma': 0.0001, 'learning_rate': 0.0001, 'max_depth': 1, 'n_estimators': 50, 'subsample': 0.75},\n",
       " mean: -8.12666, std: 0.34095, params: {'gamma': 0.0001, 'learning_rate': 0.0001, 'max_depth': 1, 'n_estimators': 60, 'subsample': 0.75},\n",
       " mean: -8.11038, std: 0.34053, params: {'gamma': 0.0001, 'learning_rate': 0.0001, 'max_depth': 1, 'n_estimators': 70, 'subsample': 0.75},\n",
       " mean: -8.09414, std: 0.34009, params: {'gamma': 0.0001, 'learning_rate': 0.0001, 'max_depth': 1, 'n_estimators': 80, 'subsample': 0.75},\n",
       " mean: -8.07797, std: 0.33968, params: {'gamma': 0.0001, 'learning_rate': 0.0001, 'max_depth': 1, 'n_estimators': 90, 'subsample': 0.75},\n",
       " mean: -8.06182, std: 0.33926, params: {'gamma': 0.0001, 'learning_rate': 0.0001, 'max_depth': 1, 'n_estimators': 100, 'subsample': 0.75},\n",
       " mean: -8.04567, std: 0.33883, params: {'gamma': 0.0001, 'learning_rate': 0.0001, 'max_depth': 1, 'n_estimators': 110, 'subsample': 0.75},\n",
       " mean: -8.02954, std: 0.33840, params: {'gamma': 0.0001, 'learning_rate': 0.0001, 'max_depth': 1, 'n_estimators': 120, 'subsample': 0.75},\n",
       " mean: -8.01347, std: 0.33798, params: {'gamma': 0.0001, 'learning_rate': 0.0001, 'max_depth': 1, 'n_estimators': 130, 'subsample': 0.75},\n",
       " mean: -7.99742, std: 0.33753, params: {'gamma': 0.0001, 'learning_rate': 0.0001, 'max_depth': 1, 'n_estimators': 140, 'subsample': 0.75},\n",
       " mean: -7.98140, std: 0.33710, params: {'gamma': 0.0001, 'learning_rate': 0.0001, 'max_depth': 1, 'n_estimators': 150, 'subsample': 0.75},\n",
       " mean: -8.20837, std: 0.34309, params: {'gamma': 0.0001, 'learning_rate': 0.0001, 'max_depth': 2, 'n_estimators': 10, 'subsample': 0.75},\n",
       " mean: -8.19194, std: 0.34266, params: {'gamma': 0.0001, 'learning_rate': 0.0001, 'max_depth': 2, 'n_estimators': 20, 'subsample': 0.75},\n",
       " mean: -8.17552, std: 0.34224, params: {'gamma': 0.0001, 'learning_rate': 0.0001, 'max_depth': 2, 'n_estimators': 30, 'subsample': 0.75},\n",
       " mean: -8.15915, std: 0.34182, params: {'gamma': 0.0001, 'learning_rate': 0.0001, 'max_depth': 2, 'n_estimators': 40, 'subsample': 0.75},\n",
       " mean: -8.14280, std: 0.34141, params: {'gamma': 0.0001, 'learning_rate': 0.0001, 'max_depth': 2, 'n_estimators': 50, 'subsample': 0.75},\n",
       " mean: -8.12647, std: 0.34097, params: {'gamma': 0.0001, 'learning_rate': 0.0001, 'max_depth': 2, 'n_estimators': 60, 'subsample': 0.75},\n",
       " mean: -8.11017, std: 0.34055, params: {'gamma': 0.0001, 'learning_rate': 0.0001, 'max_depth': 2, 'n_estimators': 70, 'subsample': 0.75},\n",
       " mean: -8.09390, std: 0.34012, params: {'gamma': 0.0001, 'learning_rate': 0.0001, 'max_depth': 2, 'n_estimators': 80, 'subsample': 0.75},\n",
       " mean: -8.07770, std: 0.33970, params: {'gamma': 0.0001, 'learning_rate': 0.0001, 'max_depth': 2, 'n_estimators': 90, 'subsample': 0.75},\n",
       " mean: -8.06152, std: 0.33930, params: {'gamma': 0.0001, 'learning_rate': 0.0001, 'max_depth': 2, 'n_estimators': 100, 'subsample': 0.75},\n",
       " mean: -8.04534, std: 0.33887, params: {'gamma': 0.0001, 'learning_rate': 0.0001, 'max_depth': 2, 'n_estimators': 110, 'subsample': 0.75},\n",
       " mean: -8.02919, std: 0.33843, params: {'gamma': 0.0001, 'learning_rate': 0.0001, 'max_depth': 2, 'n_estimators': 120, 'subsample': 0.75},\n",
       " mean: -8.01308, std: 0.33802, params: {'gamma': 0.0001, 'learning_rate': 0.0001, 'max_depth': 2, 'n_estimators': 130, 'subsample': 0.75},\n",
       " mean: -7.99701, std: 0.33757, params: {'gamma': 0.0001, 'learning_rate': 0.0001, 'max_depth': 2, 'n_estimators': 140, 'subsample': 0.75},\n",
       " mean: -7.98096, std: 0.33715, params: {'gamma': 0.0001, 'learning_rate': 0.0001, 'max_depth': 2, 'n_estimators': 150, 'subsample': 0.75},\n",
       " mean: -8.20835, std: 0.34309, params: {'gamma': 0.0001, 'learning_rate': 0.0001, 'max_depth': 3, 'n_estimators': 10, 'subsample': 0.75},\n",
       " mean: -8.19189, std: 0.34267, params: {'gamma': 0.0001, 'learning_rate': 0.0001, 'max_depth': 3, 'n_estimators': 20, 'subsample': 0.75},\n",
       " mean: -8.17545, std: 0.34225, params: {'gamma': 0.0001, 'learning_rate': 0.0001, 'max_depth': 3, 'n_estimators': 30, 'subsample': 0.75},\n",
       " mean: -8.15905, std: 0.34184, params: {'gamma': 0.0001, 'learning_rate': 0.0001, 'max_depth': 3, 'n_estimators': 40, 'subsample': 0.75},\n",
       " mean: -8.14268, std: 0.34142, params: {'gamma': 0.0001, 'learning_rate': 0.0001, 'max_depth': 3, 'n_estimators': 50, 'subsample': 0.75},\n",
       " mean: -8.12633, std: 0.34099, params: {'gamma': 0.0001, 'learning_rate': 0.0001, 'max_depth': 3, 'n_estimators': 60, 'subsample': 0.75},\n",
       " mean: -8.11000, std: 0.34056, params: {'gamma': 0.0001, 'learning_rate': 0.0001, 'max_depth': 3, 'n_estimators': 70, 'subsample': 0.75},\n",
       " mean: -8.09371, std: 0.34014, params: {'gamma': 0.0001, 'learning_rate': 0.0001, 'max_depth': 3, 'n_estimators': 80, 'subsample': 0.75},\n",
       " mean: -8.07748, std: 0.33972, params: {'gamma': 0.0001, 'learning_rate': 0.0001, 'max_depth': 3, 'n_estimators': 90, 'subsample': 0.75},\n",
       " mean: -8.06127, std: 0.33932, params: {'gamma': 0.0001, 'learning_rate': 0.0001, 'max_depth': 3, 'n_estimators': 100, 'subsample': 0.75},\n",
       " mean: -8.04507, std: 0.33889, params: {'gamma': 0.0001, 'learning_rate': 0.0001, 'max_depth': 3, 'n_estimators': 110, 'subsample': 0.75},\n",
       " mean: -8.02889, std: 0.33846, params: {'gamma': 0.0001, 'learning_rate': 0.0001, 'max_depth': 3, 'n_estimators': 120, 'subsample': 0.75},\n",
       " mean: -8.01276, std: 0.33804, params: {'gamma': 0.0001, 'learning_rate': 0.0001, 'max_depth': 3, 'n_estimators': 130, 'subsample': 0.75},\n",
       " mean: -7.99666, std: 0.33760, params: {'gamma': 0.0001, 'learning_rate': 0.0001, 'max_depth': 3, 'n_estimators': 140, 'subsample': 0.75},\n",
       " mean: -7.98059, std: 0.33718, params: {'gamma': 0.0001, 'learning_rate': 0.0001, 'max_depth': 3, 'n_estimators': 150, 'subsample': 0.75},\n",
       " mean: -8.20833, std: 0.34309, params: {'gamma': 0.0001, 'learning_rate': 0.0001, 'max_depth': 4, 'n_estimators': 10, 'subsample': 0.75},\n",
       " mean: -8.19185, std: 0.34266, params: {'gamma': 0.0001, 'learning_rate': 0.0001, 'max_depth': 4, 'n_estimators': 20, 'subsample': 0.75},\n",
       " mean: -8.17538, std: 0.34224, params: {'gamma': 0.0001, 'learning_rate': 0.0001, 'max_depth': 4, 'n_estimators': 30, 'subsample': 0.75},\n",
       " mean: -8.15897, std: 0.34183, params: {'gamma': 0.0001, 'learning_rate': 0.0001, 'max_depth': 4, 'n_estimators': 40, 'subsample': 0.75},\n",
       " mean: -8.14257, std: 0.34141, params: {'gamma': 0.0001, 'learning_rate': 0.0001, 'max_depth': 4, 'n_estimators': 50, 'subsample': 0.75},\n",
       " mean: -8.12620, std: 0.34098, params: {'gamma': 0.0001, 'learning_rate': 0.0001, 'max_depth': 4, 'n_estimators': 60, 'subsample': 0.75},\n",
       " mean: -8.10985, std: 0.34056, params: {'gamma': 0.0001, 'learning_rate': 0.0001, 'max_depth': 4, 'n_estimators': 70, 'subsample': 0.75},\n",
       " mean: -8.09354, std: 0.34012, params: {'gamma': 0.0001, 'learning_rate': 0.0001, 'max_depth': 4, 'n_estimators': 80, 'subsample': 0.75},\n",
       " mean: -8.07729, std: 0.33971, params: {'gamma': 0.0001, 'learning_rate': 0.0001, 'max_depth': 4, 'n_estimators': 90, 'subsample': 0.75},\n",
       " mean: -8.06106, std: 0.33930, params: {'gamma': 0.0001, 'learning_rate': 0.0001, 'max_depth': 4, 'n_estimators': 100, 'subsample': 0.75},\n",
       " mean: -8.04484, std: 0.33887, params: {'gamma': 0.0001, 'learning_rate': 0.0001, 'max_depth': 4, 'n_estimators': 110, 'subsample': 0.75},\n",
       " mean: -8.02864, std: 0.33844, params: {'gamma': 0.0001, 'learning_rate': 0.0001, 'max_depth': 4, 'n_estimators': 120, 'subsample': 0.75},\n",
       " mean: -8.01249, std: 0.33803, params: {'gamma': 0.0001, 'learning_rate': 0.0001, 'max_depth': 4, 'n_estimators': 130, 'subsample': 0.75},\n",
       " mean: -7.99637, std: 0.33758, params: {'gamma': 0.0001, 'learning_rate': 0.0001, 'max_depth': 4, 'n_estimators': 140, 'subsample': 0.75},\n",
       " mean: -7.98028, std: 0.33716, params: {'gamma': 0.0001, 'learning_rate': 0.0001, 'max_depth': 4, 'n_estimators': 150, 'subsample': 0.75},\n",
       " mean: -8.20831, std: 0.34309, params: {'gamma': 0.0001, 'learning_rate': 0.0001, 'max_depth': 5, 'n_estimators': 10, 'subsample': 0.75},\n",
       " mean: -8.19181, std: 0.34265, params: {'gamma': 0.0001, 'learning_rate': 0.0001, 'max_depth': 5, 'n_estimators': 20, 'subsample': 0.75},\n",
       " mean: -8.17533, std: 0.34223, params: {'gamma': 0.0001, 'learning_rate': 0.0001, 'max_depth': 5, 'n_estimators': 30, 'subsample': 0.75},\n",
       " mean: -8.15889, std: 0.34181, params: {'gamma': 0.0001, 'learning_rate': 0.0001, 'max_depth': 5, 'n_estimators': 40, 'subsample': 0.75},\n",
       " mean: -8.14247, std: 0.34139, params: {'gamma': 0.0001, 'learning_rate': 0.0001, 'max_depth': 5, 'n_estimators': 50, 'subsample': 0.75},\n",
       " mean: -8.12609, std: 0.34095, params: {'gamma': 0.0001, 'learning_rate': 0.0001, 'max_depth': 5, 'n_estimators': 60, 'subsample': 0.75},\n",
       " mean: -8.10973, std: 0.34052, params: {'gamma': 0.0001, 'learning_rate': 0.0001, 'max_depth': 5, 'n_estimators': 70, 'subsample': 0.75},\n",
       " mean: -8.09340, std: 0.34009, params: {'gamma': 0.0001, 'learning_rate': 0.0001, 'max_depth': 5, 'n_estimators': 80, 'subsample': 0.75},\n",
       " mean: -8.07712, std: 0.33967, params: {'gamma': 0.0001, 'learning_rate': 0.0001, 'max_depth': 5, 'n_estimators': 90, 'subsample': 0.75},\n",
       " mean: -8.06087, std: 0.33926, params: {'gamma': 0.0001, 'learning_rate': 0.0001, 'max_depth': 5, 'n_estimators': 100, 'subsample': 0.75},\n",
       " mean: -8.04463, std: 0.33883, params: {'gamma': 0.0001, 'learning_rate': 0.0001, 'max_depth': 5, 'n_estimators': 110, 'subsample': 0.75},\n",
       " mean: -8.02842, std: 0.33839, params: {'gamma': 0.0001, 'learning_rate': 0.0001, 'max_depth': 5, 'n_estimators': 120, 'subsample': 0.75},\n",
       " mean: -8.01225, std: 0.33798, params: {'gamma': 0.0001, 'learning_rate': 0.0001, 'max_depth': 5, 'n_estimators': 130, 'subsample': 0.75},\n",
       " mean: -7.99611, std: 0.33752, params: {'gamma': 0.0001, 'learning_rate': 0.0001, 'max_depth': 5, 'n_estimators': 140, 'subsample': 0.75},\n",
       " mean: -7.98001, std: 0.33710, params: {'gamma': 0.0001, 'learning_rate': 0.0001, 'max_depth': 5, 'n_estimators': 150, 'subsample': 0.75},\n",
       " mean: -8.20829, std: 0.34308, params: {'gamma': 0.0001, 'learning_rate': 0.0001, 'max_depth': 6, 'n_estimators': 10, 'subsample': 0.75},\n",
       " mean: -8.19178, std: 0.34264, params: {'gamma': 0.0001, 'learning_rate': 0.0001, 'max_depth': 6, 'n_estimators': 20, 'subsample': 0.75},\n",
       " mean: -8.17528, std: 0.34222, params: {'gamma': 0.0001, 'learning_rate': 0.0001, 'max_depth': 6, 'n_estimators': 30, 'subsample': 0.75},\n",
       " mean: -8.15882, std: 0.34179, params: {'gamma': 0.0001, 'learning_rate': 0.0001, 'max_depth': 6, 'n_estimators': 40, 'subsample': 0.75},\n",
       " mean: -8.14238, std: 0.34136, params: {'gamma': 0.0001, 'learning_rate': 0.0001, 'max_depth': 6, 'n_estimators': 50, 'subsample': 0.75},\n",
       " mean: -8.12598, std: 0.34091, params: {'gamma': 0.0001, 'learning_rate': 0.0001, 'max_depth': 6, 'n_estimators': 60, 'subsample': 0.75},\n",
       " mean: -8.10960, std: 0.34048, params: {'gamma': 0.0001, 'learning_rate': 0.0001, 'max_depth': 6, 'n_estimators': 70, 'subsample': 0.75},\n",
       " mean: -8.09325, std: 0.34004, params: {'gamma': 0.0001, 'learning_rate': 0.0001, 'max_depth': 6, 'n_estimators': 80, 'subsample': 0.75},\n",
       " mean: -8.07695, std: 0.33962, params: {'gamma': 0.0001, 'learning_rate': 0.0001, 'max_depth': 6, 'n_estimators': 90, 'subsample': 0.75},\n",
       " mean: -8.06069, std: 0.33920, params: {'gamma': 0.0001, 'learning_rate': 0.0001, 'max_depth': 6, 'n_estimators': 100, 'subsample': 0.75},\n",
       " mean: -8.04443, std: 0.33876, params: {'gamma': 0.0001, 'learning_rate': 0.0001, 'max_depth': 6, 'n_estimators': 110, 'subsample': 0.75},\n",
       " mean: -8.02820, std: 0.33832, params: {'gamma': 0.0001, 'learning_rate': 0.0001, 'max_depth': 6, 'n_estimators': 120, 'subsample': 0.75},\n",
       " mean: -8.01201, std: 0.33790, params: {'gamma': 0.0001, 'learning_rate': 0.0001, 'max_depth': 6, 'n_estimators': 130, 'subsample': 0.75},\n",
       " mean: -7.99586, std: 0.33745, params: {'gamma': 0.0001, 'learning_rate': 0.0001, 'max_depth': 6, 'n_estimators': 140, 'subsample': 0.75},\n",
       " mean: -7.97973, std: 0.33701, params: {'gamma': 0.0001, 'learning_rate': 0.0001, 'max_depth': 6, 'n_estimators': 150, 'subsample': 0.75},\n",
       " mean: -8.20828, std: 0.34308, params: {'gamma': 0.0001, 'learning_rate': 0.0001, 'max_depth': 7, 'n_estimators': 10, 'subsample': 0.75},\n",
       " mean: -8.19174, std: 0.34265, params: {'gamma': 0.0001, 'learning_rate': 0.0001, 'max_depth': 7, 'n_estimators': 20, 'subsample': 0.75},\n",
       " mean: -8.17522, std: 0.34221, params: {'gamma': 0.0001, 'learning_rate': 0.0001, 'max_depth': 7, 'n_estimators': 30, 'subsample': 0.75},\n",
       " mean: -8.15875, std: 0.34178, params: {'gamma': 0.0001, 'learning_rate': 0.0001, 'max_depth': 7, 'n_estimators': 40, 'subsample': 0.75},\n",
       " mean: -8.14229, std: 0.34135, params: {'gamma': 0.0001, 'learning_rate': 0.0001, 'max_depth': 7, 'n_estimators': 50, 'subsample': 0.75},\n",
       " mean: -8.12587, std: 0.34090, params: {'gamma': 0.0001, 'learning_rate': 0.0001, 'max_depth': 7, 'n_estimators': 60, 'subsample': 0.75},\n",
       " mean: -8.10947, std: 0.34046, params: {'gamma': 0.0001, 'learning_rate': 0.0001, 'max_depth': 7, 'n_estimators': 70, 'subsample': 0.75},\n",
       " mean: -8.09310, std: 0.34001, params: {'gamma': 0.0001, 'learning_rate': 0.0001, 'max_depth': 7, 'n_estimators': 80, 'subsample': 0.75},\n",
       " mean: -8.07679, std: 0.33959, params: {'gamma': 0.0001, 'learning_rate': 0.0001, 'max_depth': 7, 'n_estimators': 90, 'subsample': 0.75},\n",
       " mean: -8.06051, std: 0.33916, params: {'gamma': 0.0001, 'learning_rate': 0.0001, 'max_depth': 7, 'n_estimators': 100, 'subsample': 0.75},\n",
       " mean: -8.04423, std: 0.33873, params: {'gamma': 0.0001, 'learning_rate': 0.0001, 'max_depth': 7, 'n_estimators': 110, 'subsample': 0.75},\n",
       " mean: -8.02798, std: 0.33828, params: {'gamma': 0.0001, 'learning_rate': 0.0001, 'max_depth': 7, 'n_estimators': 120, 'subsample': 0.75},\n",
       " mean: -8.01178, std: 0.33785, params: {'gamma': 0.0001, 'learning_rate': 0.0001, 'max_depth': 7, 'n_estimators': 130, 'subsample': 0.75},\n",
       " mean: -7.99561, std: 0.33740, params: {'gamma': 0.0001, 'learning_rate': 0.0001, 'max_depth': 7, 'n_estimators': 140, 'subsample': 0.75},\n",
       " mean: -7.97947, std: 0.33696, params: {'gamma': 0.0001, 'learning_rate': 0.0001, 'max_depth': 7, 'n_estimators': 150, 'subsample': 0.75},\n",
       " mean: -8.20826, std: 0.34307, params: {'gamma': 0.0001, 'learning_rate': 0.0001, 'max_depth': 8, 'n_estimators': 10, 'subsample': 0.75},\n",
       " mean: -8.19171, std: 0.34263, params: {'gamma': 0.0001, 'learning_rate': 0.0001, 'max_depth': 8, 'n_estimators': 20, 'subsample': 0.75},\n",
       " mean: -8.17518, std: 0.34219, params: {'gamma': 0.0001, 'learning_rate': 0.0001, 'max_depth': 8, 'n_estimators': 30, 'subsample': 0.75},\n",
       " mean: -8.15869, std: 0.34176, params: {'gamma': 0.0001, 'learning_rate': 0.0001, 'max_depth': 8, 'n_estimators': 40, 'subsample': 0.75},\n",
       " mean: -8.14221, std: 0.34133, params: {'gamma': 0.0001, 'learning_rate': 0.0001, 'max_depth': 8, 'n_estimators': 50, 'subsample': 0.75},\n",
       " mean: -8.12577, std: 0.34087, params: {'gamma': 0.0001, 'learning_rate': 0.0001, 'max_depth': 8, 'n_estimators': 60, 'subsample': 0.75},\n",
       " mean: -8.10935, std: 0.34043, params: {'gamma': 0.0001, 'learning_rate': 0.0001, 'max_depth': 8, 'n_estimators': 70, 'subsample': 0.75},\n",
       " mean: -8.09296, std: 0.33998, params: {'gamma': 0.0001, 'learning_rate': 0.0001, 'max_depth': 8, 'n_estimators': 80, 'subsample': 0.75},\n",
       " mean: -8.07663, std: 0.33955, params: {'gamma': 0.0001, 'learning_rate': 0.0001, 'max_depth': 8, 'n_estimators': 90, 'subsample': 0.75},\n",
       " mean: -8.06033, std: 0.33912, params: {'gamma': 0.0001, 'learning_rate': 0.0001, 'max_depth': 8, 'n_estimators': 100, 'subsample': 0.75},\n",
       " mean: -8.04404, std: 0.33867, params: {'gamma': 0.0001, 'learning_rate': 0.0001, 'max_depth': 8, 'n_estimators': 110, 'subsample': 0.75},\n",
       " mean: -8.02777, std: 0.33822, params: {'gamma': 0.0001, 'learning_rate': 0.0001, 'max_depth': 8, 'n_estimators': 120, 'subsample': 0.75},\n",
       " mean: -8.01156, std: 0.33779, params: {'gamma': 0.0001, 'learning_rate': 0.0001, 'max_depth': 8, 'n_estimators': 130, 'subsample': 0.75},\n",
       " mean: -7.99537, std: 0.33733, params: {'gamma': 0.0001, 'learning_rate': 0.0001, 'max_depth': 8, 'n_estimators': 140, 'subsample': 0.75},\n",
       " mean: -7.97921, std: 0.33689, params: {'gamma': 0.0001, 'learning_rate': 0.0001, 'max_depth': 8, 'n_estimators': 150, 'subsample': 0.75},\n",
       " mean: -8.20825, std: 0.34307, params: {'gamma': 0.0001, 'learning_rate': 0.0001, 'max_depth': 9, 'n_estimators': 10, 'subsample': 0.75},\n",
       " mean: -8.19169, std: 0.34263, params: {'gamma': 0.0001, 'learning_rate': 0.0001, 'max_depth': 9, 'n_estimators': 20, 'subsample': 0.75},\n",
       " mean: -8.17514, std: 0.34219, params: {'gamma': 0.0001, 'learning_rate': 0.0001, 'max_depth': 9, 'n_estimators': 30, 'subsample': 0.75},\n",
       " mean: -8.15864, std: 0.34176, params: {'gamma': 0.0001, 'learning_rate': 0.0001, 'max_depth': 9, 'n_estimators': 40, 'subsample': 0.75},\n",
       " mean: -8.14214, std: 0.34132, params: {'gamma': 0.0001, 'learning_rate': 0.0001, 'max_depth': 9, 'n_estimators': 50, 'subsample': 0.75},\n",
       " mean: -8.12568, std: 0.34086, params: {'gamma': 0.0001, 'learning_rate': 0.0001, 'max_depth': 9, 'n_estimators': 60, 'subsample': 0.75},\n",
       " mean: -8.10925, std: 0.34041, params: {'gamma': 0.0001, 'learning_rate': 0.0001, 'max_depth': 9, 'n_estimators': 70, 'subsample': 0.75},\n",
       " mean: -8.09285, std: 0.33996, params: {'gamma': 0.0001, 'learning_rate': 0.0001, 'max_depth': 9, 'n_estimators': 80, 'subsample': 0.75},\n",
       " mean: -8.07650, std: 0.33953, params: {'gamma': 0.0001, 'learning_rate': 0.0001, 'max_depth': 9, 'n_estimators': 90, 'subsample': 0.75},\n",
       " mean: -8.06018, std: 0.33909, params: {'gamma': 0.0001, 'learning_rate': 0.0001, 'max_depth': 9, 'n_estimators': 100, 'subsample': 0.75},\n",
       " mean: -8.04388, std: 0.33865, params: {'gamma': 0.0001, 'learning_rate': 0.0001, 'max_depth': 9, 'n_estimators': 110, 'subsample': 0.75},\n",
       " mean: -8.02759, std: 0.33819, params: {'gamma': 0.0001, 'learning_rate': 0.0001, 'max_depth': 9, 'n_estimators': 120, 'subsample': 0.75},\n",
       " mean: -8.01136, std: 0.33776, params: {'gamma': 0.0001, 'learning_rate': 0.0001, 'max_depth': 9, 'n_estimators': 130, 'subsample': 0.75},\n",
       " mean: -7.99516, std: 0.33729, params: {'gamma': 0.0001, 'learning_rate': 0.0001, 'max_depth': 9, 'n_estimators': 140, 'subsample': 0.75},\n",
       " mean: -7.97898, std: 0.33685, params: {'gamma': 0.0001, 'learning_rate': 0.0001, 'max_depth': 9, 'n_estimators': 150, 'subsample': 0.75},\n",
       " mean: -8.20823, std: 0.34306, params: {'gamma': 0.0001, 'learning_rate': 0.0001, 'max_depth': 10, 'n_estimators': 10, 'subsample': 0.75},\n",
       " mean: -8.19166, std: 0.34262, params: {'gamma': 0.0001, 'learning_rate': 0.0001, 'max_depth': 10, 'n_estimators': 20, 'subsample': 0.75},\n",
       " mean: -8.17510, std: 0.34217, params: {'gamma': 0.0001, 'learning_rate': 0.0001, 'max_depth': 10, 'n_estimators': 30, 'subsample': 0.75},\n",
       " mean: -8.15858, std: 0.34173, params: {'gamma': 0.0001, 'learning_rate': 0.0001, 'max_depth': 10, 'n_estimators': 40, 'subsample': 0.75},\n",
       " mean: -8.14207, std: 0.34129, params: {'gamma': 0.0001, 'learning_rate': 0.0001, 'max_depth': 10, 'n_estimators': 50, 'subsample': 0.75},\n",
       " mean: -8.12559, std: 0.34083, params: {'gamma': 0.0001, 'learning_rate': 0.0001, 'max_depth': 10, 'n_estimators': 60, 'subsample': 0.75},\n",
       " mean: -8.10914, std: 0.34038, params: {'gamma': 0.0001, 'learning_rate': 0.0001, 'max_depth': 10, 'n_estimators': 70, 'subsample': 0.75},\n",
       " mean: -8.09272, std: 0.33993, params: {'gamma': 0.0001, 'learning_rate': 0.0001, 'max_depth': 10, 'n_estimators': 80, 'subsample': 0.75},\n",
       " mean: -8.07636, std: 0.33949, params: {'gamma': 0.0001, 'learning_rate': 0.0001, 'max_depth': 10, 'n_estimators': 90, 'subsample': 0.75},\n",
       " mean: -8.06003, std: 0.33906, params: {'gamma': 0.0001, 'learning_rate': 0.0001, 'max_depth': 10, 'n_estimators': 100, 'subsample': 0.75},\n",
       " mean: -8.04371, std: 0.33861, params: {'gamma': 0.0001, 'learning_rate': 0.0001, 'max_depth': 10, 'n_estimators': 110, 'subsample': 0.75},\n",
       " mean: -8.02741, std: 0.33815, params: {'gamma': 0.0001, 'learning_rate': 0.0001, 'max_depth': 10, 'n_estimators': 120, 'subsample': 0.75},\n",
       " mean: -8.01117, std: 0.33771, params: {'gamma': 0.0001, 'learning_rate': 0.0001, 'max_depth': 10, 'n_estimators': 130, 'subsample': 0.75},\n",
       " mean: -7.99494, std: 0.33724, params: {'gamma': 0.0001, 'learning_rate': 0.0001, 'max_depth': 10, 'n_estimators': 140, 'subsample': 0.75},\n",
       " mean: -7.97875, std: 0.33680, params: {'gamma': 0.0001, 'learning_rate': 0.0001, 'max_depth': 10, 'n_estimators': 150, 'subsample': 0.75},\n",
       " mean: -8.06171, std: 0.33917, params: {'gamma': 0.0001, 'learning_rate': 0.001, 'max_depth': 1, 'n_estimators': 10, 'subsample': 0.75},\n",
       " mean: -7.90203, std: 0.33492, params: {'gamma': 0.0001, 'learning_rate': 0.001, 'max_depth': 1, 'n_estimators': 20, 'subsample': 0.75},\n",
       " mean: -7.74525, std: 0.33082, params: {'gamma': 0.0001, 'learning_rate': 0.001, 'max_depth': 1, 'n_estimators': 30, 'subsample': 0.75},\n",
       " mean: -7.59172, std: 0.32683, params: {'gamma': 0.0001, 'learning_rate': 0.001, 'max_depth': 1, 'n_estimators': 40, 'subsample': 0.75},\n",
       " mean: -7.44111, std: 0.32291, params: {'gamma': 0.0001, 'learning_rate': 0.001, 'max_depth': 1, 'n_estimators': 50, 'subsample': 0.75},\n",
       " mean: -7.29345, std: 0.31878, params: {'gamma': 0.0001, 'learning_rate': 0.001, 'max_depth': 1, 'n_estimators': 60, 'subsample': 0.75},\n",
       " mean: -7.14859, std: 0.31487, params: {'gamma': 0.0001, 'learning_rate': 0.001, 'max_depth': 1, 'n_estimators': 70, 'subsample': 0.75},\n",
       " mean: -7.00663, std: 0.31092, params: {'gamma': 0.0001, 'learning_rate': 0.001, 'max_depth': 1, 'n_estimators': 80, 'subsample': 0.75},\n",
       " mean: -6.86775, std: 0.30716, params: {'gamma': 0.0001, 'learning_rate': 0.001, 'max_depth': 1, 'n_estimators': 90, 'subsample': 0.75},\n",
       " mean: -6.73157, std: 0.30355, params: {'gamma': 0.0001, 'learning_rate': 0.001, 'max_depth': 1, 'n_estimators': 100, 'subsample': 0.75},\n",
       " mean: -6.59776, std: 0.29974, params: {'gamma': 0.0001, 'learning_rate': 0.001, 'max_depth': 1, 'n_estimators': 110, 'subsample': 0.75},\n",
       " mean: -6.46659, std: 0.29598, params: {'gamma': 0.0001, 'learning_rate': 0.001, 'max_depth': 1, 'n_estimators': 120, 'subsample': 0.75},\n",
       " mean: -6.33814, std: 0.29239, params: {'gamma': 0.0001, 'learning_rate': 0.001, 'max_depth': 1, 'n_estimators': 130, 'subsample': 0.75},\n",
       " mean: -6.21219, std: 0.28862, params: {'gamma': 0.0001, 'learning_rate': 0.001, 'max_depth': 1, 'n_estimators': 140, 'subsample': 0.75},\n",
       " mean: -6.08873, std: 0.28508, params: {'gamma': 0.0001, 'learning_rate': 0.001, 'max_depth': 1, 'n_estimators': 150, 'subsample': 0.75},\n",
       " mean: -8.06139, std: 0.33920, params: {'gamma': 0.0001, 'learning_rate': 0.001, 'max_depth': 2, 'n_estimators': 10, 'subsample': 0.75},\n",
       " mean: -7.90139, std: 0.33499, params: {'gamma': 0.0001, 'learning_rate': 0.001, 'max_depth': 2, 'n_estimators': 20, 'subsample': 0.75},\n",
       " mean: -7.74435, std: 0.33091, params: {'gamma': 0.0001, 'learning_rate': 0.001, 'max_depth': 2, 'n_estimators': 30, 'subsample': 0.75},\n",
       " mean: -7.59054, std: 0.32696, params: {'gamma': 0.0001, 'learning_rate': 0.001, 'max_depth': 2, 'n_estimators': 40, 'subsample': 0.75},\n",
       " mean: -7.43966, std: 0.32304, params: {'gamma': 0.0001, 'learning_rate': 0.001, 'max_depth': 2, 'n_estimators': 50, 'subsample': 0.75},\n",
       " mean: -7.29175, std: 0.31894, params: {'gamma': 0.0001, 'learning_rate': 0.001, 'max_depth': 2, 'n_estimators': 60, 'subsample': 0.75},\n",
       " mean: -7.14663, std: 0.31504, params: {'gamma': 0.0001, 'learning_rate': 0.001, 'max_depth': 2, 'n_estimators': 70, 'subsample': 0.75},\n",
       " mean: -7.00440, std: 0.31111, params: {'gamma': 0.0001, 'learning_rate': 0.001, 'max_depth': 2, 'n_estimators': 80, 'subsample': 0.75},\n",
       " mean: -6.86525, std: 0.30737, params: {'gamma': 0.0001, 'learning_rate': 0.001, 'max_depth': 2, 'n_estimators': 90, 'subsample': 0.75},\n",
       " mean: -6.72885, std: 0.30374, params: {'gamma': 0.0001, 'learning_rate': 0.001, 'max_depth': 2, 'n_estimators': 100, 'subsample': 0.75},\n",
       " mean: -6.59482, std: 0.29996, params: {'gamma': 0.0001, 'learning_rate': 0.001, 'max_depth': 2, 'n_estimators': 110, 'subsample': 0.75},\n",
       " mean: -6.46340, std: 0.29621, params: {'gamma': 0.0001, 'learning_rate': 0.001, 'max_depth': 2, 'n_estimators': 120, 'subsample': 0.75},\n",
       " mean: -6.33471, std: 0.29264, params: {'gamma': 0.0001, 'learning_rate': 0.001, 'max_depth': 2, 'n_estimators': 130, 'subsample': 0.75},\n",
       " mean: -6.20858, std: 0.28890, params: {'gamma': 0.0001, 'learning_rate': 0.001, 'max_depth': 2, 'n_estimators': 140, 'subsample': 0.75},\n",
       " mean: -6.08492, std: 0.28540, params: {'gamma': 0.0001, 'learning_rate': 0.001, 'max_depth': 2, 'n_estimators': 150, 'subsample': 0.75},\n",
       " mean: -8.06116, std: 0.33923, params: {'gamma': 0.0001, 'learning_rate': 0.001, 'max_depth': 3, 'n_estimators': 10, 'subsample': 0.75},\n",
       " mean: -7.90091, std: 0.33506, params: {'gamma': 0.0001, 'learning_rate': 0.001, 'max_depth': 3, 'n_estimators': 20, 'subsample': 0.75},\n",
       " mean: -7.74362, std: 0.33100, params: {'gamma': 0.0001, 'learning_rate': 0.001, 'max_depth': 3, 'n_estimators': 30, 'subsample': 0.75},\n",
       " mean: -7.58958, std: 0.32707, params: {'gamma': 0.0001, 'learning_rate': 0.001, 'max_depth': 3, 'n_estimators': 40, 'subsample': 0.75},\n",
       " mean: -7.43846, std: 0.32312, params: {'gamma': 0.0001, 'learning_rate': 0.001, 'max_depth': 3, 'n_estimators': 50, 'subsample': 0.75},\n",
       " mean: -7.29032, std: 0.31905, params: {'gamma': 0.0001, 'learning_rate': 0.001, 'max_depth': 3, 'n_estimators': 60, 'subsample': 0.75},\n",
       " mean: -7.14497, std: 0.31514, params: {'gamma': 0.0001, 'learning_rate': 0.001, 'max_depth': 3, 'n_estimators': 70, 'subsample': 0.75},\n",
       " mean: -7.00257, std: 0.31122, params: {'gamma': 0.0001, 'learning_rate': 0.001, 'max_depth': 3, 'n_estimators': 80, 'subsample': 0.75},\n",
       " mean: -6.86320, std: 0.30749, params: {'gamma': 0.0001, 'learning_rate': 0.001, 'max_depth': 3, 'n_estimators': 90, 'subsample': 0.75},\n",
       " mean: -6.72658, std: 0.30385, params: {'gamma': 0.0001, 'learning_rate': 0.001, 'max_depth': 3, 'n_estimators': 100, 'subsample': 0.75},\n",
       " mean: -6.59233, std: 0.30007, params: {'gamma': 0.0001, 'learning_rate': 0.001, 'max_depth': 3, 'n_estimators': 110, 'subsample': 0.75},\n",
       " mean: -6.46073, std: 0.29631, params: {'gamma': 0.0001, 'learning_rate': 0.001, 'max_depth': 3, 'n_estimators': 120, 'subsample': 0.75},\n",
       " mean: -6.33187, std: 0.29274, params: {'gamma': 0.0001, 'learning_rate': 0.001, 'max_depth': 3, 'n_estimators': 130, 'subsample': 0.75},\n",
       " mean: -6.20555, std: 0.28899, params: {'gamma': 0.0001, 'learning_rate': 0.001, 'max_depth': 3, 'n_estimators': 140, 'subsample': 0.75},\n",
       " mean: -6.08170, std: 0.28549, params: {'gamma': 0.0001, 'learning_rate': 0.001, 'max_depth': 3, 'n_estimators': 150, 'subsample': 0.75},\n",
       " mean: -8.06094, std: 0.33922, params: {'gamma': 0.0001, 'learning_rate': 0.001, 'max_depth': 4, 'n_estimators': 10, 'subsample': 0.75},\n",
       " mean: -7.90048, std: 0.33504, params: {'gamma': 0.0001, 'learning_rate': 0.001, 'max_depth': 4, 'n_estimators': 20, 'subsample': 0.75},\n",
       " mean: -7.74299, std: 0.33096, params: {'gamma': 0.0001, 'learning_rate': 0.001, 'max_depth': 4, 'n_estimators': 30, 'subsample': 0.75},\n",
       " mean: -7.58878, std: 0.32704, params: {'gamma': 0.0001, 'learning_rate': 0.001, 'max_depth': 4, 'n_estimators': 40, 'subsample': 0.75},\n",
       " mean: -7.43744, std: 0.32306, params: {'gamma': 0.0001, 'learning_rate': 0.001, 'max_depth': 4, 'n_estimators': 50, 'subsample': 0.75},\n",
       " mean: -7.28913, std: 0.31899, params: {'gamma': 0.0001, 'learning_rate': 0.001, 'max_depth': 4, 'n_estimators': 60, 'subsample': 0.75},\n",
       " mean: -7.14359, std: 0.31509, params: {'gamma': 0.0001, 'learning_rate': 0.001, 'max_depth': 4, 'n_estimators': 70, 'subsample': 0.75},\n",
       " mean: -7.00100, std: 0.31114, params: {'gamma': 0.0001, 'learning_rate': 0.001, 'max_depth': 4, 'n_estimators': 80, 'subsample': 0.75},\n",
       " mean: -6.86141, std: 0.30738, params: {'gamma': 0.0001, 'learning_rate': 0.001, 'max_depth': 4, 'n_estimators': 90, 'subsample': 0.75},\n",
       " mean: -6.72459, std: 0.30370, params: {'gamma': 0.0001, 'learning_rate': 0.001, 'max_depth': 4, 'n_estimators': 100, 'subsample': 0.75},\n",
       " mean: -6.59019, std: 0.29992, params: {'gamma': 0.0001, 'learning_rate': 0.001, 'max_depth': 4, 'n_estimators': 110, 'subsample': 0.75},\n",
       " mean: -6.45845, std: 0.29616, params: {'gamma': 0.0001, 'learning_rate': 0.001, 'max_depth': 4, 'n_estimators': 120, 'subsample': 0.75},\n",
       " mean: -6.32943, std: 0.29258, params: {'gamma': 0.0001, 'learning_rate': 0.001, 'max_depth': 4, 'n_estimators': 130, 'subsample': 0.75},\n",
       " mean: -6.20293, std: 0.28878, params: {'gamma': 0.0001, 'learning_rate': 0.001, 'max_depth': 4, 'n_estimators': 140, 'subsample': 0.75},\n",
       " mean: -6.07894, std: 0.28525, params: {'gamma': 0.0001, 'learning_rate': 0.001, 'max_depth': 4, 'n_estimators': 150, 'subsample': 0.75},\n",
       " mean: -8.06077, std: 0.33920, params: {'gamma': 0.0001, 'learning_rate': 0.001, 'max_depth': 5, 'n_estimators': 10, 'subsample': 0.75},\n",
       " mean: -7.90013, std: 0.33497, params: {'gamma': 0.0001, 'learning_rate': 0.001, 'max_depth': 5, 'n_estimators': 20, 'subsample': 0.75},\n",
       " mean: -7.74244, std: 0.33084, params: {'gamma': 0.0001, 'learning_rate': 0.001, 'max_depth': 5, 'n_estimators': 30, 'subsample': 0.75},\n",
       " mean: -7.58805, std: 0.32684, params: {'gamma': 0.0001, 'learning_rate': 0.001, 'max_depth': 5, 'n_estimators': 40, 'subsample': 0.75},\n",
       " mean: -7.43654, std: 0.32280, params: {'gamma': 0.0001, 'learning_rate': 0.001, 'max_depth': 5, 'n_estimators': 50, 'subsample': 0.75},\n",
       " mean: -7.28807, std: 0.31873, params: {'gamma': 0.0001, 'learning_rate': 0.001, 'max_depth': 5, 'n_estimators': 60, 'subsample': 0.75},\n",
       " mean: -7.14236, std: 0.31481, params: {'gamma': 0.0001, 'learning_rate': 0.001, 'max_depth': 5, 'n_estimators': 70, 'subsample': 0.75},\n",
       " mean: -6.99959, std: 0.31081, params: {'gamma': 0.0001, 'learning_rate': 0.001, 'max_depth': 5, 'n_estimators': 80, 'subsample': 0.75},\n",
       " mean: -6.85982, std: 0.30703, params: {'gamma': 0.0001, 'learning_rate': 0.001, 'max_depth': 5, 'n_estimators': 90, 'subsample': 0.75},\n",
       " mean: -6.72283, std: 0.30333, params: {'gamma': 0.0001, 'learning_rate': 0.001, 'max_depth': 5, 'n_estimators': 100, 'subsample': 0.75},\n",
       " mean: -6.58828, std: 0.29954, params: {'gamma': 0.0001, 'learning_rate': 0.001, 'max_depth': 5, 'n_estimators': 110, 'subsample': 0.75},\n",
       " mean: -6.45637, std: 0.29577, params: {'gamma': 0.0001, 'learning_rate': 0.001, 'max_depth': 5, 'n_estimators': 120, 'subsample': 0.75},\n",
       " mean: -6.32716, std: 0.29214, params: {'gamma': 0.0001, 'learning_rate': 0.001, 'max_depth': 5, 'n_estimators': 130, 'subsample': 0.75},\n",
       " mean: -6.20050, std: 0.28830, params: {'gamma': 0.0001, 'learning_rate': 0.001, 'max_depth': 5, 'n_estimators': 140, 'subsample': 0.75},\n",
       " mean: -6.07635, std: 0.28474, params: {'gamma': 0.0001, 'learning_rate': 0.001, 'max_depth': 5, 'n_estimators': 150, 'subsample': 0.75},\n",
       " mean: -8.06059, std: 0.33913, params: {'gamma': 0.0001, 'learning_rate': 0.001, 'max_depth': 6, 'n_estimators': 10, 'subsample': 0.75},\n",
       " mean: -7.89977, std: 0.33485, params: {'gamma': 0.0001, 'learning_rate': 0.001, 'max_depth': 6, 'n_estimators': 20, 'subsample': 0.75},\n",
       " mean: -7.74191, std: 0.33068, params: {'gamma': 0.0001, 'learning_rate': 0.001, 'max_depth': 6, 'n_estimators': 30, 'subsample': 0.75},\n",
       " mean: -7.58733, std: 0.32659, params: {'gamma': 0.0001, 'learning_rate': 0.001, 'max_depth': 6, 'n_estimators': 40, 'subsample': 0.75},\n",
       " mean: -7.43564, std: 0.32249, params: {'gamma': 0.0001, 'learning_rate': 0.001, 'max_depth': 6, 'n_estimators': 50, 'subsample': 0.75},\n",
       " mean: -7.28702, std: 0.31833, params: {'gamma': 0.0001, 'learning_rate': 0.001, 'max_depth': 6, 'n_estimators': 60, 'subsample': 0.75},\n",
       " mean: -7.14115, std: 0.31434, params: {'gamma': 0.0001, 'learning_rate': 0.001, 'max_depth': 6, 'n_estimators': 70, 'subsample': 0.75},\n",
       " mean: -6.99821, std: 0.31029, params: {'gamma': 0.0001, 'learning_rate': 0.001, 'max_depth': 6, 'n_estimators': 80, 'subsample': 0.75},\n",
       " mean: -6.85831, std: 0.30650, params: {'gamma': 0.0001, 'learning_rate': 0.001, 'max_depth': 6, 'n_estimators': 90, 'subsample': 0.75},\n",
       " mean: -6.72116, std: 0.30279, params: {'gamma': 0.0001, 'learning_rate': 0.001, 'max_depth': 6, 'n_estimators': 100, 'subsample': 0.75},\n",
       " mean: -6.58645, std: 0.29899, params: {'gamma': 0.0001, 'learning_rate': 0.001, 'max_depth': 6, 'n_estimators': 110, 'subsample': 0.75},\n",
       " mean: -6.45438, std: 0.29520, params: {'gamma': 0.0001, 'learning_rate': 0.001, 'max_depth': 6, 'n_estimators': 120, 'subsample': 0.75},\n",
       " mean: -6.32500, std: 0.29154, params: {'gamma': 0.0001, 'learning_rate': 0.001, 'max_depth': 6, 'n_estimators': 130, 'subsample': 0.75},\n",
       " mean: -6.19819, std: 0.28771, params: {'gamma': 0.0001, 'learning_rate': 0.001, 'max_depth': 6, 'n_estimators': 140, 'subsample': 0.75},\n",
       " mean: -6.07386, std: 0.28411, params: {'gamma': 0.0001, 'learning_rate': 0.001, 'max_depth': 6, 'n_estimators': 150, 'subsample': 0.75},\n",
       " mean: -8.06042, std: 0.33910, params: {'gamma': 0.0001, 'learning_rate': 0.001, 'max_depth': 7, 'n_estimators': 10, 'subsample': 0.75},\n",
       " mean: -7.89942, std: 0.33482, params: {'gamma': 0.0001, 'learning_rate': 0.001, 'max_depth': 7, 'n_estimators': 20, 'subsample': 0.75},\n",
       " mean: -7.74139, std: 0.33061, params: {'gamma': 0.0001, 'learning_rate': 0.001, 'max_depth': 7, 'n_estimators': 30, 'subsample': 0.75},\n",
       " mean: -7.58664, std: 0.32651, params: {'gamma': 0.0001, 'learning_rate': 0.001, 'max_depth': 7, 'n_estimators': 40, 'subsample': 0.75},\n",
       " mean: -7.43480, std: 0.32240, params: {'gamma': 0.0001, 'learning_rate': 0.001, 'max_depth': 7, 'n_estimators': 50, 'subsample': 0.75},\n",
       " mean: -7.28601, std: 0.31819, params: {'gamma': 0.0001, 'learning_rate': 0.001, 'max_depth': 7, 'n_estimators': 60, 'subsample': 0.75},\n",
       " mean: -7.13995, std: 0.31414, params: {'gamma': 0.0001, 'learning_rate': 0.001, 'max_depth': 7, 'n_estimators': 70, 'subsample': 0.75},\n",
       " mean: -6.99684, std: 0.31011, params: {'gamma': 0.0001, 'learning_rate': 0.001, 'max_depth': 7, 'n_estimators': 80, 'subsample': 0.75},\n",
       " mean: -6.85681, std: 0.30633, params: {'gamma': 0.0001, 'learning_rate': 0.001, 'max_depth': 7, 'n_estimators': 90, 'subsample': 0.75},\n",
       " mean: -6.71953, std: 0.30261, params: {'gamma': 0.0001, 'learning_rate': 0.001, 'max_depth': 7, 'n_estimators': 100, 'subsample': 0.75},\n",
       " mean: -6.58469, std: 0.29879, params: {'gamma': 0.0001, 'learning_rate': 0.001, 'max_depth': 7, 'n_estimators': 110, 'subsample': 0.75},\n",
       " mean: -6.45248, std: 0.29492, params: {'gamma': 0.0001, 'learning_rate': 0.001, 'max_depth': 7, 'n_estimators': 120, 'subsample': 0.75},\n",
       " mean: -6.32295, std: 0.29124, params: {'gamma': 0.0001, 'learning_rate': 0.001, 'max_depth': 7, 'n_estimators': 130, 'subsample': 0.75},\n",
       " mean: -6.19601, std: 0.28738, params: {'gamma': 0.0001, 'learning_rate': 0.001, 'max_depth': 7, 'n_estimators': 140, 'subsample': 0.75},\n",
       " mean: -6.07156, std: 0.28377, params: {'gamma': 0.0001, 'learning_rate': 0.001, 'max_depth': 7, 'n_estimators': 150, 'subsample': 0.75},\n",
       " mean: -8.06026, std: 0.33903, params: {'gamma': 0.0001, 'learning_rate': 0.001, 'max_depth': 8, 'n_estimators': 10, 'subsample': 0.75},\n",
       " mean: -7.89911, std: 0.33470, params: {'gamma': 0.0001, 'learning_rate': 0.001, 'max_depth': 8, 'n_estimators': 20, 'subsample': 0.75},\n",
       " mean: -7.74098, std: 0.33046, params: {'gamma': 0.0001, 'learning_rate': 0.001, 'max_depth': 8, 'n_estimators': 30, 'subsample': 0.75},\n",
       " mean: -7.58604, std: 0.32634, params: {'gamma': 0.0001, 'learning_rate': 0.001, 'max_depth': 8, 'n_estimators': 40, 'subsample': 0.75},\n",
       " mean: -7.43401, std: 0.32222, params: {'gamma': 0.0001, 'learning_rate': 0.001, 'max_depth': 8, 'n_estimators': 50, 'subsample': 0.75},\n",
       " mean: -7.28504, std: 0.31800, params: {'gamma': 0.0001, 'learning_rate': 0.001, 'max_depth': 8, 'n_estimators': 60, 'subsample': 0.75},\n",
       " mean: -7.13887, std: 0.31389, params: {'gamma': 0.0001, 'learning_rate': 0.001, 'max_depth': 8, 'n_estimators': 70, 'subsample': 0.75},\n",
       " mean: -6.99560, std: 0.30985, params: {'gamma': 0.0001, 'learning_rate': 0.001, 'max_depth': 8, 'n_estimators': 80, 'subsample': 0.75},\n",
       " mean: -6.85542, std: 0.30602, params: {'gamma': 0.0001, 'learning_rate': 0.001, 'max_depth': 8, 'n_estimators': 90, 'subsample': 0.75},\n",
       " mean: -6.71802, std: 0.30229, params: {'gamma': 0.0001, 'learning_rate': 0.001, 'max_depth': 8, 'n_estimators': 100, 'subsample': 0.75},\n",
       " mean: -6.58306, std: 0.29841, params: {'gamma': 0.0001, 'learning_rate': 0.001, 'max_depth': 8, 'n_estimators': 110, 'subsample': 0.75},\n",
       " mean: -6.45072, std: 0.29447, params: {'gamma': 0.0001, 'learning_rate': 0.001, 'max_depth': 8, 'n_estimators': 120, 'subsample': 0.75},\n",
       " mean: -6.32106, std: 0.29073, params: {'gamma': 0.0001, 'learning_rate': 0.001, 'max_depth': 8, 'n_estimators': 130, 'subsample': 0.75},\n",
       " mean: -6.19403, std: 0.28685, params: {'gamma': 0.0001, 'learning_rate': 0.001, 'max_depth': 8, 'n_estimators': 140, 'subsample': 0.75},\n",
       " mean: -6.06947, std: 0.28323, params: {'gamma': 0.0001, 'learning_rate': 0.001, 'max_depth': 8, 'n_estimators': 150, 'subsample': 0.75},\n",
       " mean: -8.06014, std: 0.33900, params: {'gamma': 0.0001, 'learning_rate': 0.001, 'max_depth': 9, 'n_estimators': 10, 'subsample': 0.75},\n",
       " mean: -7.89887, std: 0.33470, params: {'gamma': 0.0001, 'learning_rate': 0.001, 'max_depth': 9, 'n_estimators': 20, 'subsample': 0.75},\n",
       " mean: -7.74065, std: 0.33044, params: {'gamma': 0.0001, 'learning_rate': 0.001, 'max_depth': 9, 'n_estimators': 30, 'subsample': 0.75},\n",
       " mean: -7.58556, std: 0.32630, params: {'gamma': 0.0001, 'learning_rate': 0.001, 'max_depth': 9, 'n_estimators': 40, 'subsample': 0.75},\n",
       " mean: -7.43340, std: 0.32216, params: {'gamma': 0.0001, 'learning_rate': 0.001, 'max_depth': 9, 'n_estimators': 50, 'subsample': 0.75},\n",
       " mean: -7.28424, std: 0.31790, params: {'gamma': 0.0001, 'learning_rate': 0.001, 'max_depth': 9, 'n_estimators': 60, 'subsample': 0.75},\n",
       " mean: -7.13792, std: 0.31376, params: {'gamma': 0.0001, 'learning_rate': 0.001, 'max_depth': 9, 'n_estimators': 70, 'subsample': 0.75},\n",
       " mean: -6.99451, std: 0.30971, params: {'gamma': 0.0001, 'learning_rate': 0.001, 'max_depth': 9, 'n_estimators': 80, 'subsample': 0.75},\n",
       " mean: -6.85414, std: 0.30583, params: {'gamma': 0.0001, 'learning_rate': 0.001, 'max_depth': 9, 'n_estimators': 90, 'subsample': 0.75},\n",
       " mean: -6.71658, std: 0.30210, params: {'gamma': 0.0001, 'learning_rate': 0.001, 'max_depth': 9, 'n_estimators': 100, 'subsample': 0.75},\n",
       " mean: -6.58149, std: 0.29818, params: {'gamma': 0.0001, 'learning_rate': 0.001, 'max_depth': 9, 'n_estimators': 110, 'subsample': 0.75},\n",
       " mean: -6.44903, std: 0.29418, params: {'gamma': 0.0001, 'learning_rate': 0.001, 'max_depth': 9, 'n_estimators': 120, 'subsample': 0.75},\n",
       " mean: -6.31927, std: 0.29043, params: {'gamma': 0.0001, 'learning_rate': 0.001, 'max_depth': 9, 'n_estimators': 130, 'subsample': 0.75},\n",
       " mean: -6.19213, std: 0.28657, params: {'gamma': 0.0001, 'learning_rate': 0.001, 'max_depth': 9, 'n_estimators': 140, 'subsample': 0.75},\n",
       " mean: -6.06746, std: 0.28291, params: {'gamma': 0.0001, 'learning_rate': 0.001, 'max_depth': 9, 'n_estimators': 150, 'subsample': 0.75},\n",
       " mean: -8.05999, std: 0.33894, params: {'gamma': 0.0001, 'learning_rate': 0.001, 'max_depth': 10, 'n_estimators': 10, 'subsample': 0.75},\n",
       " mean: -7.89856, std: 0.33461, params: {'gamma': 0.0001, 'learning_rate': 0.001, 'max_depth': 10, 'n_estimators': 20, 'subsample': 0.75},\n",
       " mean: -7.74021, std: 0.33027, params: {'gamma': 0.0001, 'learning_rate': 0.001, 'max_depth': 10, 'n_estimators': 30, 'subsample': 0.75},\n",
       " mean: -7.58498, std: 0.32613, params: {'gamma': 0.0001, 'learning_rate': 0.001, 'max_depth': 10, 'n_estimators': 40, 'subsample': 0.75},\n",
       " mean: -7.43266, std: 0.32193, params: {'gamma': 0.0001, 'learning_rate': 0.001, 'max_depth': 10, 'n_estimators': 50, 'subsample': 0.75},\n",
       " mean: -7.28338, std: 0.31764, params: {'gamma': 0.0001, 'learning_rate': 0.001, 'max_depth': 10, 'n_estimators': 60, 'subsample': 0.75},\n",
       " mean: -7.13693, std: 0.31350, params: {'gamma': 0.0001, 'learning_rate': 0.001, 'max_depth': 10, 'n_estimators': 70, 'subsample': 0.75},\n",
       " mean: -6.99339, std: 0.30943, params: {'gamma': 0.0001, 'learning_rate': 0.001, 'max_depth': 10, 'n_estimators': 80, 'subsample': 0.75},\n",
       " mean: -6.85292, std: 0.30554, params: {'gamma': 0.0001, 'learning_rate': 0.001, 'max_depth': 10, 'n_estimators': 90, 'subsample': 0.75},\n",
       " mean: -6.71522, std: 0.30173, params: {'gamma': 0.0001, 'learning_rate': 0.001, 'max_depth': 10, 'n_estimators': 100, 'subsample': 0.75},\n",
       " mean: -6.58003, std: 0.29777, params: {'gamma': 0.0001, 'learning_rate': 0.001, 'max_depth': 10, 'n_estimators': 110, 'subsample': 0.75},\n",
       " mean: -6.44742, std: 0.29376, params: {'gamma': 0.0001, 'learning_rate': 0.001, 'max_depth': 10, 'n_estimators': 120, 'subsample': 0.75},\n",
       " mean: -6.31750, std: 0.28997, params: {'gamma': 0.0001, 'learning_rate': 0.001, 'max_depth': 10, 'n_estimators': 130, 'subsample': 0.75},\n",
       " mean: -6.19026, std: 0.28609, params: {'gamma': 0.0001, 'learning_rate': 0.001, 'max_depth': 10, 'n_estimators': 140, 'subsample': 0.75},\n",
       " mean: -6.06548, std: 0.28239, params: {'gamma': 0.0001, 'learning_rate': 0.001, 'max_depth': 10, 'n_estimators': 150, 'subsample': 0.75},\n",
       " mean: -6.72517, std: 0.30247, params: {'gamma': 0.0001, 'learning_rate': 0.01, 'max_depth': 1, 'n_estimators': 10, 'subsample': 0.75},\n",
       " mean: -5.50016, std: 0.26735, params: {'gamma': 0.0001, 'learning_rate': 0.01, 'max_depth': 1, 'n_estimators': 20, 'subsample': 0.75},\n",
       " mean: -4.49588, std: 0.23726, params: {'gamma': 0.0001, 'learning_rate': 0.01, 'max_depth': 1, 'n_estimators': 30, 'subsample': 0.75},\n",
       " mean: -3.67514, std: 0.21141, params: {'gamma': 0.0001, 'learning_rate': 0.01, 'max_depth': 1, 'n_estimators': 40, 'subsample': 0.75},\n",
       " mean: -3.00265, std: 0.18843, params: {'gamma': 0.0001, 'learning_rate': 0.01, 'max_depth': 1, 'n_estimators': 50, 'subsample': 0.75},\n",
       " mean: -2.45225, std: 0.16690, params: {'gamma': 0.0001, 'learning_rate': 0.01, 'max_depth': 1, 'n_estimators': 60, 'subsample': 0.75},\n",
       " mean: -2.00125, std: 0.14894, params: {'gamma': 0.0001, 'learning_rate': 0.01, 'max_depth': 1, 'n_estimators': 70, 'subsample': 0.75},\n",
       " mean: -1.63231, std: 0.13238, params: {'gamma': 0.0001, 'learning_rate': 0.01, 'max_depth': 1, 'n_estimators': 80, 'subsample': 0.75},\n",
       " mean: -1.33154, std: 0.11866, params: {'gamma': 0.0001, 'learning_rate': 0.01, 'max_depth': 1, 'n_estimators': 90, 'subsample': 0.75},\n",
       " mean: -1.08511, std: 0.10681, params: {'gamma': 0.0001, 'learning_rate': 0.01, 'max_depth': 1, 'n_estimators': 100, 'subsample': 0.75},\n",
       " mean: -0.88226, std: 0.09534, params: {'gamma': 0.0001, 'learning_rate': 0.01, 'max_depth': 1, 'n_estimators': 110, 'subsample': 0.75},\n",
       " mean: -0.71596, std: 0.08507, params: {'gamma': 0.0001, 'learning_rate': 0.01, 'max_depth': 1, 'n_estimators': 120, 'subsample': 0.75},\n",
       " mean: -0.58021, std: 0.07639, params: {'gamma': 0.0001, 'learning_rate': 0.01, 'max_depth': 1, 'n_estimators': 130, 'subsample': 0.75},\n",
       " mean: -0.46881, std: 0.06812, params: {'gamma': 0.0001, 'learning_rate': 0.01, 'max_depth': 1, 'n_estimators': 140, 'subsample': 0.75},\n",
       " mean: -0.37771, std: 0.06134, params: {'gamma': 0.0001, 'learning_rate': 0.01, 'max_depth': 1, 'n_estimators': 150, 'subsample': 0.75},\n",
       " mean: -6.72224, std: 0.30262, params: {'gamma': 0.0001, 'learning_rate': 0.01, 'max_depth': 2, 'n_estimators': 10, 'subsample': 0.75},\n",
       " mean: -5.49481, std: 0.26766, params: {'gamma': 0.0001, 'learning_rate': 0.01, 'max_depth': 2, 'n_estimators': 20, 'subsample': 0.75},\n",
       " mean: -4.48897, std: 0.23778, params: {'gamma': 0.0001, 'learning_rate': 0.01, 'max_depth': 2, 'n_estimators': 30, 'subsample': 0.75},\n",
       " mean: -3.66676, std: 0.21195, params: {'gamma': 0.0001, 'learning_rate': 0.01, 'max_depth': 2, 'n_estimators': 40, 'subsample': 0.75},\n",
       " mean: -2.99275, std: 0.18857, params: {'gamma': 0.0001, 'learning_rate': 0.01, 'max_depth': 2, 'n_estimators': 50, 'subsample': 0.75},\n",
       " mean: -2.44140, std: 0.16727, params: {'gamma': 0.0001, 'learning_rate': 0.01, 'max_depth': 2, 'n_estimators': 60, 'subsample': 0.75},\n",
       " mean: -1.98909, std: 0.14913, params: {'gamma': 0.0001, 'learning_rate': 0.01, 'max_depth': 2, 'n_estimators': 70, 'subsample': 0.75},\n",
       " mean: -1.61924, std: 0.13263, params: {'gamma': 0.0001, 'learning_rate': 0.01, 'max_depth': 2, 'n_estimators': 80, 'subsample': 0.75},\n",
       " mean: -1.31735, std: 0.11875, params: {'gamma': 0.0001, 'learning_rate': 0.01, 'max_depth': 2, 'n_estimators': 90, 'subsample': 0.75},\n",
       " mean: -1.07003, std: 0.10662, params: {'gamma': 0.0001, 'learning_rate': 0.01, 'max_depth': 2, 'n_estimators': 100, 'subsample': 0.75},\n",
       " mean: -0.86632, std: 0.09511, params: {'gamma': 0.0001, 'learning_rate': 0.01, 'max_depth': 2, 'n_estimators': 110, 'subsample': 0.75},\n",
       " mean: -0.69942, std: 0.08524, params: {'gamma': 0.0001, 'learning_rate': 0.01, 'max_depth': 2, 'n_estimators': 120, 'subsample': 0.75},\n",
       " mean: -0.56290, std: 0.07622, params: {'gamma': 0.0001, 'learning_rate': 0.01, 'max_depth': 2, 'n_estimators': 130, 'subsample': 0.75},\n",
       " mean: -0.45114, std: 0.06805, params: {'gamma': 0.0001, 'learning_rate': 0.01, 'max_depth': 2, 'n_estimators': 140, 'subsample': 0.75},\n",
       " mean: -0.35966, std: 0.06097, params: {'gamma': 0.0001, 'learning_rate': 0.01, 'max_depth': 2, 'n_estimators': 150, 'subsample': 0.75},\n",
       " mean: -6.72006, std: 0.30284, params: {'gamma': 0.0001, 'learning_rate': 0.01, 'max_depth': 3, 'n_estimators': 10, 'subsample': 0.75},\n",
       " mean: -5.49088, std: 0.26775, params: {'gamma': 0.0001, 'learning_rate': 0.01, 'max_depth': 3, 'n_estimators': 20, 'subsample': 0.75},\n",
       " mean: -4.48328, std: 0.23759, params: {'gamma': 0.0001, 'learning_rate': 0.01, 'max_depth': 3, 'n_estimators': 30, 'subsample': 0.75},\n",
       " mean: -3.65980, std: 0.21164, params: {'gamma': 0.0001, 'learning_rate': 0.01, 'max_depth': 3, 'n_estimators': 40, 'subsample': 0.75},\n",
       " mean: -2.98476, std: 0.18821, params: {'gamma': 0.0001, 'learning_rate': 0.01, 'max_depth': 3, 'n_estimators': 50, 'subsample': 0.75},\n",
       " mean: -2.43244, std: 0.16693, params: {'gamma': 0.0001, 'learning_rate': 0.01, 'max_depth': 3, 'n_estimators': 60, 'subsample': 0.75},\n",
       " mean: -1.97953, std: 0.14848, params: {'gamma': 0.0001, 'learning_rate': 0.01, 'max_depth': 3, 'n_estimators': 70, 'subsample': 0.75},\n",
       " mean: -1.60887, std: 0.13192, params: {'gamma': 0.0001, 'learning_rate': 0.01, 'max_depth': 3, 'n_estimators': 80, 'subsample': 0.75},\n",
       " mean: -1.30650, std: 0.11795, params: {'gamma': 0.0001, 'learning_rate': 0.01, 'max_depth': 3, 'n_estimators': 90, 'subsample': 0.75},\n",
       " mean: -1.05839, std: 0.10568, params: {'gamma': 0.0001, 'learning_rate': 0.01, 'max_depth': 3, 'n_estimators': 100, 'subsample': 0.75},\n",
       " mean: -0.85437, std: 0.09406, params: {'gamma': 0.0001, 'learning_rate': 0.01, 'max_depth': 3, 'n_estimators': 110, 'subsample': 0.75},\n",
       " mean: -0.68702, std: 0.08411, params: {'gamma': 0.0001, 'learning_rate': 0.01, 'max_depth': 3, 'n_estimators': 120, 'subsample': 0.75},\n",
       " mean: -0.54999, std: 0.07504, params: {'gamma': 0.0001, 'learning_rate': 0.01, 'max_depth': 3, 'n_estimators': 130, 'subsample': 0.75},\n",
       " mean: -0.43784, std: 0.06663, params: {'gamma': 0.0001, 'learning_rate': 0.01, 'max_depth': 3, 'n_estimators': 140, 'subsample': 0.75},\n",
       " mean: -0.34589, std: 0.05961, params: {'gamma': 0.0001, 'learning_rate': 0.01, 'max_depth': 3, 'n_estimators': 150, 'subsample': 0.75},\n",
       " mean: -6.71817, std: 0.30306, params: {'gamma': 0.0001, 'learning_rate': 0.01, 'max_depth': 4, 'n_estimators': 10, 'subsample': 0.75},\n",
       " mean: -5.48749, std: 0.26799, params: {'gamma': 0.0001, 'learning_rate': 0.01, 'max_depth': 4, 'n_estimators': 20, 'subsample': 0.75},\n",
       " mean: -4.47852, std: 0.23725, params: {'gamma': 0.0001, 'learning_rate': 0.01, 'max_depth': 4, 'n_estimators': 30, 'subsample': 0.75},\n",
       " mean: -3.65387, std: 0.21097, params: {'gamma': 0.0001, 'learning_rate': 0.01, 'max_depth': 4, 'n_estimators': 40, 'subsample': 0.75},\n",
       " mean: -2.97787, std: 0.18715, params: {'gamma': 0.0001, 'learning_rate': 0.01, 'max_depth': 4, 'n_estimators': 50, 'subsample': 0.75},\n",
       " mean: -2.42485, std: 0.16574, params: {'gamma': 0.0001, 'learning_rate': 0.01, 'max_depth': 4, 'n_estimators': 60, 'subsample': 0.75},\n",
       " mean: -1.97127, std: 0.14728, params: {'gamma': 0.0001, 'learning_rate': 0.01, 'max_depth': 4, 'n_estimators': 70, 'subsample': 0.75},\n",
       " mean: -1.59989, std: 0.13060, params: {'gamma': 0.0001, 'learning_rate': 0.01, 'max_depth': 4, 'n_estimators': 80, 'subsample': 0.75},\n",
       " mean: -1.29711, std: 0.11640, params: {'gamma': 0.0001, 'learning_rate': 0.01, 'max_depth': 4, 'n_estimators': 90, 'subsample': 0.75},\n",
       " mean: -1.04866, std: 0.10411, params: {'gamma': 0.0001, 'learning_rate': 0.01, 'max_depth': 4, 'n_estimators': 100, 'subsample': 0.75},\n",
       " mean: -0.84453, std: 0.09251, params: {'gamma': 0.0001, 'learning_rate': 0.01, 'max_depth': 4, 'n_estimators': 110, 'subsample': 0.75},\n",
       " mean: -0.67669, std: 0.08239, params: {'gamma': 0.0001, 'learning_rate': 0.01, 'max_depth': 4, 'n_estimators': 120, 'subsample': 0.75},\n",
       " mean: -0.53912, std: 0.07327, params: {'gamma': 0.0001, 'learning_rate': 0.01, 'max_depth': 4, 'n_estimators': 130, 'subsample': 0.75},\n",
       " mean: -0.42669, std: 0.06492, params: {'gamma': 0.0001, 'learning_rate': 0.01, 'max_depth': 4, 'n_estimators': 140, 'subsample': 0.75},\n",
       " mean: -0.33432, std: 0.05785, params: {'gamma': 0.0001, 'learning_rate': 0.01, 'max_depth': 4, 'n_estimators': 150, 'subsample': 0.75},\n",
       " mean: -6.71647, std: 0.30268, params: {'gamma': 0.0001, 'learning_rate': 0.01, 'max_depth': 5, 'n_estimators': 10, 'subsample': 0.75},\n",
       " mean: -5.48436, std: 0.26771, params: {'gamma': 0.0001, 'learning_rate': 0.01, 'max_depth': 5, 'n_estimators': 20, 'subsample': 0.75},\n",
       " mean: -4.47445, std: 0.23669, params: {'gamma': 0.0001, 'learning_rate': 0.01, 'max_depth': 5, 'n_estimators': 30, 'subsample': 0.75},\n",
       " mean: -3.64863, std: 0.21043, params: {'gamma': 0.0001, 'learning_rate': 0.01, 'max_depth': 5, 'n_estimators': 40, 'subsample': 0.75},\n",
       " mean: -2.97217, std: 0.18640, params: {'gamma': 0.0001, 'learning_rate': 0.01, 'max_depth': 5, 'n_estimators': 50, 'subsample': 0.75},\n",
       " mean: -2.41840, std: 0.16504, params: {'gamma': 0.0001, 'learning_rate': 0.01, 'max_depth': 5, 'n_estimators': 60, 'subsample': 0.75},\n",
       " mean: -1.96444, std: 0.14628, params: {'gamma': 0.0001, 'learning_rate': 0.01, 'max_depth': 5, 'n_estimators': 70, 'subsample': 0.75},\n",
       " mean: -1.59256, std: 0.12952, params: {'gamma': 0.0001, 'learning_rate': 0.01, 'max_depth': 5, 'n_estimators': 80, 'subsample': 0.75},\n",
       " mean: -1.28949, std: 0.11566, params: {'gamma': 0.0001, 'learning_rate': 0.01, 'max_depth': 5, 'n_estimators': 90, 'subsample': 0.75},\n",
       " mean: -1.04042, std: 0.10336, params: {'gamma': 0.0001, 'learning_rate': 0.01, 'max_depth': 5, 'n_estimators': 100, 'subsample': 0.75},\n",
       " mean: -0.83578, std: 0.09170, params: {'gamma': 0.0001, 'learning_rate': 0.01, 'max_depth': 5, 'n_estimators': 110, 'subsample': 0.75},\n",
       " mean: -0.66763, std: 0.08128, params: {'gamma': 0.0001, 'learning_rate': 0.01, 'max_depth': 5, 'n_estimators': 120, 'subsample': 0.75},\n",
       " mean: -0.52976, std: 0.07184, params: {'gamma': 0.0001, 'learning_rate': 0.01, 'max_depth': 5, 'n_estimators': 130, 'subsample': 0.75},\n",
       " mean: -0.41687, std: 0.06333, params: {'gamma': 0.0001, 'learning_rate': 0.01, 'max_depth': 5, 'n_estimators': 140, 'subsample': 0.75},\n",
       " mean: -0.32391, std: 0.05649, params: {'gamma': 0.0001, 'learning_rate': 0.01, 'max_depth': 5, 'n_estimators': 150, 'subsample': 0.75},\n",
       " mean: -6.71461, std: 0.30193, params: {'gamma': 0.0001, 'learning_rate': 0.01, 'max_depth': 6, 'n_estimators': 10, 'subsample': 0.75},\n",
       " mean: -5.48103, std: 0.26654, params: {'gamma': 0.0001, 'learning_rate': 0.01, 'max_depth': 6, 'n_estimators': 20, 'subsample': 0.75},\n",
       " mean: -4.47000, std: 0.23562, params: {'gamma': 0.0001, 'learning_rate': 0.01, 'max_depth': 6, 'n_estimators': 30, 'subsample': 0.75},\n",
       " mean: -3.64356, std: 0.20935, params: {'gamma': 0.0001, 'learning_rate': 0.01, 'max_depth': 6, 'n_estimators': 40, 'subsample': 0.75},\n",
       " mean: -2.96623, std: 0.18532, params: {'gamma': 0.0001, 'learning_rate': 0.01, 'max_depth': 6, 'n_estimators': 50, 'subsample': 0.75},\n",
       " mean: -2.41170, std: 0.16389, params: {'gamma': 0.0001, 'learning_rate': 0.01, 'max_depth': 6, 'n_estimators': 60, 'subsample': 0.75},\n",
       " mean: -1.95736, std: 0.14500, params: {'gamma': 0.0001, 'learning_rate': 0.01, 'max_depth': 6, 'n_estimators': 70, 'subsample': 0.75},\n",
       " mean: -1.58520, std: 0.12844, params: {'gamma': 0.0001, 'learning_rate': 0.01, 'max_depth': 6, 'n_estimators': 80, 'subsample': 0.75},\n",
       " mean: -1.28200, std: 0.11462, params: {'gamma': 0.0001, 'learning_rate': 0.01, 'max_depth': 6, 'n_estimators': 90, 'subsample': 0.75},\n",
       " mean: -1.03227, std: 0.10216, params: {'gamma': 0.0001, 'learning_rate': 0.01, 'max_depth': 6, 'n_estimators': 100, 'subsample': 0.75},\n",
       " mean: -0.82713, std: 0.09040, params: {'gamma': 0.0001, 'learning_rate': 0.01, 'max_depth': 6, 'n_estimators': 110, 'subsample': 0.75},\n",
       " mean: -0.65860, std: 0.08006, params: {'gamma': 0.0001, 'learning_rate': 0.01, 'max_depth': 6, 'n_estimators': 120, 'subsample': 0.75},\n",
       " mean: -0.52037, std: 0.07095, params: {'gamma': 0.0001, 'learning_rate': 0.01, 'max_depth': 6, 'n_estimators': 130, 'subsample': 0.75},\n",
       " mean: -0.40733, std: 0.06249, params: {'gamma': 0.0001, 'learning_rate': 0.01, 'max_depth': 6, 'n_estimators': 140, 'subsample': 0.75},\n",
       " mean: -0.31430, std: 0.05576, params: {'gamma': 0.0001, 'learning_rate': 0.01, 'max_depth': 6, 'n_estimators': 150, 'subsample': 0.75},\n",
       " mean: -6.71302, std: 0.30159, params: {'gamma': 0.0001, 'learning_rate': 0.01, 'max_depth': 7, 'n_estimators': 10, 'subsample': 0.75},\n",
       " mean: -5.47781, std: 0.26610, params: {'gamma': 0.0001, 'learning_rate': 0.01, 'max_depth': 7, 'n_estimators': 20, 'subsample': 0.75},\n",
       " mean: -4.46598, std: 0.23454, params: {'gamma': 0.0001, 'learning_rate': 0.01, 'max_depth': 7, 'n_estimators': 30, 'subsample': 0.75},\n",
       " mean: -3.63826, std: 0.20783, params: {'gamma': 0.0001, 'learning_rate': 0.01, 'max_depth': 7, 'n_estimators': 40, 'subsample': 0.75},\n",
       " mean: -2.96036, std: 0.18338, params: {'gamma': 0.0001, 'learning_rate': 0.01, 'max_depth': 7, 'n_estimators': 50, 'subsample': 0.75},\n",
       " mean: -2.40539, std: 0.16193, params: {'gamma': 0.0001, 'learning_rate': 0.01, 'max_depth': 7, 'n_estimators': 60, 'subsample': 0.75},\n",
       " mean: -1.95033, std: 0.14298, params: {'gamma': 0.0001, 'learning_rate': 0.01, 'max_depth': 7, 'n_estimators': 70, 'subsample': 0.75},\n",
       " mean: -1.57771, std: 0.12641, params: {'gamma': 0.0001, 'learning_rate': 0.01, 'max_depth': 7, 'n_estimators': 80, 'subsample': 0.75},\n",
       " mean: -1.27413, std: 0.11301, params: {'gamma': 0.0001, 'learning_rate': 0.01, 'max_depth': 7, 'n_estimators': 90, 'subsample': 0.75},\n",
       " mean: -1.02432, std: 0.10083, params: {'gamma': 0.0001, 'learning_rate': 0.01, 'max_depth': 7, 'n_estimators': 100, 'subsample': 0.75},\n",
       " mean: -0.81911, std: 0.08914, params: {'gamma': 0.0001, 'learning_rate': 0.01, 'max_depth': 7, 'n_estimators': 110, 'subsample': 0.75},\n",
       " mean: -0.65051, std: 0.07868, params: {'gamma': 0.0001, 'learning_rate': 0.01, 'max_depth': 7, 'n_estimators': 120, 'subsample': 0.75},\n",
       " mean: -0.51211, std: 0.06960, params: {'gamma': 0.0001, 'learning_rate': 0.01, 'max_depth': 7, 'n_estimators': 130, 'subsample': 0.75},\n",
       " mean: -0.39867, std: 0.06129, params: {'gamma': 0.0001, 'learning_rate': 0.01, 'max_depth': 7, 'n_estimators': 140, 'subsample': 0.75},\n",
       " mean: -0.30551, std: 0.05459, params: {'gamma': 0.0001, 'learning_rate': 0.01, 'max_depth': 7, 'n_estimators': 150, 'subsample': 0.75},\n",
       " mean: -6.71161, std: 0.30101, params: {'gamma': 0.0001, 'learning_rate': 0.01, 'max_depth': 8, 'n_estimators': 10, 'subsample': 0.75},\n",
       " mean: -5.47498, std: 0.26531, params: {'gamma': 0.0001, 'learning_rate': 0.01, 'max_depth': 8, 'n_estimators': 20, 'subsample': 0.75},\n",
       " mean: -4.46232, std: 0.23378, params: {'gamma': 0.0001, 'learning_rate': 0.01, 'max_depth': 8, 'n_estimators': 30, 'subsample': 0.75},\n",
       " mean: -3.63372, std: 0.20673, params: {'gamma': 0.0001, 'learning_rate': 0.01, 'max_depth': 8, 'n_estimators': 40, 'subsample': 0.75},\n",
       " mean: -2.95542, std: 0.18251, params: {'gamma': 0.0001, 'learning_rate': 0.01, 'max_depth': 8, 'n_estimators': 50, 'subsample': 0.75},\n",
       " mean: -2.40005, std: 0.16132, params: {'gamma': 0.0001, 'learning_rate': 0.01, 'max_depth': 8, 'n_estimators': 60, 'subsample': 0.75},\n",
       " mean: -1.94470, std: 0.14214, params: {'gamma': 0.0001, 'learning_rate': 0.01, 'max_depth': 8, 'n_estimators': 70, 'subsample': 0.75},\n",
       " mean: -1.57157, std: 0.12577, params: {'gamma': 0.0001, 'learning_rate': 0.01, 'max_depth': 8, 'n_estimators': 80, 'subsample': 0.75},\n",
       " mean: -1.26741, std: 0.11169, params: {'gamma': 0.0001, 'learning_rate': 0.01, 'max_depth': 8, 'n_estimators': 90, 'subsample': 0.75},\n",
       " mean: -1.01725, std: 0.09965, params: {'gamma': 0.0001, 'learning_rate': 0.01, 'max_depth': 8, 'n_estimators': 100, 'subsample': 0.75},\n",
       " mean: -0.81188, std: 0.08807, params: {'gamma': 0.0001, 'learning_rate': 0.01, 'max_depth': 8, 'n_estimators': 110, 'subsample': 0.75},\n",
       " mean: -0.64317, std: 0.07762, params: {'gamma': 0.0001, 'learning_rate': 0.01, 'max_depth': 8, 'n_estimators': 120, 'subsample': 0.75},\n",
       " mean: -0.50471, std: 0.06861, params: {'gamma': 0.0001, 'learning_rate': 0.01, 'max_depth': 8, 'n_estimators': 130, 'subsample': 0.75},\n",
       " mean: -0.39123, std: 0.06037, params: {'gamma': 0.0001, 'learning_rate': 0.01, 'max_depth': 8, 'n_estimators': 140, 'subsample': 0.75},\n",
       " mean: -0.29796, std: 0.05371, params: {'gamma': 0.0001, 'learning_rate': 0.01, 'max_depth': 8, 'n_estimators': 150, 'subsample': 0.75},\n",
       " mean: -6.71025, std: 0.30061, params: {'gamma': 0.0001, 'learning_rate': 0.01, 'max_depth': 9, 'n_estimators': 10, 'subsample': 0.75},\n",
       " mean: -5.47242, std: 0.26471, params: {'gamma': 0.0001, 'learning_rate': 0.01, 'max_depth': 9, 'n_estimators': 20, 'subsample': 0.75},\n",
       " mean: -4.45902, std: 0.23294, params: {'gamma': 0.0001, 'learning_rate': 0.01, 'max_depth': 9, 'n_estimators': 30, 'subsample': 0.75},\n",
       " mean: -3.62886, std: 0.20560, params: {'gamma': 0.0001, 'learning_rate': 0.01, 'max_depth': 9, 'n_estimators': 40, 'subsample': 0.75},\n",
       " mean: -2.95016, std: 0.18129, params: {'gamma': 0.0001, 'learning_rate': 0.01, 'max_depth': 9, 'n_estimators': 50, 'subsample': 0.75},\n",
       " mean: -2.39441, std: 0.16017, params: {'gamma': 0.0001, 'learning_rate': 0.01, 'max_depth': 9, 'n_estimators': 60, 'subsample': 0.75},\n",
       " mean: -1.93865, std: 0.14075, params: {'gamma': 0.0001, 'learning_rate': 0.01, 'max_depth': 9, 'n_estimators': 70, 'subsample': 0.75},\n",
       " mean: -1.56482, std: 0.12445, params: {'gamma': 0.0001, 'learning_rate': 0.01, 'max_depth': 9, 'n_estimators': 80, 'subsample': 0.75},\n",
       " mean: -1.26065, std: 0.11024, params: {'gamma': 0.0001, 'learning_rate': 0.01, 'max_depth': 9, 'n_estimators': 90, 'subsample': 0.75},\n",
       " mean: -1.01018, std: 0.09836, params: {'gamma': 0.0001, 'learning_rate': 0.01, 'max_depth': 9, 'n_estimators': 100, 'subsample': 0.75},\n",
       " mean: -0.80468, std: 0.08700, params: {'gamma': 0.0001, 'learning_rate': 0.01, 'max_depth': 9, 'n_estimators': 110, 'subsample': 0.75},\n",
       " mean: -0.63603, std: 0.07666, params: {'gamma': 0.0001, 'learning_rate': 0.01, 'max_depth': 9, 'n_estimators': 120, 'subsample': 0.75},\n",
       " mean: -0.49749, std: 0.06795, params: {'gamma': 0.0001, 'learning_rate': 0.01, 'max_depth': 9, 'n_estimators': 130, 'subsample': 0.75},\n",
       " mean: -0.38394, std: 0.06012, params: {'gamma': 0.0001, 'learning_rate': 0.01, 'max_depth': 9, 'n_estimators': 140, 'subsample': 0.75},\n",
       " mean: -0.29053, std: 0.05355, params: {'gamma': 0.0001, 'learning_rate': 0.01, 'max_depth': 9, 'n_estimators': 150, 'subsample': 0.75},\n",
       " mean: -6.70888, std: 0.30032, params: {'gamma': 0.0001, 'learning_rate': 0.01, 'max_depth': 10, 'n_estimators': 10, 'subsample': 0.75},\n",
       " mean: -5.46988, std: 0.26401, params: {'gamma': 0.0001, 'learning_rate': 0.01, 'max_depth': 10, 'n_estimators': 20, 'subsample': 0.75},\n",
       " mean: -4.45564, std: 0.23230, params: {'gamma': 0.0001, 'learning_rate': 0.01, 'max_depth': 10, 'n_estimators': 30, 'subsample': 0.75},\n",
       " mean: -3.62500, std: 0.20513, params: {'gamma': 0.0001, 'learning_rate': 0.01, 'max_depth': 10, 'n_estimators': 40, 'subsample': 0.75},\n",
       " mean: -2.94551, std: 0.18067, params: {'gamma': 0.0001, 'learning_rate': 0.01, 'max_depth': 10, 'n_estimators': 50, 'subsample': 0.75},\n",
       " mean: -2.38901, std: 0.15950, params: {'gamma': 0.0001, 'learning_rate': 0.01, 'max_depth': 10, 'n_estimators': 60, 'subsample': 0.75},\n",
       " mean: -1.93258, std: 0.14017, params: {'gamma': 0.0001, 'learning_rate': 0.01, 'max_depth': 10, 'n_estimators': 70, 'subsample': 0.75},\n",
       " mean: -1.55850, std: 0.12389, params: {'gamma': 0.0001, 'learning_rate': 0.01, 'max_depth': 10, 'n_estimators': 80, 'subsample': 0.75},\n",
       " mean: -1.25397, std: 0.10969, params: {'gamma': 0.0001, 'learning_rate': 0.01, 'max_depth': 10, 'n_estimators': 90, 'subsample': 0.75},\n",
       " mean: -1.00336, std: 0.09774, params: {'gamma': 0.0001, 'learning_rate': 0.01, 'max_depth': 10, 'n_estimators': 100, 'subsample': 0.75},\n",
       " mean: -0.79792, std: 0.08635, params: {'gamma': 0.0001, 'learning_rate': 0.01, 'max_depth': 10, 'n_estimators': 110, 'subsample': 0.75},\n",
       " mean: -0.62926, std: 0.07591, params: {'gamma': 0.0001, 'learning_rate': 0.01, 'max_depth': 10, 'n_estimators': 120, 'subsample': 0.75},\n",
       " mean: -0.49044, std: 0.06737, params: {'gamma': 0.0001, 'learning_rate': 0.01, 'max_depth': 10, 'n_estimators': 130, 'subsample': 0.75},\n",
       " mean: -0.37694, std: 0.05933, params: {'gamma': 0.0001, 'learning_rate': 0.01, 'max_depth': 10, 'n_estimators': 140, 'subsample': 0.75},\n",
       " mean: -0.28347, std: 0.05292, params: {'gamma': 0.0001, 'learning_rate': 0.01, 'max_depth': 10, 'n_estimators': 150, 'subsample': 0.75},\n",
       " mean: -0.98187, std: 0.09706, params: {'gamma': 0.0001, 'learning_rate': 0.1, 'max_depth': 1, 'n_estimators': 10, 'subsample': 0.75},\n",
       " mean: -0.09254, std: 0.03159, params: {'gamma': 0.0001, 'learning_rate': 0.1, 'max_depth': 1, 'n_estimators': 20, 'subsample': 0.75},\n",
       " mean: 0.02517, std: 0.01134, params: {'gamma': 0.0001, 'learning_rate': 0.1, 'max_depth': 1, 'n_estimators': 30, 'subsample': 0.75},\n",
       " mean: 0.04494, std: 0.00524, params: {'gamma': 0.0001, 'learning_rate': 0.1, 'max_depth': 1, 'n_estimators': 40, 'subsample': 0.75},\n",
       " mean: 0.05311, std: 0.00280, params: {'gamma': 0.0001, 'learning_rate': 0.1, 'max_depth': 1, 'n_estimators': 50, 'subsample': 0.75},\n",
       " mean: 0.05888, std: 0.00105, params: {'gamma': 0.0001, 'learning_rate': 0.1, 'max_depth': 1, 'n_estimators': 60, 'subsample': 0.75},\n",
       " mean: 0.06304, std: 0.00045, params: {'gamma': 0.0001, 'learning_rate': 0.1, 'max_depth': 1, 'n_estimators': 70, 'subsample': 0.75},\n",
       " mean: 0.06848, std: 0.00035, params: {'gamma': 0.0001, 'learning_rate': 0.1, 'max_depth': 1, 'n_estimators': 80, 'subsample': 0.75},\n",
       " mean: 0.07341, std: 0.00140, params: {'gamma': 0.0001, 'learning_rate': 0.1, 'max_depth': 1, 'n_estimators': 90, 'subsample': 0.75},\n",
       " mean: 0.07762, std: 0.00058, params: {'gamma': 0.0001, 'learning_rate': 0.1, 'max_depth': 1, 'n_estimators': 100, 'subsample': 0.75},\n",
       " mean: 0.08204, std: 0.00020, params: {'gamma': 0.0001, 'learning_rate': 0.1, 'max_depth': 1, 'n_estimators': 110, 'subsample': 0.75},\n",
       " mean: 0.08488, std: 0.00067, params: {'gamma': 0.0001, 'learning_rate': 0.1, 'max_depth': 1, 'n_estimators': 120, 'subsample': 0.75},\n",
       " mean: 0.08953, std: 0.00087, params: {'gamma': 0.0001, 'learning_rate': 0.1, 'max_depth': 1, 'n_estimators': 130, 'subsample': 0.75},\n",
       " mean: 0.09433, std: 0.00022, params: {'gamma': 0.0001, 'learning_rate': 0.1, 'max_depth': 1, 'n_estimators': 140, 'subsample': 0.75},\n",
       " mean: 0.09793, std: 0.00026, params: {'gamma': 0.0001, 'learning_rate': 0.1, 'max_depth': 1, 'n_estimators': 150, 'subsample': 0.75},\n",
       " mean: -0.96792, std: 0.09801, params: {'gamma': 0.0001, 'learning_rate': 0.1, 'max_depth': 2, 'n_estimators': 10, 'subsample': 0.75},\n",
       " mean: -0.07570, std: 0.03309, params: {'gamma': 0.0001, 'learning_rate': 0.1, 'max_depth': 2, 'n_estimators': 20, 'subsample': 0.75},\n",
       " mean: 0.04755, std: 0.01152, params: {'gamma': 0.0001, 'learning_rate': 0.1, 'max_depth': 2, 'n_estimators': 30, 'subsample': 0.75},\n",
       " mean: 0.07251, std: 0.00510, params: {'gamma': 0.0001, 'learning_rate': 0.1, 'max_depth': 2, 'n_estimators': 40, 'subsample': 0.75},\n",
       " mean: 0.08163, std: 0.00115, params: {'gamma': 0.0001, 'learning_rate': 0.1, 'max_depth': 2, 'n_estimators': 50, 'subsample': 0.75},\n",
       " mean: 0.09162, std: 0.00206, params: {'gamma': 0.0001, 'learning_rate': 0.1, 'max_depth': 2, 'n_estimators': 60, 'subsample': 0.75},\n",
       " mean: 0.09792, std: 0.00130, params: {'gamma': 0.0001, 'learning_rate': 0.1, 'max_depth': 2, 'n_estimators': 70, 'subsample': 0.75},\n",
       " mean: 0.10552, std: 0.00103, params: {'gamma': 0.0001, 'learning_rate': 0.1, 'max_depth': 2, 'n_estimators': 80, 'subsample': 0.75},\n",
       " mean: 0.11112, std: 0.00159, params: {'gamma': 0.0001, 'learning_rate': 0.1, 'max_depth': 2, 'n_estimators': 90, 'subsample': 0.75},\n",
       " mean: 0.11677, std: 0.00272, params: {'gamma': 0.0001, 'learning_rate': 0.1, 'max_depth': 2, 'n_estimators': 100, 'subsample': 0.75},\n",
       " mean: 0.12249, std: 0.00095, params: {'gamma': 0.0001, 'learning_rate': 0.1, 'max_depth': 2, 'n_estimators': 110, 'subsample': 0.75},\n",
       " mean: 0.12932, std: 0.00173, params: {'gamma': 0.0001, 'learning_rate': 0.1, 'max_depth': 2, 'n_estimators': 120, 'subsample': 0.75},\n",
       " mean: 0.13419, std: 0.00227, params: {'gamma': 0.0001, 'learning_rate': 0.1, 'max_depth': 2, 'n_estimators': 130, 'subsample': 0.75},\n",
       " mean: 0.14059, std: 0.00365, params: {'gamma': 0.0001, 'learning_rate': 0.1, 'max_depth': 2, 'n_estimators': 140, 'subsample': 0.75},\n",
       " mean: 0.14487, std: 0.00383, params: {'gamma': 0.0001, 'learning_rate': 0.1, 'max_depth': 2, 'n_estimators': 150, 'subsample': 0.75},\n",
       " mean: -0.95644, std: 0.09651, params: {'gamma': 0.0001, 'learning_rate': 0.1, 'max_depth': 3, 'n_estimators': 10, 'subsample': 0.75},\n",
       " mean: -0.06063, std: 0.03087, params: {'gamma': 0.0001, 'learning_rate': 0.1, 'max_depth': 3, 'n_estimators': 20, 'subsample': 0.75},\n",
       " mean: 0.06578, std: 0.00919, params: {'gamma': 0.0001, 'learning_rate': 0.1, 'max_depth': 3, 'n_estimators': 30, 'subsample': 0.75},\n",
       " mean: 0.09248, std: 0.00289, params: {'gamma': 0.0001, 'learning_rate': 0.1, 'max_depth': 3, 'n_estimators': 40, 'subsample': 0.75},\n",
       " mean: 0.10468, std: 0.00067, params: {'gamma': 0.0001, 'learning_rate': 0.1, 'max_depth': 3, 'n_estimators': 50, 'subsample': 0.75},\n",
       " mean: 0.11581, std: 0.00182, params: {'gamma': 0.0001, 'learning_rate': 0.1, 'max_depth': 3, 'n_estimators': 60, 'subsample': 0.75},\n",
       " mean: 0.12435, std: 0.00257, params: {'gamma': 0.0001, 'learning_rate': 0.1, 'max_depth': 3, 'n_estimators': 70, 'subsample': 0.75},\n",
       " mean: 0.13226, std: 0.00341, params: {'gamma': 0.0001, 'learning_rate': 0.1, 'max_depth': 3, 'n_estimators': 80, 'subsample': 0.75},\n",
       " mean: 0.13989, std: 0.00297, params: {'gamma': 0.0001, 'learning_rate': 0.1, 'max_depth': 3, 'n_estimators': 90, 'subsample': 0.75},\n",
       " mean: 0.14854, std: 0.00215, params: {'gamma': 0.0001, 'learning_rate': 0.1, 'max_depth': 3, 'n_estimators': 100, 'subsample': 0.75},\n",
       " mean: 0.15338, std: 0.00260, params: {'gamma': 0.0001, 'learning_rate': 0.1, 'max_depth': 3, 'n_estimators': 110, 'subsample': 0.75},\n",
       " mean: 0.15928, std: 0.00298, params: {'gamma': 0.0001, 'learning_rate': 0.1, 'max_depth': 3, 'n_estimators': 120, 'subsample': 0.75},\n",
       " mean: 0.16431, std: 0.00058, params: {'gamma': 0.0001, 'learning_rate': 0.1, 'max_depth': 3, 'n_estimators': 130, 'subsample': 0.75},\n",
       " mean: 0.16978, std: 0.00179, params: {'gamma': 0.0001, 'learning_rate': 0.1, 'max_depth': 3, 'n_estimators': 140, 'subsample': 0.75},\n",
       " mean: 0.17622, std: 0.00205, params: {'gamma': 0.0001, 'learning_rate': 0.1, 'max_depth': 3, 'n_estimators': 150, 'subsample': 0.75},\n",
       " mean: -0.94670, std: 0.09317, params: {'gamma': 0.0001, 'learning_rate': 0.1, 'max_depth': 4, 'n_estimators': 10, 'subsample': 0.75},\n",
       " mean: -0.04636, std: 0.02877, params: {'gamma': 0.0001, 'learning_rate': 0.1, 'max_depth': 4, 'n_estimators': 20, 'subsample': 0.75},\n",
       " mean: 0.08260, std: 0.00597, params: {'gamma': 0.0001, 'learning_rate': 0.1, 'max_depth': 4, 'n_estimators': 30, 'subsample': 0.75},\n",
       " mean: 0.11090, std: 0.00315, params: {'gamma': 0.0001, 'learning_rate': 0.1, 'max_depth': 4, 'n_estimators': 40, 'subsample': 0.75},\n",
       " mean: 0.12471, std: 0.00147, params: {'gamma': 0.0001, 'learning_rate': 0.1, 'max_depth': 4, 'n_estimators': 50, 'subsample': 0.75},\n",
       " mean: 0.13742, std: 0.00033, params: {'gamma': 0.0001, 'learning_rate': 0.1, 'max_depth': 4, 'n_estimators': 60, 'subsample': 0.75},\n",
       " mean: 0.14668, std: 0.00061, params: {'gamma': 0.0001, 'learning_rate': 0.1, 'max_depth': 4, 'n_estimators': 70, 'subsample': 0.75},\n",
       " mean: 0.15570, std: 0.00049, params: {'gamma': 0.0001, 'learning_rate': 0.1, 'max_depth': 4, 'n_estimators': 80, 'subsample': 0.75},\n",
       " mean: 0.16194, std: 0.00224, params: {'gamma': 0.0001, 'learning_rate': 0.1, 'max_depth': 4, 'n_estimators': 90, 'subsample': 0.75},\n",
       " mean: 0.17014, std: 0.00484, params: {'gamma': 0.0001, 'learning_rate': 0.1, 'max_depth': 4, 'n_estimators': 100, 'subsample': 0.75},\n",
       " mean: 0.17599, std: 0.00308, params: {'gamma': 0.0001, 'learning_rate': 0.1, 'max_depth': 4, 'n_estimators': 110, 'subsample': 0.75},\n",
       " mean: 0.18337, std: 0.00297, params: {'gamma': 0.0001, 'learning_rate': 0.1, 'max_depth': 4, 'n_estimators': 120, 'subsample': 0.75},\n",
       " mean: 0.18761, std: 0.00420, params: {'gamma': 0.0001, 'learning_rate': 0.1, 'max_depth': 4, 'n_estimators': 130, 'subsample': 0.75},\n",
       " mean: 0.19367, std: 0.00701, params: {'gamma': 0.0001, 'learning_rate': 0.1, 'max_depth': 4, 'n_estimators': 140, 'subsample': 0.75},\n",
       " mean: 0.20033, std: 0.00615, params: {'gamma': 0.0001, 'learning_rate': 0.1, 'max_depth': 4, 'n_estimators': 150, 'subsample': 0.75},\n",
       " mean: -0.93680, std: 0.09085, params: {'gamma': 0.0001, 'learning_rate': 0.1, 'max_depth': 5, 'n_estimators': 10, 'subsample': 0.75},\n",
       " mean: -0.03557, std: 0.03034, params: {'gamma': 0.0001, 'learning_rate': 0.1, 'max_depth': 5, 'n_estimators': 20, 'subsample': 0.75},\n",
       " mean: 0.09125, std: 0.00625, params: {'gamma': 0.0001, 'learning_rate': 0.1, 'max_depth': 5, 'n_estimators': 30, 'subsample': 0.75},\n",
       " mean: 0.12403, std: 0.00175, params: {'gamma': 0.0001, 'learning_rate': 0.1, 'max_depth': 5, 'n_estimators': 40, 'subsample': 0.75},\n",
       " mean: 0.13891, std: 0.00043, params: {'gamma': 0.0001, 'learning_rate': 0.1, 'max_depth': 5, 'n_estimators': 50, 'subsample': 0.75},\n",
       " mean: 0.15256, std: 0.00130, params: {'gamma': 0.0001, 'learning_rate': 0.1, 'max_depth': 5, 'n_estimators': 60, 'subsample': 0.75},\n",
       " mean: 0.16454, std: 0.00152, params: {'gamma': 0.0001, 'learning_rate': 0.1, 'max_depth': 5, 'n_estimators': 70, 'subsample': 0.75},\n",
       " mean: 0.17634, std: 0.00247, params: {'gamma': 0.0001, 'learning_rate': 0.1, 'max_depth': 5, 'n_estimators': 80, 'subsample': 0.75},\n",
       " mean: 0.18373, std: 0.00311, params: {'gamma': 0.0001, 'learning_rate': 0.1, 'max_depth': 5, 'n_estimators': 90, 'subsample': 0.75},\n",
       " mean: 0.19219, std: 0.00485, params: {'gamma': 0.0001, 'learning_rate': 0.1, 'max_depth': 5, 'n_estimators': 100, 'subsample': 0.75},\n",
       " mean: 0.19726, std: 0.00567, params: {'gamma': 0.0001, 'learning_rate': 0.1, 'max_depth': 5, 'n_estimators': 110, 'subsample': 0.75},\n",
       " mean: 0.20292, std: 0.00770, params: {'gamma': 0.0001, 'learning_rate': 0.1, 'max_depth': 5, 'n_estimators': 120, 'subsample': 0.75},\n",
       " mean: 0.20855, std: 0.00860, params: {'gamma': 0.0001, 'learning_rate': 0.1, 'max_depth': 5, 'n_estimators': 130, 'subsample': 0.75},\n",
       " mean: 0.21272, std: 0.00958, params: {'gamma': 0.0001, 'learning_rate': 0.1, 'max_depth': 5, 'n_estimators': 140, 'subsample': 0.75},\n",
       " mean: 0.21893, std: 0.00977, params: {'gamma': 0.0001, 'learning_rate': 0.1, 'max_depth': 5, 'n_estimators': 150, 'subsample': 0.75},\n",
       " mean: -0.92782, std: 0.08825, params: {'gamma': 0.0001, 'learning_rate': 0.1, 'max_depth': 6, 'n_estimators': 10, 'subsample': 0.75},\n",
       " mean: -0.02680, std: 0.02722, params: {'gamma': 0.0001, 'learning_rate': 0.1, 'max_depth': 6, 'n_estimators': 20, 'subsample': 0.75},\n",
       " mean: 0.10192, std: 0.00481, params: {'gamma': 0.0001, 'learning_rate': 0.1, 'max_depth': 6, 'n_estimators': 30, 'subsample': 0.75},\n",
       " mean: 0.13674, std: 0.00094, params: {'gamma': 0.0001, 'learning_rate': 0.1, 'max_depth': 6, 'n_estimators': 40, 'subsample': 0.75},\n",
       " mean: 0.15135, std: 0.00041, params: {'gamma': 0.0001, 'learning_rate': 0.1, 'max_depth': 6, 'n_estimators': 50, 'subsample': 0.75},\n",
       " mean: 0.16460, std: 0.00047, params: {'gamma': 0.0001, 'learning_rate': 0.1, 'max_depth': 6, 'n_estimators': 60, 'subsample': 0.75},\n",
       " mean: 0.17712, std: 0.00027, params: {'gamma': 0.0001, 'learning_rate': 0.1, 'max_depth': 6, 'n_estimators': 70, 'subsample': 0.75},\n",
       " mean: 0.18768, std: 0.00081, params: {'gamma': 0.0001, 'learning_rate': 0.1, 'max_depth': 6, 'n_estimators': 80, 'subsample': 0.75},\n",
       " mean: 0.19530, std: 0.00194, params: {'gamma': 0.0001, 'learning_rate': 0.1, 'max_depth': 6, 'n_estimators': 90, 'subsample': 0.75},\n",
       " mean: 0.20384, std: 0.00431, params: {'gamma': 0.0001, 'learning_rate': 0.1, 'max_depth': 6, 'n_estimators': 100, 'subsample': 0.75},\n",
       " mean: 0.20895, std: 0.00396, params: {'gamma': 0.0001, 'learning_rate': 0.1, 'max_depth': 6, 'n_estimators': 110, 'subsample': 0.75},\n",
       " mean: 0.21409, std: 0.00714, params: {'gamma': 0.0001, 'learning_rate': 0.1, 'max_depth': 6, 'n_estimators': 120, 'subsample': 0.75},\n",
       " mean: 0.21890, std: 0.00661, params: {'gamma': 0.0001, 'learning_rate': 0.1, 'max_depth': 6, 'n_estimators': 130, 'subsample': 0.75},\n",
       " mean: 0.22287, std: 0.00767, params: {'gamma': 0.0001, 'learning_rate': 0.1, 'max_depth': 6, 'n_estimators': 140, 'subsample': 0.75},\n",
       " mean: 0.22836, std: 0.00847, params: {'gamma': 0.0001, 'learning_rate': 0.1, 'max_depth': 6, 'n_estimators': 150, 'subsample': 0.75},\n",
       " mean: -0.92004, std: 0.08780, params: {'gamma': 0.0001, 'learning_rate': 0.1, 'max_depth': 7, 'n_estimators': 10, 'subsample': 0.75},\n",
       " mean: -0.01743, std: 0.02605, params: {'gamma': 0.0001, 'learning_rate': 0.1, 'max_depth': 7, 'n_estimators': 20, 'subsample': 0.75},\n",
       " mean: 0.11192, std: 0.00624, params: {'gamma': 0.0001, 'learning_rate': 0.1, 'max_depth': 7, 'n_estimators': 30, 'subsample': 0.75},\n",
       " mean: 0.14841, std: 0.00157, params: {'gamma': 0.0001, 'learning_rate': 0.1, 'max_depth': 7, 'n_estimators': 40, 'subsample': 0.75},\n",
       " mean: 0.16172, std: 0.00149, params: {'gamma': 0.0001, 'learning_rate': 0.1, 'max_depth': 7, 'n_estimators': 50, 'subsample': 0.75},\n",
       " mean: 0.17446, std: 0.00274, params: {'gamma': 0.0001, 'learning_rate': 0.1, 'max_depth': 7, 'n_estimators': 60, 'subsample': 0.75},\n",
       " mean: 0.18579, std: 0.00244, params: {'gamma': 0.0001, 'learning_rate': 0.1, 'max_depth': 7, 'n_estimators': 70, 'subsample': 0.75},\n",
       " mean: 0.19687, std: 0.00187, params: {'gamma': 0.0001, 'learning_rate': 0.1, 'max_depth': 7, 'n_estimators': 80, 'subsample': 0.75},\n",
       " mean: 0.20583, std: 0.00073, params: {'gamma': 0.0001, 'learning_rate': 0.1, 'max_depth': 7, 'n_estimators': 90, 'subsample': 0.75},\n",
       " mean: 0.21292, std: 0.00057, params: {'gamma': 0.0001, 'learning_rate': 0.1, 'max_depth': 7, 'n_estimators': 100, 'subsample': 0.75},\n",
       " mean: 0.21708, std: 0.00092, params: {'gamma': 0.0001, 'learning_rate': 0.1, 'max_depth': 7, 'n_estimators': 110, 'subsample': 0.75},\n",
       " mean: 0.22295, std: 0.00140, params: {'gamma': 0.0001, 'learning_rate': 0.1, 'max_depth': 7, 'n_estimators': 120, 'subsample': 0.75},\n",
       " mean: 0.22649, std: 0.00242, params: {'gamma': 0.0001, 'learning_rate': 0.1, 'max_depth': 7, 'n_estimators': 130, 'subsample': 0.75},\n",
       " mean: 0.23006, std: 0.00364, params: {'gamma': 0.0001, 'learning_rate': 0.1, 'max_depth': 7, 'n_estimators': 140, 'subsample': 0.75},\n",
       " mean: 0.23519, std: 0.00304, params: {'gamma': 0.0001, 'learning_rate': 0.1, 'max_depth': 7, 'n_estimators': 150, 'subsample': 0.75},\n",
       " mean: -0.91353, std: 0.08717, params: {'gamma': 0.0001, 'learning_rate': 0.1, 'max_depth': 8, 'n_estimators': 10, 'subsample': 0.75},\n",
       " mean: -0.00929, std: 0.02382, params: {'gamma': 0.0001, 'learning_rate': 0.1, 'max_depth': 8, 'n_estimators': 20, 'subsample': 0.75},\n",
       " mean: 0.11883, std: 0.00334, params: {'gamma': 0.0001, 'learning_rate': 0.1, 'max_depth': 8, 'n_estimators': 30, 'subsample': 0.75},\n",
       " mean: 0.15421, std: 0.00126, params: {'gamma': 0.0001, 'learning_rate': 0.1, 'max_depth': 8, 'n_estimators': 40, 'subsample': 0.75},\n",
       " mean: 0.16981, std: 0.00088, params: {'gamma': 0.0001, 'learning_rate': 0.1, 'max_depth': 8, 'n_estimators': 50, 'subsample': 0.75},\n",
       " mean: 0.18728, std: 0.00021, params: {'gamma': 0.0001, 'learning_rate': 0.1, 'max_depth': 8, 'n_estimators': 60, 'subsample': 0.75},\n",
       " mean: 0.19747, std: 0.00037, params: {'gamma': 0.0001, 'learning_rate': 0.1, 'max_depth': 8, 'n_estimators': 70, 'subsample': 0.75},\n",
       " mean: 0.20895, std: 0.00265, params: {'gamma': 0.0001, 'learning_rate': 0.1, 'max_depth': 8, 'n_estimators': 80, 'subsample': 0.75},\n",
       " mean: 0.21688, std: 0.00183, params: {'gamma': 0.0001, 'learning_rate': 0.1, 'max_depth': 8, 'n_estimators': 90, 'subsample': 0.75},\n",
       " mean: 0.22318, std: 0.00445, params: {'gamma': 0.0001, 'learning_rate': 0.1, 'max_depth': 8, 'n_estimators': 100, 'subsample': 0.75},\n",
       " mean: 0.22872, std: 0.00565, params: {'gamma': 0.0001, 'learning_rate': 0.1, 'max_depth': 8, 'n_estimators': 110, 'subsample': 0.75},\n",
       " mean: 0.23253, std: 0.00669, params: {'gamma': 0.0001, 'learning_rate': 0.1, 'max_depth': 8, 'n_estimators': 120, 'subsample': 0.75},\n",
       " mean: 0.23632, std: 0.00769, params: {'gamma': 0.0001, 'learning_rate': 0.1, 'max_depth': 8, 'n_estimators': 130, 'subsample': 0.75},\n",
       " mean: 0.23867, std: 0.00844, params: {'gamma': 0.0001, 'learning_rate': 0.1, 'max_depth': 8, 'n_estimators': 140, 'subsample': 0.75},\n",
       " mean: 0.24185, std: 0.00771, params: {'gamma': 0.0001, 'learning_rate': 0.1, 'max_depth': 8, 'n_estimators': 150, 'subsample': 0.75},\n",
       " mean: -0.90601, std: 0.08481, params: {'gamma': 0.0001, 'learning_rate': 0.1, 'max_depth': 9, 'n_estimators': 10, 'subsample': 0.75},\n",
       " mean: -0.00036, std: 0.02552, params: {'gamma': 0.0001, 'learning_rate': 0.1, 'max_depth': 9, 'n_estimators': 20, 'subsample': 0.75},\n",
       " mean: 0.13059, std: 0.00488, params: {'gamma': 0.0001, 'learning_rate': 0.1, 'max_depth': 9, 'n_estimators': 30, 'subsample': 0.75},\n",
       " mean: 0.16513, std: 0.00128, params: {'gamma': 0.0001, 'learning_rate': 0.1, 'max_depth': 9, 'n_estimators': 40, 'subsample': 0.75},\n",
       " mean: 0.17828, std: 0.00081, params: {'gamma': 0.0001, 'learning_rate': 0.1, 'max_depth': 9, 'n_estimators': 50, 'subsample': 0.75},\n",
       " mean: 0.19282, std: 0.00124, params: {'gamma': 0.0001, 'learning_rate': 0.1, 'max_depth': 9, 'n_estimators': 60, 'subsample': 0.75},\n",
       " mean: 0.20303, std: 0.00075, params: {'gamma': 0.0001, 'learning_rate': 0.1, 'max_depth': 9, 'n_estimators': 70, 'subsample': 0.75},\n",
       " mean: 0.21390, std: 0.00283, params: {'gamma': 0.0001, 'learning_rate': 0.1, 'max_depth': 9, 'n_estimators': 80, 'subsample': 0.75},\n",
       " mean: 0.22162, std: 0.00412, params: {'gamma': 0.0001, 'learning_rate': 0.1, 'max_depth': 9, 'n_estimators': 90, 'subsample': 0.75},\n",
       " mean: 0.22952, std: 0.00652, params: {'gamma': 0.0001, 'learning_rate': 0.1, 'max_depth': 9, 'n_estimators': 100, 'subsample': 0.75},\n",
       " mean: 0.23207, std: 0.00720, params: {'gamma': 0.0001, 'learning_rate': 0.1, 'max_depth': 9, 'n_estimators': 110, 'subsample': 0.75},\n",
       " mean: 0.23696, std: 0.00834, params: {'gamma': 0.0001, 'learning_rate': 0.1, 'max_depth': 9, 'n_estimators': 120, 'subsample': 0.75},\n",
       " mean: 0.23897, std: 0.01031, params: {'gamma': 0.0001, 'learning_rate': 0.1, 'max_depth': 9, 'n_estimators': 130, 'subsample': 0.75},\n",
       " mean: 0.24184, std: 0.01173, params: {'gamma': 0.0001, 'learning_rate': 0.1, 'max_depth': 9, 'n_estimators': 140, 'subsample': 0.75},\n",
       " mean: 0.24509, std: 0.01198, params: {'gamma': 0.0001, 'learning_rate': 0.1, 'max_depth': 9, 'n_estimators': 150, 'subsample': 0.75},\n",
       " mean: -0.90269, std: 0.08655, params: {'gamma': 0.0001, 'learning_rate': 0.1, 'max_depth': 10, 'n_estimators': 10, 'subsample': 0.75},\n",
       " mean: 0.00347, std: 0.02523, params: {'gamma': 0.0001, 'learning_rate': 0.1, 'max_depth': 10, 'n_estimators': 20, 'subsample': 0.75},\n",
       " mean: 0.13551, std: 0.00672, params: {'gamma': 0.0001, 'learning_rate': 0.1, 'max_depth': 10, 'n_estimators': 30, 'subsample': 0.75},\n",
       " mean: 0.17209, std: 0.00165, params: {'gamma': 0.0001, 'learning_rate': 0.1, 'max_depth': 10, 'n_estimators': 40, 'subsample': 0.75},\n",
       " mean: 0.18836, std: 0.00081, params: {'gamma': 0.0001, 'learning_rate': 0.1, 'max_depth': 10, 'n_estimators': 50, 'subsample': 0.75},\n",
       " mean: 0.20370, std: 0.00172, params: {'gamma': 0.0001, 'learning_rate': 0.1, 'max_depth': 10, 'n_estimators': 60, 'subsample': 0.75},\n",
       " mean: 0.21336, std: 0.00126, params: {'gamma': 0.0001, 'learning_rate': 0.1, 'max_depth': 10, 'n_estimators': 70, 'subsample': 0.75},\n",
       " mean: 0.22310, std: 0.00203, params: {'gamma': 0.0001, 'learning_rate': 0.1, 'max_depth': 10, 'n_estimators': 80, 'subsample': 0.75},\n",
       " mean: 0.22979, std: 0.00275, params: {'gamma': 0.0001, 'learning_rate': 0.1, 'max_depth': 10, 'n_estimators': 90, 'subsample': 0.75},\n",
       " mean: 0.23704, std: 0.00450, params: {'gamma': 0.0001, 'learning_rate': 0.1, 'max_depth': 10, 'n_estimators': 100, 'subsample': 0.75},\n",
       " mean: 0.24045, std: 0.00445, params: {'gamma': 0.0001, 'learning_rate': 0.1, 'max_depth': 10, 'n_estimators': 110, 'subsample': 0.75},\n",
       " mean: 0.24299, std: 0.00544, params: {'gamma': 0.0001, 'learning_rate': 0.1, 'max_depth': 10, 'n_estimators': 120, 'subsample': 0.75},\n",
       " mean: 0.24583, std: 0.00792, params: {'gamma': 0.0001, 'learning_rate': 0.1, 'max_depth': 10, 'n_estimators': 130, 'subsample': 0.75},\n",
       " mean: 0.24842, std: 0.00859, params: {'gamma': 0.0001, 'learning_rate': 0.1, 'max_depth': 10, 'n_estimators': 140, 'subsample': 0.75},\n",
       " mean: 0.25237, std: 0.00801, params: {'gamma': 0.0001, 'learning_rate': 0.1, 'max_depth': 10, 'n_estimators': 150, 'subsample': 0.75},\n",
       " mean: 0.05912, std: 0.00336, params: {'gamma': 0.0001, 'learning_rate': 1, 'max_depth': 1, 'n_estimators': 10, 'subsample': 0.75},\n",
       " mean: 0.07898, std: 0.01304, params: {'gamma': 0.0001, 'learning_rate': 1, 'max_depth': 1, 'n_estimators': 20, 'subsample': 0.75},\n",
       " mean: 0.07828, std: 0.00121, params: {'gamma': 0.0001, 'learning_rate': 1, 'max_depth': 1, 'n_estimators': 30, 'subsample': 0.75},\n",
       " mean: 0.07372, std: 0.01044, params: {'gamma': 0.0001, 'learning_rate': 1, 'max_depth': 1, 'n_estimators': 40, 'subsample': 0.75},\n",
       " mean: 0.06836, std: 0.01996, params: {'gamma': 0.0001, 'learning_rate': 1, 'max_depth': 1, 'n_estimators': 50, 'subsample': 0.75},\n",
       " mean: 0.06687, std: 0.01973, params: {'gamma': 0.0001, 'learning_rate': 1, 'max_depth': 1, 'n_estimators': 60, 'subsample': 0.75},\n",
       " mean: 0.05583, std: 0.02186, params: {'gamma': 0.0001, 'learning_rate': 1, 'max_depth': 1, 'n_estimators': 70, 'subsample': 0.75},\n",
       " mean: 0.05335, std: 0.02988, params: {'gamma': 0.0001, 'learning_rate': 1, 'max_depth': 1, 'n_estimators': 80, 'subsample': 0.75},\n",
       " mean: 0.04791, std: 0.02328, params: {'gamma': 0.0001, 'learning_rate': 1, 'max_depth': 1, 'n_estimators': 90, 'subsample': 0.75},\n",
       " mean: 0.04764, std: 0.02369, params: {'gamma': 0.0001, 'learning_rate': 1, 'max_depth': 1, 'n_estimators': 100, 'subsample': 0.75},\n",
       " mean: 0.04704, std: 0.02837, params: {'gamma': 0.0001, 'learning_rate': 1, 'max_depth': 1, 'n_estimators': 110, 'subsample': 0.75},\n",
       " mean: 0.05503, std: 0.02665, params: {'gamma': 0.0001, 'learning_rate': 1, 'max_depth': 1, 'n_estimators': 120, 'subsample': 0.75},\n",
       " mean: 0.06061, std: 0.02822, params: {'gamma': 0.0001, 'learning_rate': 1, 'max_depth': 1, 'n_estimators': 130, 'subsample': 0.75},\n",
       " mean: 0.04897, std: 0.03199, params: {'gamma': 0.0001, 'learning_rate': 1, 'max_depth': 1, 'n_estimators': 140, 'subsample': 0.75},\n",
       " mean: 0.03766, std: 0.03783, params: {'gamma': 0.0001, 'learning_rate': 1, 'max_depth': 1, 'n_estimators': 150, 'subsample': 0.75},\n",
       " mean: 0.06546, std: 0.01196, params: {'gamma': 0.0001, 'learning_rate': 1, 'max_depth': 2, 'n_estimators': 10, 'subsample': 0.75},\n",
       " mean: 0.05948, std: 0.01261, params: {'gamma': 0.0001, 'learning_rate': 1, 'max_depth': 2, 'n_estimators': 20, 'subsample': 0.75},\n",
       " mean: 0.04444, std: 0.00005, params: {'gamma': 0.0001, 'learning_rate': 1, 'max_depth': 2, 'n_estimators': 30, 'subsample': 0.75},\n",
       " mean: 0.04363, std: 0.01659, params: {'gamma': 0.0001, 'learning_rate': 1, 'max_depth': 2, 'n_estimators': 40, 'subsample': 0.75},\n",
       " mean: 0.02777, std: 0.03812, params: {'gamma': 0.0001, 'learning_rate': 1, 'max_depth': 2, 'n_estimators': 50, 'subsample': 0.75},\n",
       " mean: 0.02414, std: 0.04245, params: {'gamma': 0.0001, 'learning_rate': 1, 'max_depth': 2, 'n_estimators': 60, 'subsample': 0.75},\n",
       " mean: 0.01365, std: 0.03593, params: {'gamma': 0.0001, 'learning_rate': 1, 'max_depth': 2, 'n_estimators': 70, 'subsample': 0.75},\n",
       " mean: 0.00611, std: 0.03098, params: {'gamma': 0.0001, 'learning_rate': 1, 'max_depth': 2, 'n_estimators': 80, 'subsample': 0.75},\n",
       " mean: -0.02789, std: 0.03627, params: {'gamma': 0.0001, 'learning_rate': 1, 'max_depth': 2, 'n_estimators': 90, 'subsample': 0.75},\n",
       " mean: -0.03777, std: 0.03196, params: {'gamma': 0.0001, 'learning_rate': 1, 'max_depth': 2, 'n_estimators': 100, 'subsample': 0.75},\n",
       " mean: -0.05300, std: 0.03510, params: {'gamma': 0.0001, 'learning_rate': 1, 'max_depth': 2, 'n_estimators': 110, 'subsample': 0.75},\n",
       " mean: -0.06931, std: 0.03197, params: {'gamma': 0.0001, 'learning_rate': 1, 'max_depth': 2, 'n_estimators': 120, 'subsample': 0.75},\n",
       " mean: -0.07699, std: 0.03761, params: {'gamma': 0.0001, 'learning_rate': 1, 'max_depth': 2, 'n_estimators': 130, 'subsample': 0.75},\n",
       " mean: -0.08738, std: 0.04088, params: {'gamma': 0.0001, 'learning_rate': 1, 'max_depth': 2, 'n_estimators': 140, 'subsample': 0.75},\n",
       " mean: -0.09778, std: 0.04567, params: {'gamma': 0.0001, 'learning_rate': 1, 'max_depth': 2, 'n_estimators': 150, 'subsample': 0.75},\n",
       " mean: 0.04332, std: 0.00511, params: {'gamma': 0.0001, 'learning_rate': 1, 'max_depth': 3, 'n_estimators': 10, 'subsample': 0.75},\n",
       " mean: 0.01342, std: 0.02477, params: {'gamma': 0.0001, 'learning_rate': 1, 'max_depth': 3, 'n_estimators': 20, 'subsample': 0.75},\n",
       " mean: -0.00244, std: 0.01235, params: {'gamma': 0.0001, 'learning_rate': 1, 'max_depth': 3, 'n_estimators': 30, 'subsample': 0.75},\n",
       " mean: -0.02666, std: 0.00087, params: {'gamma': 0.0001, 'learning_rate': 1, 'max_depth': 3, 'n_estimators': 40, 'subsample': 0.75},\n",
       " mean: -0.04420, std: 0.02252, params: {'gamma': 0.0001, 'learning_rate': 1, 'max_depth': 3, 'n_estimators': 50, 'subsample': 0.75},\n",
       " mean: -0.07054, std: 0.02273, params: {'gamma': 0.0001, 'learning_rate': 1, 'max_depth': 3, 'n_estimators': 60, 'subsample': 0.75},\n",
       " mean: -0.10086, std: 0.02378, params: {'gamma': 0.0001, 'learning_rate': 1, 'max_depth': 3, 'n_estimators': 70, 'subsample': 0.75},\n",
       " mean: -0.13276, std: 0.03154, params: {'gamma': 0.0001, 'learning_rate': 1, 'max_depth': 3, 'n_estimators': 80, 'subsample': 0.75},\n",
       " mean: -0.14913, std: 0.02035, params: {'gamma': 0.0001, 'learning_rate': 1, 'max_depth': 3, 'n_estimators': 90, 'subsample': 0.75},\n",
       " mean: -0.16640, std: 0.01474, params: {'gamma': 0.0001, 'learning_rate': 1, 'max_depth': 3, 'n_estimators': 100, 'subsample': 0.75},\n",
       " mean: -0.17483, std: 0.01283, params: {'gamma': 0.0001, 'learning_rate': 1, 'max_depth': 3, 'n_estimators': 110, 'subsample': 0.75},\n",
       " mean: -0.19277, std: 0.01216, params: {'gamma': 0.0001, 'learning_rate': 1, 'max_depth': 3, 'n_estimators': 120, 'subsample': 0.75},\n",
       " mean: -0.21286, std: 0.01541, params: {'gamma': 0.0001, 'learning_rate': 1, 'max_depth': 3, 'n_estimators': 130, 'subsample': 0.75},\n",
       " mean: -0.22843, std: 0.01154, params: {'gamma': 0.0001, 'learning_rate': 1, 'max_depth': 3, 'n_estimators': 140, 'subsample': 0.75},\n",
       " mean: -0.24033, std: 0.02147, params: {'gamma': 0.0001, 'learning_rate': 1, 'max_depth': 3, 'n_estimators': 150, 'subsample': 0.75},\n",
       " mean: 0.05015, std: 0.01315, params: {'gamma': 0.0001, 'learning_rate': 1, 'max_depth': 4, 'n_estimators': 10, 'subsample': 0.75},\n",
       " mean: 0.02248, std: 0.00260, params: {'gamma': 0.0001, 'learning_rate': 1, 'max_depth': 4, 'n_estimators': 20, 'subsample': 0.75},\n",
       " mean: -0.01089, std: 0.02901, params: {'gamma': 0.0001, 'learning_rate': 1, 'max_depth': 4, 'n_estimators': 30, 'subsample': 0.75},\n",
       " mean: -0.05343, std: 0.03637, params: {'gamma': 0.0001, 'learning_rate': 1, 'max_depth': 4, 'n_estimators': 40, 'subsample': 0.75},\n",
       " mean: -0.07499, std: 0.05456, params: {'gamma': 0.0001, 'learning_rate': 1, 'max_depth': 4, 'n_estimators': 50, 'subsample': 0.75},\n",
       " mean: -0.10341, std: 0.05056, params: {'gamma': 0.0001, 'learning_rate': 1, 'max_depth': 4, 'n_estimators': 60, 'subsample': 0.75},\n",
       " mean: -0.13093, std: 0.05301, params: {'gamma': 0.0001, 'learning_rate': 1, 'max_depth': 4, 'n_estimators': 70, 'subsample': 0.75},\n",
       " mean: -0.15016, std: 0.05603, params: {'gamma': 0.0001, 'learning_rate': 1, 'max_depth': 4, 'n_estimators': 80, 'subsample': 0.75},\n",
       " mean: -0.17546, std: 0.05526, params: {'gamma': 0.0001, 'learning_rate': 1, 'max_depth': 4, 'n_estimators': 90, 'subsample': 0.75},\n",
       " mean: -0.18572, std: 0.05724, params: {'gamma': 0.0001, 'learning_rate': 1, 'max_depth': 4, 'n_estimators': 100, 'subsample': 0.75},\n",
       " mean: -0.19834, std: 0.06066, params: {'gamma': 0.0001, 'learning_rate': 1, 'max_depth': 4, 'n_estimators': 110, 'subsample': 0.75},\n",
       " mean: -0.21441, std: 0.06244, params: {'gamma': 0.0001, 'learning_rate': 1, 'max_depth': 4, 'n_estimators': 120, 'subsample': 0.75},\n",
       " mean: -0.23034, std: 0.06526, params: {'gamma': 0.0001, 'learning_rate': 1, 'max_depth': 4, 'n_estimators': 130, 'subsample': 0.75},\n",
       " mean: -0.23491, std: 0.06591, params: {'gamma': 0.0001, 'learning_rate': 1, 'max_depth': 4, 'n_estimators': 140, 'subsample': 0.75},\n",
       " mean: -0.25198, std: 0.06625, params: {'gamma': 0.0001, 'learning_rate': 1, 'max_depth': 4, 'n_estimators': 150, 'subsample': 0.75},\n",
       " mean: 0.06556, std: 0.01366, params: {'gamma': 0.0001, 'learning_rate': 1, 'max_depth': 5, 'n_estimators': 10, 'subsample': 0.75},\n",
       " mean: 0.03216, std: 0.01270, params: {'gamma': 0.0001, 'learning_rate': 1, 'max_depth': 5, 'n_estimators': 20, 'subsample': 0.75},\n",
       " mean: -0.04018, std: 0.01082, params: {'gamma': 0.0001, 'learning_rate': 1, 'max_depth': 5, 'n_estimators': 30, 'subsample': 0.75},\n",
       " mean: -0.08436, std: 0.00399, params: {'gamma': 0.0001, 'learning_rate': 1, 'max_depth': 5, 'n_estimators': 40, 'subsample': 0.75},\n",
       " mean: -0.10220, std: 0.01954, params: {'gamma': 0.0001, 'learning_rate': 1, 'max_depth': 5, 'n_estimators': 50, 'subsample': 0.75},\n",
       " mean: -0.12356, std: 0.02621, params: {'gamma': 0.0001, 'learning_rate': 1, 'max_depth': 5, 'n_estimators': 60, 'subsample': 0.75},\n",
       " mean: -0.15578, std: 0.02076, params: {'gamma': 0.0001, 'learning_rate': 1, 'max_depth': 5, 'n_estimators': 70, 'subsample': 0.75},\n",
       " mean: -0.18223, std: 0.02601, params: {'gamma': 0.0001, 'learning_rate': 1, 'max_depth': 5, 'n_estimators': 80, 'subsample': 0.75},\n",
       " mean: -0.20239, std: 0.02756, params: {'gamma': 0.0001, 'learning_rate': 1, 'max_depth': 5, 'n_estimators': 90, 'subsample': 0.75},\n",
       " mean: -0.21119, std: 0.03178, params: {'gamma': 0.0001, 'learning_rate': 1, 'max_depth': 5, 'n_estimators': 100, 'subsample': 0.75},\n",
       " mean: -0.22151, std: 0.03144, params: {'gamma': 0.0001, 'learning_rate': 1, 'max_depth': 5, 'n_estimators': 110, 'subsample': 0.75},\n",
       " mean: -0.23545, std: 0.03245, params: {'gamma': 0.0001, 'learning_rate': 1, 'max_depth': 5, 'n_estimators': 120, 'subsample': 0.75},\n",
       " mean: -0.24399, std: 0.03069, params: {'gamma': 0.0001, 'learning_rate': 1, 'max_depth': 5, 'n_estimators': 130, 'subsample': 0.75},\n",
       " mean: -0.25153, std: 0.02509, params: {'gamma': 0.0001, 'learning_rate': 1, 'max_depth': 5, 'n_estimators': 140, 'subsample': 0.75},\n",
       " mean: -0.26171, std: 0.02617, params: {'gamma': 0.0001, 'learning_rate': 1, 'max_depth': 5, 'n_estimators': 150, 'subsample': 0.75},\n",
       " mean: 0.02136, std: 0.01409, params: {'gamma': 0.0001, 'learning_rate': 1, 'max_depth': 6, 'n_estimators': 10, 'subsample': 0.75},\n",
       " mean: -0.03107, std: 0.00756, params: {'gamma': 0.0001, 'learning_rate': 1, 'max_depth': 6, 'n_estimators': 20, 'subsample': 0.75},\n",
       " mean: -0.08288, std: 0.01130, params: {'gamma': 0.0001, 'learning_rate': 1, 'max_depth': 6, 'n_estimators': 30, 'subsample': 0.75},\n",
       " mean: -0.12825, std: 0.03138, params: {'gamma': 0.0001, 'learning_rate': 1, 'max_depth': 6, 'n_estimators': 40, 'subsample': 0.75},\n",
       " mean: -0.15580, std: 0.02965, params: {'gamma': 0.0001, 'learning_rate': 1, 'max_depth': 6, 'n_estimators': 50, 'subsample': 0.75},\n",
       " mean: -0.19004, std: 0.03418, params: {'gamma': 0.0001, 'learning_rate': 1, 'max_depth': 6, 'n_estimators': 60, 'subsample': 0.75},\n",
       " mean: -0.21644, std: 0.02827, params: {'gamma': 0.0001, 'learning_rate': 1, 'max_depth': 6, 'n_estimators': 70, 'subsample': 0.75},\n",
       " mean: -0.24258, std: 0.03475, params: {'gamma': 0.0001, 'learning_rate': 1, 'max_depth': 6, 'n_estimators': 80, 'subsample': 0.75},\n",
       " mean: -0.26367, std: 0.03478, params: {'gamma': 0.0001, 'learning_rate': 1, 'max_depth': 6, 'n_estimators': 90, 'subsample': 0.75},\n",
       " mean: -0.26746, std: 0.03832, params: {'gamma': 0.0001, 'learning_rate': 1, 'max_depth': 6, 'n_estimators': 100, 'subsample': 0.75},\n",
       " mean: -0.27789, std: 0.03901, params: {'gamma': 0.0001, 'learning_rate': 1, 'max_depth': 6, 'n_estimators': 110, 'subsample': 0.75},\n",
       " mean: -0.28745, std: 0.03296, params: {'gamma': 0.0001, 'learning_rate': 1, 'max_depth': 6, 'n_estimators': 120, 'subsample': 0.75},\n",
       " mean: -0.29231, std: 0.03366, params: {'gamma': 0.0001, 'learning_rate': 1, 'max_depth': 6, 'n_estimators': 130, 'subsample': 0.75},\n",
       " mean: -0.29836, std: 0.03207, params: {'gamma': 0.0001, 'learning_rate': 1, 'max_depth': 6, 'n_estimators': 140, 'subsample': 0.75},\n",
       " mean: -0.30757, std: 0.02928, params: {'gamma': 0.0001, 'learning_rate': 1, 'max_depth': 6, 'n_estimators': 150, 'subsample': 0.75},\n",
       " mean: 0.01628, std: 0.00322, params: {'gamma': 0.0001, 'learning_rate': 1, 'max_depth': 7, 'n_estimators': 10, 'subsample': 0.75},\n",
       " mean: -0.07129, std: 0.01786, params: {'gamma': 0.0001, 'learning_rate': 1, 'max_depth': 7, 'n_estimators': 20, 'subsample': 0.75},\n",
       " mean: -0.11876, std: 0.03921, params: {'gamma': 0.0001, 'learning_rate': 1, 'max_depth': 7, 'n_estimators': 30, 'subsample': 0.75},\n",
       " mean: -0.16428, std: 0.04537, params: {'gamma': 0.0001, 'learning_rate': 1, 'max_depth': 7, 'n_estimators': 40, 'subsample': 0.75},\n",
       " mean: -0.19649, std: 0.05115, params: {'gamma': 0.0001, 'learning_rate': 1, 'max_depth': 7, 'n_estimators': 50, 'subsample': 0.75},\n",
       " mean: -0.22627, std: 0.05249, params: {'gamma': 0.0001, 'learning_rate': 1, 'max_depth': 7, 'n_estimators': 60, 'subsample': 0.75},\n",
       " mean: -0.25043, std: 0.05677, params: {'gamma': 0.0001, 'learning_rate': 1, 'max_depth': 7, 'n_estimators': 70, 'subsample': 0.75},\n",
       " mean: -0.27907, std: 0.05260, params: {'gamma': 0.0001, 'learning_rate': 1, 'max_depth': 7, 'n_estimators': 80, 'subsample': 0.75},\n",
       " mean: -0.29513, std: 0.05864, params: {'gamma': 0.0001, 'learning_rate': 1, 'max_depth': 7, 'n_estimators': 90, 'subsample': 0.75},\n",
       " mean: -0.30537, std: 0.04880, params: {'gamma': 0.0001, 'learning_rate': 1, 'max_depth': 7, 'n_estimators': 100, 'subsample': 0.75},\n",
       " mean: -0.32065, std: 0.05169, params: {'gamma': 0.0001, 'learning_rate': 1, 'max_depth': 7, 'n_estimators': 110, 'subsample': 0.75},\n",
       " mean: -0.33321, std: 0.05163, params: {'gamma': 0.0001, 'learning_rate': 1, 'max_depth': 7, 'n_estimators': 120, 'subsample': 0.75},\n",
       " mean: -0.34483, std: 0.05015, params: {'gamma': 0.0001, 'learning_rate': 1, 'max_depth': 7, 'n_estimators': 130, 'subsample': 0.75},\n",
       " mean: -0.35345, std: 0.05075, params: {'gamma': 0.0001, 'learning_rate': 1, 'max_depth': 7, 'n_estimators': 140, 'subsample': 0.75},\n",
       " mean: -0.36197, std: 0.05399, params: {'gamma': 0.0001, 'learning_rate': 1, 'max_depth': 7, 'n_estimators': 150, 'subsample': 0.75},\n",
       " mean: -0.01132, std: 0.00379, params: {'gamma': 0.0001, 'learning_rate': 1, 'max_depth': 8, 'n_estimators': 10, 'subsample': 0.75},\n",
       " mean: -0.09151, std: 0.03371, params: {'gamma': 0.0001, 'learning_rate': 1, 'max_depth': 8, 'n_estimators': 20, 'subsample': 0.75},\n",
       " mean: -0.14443, std: 0.03307, params: {'gamma': 0.0001, 'learning_rate': 1, 'max_depth': 8, 'n_estimators': 30, 'subsample': 0.75},\n",
       " mean: -0.17705, std: 0.02897, params: {'gamma': 0.0001, 'learning_rate': 1, 'max_depth': 8, 'n_estimators': 40, 'subsample': 0.75},\n",
       " mean: -0.20761, std: 0.01696, params: {'gamma': 0.0001, 'learning_rate': 1, 'max_depth': 8, 'n_estimators': 50, 'subsample': 0.75},\n",
       " mean: -0.24837, std: 0.02910, params: {'gamma': 0.0001, 'learning_rate': 1, 'max_depth': 8, 'n_estimators': 60, 'subsample': 0.75},\n",
       " mean: -0.27051, std: 0.02404, params: {'gamma': 0.0001, 'learning_rate': 1, 'max_depth': 8, 'n_estimators': 70, 'subsample': 0.75},\n",
       " mean: -0.29350, std: 0.03020, params: {'gamma': 0.0001, 'learning_rate': 1, 'max_depth': 8, 'n_estimators': 80, 'subsample': 0.75},\n",
       " mean: -0.30971, std: 0.03151, params: {'gamma': 0.0001, 'learning_rate': 1, 'max_depth': 8, 'n_estimators': 90, 'subsample': 0.75},\n",
       " mean: -0.32207, std: 0.03113, params: {'gamma': 0.0001, 'learning_rate': 1, 'max_depth': 8, 'n_estimators': 100, 'subsample': 0.75},\n",
       " mean: -0.33128, std: 0.03064, params: {'gamma': 0.0001, 'learning_rate': 1, 'max_depth': 8, 'n_estimators': 110, 'subsample': 0.75},\n",
       " mean: -0.33990, std: 0.02966, params: {'gamma': 0.0001, 'learning_rate': 1, 'max_depth': 8, 'n_estimators': 120, 'subsample': 0.75},\n",
       " mean: -0.34741, std: 0.02541, params: {'gamma': 0.0001, 'learning_rate': 1, 'max_depth': 8, 'n_estimators': 130, 'subsample': 0.75},\n",
       " mean: -0.35719, std: 0.02475, params: {'gamma': 0.0001, 'learning_rate': 1, 'max_depth': 8, 'n_estimators': 140, 'subsample': 0.75},\n",
       " mean: -0.36584, std: 0.02301, params: {'gamma': 0.0001, 'learning_rate': 1, 'max_depth': 8, 'n_estimators': 150, 'subsample': 0.75},\n",
       " mean: -0.01626, std: 0.01836, params: {'gamma': 0.0001, 'learning_rate': 1, 'max_depth': 9, 'n_estimators': 10, 'subsample': 0.75},\n",
       " mean: -0.09327, std: 0.04597, params: {'gamma': 0.0001, 'learning_rate': 1, 'max_depth': 9, 'n_estimators': 20, 'subsample': 0.75},\n",
       " mean: -0.13584, std: 0.04878, params: {'gamma': 0.0001, 'learning_rate': 1, 'max_depth': 9, 'n_estimators': 30, 'subsample': 0.75},\n",
       " mean: -0.18743, std: 0.06339, params: {'gamma': 0.0001, 'learning_rate': 1, 'max_depth': 9, 'n_estimators': 40, 'subsample': 0.75},\n",
       " mean: -0.21616, std: 0.06752, params: {'gamma': 0.0001, 'learning_rate': 1, 'max_depth': 9, 'n_estimators': 50, 'subsample': 0.75},\n",
       " mean: -0.22988, std: 0.06349, params: {'gamma': 0.0001, 'learning_rate': 1, 'max_depth': 9, 'n_estimators': 60, 'subsample': 0.75},\n",
       " mean: -0.24064, std: 0.06403, params: {'gamma': 0.0001, 'learning_rate': 1, 'max_depth': 9, 'n_estimators': 70, 'subsample': 0.75},\n",
       " mean: -0.26006, std: 0.07253, params: {'gamma': 0.0001, 'learning_rate': 1, 'max_depth': 9, 'n_estimators': 80, 'subsample': 0.75},\n",
       " mean: -0.26484, std: 0.07011, params: {'gamma': 0.0001, 'learning_rate': 1, 'max_depth': 9, 'n_estimators': 90, 'subsample': 0.75},\n",
       " mean: -0.28229, std: 0.07364, params: {'gamma': 0.0001, 'learning_rate': 1, 'max_depth': 9, 'n_estimators': 100, 'subsample': 0.75},\n",
       " mean: -0.29732, std: 0.07316, params: {'gamma': 0.0001, 'learning_rate': 1, 'max_depth': 9, 'n_estimators': 110, 'subsample': 0.75},\n",
       " mean: -0.30093, std: 0.07518, params: {'gamma': 0.0001, 'learning_rate': 1, 'max_depth': 9, 'n_estimators': 120, 'subsample': 0.75},\n",
       " mean: -0.30396, std: 0.07691, params: {'gamma': 0.0001, 'learning_rate': 1, 'max_depth': 9, 'n_estimators': 130, 'subsample': 0.75},\n",
       " mean: -0.30972, std: 0.08145, params: {'gamma': 0.0001, 'learning_rate': 1, 'max_depth': 9, 'n_estimators': 140, 'subsample': 0.75},\n",
       " mean: -0.30904, std: 0.07981, params: {'gamma': 0.0001, 'learning_rate': 1, 'max_depth': 9, 'n_estimators': 150, 'subsample': 0.75},\n",
       " mean: -0.03185, std: 0.02789, params: {'gamma': 0.0001, 'learning_rate': 1, 'max_depth': 10, 'n_estimators': 10, 'subsample': 0.75},\n",
       " mean: -0.14585, std: 0.05964, params: {'gamma': 0.0001, 'learning_rate': 1, 'max_depth': 10, 'n_estimators': 20, 'subsample': 0.75},\n",
       " mean: -0.21132, std: 0.05192, params: {'gamma': 0.0001, 'learning_rate': 1, 'max_depth': 10, 'n_estimators': 30, 'subsample': 0.75},\n",
       " mean: -0.24606, std: 0.06013, params: {'gamma': 0.0001, 'learning_rate': 1, 'max_depth': 10, 'n_estimators': 40, 'subsample': 0.75},\n",
       " mean: -0.29290, std: 0.07430, params: {'gamma': 0.0001, 'learning_rate': 1, 'max_depth': 10, 'n_estimators': 50, 'subsample': 0.75},\n",
       " mean: -0.31939, std: 0.07804, params: {'gamma': 0.0001, 'learning_rate': 1, 'max_depth': 10, 'n_estimators': 60, 'subsample': 0.75},\n",
       " mean: -0.34029, std: 0.06041, params: {'gamma': 0.0001, 'learning_rate': 1, 'max_depth': 10, 'n_estimators': 70, 'subsample': 0.75},\n",
       " mean: -0.34480, std: 0.06163, params: {'gamma': 0.0001, 'learning_rate': 1, 'max_depth': 10, 'n_estimators': 80, 'subsample': 0.75},\n",
       " mean: -0.34876, std: 0.05988, params: {'gamma': 0.0001, 'learning_rate': 1, 'max_depth': 10, 'n_estimators': 90, 'subsample': 0.75},\n",
       " mean: -0.35565, std: 0.05801, params: {'gamma': 0.0001, 'learning_rate': 1, 'max_depth': 10, 'n_estimators': 100, 'subsample': 0.75},\n",
       " mean: -0.36161, std: 0.05758, params: {'gamma': 0.0001, 'learning_rate': 1, 'max_depth': 10, 'n_estimators': 110, 'subsample': 0.75},\n",
       " mean: -0.37132, std: 0.06069, params: {'gamma': 0.0001, 'learning_rate': 1, 'max_depth': 10, 'n_estimators': 120, 'subsample': 0.75},\n",
       " mean: -0.37750, std: 0.05960, params: {'gamma': 0.0001, 'learning_rate': 1, 'max_depth': 10, 'n_estimators': 130, 'subsample': 0.75},\n",
       " mean: -0.37999, std: 0.05989, params: {'gamma': 0.0001, 'learning_rate': 1, 'max_depth': 10, 'n_estimators': 140, 'subsample': 0.75},\n",
       " mean: -0.38514, std: 0.05945, params: {'gamma': 0.0001, 'learning_rate': 1, 'max_depth': 10, 'n_estimators': 150, 'subsample': 0.75},\n",
       " mean: -8.20841, std: 0.34308, params: {'gamma': 0.001, 'learning_rate': 0.0001, 'max_depth': 1, 'n_estimators': 10, 'subsample': 0.75},\n",
       " mean: -8.19201, std: 0.34265, params: {'gamma': 0.001, 'learning_rate': 0.0001, 'max_depth': 1, 'n_estimators': 20, 'subsample': 0.75},\n",
       " mean: -8.17562, std: 0.34223, params: {'gamma': 0.001, 'learning_rate': 0.0001, 'max_depth': 1, 'n_estimators': 30, 'subsample': 0.75},\n",
       " mean: -8.15927, std: 0.34181, params: {'gamma': 0.001, 'learning_rate': 0.0001, 'max_depth': 1, 'n_estimators': 40, 'subsample': 0.75},\n",
       " mean: -8.14295, std: 0.34139, params: {'gamma': 0.001, 'learning_rate': 0.0001, 'max_depth': 1, 'n_estimators': 50, 'subsample': 0.75},\n",
       " mean: -8.12666, std: 0.34095, params: {'gamma': 0.001, 'learning_rate': 0.0001, 'max_depth': 1, 'n_estimators': 60, 'subsample': 0.75},\n",
       " mean: -8.11038, std: 0.34053, params: {'gamma': 0.001, 'learning_rate': 0.0001, 'max_depth': 1, 'n_estimators': 70, 'subsample': 0.75},\n",
       " mean: -8.09414, std: 0.34009, params: {'gamma': 0.001, 'learning_rate': 0.0001, 'max_depth': 1, 'n_estimators': 80, 'subsample': 0.75},\n",
       " mean: -8.07797, std: 0.33968, params: {'gamma': 0.001, 'learning_rate': 0.0001, 'max_depth': 1, 'n_estimators': 90, 'subsample': 0.75},\n",
       " mean: -8.06182, std: 0.33926, params: {'gamma': 0.001, 'learning_rate': 0.0001, 'max_depth': 1, 'n_estimators': 100, 'subsample': 0.75},\n",
       " mean: -8.04567, std: 0.33883, params: {'gamma': 0.001, 'learning_rate': 0.0001, 'max_depth': 1, 'n_estimators': 110, 'subsample': 0.75},\n",
       " mean: -8.02954, std: 0.33840, params: {'gamma': 0.001, 'learning_rate': 0.0001, 'max_depth': 1, 'n_estimators': 120, 'subsample': 0.75},\n",
       " mean: -8.01347, std: 0.33798, params: {'gamma': 0.001, 'learning_rate': 0.0001, 'max_depth': 1, 'n_estimators': 130, 'subsample': 0.75},\n",
       " mean: -7.99742, std: 0.33753, params: {'gamma': 0.001, 'learning_rate': 0.0001, 'max_depth': 1, 'n_estimators': 140, 'subsample': 0.75},\n",
       " mean: -7.98140, std: 0.33710, params: {'gamma': 0.001, 'learning_rate': 0.0001, 'max_depth': 1, 'n_estimators': 150, 'subsample': 0.75},\n",
       " mean: -8.20837, std: 0.34309, params: {'gamma': 0.001, 'learning_rate': 0.0001, 'max_depth': 2, 'n_estimators': 10, 'subsample': 0.75},\n",
       " mean: -8.19194, std: 0.34266, params: {'gamma': 0.001, 'learning_rate': 0.0001, 'max_depth': 2, 'n_estimators': 20, 'subsample': 0.75},\n",
       " mean: -8.17552, std: 0.34224, params: {'gamma': 0.001, 'learning_rate': 0.0001, 'max_depth': 2, 'n_estimators': 30, 'subsample': 0.75},\n",
       " mean: -8.15915, std: 0.34182, params: {'gamma': 0.001, 'learning_rate': 0.0001, 'max_depth': 2, 'n_estimators': 40, 'subsample': 0.75},\n",
       " mean: -8.14280, std: 0.34141, params: {'gamma': 0.001, 'learning_rate': 0.0001, 'max_depth': 2, 'n_estimators': 50, 'subsample': 0.75},\n",
       " mean: -8.12647, std: 0.34097, params: {'gamma': 0.001, 'learning_rate': 0.0001, 'max_depth': 2, 'n_estimators': 60, 'subsample': 0.75},\n",
       " mean: -8.11017, std: 0.34055, params: {'gamma': 0.001, 'learning_rate': 0.0001, 'max_depth': 2, 'n_estimators': 70, 'subsample': 0.75},\n",
       " mean: -8.09390, std: 0.34012, params: {'gamma': 0.001, 'learning_rate': 0.0001, 'max_depth': 2, 'n_estimators': 80, 'subsample': 0.75},\n",
       " mean: -8.07770, std: 0.33970, params: {'gamma': 0.001, 'learning_rate': 0.0001, 'max_depth': 2, 'n_estimators': 90, 'subsample': 0.75},\n",
       " mean: -8.06152, std: 0.33930, params: {'gamma': 0.001, 'learning_rate': 0.0001, 'max_depth': 2, 'n_estimators': 100, 'subsample': 0.75},\n",
       " mean: -8.04534, std: 0.33887, params: {'gamma': 0.001, 'learning_rate': 0.0001, 'max_depth': 2, 'n_estimators': 110, 'subsample': 0.75},\n",
       " mean: -8.02919, std: 0.33843, params: {'gamma': 0.001, 'learning_rate': 0.0001, 'max_depth': 2, 'n_estimators': 120, 'subsample': 0.75},\n",
       " mean: -8.01308, std: 0.33802, params: {'gamma': 0.001, 'learning_rate': 0.0001, 'max_depth': 2, 'n_estimators': 130, 'subsample': 0.75},\n",
       " mean: -7.99701, std: 0.33757, params: {'gamma': 0.001, 'learning_rate': 0.0001, 'max_depth': 2, 'n_estimators': 140, 'subsample': 0.75},\n",
       " mean: -7.98096, std: 0.33715, params: {'gamma': 0.001, 'learning_rate': 0.0001, 'max_depth': 2, 'n_estimators': 150, 'subsample': 0.75},\n",
       " mean: -8.20835, std: 0.34309, params: {'gamma': 0.001, 'learning_rate': 0.0001, 'max_depth': 3, 'n_estimators': 10, 'subsample': 0.75},\n",
       " mean: -8.19189, std: 0.34267, params: {'gamma': 0.001, 'learning_rate': 0.0001, 'max_depth': 3, 'n_estimators': 20, 'subsample': 0.75},\n",
       " mean: -8.17545, std: 0.34225, params: {'gamma': 0.001, 'learning_rate': 0.0001, 'max_depth': 3, 'n_estimators': 30, 'subsample': 0.75},\n",
       " mean: -8.15905, std: 0.34184, params: {'gamma': 0.001, 'learning_rate': 0.0001, 'max_depth': 3, 'n_estimators': 40, 'subsample': 0.75},\n",
       " mean: -8.14268, std: 0.34142, params: {'gamma': 0.001, 'learning_rate': 0.0001, 'max_depth': 3, 'n_estimators': 50, 'subsample': 0.75},\n",
       " mean: -8.12633, std: 0.34099, params: {'gamma': 0.001, 'learning_rate': 0.0001, 'max_depth': 3, 'n_estimators': 60, 'subsample': 0.75},\n",
       " mean: -8.11000, std: 0.34056, params: {'gamma': 0.001, 'learning_rate': 0.0001, 'max_depth': 3, 'n_estimators': 70, 'subsample': 0.75},\n",
       " mean: -8.09371, std: 0.34014, params: {'gamma': 0.001, 'learning_rate': 0.0001, 'max_depth': 3, 'n_estimators': 80, 'subsample': 0.75},\n",
       " mean: -8.07748, std: 0.33972, params: {'gamma': 0.001, 'learning_rate': 0.0001, 'max_depth': 3, 'n_estimators': 90, 'subsample': 0.75},\n",
       " mean: -8.06127, std: 0.33932, params: {'gamma': 0.001, 'learning_rate': 0.0001, 'max_depth': 3, 'n_estimators': 100, 'subsample': 0.75},\n",
       " mean: -8.04507, std: 0.33889, params: {'gamma': 0.001, 'learning_rate': 0.0001, 'max_depth': 3, 'n_estimators': 110, 'subsample': 0.75},\n",
       " mean: -8.02889, std: 0.33846, params: {'gamma': 0.001, 'learning_rate': 0.0001, 'max_depth': 3, 'n_estimators': 120, 'subsample': 0.75},\n",
       " mean: -8.01276, std: 0.33804, params: {'gamma': 0.001, 'learning_rate': 0.0001, 'max_depth': 3, 'n_estimators': 130, 'subsample': 0.75},\n",
       " mean: -7.99666, std: 0.33760, params: {'gamma': 0.001, 'learning_rate': 0.0001, 'max_depth': 3, 'n_estimators': 140, 'subsample': 0.75},\n",
       " mean: -7.98059, std: 0.33718, params: {'gamma': 0.001, 'learning_rate': 0.0001, 'max_depth': 3, 'n_estimators': 150, 'subsample': 0.75},\n",
       " mean: -8.20833, std: 0.34309, params: {'gamma': 0.001, 'learning_rate': 0.0001, 'max_depth': 4, 'n_estimators': 10, 'subsample': 0.75},\n",
       " mean: -8.19185, std: 0.34266, params: {'gamma': 0.001, 'learning_rate': 0.0001, 'max_depth': 4, 'n_estimators': 20, 'subsample': 0.75},\n",
       " mean: -8.17538, std: 0.34224, params: {'gamma': 0.001, 'learning_rate': 0.0001, 'max_depth': 4, 'n_estimators': 30, 'subsample': 0.75},\n",
       " mean: -8.15897, std: 0.34183, params: {'gamma': 0.001, 'learning_rate': 0.0001, 'max_depth': 4, 'n_estimators': 40, 'subsample': 0.75},\n",
       " mean: -8.14257, std: 0.34141, params: {'gamma': 0.001, 'learning_rate': 0.0001, 'max_depth': 4, 'n_estimators': 50, 'subsample': 0.75},\n",
       " mean: -8.12620, std: 0.34098, params: {'gamma': 0.001, 'learning_rate': 0.0001, 'max_depth': 4, 'n_estimators': 60, 'subsample': 0.75},\n",
       " mean: -8.10985, std: 0.34056, params: {'gamma': 0.001, 'learning_rate': 0.0001, 'max_depth': 4, 'n_estimators': 70, 'subsample': 0.75},\n",
       " mean: -8.09354, std: 0.34012, params: {'gamma': 0.001, 'learning_rate': 0.0001, 'max_depth': 4, 'n_estimators': 80, 'subsample': 0.75},\n",
       " mean: -8.07729, std: 0.33971, params: {'gamma': 0.001, 'learning_rate': 0.0001, 'max_depth': 4, 'n_estimators': 90, 'subsample': 0.75},\n",
       " mean: -8.06106, std: 0.33930, params: {'gamma': 0.001, 'learning_rate': 0.0001, 'max_depth': 4, 'n_estimators': 100, 'subsample': 0.75},\n",
       " mean: -8.04484, std: 0.33887, params: {'gamma': 0.001, 'learning_rate': 0.0001, 'max_depth': 4, 'n_estimators': 110, 'subsample': 0.75},\n",
       " mean: -8.02864, std: 0.33844, params: {'gamma': 0.001, 'learning_rate': 0.0001, 'max_depth': 4, 'n_estimators': 120, 'subsample': 0.75},\n",
       " mean: -8.01249, std: 0.33803, params: {'gamma': 0.001, 'learning_rate': 0.0001, 'max_depth': 4, 'n_estimators': 130, 'subsample': 0.75},\n",
       " mean: -7.99637, std: 0.33758, params: {'gamma': 0.001, 'learning_rate': 0.0001, 'max_depth': 4, 'n_estimators': 140, 'subsample': 0.75},\n",
       " mean: -7.98028, std: 0.33716, params: {'gamma': 0.001, 'learning_rate': 0.0001, 'max_depth': 4, 'n_estimators': 150, 'subsample': 0.75},\n",
       " mean: -8.20831, std: 0.34309, params: {'gamma': 0.001, 'learning_rate': 0.0001, 'max_depth': 5, 'n_estimators': 10, 'subsample': 0.75},\n",
       " mean: -8.19181, std: 0.34265, params: {'gamma': 0.001, 'learning_rate': 0.0001, 'max_depth': 5, 'n_estimators': 20, 'subsample': 0.75},\n",
       " mean: -8.17533, std: 0.34223, params: {'gamma': 0.001, 'learning_rate': 0.0001, 'max_depth': 5, 'n_estimators': 30, 'subsample': 0.75},\n",
       " mean: -8.15889, std: 0.34181, params: {'gamma': 0.001, 'learning_rate': 0.0001, 'max_depth': 5, 'n_estimators': 40, 'subsample': 0.75},\n",
       " mean: -8.14247, std: 0.34139, params: {'gamma': 0.001, 'learning_rate': 0.0001, 'max_depth': 5, 'n_estimators': 50, 'subsample': 0.75},\n",
       " mean: -8.12609, std: 0.34095, params: {'gamma': 0.001, 'learning_rate': 0.0001, 'max_depth': 5, 'n_estimators': 60, 'subsample': 0.75},\n",
       " mean: -8.10973, std: 0.34052, params: {'gamma': 0.001, 'learning_rate': 0.0001, 'max_depth': 5, 'n_estimators': 70, 'subsample': 0.75},\n",
       " mean: -8.09340, std: 0.34009, params: {'gamma': 0.001, 'learning_rate': 0.0001, 'max_depth': 5, 'n_estimators': 80, 'subsample': 0.75},\n",
       " mean: -8.07712, std: 0.33967, params: {'gamma': 0.001, 'learning_rate': 0.0001, 'max_depth': 5, 'n_estimators': 90, 'subsample': 0.75},\n",
       " mean: -8.06087, std: 0.33926, params: {'gamma': 0.001, 'learning_rate': 0.0001, 'max_depth': 5, 'n_estimators': 100, 'subsample': 0.75},\n",
       " mean: -8.04463, std: 0.33883, params: {'gamma': 0.001, 'learning_rate': 0.0001, 'max_depth': 5, 'n_estimators': 110, 'subsample': 0.75},\n",
       " mean: -8.02842, std: 0.33839, params: {'gamma': 0.001, 'learning_rate': 0.0001, 'max_depth': 5, 'n_estimators': 120, 'subsample': 0.75},\n",
       " mean: -8.01225, std: 0.33798, params: {'gamma': 0.001, 'learning_rate': 0.0001, 'max_depth': 5, 'n_estimators': 130, 'subsample': 0.75},\n",
       " mean: -7.99611, std: 0.33752, params: {'gamma': 0.001, 'learning_rate': 0.0001, 'max_depth': 5, 'n_estimators': 140, 'subsample': 0.75},\n",
       " mean: -7.98001, std: 0.33710, params: {'gamma': 0.001, 'learning_rate': 0.0001, 'max_depth': 5, 'n_estimators': 150, 'subsample': 0.75},\n",
       " mean: -8.20829, std: 0.34308, params: {'gamma': 0.001, 'learning_rate': 0.0001, 'max_depth': 6, 'n_estimators': 10, 'subsample': 0.75},\n",
       " mean: -8.19178, std: 0.34264, params: {'gamma': 0.001, 'learning_rate': 0.0001, 'max_depth': 6, 'n_estimators': 20, 'subsample': 0.75},\n",
       " mean: -8.17528, std: 0.34222, params: {'gamma': 0.001, 'learning_rate': 0.0001, 'max_depth': 6, 'n_estimators': 30, 'subsample': 0.75},\n",
       " mean: -8.15882, std: 0.34179, params: {'gamma': 0.001, 'learning_rate': 0.0001, 'max_depth': 6, 'n_estimators': 40, 'subsample': 0.75},\n",
       " mean: -8.14238, std: 0.34136, params: {'gamma': 0.001, 'learning_rate': 0.0001, 'max_depth': 6, 'n_estimators': 50, 'subsample': 0.75},\n",
       " mean: -8.12598, std: 0.34091, params: {'gamma': 0.001, 'learning_rate': 0.0001, 'max_depth': 6, 'n_estimators': 60, 'subsample': 0.75},\n",
       " mean: -8.10960, std: 0.34048, params: {'gamma': 0.001, 'learning_rate': 0.0001, 'max_depth': 6, 'n_estimators': 70, 'subsample': 0.75},\n",
       " mean: -8.09325, std: 0.34004, params: {'gamma': 0.001, 'learning_rate': 0.0001, 'max_depth': 6, 'n_estimators': 80, 'subsample': 0.75},\n",
       " mean: -8.07695, std: 0.33962, params: {'gamma': 0.001, 'learning_rate': 0.0001, 'max_depth': 6, 'n_estimators': 90, 'subsample': 0.75},\n",
       " mean: -8.06069, std: 0.33920, params: {'gamma': 0.001, 'learning_rate': 0.0001, 'max_depth': 6, 'n_estimators': 100, 'subsample': 0.75},\n",
       " mean: -8.04443, std: 0.33876, params: {'gamma': 0.001, 'learning_rate': 0.0001, 'max_depth': 6, 'n_estimators': 110, 'subsample': 0.75},\n",
       " mean: -8.02820, std: 0.33832, params: {'gamma': 0.001, 'learning_rate': 0.0001, 'max_depth': 6, 'n_estimators': 120, 'subsample': 0.75},\n",
       " mean: -8.01201, std: 0.33790, params: {'gamma': 0.001, 'learning_rate': 0.0001, 'max_depth': 6, 'n_estimators': 130, 'subsample': 0.75},\n",
       " mean: -7.99586, std: 0.33745, params: {'gamma': 0.001, 'learning_rate': 0.0001, 'max_depth': 6, 'n_estimators': 140, 'subsample': 0.75},\n",
       " mean: -7.97973, std: 0.33701, params: {'gamma': 0.001, 'learning_rate': 0.0001, 'max_depth': 6, 'n_estimators': 150, 'subsample': 0.75},\n",
       " mean: -8.20828, std: 0.34308, params: {'gamma': 0.001, 'learning_rate': 0.0001, 'max_depth': 7, 'n_estimators': 10, 'subsample': 0.75},\n",
       " mean: -8.19174, std: 0.34265, params: {'gamma': 0.001, 'learning_rate': 0.0001, 'max_depth': 7, 'n_estimators': 20, 'subsample': 0.75},\n",
       " mean: -8.17522, std: 0.34221, params: {'gamma': 0.001, 'learning_rate': 0.0001, 'max_depth': 7, 'n_estimators': 30, 'subsample': 0.75},\n",
       " mean: -8.15875, std: 0.34178, params: {'gamma': 0.001, 'learning_rate': 0.0001, 'max_depth': 7, 'n_estimators': 40, 'subsample': 0.75},\n",
       " mean: -8.14229, std: 0.34135, params: {'gamma': 0.001, 'learning_rate': 0.0001, 'max_depth': 7, 'n_estimators': 50, 'subsample': 0.75},\n",
       " mean: -8.12587, std: 0.34090, params: {'gamma': 0.001, 'learning_rate': 0.0001, 'max_depth': 7, 'n_estimators': 60, 'subsample': 0.75},\n",
       " mean: -8.10947, std: 0.34046, params: {'gamma': 0.001, 'learning_rate': 0.0001, 'max_depth': 7, 'n_estimators': 70, 'subsample': 0.75},\n",
       " mean: -8.09310, std: 0.34001, params: {'gamma': 0.001, 'learning_rate': 0.0001, 'max_depth': 7, 'n_estimators': 80, 'subsample': 0.75},\n",
       " mean: -8.07679, std: 0.33959, params: {'gamma': 0.001, 'learning_rate': 0.0001, 'max_depth': 7, 'n_estimators': 90, 'subsample': 0.75},\n",
       " mean: -8.06051, std: 0.33916, params: {'gamma': 0.001, 'learning_rate': 0.0001, 'max_depth': 7, 'n_estimators': 100, 'subsample': 0.75},\n",
       " mean: -8.04423, std: 0.33873, params: {'gamma': 0.001, 'learning_rate': 0.0001, 'max_depth': 7, 'n_estimators': 110, 'subsample': 0.75},\n",
       " mean: -8.02798, std: 0.33828, params: {'gamma': 0.001, 'learning_rate': 0.0001, 'max_depth': 7, 'n_estimators': 120, 'subsample': 0.75},\n",
       " mean: -8.01178, std: 0.33785, params: {'gamma': 0.001, 'learning_rate': 0.0001, 'max_depth': 7, 'n_estimators': 130, 'subsample': 0.75},\n",
       " mean: -7.99561, std: 0.33740, params: {'gamma': 0.001, 'learning_rate': 0.0001, 'max_depth': 7, 'n_estimators': 140, 'subsample': 0.75},\n",
       " mean: -7.97947, std: 0.33696, params: {'gamma': 0.001, 'learning_rate': 0.0001, 'max_depth': 7, 'n_estimators': 150, 'subsample': 0.75},\n",
       " mean: -8.20826, std: 0.34307, params: {'gamma': 0.001, 'learning_rate': 0.0001, 'max_depth': 8, 'n_estimators': 10, 'subsample': 0.75},\n",
       " mean: -8.19171, std: 0.34263, params: {'gamma': 0.001, 'learning_rate': 0.0001, 'max_depth': 8, 'n_estimators': 20, 'subsample': 0.75},\n",
       " mean: -8.17518, std: 0.34219, params: {'gamma': 0.001, 'learning_rate': 0.0001, 'max_depth': 8, 'n_estimators': 30, 'subsample': 0.75},\n",
       " mean: -8.15869, std: 0.34176, params: {'gamma': 0.001, 'learning_rate': 0.0001, 'max_depth': 8, 'n_estimators': 40, 'subsample': 0.75},\n",
       " mean: -8.14221, std: 0.34133, params: {'gamma': 0.001, 'learning_rate': 0.0001, 'max_depth': 8, 'n_estimators': 50, 'subsample': 0.75},\n",
       " mean: -8.12577, std: 0.34087, params: {'gamma': 0.001, 'learning_rate': 0.0001, 'max_depth': 8, 'n_estimators': 60, 'subsample': 0.75},\n",
       " mean: -8.10935, std: 0.34043, params: {'gamma': 0.001, 'learning_rate': 0.0001, 'max_depth': 8, 'n_estimators': 70, 'subsample': 0.75},\n",
       " mean: -8.09296, std: 0.33998, params: {'gamma': 0.001, 'learning_rate': 0.0001, 'max_depth': 8, 'n_estimators': 80, 'subsample': 0.75},\n",
       " mean: -8.07663, std: 0.33955, params: {'gamma': 0.001, 'learning_rate': 0.0001, 'max_depth': 8, 'n_estimators': 90, 'subsample': 0.75},\n",
       " mean: -8.06033, std: 0.33912, params: {'gamma': 0.001, 'learning_rate': 0.0001, 'max_depth': 8, 'n_estimators': 100, 'subsample': 0.75},\n",
       " mean: -8.04404, std: 0.33867, params: {'gamma': 0.001, 'learning_rate': 0.0001, 'max_depth': 8, 'n_estimators': 110, 'subsample': 0.75},\n",
       " mean: -8.02777, std: 0.33822, params: {'gamma': 0.001, 'learning_rate': 0.0001, 'max_depth': 8, 'n_estimators': 120, 'subsample': 0.75},\n",
       " mean: -8.01156, std: 0.33779, params: {'gamma': 0.001, 'learning_rate': 0.0001, 'max_depth': 8, 'n_estimators': 130, 'subsample': 0.75},\n",
       " mean: -7.99537, std: 0.33733, params: {'gamma': 0.001, 'learning_rate': 0.0001, 'max_depth': 8, 'n_estimators': 140, 'subsample': 0.75},\n",
       " mean: -7.97921, std: 0.33689, params: {'gamma': 0.001, 'learning_rate': 0.0001, 'max_depth': 8, 'n_estimators': 150, 'subsample': 0.75},\n",
       " mean: -8.20825, std: 0.34307, params: {'gamma': 0.001, 'learning_rate': 0.0001, 'max_depth': 9, 'n_estimators': 10, 'subsample': 0.75},\n",
       " mean: -8.19169, std: 0.34263, params: {'gamma': 0.001, 'learning_rate': 0.0001, 'max_depth': 9, 'n_estimators': 20, 'subsample': 0.75},\n",
       " mean: -8.17514, std: 0.34219, params: {'gamma': 0.001, 'learning_rate': 0.0001, 'max_depth': 9, 'n_estimators': 30, 'subsample': 0.75},\n",
       " mean: -8.15864, std: 0.34176, params: {'gamma': 0.001, 'learning_rate': 0.0001, 'max_depth': 9, 'n_estimators': 40, 'subsample': 0.75},\n",
       " mean: -8.14214, std: 0.34132, params: {'gamma': 0.001, 'learning_rate': 0.0001, 'max_depth': 9, 'n_estimators': 50, 'subsample': 0.75},\n",
       " mean: -8.12568, std: 0.34086, params: {'gamma': 0.001, 'learning_rate': 0.0001, 'max_depth': 9, 'n_estimators': 60, 'subsample': 0.75},\n",
       " mean: -8.10925, std: 0.34041, params: {'gamma': 0.001, 'learning_rate': 0.0001, 'max_depth': 9, 'n_estimators': 70, 'subsample': 0.75},\n",
       " mean: -8.09285, std: 0.33996, params: {'gamma': 0.001, 'learning_rate': 0.0001, 'max_depth': 9, 'n_estimators': 80, 'subsample': 0.75},\n",
       " mean: -8.07650, std: 0.33953, params: {'gamma': 0.001, 'learning_rate': 0.0001, 'max_depth': 9, 'n_estimators': 90, 'subsample': 0.75},\n",
       " mean: -8.06018, std: 0.33909, params: {'gamma': 0.001, 'learning_rate': 0.0001, 'max_depth': 9, 'n_estimators': 100, 'subsample': 0.75},\n",
       " mean: -8.04388, std: 0.33865, params: {'gamma': 0.001, 'learning_rate': 0.0001, 'max_depth': 9, 'n_estimators': 110, 'subsample': 0.75},\n",
       " mean: -8.02759, std: 0.33819, params: {'gamma': 0.001, 'learning_rate': 0.0001, 'max_depth': 9, 'n_estimators': 120, 'subsample': 0.75},\n",
       " mean: -8.01136, std: 0.33776, params: {'gamma': 0.001, 'learning_rate': 0.0001, 'max_depth': 9, 'n_estimators': 130, 'subsample': 0.75},\n",
       " mean: -7.99516, std: 0.33729, params: {'gamma': 0.001, 'learning_rate': 0.0001, 'max_depth': 9, 'n_estimators': 140, 'subsample': 0.75},\n",
       " mean: -7.97898, std: 0.33685, params: {'gamma': 0.001, 'learning_rate': 0.0001, 'max_depth': 9, 'n_estimators': 150, 'subsample': 0.75},\n",
       " mean: -8.20823, std: 0.34306, params: {'gamma': 0.001, 'learning_rate': 0.0001, 'max_depth': 10, 'n_estimators': 10, 'subsample': 0.75},\n",
       " mean: -8.19166, std: 0.34262, params: {'gamma': 0.001, 'learning_rate': 0.0001, 'max_depth': 10, 'n_estimators': 20, 'subsample': 0.75},\n",
       " mean: -8.17510, std: 0.34217, params: {'gamma': 0.001, 'learning_rate': 0.0001, 'max_depth': 10, 'n_estimators': 30, 'subsample': 0.75},\n",
       " mean: -8.15858, std: 0.34173, params: {'gamma': 0.001, 'learning_rate': 0.0001, 'max_depth': 10, 'n_estimators': 40, 'subsample': 0.75},\n",
       " mean: -8.14207, std: 0.34129, params: {'gamma': 0.001, 'learning_rate': 0.0001, 'max_depth': 10, 'n_estimators': 50, 'subsample': 0.75},\n",
       " mean: -8.12559, std: 0.34083, params: {'gamma': 0.001, 'learning_rate': 0.0001, 'max_depth': 10, 'n_estimators': 60, 'subsample': 0.75},\n",
       " mean: -8.10914, std: 0.34038, params: {'gamma': 0.001, 'learning_rate': 0.0001, 'max_depth': 10, 'n_estimators': 70, 'subsample': 0.75},\n",
       " mean: -8.09272, std: 0.33993, params: {'gamma': 0.001, 'learning_rate': 0.0001, 'max_depth': 10, 'n_estimators': 80, 'subsample': 0.75},\n",
       " mean: -8.07636, std: 0.33949, params: {'gamma': 0.001, 'learning_rate': 0.0001, 'max_depth': 10, 'n_estimators': 90, 'subsample': 0.75},\n",
       " mean: -8.06003, std: 0.33906, params: {'gamma': 0.001, 'learning_rate': 0.0001, 'max_depth': 10, 'n_estimators': 100, 'subsample': 0.75},\n",
       " mean: -8.04371, std: 0.33861, params: {'gamma': 0.001, 'learning_rate': 0.0001, 'max_depth': 10, 'n_estimators': 110, 'subsample': 0.75},\n",
       " mean: -8.02741, std: 0.33815, params: {'gamma': 0.001, 'learning_rate': 0.0001, 'max_depth': 10, 'n_estimators': 120, 'subsample': 0.75},\n",
       " mean: -8.01117, std: 0.33771, params: {'gamma': 0.001, 'learning_rate': 0.0001, 'max_depth': 10, 'n_estimators': 130, 'subsample': 0.75},\n",
       " mean: -7.99494, std: 0.33724, params: {'gamma': 0.001, 'learning_rate': 0.0001, 'max_depth': 10, 'n_estimators': 140, 'subsample': 0.75},\n",
       " mean: -7.97875, std: 0.33680, params: {'gamma': 0.001, 'learning_rate': 0.0001, 'max_depth': 10, 'n_estimators': 150, 'subsample': 0.75},\n",
       " mean: -8.06171, std: 0.33917, params: {'gamma': 0.001, 'learning_rate': 0.001, 'max_depth': 1, 'n_estimators': 10, 'subsample': 0.75},\n",
       " mean: -7.90203, std: 0.33492, params: {'gamma': 0.001, 'learning_rate': 0.001, 'max_depth': 1, 'n_estimators': 20, 'subsample': 0.75},\n",
       " mean: -7.74525, std: 0.33082, params: {'gamma': 0.001, 'learning_rate': 0.001, 'max_depth': 1, 'n_estimators': 30, 'subsample': 0.75},\n",
       " mean: -7.59172, std: 0.32683, params: {'gamma': 0.001, 'learning_rate': 0.001, 'max_depth': 1, 'n_estimators': 40, 'subsample': 0.75},\n",
       " mean: -7.44111, std: 0.32291, params: {'gamma': 0.001, 'learning_rate': 0.001, 'max_depth': 1, 'n_estimators': 50, 'subsample': 0.75},\n",
       " mean: -7.29345, std: 0.31878, params: {'gamma': 0.001, 'learning_rate': 0.001, 'max_depth': 1, 'n_estimators': 60, 'subsample': 0.75},\n",
       " mean: -7.14859, std: 0.31487, params: {'gamma': 0.001, 'learning_rate': 0.001, 'max_depth': 1, 'n_estimators': 70, 'subsample': 0.75},\n",
       " mean: -7.00663, std: 0.31092, params: {'gamma': 0.001, 'learning_rate': 0.001, 'max_depth': 1, 'n_estimators': 80, 'subsample': 0.75},\n",
       " mean: -6.86775, std: 0.30716, params: {'gamma': 0.001, 'learning_rate': 0.001, 'max_depth': 1, 'n_estimators': 90, 'subsample': 0.75},\n",
       " mean: -6.73157, std: 0.30355, params: {'gamma': 0.001, 'learning_rate': 0.001, 'max_depth': 1, 'n_estimators': 100, 'subsample': 0.75},\n",
       " mean: -6.59776, std: 0.29974, params: {'gamma': 0.001, 'learning_rate': 0.001, 'max_depth': 1, 'n_estimators': 110, 'subsample': 0.75},\n",
       " mean: -6.46659, std: 0.29598, params: {'gamma': 0.001, 'learning_rate': 0.001, 'max_depth': 1, 'n_estimators': 120, 'subsample': 0.75},\n",
       " mean: -6.33814, std: 0.29239, params: {'gamma': 0.001, 'learning_rate': 0.001, 'max_depth': 1, 'n_estimators': 130, 'subsample': 0.75},\n",
       " mean: -6.21219, std: 0.28862, params: {'gamma': 0.001, 'learning_rate': 0.001, 'max_depth': 1, 'n_estimators': 140, 'subsample': 0.75},\n",
       " mean: -6.08873, std: 0.28508, params: {'gamma': 0.001, 'learning_rate': 0.001, 'max_depth': 1, 'n_estimators': 150, 'subsample': 0.75},\n",
       " mean: -8.06139, std: 0.33920, params: {'gamma': 0.001, 'learning_rate': 0.001, 'max_depth': 2, 'n_estimators': 10, 'subsample': 0.75},\n",
       " mean: -7.90139, std: 0.33499, params: {'gamma': 0.001, 'learning_rate': 0.001, 'max_depth': 2, 'n_estimators': 20, 'subsample': 0.75},\n",
       " mean: -7.74435, std: 0.33091, params: {'gamma': 0.001, 'learning_rate': 0.001, 'max_depth': 2, 'n_estimators': 30, 'subsample': 0.75},\n",
       " mean: -7.59054, std: 0.32696, params: {'gamma': 0.001, 'learning_rate': 0.001, 'max_depth': 2, 'n_estimators': 40, 'subsample': 0.75},\n",
       " mean: -7.43966, std: 0.32304, params: {'gamma': 0.001, 'learning_rate': 0.001, 'max_depth': 2, 'n_estimators': 50, 'subsample': 0.75},\n",
       " mean: -7.29175, std: 0.31894, params: {'gamma': 0.001, 'learning_rate': 0.001, 'max_depth': 2, 'n_estimators': 60, 'subsample': 0.75},\n",
       " mean: -7.14663, std: 0.31504, params: {'gamma': 0.001, 'learning_rate': 0.001, 'max_depth': 2, 'n_estimators': 70, 'subsample': 0.75},\n",
       " mean: -7.00440, std: 0.31111, params: {'gamma': 0.001, 'learning_rate': 0.001, 'max_depth': 2, 'n_estimators': 80, 'subsample': 0.75},\n",
       " mean: -6.86525, std: 0.30737, params: {'gamma': 0.001, 'learning_rate': 0.001, 'max_depth': 2, 'n_estimators': 90, 'subsample': 0.75},\n",
       " mean: -6.72885, std: 0.30374, params: {'gamma': 0.001, 'learning_rate': 0.001, 'max_depth': 2, 'n_estimators': 100, 'subsample': 0.75},\n",
       " mean: -6.59482, std: 0.29996, params: {'gamma': 0.001, 'learning_rate': 0.001, 'max_depth': 2, 'n_estimators': 110, 'subsample': 0.75},\n",
       " mean: -6.46340, std: 0.29621, params: {'gamma': 0.001, 'learning_rate': 0.001, 'max_depth': 2, 'n_estimators': 120, 'subsample': 0.75},\n",
       " mean: -6.33471, std: 0.29264, params: {'gamma': 0.001, 'learning_rate': 0.001, 'max_depth': 2, 'n_estimators': 130, 'subsample': 0.75},\n",
       " mean: -6.20858, std: 0.28890, params: {'gamma': 0.001, 'learning_rate': 0.001, 'max_depth': 2, 'n_estimators': 140, 'subsample': 0.75},\n",
       " mean: -6.08492, std: 0.28540, params: {'gamma': 0.001, 'learning_rate': 0.001, 'max_depth': 2, 'n_estimators': 150, 'subsample': 0.75},\n",
       " mean: -8.06116, std: 0.33923, params: {'gamma': 0.001, 'learning_rate': 0.001, 'max_depth': 3, 'n_estimators': 10, 'subsample': 0.75},\n",
       " mean: -7.90091, std: 0.33506, params: {'gamma': 0.001, 'learning_rate': 0.001, 'max_depth': 3, 'n_estimators': 20, 'subsample': 0.75},\n",
       " mean: -7.74362, std: 0.33100, params: {'gamma': 0.001, 'learning_rate': 0.001, 'max_depth': 3, 'n_estimators': 30, 'subsample': 0.75},\n",
       " mean: -7.58958, std: 0.32707, params: {'gamma': 0.001, 'learning_rate': 0.001, 'max_depth': 3, 'n_estimators': 40, 'subsample': 0.75},\n",
       " mean: -7.43846, std: 0.32312, params: {'gamma': 0.001, 'learning_rate': 0.001, 'max_depth': 3, 'n_estimators': 50, 'subsample': 0.75},\n",
       " mean: -7.29032, std: 0.31905, params: {'gamma': 0.001, 'learning_rate': 0.001, 'max_depth': 3, 'n_estimators': 60, 'subsample': 0.75},\n",
       " mean: -7.14497, std: 0.31514, params: {'gamma': 0.001, 'learning_rate': 0.001, 'max_depth': 3, 'n_estimators': 70, 'subsample': 0.75},\n",
       " mean: -7.00257, std: 0.31122, params: {'gamma': 0.001, 'learning_rate': 0.001, 'max_depth': 3, 'n_estimators': 80, 'subsample': 0.75},\n",
       " mean: -6.86320, std: 0.30749, params: {'gamma': 0.001, 'learning_rate': 0.001, 'max_depth': 3, 'n_estimators': 90, 'subsample': 0.75},\n",
       " mean: -6.72658, std: 0.30385, params: {'gamma': 0.001, 'learning_rate': 0.001, 'max_depth': 3, 'n_estimators': 100, 'subsample': 0.75},\n",
       " mean: -6.59233, std: 0.30007, params: {'gamma': 0.001, 'learning_rate': 0.001, 'max_depth': 3, 'n_estimators': 110, 'subsample': 0.75},\n",
       " mean: -6.46073, std: 0.29631, params: {'gamma': 0.001, 'learning_rate': 0.001, 'max_depth': 3, 'n_estimators': 120, 'subsample': 0.75},\n",
       " mean: -6.33187, std: 0.29274, params: {'gamma': 0.001, 'learning_rate': 0.001, 'max_depth': 3, 'n_estimators': 130, 'subsample': 0.75},\n",
       " mean: -6.20555, std: 0.28899, params: {'gamma': 0.001, 'learning_rate': 0.001, 'max_depth': 3, 'n_estimators': 140, 'subsample': 0.75},\n",
       " mean: -6.08170, std: 0.28549, params: {'gamma': 0.001, 'learning_rate': 0.001, 'max_depth': 3, 'n_estimators': 150, 'subsample': 0.75},\n",
       " mean: -8.06094, std: 0.33922, params: {'gamma': 0.001, 'learning_rate': 0.001, 'max_depth': 4, 'n_estimators': 10, 'subsample': 0.75},\n",
       " mean: -7.90048, std: 0.33504, params: {'gamma': 0.001, 'learning_rate': 0.001, 'max_depth': 4, 'n_estimators': 20, 'subsample': 0.75},\n",
       " mean: -7.74299, std: 0.33096, params: {'gamma': 0.001, 'learning_rate': 0.001, 'max_depth': 4, 'n_estimators': 30, 'subsample': 0.75},\n",
       " mean: -7.58878, std: 0.32704, params: {'gamma': 0.001, 'learning_rate': 0.001, 'max_depth': 4, 'n_estimators': 40, 'subsample': 0.75},\n",
       " mean: -7.43744, std: 0.32306, params: {'gamma': 0.001, 'learning_rate': 0.001, 'max_depth': 4, 'n_estimators': 50, 'subsample': 0.75},\n",
       " mean: -7.28913, std: 0.31899, params: {'gamma': 0.001, 'learning_rate': 0.001, 'max_depth': 4, 'n_estimators': 60, 'subsample': 0.75},\n",
       " mean: -7.14359, std: 0.31509, params: {'gamma': 0.001, 'learning_rate': 0.001, 'max_depth': 4, 'n_estimators': 70, 'subsample': 0.75},\n",
       " mean: -7.00100, std: 0.31114, params: {'gamma': 0.001, 'learning_rate': 0.001, 'max_depth': 4, 'n_estimators': 80, 'subsample': 0.75},\n",
       " mean: -6.86141, std: 0.30738, params: {'gamma': 0.001, 'learning_rate': 0.001, 'max_depth': 4, 'n_estimators': 90, 'subsample': 0.75},\n",
       " mean: -6.72459, std: 0.30370, params: {'gamma': 0.001, 'learning_rate': 0.001, 'max_depth': 4, 'n_estimators': 100, 'subsample': 0.75},\n",
       " mean: -6.59019, std: 0.29992, params: {'gamma': 0.001, 'learning_rate': 0.001, 'max_depth': 4, 'n_estimators': 110, 'subsample': 0.75},\n",
       " mean: -6.45845, std: 0.29616, params: {'gamma': 0.001, 'learning_rate': 0.001, 'max_depth': 4, 'n_estimators': 120, 'subsample': 0.75},\n",
       " mean: -6.32943, std: 0.29258, params: {'gamma': 0.001, 'learning_rate': 0.001, 'max_depth': 4, 'n_estimators': 130, 'subsample': 0.75},\n",
       " mean: -6.20293, std: 0.28878, params: {'gamma': 0.001, 'learning_rate': 0.001, 'max_depth': 4, 'n_estimators': 140, 'subsample': 0.75},\n",
       " mean: -6.07894, std: 0.28525, params: {'gamma': 0.001, 'learning_rate': 0.001, 'max_depth': 4, 'n_estimators': 150, 'subsample': 0.75},\n",
       " mean: -8.06077, std: 0.33920, params: {'gamma': 0.001, 'learning_rate': 0.001, 'max_depth': 5, 'n_estimators': 10, 'subsample': 0.75},\n",
       " mean: -7.90013, std: 0.33497, params: {'gamma': 0.001, 'learning_rate': 0.001, 'max_depth': 5, 'n_estimators': 20, 'subsample': 0.75},\n",
       " mean: -7.74244, std: 0.33084, params: {'gamma': 0.001, 'learning_rate': 0.001, 'max_depth': 5, 'n_estimators': 30, 'subsample': 0.75},\n",
       " mean: -7.58805, std: 0.32684, params: {'gamma': 0.001, 'learning_rate': 0.001, 'max_depth': 5, 'n_estimators': 40, 'subsample': 0.75},\n",
       " mean: -7.43654, std: 0.32280, params: {'gamma': 0.001, 'learning_rate': 0.001, 'max_depth': 5, 'n_estimators': 50, 'subsample': 0.75},\n",
       " mean: -7.28807, std: 0.31873, params: {'gamma': 0.001, 'learning_rate': 0.001, 'max_depth': 5, 'n_estimators': 60, 'subsample': 0.75},\n",
       " mean: -7.14236, std: 0.31481, params: {'gamma': 0.001, 'learning_rate': 0.001, 'max_depth': 5, 'n_estimators': 70, 'subsample': 0.75},\n",
       " mean: -6.99959, std: 0.31081, params: {'gamma': 0.001, 'learning_rate': 0.001, 'max_depth': 5, 'n_estimators': 80, 'subsample': 0.75},\n",
       " mean: -6.85982, std: 0.30703, params: {'gamma': 0.001, 'learning_rate': 0.001, 'max_depth': 5, 'n_estimators': 90, 'subsample': 0.75},\n",
       " mean: -6.72283, std: 0.30333, params: {'gamma': 0.001, 'learning_rate': 0.001, 'max_depth': 5, 'n_estimators': 100, 'subsample': 0.75},\n",
       " mean: -6.58828, std: 0.29954, params: {'gamma': 0.001, 'learning_rate': 0.001, 'max_depth': 5, 'n_estimators': 110, 'subsample': 0.75},\n",
       " mean: -6.45637, std: 0.29577, params: {'gamma': 0.001, 'learning_rate': 0.001, 'max_depth': 5, 'n_estimators': 120, 'subsample': 0.75},\n",
       " mean: -6.32716, std: 0.29214, params: {'gamma': 0.001, 'learning_rate': 0.001, 'max_depth': 5, 'n_estimators': 130, 'subsample': 0.75},\n",
       " mean: -6.20050, std: 0.28830, params: {'gamma': 0.001, 'learning_rate': 0.001, 'max_depth': 5, 'n_estimators': 140, 'subsample': 0.75},\n",
       " mean: -6.07635, std: 0.28474, params: {'gamma': 0.001, 'learning_rate': 0.001, 'max_depth': 5, 'n_estimators': 150, 'subsample': 0.75},\n",
       " mean: -8.06059, std: 0.33913, params: {'gamma': 0.001, 'learning_rate': 0.001, 'max_depth': 6, 'n_estimators': 10, 'subsample': 0.75},\n",
       " mean: -7.89977, std: 0.33485, params: {'gamma': 0.001, 'learning_rate': 0.001, 'max_depth': 6, 'n_estimators': 20, 'subsample': 0.75},\n",
       " mean: -7.74191, std: 0.33068, params: {'gamma': 0.001, 'learning_rate': 0.001, 'max_depth': 6, 'n_estimators': 30, 'subsample': 0.75},\n",
       " mean: -7.58733, std: 0.32659, params: {'gamma': 0.001, 'learning_rate': 0.001, 'max_depth': 6, 'n_estimators': 40, 'subsample': 0.75},\n",
       " mean: -7.43564, std: 0.32249, params: {'gamma': 0.001, 'learning_rate': 0.001, 'max_depth': 6, 'n_estimators': 50, 'subsample': 0.75},\n",
       " mean: -7.28702, std: 0.31833, params: {'gamma': 0.001, 'learning_rate': 0.001, 'max_depth': 6, 'n_estimators': 60, 'subsample': 0.75},\n",
       " mean: -7.14115, std: 0.31434, params: {'gamma': 0.001, 'learning_rate': 0.001, 'max_depth': 6, 'n_estimators': 70, 'subsample': 0.75},\n",
       " mean: -6.99821, std: 0.31029, params: {'gamma': 0.001, 'learning_rate': 0.001, 'max_depth': 6, 'n_estimators': 80, 'subsample': 0.75},\n",
       " mean: -6.85831, std: 0.30650, params: {'gamma': 0.001, 'learning_rate': 0.001, 'max_depth': 6, 'n_estimators': 90, 'subsample': 0.75},\n",
       " mean: -6.72116, std: 0.30279, params: {'gamma': 0.001, 'learning_rate': 0.001, 'max_depth': 6, 'n_estimators': 100, 'subsample': 0.75},\n",
       " mean: -6.58645, std: 0.29899, params: {'gamma': 0.001, 'learning_rate': 0.001, 'max_depth': 6, 'n_estimators': 110, 'subsample': 0.75},\n",
       " mean: -6.45438, std: 0.29519, params: {'gamma': 0.001, 'learning_rate': 0.001, 'max_depth': 6, 'n_estimators': 120, 'subsample': 0.75},\n",
       " mean: -6.32500, std: 0.29154, params: {'gamma': 0.001, 'learning_rate': 0.001, 'max_depth': 6, 'n_estimators': 130, 'subsample': 0.75},\n",
       " mean: -6.19819, std: 0.28771, params: {'gamma': 0.001, 'learning_rate': 0.001, 'max_depth': 6, 'n_estimators': 140, 'subsample': 0.75},\n",
       " mean: -6.07386, std: 0.28411, params: {'gamma': 0.001, 'learning_rate': 0.001, 'max_depth': 6, 'n_estimators': 150, 'subsample': 0.75},\n",
       " mean: -8.06042, std: 0.33910, params: {'gamma': 0.001, 'learning_rate': 0.001, 'max_depth': 7, 'n_estimators': 10, 'subsample': 0.75},\n",
       " mean: -7.89942, std: 0.33482, params: {'gamma': 0.001, 'learning_rate': 0.001, 'max_depth': 7, 'n_estimators': 20, 'subsample': 0.75},\n",
       " mean: -7.74139, std: 0.33061, params: {'gamma': 0.001, 'learning_rate': 0.001, 'max_depth': 7, 'n_estimators': 30, 'subsample': 0.75},\n",
       " mean: -7.58664, std: 0.32651, params: {'gamma': 0.001, 'learning_rate': 0.001, 'max_depth': 7, 'n_estimators': 40, 'subsample': 0.75},\n",
       " mean: -7.43480, std: 0.32240, params: {'gamma': 0.001, 'learning_rate': 0.001, 'max_depth': 7, 'n_estimators': 50, 'subsample': 0.75},\n",
       " mean: -7.28601, std: 0.31819, params: {'gamma': 0.001, 'learning_rate': 0.001, 'max_depth': 7, 'n_estimators': 60, 'subsample': 0.75},\n",
       " mean: -7.13995, std: 0.31414, params: {'gamma': 0.001, 'learning_rate': 0.001, 'max_depth': 7, 'n_estimators': 70, 'subsample': 0.75},\n",
       " mean: -6.99684, std: 0.31011, params: {'gamma': 0.001, 'learning_rate': 0.001, 'max_depth': 7, 'n_estimators': 80, 'subsample': 0.75},\n",
       " mean: -6.85681, std: 0.30633, params: {'gamma': 0.001, 'learning_rate': 0.001, 'max_depth': 7, 'n_estimators': 90, 'subsample': 0.75},\n",
       " mean: -6.71953, std: 0.30261, params: {'gamma': 0.001, 'learning_rate': 0.001, 'max_depth': 7, 'n_estimators': 100, 'subsample': 0.75},\n",
       " ...]"
      ]
     },
     "execution_count": 141,
     "metadata": {},
     "output_type": "execute_result"
    }
   ],
   "source": [
    "clf.grid_scores_"
   ]
  },
  {
   "cell_type": "code",
   "execution_count": 142,
   "metadata": {},
   "outputs": [
    {
     "data": {
      "text/plain": [
       "0.25369939424472759"
      ]
     },
     "execution_count": 142,
     "metadata": {},
     "output_type": "execute_result"
    }
   ],
   "source": [
    "clf.best_score_"
   ]
  },
  {
   "cell_type": "code",
   "execution_count": null,
   "metadata": {
    "collapsed": true
   },
   "outputs": [],
   "source": []
  },
  {
   "cell_type": "code",
   "execution_count": null,
   "metadata": {
    "collapsed": true
   },
   "outputs": [],
   "source": []
  },
  {
   "cell_type": "markdown",
   "metadata": {},
   "source": [
    "## Evaluate"
   ]
  },
  {
   "cell_type": "code",
   "execution_count": 187,
   "metadata": {
    "collapsed": true
   },
   "outputs": [],
   "source": [
    "from ml_metrics import quadratic_weighted_kappa"
   ]
  },
  {
   "cell_type": "code",
   "execution_count": 108,
   "metadata": {},
   "outputs": [
    {
     "data": {
      "text/plain": [
       "<function ml_metrics.quadratic_weighted_kappa.quadratic_weighted_kappa>"
      ]
     },
     "execution_count": 108,
     "metadata": {},
     "output_type": "execute_result"
    }
   ],
   "source": [
    "quadratic_weighted_kappa"
   ]
  },
  {
   "cell_type": "code",
   "execution_count": 101,
   "metadata": {},
   "outputs": [
    {
     "name": "stderr",
     "output_type": "stream",
     "text": [
      "C:\\Users\\tjdal\\Anaconda3\\lib\\site-packages\\sklearn\\cross_validation.py:44: DeprecationWarning: This module was deprecated in version 0.18 in favor of the model_selection module into which all the refactored classes and functions are moved. Also note that the interface of the new CV iterators are different from that of this module. This module will be removed in 0.20.\n",
      "  \"This module will be removed in 0.20.\", DeprecationWarning)\n",
      "C:\\Users\\tjdal\\Anaconda3\\lib\\site-packages\\sklearn\\grid_search.py:43: DeprecationWarning: This module was deprecated in version 0.18 in favor of the model_selection module into which all the refactored classes and functions are moved. This module will be removed in 0.20.\n",
      "  DeprecationWarning)\n"
     ]
    }
   ],
   "source": [
    "from sklearn import decomposition, pipeline, metrics, grid_search"
   ]
  },
  {
   "cell_type": "code",
   "execution_count": 102,
   "metadata": {
    "collapsed": true
   },
   "outputs": [],
   "source": [
    "from sklearn.pipeline import Pipeline"
   ]
  },
  {
   "cell_type": "code",
   "execution_count": 105,
   "metadata": {
    "collapsed": true
   },
   "outputs": [],
   "source": [
    "param_grid = {'svd__n_components' : [340], 'svm__C': [17]}"
   ]
  },
  {
   "cell_type": "code",
   "execution_count": 109,
   "metadata": {
    "collapsed": true
   },
   "outputs": [],
   "source": [
    "kappa_scorer = metrics.make_scorer(quadratic_weighted_kappa, greater_is_better=True)"
   ]
  },
  {
   "cell_type": "code",
   "execution_count": 110,
   "metadata": {
    "collapsed": true
   },
   "outputs": [],
   "source": [
    " model = GridSearchCV(estimator = clf, param_grid=param_grid, scoring=kappa_scorer,\n",
    "                                 verbose=10, n_jobs=-1, cv=2)"
   ]
  },
  {
   "cell_type": "code",
   "execution_count": 92,
   "metadata": {
    "collapsed": true
   },
   "outputs": [],
   "source": [
    " model = grid_search.GridSearchCV(estimator = clf, param_grid=param_grid, scoring=kappa_scorer,\n",
    "                                 verbose=10, n_jobs=-1, cv=2)"
   ]
  },
  {
   "cell_type": "code",
   "execution_count": 89,
   "metadata": {},
   "outputs": [
    {
     "name": "stdout",
     "output_type": "stream",
     "text": [
      "10157\n",
      "10157\n"
     ]
    }
   ],
   "source": [
    "print(len(X))\n",
    "print(len(y))"
   ]
  },
  {
   "cell_type": "code",
   "execution_count": null,
   "metadata": {
    "collapsed": true
   },
   "outputs": [],
   "source": []
  },
  {
   "cell_type": "code",
   "execution_count": null,
   "metadata": {
    "collapsed": true
   },
   "outputs": [],
   "source": []
  },
  {
   "cell_type": "code",
   "execution_count": null,
   "metadata": {
    "collapsed": true
   },
   "outputs": [],
   "source": []
  },
  {
   "cell_type": "code",
   "execution_count": null,
   "metadata": {
    "collapsed": true
   },
   "outputs": [],
   "source": []
  }
 ],
 "metadata": {
  "kernelspec": {
   "display_name": "Python 3",
   "language": "python",
   "name": "python3"
  },
  "language_info": {
   "codemirror_mode": {
    "name": "ipython",
    "version": 3
   },
   "file_extension": ".py",
   "mimetype": "text/x-python",
   "name": "python",
   "nbconvert_exporter": "python",
   "pygments_lexer": "ipython3",
   "version": "3.6.1"
  }
 },
 "nbformat": 4,
 "nbformat_minor": 2
}
