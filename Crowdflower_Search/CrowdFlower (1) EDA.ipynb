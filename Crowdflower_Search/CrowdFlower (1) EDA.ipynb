{
 "cells": [
  {
   "cell_type": "markdown",
   "metadata": {},
   "source": [
    "# Crowdflower Search Result Relevance"
   ]
  },
  {
   "cell_type": "markdown",
   "metadata": {},
   "source": [
    "* 설명\n",
    "  * 검색 결과의 관련성을 측정하는 데 사용할 수있는 오픈 소스 모델을 만드는 것\n",
    "  * 전자 상거래 사이트의 검색어 및 결과 제품, 제품 설명을 통해 검색 알고리즘의 정확성을 평가"
   ]
  },
  {
   "cell_type": "markdown",
   "metadata": {},
   "source": [
    "* 평가\n",
    "  * 두 등급 간의 일치도를 측정하는 quadratic weighted kappa 기준으로 채점\n",
    "  * 인간의 평가 점수와 예측 평가 점수의 일치도 측정\n",
    "  * 0 (평가자 간의 임의 합의)에서 1 (평가자 간의 완전한 합의)"
   ]
  },
  {
   "cell_type": "markdown",
   "metadata": {},
   "source": [
    "* ### Data 설명"
   ]
  },
  {
   "cell_type": "markdown",
   "metadata": {},
   "source": [
    "* train.csv - training data set\n",
    "  - id : 제품 ID\n",
    "  - query : 검색어 사용\n",
    "  - product title : 제품 이름\n",
    "  - product_description : HTML 형식 지정 태그와 함께 전체 제품 설명\n",
    "  - median_relevance : 3 명의 평가자에 의한 중앙 관련성 점수. 1 - 4 사이의 정수\n",
    "  - relevance_variance : 평가자가 준 관련성 점수의 편차. "
   ]
  },
  {
   "cell_type": "markdown",
   "metadata": {},
   "source": [
    "* test.csv - test data set\n",
    "  - id : 제품 ID\n",
    "  - query : 검색어 사용\n",
    "  - product title : 제품 이름\n",
    "  - product_description : HTML 형식 지정 태그와 함께 전체 제품 설명"
   ]
  },
  {
   "cell_type": "markdown",
   "metadata": {},
   "source": [
    "* ampleSubmission.csv - sample submission correct format\n",
    "  - id : 제품 ID\n",
    "  - prediction : 예측 값"
   ]
  },
  {
   "cell_type": "markdown",
   "metadata": {},
   "source": [
    "# Training Goal"
   ]
  },
  {
   "cell_type": "markdown",
   "metadata": {},
   "source": [
    "* Modeling 을 진행하기에 앞서 Data Preprocessing 및 Back of Word 진행"
   ]
  },
  {
   "cell_type": "markdown",
   "metadata": {},
   "source": [
    "# Process"
   ]
  },
  {
   "cell_type": "markdown",
   "metadata": {},
   "source": [
    "* ### Back of Word\n",
    "  * query 와 title, description 을 구분하여 진행\n",
    "  * TF-IDF 를 통해 Back of Word 진행"
   ]
  },
  {
   "cell_type": "markdown",
   "metadata": {},
   "source": [
    "* ### Preprocessing\n",
    "  1. HTML tag 제거 : **BeautifulSoup**\n",
    "  2. string type 이 아닌 vlaue 변환\n",
    "  3. query / title / description 분리 및 corpus 생성\n",
    "  4. text 소문자로 변환\n",
    "  5. 알파벳, 숫자만 존재하도록 정규표현식 사용\n",
    "  6. 'english' stopwords 적용\n",
    "  7. stemming : **PorterStemmer**\n",
    "  8. Back of Word : **TF-IDF**\n",
    "  9. stack : query / title / description 모두 사용한 버전과 query / title 만을 사용한 두가지 버전 생성"
   ]
  },
  {
   "cell_type": "code",
   "execution_count": 5,
   "metadata": {
    "collapsed": true
   },
   "outputs": [],
   "source": [
    "import numpy as np\n",
    "import pandas as pd\n",
    "import sklearn as sk\n",
    "\n",
    "import matplotlib as mpl\n",
    "import matplotlib.pylab as plt\n",
    "from mpl_toolkits.mplot3d import Axes3D\n",
    "\n",
    "from sklearn.metrics import confusion_matrix, classification_report, roc_curve, auc, roc_auc_score, accuracy_score\n",
    "\n",
    "from nltk.corpus import stopwords\n",
    "from nltk.stem import PorterStemmer\n",
    "from scipy.sparse import hstack\n",
    "\n",
    "import re\n",
    "import joblib\n",
    "from joblib import dump, load\n",
    "from bs4 import BeautifulSoup\n",
    "\n",
    "pd.options.display.max_columns = 400\n",
    "pd.options.display.max_rows = 200\n",
    "pd.options.display.max_colwidth = 600\n",
    "pd.options.display.precision = 10"
   ]
  },
  {
   "cell_type": "markdown",
   "metadata": {},
   "source": [
    "## Data load / Variables define"
   ]
  },
  {
   "cell_type": "markdown",
   "metadata": {},
   "source": [
    "* train data / test data / submission data load"
   ]
  },
  {
   "cell_type": "code",
   "execution_count": 6,
   "metadata": {
    "collapsed": true
   },
   "outputs": [],
   "source": [
    "df_train = pd.read_excel(\"./__data/excel/train.xlsx\").fillna(\"\")\n",
    "df_test = pd.read_excel(\"./__data/excel/test.xlsx\").fillna(\"\")"
   ]
  },
  {
   "cell_type": "code",
   "execution_count": 3,
   "metadata": {
    "collapsed": true
   },
   "outputs": [],
   "source": [
    "y = df_train['median_relevance']"
   ]
  },
  {
   "cell_type": "code",
   "execution_count": 14,
   "metadata": {},
   "outputs": [
    {
     "data": {
      "text/html": [
       "<div>\n",
       "<style>\n",
       "    .dataframe thead tr:only-child th {\n",
       "        text-align: right;\n",
       "    }\n",
       "\n",
       "    .dataframe thead th {\n",
       "        text-align: left;\n",
       "    }\n",
       "\n",
       "    .dataframe tbody tr th {\n",
       "        vertical-align: top;\n",
       "    }\n",
       "</style>\n",
       "<table border=\"1\" class=\"dataframe\">\n",
       "  <thead>\n",
       "    <tr style=\"text-align: right;\">\n",
       "      <th></th>\n",
       "      <th>id</th>\n",
       "      <th>query</th>\n",
       "      <th>product_title</th>\n",
       "      <th>product_description</th>\n",
       "      <th>median_relevance</th>\n",
       "      <th>relevance_variance</th>\n",
       "    </tr>\n",
       "  </thead>\n",
       "  <tbody>\n",
       "    <tr>\n",
       "      <th>0</th>\n",
       "      <td>1</td>\n",
       "      <td>bridal shower decorations</td>\n",
       "      <td>Accent Pillow with Heart Design - Red/Black</td>\n",
       "      <td>Red satin accent pillow embroidered with a heart in black thread. 8\" x 8\".</td>\n",
       "      <td>1</td>\n",
       "      <td>0.000</td>\n",
       "    </tr>\n",
       "    <tr>\n",
       "      <th>1</th>\n",
       "      <td>2</td>\n",
       "      <td>led christmas lights</td>\n",
       "      <td>Set of 10 Battery Operated Multi LED Train Christmas Lights - Clear Wire</td>\n",
       "      <td>Set of 10 Battery Operated Train Christmas Lights Item #X124210 Features: Color: multi-color bulbs with matching train light covers / clear wire Multi-color consists of red, green, blue and yellow bulbs Number of bulbs on string: 10 Bulb size: micro LED Spacing between bulbs: 6 inches Lighted length: 4.5 feet Total length: 5.5 feet 12 inch lead cord Additional product features: LED lights use 90% less energy Cool to the touch If one bulb burns out, the rest will stay lit Lights are equipped with Lamp Lock feature, which makes them replaceable, interchangeable and keeps them from falling ou...</td>\n",
       "      <td>4</td>\n",
       "      <td>0.000</td>\n",
       "    </tr>\n",
       "    <tr>\n",
       "      <th>2</th>\n",
       "      <td>4</td>\n",
       "      <td>projector</td>\n",
       "      <td>ViewSonic Pro8200 DLP Multimedia Projector</td>\n",
       "      <td></td>\n",
       "      <td>4</td>\n",
       "      <td>0.471</td>\n",
       "    </tr>\n",
       "    <tr>\n",
       "      <th>3</th>\n",
       "      <td>5</td>\n",
       "      <td>wine rack</td>\n",
       "      <td>Concept Housewares WR-44526 Solid-Wood Ceiling/Wall-Mount Wine Rack, Charcoal Grey, 6 Bottle</td>\n",
       "      <td>Like a silent and sturdy tree, the Southern Enterprises Bird and Branch Coat Rack is an eye-catching addition to your home d챕cor. This tree themed coat rack features strong branches with pinecone accents and a small bird perched at the top to give it a whimsical and welcoming appearance while still making it sturdy enough to hold your coats, hats, umbrellas and more. Whether it serves as a coat rack, a hat rack or a combination of the two, it?셪l be a great space saver that gets appreciated for its graceful appearance.\\nNumber of Hooks: 10\\nFrame Material: Metal\\nHardware Material: Metal\\nD...</td>\n",
       "      <td>4</td>\n",
       "      <td>0.000</td>\n",
       "    </tr>\n",
       "    <tr>\n",
       "      <th>4</th>\n",
       "      <td>7</td>\n",
       "      <td>light bulb</td>\n",
       "      <td>Wintergreen Lighting Christmas LED Light Bulb (Pack of 25)</td>\n",
       "      <td>WTGR1011\\nFeatures\\nNickel base, 60,000 average hours, acrylic resin bulb material\\nChristmas light bulb\\nSteady dimmable replacement lamps\\nNickel bases prevent corrosion in sockets\\nWattage: 0.96 Watts\\nVoltage: 130 Volts\\nDimmable: Yes\\nLight Source: LED\\nBulb Shape Type: Candle\\n\\nColor Amber\\nBulb Color: Amber</td>\n",
       "      <td>2</td>\n",
       "      <td>0.471</td>\n",
       "    </tr>\n",
       "  </tbody>\n",
       "</table>\n",
       "</div>"
      ],
      "text/plain": [
       "   id                      query  \\\n",
       "0   1  bridal shower decorations   \n",
       "1   2       led christmas lights   \n",
       "2   4                  projector   \n",
       "3   5                  wine rack   \n",
       "4   7                 light bulb   \n",
       "\n",
       "                                                                                  product_title  \\\n",
       "0                                                   Accent Pillow with Heart Design - Red/Black   \n",
       "1                      Set of 10 Battery Operated Multi LED Train Christmas Lights - Clear Wire   \n",
       "2                                                    ViewSonic Pro8200 DLP Multimedia Projector   \n",
       "3  Concept Housewares WR-44526 Solid-Wood Ceiling/Wall-Mount Wine Rack, Charcoal Grey, 6 Bottle   \n",
       "4                                    Wintergreen Lighting Christmas LED Light Bulb (Pack of 25)   \n",
       "\n",
       "                                                                                                                                                                                                                                                                                                                                                                                                                                                                                                                                                                                                       product_description  \\\n",
       "0                                                                                                                                                                                                                                                                                                                                                                                                                                                                                                                                               Red satin accent pillow embroidered with a heart in black thread. 8\" x 8\".   \n",
       "1  Set of 10 Battery Operated Train Christmas Lights Item #X124210 Features: Color: multi-color bulbs with matching train light covers / clear wire Multi-color consists of red, green, blue and yellow bulbs Number of bulbs on string: 10 Bulb size: micro LED Spacing between bulbs: 6 inches Lighted length: 4.5 feet Total length: 5.5 feet 12 inch lead cord Additional product features: LED lights use 90% less energy Cool to the touch If one bulb burns out, the rest will stay lit Lights are equipped with Lamp Lock feature, which makes them replaceable, interchangeable and keeps them from falling ou...   \n",
       "2                                                                                                                                                                                                                                                                                                                                                                                                                                                                                                                                                                                                                            \n",
       "3  Like a silent and sturdy tree, the Southern Enterprises Bird and Branch Coat Rack is an eye-catching addition to your home d챕cor. This tree themed coat rack features strong branches with pinecone accents and a small bird perched at the top to give it a whimsical and welcoming appearance while still making it sturdy enough to hold your coats, hats, umbrellas and more. Whether it serves as a coat rack, a hat rack or a combination of the two, it?셪l be a great space saver that gets appreciated for its graceful appearance.\\nNumber of Hooks: 10\\nFrame Material: Metal\\nHardware Material: Metal\\nD...   \n",
       "4                                                                                                                                                                                                                                                                                             WTGR1011\\nFeatures\\nNickel base, 60,000 average hours, acrylic resin bulb material\\nChristmas light bulb\\nSteady dimmable replacement lamps\\nNickel bases prevent corrosion in sockets\\nWattage: 0.96 Watts\\nVoltage: 130 Volts\\nDimmable: Yes\\nLight Source: LED\\nBulb Shape Type: Candle\\n\\nColor Amber\\nBulb Color: Amber   \n",
       "\n",
       "   median_relevance  relevance_variance  \n",
       "0                 1               0.000  \n",
       "1                 4               0.000  \n",
       "2                 4               0.471  \n",
       "3                 4               0.000  \n",
       "4                 2               0.471  "
      ]
     },
     "execution_count": 14,
     "metadata": {},
     "output_type": "execute_result"
    }
   ],
   "source": [
    "df_train.head()"
   ]
  },
  {
   "cell_type": "code",
   "execution_count": 13,
   "metadata": {
    "scrolled": true
   },
   "outputs": [
    {
     "data": {
      "text/plain": [
       "'<ul>\\n\\t\\t<li>\\n\\t\\t\\tEnglish \\n\\t\\t\\t\\t</li>\\n    \\t<li>\\n    \\t\\t    \\n    \\t</li>\\n    \\t<li>\\n    \\t\\t\\t \\n    \\t\\t\\t \\n    \\t\\t</li>\\n    \\t</ul>\\n\\n    \\n\\t\\t\\tThis translation tool is for your convenience only. The accuracy and accessibility of the resulting translation is not guaranteed.\\n\\t\\n\\t\\n\\n\\n\\n\\t\\t\\n\\t\\t\\n\\t\\t\\t\\t\\t\\t\\t<ul>\\n\\t\\t\\t\\t\\t\\t\\t\\t<li>\\n\\t\\t\\t\\t\\t\\t\\t\\t\\t\\tEnglishEnglish\\n\\t\\t\\t\\t\\t\\t\\t\\t\\t\\t\\t</li>\\n\\t\\t\\t\\t\\t\\t\\t\\t<li>\\n\\t\\t\\t\\t\\t\\t\\t碼?晩邈磨?馬Arabic\\n\\t\\t\\t\\t\\t\\t\\t\\t</li>\\n\\t\\t\\t\\t\\t<li>\\n\\t\\t\\t\\t\\t\\t\\t訝?뻼竊덄?鵝볩펹Chinese (Simplified)\\n\\t\\t\\t\\t\\t\\t\\t\\t</li>\\n\\t\\t\\t\\t\\t<li>\\n\\t\\t\\t\\t\\t\\t\\t訝?뻼竊덄퉩鵝볩펹Chinese (Traditional)\\n\\t\\t\\t\\t\\t\\t\\t\\t</li>\\n\\t\\t\\t\\t\\t<li>\\n\\t\\t\\t\\t\\t\\t\\t훻eskyCzech\\n\\t\\t\\t\\t\\t\\t\\t\\t</li>\\n\\t\\t\\t\\t\\t<li>\\n\\t\\t\\t\\t\\t\\t\\tNederlandsDutch\\n\\t\\t\\t\\t\\t\\t\\t\\t</li>\\n\\t\\t\\t\\t\\t<li>\\n\\t\\t\\t\\t\\t\\t\\tSuomiFinnish\\n\\t\\t\\t\\t\\t\\t\\t\\t</li>\\n\\t\\t\\t\\t\\t<li>\\n\\t\\t\\t\\t\\t\\t\\t?貫貫管館菅觀郭Greek\\n\\t\\t\\t\\t\\t\\t\\t\\t</li>\\n\\t\\t\\t\\t\\t<li>\\n\\t\\t\\t\\t\\t\\t\\t鬧?淚?瘻Hebrew\\n\\t\\t\\t\\t\\t\\t\\t\\t</li>\\n\\t\\t\\t\\t\\t<li>\\n\\t\\t\\t\\t\\t\\t\\tMagyarHungarian\\n\\t\\t\\t\\t\\t\\t\\t\\t</li>\\n\\t\\t\\t\\t\\t</ul>\\n\\t\\t\\t\\t\\t\\t\\n\\t\\t\\t\\t\\t\\n\\t\\t\\t\\t\\t\\t\\t<ul>\\n\\t\\t\\t\\t\\t\\t\\t\\t<li>\\n\\t\\t\\t\\t\\t\\t\\tBahasa IndonesiaIndonesian\\n\\t\\t\\t\\t\\t\\t\\t\\t</li>\\n\\t\\t\\t\\t\\t<li>\\n\\t\\t\\t\\t\\t\\t\\t?ζ쑍沃얣apanese\\n\\t\\t\\t\\t\\t\\t\\t\\t</li>\\n\\t\\t\\t\\t\\t<li>\\n\\t\\t\\t\\t\\t\\t\\t?쒓뎅?퀻orean\\n\\t\\t\\t\\t\\t\\t\\t\\t</li>\\n\\t\\t\\t\\t\\t<li>\\n\\t\\t\\t\\t\\t\\t\\tNorskNorwegian\\n\\t\\t\\t\\t\\t\\t\\t\\t</li>\\n\\t\\t\\t\\t\\t<li>\\n\\t\\t\\t\\t\\t\\t\\tPortugu챗sPortuguese\\n\\t\\t\\t\\t\\t\\t\\t\\t</li>\\n\\t\\t\\t\\t\\t<li>\\n\\t\\t\\t\\t\\t\\t\\tRom창n훱Romanian\\n\\t\\t\\t\\t\\t\\t\\t\\t</li>\\n\\t\\t\\t\\t\\t<li>\\n\\t\\t\\t\\t\\t\\t\\t????克龜橘Russian\\n\\t\\t\\t\\t\\t\\t\\t\\t</li>\\n\\t\\t\\t\\t\\t<li>\\n\\t\\t\\t\\t\\t\\t\\tSloven훾inaSlovak\\n\\t\\t\\t\\t\\t\\t\\t\\t</li>\\n\\t\\t\\t\\t\\t<li>\\n\\t\\t\\t\\t\\t\\t\\t\\n\\t\\t\\t\\t\\t\\t\\t\\t</li>\\n\\t\\t\\t\\t\\t</ul>\\n\\t\\t\\t\\t\\t\\t\\n\\t\\t\\t\\t\\t\\n\\t\\t\\t\\t\\t\\t\\t<ul>\\n\\t\\t\\t\\t\\t\\t\\t\\t<li>\\n\\t\\t\\t\\t\\t\\t\\tFran챌aisFrench\\n\\t\\t\\t\\t\\t\\t\\t\\t</li>\\n\\t\\t\\t\\t\\t<li>\\n\\t\\t\\t\\t\\t\\t\\tItalianoItalian\\n\\t\\t\\t\\t\\t\\t\\t\\t</li>\\n\\t\\t\\t\\t\\t<li>\\n\\t\\t\\t\\t\\t\\t\\tEspa챰olSpanish\\n\\t\\t\\t\\t\\t\\t\\t\\t</li>\\n\\t\\t\\t\\t\\t<li>\\n\\t\\t\\t\\t\\t\\t\\tSvenskaSwedish\\n\\t\\t\\t\\t\\t\\t\\t\\t</li>\\n\\t\\t\\t\\t\\t<li>\\n\\t\\t\\t\\t\\t\\t\\t錫졷림錫⒯림仙꾝툠錫줥hai\\n\\t\\t\\t\\t\\t\\t\\t\\t</li>\\n\\t\\t\\t\\t\\t<li>\\n\\t\\t\\t\\t\\t\\t\\tT체rk챌eTurkish\\n\\t\\t\\t\\t\\t\\t\\t\\t</li>\\n\\t\\t\\t\\t\\t<li>\\n\\t\\t\\t\\t\\t\\t\\t叫克?逵??戟??克逵Ukrainian\\n\\t\\t\\t\\t\\t\\t\\t\\t</li>\\n\\t\\t\\t\\t\\t<li>\\n\\t\\t\\t\\t\\t\\t\\tTi梳퓆g Vi沼뇍Vietnamese\\n\\t\\t\\t\\t\\t\\t\\t\\t</li>\\n\\t\\t\\t\\t\\t</ul>\\n\\t\\t\\t\\t\\t\\t\\n\\t\\t\\t\\t\\t\\n\\t\\t\\n\\t\\t\\t<ul>\\n\\t\\t\\t\\t<li></li>\\n\\t\\t\\t\\t<li>Note: The accuracy and accessibility of the resulting translation is not guaranteed.</li>\\n\\t\\t\\t</ul>\\n\\t\\t\\n\\t\\n\\n\\t\\n\\n\\t\\t\\t\\t\\n\\t\\t\\t\\n\\t\\t\\n\\teBay item number:221704844665\\n\\n\\n\\tSeller assumes all responsibility for this listing.\\n\\t\\n\\t\\tLast updated on\\n\\t\\t&nbsp;Apr 29, 2015 19:01:47 PDT&nbsp;\\n\\t\\tView all revisions\\n\\t\\t\\n\\t\\n\\n\\t\\t\\n\\t\\t\\t\\n\\t\\t\\t\\t\\t<strong>Item specifics</strong>\\n\\t\\t\\t\\t\\t<table>\\n\\t\\t\\t\\t\\t\\t\\n\\t\\t\\t\\t\\t\\t<tr>\\n\\t\\t\\t\\t\\t\\t\\t\\t\\t<td>\\n\\t\\t\\t\\t\\t\\t\\t\\t\\t \\t\\t\\tCondition:</td>\\n\\t\\t\\t\\t\\t\\t\\t\\t\\t\\t\\t \\n\\t\\t\\t\\t\\t\\t\\t\\t\\t\\t\\t<td>\\n\\t\\t\\t\\t\\t\\t\\t\\t\\t\\t\\t\\t\\n\\t\\t\\t\\t\\t\\t\\t\\t\\t\\t\\t\\t\\t\\t\\t\\t\\t\\n\\t\\t\\t\\t\\t\\t\\t\\t\\t\\t\\t\\t\\t\\t\\t\\n\\t\\t\\t\\t\\t\\t\\t\\t\\t\\t\\t\\t\\t\\t\\t\\n\\t\\t\\t\\t\\t\\t\\t\\t\\t\\t\\t\\t\\t\\t\\t\\n\\t\\t\\t\\t\\t\\t\\t\\t\\t\\t\\t\\t\\t\\t\\t\\tNew: A brand-new, unused, unopened, undamaged item (including handmade items). See the seller\\'s listing \\n\\t\\t\\t\\t\\t\\t\\t\\t\\t\\t\\t\\t\\t\\t\\t\\t\\n\\t\\t\\t\\t\\t\\t\\t\\t\\t\\t\\t\\t\\t\\t\\t\\t\\t\\t\\tfor full details.\\n\\t\\t\\t\\t\\t\\t\\t\\t\\t\\t\\t\\t\\t\\t\\t\\t\\t\\t\\t\\t\\tSee all condition definitions<strong>- opens in a new window or tab</strong>\\n\\t\\t\\t\\t\\t\\t\\t\\t\\t\\t\\t\\t\\t\\t\\t\\t\\t\\t\\t\\n\\t\\t\\t\\t\\t\\t\\t\\t\\t\\t\\t\\t\\t\\t\\t\\t\\t\\t\\n\\t\\t\\t\\t\\t\\t\\t\\t\\t\\t\\t\\t\\t\\t\\t\\t\\t\\t\\n\\t\\t\\t\\t\\t\\t\\t\\t\\t\\t\\t\\t\\t\\t\\t\\t\\t\\t\\n\\t\\t\\t\\t\\t\\t\\t\\t\\t\\t\\t\\t\\t\\t\\t\\t\\t\\t\\t... Read more<strong>about the condition</strong>\\t\\n\\t\\t\\t\\t\\t\\t\\t\\t\\t\\t\\t\\t\\t\\t\\t\\t\\t\\t\\n\\t\\t\\t\\t\\t\\t\\t\\t\\t\\t\\t\\t\\t\\t\\t\\t\\t\\n\\t\\t\\t\\t\\t\\t\\t\\t\\t\\t\\t\\t\\t\\t\\t\\n\\t\\t\\t\\t\\t\\t\\t\\t\\t\\t\\t\\t\\t\\t\\n\\t\\t\\t\\t\\t\\t\\t\\t\\t\\t\\t\\t\\t</td>\\n\\t\\t\\t\\t\\t\\t\\t\\t\\t\\t<td>\\n\\t\\t\\t\\t\\t\\t\\t\\t\\t \\t\\t\\tBrand: </td>\\n\\t\\t\\t\\t\\t\\t\\t\\t\\t\\t\\t \\n\\t\\t\\t\\t\\t\\t\\t\\t\\t\\t\\t<td>\\n\\t\\t\\t\\t\\t\\t\\t\\t\\t\\t\\t\\t<strong>LEGO</strong></td>\\n\\t\\t\\t\\t\\t\\t\\t\\t\\t\\t</tr>\\n\\t\\t\\t\\t\\t\\t\\t<tr>\\n\\t\\t\\t\\t\\t\\t\\t\\t\\t<td>\\n\\t\\t\\t\\t\\t\\t\\t\\t\\t \\t\\t\\tRecommended Age Range: </td>\\n\\t\\t\\t\\t\\t\\t\\t\\t\\t\\t\\t \\n\\t\\t\\t\\t\\t\\t\\t\\t\\t\\t\\t<td>\\n\\t\\t\\t\\t\\t\\t\\t\\t\\t\\t\\t\\t8-14</td>\\n\\t\\t\\t\\t\\t\\t\\t\\t\\t\\t<td>\\n\\t\\t\\t\\t\\t\\t\\t\\t\\t \\t\\t\\tMPN: </td>\\n\\t\\t\\t\\t\\t\\t\\t\\t\\t\\t\\t \\n\\t\\t\\t\\t\\t\\t\\t\\t\\t\\t\\t<td>\\n\\t\\t\\t\\t\\t\\t\\t\\t\\t\\t\\t\\t<strong>9494</strong></td>\\n\\t\\t\\t\\t\\t\\t\\t\\t\\t\\t</tr>\\n\\t\\t\\t\\t\\t\\t\\t<tr>\\n\\t\\t\\t\\t\\t\\t\\t\\t\\t<td>\\n\\t\\t\\t\\t\\t\\t\\t\\t\\t \\t\\t\\tType: </td>\\n\\t\\t\\t\\t\\t\\t\\t\\t\\t\\t\\t \\n\\t\\t\\t\\t\\t\\t\\t\\t\\t\\t\\t<td>\\n\\t\\t\\t\\t\\t\\t\\t\\t\\t\\t\\t\\tSets, Figures</td>\\n\\t\\t\\t\\t\\t\\t\\t\\t\\t\\t<td>\\n\\t\\t\\t\\t\\t\\t\\t\\t\\t \\t\\t\\tGender: </td>\\n\\t\\t\\t\\t\\t\\t\\t\\t\\t\\t\\t \\n\\t\\t\\t\\t\\t\\t\\t\\t\\t\\t\\t<td>\\n\\t\\t\\t\\t\\t\\t\\t\\t\\t\\t\\t\\tBoys & Girls</td>\\n\\t\\t\\t\\t\\t\\t\\t\\t\\t\\t</tr>\\n\\t\\t\\t\\t\\t\\t\\t<tr>\\n\\t\\t\\t\\t\\t\\t\\t\\t\\t<td>\\n\\t\\t\\t\\t\\t\\t\\t\\t\\t \\t\\t\\tYear: </td>\\n\\t\\t\\t\\t\\t\\t\\t\\t\\t\\t\\t \\n\\t\\t\\t\\t\\t\\t\\t\\t\\t\\t\\t<td>\\n\\t\\t\\t\\t\\t\\t\\t\\t\\t\\t\\t\\t2,012</td>\\n\\t\\t\\t\\t\\t\\t\\t\\t\\t\\t<td>\\n\\t\\t\\t\\t\\t\\t\\t\\t\\t \\t\\t\\tCharacter Family: </td>\\n\\t\\t\\t\\t\\t\\t\\t\\t\\t\\t\\t \\n\\t\\t\\t\\t\\t\\t\\t\\t\\t\\t\\t<td>\\n\\t\\t\\t\\t\\t\\t\\t\\t\\t\\t\\t\\tObi-Wan Kenobi, R2-D2, Anakin Skywalker</td>\\n\\t\\t\\t\\t\\t\\t\\t\\t\\t\\t</tr>\\n\\t\\t\\t\\t\\t\\t\\t\\n\\t\\t\\t\\t\\t\\t\\t</table>\\n\\t\\t\\t\\t\\t\\t\\n\\t\\t\\t\\t\\t\\n\\t\\t\\t\\n\\t\\n\\t\\t\\n\\t\\t\\t<strong>Detailed item info</strong>\\n\\t\\t\\t<table><tr><td><?xml version=\"1.0\" encoding=\"utf-8\"?><table><tr><td><strong>Product Highlights</strong></td></tr><tr><td>Video</td><td></td></tr><tr><td><br/></td></tr><tr><td><strong>Product Identifiers</strong></td></tr><tr><td>Brand</td><td>LEGO</td></tr><tr><td>Model</td><td>Anakin\\'s Jedi Interceptor</td></tr><tr><td>MPN</td><td>9494</td></tr><tr><td>UPC</td><td>673419168045</td></tr><tr><td><br/></td></tr><tr><td><strong>Key Features</strong></td></tr><tr><td>Theme</td><td>Star Wars</td></tr><tr><td>Character</td><td>Anakin Skywalker, Obi-Wan Kenobi, R2-D2</td></tr><tr><td>Recommended Age</td><td>8-14</td></tr><tr><td>Type</td><td>Figures, Sets</td></tr><tr><td><br/></td></tr></table></td></tr></table>\\t\\t\\t\\n\\t\\t\\t\\n\\t\\n\\n\\t\\t\\t\\t<table>\\n\\t<tr>\\n\\t\\t<td>\\n\\t\\t\\t<table><tbody><tr><td><p><br></br></p><p><br></br></p><p>*</p><p><strong><em>FACTORY SEALED</em></strong></p><p><strong><em>MISB!</em></strong></p><p><strong>See my HD pictures for quality of the set/box.</strong></p><p><br></br></p><p>Don\\'t forget to check out the&nbsp;other items&nbsp;I have up for auction too!</p><p></p><p></p><p></p></td></tr></tbody></table> \\n\\n  \\n\\n\\n\\t\\t</td>\\n\\t</tr>\\n</table>\\n\\n\\n\\t\\t\\t\\t\\n\\t\\n\\t\\t<strong>Questions and answers about this item</strong>\\n\\t\\t\\n\\t\\n\\t\\n\\t\\tNo questions or answers have been posted about this item.\\n\\t\\n\\t\\tAsk a question<strong> - opens in a new window or tab</strong>\\n\\t\\t\\t\\t\\n\\n\\n\\t<br/><br/><br/><br/>\\n\\t\\n\\t\\t00860'"
      ]
     },
     "execution_count": 13,
     "metadata": {},
     "output_type": "execute_result"
    }
   ],
   "source": [
    "df_test['product_description'][8]"
   ]
  },
  {
   "cell_type": "markdown",
   "metadata": {},
   "source": [
    "* HTML tags 제거"
   ]
  },
  {
   "cell_type": "code",
   "execution_count": 7,
   "metadata": {
    "collapsed": true
   },
   "outputs": [
    {
     "name": "stderr",
     "output_type": "stream",
     "text": [
      "C:\\Users\\JI SEONG MIN\\Anaconda3\\lib\\site-packages\\ipykernel_launcher.py:4: SettingWithCopyWarning: \n",
      "A value is trying to be set on a copy of a slice from a DataFrame\n",
      "\n",
      "See the caveats in the documentation: http://pandas.pydata.org/pandas-docs/stable/indexing.html#indexing-view-versus-copy\n",
      "  after removing the cwd from sys.path.\n",
      "C:\\Users\\JI SEONG MIN\\Anaconda3\\lib\\site-packages\\bs4\\__init__.py:282: UserWarning: \"http://i104.photobucket.com/albums/m175/champions_on_display/wincraft2013/januaryb/65497012.jpg\" looks like a URL. Beautiful Soup is not an HTTP client. You should probably use an HTTP client like requests to get the document behind the URL, and feed that document to Beautiful Soup.\n",
      "  ' that document to Beautiful Soup.' % decoded_markup\n",
      "C:\\Users\\JI SEONG MIN\\Anaconda3\\lib\\site-packages\\bs4\\__init__.py:282: UserWarning: \"http://i104.photobucket.com/albums/m175/champions_on_display/wincraft2013/januaryb/65516012.jpg\" looks like a URL. Beautiful Soup is not an HTTP client. You should probably use an HTTP client like requests to get the document behind the URL, and feed that document to Beautiful Soup.\n",
      "  ' that document to Beautiful Soup.' % decoded_markup\n",
      "C:\\Users\\JI SEONG MIN\\Anaconda3\\lib\\site-packages\\bs4\\__init__.py:282: UserWarning: \"http://i104.photobucket.com/albums/m175/champions_on_display/wincraft2013/januaryb/6552101\" looks like a URL. Beautiful Soup is not an HTTP client. You should probably use an HTTP client like requests to get the document behind the URL, and feed that document to Beautiful Soup.\n",
      "  ' that document to Beautiful Soup.' % decoded_markup\n"
     ]
    },
    {
     "name": "stdout",
     "output_type": "stream",
     "text": [
      "Wall time: 18min 10s\n"
     ]
    }
   ],
   "source": [
    "%%time\n",
    "f_names = ['query', 'product_title', 'product_description']\n",
    "for feat in f_names:\n",
    "    for num in range(len(df_train)):\n",
    "        df_train[feat][num] = BeautifulSoup(df_train[feat][num], \"lxml\").text"
   ]
  },
  {
   "cell_type": "code",
   "execution_count": 80,
   "metadata": {
    "collapsed": true
   },
   "outputs": [
    {
     "name": "stderr",
     "output_type": "stream",
     "text": [
      "C:\\Users\\JI SEONG MIN\\Anaconda3\\lib\\site-packages\\ipykernel_launcher.py:4: SettingWithCopyWarning: \n",
      "A value is trying to be set on a copy of a slice from a DataFrame\n",
      "\n",
      "See the caveats in the documentation: http://pandas.pydata.org/pandas-docs/stable/indexing.html#indexing-view-versus-copy\n",
      "  after removing the cwd from sys.path.\n",
      "C:\\Users\\JI SEONG MIN\\Anaconda3\\lib\\site-packages\\bs4\\__init__.py:282: UserWarning: \"http://i104.photobucket.com/albums/m175/champions_on_display/wincraft2013/januaryb/65527\" looks like a URL. Beautiful Soup is not an HTTP client. You should probably use an HTTP client like requests to get the document behind the URL, and feed that document to Beautiful Soup.\n",
      "  ' that document to Beautiful Soup.' % decoded_markup\n",
      "C:\\Users\\JI SEONG MIN\\Anaconda3\\lib\\site-packages\\bs4\\__init__.py:282: UserWarning: \"http://i104.photobucket.com/albums/m175/champions_on_display/wincraft2013/januarya/14146012.jpg\" looks like a URL. Beautiful Soup is not an HTTP client. You should probably use an HTTP client like requests to get the document behind the URL, and feed that document to Beautiful Soup.\n",
      "  ' that document to Beautiful Soup.' % decoded_markup\n"
     ]
    },
    {
     "name": "stdout",
     "output_type": "stream",
     "text": [
      "Wall time: 42min 13s\n"
     ]
    }
   ],
   "source": [
    "%%time\n",
    "f_names = ['query', 'product_title', 'product_description']\n",
    "for feat in f_names:\n",
    "    for num in range(len(df_test)):\n",
    "        df_test[feat][num] = BeautifulSoup(df_test[feat][num], \"lxml\").text"
   ]
  },
  {
   "cell_type": "markdown",
   "metadata": {},
   "source": [
    "* change value, not string"
   ]
  },
  {
   "cell_type": "code",
   "execution_count": 4,
   "metadata": {},
   "outputs": [
    {
     "name": "stdout",
     "output_type": "stream",
     "text": [
      "df_test / product_title / index : 13493 / value : 21.5\n",
      "df_test / product_title / index : 14627 / value : 28\n",
      "df_test / product_title / index : 16065 / value : 60\n",
      "df_test / product_title / index : 16987 / value : 7.75\n",
      "df_test / product_title / index : 17460 / value : 12.5\n",
      "df_test / product_title / index : 19751 / value : 41.5\n"
     ]
    }
   ],
   "source": [
    "def str_check(d_train, d_test):\n",
    "    f_names = ['query', 'product_title', 'product_description']\n",
    "    frame_list = [d_train, d_test]\n",
    "    frame_name = ['df_train', 'df_test']\n",
    "    for frame in range(len(frame_list)):\n",
    "        for feat in f_names:\n",
    "            for num in range(len(frame_list[frame])):\n",
    "                if type(frame_list[frame][feat][num]) != str:\n",
    "                    print(frame_name[frame], '/', feat, '/', 'index :', num, '/', 'value :', frame_list[frame][feat][num])\n",
    "                    \n",
    "str_check(df_train, df_test)"
   ]
  },
  {
   "cell_type": "code",
   "execution_count": 5,
   "metadata": {},
   "outputs": [
    {
     "name": "stderr",
     "output_type": "stream",
     "text": [
      "C:\\Users\\JI SEONG MIN\\Anaconda3\\lib\\site-packages\\ipykernel_launcher.py:9: SettingWithCopyWarning: \n",
      "A value is trying to be set on a copy of a slice from a DataFrame\n",
      "\n",
      "See the caveats in the documentation: http://pandas.pydata.org/pandas-docs/stable/indexing.html#indexing-view-versus-copy\n",
      "  if __name__ == '__main__':\n"
     ]
    }
   ],
   "source": [
    "def convert_str(d_train, d_test):\n",
    "    f_names = ['query', 'product_title', 'product_description']\n",
    "    frame_list = [d_train, d_test]\n",
    "    frame_name = ['df_train', 'df_test']\n",
    "    for frame in range(len(frame_list)):\n",
    "        for feat in f_names:\n",
    "            for num in range(len(frame_list[frame])):\n",
    "                if type(frame_list[frame][feat][num]) != str:\n",
    "                    frame_list[frame][feat][num] = str(frame_list[frame][feat][num])\n",
    "                    \n",
    "convert_str(df_train, df_test)"
   ]
  },
  {
   "cell_type": "code",
   "execution_count": 83,
   "metadata": {
    "collapsed": true
   },
   "outputs": [],
   "source": [
    "df_train.to_csv('./df_train.csv', index=False)"
   ]
  },
  {
   "cell_type": "code",
   "execution_count": 84,
   "metadata": {
    "collapsed": true
   },
   "outputs": [],
   "source": [
    "df_test.to_csv('./df_test.csv', index=False)"
   ]
  },
  {
   "cell_type": "code",
   "execution_count": 2,
   "metadata": {
    "collapsed": true
   },
   "outputs": [],
   "source": [
    "df_train = pd.read_excel(\"./__data/excel/df_train.xlsx\").fillna(\"\")\n",
    "df_test = pd.read_excel(\"./__data/excel/df_test.xlsx\").fillna(\"\")"
   ]
  },
  {
   "cell_type": "markdown",
   "metadata": {},
   "source": [
    "## query / title / description 분리"
   ]
  },
  {
   "cell_type": "code",
   "execution_count": 15,
   "metadata": {
    "collapsed": true
   },
   "outputs": [],
   "source": [
    "train_q = list(df_train['query'])\n",
    "train_t = list(df_train['product_title'])\n",
    "train_d = list(df_train['product_description'])\n",
    "\n",
    "test_q = list(df_test['query'])\n",
    "test_t = list(df_test['product_title'])\n",
    "test_d = list(df_test['product_description'])"
   ]
  },
  {
   "cell_type": "code",
   "execution_count": 16,
   "metadata": {},
   "outputs": [
    {
     "data": {
      "text/plain": [
       "['bridal shower decorations',\n",
       " 'led christmas lights',\n",
       " 'projector',\n",
       " 'wine rack',\n",
       " 'light bulb',\n",
       " 'oakley polarized radar',\n",
       " 'boyfriend jeans',\n",
       " 'screen protector samsung',\n",
       " 'pots and pans set',\n",
       " 'waffle maker',\n",
       " 'oakley radar',\n",
       " 'workout clothes for women',\n",
       " 'decorative pillows',\n",
       " 'wall clocks',\n",
       " 'cuisinart coffee maker',\n",
       " 'thomas the train',\n",
       " 'silver necklace',\n",
       " 'bluray hobbit extended',\n",
       " 'cat grass',\n",
       " 'soda stream',\n",
       " 'microwave',\n",
       " 'aqua shoes',\n",
       " 'leather mens briefcase',\n",
       " 'girls halloween costumes',\n",
       " 'knife victorinox',\n",
       " 'micro usb to hdmi',\n",
       " 'zippo',\n",
       " 'sleeping bags',\n",
       " 'routers',\n",
       " 'hello kitty',\n",
       " 'golf clubs',\n",
       " 'converse low top',\n",
       " 'memory foam pillow',\n",
       " 'kitchen faucet',\n",
       " 'hollister polo',\n",
       " 'dc shoes black',\n",
       " 'donut shoppe k cups',\n",
       " 'hollister polo',\n",
       " 'eye cream',\n",
       " 'plantronics corded headset',\n",
       " 'sleeping bags',\n",
       " 'ps3 wireless controller',\n",
       " 'bluesky gel nail polish',\n",
       " 'yankee candle',\n",
       " 'projector',\n",
       " 'macbook case 13 case',\n",
       " 'girls halloween costumes',\n",
       " 'iphone 5',\n",
       " 'vanity fair bras',\n",
       " 'duffle bag',\n",
       " 'white plain dinner set',\n",
       " 'dress shirts',\n",
       " 'led christmas lights',\n",
       " 'steel necklace',\n",
       " 'kitchenaid mixer',\n",
       " 'dc shoes black',\n",
       " 'duffle bag',\n",
       " 'hello kitty',\n",
       " 'pots and pans set',\n",
       " 'electric blanket',\n",
       " 'aveeno shampoo',\n",
       " 'blender',\n",
       " 'skechers womens shoes',\n",
       " 'bird seed feeder',\n",
       " 'long prom dress',\n",
       " 'led christmas lights',\n",
       " 'harleydavidson',\n",
       " 'harleydavidson',\n",
       " 'bike lock',\n",
       " 'rain jacket',\n",
       " 'duffle bag',\n",
       " 'lego star wars',\n",
       " 'reusable straws',\n",
       " 'projector',\n",
       " 'kitchenaid glass bowl',\n",
       " 'yoga mat',\n",
       " 'portable hard drive',\n",
       " 'harleydavidson',\n",
       " 'rice cooker',\n",
       " 'ps3 wireless controller',\n",
       " 'power surge protector',\n",
       " 'toaster oven',\n",
       " 'face cream',\n",
       " 'hawaiian shirt',\n",
       " 'multiple phone charger',\n",
       " 'hollister polo',\n",
       " 'table clock',\n",
       " 'rain boot',\n",
       " 'cat grass',\n",
       " 'vanity fair bras',\n",
       " 'wii microphone',\n",
       " 'high chairs',\n",
       " 'san francisco 49ers',\n",
       " 'stick vacuum',\n",
       " 'ice cream maker',\n",
       " 'an extremely goofy movie',\n",
       " 'gym gloves',\n",
       " 'double stroller',\n",
       " 'wine rack',\n",
       " 'leather mens briefcase',\n",
       " 'wall clocks',\n",
       " 'keurig coffee maker',\n",
       " 'sports bra',\n",
       " 'girls halloween costumes',\n",
       " 'patio tables',\n",
       " 'toy trucks',\n",
       " 'ray ban sunglasses',\n",
       " 'portable hard drive',\n",
       " 'sports bra',\n",
       " 'portable hard drive',\n",
       " 'tv',\n",
       " 'baseball photo frame',\n",
       " 'assassinss creed',\n",
       " 'button down shirt',\n",
       " 'martial art headgear',\n",
       " 'lc lauren conrad dresses',\n",
       " 'thomas the train',\n",
       " 'videogames ps4',\n",
       " 'vans backpack',\n",
       " 'ninja turtle socks',\n",
       " 'martial art headgear',\n",
       " 'yoga pants',\n",
       " 'aveeno shampoo',\n",
       " 'aroma diffuser',\n",
       " 'projector',\n",
       " 'ecco shoes',\n",
       " 'cuisinart coffee maker',\n",
       " 'fitbit charge',\n",
       " 'eye cream',\n",
       " 'robe',\n",
       " 'watch women fossil',\n",
       " 'aqua shoes',\n",
       " 'gucci guilty intense women',\n",
       " 'girls halloween costumes',\n",
       " 'digital camera',\n",
       " 'small brass bow',\n",
       " 'high heels shoes',\n",
       " 'yoga pants',\n",
       " 'silver necklace',\n",
       " 'gold dress',\n",
       " 'white dress',\n",
       " 'rechargable batteries',\n",
       " 'cat grass',\n",
       " 'macbook case 13 case',\n",
       " 'playstation 4',\n",
       " 'electric blanket',\n",
       " 'dr who lanyard',\n",
       " 'infinity scarf',\n",
       " 'notebook paper',\n",
       " 'waffle maker',\n",
       " 'coffee for nespresso',\n",
       " 'assassinss creed',\n",
       " '16 gb memory card',\n",
       " 'boyfriend jeans',\n",
       " 'eye cream',\n",
       " 'sweater dress',\n",
       " 'dress shirts',\n",
       " 'ecco shoes',\n",
       " 'longboard pads',\n",
       " 'glass marbles',\n",
       " 'dresses for women',\n",
       " 'screen protector samsung',\n",
       " 'wreck it ralph',\n",
       " 'white dress',\n",
       " 'wall clocks',\n",
       " 'aqua shoes',\n",
       " 'tablet accessories',\n",
       " 'gold dress',\n",
       " 'table runner',\n",
       " 'bird seed feeder',\n",
       " 'sleeping bags',\n",
       " 'candle lantern',\n",
       " 'aroma diffuser',\n",
       " 'zippo',\n",
       " 'face cream',\n",
       " 'polaroid camera',\n",
       " 'electric griddle',\n",
       " 'bike lock',\n",
       " 'fuji bike shirt',\n",
       " 'toaster oven',\n",
       " 'portable hard drive',\n",
       " 'ps3 memory card',\n",
       " 'toddler sandals',\n",
       " 'single serve coffee maker',\n",
       " 'laptop lenovo',\n",
       " 'pyrex',\n",
       " 'rachel ray cookware',\n",
       " 'macbook case 13 case',\n",
       " 'adidas fragance',\n",
       " 'adidas pants',\n",
       " 'patio umbrellas',\n",
       " 'candle chandelier',\n",
       " 'bluesky gel nail polish',\n",
       " 'yellow dress',\n",
       " 'bedspreads',\n",
       " 'vanilla scented perfumes',\n",
       " 'ipad 2 heavy duty case',\n",
       " 'kitchenaid glass bowl',\n",
       " 'snow boots',\n",
       " 'dc shoes black',\n",
       " 'outdoor table cover',\n",
       " 'keurig coffee maker',\n",
       " 'ps2 controller usb',\n",
       " 'rice cooker',\n",
       " 'cuisinart coffee maker',\n",
       " 'face cream',\n",
       " 'light bulb',\n",
       " 'dress shirts',\n",
       " 'coffee for nespresso',\n",
       " 'zippo hand warmer',\n",
       " 'road bicycle',\n",
       " 'zippo',\n",
       " 'hollister polo',\n",
       " 'bluetooth speaker',\n",
       " 'toddler sandals',\n",
       " 'micro usb to hdmi',\n",
       " 'shotgun shell pouch',\n",
       " 'macbook case 13 case',\n",
       " 'duffle bag',\n",
       " 'light bulb',\n",
       " 'cuisinart coffee maker',\n",
       " 'bike lock',\n",
       " 'kitchenaid mixer',\n",
       " 'memory foam mattress topper',\n",
       " 'cuisinart coffee maker',\n",
       " 'candle chandelier',\n",
       " 'assassinss creed',\n",
       " 'samsung galaxy phone case',\n",
       " 'coffee for nespresso',\n",
       " 'mens dress shirts',\n",
       " 'pencil skirt',\n",
       " 'minecraft diamond sword',\n",
       " 'business badge holder',\n",
       " 'shaver panasonic',\n",
       " 'sports bra',\n",
       " 'candle lantern',\n",
       " 'tablet accessories',\n",
       " 'screen protector samsung',\n",
       " 'pots and pans set',\n",
       " 'shotgun shell pouch',\n",
       " 'levis 505',\n",
       " 'outdoor table cover',\n",
       " 'cleaning robot',\n",
       " 'screen protector samsung',\n",
       " 'dean guitar',\n",
       " 'gold dress',\n",
       " 'bedspreads',\n",
       " 'playstation 4',\n",
       " 'fifa 15',\n",
       " 'hello kitty',\n",
       " 'storage drawers',\n",
       " 'playstation vita system',\n",
       " 'yellow dress',\n",
       " 'dr who lanyard',\n",
       " 'projector',\n",
       " 'iphone 4 case',\n",
       " 'sunglasses polarized',\n",
       " 'adidas pants',\n",
       " 'watch women fossil',\n",
       " 'polar heart rate monitor',\n",
       " 'soda stream',\n",
       " 'ice cream maker',\n",
       " 'ps3 memory card',\n",
       " 'polar heart rate monitor',\n",
       " 'memory foam pillow',\n",
       " 'fuji bike shirt',\n",
       " 'mens leather shirt',\n",
       " 'gold dress',\n",
       " 'toy trucks',\n",
       " 'electric griddle',\n",
       " 'cast iron skillet',\n",
       " 'car window sticker',\n",
       " 'dc shoes black',\n",
       " 'brett favre ny titans jersey blue',\n",
       " 'dress shirts',\n",
       " 'vanilla scented perfumes',\n",
       " 'yankee candle',\n",
       " 'aveeno shampoo',\n",
       " 'wine rack',\n",
       " 'single serve coffee maker',\n",
       " 'lego star wars',\n",
       " 'refrigirator',\n",
       " 'patio tables',\n",
       " 'spiderman',\n",
       " 'bluetooth speaker',\n",
       " 'memory foam pillow',\n",
       " 'apple iphone 32 gb otterbox',\n",
       " 'face cream',\n",
       " 'nike womens',\n",
       " 'dc shoes black',\n",
       " 'nike flip flops',\n",
       " 'routers',\n",
       " 'levis 505',\n",
       " 'steel necklace',\n",
       " 'wreck it ralph',\n",
       " 'bike lock',\n",
       " 'duffle bag',\n",
       " 'tv',\n",
       " 'plantronics corded headset',\n",
       " 'bike for children',\n",
       " 'bike for children',\n",
       " 'shaver panasonic',\n",
       " 'golf clubs',\n",
       " 'kitchen faucet',\n",
       " 'batman',\n",
       " 'k cups',\n",
       " 'fuji bike shirt',\n",
       " 'ps3 wireless controller',\n",
       " 'acoustic guitar clamp',\n",
       " 'hair accessories',\n",
       " 'vanity fair bras',\n",
       " 'rachel ray cookware',\n",
       " 'car jump starter',\n",
       " 'wii gamepad',\n",
       " 'mens leather shirt',\n",
       " 'iphone 4 case',\n",
       " 'rain boot',\n",
       " 'batman',\n",
       " 'girls halloween costumes',\n",
       " 'duffle bag',\n",
       " 'laptop lenovo',\n",
       " 'rachel ray cookware',\n",
       " 'golf clubs',\n",
       " 'bedspreads',\n",
       " 'solar charger',\n",
       " 'speck iphone 5 case',\n",
       " 'tv',\n",
       " 'gucci guilty intense women',\n",
       " 'button down shirt',\n",
       " 'storage ottoman',\n",
       " 'levis',\n",
       " 'wall clocks',\n",
       " 'tv',\n",
       " 'hallmark wedding couple figurine',\n",
       " 'screen protector samsung',\n",
       " 'bluesky gel nail polish',\n",
       " 'three wheeled bike',\n",
       " 'gold dress',\n",
       " 'memory foam pillow',\n",
       " 'flower bulbs',\n",
       " 'legos',\n",
       " 'sleeping bags',\n",
       " 'dean guitar',\n",
       " 'blendtec',\n",
       " 'flower bulbs',\n",
       " 'double stroller',\n",
       " 'teenage mutant ninja turtles',\n",
       " 'memory foam pillow',\n",
       " 'extenal hardisk 500 gb',\n",
       " 'rechargable batteries',\n",
       " 'road bicycle',\n",
       " 'stick vacuum',\n",
       " 'electric griddle',\n",
       " 'wall mirrors',\n",
       " 'yoga pants',\n",
       " 'shaver panasonic',\n",
       " 'boyfriend jeans',\n",
       " 'bluesky gel nail polish',\n",
       " 'pyrex',\n",
       " 'solar battery charger',\n",
       " 'wii gamepad',\n",
       " 'nike flip flops',\n",
       " 'khaki pants',\n",
       " 'road bicycle',\n",
       " 'nike flip flops',\n",
       " 'bike for children',\n",
       " 'dish towels',\n",
       " 'screen protector samsung',\n",
       " 'wireless mouse',\n",
       " 'car window sticker',\n",
       " 'kitchenaid mixer',\n",
       " 'ecco shoes',\n",
       " 'vanilla scented perfumes',\n",
       " 'projector',\n",
       " 'microwave',\n",
       " 'victorias secret lace gown',\n",
       " 'dollhouse bathtub',\n",
       " 'knife victorinox',\n",
       " 'batman',\n",
       " 'flannel sheets',\n",
       " 'wii',\n",
       " 'yellow dress',\n",
       " 'phillips coffee maker',\n",
       " 'table runner',\n",
       " 'golf clubs',\n",
       " 'bedspreads',\n",
       " 'blendtec',\n",
       " 'shaver panasonic',\n",
       " 'three wheeled bike',\n",
       " 'shaver panasonic',\n",
       " 'green bay packers',\n",
       " 'bike lock',\n",
       " 'bike lock',\n",
       " 'wall mirrors',\n",
       " 'ice cream maker',\n",
       " 'teenage mutant ninja turtles',\n",
       " 'headphones earbuds',\n",
       " 'silver ring',\n",
       " 'videogames ps4',\n",
       " 'kitchen rugs',\n",
       " 'nike flip flops',\n",
       " 'drawer organizer',\n",
       " 'rachel ray cookware',\n",
       " 'spiderman',\n",
       " 'wii gamepad',\n",
       " 'white plain dinner set',\n",
       " 'bedspreads',\n",
       " 'wireless mouse',\n",
       " 'wreck it ralph',\n",
       " 'long prom dress',\n",
       " 'chocolate molds',\n",
       " 'sunglasses polarized',\n",
       " 'solar charger',\n",
       " 'candle lantern',\n",
       " 'neck pillow',\n",
       " 'pots and pans set',\n",
       " 'sweater dress',\n",
       " 'khaki pants',\n",
       " 'pittsburgh pirates',\n",
       " 'led christmas lights',\n",
       " 'mens leather shirt',\n",
       " 'silver necklace',\n",
       " 'dresses for women',\n",
       " 'memory foam pillow',\n",
       " '16 gb memory card',\n",
       " 'bluetooth speaker',\n",
       " 'kitchen rugs',\n",
       " 'blender',\n",
       " 'flannel sheets',\n",
       " 'legos',\n",
       " 'polar heart rate monitor',\n",
       " 'sweater dress',\n",
       " 'memory foam pillow',\n",
       " 'microwave',\n",
       " 'silver necklace',\n",
       " 'ps3 memory card',\n",
       " 'brett favre ny titans jersey blue',\n",
       " 'converse high tops',\n",
       " 'rice cooker',\n",
       " 'chocolate molds',\n",
       " 'nike shoes',\n",
       " 'hollister polo',\n",
       " 'headphones earbuds',\n",
       " 'gym gloves',\n",
       " 'decorative pillows',\n",
       " 'dress shirts',\n",
       " 'kitchen faucet',\n",
       " 'k cups',\n",
       " 'long prom dress',\n",
       " 'sweater dress',\n",
       " 'wine rack',\n",
       " 'hawaiian shirt',\n",
       " 'phillips coffee maker',\n",
       " 'batman',\n",
       " 'refrigirator',\n",
       " 'wall mirrors',\n",
       " 'cargo shorts',\n",
       " 'golf clubs',\n",
       " 'neck pillow',\n",
       " 'kitchenaid glass bowl',\n",
       " 'ice cream maker',\n",
       " 'workout clothes for women',\n",
       " 'leather mens briefcase',\n",
       " 'wireless mouse',\n",
       " 'silver jeans',\n",
       " '16 gb memory card',\n",
       " 'tupperware water bottle lime',\n",
       " 'samsonite',\n",
       " 'steel necklace',\n",
       " 'hat rack',\n",
       " 'cast iron skillet',\n",
       " 'yoga mat',\n",
       " 'glass marbles',\n",
       " 'table runner',\n",
       " 'face cream',\n",
       " 'white dress',\n",
       " 'wall mirrors',\n",
       " 'legos',\n",
       " 'bike for children',\n",
       " 'soda stream',\n",
       " 'dresses for women',\n",
       " 'toaster oven',\n",
       " 'lc lauren conrad dresses',\n",
       " 'green bay packers',\n",
       " 'flannel sheets',\n",
       " 'toaster oven',\n",
       " 'bike lock',\n",
       " 'waffle maker',\n",
       " 'tupperware water bottle lime',\n",
       " 'ipad 2 heavy duty case',\n",
       " 'cross strap backpack',\n",
       " 'dresses for women',\n",
       " 'table runner',\n",
       " 'table clock',\n",
       " 'storage drawers',\n",
       " 'memory foam pillow',\n",
       " 'sunglasses polarized',\n",
       " 'watch women fossil',\n",
       " 'coffee for nespresso',\n",
       " 'laptop lenovo',\n",
       " 'wall clocks',\n",
       " 'thomas the train',\n",
       " 'micro usb to hdmi',\n",
       " 'steel necklace',\n",
       " 'punch bowls',\n",
       " 'mens leather shirt',\n",
       " 'bluetooth speaker',\n",
       " 'assassinss creed',\n",
       " 'dresses for women',\n",
       " 'barbie',\n",
       " 'cargo shorts',\n",
       " 'single serve coffee maker',\n",
       " 'stick vacuum',\n",
       " 'levis',\n",
       " 'samsonite',\n",
       " 'laptop lenovo',\n",
       " 'macbook case 13 case',\n",
       " 'adidas pants',\n",
       " 'mens dress shirts',\n",
       " 'legos',\n",
       " 'legos',\n",
       " 'coffee for nespresso',\n",
       " 'wii',\n",
       " 'bird seed feeder',\n",
       " 'nike shoes',\n",
       " 'full tang knife',\n",
       " 'wall clocks',\n",
       " 'over the knee snow boots',\n",
       " 'wireless mouse',\n",
       " 'dresses for women',\n",
       " 'san francisco 49ers',\n",
       " 'laptop lenovo',\n",
       " 'steel necklace',\n",
       " 'werewolf costume',\n",
       " 'mens dress shirts',\n",
       " '16 gb memory card',\n",
       " 'silver jeans',\n",
       " 'high chairs',\n",
       " 'blender',\n",
       " 'kitchenaid mixer',\n",
       " 'khaki pants',\n",
       " 'shotgun shell pouch',\n",
       " 'bluesky gel nail polish',\n",
       " 'levis 505',\n",
       " 'rain jacket',\n",
       " 'micro usb to hdmi',\n",
       " 'metal lathe',\n",
       " 'phillips coffee maker',\n",
       " 'road bicycle',\n",
       " 'cargo shorts',\n",
       " 'silver jeans',\n",
       " 'notebook paper',\n",
       " 'road bicycle',\n",
       " 'samsung galaxy phone case',\n",
       " 'beats headphones',\n",
       " 'samsung galaxy phone case',\n",
       " 'outdoor table cover',\n",
       " 'white dress',\n",
       " 'brett favre ny titans jersey blue',\n",
       " 'coffee for nespresso',\n",
       " 'storage ottoman',\n",
       " 'plantronics corded headset',\n",
       " 'phillips coffee maker',\n",
       " 'phillips coffee maker',\n",
       " 'k cups',\n",
       " 'brett favre ny titans jersey blue',\n",
       " 'wii',\n",
       " 'electric blanket',\n",
       " 'candle chandelier',\n",
       " 'galaxy note 3',\n",
       " 'lc lauren conrad dresses',\n",
       " 'bike lock',\n",
       " 'vanity fair bras',\n",
       " 'coffee for nespresso',\n",
       " 'car jump starter',\n",
       " 'pressure cooker',\n",
       " 'skechers womens shoes',\n",
       " 'k cups',\n",
       " 'cuisinart coffee maker',\n",
       " 'playstation vita system',\n",
       " 'blue mini fridge',\n",
       " 'hat rack',\n",
       " 'bike lock',\n",
       " 'toaster oven',\n",
       " 'glass marbles',\n",
       " 'dc shoes black',\n",
       " 'road bicycle',\n",
       " 'baseball cleats',\n",
       " 'werewolf costume',\n",
       " 'ice cream maker',\n",
       " 'sports bra',\n",
       " 'lego star wars',\n",
       " 'chocolate molds',\n",
       " 'rice cooker',\n",
       " 'electric blanket',\n",
       " 'hello kitty',\n",
       " 'waffle maker',\n",
       " 'wine rack',\n",
       " 'dresses for women',\n",
       " 'batman',\n",
       " 'silver necklace',\n",
       " 'wall clocks',\n",
       " 'neck pillow',\n",
       " 'nike shoes',\n",
       " 'robe',\n",
       " 'business badge holder',\n",
       " 'acoustic guitar clamp',\n",
       " 'cocoa butter',\n",
       " 'skeleton poster',\n",
       " 'silver ring',\n",
       " 'memory foam mattress topper',\n",
       " 'ray ban sunglasses',\n",
       " 'drawer organizer',\n",
       " 'vans backpack',\n",
       " 'car window sticker',\n",
       " 'neck pillow',\n",
       " 'patio tables',\n",
       " 'bike lock',\n",
       " 'ice cream maker',\n",
       " 'silver necklace',\n",
       " 'tote bag',\n",
       " 'aroma diffuser',\n",
       " 'yoga mat',\n",
       " 'lego star wars',\n",
       " 'kitchenaid mixer',\n",
       " 'memory foam pillow',\n",
       " 'wired xbox 360 controller',\n",
       " 'seagate 2tb hard disk',\n",
       " 'mac book air cover',\n",
       " 'infinity scarf',\n",
       " 'pittsburgh pirates',\n",
       " 'memory foam pillow',\n",
       " 'bird seed feeder',\n",
       " 'screen protector samsung',\n",
       " 'blender',\n",
       " 'cross strap backpack',\n",
       " 'kitchenaid mixer',\n",
       " 'anime necklace',\n",
       " 'ps3 memory card',\n",
       " 'lc lauren conrad dresses',\n",
       " 'rain jacket',\n",
       " 'bike lock',\n",
       " 'steel necklace',\n",
       " 'bluetooth speaker',\n",
       " 'notebook paper',\n",
       " 'wireless mouse',\n",
       " 'rachel ray cookware',\n",
       " 'batman',\n",
       " 'power surge protector',\n",
       " 'lc lauren conrad dresses',\n",
       " 'patio umbrellas',\n",
       " 'eye cream',\n",
       " 'silver jeans',\n",
       " 'kitchenaid mixer',\n",
       " 'acoustic guitar clamp',\n",
       " 'dc shoes black',\n",
       " 'barbie',\n",
       " 'dress shirts',\n",
       " 'cargo shorts',\n",
       " 'khaki pants',\n",
       " 'vanilla scented perfumes',\n",
       " 'ice cream maker',\n",
       " 'rain boot',\n",
       " 'white jeans',\n",
       " 'hawaiian shirt',\n",
       " 'workout clothes for women',\n",
       " 'nike womens',\n",
       " 'adidas fragance',\n",
       " 'iphone 5',\n",
       " 'punch bowls',\n",
       " 'wii gamepad',\n",
       " 'portable hard drive',\n",
       " 'candle chandelier',\n",
       " 'table runner',\n",
       " 'stick vacuum',\n",
       " '16 gb memory card',\n",
       " 'gold dress',\n",
       " 'solar battery charger',\n",
       " 'levis',\n",
       " 'electric griddle',\n",
       " 'wall clocks',\n",
       " 'projector',\n",
       " 'over the knee snow boots',\n",
       " 'shaver panasonic',\n",
       " 'toy trucks',\n",
       " 'table clock',\n",
       " 'three wheeled bike',\n",
       " 'queen comforter sets',\n",
       " 'memory foam pillow',\n",
       " 'flea and tick control for dogs',\n",
       " 'zippo hand warmer',\n",
       " 'iphone 4 case',\n",
       " 'yellow dress',\n",
       " 'samsung galaxy phone case',\n",
       " 'shotgun shell pouch',\n",
       " 'full tang knife',\n",
       " 'adidas pants',\n",
       " 'rain boot',\n",
       " 'aqua shoes',\n",
       " 'mac book air cover',\n",
       " 'shotgun shell pouch',\n",
       " 'golf clubs',\n",
       " 'bluesky gel nail polish',\n",
       " 'road bicycle',\n",
       " 'hair accessories',\n",
       " 'gold dress',\n",
       " 'bird seed feeder',\n",
       " 'dress shirts',\n",
       " 'chocolate molds',\n",
       " 'solar battery charger',\n",
       " 'pressure cooker',\n",
       " 'lego star wars',\n",
       " 'fitbit charge',\n",
       " 'sweater dress',\n",
       " 'nike shoes',\n",
       " 'candle lantern',\n",
       " 'hello kitty',\n",
       " 'cuisinart coffee maker',\n",
       " 'mens leather shirt',\n",
       " 'kitchen rugs',\n",
       " 'candle holders',\n",
       " 'pittsburgh pirates',\n",
       " 'kitchenaid mixer',\n",
       " 'lego star wars',\n",
       " 'tupperware water bottle lime',\n",
       " 'candle lantern',\n",
       " 'vanilla scented perfumes',\n",
       " 'werewolf costume',\n",
       " 'hawaiian shirt',\n",
       " 'storage ottoman',\n",
       " 'white jeans',\n",
       " 'bluray hobbit extended',\n",
       " 'full tang knife',\n",
       " 'bike lock',\n",
       " 'bedspreads',\n",
       " 'pots and pans set',\n",
       " 'gym gloves',\n",
       " 'soda stream',\n",
       " 'toddler sandals',\n",
       " 'business badge holder',\n",
       " 'deep fryers',\n",
       " 'cross strap backpack',\n",
       " 'sleeping bags',\n",
       " 'micro usb to hdmi',\n",
       " 'white dress',\n",
       " 'tv',\n",
       " 'keurig coffee maker',\n",
       " 'patio umbrellas',\n",
       " 'shotgun shell pouch',\n",
       " 'mens dress shirts',\n",
       " 'assassinss creed',\n",
       " 'k cups',\n",
       " 'silicone toe separators',\n",
       " 'gym gloves',\n",
       " 'full tang knife',\n",
       " 'patio umbrellas',\n",
       " 'button down shirt',\n",
       " 'ice cream maker',\n",
       " 'table runner',\n",
       " 'laptop lenovo',\n",
       " 'bike for children',\n",
       " 'pots and pans set',\n",
       " 'cat grass',\n",
       " 'cross strap backpack',\n",
       " 'legos',\n",
       " 'videogames ps4',\n",
       " '16 gb memory card',\n",
       " 'converse high tops',\n",
       " 'wii gamepad',\n",
       " 'yankees',\n",
       " 'cargo shorts',\n",
       " 'yoga pants',\n",
       " 'routers',\n",
       " 'kitchen rugs',\n",
       " 'full tang knife',\n",
       " 'dresses for women',\n",
       " 'tablet accessories',\n",
       " 'kitchenaid mixer',\n",
       " 'blender',\n",
       " 'micro usb to hdmi',\n",
       " 'memory foam pillow',\n",
       " 'spiderman',\n",
       " 'full tang knife',\n",
       " 'projector',\n",
       " 'fifa 15',\n",
       " 'eye cream',\n",
       " 'yankee candle',\n",
       " 'notebook paper',\n",
       " 'skeleton poster',\n",
       " 'workout clothes for women',\n",
       " 'candle lantern',\n",
       " 'thomas the train',\n",
       " 'cargo shorts',\n",
       " 'single serve coffee maker',\n",
       " 'microwave',\n",
       " 'zippo',\n",
       " 'bluray hobbit extended',\n",
       " 'bridal shower decorations',\n",
       " 'wreck it ralph',\n",
       " 'yankees',\n",
       " 'silver jeans',\n",
       " 'rechargable batteries',\n",
       " 'green bay packers',\n",
       " 'white plain dinner set',\n",
       " 'tupperware water bottle lime',\n",
       " 'zippo hand warmer',\n",
       " 'electric blanket',\n",
       " 'button down shirt',\n",
       " 'flea and tick control for dogs',\n",
       " 'blue mini fridge',\n",
       " 'waffle maker',\n",
       " 'robe',\n",
       " 'patio umbrellas',\n",
       " 'small brass bow',\n",
       " 'sunglasses polarized',\n",
       " 'hawaiian shirt',\n",
       " 'mens dress shirts',\n",
       " 'adidas pants',\n",
       " 'skechers womens shoes',\n",
       " 'button down shirt',\n",
       " 'neck pillow',\n",
       " 'sleeping bags',\n",
       " 'kobo ereader',\n",
       " 'face cream',\n",
       " 'screen protector samsung',\n",
       " 'projector',\n",
       " 'vanilla scented perfumes',\n",
       " 'shaver panasonic',\n",
       " 'aroma diffuser',\n",
       " 'notebook paper',\n",
       " 'bluetooth speaker',\n",
       " 'nike shox',\n",
       " 'led monitor',\n",
       " 'sports bra',\n",
       " 'pressure cooker',\n",
       " 'pressure cooker',\n",
       " 'hair accessories',\n",
       " 'gucci guilty intense women',\n",
       " 'blender',\n",
       " 'converse low top',\n",
       " 'double stroller',\n",
       " 'nike flip flops',\n",
       " 'iphone 4 case',\n",
       " 'sunglasses polarized',\n",
       " 'storage ottoman',\n",
       " 'refrigirator',\n",
       " 'golf shoes',\n",
       " 'vanity fair bras',\n",
       " 'dresses for women',\n",
       " 'silver necklace',\n",
       " 'kitchen rugs',\n",
       " 'table clock',\n",
       " 'keurig coffee maker',\n",
       " 'bike lock',\n",
       " 'converse low top',\n",
       " 'candle chandelier',\n",
       " 'wall mirrors',\n",
       " 'lego star wars',\n",
       " 'hair accessories',\n",
       " 'beats headphones',\n",
       " 'over the knee snow boots',\n",
       " 'kitchen faucet',\n",
       " 'playstation 4',\n",
       " 'silver necklace',\n",
       " 'mens dress shirts',\n",
       " 'button down shirt',\n",
       " 'metal lathe',\n",
       " 'iphone 5',\n",
       " 'led monitor',\n",
       " 'kobo ereader',\n",
       " 'face cream',\n",
       " 'plantronics corded headset',\n",
       " 'toaster oven',\n",
       " 'routers',\n",
       " 'business badge holder',\n",
       " 'dean guitar',\n",
       " 'tote bag',\n",
       " 'full tang knife',\n",
       " 'baseball photo frame',\n",
       " 'bluetooth speaker',\n",
       " '16 gb memory card',\n",
       " 'wireless mouse',\n",
       " 'white dress',\n",
       " 'iphone 5',\n",
       " 'kitchen faucet',\n",
       " 'minecraft diamond sword',\n",
       " 'werewolf costume',\n",
       " 'pyrex',\n",
       " 'bird seed feeder',\n",
       " 'wall clocks',\n",
       " 'cast iron skillet',\n",
       " 'k cups',\n",
       " 'flannel sheets',\n",
       " 'phillips coffee maker',\n",
       " 'sleeping bags',\n",
       " 'lc lauren conrad dresses',\n",
       " 'dress shirts',\n",
       " 'outdoor table cover',\n",
       " 'double stroller',\n",
       " 'bike lock',\n",
       " 'bluetooth speaker',\n",
       " 'green laser pointer',\n",
       " 'flower bulbs',\n",
       " 'mens dress shirts',\n",
       " 'patio umbrellas',\n",
       " 'flannel sheets',\n",
       " 'beats headphones',\n",
       " 'rice cooker',\n",
       " 'hawaiian shirt',\n",
       " 'galaxy note 3',\n",
       " 'white dress',\n",
       " 'san francisco 49ers',\n",
       " 'queen comforter sets',\n",
       " 'candle chandelier',\n",
       " 'hallmark wedding couple figurine',\n",
       " 'silver necklace',\n",
       " 'macbook case 13 case',\n",
       " 'steel necklace',\n",
       " 'yankees',\n",
       " 'wine rack',\n",
       " 'queen comforter sets',\n",
       " 'green bay packers',\n",
       " 'robe',\n",
       " 'hollister polo',\n",
       " 'harleydavidson',\n",
       " 'skeleton poster',\n",
       " 'bluesky gel nail polish',\n",
       " 'keurig coffee maker',\n",
       " 'double stroller',\n",
       " 'routers',\n",
       " 'thomas the train',\n",
       " 'memory foam mattress topper',\n",
       " 'routers',\n",
       " 'lc lauren conrad dresses',\n",
       " 'dish towels',\n",
       " 'white dress',\n",
       " 'led christmas lights',\n",
       " 'infinity scarf',\n",
       " 'bridal shower decorations',\n",
       " 'duffle bag',\n",
       " 'chocolate molds',\n",
       " 'wreck it ralph',\n",
       " 'hat rack',\n",
       " 'bluray hobbit extended',\n",
       " 'road bicycle',\n",
       " 'metal lathe',\n",
       " 'zippo',\n",
       " 'wii microphone',\n",
       " 'routers',\n",
       " 'polaroid camera',\n",
       " 'high heels shoes',\n",
       " 'drawer organizer',\n",
       " 'power surge protector',\n",
       " 'micro usb to hdmi',\n",
       " 'sweater dress',\n",
       " 'shaver panasonic',\n",
       " 'plantronics corded headset',\n",
       " 'aveeno shampoo',\n",
       " 'polaroid camera',\n",
       " 'galaxy note 3',\n",
       " 'gym gloves',\n",
       " 'decorative pillows',\n",
       " 'cocoa butter',\n",
       " 'tv',\n",
       " 'phillips coffee maker',\n",
       " 'mens dress shirts',\n",
       " 'laptop lenovo',\n",
       " 'golf clubs',\n",
       " 'converse high tops',\n",
       " 'coffee for nespresso',\n",
       " 'iphone 4 case',\n",
       " 'drawer organizer',\n",
       " 'pyrex',\n",
       " 'high heels shoes',\n",
       " 'drawer organizer',\n",
       " 'aveeno shampoo',\n",
       " 'werewolf costume',\n",
       " 'silver necklace',\n",
       " 'multiple phone charger',\n",
       " 'blender',\n",
       " 'mens leather shirt',\n",
       " 'nike shox',\n",
       " 'candle holders',\n",
       " 'long prom dress',\n",
       " 'blue mini fridge',\n",
       " 'shaver panasonic',\n",
       " 'dc shoes black',\n",
       " 'waffle maker',\n",
       " 'waffle maker',\n",
       " 'wii gamepad',\n",
       " 'full tang knife',\n",
       " 'yankees',\n",
       " 'zippo',\n",
       " 'long prom dress',\n",
       " 'snow boots',\n",
       " 'pittsburgh pirates',\n",
       " 'baseball cleats',\n",
       " 'cross strap backpack',\n",
       " 'samsonite',\n",
       " 'steel necklace',\n",
       " ...]"
      ]
     },
     "execution_count": 16,
     "metadata": {},
     "output_type": "execute_result"
    }
   ],
   "source": [
    "train_q"
   ]
  },
  {
   "cell_type": "markdown",
   "metadata": {},
   "source": [
    "## Train data / Test data 를 사용하여 corpus 제작"
   ]
  },
  {
   "cell_type": "code",
   "execution_count": 8,
   "metadata": {
    "collapsed": true
   },
   "outputs": [],
   "source": [
    "df_corpus = pd.concat([df_train, df_test], axis=0)"
   ]
  },
  {
   "cell_type": "code",
   "execution_count": 9,
   "metadata": {
    "collapsed": true
   },
   "outputs": [],
   "source": [
    "df_corpus = df_corpus.drop('median_relevance', axis = 1)\n",
    "df_corpus = df_corpus.drop('relevance_variance', axis = 1)"
   ]
  },
  {
   "cell_type": "code",
   "execution_count": 10,
   "metadata": {},
   "outputs": [
    {
     "name": "stdout",
     "output_type": "stream",
     "text": [
      "Wall time: 1.23 s\n"
     ]
    }
   ],
   "source": [
    "%%time\n",
    "corpusdata = list(df_corpus.apply(lambda x:'%s %s %s' % (x['query'], x['product_title'], x['product_description']), axis=1))"
   ]
  },
  {
   "cell_type": "code",
   "execution_count": null,
   "metadata": {
    "collapsed": true
   },
   "outputs": [],
   "source": []
  },
  {
   "cell_type": "markdown",
   "metadata": {},
   "source": [
    "## 모든 Text data 를 소문자로 변환"
   ]
  },
  {
   "cell_type": "code",
   "execution_count": 11,
   "metadata": {
    "collapsed": true
   },
   "outputs": [],
   "source": [
    "def lower_convert(data):\n",
    "    for num in range(len(data)):\n",
    "        data[num] = data[num].lower()"
   ]
  },
  {
   "cell_type": "code",
   "execution_count": 12,
   "metadata": {
    "collapsed": true
   },
   "outputs": [],
   "source": [
    "lower_convert(train_q)\n",
    "lower_convert(train_t)\n",
    "lower_convert(train_d)\n",
    "lower_convert(test_q)\n",
    "lower_convert(test_t)\n",
    "lower_convert(test_d)\n",
    "lower_convert(corpusdata)"
   ]
  },
  {
   "cell_type": "markdown",
   "metadata": {},
   "source": [
    "## 2글자 이상의 알파벳, 숫자만 존재하도록 정규표현식 적용"
   ]
  },
  {
   "cell_type": "code",
   "execution_count": 13,
   "metadata": {
    "collapsed": true
   },
   "outputs": [],
   "source": [
    "def alphabet_stopwords(data):\n",
    "    for num in range(len(data)):\n",
    "        data[num] = re.findall(r'[a-zA-Z0-9]+', data[num])\n",
    "        \n",
    "    for num in range(len(data)):\n",
    "        data[num] = (\" \").join(data[num])\n",
    "    \n",
    "    for num in range(len(data)):\n",
    "        data[num] = re.findall(r'\\w\\w+', data[num])"
   ]
  },
  {
   "cell_type": "code",
   "execution_count": 14,
   "metadata": {},
   "outputs": [
    {
     "name": "stdout",
     "output_type": "stream",
     "text": [
      "Wall time: 7.33 s\n"
     ]
    }
   ],
   "source": [
    "%%time\n",
    "alphabet_stopwords(train_q)\n",
    "alphabet_stopwords(train_t)\n",
    "alphabet_stopwords(train_d)\n",
    "alphabet_stopwords(test_q)\n",
    "alphabet_stopwords(test_t)\n",
    "alphabet_stopwords(test_d)\n",
    "alphabet_stopwords(corpusdata)"
   ]
  },
  {
   "cell_type": "markdown",
   "metadata": {},
   "source": [
    "## Stopwords (english)"
   ]
  },
  {
   "cell_type": "code",
   "execution_count": 15,
   "metadata": {
    "collapsed": true
   },
   "outputs": [],
   "source": [
    "def eng_stopwords(data):\n",
    "    data_copy = data.copy()\n",
    "    for num in range(len(data_copy)):\n",
    "        data_copy[num] = []\n",
    "    \n",
    "    stop = stopwords.words('english')\n",
    "    \n",
    "    for num in range(len(data)):\n",
    "        for i in range(len(data[num])):\n",
    "            if data[num][i] not in stop:\n",
    "                data_copy[num].append(data[num][i])\n",
    "                \n",
    "    return data_copy"
   ]
  },
  {
   "cell_type": "code",
   "execution_count": 16,
   "metadata": {},
   "outputs": [
    {
     "name": "stdout",
     "output_type": "stream",
     "text": [
      "Wall time: 14.3 s\n"
     ]
    }
   ],
   "source": [
    "%%time\n",
    "train_q = eng_stopwords(train_q)\n",
    "train_t = eng_stopwords(train_t)\n",
    "train_d = eng_stopwords(train_d)\n",
    "test_q = eng_stopwords(test_q)\n",
    "test_t = eng_stopwords(test_t)\n",
    "test_d = eng_stopwords(test_d)\n",
    "corpus_data = eng_stopwords(corpusdata)"
   ]
  },
  {
   "cell_type": "markdown",
   "metadata": {},
   "source": [
    "## Stemming"
   ]
  },
  {
   "cell_type": "code",
   "execution_count": 52,
   "metadata": {
    "collapsed": true
   },
   "outputs": [],
   "source": [
    "def stemPorter(text):\n",
    "            porter = PorterStemmer()\n",
    "            stem_data = []\n",
    "            for num in text:\n",
    "                final_stem = []\n",
    "                for word in num:\n",
    "                    final_stem.append(porter.stem(word))\n",
    "                stem_data.append(final_stem)\n",
    "            return stem_data"
   ]
  },
  {
   "cell_type": "code",
   "execution_count": 53,
   "metadata": {},
   "outputs": [
    {
     "name": "stdout",
     "output_type": "stream",
     "text": [
      "Wall time: 56.7 s\n"
     ]
    }
   ],
   "source": [
    "%%time\n",
    "train_q = stemPorter(train_q)\n",
    "train_t = stemPorter(train_t)\n",
    "train_d = stemPorter(train_d)\n",
    "test_q = stemPorter(test_q)\n",
    "test_t = stemPorter(test_t)\n",
    "test_d = stemPorter(test_d)"
   ]
  },
  {
   "cell_type": "code",
   "execution_count": 54,
   "metadata": {},
   "outputs": [
    {
     "name": "stdout",
     "output_type": "stream",
     "text": [
      "Wall time: 54.8 s\n"
     ]
    }
   ],
   "source": [
    "%%time\n",
    "corpus_data = stemPorter(corpus_data)"
   ]
  },
  {
   "cell_type": "markdown",
   "metadata": {},
   "source": [
    "## Back of Word 적용을 위해 형태 변환 (word list to sentence)"
   ]
  },
  {
   "cell_type": "code",
   "execution_count": 19,
   "metadata": {
    "collapsed": true
   },
   "outputs": [],
   "source": [
    "def data_join(list_data):\n",
    "    for num in range(len(list_data)):\n",
    "        list_data[num] = (\" \").join(list_data[num])"
   ]
  },
  {
   "cell_type": "code",
   "execution_count": 20,
   "metadata": {
    "collapsed": true
   },
   "outputs": [],
   "source": [
    "data_join(train_q)\n",
    "data_join(train_t)\n",
    "data_join(train_d)\n",
    "data_join(test_q)\n",
    "data_join(test_t)\n",
    "data_join(test_d)\n",
    "data_join(corpus_data)"
   ]
  },
  {
   "cell_type": "markdown",
   "metadata": {},
   "source": [
    "## TF-IDF"
   ]
  },
  {
   "cell_type": "code",
   "execution_count": 22,
   "metadata": {
    "collapsed": true
   },
   "outputs": [],
   "source": [
    "from sklearn.feature_extraction.text import TfidfVectorizer"
   ]
  },
  {
   "cell_type": "code",
   "execution_count": 23,
   "metadata": {
    "collapsed": true
   },
   "outputs": [],
   "source": [
    "tfv = TfidfVectorizer(analyzer='word', token_pattern=r'\\w+', ngram_range=(1, 3), stop_words = 'english')"
   ]
  },
  {
   "cell_type": "code",
   "execution_count": 24,
   "metadata": {},
   "outputs": [
    {
     "name": "stdout",
     "output_type": "stream",
     "text": [
      "Wall time: 15 s\n"
     ]
    },
    {
     "data": {
      "text/plain": [
       "TfidfVectorizer(analyzer='word', binary=False, decode_error='strict',\n",
       "        dtype=<class 'numpy.int64'>, encoding='utf-8', input='content',\n",
       "        lowercase=True, max_df=1.0, max_features=None, min_df=1,\n",
       "        ngram_range=(1, 3), norm='l2', preprocessor=None, smooth_idf=True,\n",
       "        stop_words='english', strip_accents=None, sublinear_tf=False,\n",
       "        token_pattern='\\\\w+', tokenizer=None, use_idf=True,\n",
       "        vocabulary=None)"
      ]
     },
     "execution_count": 24,
     "metadata": {},
     "output_type": "execute_result"
    }
   ],
   "source": [
    "%%time\n",
    "tfv.fit(corpus_data)"
   ]
  },
  {
   "cell_type": "code",
   "execution_count": 25,
   "metadata": {},
   "outputs": [
    {
     "name": "stdout",
     "output_type": "stream",
     "text": [
      "Wall time: 9.93 s\n"
     ]
    }
   ],
   "source": [
    "%%time\n",
    "train_Q = tfv.transform(train_q)\n",
    "train_T = tfv.transform(train_t)\n",
    "train_D = tfv.transform(train_d)\n",
    "test_Q = tfv.transform(test_q)\n",
    "test_T = tfv.transform(test_t)\n",
    "test_D = tfv.transform(test_d)"
   ]
  },
  {
   "cell_type": "code",
   "execution_count": null,
   "metadata": {
    "collapsed": true
   },
   "outputs": [],
   "source": []
  },
  {
   "cell_type": "code",
   "execution_count": null,
   "metadata": {
    "collapsed": true
   },
   "outputs": [],
   "source": [
    "all_train_X = hstack((train_Q, train_T, train_D))\n",
    "tit_train_X = hstack((train_Q, train_T))\n",
    "all_test_X = hstack((test_Q, test_T, test_D))\n",
    "tit_test_X = hstack((test_Q, test_T))"
   ]
  },
  {
   "cell_type": "code",
   "execution_count": null,
   "metadata": {
    "collapsed": true
   },
   "outputs": [],
   "source": [
    "joblib.dump(all_train_X, 'all_train_X.pkl')"
   ]
  },
  {
   "cell_type": "code",
   "execution_count": null,
   "metadata": {
    "collapsed": true
   },
   "outputs": [],
   "source": [
    "joblib.dump(tit_train_X, 'tit_train_X.pkl')"
   ]
  },
  {
   "cell_type": "code",
   "execution_count": null,
   "metadata": {
    "collapsed": true
   },
   "outputs": [],
   "source": [
    "joblib.dump(all_test_X, 'all_test_X.pkl')"
   ]
  },
  {
   "cell_type": "code",
   "execution_count": null,
   "metadata": {
    "collapsed": true
   },
   "outputs": [],
   "source": [
    "joblib.dump(tit_test_X, 'tit_test_X.pkl')"
   ]
  }
 ],
 "metadata": {
  "kernelspec": {
   "display_name": "Python 3",
   "language": "python",
   "name": "python3"
  },
  "language_info": {
   "codemirror_mode": {
    "name": "ipython",
    "version": 3
   },
   "file_extension": ".py",
   "mimetype": "text/x-python",
   "name": "python",
   "nbconvert_exporter": "python",
   "pygments_lexer": "ipython3",
   "version": "3.6.3"
  }
 },
 "nbformat": 4,
 "nbformat_minor": 2
}
