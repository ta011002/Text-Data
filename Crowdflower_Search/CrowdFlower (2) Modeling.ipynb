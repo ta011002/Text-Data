{
 "cells": [
  {
   "cell_type": "markdown",
   "metadata": {},
   "source": [
    "# Traing Goal"
   ]
  },
  {
   "cell_type": "markdown",
   "metadata": {},
   "source": [
    "* quadratic weighted kappa score 를 통하여 정확도를 평가하는 알고리즘 생성"
   ]
  },
  {
   "cell_type": "markdown",
   "metadata": {},
   "source": [
    "* ### quadratic weighted kappa\n",
    "$$ k = 1-\\dfrac{{\\sum}_{i,i} w_{i,j} O_{i,j}}{{\\sum}_{i,i} w_{i,j} E_{i,j}} $$"
   ]
  },
  {
   "cell_type": "markdown",
   "metadata": {},
   "source": [
    "# Modeling\n",
    "* Classification\n",
    "* Regression"
   ]
  },
  {
   "cell_type": "code",
   "execution_count": 75,
   "metadata": {
    "collapsed": true
   },
   "outputs": [],
   "source": [
    "import numpy as np\n",
    "import pandas as pd\n",
    "import sklearn as sk\n",
    "\n",
    "import matplotlib as mpl\n",
    "import matplotlib.pylab as plt\n",
    "from mpl_toolkits.mplot3d import Axes3D\n",
    "\n",
    "from sklearn.metrics import confusion_matrix, classification_report, roc_curve, auc, roc_auc_score, accuracy_score\n",
    "from sklearn.model_selection import cross_val_score\n",
    "from sklearn.decomposition import TruncatedSVD\n",
    "from sklearn.preprocessing import StandardScaler\n",
    "import xgboost as xgb\n",
    "from sklearn import pipeline\n",
    "from sklearn.model_selection import GridSearchCV\n",
    "\n",
    "from sklearn.multiclass import OneVsRestClassifier, OneVsOneClassifier\n",
    "from sklearn.linear_model import LogisticRegression\n",
    "from sklearn.model_selection import train_test_split\n",
    "from sklearn.model_selection import cross_val_score\n",
    "from sklearn.model_selection import KFold\n",
    "from sklearn.svm import SVC\n",
    "from xgboost import XGBClassifier\n",
    "from xgboost import XGBRegressor\n",
    "from sklearn.metrics import auc\n",
    "\n",
    "import joblib\n",
    "from joblib import dump, load\n",
    "\n",
    "pd.options.display.max_columns = 400\n",
    "pd.options.display.max_rows = 200\n",
    "pd.options.display.max_colwidth = 600\n",
    "pd.options.display.precision = 10"
   ]
  },
  {
   "cell_type": "code",
   "execution_count": 76,
   "metadata": {
    "collapsed": true
   },
   "outputs": [],
   "source": [
    "df_train = pd.read_excel(\"./__data/excel/train.xlsx\").fillna(\"\")\n",
    "df_test = pd.read_excel(\"./__data/excel/test.xlsx\").fillna(\"\")"
   ]
  },
  {
   "cell_type": "code",
   "execution_count": 77,
   "metadata": {
    "collapsed": true
   },
   "outputs": [],
   "source": [
    "all_train_X = joblib.load('all_train_X.pkl')\n",
    "all_test_X = joblib.load('all_test_X.pkl')\n",
    "tit_train_X = joblib.load('tit_train_X.pkl')\n",
    "tit_test_X = joblib.load('tit_test_X.pkl')\n",
    "y = joblib.load('y.pkl')"
   ]
  },
  {
   "cell_type": "code",
   "execution_count": 78,
   "metadata": {
    "scrolled": true
   },
   "outputs": [
    {
     "name": "stdout",
     "output_type": "stream",
     "text": [
      "==================== Relevance Distribution ====================\n",
      "Relevance 1 : 7.62 %\n",
      "Relevance 2 : 14.53 %\n",
      "Relevance 3 : 17.1 %\n",
      "Relevance 4 : 60.75 %\n"
     ]
    },
    {
     "data": {
      "image/png": "[encoded data removed]",
      "text/plain": [
       "<matplotlib.figure.Figure at 0x24103a4a518>"
      ]
     },
     "metadata": {},
     "output_type": "display_data"
    }
   ],
   "source": [
    "print('='*20,'Relevance Distribution','='*20)\n",
    "relev_1 = (df_train['median_relevance'] == 1).value_counts()\n",
    "print(\"Relevance 1 :\",round(relev_1[True]/relev_1.sum()*100, 2)   ,\"%\")\n",
    "\n",
    "relev_2 = (df_train['median_relevance'] == 2).value_counts()\n",
    "print(\"Relevance 2 :\" , round(relev_2[True]/relev_2.sum()*100, 2)  ,\"%\")\n",
    "\n",
    "relev_3 = (df_train['median_relevance'] == 3).value_counts()\n",
    "print(\"Relevance 3 :\" , round(relev_3[True]/relev_3.sum()*100, 2)  ,\"%\")\n",
    "\n",
    "relev_4 = (df_train['median_relevance'] == 4).value_counts()\n",
    "print(\"Relevance 4 :\" , round(relev_4[True]/relev_4.sum()*100, 2)  ,\"%\")\n",
    "\n",
    "only_1 = int(relev_1[True])\n",
    "only_2 = int(relev_2[True])\n",
    "only_3 = int(relev_3[True])\n",
    "only_4 = int(relev_4[True])\n",
    "\n",
    "y_label = [only_1, only_2, only_3, only_4]\n",
    "x = [1, 2, 3, 4]\n",
    "plt.bar(x, y_label)\n",
    "plt.xticks(x, ('Relevance 1', 'Relevance 2', 'Relevance 3', 'Relevance 4'))\n",
    "plt.ylabel('Relevance counting')\n",
    "plt.show()"
   ]
  },
  {
   "cell_type": "code",
   "execution_count": 11,
   "metadata": {
    "collapsed": true
   },
   "outputs": [],
   "source": [
    "cv = KFold(5)"
   ]
  },
  {
   "cell_type": "code",
   "execution_count": null,
   "metadata": {
    "collapsed": true
   },
   "outputs": [],
   "source": []
  },
  {
   "cell_type": "markdown",
   "metadata": {
    "collapsed": true
   },
   "source": [
    "# Modeling (1) Classification"
   ]
  },
  {
   "cell_type": "markdown",
   "metadata": {},
   "source": [
    "### Algorithms\n",
    "1. KSVM\n",
    "2. XGBClassifier"
   ]
  },
  {
   "cell_type": "markdown",
   "metadata": {},
   "source": [
    "### (1) KSVM"
   ]
  },
  {
   "cell_type": "code",
   "execution_count": 96,
   "metadata": {},
   "outputs": [
    {
     "name": "stdout",
     "output_type": "stream",
     "text": [
      "Wall time: 4min 53s\n"
     ]
    }
   ],
   "source": [
    "%%time\n",
    "poly_svc_all = SVC(kernel=\"poly\", degree=2, gamma=1, coef0=0).fit(all_train_X, y)\n",
    "poly_svc_tit = SVC(kernel=\"poly\", degree=2, gamma=1, coef0=0).fit(tit_train_X, y)"
   ]
  },
  {
   "cell_type": "code",
   "execution_count": 97,
   "metadata": {},
   "outputs": [
    {
     "name": "stdout",
     "output_type": "stream",
     "text": [
      "use all : [ 0.65206693  0.65797244  0.6474643   0.6553422   0.65288035]\n",
      "use title : [ 0.6628937   0.66830709  0.65435746  0.66962088  0.66174298]\n"
     ]
    }
   ],
   "source": [
    "print(\"use all :\", cross_val_score(poly_svc_all, all_train_X, y, cv=cv))\n",
    "print(\"use title :\", cross_val_score(poly_svc_tit, tit_train_X, y, cv=cv))"
   ]
  },
  {
   "cell_type": "code",
   "execution_count": 98,
   "metadata": {
    "collapsed": true
   },
   "outputs": [],
   "source": [
    "poly_all_pred = poly_svc_all.predict(all_test_X)\n",
    "poly_tit_pred = poly_svc_tit.predict(tit_test_X)"
   ]
  },
  {
   "cell_type": "code",
   "execution_count": 99,
   "metadata": {
    "collapsed": true
   },
   "outputs": [],
   "source": [
    "poly_all_answer = pd.concat([pd.DataFrame(df_test['id'], columns=['id']), pd.DataFrame(poly_all_pred, columns=['prediction'])], axis=1)\n",
    "poly_all_answer.to_csv('./poly_all_answer.csv', index=False)"
   ]
  },
  {
   "cell_type": "code",
   "execution_count": 100,
   "metadata": {
    "collapsed": true
   },
   "outputs": [],
   "source": [
    "poly_tit_answer = pd.concat([pd.DataFrame(df_test['id'], columns=['id']), pd.DataFrame(poly_tit_pred, columns=['prediction'])], axis=1)\n",
    "poly_tit_answer.to_csv('./poly_tit_answer.csv', index=False)"
   ]
  },
  {
   "cell_type": "markdown",
   "metadata": {},
   "source": [
    "* Submisiion\n",
    "  - use all : 0.45676\n",
    "  - use title : 0.50353"
   ]
  },
  {
   "cell_type": "markdown",
   "metadata": {},
   "source": [
    "### (2) XGBClassifier"
   ]
  },
  {
   "cell_type": "markdown",
   "metadata": {},
   "source": [
    "#### max_depth=200 (Best parameter)"
   ]
  },
  {
   "cell_type": "code",
   "execution_count": 101,
   "metadata": {},
   "outputs": [
    {
     "name": "stdout",
     "output_type": "stream",
     "text": [
      "Wall time: 4h 12min 20s\n"
     ]
    }
   ],
   "source": [
    "%%time\n",
    "xgb_clf_all = XGBClassifier(max_depth=200).fit(all_train_X, y)\n",
    "xgb_clf_tit = XGBClassifier(max_depth=200).fit(tit_train_X, y)"
   ]
  },
  {
   "cell_type": "code",
   "execution_count": 102,
   "metadata": {},
   "outputs": [
    {
     "name": "stdout",
     "output_type": "stream",
     "text": [
      "use all : [ 0.64812992  0.64173228  0.63909404  0.6459872   0.64500246]\n",
      "use title : [ 0.65009843  0.64665354  0.62973904  0.64155588  0.64303299]\n"
     ]
    }
   ],
   "source": [
    "print(\"use all :\", cross_val_score(xgb_clf_all, all_train_X, y, cv=cv))\n",
    "print(\"use title :\", cross_val_score(xgb_clf_tit, tit_train_X, y, cv=cv))"
   ]
  },
  {
   "cell_type": "code",
   "execution_count": 104,
   "metadata": {
    "collapsed": true
   },
   "outputs": [],
   "source": [
    "xgb_clf_all_pred = xgb_clf_all.predict(all_test_X)\n",
    "xgb_clf_tit_pred = xgb_clf_tit.predict(tit_test_X)"
   ]
  },
  {
   "cell_type": "code",
   "execution_count": 105,
   "metadata": {
    "collapsed": true
   },
   "outputs": [],
   "source": [
    "xgb_clf_all_answer = pd.concat([pd.DataFrame(df_test['id'], columns=['id']), pd.DataFrame(xgb_clf_all_pred, columns=['prediction'])], axis=1)\n",
    "xgb_clf_all_answer.to_csv('./xgb_clf_all_answer.csv', index=False)"
   ]
  },
  {
   "cell_type": "code",
   "execution_count": 106,
   "metadata": {
    "collapsed": true
   },
   "outputs": [],
   "source": [
    "xgb_clf_tit_answer = pd.concat([pd.DataFrame(df_test['id'], columns=['id']), pd.DataFrame(xgb_clf_tit_pred, columns=['prediction'])], axis=1)\n",
    "xgb_clf_tit_answer.to_csv('./xgb_clf_tit_answer.csv', index=False)"
   ]
  },
  {
   "cell_type": "markdown",
   "metadata": {},
   "source": [
    "* Submisiion\n",
    "  - use all : 0.44852 \n",
    "  - use title : 0.52223"
   ]
  },
  {
   "cell_type": "markdown",
   "metadata": {},
   "source": [
    "# OvR"
   ]
  },
  {
   "cell_type": "markdown",
   "metadata": {},
   "source": [
    "* #### KSVM"
   ]
  },
  {
   "cell_type": "code",
   "execution_count": 107,
   "metadata": {},
   "outputs": [
    {
     "name": "stdout",
     "output_type": "stream",
     "text": [
      "Wall time: 4min 35s\n"
     ]
    }
   ],
   "source": [
    "%%time\n",
    "ovr_ksvm_tit = OneVsRestClassifier(SVC(kernel=\"poly\", degree=2, gamma=1, coef0=0)).fit(tit_train_X, y)"
   ]
  },
  {
   "cell_type": "code",
   "execution_count": 108,
   "metadata": {},
   "outputs": [
    {
     "name": "stdout",
     "output_type": "stream",
     "text": [
      "use title : [ 0.66535433  0.67076772  0.65731167  0.66715903  0.66814377]\n"
     ]
    }
   ],
   "source": [
    "print(\"use title :\", cross_val_score(ovr_ksvm_tit, tit_train_X, y, cv=cv))"
   ]
  },
  {
   "cell_type": "code",
   "execution_count": 110,
   "metadata": {
    "collapsed": true
   },
   "outputs": [],
   "source": [
    "ovr_ksvm_tit_pred = ovr_ksvm_tit.predict(tit_test_X)"
   ]
  },
  {
   "cell_type": "code",
   "execution_count": 111,
   "metadata": {
    "collapsed": true
   },
   "outputs": [],
   "source": [
    "ovr_ksvm_tit_answer = pd.concat([pd.DataFrame(df_test['id'], columns=['id']), pd.DataFrame(ovr_ksvm_tit_pred, columns=['prediction'])], axis=1)\n",
    "ovr_ksvm_tit_answer.to_csv('./ovr_ksvm_tit_answer.csv', index=False)"
   ]
  },
  {
   "cell_type": "markdown",
   "metadata": {},
   "source": [
    "* submission : 0.53936"
   ]
  },
  {
   "cell_type": "markdown",
   "metadata": {},
   "source": [
    "* #### XGBClassifier"
   ]
  },
  {
   "cell_type": "code",
   "execution_count": 112,
   "metadata": {},
   "outputs": [
    {
     "name": "stdout",
     "output_type": "stream",
     "text": [
      "Wall time: 34min 53s\n"
     ]
    }
   ],
   "source": [
    "%%time\n",
    "ovr_xgb_clf_tit = OneVsRestClassifier(XGBClassifier(max_depth=200)).fit(tit_train_X, y)"
   ]
  },
  {
   "cell_type": "code",
   "execution_count": 113,
   "metadata": {},
   "outputs": [
    {
     "name": "stdout",
     "output_type": "stream",
     "text": [
      "use title : [ 0.65354331  0.65305118  0.63170852  0.64106352  0.65189562]\n"
     ]
    }
   ],
   "source": [
    "print(\"use title :\", cross_val_score(ovr_xgb_clf_tit, tit_train_X, y, cv=cv))"
   ]
  },
  {
   "cell_type": "code",
   "execution_count": 114,
   "metadata": {
    "collapsed": true
   },
   "outputs": [],
   "source": [
    "ovr_xgb_clf_tit_pred = ovr_xgb_clf_tit.predict(tit_test_X)"
   ]
  },
  {
   "cell_type": "code",
   "execution_count": 115,
   "metadata": {
    "collapsed": true
   },
   "outputs": [],
   "source": [
    "ovr_xgb_clf_tit_answer = pd.concat([pd.DataFrame(df_test['id'], columns=['id']), pd.DataFrame(ovr_xgb_clf_tit_pred, columns=['prediction'])], axis=1)\n",
    "ovr_xgb_clf_tit_answer.to_csv('./ovr_xgb_clf_tit_answer.csv', index=False)"
   ]
  },
  {
   "cell_type": "markdown",
   "metadata": {},
   "source": [
    "* submission : 0.54136"
   ]
  },
  {
   "cell_type": "code",
   "execution_count": null,
   "metadata": {
    "collapsed": true
   },
   "outputs": [],
   "source": []
  },
  {
   "cell_type": "markdown",
   "metadata": {
    "collapsed": true
   },
   "source": [
    "# OvO"
   ]
  },
  {
   "cell_type": "markdown",
   "metadata": {},
   "source": [
    "* #### KSVM"
   ]
  },
  {
   "cell_type": "code",
   "execution_count": 116,
   "metadata": {},
   "outputs": [
    {
     "name": "stdout",
     "output_type": "stream",
     "text": [
      "Wall time: 53.9 s\n"
     ]
    }
   ],
   "source": [
    "%%time\n",
    "ovo_ksvm_tit = OneVsOneClassifier(SVC(kernel=\"poly\", degree=2, gamma=1, coef0=0)).fit(tit_train_X, y)"
   ]
  },
  {
   "cell_type": "code",
   "execution_count": 117,
   "metadata": {},
   "outputs": [
    {
     "name": "stdout",
     "output_type": "stream",
     "text": [
      "use title : [ 0.66387795  0.66830709  0.65484983  0.66912851  0.66174298]\n"
     ]
    }
   ],
   "source": [
    "print(\"use title :\", cross_val_score(ovo_ksvm_tit, tit_train_X, y, cv=cv))"
   ]
  },
  {
   "cell_type": "code",
   "execution_count": 175,
   "metadata": {
    "collapsed": true
   },
   "outputs": [],
   "source": [
    "ovo_ksvm_tit_pred = ovo_ksvm_tit.predict(tit_test_X)"
   ]
  },
  {
   "cell_type": "code",
   "execution_count": 176,
   "metadata": {
    "collapsed": true
   },
   "outputs": [],
   "source": [
    "ovo_ksvm_tit_answer = pd.concat([pd.DataFrame(df_test['id'], columns=['id']), pd.DataFrame(ovo_ksvm_tit_pred, columns=['prediction'])], axis=1)\n",
    "ovo_ksvm_tit_answer.to_csv('./ovo_ksvm_tit_answer.csv', index=False)"
   ]
  },
  {
   "cell_type": "markdown",
   "metadata": {},
   "source": [
    "* submission : 0.49999"
   ]
  },
  {
   "cell_type": "markdown",
   "metadata": {},
   "source": [
    "* #### XGBClassifier"
   ]
  },
  {
   "cell_type": "code",
   "execution_count": 177,
   "metadata": {},
   "outputs": [
    {
     "name": "stdout",
     "output_type": "stream",
     "text": [
      "Wall time: 29min 14s\n"
     ]
    }
   ],
   "source": [
    "%%time\n",
    "ovo_xgb_clf_tit = OneVsOneClassifier(XGBClassifier(max_depth=200)).fit(tit_train_X, y)"
   ]
  },
  {
   "cell_type": "code",
   "execution_count": 178,
   "metadata": {},
   "outputs": [
    {
     "name": "stdout",
     "output_type": "stream",
     "text": [
      "use title : [ 0.64271654  0.63877953  0.63318562  0.64451009  0.64451009]\n"
     ]
    }
   ],
   "source": [
    "print(\"use title :\", cross_val_score(ovo_xgb_clf_tit, tit_train_X, y, cv=cv))"
   ]
  },
  {
   "cell_type": "code",
   "execution_count": 179,
   "metadata": {
    "collapsed": true
   },
   "outputs": [],
   "source": [
    "ovo_xgb_clf_tit_pred = ovo_xgb_clf_tit.predict(tit_test_X)"
   ]
  },
  {
   "cell_type": "code",
   "execution_count": 180,
   "metadata": {
    "collapsed": true
   },
   "outputs": [],
   "source": [
    "ovo_xgb_clf_tit_answer = pd.concat([pd.DataFrame(df_test['id'], columns=['id']), pd.DataFrame(ovo_xgb_clf_tit_pred, columns=['prediction'])], axis=1)\n",
    "ovo_xgb_clf_tit_answer.to_csv('./ovo_xgb_clf_tit_answer.csv', index=False)"
   ]
  },
  {
   "cell_type": "markdown",
   "metadata": {},
   "source": [
    "* submission : 0.49603"
   ]
  },
  {
   "cell_type": "markdown",
   "metadata": {},
   "source": [
    "## Results\n",
    "* Classification\n",
    "  * KSVM all : 0.45676\n",
    "  * KSVM title : 0.50353\n",
    "  * XGBClassifier all : 0.44852\n",
    "  * XGBClassifier title : 0.52223\n",
    "  * OvR KSVM title : 0.53936\n",
    "  * OvR XGBClassifier title : 0.54136\n",
    "  * OvR KSVM title : 0.49999\n",
    "  * OvR XGBClassifier title : 0.49603"
   ]
  },
  {
   "cell_type": "code",
   "execution_count": null,
   "metadata": {
    "collapsed": true
   },
   "outputs": [],
   "source": []
  },
  {
   "cell_type": "markdown",
   "metadata": {},
   "source": [
    "# Modeling (2) Regression"
   ]
  },
  {
   "cell_type": "markdown",
   "metadata": {},
   "source": [
    "* ### LogisticRegression"
   ]
  },
  {
   "cell_type": "code",
   "execution_count": 9,
   "metadata": {},
   "outputs": [
    {
     "name": "stdout",
     "output_type": "stream",
     "text": [
      "Wall time: 3min 56s\n"
     ]
    }
   ],
   "source": [
    "%%time\n",
    "mult_all_log = LogisticRegression(class_weight='balanced', multi_class='multinomial', solver='newton-cg').fit(all_train_X, y)\n",
    "mult_tit_log = LogisticRegression(class_weight='balanced', multi_class='multinomial', solver='newton-cg').fit(tit_train_X, y)"
   ]
  },
  {
   "cell_type": "code",
   "execution_count": 12,
   "metadata": {},
   "outputs": [
    {
     "name": "stdout",
     "output_type": "stream",
     "text": [
      "use all : [ 0.63090551  0.62155512  0.60758247  0.63121615  0.63170852]\n",
      "use title : [ 0.62057087  0.60383858  0.58247169  0.61890694  0.61939931]\n"
     ]
    }
   ],
   "source": [
    "print(\"use all :\", cross_val_score(mult_all_log, all_train_X, y, cv=cv))\n",
    "print(\"use title :\", cross_val_score(mult_tit_log, tit_train_X, y, cv=cv))"
   ]
  },
  {
   "cell_type": "code",
   "execution_count": 13,
   "metadata": {
    "collapsed": true
   },
   "outputs": [],
   "source": [
    "mult_all_log_pred = mult_all_log.predict(all_test_X)\n",
    "mult_tit_log_pred = mult_tit_log.predict(tit_test_X)"
   ]
  },
  {
   "cell_type": "code",
   "execution_count": 14,
   "metadata": {
    "collapsed": true
   },
   "outputs": [],
   "source": [
    "mult_all_log_answer = pd.concat([pd.DataFrame(df_test['id'], columns=['id']), pd.DataFrame(mult_all_log_pred, columns=['prediction'])], axis=1)\n",
    "mult_all_log_answer.to_csv('./mult_all_log_answer.csv', index=False)"
   ]
  },
  {
   "cell_type": "code",
   "execution_count": 15,
   "metadata": {
    "collapsed": true
   },
   "outputs": [],
   "source": [
    "mult_tit_log_answer = pd.concat([pd.DataFrame(df_test['id'], columns=['id']), pd.DataFrame(mult_tit_log_pred, columns=['prediction'])], axis=1)\n",
    "mult_tit_log_answer.to_csv('./mult_tit_log_answer.csv', index=False)"
   ]
  },
  {
   "cell_type": "markdown",
   "metadata": {},
   "source": [
    "* Submisiion\n",
    "  - use all : 0.51732\n",
    "  - use title : 0.51495"
   ]
  },
  {
   "cell_type": "markdown",
   "metadata": {},
   "source": [
    "* Submisiion : 'sag'\n",
    "  - use all : 0.51232\n",
    "  - use title : 0.51576"
   ]
  },
  {
   "cell_type": "markdown",
   "metadata": {},
   "source": [
    "* Submisiion : 'saga'\n",
    "  - use all : 0.48918\n",
    "  - use title : 0.50585"
   ]
  },
  {
   "cell_type": "markdown",
   "metadata": {},
   "source": [
    "* Submisiion : 'lbfgs'\n",
    "  - use all : 0.51665\n",
    "  - use title : 0.51466"
   ]
  },
  {
   "cell_type": "markdown",
   "metadata": {},
   "source": [
    "* #### OvR - Logistic Regression"
   ]
  },
  {
   "cell_type": "code",
   "execution_count": 287,
   "metadata": {},
   "outputs": [
    {
     "name": "stdout",
     "output_type": "stream",
     "text": [
      "Wall time: 6min 39s\n"
     ]
    }
   ],
   "source": [
    "%%time\n",
    "ovr_log_all = OneVsRestClassifier(LogisticRegression(class_weight='balanced', multi_class='multinomial', solver='newton-cg')).fit(all_train_X, y)\n",
    "ovr_log_tit = OneVsRestClassifier(LogisticRegression(class_weight='balanced', multi_class='multinomial', solver='newton-cg')).fit(tit_train_X, y)"
   ]
  },
  {
   "cell_type": "code",
   "execution_count": 288,
   "metadata": {},
   "outputs": [
    {
     "name": "stdout",
     "output_type": "stream",
     "text": [
      "use all : [ 0.64566929  0.6363189   0.6272772   0.64795667  0.65140325]\n",
      "use title : [ 0.63582677  0.62746063  0.61447563  0.64500246  0.64204825]\n"
     ]
    }
   ],
   "source": [
    "print(\"use all :\", cross_val_score(ovr_log_all, all_train_X, y, cv=cv))\n",
    "print(\"use title :\", cross_val_score(ovr_log_tit, tit_train_X, y, cv=cv))"
   ]
  },
  {
   "cell_type": "code",
   "execution_count": 289,
   "metadata": {
    "collapsed": true
   },
   "outputs": [],
   "source": [
    "ovr_log_all_pred = ovr_log_all.predict(all_test_X)\n",
    "ovr_log_tit_pred = ovr_log_tit.predict(tit_test_X)"
   ]
  },
  {
   "cell_type": "code",
   "execution_count": 290,
   "metadata": {
    "collapsed": true
   },
   "outputs": [],
   "source": [
    "ovr_log_all_answer = pd.concat([pd.DataFrame(df_test['id'], columns=['id']), pd.DataFrame(ovr_log_all_pred, columns=['prediction'])], axis=1)\n",
    "ovr_log_all_answer.to_csv('./ovr_log_all_answer.csv', index=False)"
   ]
  },
  {
   "cell_type": "code",
   "execution_count": 291,
   "metadata": {
    "collapsed": true
   },
   "outputs": [],
   "source": [
    "ovr_log_tit_answer = pd.concat([pd.DataFrame(df_test['id'], columns=['id']), pd.DataFrame(ovr_log_tit_pred, columns=['prediction'])], axis=1)\n",
    "ovr_log_tit_answer.to_csv('./ovr_log_tit_answer.csv', index=False)"
   ]
  },
  {
   "cell_type": "markdown",
   "metadata": {},
   "source": [
    "* Submisiion\n",
    "  - use all : 0.54821\n",
    "  - use title : 0.53964"
   ]
  },
  {
   "cell_type": "code",
   "execution_count": null,
   "metadata": {
    "collapsed": true
   },
   "outputs": [],
   "source": []
  },
  {
   "cell_type": "markdown",
   "metadata": {},
   "source": [
    "* #### OvO - Logistic Regression"
   ]
  },
  {
   "cell_type": "code",
   "execution_count": 85,
   "metadata": {},
   "outputs": [
    {
     "name": "stdout",
     "output_type": "stream",
     "text": [
      "Wall time: 7min 32s\n"
     ]
    }
   ],
   "source": [
    "%%time\n",
    "ovo_log_all = OneVsOneClassifier(LogisticRegression(class_weight='balanced', multi_class='multinomial', solver='newton-cg')).fit(all_train_X, y)\n",
    "ovo_log_tit = OneVsOneClassifier(LogisticRegression(class_weight='balanced', multi_class='multinomial', solver='newton-cg')).fit(tit_train_X, y)"
   ]
  },
  {
   "cell_type": "code",
   "execution_count": 86,
   "metadata": {},
   "outputs": [
    {
     "name": "stdout",
     "output_type": "stream",
     "text": [
      "use all : [ 0.64222441  0.6269685   0.61742984  0.63958641  0.64155588]\n",
      "use title : [ 0.63041339  0.61269685  0.59133432  0.63220089  0.62186115]\n"
     ]
    }
   ],
   "source": [
    "print(\"use all :\", cross_val_score(ovo_log_all, all_train_X, y, cv=cv))\n",
    "print(\"use title :\", cross_val_score(ovo_log_tit, tit_train_X, y, cv=cv))"
   ]
  },
  {
   "cell_type": "code",
   "execution_count": 87,
   "metadata": {
    "collapsed": true
   },
   "outputs": [],
   "source": [
    "ovo_log_all_pred = ovo_log_all.predict(all_test_X)\n",
    "ovo_log_tit_pred = ovo_log_tit.predict(tit_test_X)"
   ]
  },
  {
   "cell_type": "code",
   "execution_count": 88,
   "metadata": {
    "collapsed": true
   },
   "outputs": [],
   "source": [
    "ovo_log_all_answer = pd.concat([pd.DataFrame(df_test['id'], columns=['id']), pd.DataFrame(ovo_log_all_pred, columns=['prediction'])], axis=1)\n",
    "ovo_log_all_answer.to_csv('./ovo_log_all_answer.csv', index=False)"
   ]
  },
  {
   "cell_type": "code",
   "execution_count": 89,
   "metadata": {
    "collapsed": true
   },
   "outputs": [],
   "source": [
    "ovo_log_tit_answer = pd.concat([pd.DataFrame(df_test['id'], columns=['id']), pd.DataFrame(ovo_log_tit_pred, columns=['prediction'])], axis=1)\n",
    "ovo_log_tit_answer.to_csv('./ovo_log_tit_answer.csv', index=False)"
   ]
  },
  {
   "cell_type": "markdown",
   "metadata": {},
   "source": [
    "* Submisiion\n",
    "  - use all : 0.53379\n",
    "  - use title : 0.51853"
   ]
  },
  {
   "cell_type": "code",
   "execution_count": null,
   "metadata": {
    "collapsed": true
   },
   "outputs": [],
   "source": []
  },
  {
   "cell_type": "markdown",
   "metadata": {},
   "source": [
    "# Model Selection"
   ]
  },
  {
   "cell_type": "markdown",
   "metadata": {},
   "source": [
    "* OneVsRestClassifier(LogisticRegression(class_weight='balanced', multi_class='multinomial', solver='newton-cg')).fit(all_train_X, y)"
   ]
  },
  {
   "cell_type": "markdown",
   "metadata": {},
   "source": [
    "* LogisticRegression - OneVsRestClassifier 적용\n",
    "- title / description 모두를 사용한 data\n",
    "- class_weight='balanced'\n",
    "- multi_class='multinomial'\n",
    "- solver='newton-cg'"
   ]
  },
  {
   "cell_type": "markdown",
   "metadata": {},
   "source": [
    "* score : 0.54821 ((Kaggle 1st score : 0.72189)"
   ]
  }
 ],
 "metadata": {
  "kernelspec": {
   "display_name": "Python 3",
   "language": "python",
   "name": "python3"
  },
  "language_info": {
   "codemirror_mode": {
    "name": "ipython",
    "version": 3
   },
   "file_extension": ".py",
   "mimetype": "text/x-python",
   "name": "python",
   "nbconvert_exporter": "python",
   "pygments_lexer": "ipython3",
   "version": "3.6.3"
  }
 },
 "nbformat": 4,
 "nbformat_minor": 2
}
