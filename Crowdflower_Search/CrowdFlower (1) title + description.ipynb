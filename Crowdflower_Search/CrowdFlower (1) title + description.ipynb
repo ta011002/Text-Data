{
 "cells": [
  {
   "cell_type": "markdown",
   "metadata": {},
   "source": [
    "# Crowdflower Search Result Relevance"
   ]
  },
  {
   "cell_type": "markdown",
   "metadata": {},
   "source": [
    "* 설명\n",
    "  * 검색 결과의 관련성을 측정하는 데 사용할 수있는 오픈 소스 모델을 만드는 것\n",
    "  * 전자 상거래 사이트의 검색어 및 결과 제품, 제품 설명을 통해 검색 알고리즘의 정확성을 평가"
   ]
  },
  {
   "cell_type": "markdown",
   "metadata": {},
   "source": [
    "* 평가\n",
    "  * 두 등급 간의 일치도를 측정하는 quadratic weighted kappa 기준으로 채점\n",
    "  * 인간의 평가 점수와 예측 평가 점수의 일치도 측정\n",
    "  * 0 (평가자 간의 임의 합의)에서 1 (평가자 간의 완전한 합의)"
   ]
  },
  {
   "cell_type": "markdown",
   "metadata": {},
   "source": [
    "* ### Data 설명"
   ]
  },
  {
   "cell_type": "markdown",
   "metadata": {},
   "source": [
    "* train.csv - training data set\n",
    "  - id : 제품 ID\n",
    "  - query : 검색어 사용\n",
    "  - product title : 제품 이름\n",
    "  - product_description : HTML 형식 지정 태그와 함께 전체 제품 설명\n",
    "  - median_relevance : 3 명의 평가자에 의한 중앙 관련성 점수. 1 - 4 사이의 정수\n",
    "  - relevance_variance : 평가자가 준 관련성 점수의 편차. "
   ]
  },
  {
   "cell_type": "markdown",
   "metadata": {},
   "source": [
    "* test.csv - test data set\n",
    "  - id : 제품 ID\n",
    "  - query : 검색어 사용\n",
    "  - product title : 제품 이름\n",
    "  - product_description : HTML 형식 지정 태그와 함께 전체 제품 설명"
   ]
  },
  {
   "cell_type": "markdown",
   "metadata": {},
   "source": [
    "* ampleSubmission.csv - sample submission correct format\n",
    "  - id : 제품 ID\n",
    "  - prediction : 예측 값"
   ]
  },
  {
   "cell_type": "code",
   "execution_count": null,
   "metadata": {
    "collapsed": true
   },
   "outputs": [],
   "source": []
  },
  {
   "cell_type": "markdown",
   "metadata": {},
   "source": [
    "## Training Goal"
   ]
  },
  {
   "cell_type": "markdown",
   "metadata": {},
   "source": [
    "* 검색어와 상품 설명 사이의 관계를 확인하기 위해서 qeury 와 description(title + description) 을 따로 embedding (Question / Result)\n",
    "  - TF-IDF embedding 시 toarray를 할 경우 memory를 많이 차지하기 때문에 transform 만으로 sparse matrix 생성"
   ]
  },
  {
   "cell_type": "markdown",
   "metadata": {},
   "source": [
    "* 각각 embedding 후 concate 등을 통해서 matrix 병합"
   ]
  },
  {
   "cell_type": "markdown",
   "metadata": {},
   "source": [
    "* target data 가 1~4 정수의 평가 점수로 neumeric 하기 때문에 xgboot 등을 통해서 regression 적용"
   ]
  },
  {
   "cell_type": "code",
   "execution_count": null,
   "metadata": {
    "collapsed": true
   },
   "outputs": [],
   "source": []
  },
  {
   "cell_type": "markdown",
   "metadata": {},
   "source": [
    "## 1. Preprocessing\n",
    "  1. Train data 와 Test data 를 합쳐 corpus 제작 :**sentence**\n",
    "  2. 3개의 product 정보를 하나로 통합 : **sentence**\n",
    "  3. 대문자 Text data 를 소문자로 변환 : **sentence**\n",
    "  4. stopword - 2글자 이상의 알파벳, ennglish, html 용어 : **word list**\n",
    "  5. stemming : **word list**\n",
    "  6. word embedding 을 위해 각 product 의 word list 를 sentence 로 변환 :**sentence**\n",
    "  7. TF-IDF : **matrix**"
   ]
  },
  {
   "cell_type": "markdown",
   "metadata": {},
   "source": [
    "## 2. Modeling\n",
    "  1. TruncatedSVD\n",
    "  2. Modeling"
   ]
  },
  {
   "cell_type": "code",
   "execution_count": 4,
   "metadata": {
    "collapsed": true
   },
   "outputs": [],
   "source": [
    "import numpy as np\n",
    "import pandas as pd\n",
    "import sklearn as sk\n",
    "\n",
    "import matplotlib as mpl\n",
    "import matplotlib.pylab as plt\n",
    "from mpl_toolkits.mplot3d import Axes3D\n",
    "\n",
    "from sklearn.metrics import confusion_matrix, classification_report, roc_curve, auc, roc_auc_score, accuracy_score\n",
    "\n",
    "import joblib\n",
    "from joblib import dump, load\n",
    "\n",
    "pd.options.display.max_columns = 400\n",
    "pd.options.display.max_rows = 200\n",
    "pd.options.display.max_colwidth = 600\n",
    "pd.options.display.precision = 10"
   ]
  },
  {
   "cell_type": "markdown",
   "metadata": {},
   "source": [
    "## Data load / Variables define"
   ]
  },
  {
   "cell_type": "markdown",
   "metadata": {},
   "source": [
    "* train data / test data / submission data load"
   ]
  },
  {
   "cell_type": "code",
   "execution_count": 5,
   "metadata": {
    "collapsed": true
   },
   "outputs": [],
   "source": [
    "df_train = pd.read_excel(\"./__data/excel/train.xlsx\").fillna(\"\")\n",
    "df_test = pd.read_excel(\"./__data/excel/test.xlsx\").fillna(\"\")\n",
    "test_sub = pd.read_excel(\"./__data/excel/sampleSubmission.xlsx\")"
   ]
  },
  {
   "cell_type": "code",
   "execution_count": 6,
   "metadata": {
    "scrolled": true
   },
   "outputs": [
    {
     "data": {
      "text/html": [
       "<div>\n",
       "<style>\n",
       "    .dataframe thead tr:only-child th {\n",
       "        text-align: right;\n",
       "    }\n",
       "\n",
       "    .dataframe thead th {\n",
       "        text-align: left;\n",
       "    }\n",
       "\n",
       "    .dataframe tbody tr th {\n",
       "        vertical-align: top;\n",
       "    }\n",
       "</style>\n",
       "<table border=\"1\" class=\"dataframe\">\n",
       "  <thead>\n",
       "    <tr style=\"text-align: right;\">\n",
       "      <th></th>\n",
       "      <th>id</th>\n",
       "      <th>query</th>\n",
       "      <th>product_title</th>\n",
       "      <th>product_description</th>\n",
       "      <th>median_relevance</th>\n",
       "      <th>relevance_variance</th>\n",
       "    </tr>\n",
       "  </thead>\n",
       "  <tbody>\n",
       "    <tr>\n",
       "      <th>10154</th>\n",
       "      <td>32663</td>\n",
       "      <td>playstation vita system</td>\n",
       "      <td>MLB 15: The Show (PlayStation Vita)</td>\n",
       "      <td>An essential part of every fan?셲 season and The Show?셲 10th anniversary edition, MLB 15 The Show is full of new features that deliver the most accurate sports simulation possible. \\n\\nFor the first time, partnerships with real-world equipment brands will bring MLB-accurate bats, gloves, shoes, and batting gloves to the game. Customize your Road to The Show player in the best gear from the sport?셲 best brands. \\n\\nIt?셲 not just the gear that?셲 more authentic this year. Players and teams also have more unique personalities and styles plus a wide array of emotional reactions to all the heartb...</td>\n",
       "      <td>2</td>\n",
       "      <td>1.247</td>\n",
       "    </tr>\n",
       "    <tr>\n",
       "      <th>10155</th>\n",
       "      <td>32666</td>\n",
       "      <td>flower bulbs</td>\n",
       "      <td>Junkyard Findings Vintage Trinkets-Small Typo Bulbs 8/Pkg</td>\n",
       "      <td>PRIMA FLOWERS-Junkyard Findings Vintage Trinkets: Typo Bulbs. These trinkets have a vintage style that will look great when incorporated into various paper crafting; mixed media; or home accent projects. Each one looks like half of a light bulb and features a different sentiment printed on the surface. Overall measurements are 1-1/4x1/2x1/4 inch. This package contains eight total trinkets. Imported</td>\n",
       "      <td>1</td>\n",
       "      <td>0.471</td>\n",
       "    </tr>\n",
       "    <tr>\n",
       "      <th>10156</th>\n",
       "      <td>32668</td>\n",
       "      <td>polar heart rate monitor</td>\n",
       "      <td>Polar F6 Black Coal Heart Rate Monitor Mens Pink Tone</td>\n",
       "      <td></td>\n",
       "      <td>4</td>\n",
       "      <td>0.000</td>\n",
       "    </tr>\n",
       "  </tbody>\n",
       "</table>\n",
       "</div>"
      ],
      "text/plain": [
       "          id                     query  \\\n",
       "10154  32663   playstation vita system   \n",
       "10155  32666              flower bulbs   \n",
       "10156  32668  polar heart rate monitor   \n",
       "\n",
       "                                                   product_title  \\\n",
       "10154                        MLB 15: The Show (PlayStation Vita)   \n",
       "10155  Junkyard Findings Vintage Trinkets-Small Typo Bulbs 8/Pkg   \n",
       "10156      Polar F6 Black Coal Heart Rate Monitor Mens Pink Tone   \n",
       "\n",
       "                                                                                                                                                                                                                                                                                                                                                                                                                                                                                                                                                                                                           product_description  \\\n",
       "10154  An essential part of every fan?셲 season and The Show?셲 10th anniversary edition, MLB 15 The Show is full of new features that deliver the most accurate sports simulation possible. \\n\\nFor the first time, partnerships with real-world equipment brands will bring MLB-accurate bats, gloves, shoes, and batting gloves to the game. Customize your Road to The Show player in the best gear from the sport?셲 best brands. \\n\\nIt?셲 not just the gear that?셲 more authentic this year. Players and teams also have more unique personalities and styles plus a wide array of emotional reactions to all the heartb...   \n",
       "10155                                                                                                                                                                                                        PRIMA FLOWERS-Junkyard Findings Vintage Trinkets: Typo Bulbs. These trinkets have a vintage style that will look great when incorporated into various paper crafting; mixed media; or home accent projects. Each one looks like half of a light bulb and features a different sentiment printed on the surface. Overall measurements are 1-1/4x1/2x1/4 inch. This package contains eight total trinkets. Imported   \n",
       "10156                                                                                                                                                                                                                                                                                                                                                                                                                                                                                                                                                                                                                            \n",
       "\n",
       "       median_relevance  relevance_variance  \n",
       "10154                 2               1.247  \n",
       "10155                 1               0.471  \n",
       "10156                 4               0.000  "
      ]
     },
     "execution_count": 6,
     "metadata": {},
     "output_type": "execute_result"
    }
   ],
   "source": [
    "df_train.tail(3)"
   ]
  },
  {
   "cell_type": "markdown",
   "metadata": {},
   "source": [
    "* ### html 제거"
   ]
  },
  {
   "cell_type": "code",
   "execution_count": 7,
   "metadata": {},
   "outputs": [
    {
     "name": "stderr",
     "output_type": "stream",
     "text": [
      "C:\\Users\\tjdal\\Anaconda3\\lib\\site-packages\\ipykernel_launcher.py:3: SettingWithCopyWarning: \n",
      "A value is trying to be set on a copy of a slice from a DataFrame\n",
      "\n",
      "See the caveats in the documentation: http://pandas.pydata.org/pandas-docs/stable/indexing.html#indexing-view-versus-copy\n",
      "  This is separate from the ipykernel package so we can avoid doing imports until\n"
     ]
    },
    {
     "name": "stdout",
     "output_type": "stream",
     "text": [
      "Wall time: 1.26 s\n"
     ]
    }
   ],
   "source": [
    "%%time\n",
    "for num in range(len(df_train['product_description'])):\n",
    "    if '<ul>' in df_train['product_description'][num]:\n",
    "        df_train['product_description'][num] = []        "
   ]
  },
  {
   "cell_type": "code",
   "execution_count": 8,
   "metadata": {
    "collapsed": true
   },
   "outputs": [],
   "source": [
    "y = df_train['median_relevance']"
   ]
  },
  {
   "cell_type": "code",
   "execution_count": 9,
   "metadata": {
    "scrolled": true
   },
   "outputs": [
    {
     "data": {
      "text/plain": [
       "10154    2\n",
       "10155    1\n",
       "10156    4\n",
       "Name: median_relevance, dtype: int64"
      ]
     },
     "execution_count": 9,
     "metadata": {},
     "output_type": "execute_result"
    }
   ],
   "source": [
    "y.tail(3)"
   ]
  },
  {
   "cell_type": "code",
   "execution_count": 10,
   "metadata": {},
   "outputs": [
    {
     "data": {
      "text/plain": [
       "array([1, 4, 2, 3], dtype=int64)"
      ]
     },
     "execution_count": 10,
     "metadata": {},
     "output_type": "execute_result"
    }
   ],
   "source": [
    "y.unique()"
   ]
  },
  {
   "cell_type": "code",
   "execution_count": 11,
   "metadata": {
    "collapsed": true
   },
   "outputs": [],
   "source": [
    "def count_bar_plot(data):\n",
    "    data_count = data.value_counts()\n",
    "    data_count.plot(kind='bar')\n",
    "    plt.ylabel('Data count')\n",
    "    fig = plt.gcf()\n",
    "    fig.set_size_inches(12, 5)\n",
    "    plt.show()"
   ]
  },
  {
   "cell_type": "code",
   "execution_count": 12,
   "metadata": {
    "scrolled": true
   },
   "outputs": [
    {
     "data": {
      "image/png": "[encoded data removed]",
      "text/plain": [
       "<matplotlib.figure.Figure at 0x12b967a5b00>"
      ]
     },
     "metadata": {},
     "output_type": "display_data"
    }
   ],
   "source": [
    "count_bar_plot(y)"
   ]
  },
  {
   "cell_type": "code",
   "execution_count": 393,
   "metadata": {},
   "outputs": [
    {
     "data": {
      "text/plain": [
       "['y.pkl']"
      ]
     },
     "execution_count": 393,
     "metadata": {},
     "output_type": "execute_result"
    }
   ],
   "source": [
    "joblib.dump(y, 'y.pkl')"
   ]
  },
  {
   "cell_type": "code",
   "execution_count": null,
   "metadata": {
    "collapsed": true
   },
   "outputs": [],
   "source": []
  },
  {
   "cell_type": "markdown",
   "metadata": {},
   "source": [
    "* ### Train data / Test data 를 사용하여 corpus 제작"
   ]
  },
  {
   "cell_type": "code",
   "execution_count": 13,
   "metadata": {
    "collapsed": true
   },
   "outputs": [],
   "source": [
    "df_corpus = pd.concat([df_train, df_test], axis=0)"
   ]
  },
  {
   "cell_type": "code",
   "execution_count": 14,
   "metadata": {
    "collapsed": true
   },
   "outputs": [],
   "source": [
    "df_corpus = df_corpus.drop('median_relevance', axis = 1)\n",
    "df_corpus = df_corpus.drop('relevance_variance', axis = 1)"
   ]
  },
  {
   "cell_type": "code",
   "execution_count": 15,
   "metadata": {},
   "outputs": [
    {
     "data": {
      "text/html": [
       "<div>\n",
       "<style>\n",
       "    .dataframe thead tr:only-child th {\n",
       "        text-align: right;\n",
       "    }\n",
       "\n",
       "    .dataframe thead th {\n",
       "        text-align: left;\n",
       "    }\n",
       "\n",
       "    .dataframe tbody tr th {\n",
       "        vertical-align: top;\n",
       "    }\n",
       "</style>\n",
       "<table border=\"1\" class=\"dataframe\">\n",
       "  <thead>\n",
       "    <tr style=\"text-align: right;\">\n",
       "      <th></th>\n",
       "      <th>0</th>\n",
       "    </tr>\n",
       "  </thead>\n",
       "  <tbody>\n",
       "    <tr>\n",
       "      <th>query</th>\n",
       "      <td>0</td>\n",
       "    </tr>\n",
       "    <tr>\n",
       "      <th>product_title</th>\n",
       "      <td>0</td>\n",
       "    </tr>\n",
       "    <tr>\n",
       "      <th>product_description</th>\n",
       "      <td>0</td>\n",
       "    </tr>\n",
       "    <tr>\n",
       "      <th>id</th>\n",
       "      <td>0</td>\n",
       "    </tr>\n",
       "  </tbody>\n",
       "</table>\n",
       "</div>"
      ],
      "text/plain": [
       "                     0\n",
       "query                0\n",
       "product_title        0\n",
       "product_description  0\n",
       "id                   0"
      ]
     },
     "execution_count": 15,
     "metadata": {},
     "output_type": "execute_result"
    }
   ],
   "source": [
    "pd.DataFrame(df_corpus.isnull().sum().sort_values(ascending=False))"
   ]
  },
  {
   "cell_type": "code",
   "execution_count": 16,
   "metadata": {},
   "outputs": [
    {
     "data": {
      "text/plain": [
       "32670"
      ]
     },
     "execution_count": 16,
     "metadata": {},
     "output_type": "execute_result"
    }
   ],
   "source": [
    "len((df_corpus['id']))"
   ]
  },
  {
   "cell_type": "code",
   "execution_count": 17,
   "metadata": {
    "scrolled": true
   },
   "outputs": [
    {
     "data": {
      "text/html": [
       "<div>\n",
       "<style>\n",
       "    .dataframe thead tr:only-child th {\n",
       "        text-align: right;\n",
       "    }\n",
       "\n",
       "    .dataframe thead th {\n",
       "        text-align: left;\n",
       "    }\n",
       "\n",
       "    .dataframe tbody tr th {\n",
       "        vertical-align: top;\n",
       "    }\n",
       "</style>\n",
       "<table border=\"1\" class=\"dataframe\">\n",
       "  <thead>\n",
       "    <tr style=\"text-align: right;\">\n",
       "      <th></th>\n",
       "      <th>id</th>\n",
       "      <th>product_description</th>\n",
       "      <th>product_title</th>\n",
       "      <th>query</th>\n",
       "    </tr>\n",
       "  </thead>\n",
       "  <tbody>\n",
       "    <tr>\n",
       "      <th>22510</th>\n",
       "      <td>32669</td>\n",
       "      <td>The Grappling Gloves are built to serve and protect. One of the best things a training fighter can do is to make sure that they don?셳 get injured while training. One of the worst things a fighter can do is to sustain an injury in the gym</td>\n",
       "      <td>Lion Martial Arts Large Red Grappling Glove Pair</td>\n",
       "      <td>gym gloves</td>\n",
       "    </tr>\n",
       "    <tr>\n",
       "      <th>22511</th>\n",
       "      <td>32670</td>\n",
       "      <td>The team behind Disney's Wreck-It Ralph, the tale of a video game villain who wants to go good, committed to authenticity at every level of the movie, from including Q-Bert and and Clyde (aka the orange ghost from Pac-Man) as minor characters to making sure the film's music conveyed the golden age of arcade games and the feel of the games that followed. Wreck-It-Ralph shows that composer Henry Jackman and the other artists featured here did an impressive job of capturing that spirit without getting geeky enough to alienate anyone not steeped in gamer culture. That said, this soundtrack rel...</td>\n",
       "      <td>Wreck-It Ralph (Original Score)</td>\n",
       "      <td>wreck it ralph</td>\n",
       "    </tr>\n",
       "    <tr>\n",
       "      <th>22512</th>\n",
       "      <td>32671</td>\n",
       "      <td>Hair accessories that really hold! Goody Slide Proof accessories are infused with Slide-Proof technology to provide a secure hold without sacrificng style. Be confident that your accessories will not roll, slide, or fall out of your hair,no matter what! Keep your hairstyle in place with Goody Slide-Proof headwraps.</td>\n",
       "      <td>Goody Slide proof Claw Clip, Large (Pack of 2)</td>\n",
       "      <td>hair accessories</td>\n",
       "    </tr>\n",
       "  </tbody>\n",
       "</table>\n",
       "</div>"
      ],
      "text/plain": [
       "          id  \\\n",
       "22510  32669   \n",
       "22511  32670   \n",
       "22512  32671   \n",
       "\n",
       "                                                                                                                                                                                                                                                                                                                                                                                                                                                                                                                                                                                                           product_description  \\\n",
       "22510                                                                                                                                                                                                                                                                                                                                                                            The Grappling Gloves are built to serve and protect. One of the best things a training fighter can do is to make sure that they don?셳 get injured while training. One of the worst things a fighter can do is to sustain an injury in the gym   \n",
       "22511  The team behind Disney's Wreck-It Ralph, the tale of a video game villain who wants to go good, committed to authenticity at every level of the movie, from including Q-Bert and and Clyde (aka the orange ghost from Pac-Man) as minor characters to making sure the film's music conveyed the golden age of arcade games and the feel of the games that followed. Wreck-It-Ralph shows that composer Henry Jackman and the other artists featured here did an impressive job of capturing that spirit without getting geeky enough to alienate anyone not steeped in gamer culture. That said, this soundtrack rel...   \n",
       "22512                                                                                                                                                                                                                                                                                             Hair accessories that really hold! Goody Slide Proof accessories are infused with Slide-Proof technology to provide a secure hold without sacrificng style. Be confident that your accessories will not roll, slide, or fall out of your hair,no matter what! Keep your hairstyle in place with Goody Slide-Proof headwraps.   \n",
       "\n",
       "                                          product_title             query  \n",
       "22510  Lion Martial Arts Large Red Grappling Glove Pair        gym gloves  \n",
       "22511                   Wreck-It Ralph (Original Score)    wreck it ralph  \n",
       "22512    Goody Slide proof Claw Clip, Large (Pack of 2)  hair accessories  "
      ]
     },
     "execution_count": 17,
     "metadata": {},
     "output_type": "execute_result"
    }
   ],
   "source": [
    "df_corpus.tail(3)"
   ]
  },
  {
   "cell_type": "code",
   "execution_count": null,
   "metadata": {
    "collapsed": true
   },
   "outputs": [],
   "source": []
  },
  {
   "cell_type": "markdown",
   "metadata": {},
   "source": [
    "# Preprocessing"
   ]
  },
  {
   "cell_type": "code",
   "execution_count": 18,
   "metadata": {},
   "outputs": [
    {
     "data": {
      "text/plain": [
       "'Like a silent and sturdy tree, the Southern Enterprises Bird and Branch Coat Rack is an eye-catching addition to your home d챕cor. This tree themed coat rack features strong branches with pinecone accents and a small bird perched at the top to give it a whimsical and welcoming appearance while still making it sturdy enough to hold your coats, hats, umbrellas and more. Whether it serves as a coat rack, a hat rack or a combination of the two, it?셪l be a great space saver that gets appreciated for its graceful appearance.\\nNumber of Hooks: 10\\nFrame Material: Metal\\nHardware Material: Metal\\nDimensions: 69.5 \" H x 13.25 \" W x 13.25 \" D\\nWeight: 12.0 Lb.\\nAssembly Details: assembly required'"
      ]
     },
     "execution_count": 18,
     "metadata": {},
     "output_type": "execute_result"
    }
   ],
   "source": [
    "df_train['product_description'][3]"
   ]
  },
  {
   "cell_type": "markdown",
   "metadata": {},
   "source": [
    "* ### 각 product 에 대한 정보를 하나로 합친 후 list 의 형태로 변환"
   ]
  },
  {
   "cell_type": "code",
   "execution_count": 19,
   "metadata": {
    "collapsed": true
   },
   "outputs": [],
   "source": [
    "def feature_merge(df_text):\n",
    "    textdata = list(df_text.apply(lambda x:'%s %s' % (x['product_title'], x['product_description']), axis=1))\n",
    "    return textdata"
   ]
  },
  {
   "cell_type": "code",
   "execution_count": 20,
   "metadata": {
    "collapsed": true
   },
   "outputs": [],
   "source": [
    "# question 변수 생성\n",
    "\n",
    "train_q = list(df_train['query'])\n",
    "test_q = list(df_test['query'])"
   ]
  },
  {
   "cell_type": "code",
   "execution_count": 21,
   "metadata": {
    "collapsed": true
   },
   "outputs": [],
   "source": [
    "# result 변수 생성\n",
    "\n",
    "train_r =feature_merge(df_train)\n",
    "test_r = feature_merge(df_test)"
   ]
  },
  {
   "cell_type": "code",
   "execution_count": 22,
   "metadata": {},
   "outputs": [
    {
     "name": "stdout",
     "output_type": "stream",
     "text": [
      "Wall time: 2.18 s\n"
     ]
    }
   ],
   "source": [
    "%%time\n",
    "corpusdata = list(df_corpus.apply(lambda x:'%s %s %s' % (x['query'], x['product_title'], x['product_description']), axis=1))"
   ]
  },
  {
   "cell_type": "code",
   "execution_count": 404,
   "metadata": {},
   "outputs": [
    {
     "data": {
      "text/plain": [
       "['corpusdata.pkl']"
      ]
     },
     "execution_count": 404,
     "metadata": {},
     "output_type": "execute_result"
    }
   ],
   "source": [
    "joblib.dump(corpusdata, 'corpusdata.pkl')"
   ]
  },
  {
   "cell_type": "markdown",
   "metadata": {},
   "source": [
    "* #### product 정보의 최소 길이와 최대 길이 확인"
   ]
  },
  {
   "cell_type": "code",
   "execution_count": 23,
   "metadata": {
    "collapsed": true
   },
   "outputs": [],
   "source": [
    "def length_check(data):\n",
    "    length = []\n",
    "    for num in range(len(data)):\n",
    "        length.append(len(data[num]))\n",
    "    \n",
    "    print('Max length : ', max(length))\n",
    "    print('Min length : ', min(length))"
   ]
  },
  {
   "cell_type": "code",
   "execution_count": 24,
   "metadata": {},
   "outputs": [
    {
     "name": "stdout",
     "output_type": "stream",
     "text": [
      "Max length :  33\n",
      "Min length :  2\n"
     ]
    }
   ],
   "source": [
    "length_check(train_q)"
   ]
  },
  {
   "cell_type": "code",
   "execution_count": 25,
   "metadata": {},
   "outputs": [
    {
     "name": "stdout",
     "output_type": "stream",
     "text": [
      "Max length :  18154\n",
      "Min length :  9\n"
     ]
    }
   ],
   "source": [
    "length_check(train_r)"
   ]
  },
  {
   "cell_type": "code",
   "execution_count": 26,
   "metadata": {},
   "outputs": [
    {
     "name": "stdout",
     "output_type": "stream",
     "text": [
      "Max length :  33\n",
      "Min length :  0\n"
     ]
    }
   ],
   "source": [
    "length_check(test_q)"
   ]
  },
  {
   "cell_type": "code",
   "execution_count": 27,
   "metadata": {},
   "outputs": [
    {
     "name": "stdout",
     "output_type": "stream",
     "text": [
      "Max length :  25909\n",
      "Min length :  1\n"
     ]
    }
   ],
   "source": [
    "length_check(test_r)"
   ]
  },
  {
   "cell_type": "code",
   "execution_count": 28,
   "metadata": {},
   "outputs": [
    {
     "name": "stdout",
     "output_type": "stream",
     "text": [
      "Max length :  25931\n",
      "Min length :  2\n"
     ]
    }
   ],
   "source": [
    "length_check(corpusdata)"
   ]
  },
  {
   "cell_type": "code",
   "execution_count": 29,
   "metadata": {},
   "outputs": [
    {
     "name": "stdout",
     "output_type": "stream",
     "text": [
      "32670\n"
     ]
    }
   ],
   "source": [
    "print(len(corpusdata))"
   ]
  },
  {
   "cell_type": "markdown",
   "metadata": {},
   "source": [
    "* ### 모든 Text data 를 소문자로 변환"
   ]
  },
  {
   "cell_type": "code",
   "execution_count": 30,
   "metadata": {
    "collapsed": true
   },
   "outputs": [],
   "source": [
    "def lower_convert(data):\n",
    "    for num in range(len(data)):\n",
    "        data[num] = data[num].lower()"
   ]
  },
  {
   "cell_type": "code",
   "execution_count": 31,
   "metadata": {
    "collapsed": true
   },
   "outputs": [],
   "source": [
    "lower_convert(train_q)\n",
    "lower_convert(train_r)\n",
    "lower_convert(test_q)\n",
    "lower_convert(test_r)\n",
    "lower_convert(corpusdata)"
   ]
  },
  {
   "cell_type": "code",
   "execution_count": 32,
   "metadata": {},
   "outputs": [
    {
     "data": {
      "text/plain": [
       "['bridal shower decorations accent pillow with heart design - red/black red satin accent pillow embroidered with a heart in black thread. 8\" x 8\".',\n",
       " 'led christmas lights set of 10 battery operated multi led train christmas lights - clear wire set of 10 battery operated train christmas lights item #x124210 features: color: multi-color bulbs with matching train light covers / clear wire multi-color consists of red, green, blue and yellow bulbs number of bulbs on string: 10 bulb size: micro led spacing between bulbs: 6 inches lighted length: 4.5 feet total length: 5.5 feet 12 inch lead cord additional product features: led lights use 90% less energy cool to the touch if one bulb burns out, the rest will stay lit lights are equipped with lamp lock feature, which makes them replaceable, interchangeable and keeps them from falling out requires 3 \"aa\" batteries (not included) convenient on/off/timer switch located on battery pack timer function on battery pack allows for 6 hours on and 18 hours off cannot connect multiple sets together ul listed for indoor use only train dimensions: 1.5\"h x 1.8\"w x .5\"d material(s): plastic/wire/acrylic',\n",
       " 'projector viewsonic pro8200 dlp multimedia projector ',\n",
       " 'wine rack concept housewares wr-44526 solid-wood ceiling/wall-mount wine rack, charcoal grey, 6 bottle like a silent and sturdy tree, the southern enterprises bird and branch coat rack is an eye-catching addition to your home d챕cor. this tree themed coat rack features strong branches with pinecone accents and a small bird perched at the top to give it a whimsical and welcoming appearance while still making it sturdy enough to hold your coats, hats, umbrellas and more. whether it serves as a coat rack, a hat rack or a combination of the two, it?셪l be a great space saver that gets appreciated for its graceful appearance.\\nnumber of hooks: 10\\nframe material: metal\\nhardware material: metal\\ndimensions: 69.5 \" h x 13.25 \" w x 13.25 \" d\\nweight: 12.0 lb.\\nassembly details: assembly required',\n",
       " 'light bulb wintergreen lighting christmas led light bulb (pack of 25) wtgr1011\\nfeatures\\nnickel base, 60,000 average hours, acrylic resin bulb material\\nchristmas light bulb\\nsteady dimmable replacement lamps\\nnickel bases prevent corrosion in sockets\\nwattage: 0.96 watts\\nvoltage: 130 volts\\ndimmable: yes\\nlight source: led\\nbulb shape type: candle\\n\\ncolor amber\\nbulb color: amber']"
      ]
     },
     "execution_count": 32,
     "metadata": {},
     "output_type": "execute_result"
    }
   ],
   "source": [
    "corpusdata[:5]"
   ]
  },
  {
   "cell_type": "markdown",
   "metadata": {},
   "source": [
    "* ### 2글자 이상의 알파벳만 존재하도록 Stopwords 생성 및 적용"
   ]
  },
  {
   "cell_type": "code",
   "execution_count": 33,
   "metadata": {
    "collapsed": true
   },
   "outputs": [],
   "source": [
    "import re"
   ]
  },
  {
   "cell_type": "code",
   "execution_count": 34,
   "metadata": {
    "collapsed": true
   },
   "outputs": [],
   "source": [
    "def alphabet_stopwords(data):\n",
    "    for num in range(len(data)):\n",
    "        data[num] = re.findall(r'[a-zA-Z]+', data[num])\n",
    "        \n",
    "    for num in range(len(data)):\n",
    "        data[num] = (\" \").join(data[num])\n",
    "    \n",
    "    for num in range(len(data)):\n",
    "        data[num] = re.findall(r'\\w\\w+', data[num])"
   ]
  },
  {
   "cell_type": "code",
   "execution_count": 35,
   "metadata": {},
   "outputs": [
    {
     "name": "stdout",
     "output_type": "stream",
     "text": [
      "Wall time: 5.94 s\n"
     ]
    }
   ],
   "source": [
    "%%time\n",
    "alphabet_stopwords(train_q)\n",
    "alphabet_stopwords(train_r)\n",
    "alphabet_stopwords(test_q)\n",
    "alphabet_stopwords(test_r)\n",
    "alphabet_stopwords(corpusdata)"
   ]
  },
  {
   "cell_type": "markdown",
   "metadata": {},
   "source": [
    "* ### Stopwords (english)"
   ]
  },
  {
   "cell_type": "code",
   "execution_count": 36,
   "metadata": {
    "collapsed": true
   },
   "outputs": [],
   "source": [
    "from nltk.corpus import stopwords"
   ]
  },
  {
   "cell_type": "code",
   "execution_count": 37,
   "metadata": {
    "collapsed": true
   },
   "outputs": [],
   "source": [
    "def eng_stopwords(data):\n",
    "    data_copy = data.copy()\n",
    "    for num in range(len(data_copy)):\n",
    "        data_copy[num] = []\n",
    "    \n",
    "    stop = stopwords.words('english')\n",
    "    \n",
    "    for num in range(len(data)):\n",
    "        for i in range(len(data[num])):\n",
    "            if data[num][i] not in stop:\n",
    "                data_copy[num].append(data[num][i])\n",
    "                \n",
    "    return data_copy"
   ]
  },
  {
   "cell_type": "code",
   "execution_count": 38,
   "metadata": {},
   "outputs": [
    {
     "name": "stdout",
     "output_type": "stream",
     "text": [
      "Wall time: 17.5 s\n"
     ]
    }
   ],
   "source": [
    "%%time\n",
    "train_q = eng_stopwords(train_q)\n",
    "train_r = eng_stopwords(train_r)\n",
    "test_q = eng_stopwords(test_q)\n",
    "test_r = eng_stopwords(test_r)\n",
    "corpus_data = eng_stopwords(corpusdata)"
   ]
  },
  {
   "cell_type": "code",
   "execution_count": 39,
   "metadata": {},
   "outputs": [
    {
     "data": {
      "text/plain": [
       "[['bridal',\n",
       "  'shower',\n",
       "  'decorations',\n",
       "  'accent',\n",
       "  'pillow',\n",
       "  'heart',\n",
       "  'design',\n",
       "  'red',\n",
       "  'black',\n",
       "  'red',\n",
       "  'satin',\n",
       "  'accent',\n",
       "  'pillow',\n",
       "  'embroidered',\n",
       "  'heart',\n",
       "  'black',\n",
       "  'thread'],\n",
       " ['led',\n",
       "  'christmas',\n",
       "  'lights',\n",
       "  'set',\n",
       "  'battery',\n",
       "  'operated',\n",
       "  'multi',\n",
       "  'led',\n",
       "  'train',\n",
       "  'christmas',\n",
       "  'lights',\n",
       "  'clear',\n",
       "  'wire',\n",
       "  'set',\n",
       "  'battery',\n",
       "  'operated',\n",
       "  'train',\n",
       "  'christmas',\n",
       "  'lights',\n",
       "  'item',\n",
       "  'features',\n",
       "  'color',\n",
       "  'multi',\n",
       "  'color',\n",
       "  'bulbs',\n",
       "  'matching',\n",
       "  'train',\n",
       "  'light',\n",
       "  'covers',\n",
       "  'clear',\n",
       "  'wire',\n",
       "  'multi',\n",
       "  'color',\n",
       "  'consists',\n",
       "  'red',\n",
       "  'green',\n",
       "  'blue',\n",
       "  'yellow',\n",
       "  'bulbs',\n",
       "  'number',\n",
       "  'bulbs',\n",
       "  'string',\n",
       "  'bulb',\n",
       "  'size',\n",
       "  'micro',\n",
       "  'led',\n",
       "  'spacing',\n",
       "  'bulbs',\n",
       "  'inches',\n",
       "  'lighted',\n",
       "  'length',\n",
       "  'feet',\n",
       "  'total',\n",
       "  'length',\n",
       "  'feet',\n",
       "  'inch',\n",
       "  'lead',\n",
       "  'cord',\n",
       "  'additional',\n",
       "  'product',\n",
       "  'features',\n",
       "  'led',\n",
       "  'lights',\n",
       "  'use',\n",
       "  'less',\n",
       "  'energy',\n",
       "  'cool',\n",
       "  'touch',\n",
       "  'one',\n",
       "  'bulb',\n",
       "  'burns',\n",
       "  'rest',\n",
       "  'stay',\n",
       "  'lit',\n",
       "  'lights',\n",
       "  'equipped',\n",
       "  'lamp',\n",
       "  'lock',\n",
       "  'feature',\n",
       "  'makes',\n",
       "  'replaceable',\n",
       "  'interchangeable',\n",
       "  'keeps',\n",
       "  'falling',\n",
       "  'requires',\n",
       "  'aa',\n",
       "  'batteries',\n",
       "  'included',\n",
       "  'convenient',\n",
       "  'timer',\n",
       "  'switch',\n",
       "  'located',\n",
       "  'battery',\n",
       "  'pack',\n",
       "  'timer',\n",
       "  'function',\n",
       "  'battery',\n",
       "  'pack',\n",
       "  'allows',\n",
       "  'hours',\n",
       "  'hours',\n",
       "  'cannot',\n",
       "  'connect',\n",
       "  'multiple',\n",
       "  'sets',\n",
       "  'together',\n",
       "  'ul',\n",
       "  'listed',\n",
       "  'indoor',\n",
       "  'use',\n",
       "  'train',\n",
       "  'dimensions',\n",
       "  'material',\n",
       "  'plastic',\n",
       "  'wire',\n",
       "  'acrylic'],\n",
       " ['projector', 'viewsonic', 'pro', 'dlp', 'multimedia', 'projector'],\n",
       " ['wine',\n",
       "  'rack',\n",
       "  'concept',\n",
       "  'housewares',\n",
       "  'wr',\n",
       "  'solid',\n",
       "  'wood',\n",
       "  'ceiling',\n",
       "  'wall',\n",
       "  'mount',\n",
       "  'wine',\n",
       "  'rack',\n",
       "  'charcoal',\n",
       "  'grey',\n",
       "  'bottle',\n",
       "  'like',\n",
       "  'silent',\n",
       "  'sturdy',\n",
       "  'tree',\n",
       "  'southern',\n",
       "  'enterprises',\n",
       "  'bird',\n",
       "  'branch',\n",
       "  'coat',\n",
       "  'rack',\n",
       "  'eye',\n",
       "  'catching',\n",
       "  'addition',\n",
       "  'home',\n",
       "  'cor',\n",
       "  'tree',\n",
       "  'themed',\n",
       "  'coat',\n",
       "  'rack',\n",
       "  'features',\n",
       "  'strong',\n",
       "  'branches',\n",
       "  'pinecone',\n",
       "  'accents',\n",
       "  'small',\n",
       "  'bird',\n",
       "  'perched',\n",
       "  'top',\n",
       "  'give',\n",
       "  'whimsical',\n",
       "  'welcoming',\n",
       "  'appearance',\n",
       "  'still',\n",
       "  'making',\n",
       "  'sturdy',\n",
       "  'enough',\n",
       "  'hold',\n",
       "  'coats',\n",
       "  'hats',\n",
       "  'umbrellas',\n",
       "  'whether',\n",
       "  'serves',\n",
       "  'coat',\n",
       "  'rack',\n",
       "  'hat',\n",
       "  'rack',\n",
       "  'combination',\n",
       "  'two',\n",
       "  'great',\n",
       "  'space',\n",
       "  'saver',\n",
       "  'gets',\n",
       "  'appreciated',\n",
       "  'graceful',\n",
       "  'appearance',\n",
       "  'number',\n",
       "  'hooks',\n",
       "  'frame',\n",
       "  'material',\n",
       "  'metal',\n",
       "  'hardware',\n",
       "  'material',\n",
       "  'metal',\n",
       "  'dimensions',\n",
       "  'weight',\n",
       "  'lb',\n",
       "  'assembly',\n",
       "  'details',\n",
       "  'assembly',\n",
       "  'required'],\n",
       " ['light',\n",
       "  'bulb',\n",
       "  'wintergreen',\n",
       "  'lighting',\n",
       "  'christmas',\n",
       "  'led',\n",
       "  'light',\n",
       "  'bulb',\n",
       "  'pack',\n",
       "  'wtgr',\n",
       "  'features',\n",
       "  'nickel',\n",
       "  'base',\n",
       "  'average',\n",
       "  'hours',\n",
       "  'acrylic',\n",
       "  'resin',\n",
       "  'bulb',\n",
       "  'material',\n",
       "  'christmas',\n",
       "  'light',\n",
       "  'bulb',\n",
       "  'steady',\n",
       "  'dimmable',\n",
       "  'replacement',\n",
       "  'lamps',\n",
       "  'nickel',\n",
       "  'bases',\n",
       "  'prevent',\n",
       "  'corrosion',\n",
       "  'sockets',\n",
       "  'wattage',\n",
       "  'watts',\n",
       "  'voltage',\n",
       "  'volts',\n",
       "  'dimmable',\n",
       "  'yes',\n",
       "  'light',\n",
       "  'source',\n",
       "  'led',\n",
       "  'bulb',\n",
       "  'shape',\n",
       "  'type',\n",
       "  'candle',\n",
       "  'color',\n",
       "  'amber',\n",
       "  'bulb',\n",
       "  'color',\n",
       "  'amber']]"
      ]
     },
     "execution_count": 39,
     "metadata": {},
     "output_type": "execute_result"
    }
   ],
   "source": [
    "corpus_data[:5]"
   ]
  },
  {
   "cell_type": "markdown",
   "metadata": {},
   "source": [
    "* ### Stopwords (html 용어)"
   ]
  },
  {
   "cell_type": "code",
   "execution_count": 40,
   "metadata": {
    "collapsed": true
   },
   "outputs": [],
   "source": [
    "def html_stopwords(data):\n",
    "    data_copy = data.copy()\n",
    "    for num in range(len(data_copy)):\n",
    "        data_copy[num] = []\n",
    "    \n",
    "    html_words = ['ul', 'li', 'td', 'tr','br', 'table', 'strong', 'color', 'size', 'font', 'px', 'text', 'link', 'item']\n",
    "\n",
    "    for num in range(len(data)):\n",
    "        for i in range(len(data[num])):\n",
    "            if data[num][i] not in html_words:\n",
    "                data_copy[num].append(data[num][i])\n",
    "                \n",
    "    return data_copy"
   ]
  },
  {
   "cell_type": "code",
   "execution_count": 41,
   "metadata": {},
   "outputs": [
    {
     "name": "stdout",
     "output_type": "stream",
     "text": [
      "Wall time: 3.1 s\n"
     ]
    }
   ],
   "source": [
    "%%time\n",
    "train_q = html_stopwords(train_q)\n",
    "train_r = html_stopwords(train_r)\n",
    "test_q = html_stopwords(test_q)\n",
    "test_r = html_stopwords(test_r)\n",
    "corpus_data = html_stopwords(corpus_data)"
   ]
  },
  {
   "cell_type": "markdown",
   "metadata": {},
   "source": [
    "## Stemming"
   ]
  },
  {
   "cell_type": "code",
   "execution_count": 42,
   "metadata": {
    "collapsed": true
   },
   "outputs": [],
   "source": [
    "from nltk.stem import PorterStemmer"
   ]
  },
  {
   "cell_type": "code",
   "execution_count": 43,
   "metadata": {
    "collapsed": true
   },
   "outputs": [],
   "source": [
    "# 타 참가자의 코드 참고\n",
    "\n",
    "def stemPorter(text):\n",
    "            porter = PorterStemmer()\n",
    "            stem_data = []\n",
    "            for num in text:\n",
    "                final_stem = []\n",
    "                for word in num:\n",
    "                    final_stem.append(porter.stem(word))\n",
    "                stem_data.append(final_stem)\n",
    "            return stem_data"
   ]
  },
  {
   "cell_type": "code",
   "execution_count": 44,
   "metadata": {},
   "outputs": [
    {
     "name": "stdout",
     "output_type": "stream",
     "text": [
      "Wall time: 18.4 s\n"
     ]
    }
   ],
   "source": [
    "%%time\n",
    "train_q = stemPorter(train_q)\n",
    "train_r = stemPorter(train_r)"
   ]
  },
  {
   "cell_type": "code",
   "execution_count": 45,
   "metadata": {},
   "outputs": [
    {
     "name": "stdout",
     "output_type": "stream",
     "text": [
      "Wall time: 47.5 s\n"
     ]
    }
   ],
   "source": [
    "%%time\n",
    "test_q = stemPorter(test_q)\n",
    "test_t = stemPorter(test_r)"
   ]
  },
  {
   "cell_type": "code",
   "execution_count": 46,
   "metadata": {},
   "outputs": [
    {
     "name": "stdout",
     "output_type": "stream",
     "text": [
      "Wall time: 1min 10s\n"
     ]
    }
   ],
   "source": [
    "%%time\n",
    "corpus_data = stemPorter(corpus_data)"
   ]
  },
  {
   "cell_type": "markdown",
   "metadata": {},
   "source": [
    "* ### 각 Data 에 가장 많이 분포되어 있는 단어 확인"
   ]
  },
  {
   "cell_type": "code",
   "execution_count": 47,
   "metadata": {
    "collapsed": true
   },
   "outputs": [],
   "source": [
    "def words_count(data):\n",
    "    words = []\n",
    "    for i in range(len(data)):\n",
    "        for j in range(len(data[i])):\n",
    "            words.append(data[i][j])\n",
    "            \n",
    "    words_data = pd.DataFrame(words, columns=['words'])\n",
    "    \n",
    "    words_counts = words_data['words'].value_counts()\n",
    "    words_counts[words_counts > sorted(words_counts)[-11]].plot(kind='bar')\n",
    "    print(words_counts.keys()[:11])\n",
    "    \n",
    "    plt.ylabel('Data count')\n",
    "    fig = plt.gcf()\n",
    "    fig.set_size_inches(12, 7)\n",
    "    plt.show()    "
   ]
  },
  {
   "cell_type": "code",
   "execution_count": 48,
   "metadata": {},
   "outputs": [
    {
     "name": "stdout",
     "output_type": "stream",
     "text": [
      "Index(['dress', 'coffe', 'maker', 'shoe', 'case', 'women', 'shirt', 'memori',\n",
      "       'bike', 'pillow', 'candl'],\n",
      "      dtype='object')\n"
     ]
    },
    {
     "data": {
      "image/png": "[encoded data removed]",
      "text/plain": [
       "<matplotlib.figure.Figure at 0x12bb4a898d0>"
      ]
     },
     "metadata": {},
     "output_type": "display_data"
    }
   ],
   "source": [
    "words_count(train_q)"
   ]
  },
  {
   "cell_type": "code",
   "execution_count": 49,
   "metadata": {},
   "outputs": [
    {
     "name": "stdout",
     "output_type": "stream",
     "text": [
      "Index(['featur', 'set', 'design', 'inch', 'use', 'includ', 'black', 'comfort',\n",
      "       'make', 'easi', 'style'],\n",
      "      dtype='object')\n"
     ]
    },
    {
     "data": {
      "image/png": "[encoded data removed]",
      "text/plain": [
       "<matplotlib.figure.Figure at 0x12ba198fac8>"
      ]
     },
     "metadata": {},
     "output_type": "display_data"
    }
   ],
   "source": [
    "words_count(train_r)"
   ]
  },
  {
   "cell_type": "code",
   "execution_count": 50,
   "metadata": {
    "scrolled": false
   },
   "outputs": [
    {
     "name": "stdout",
     "output_type": "stream",
     "text": [
      "Index(['dress', 'coffe', 'maker', 'shoe', 'case', 'women', 'shirt', 'bike',\n",
      "       'candl', 'memori', 'wireless'],\n",
      "      dtype='object')\n"
     ]
    },
    {
     "data": {
      "image/png": "[encoded data removed]",
      "text/plain": [
       "<matplotlib.figure.Figure at 0x12bb2b39358>"
      ]
     },
     "metadata": {},
     "output_type": "display_data"
    }
   ],
   "source": [
    "words_count(test_q)"
   ]
  },
  {
   "cell_type": "code",
   "execution_count": 51,
   "metadata": {},
   "outputs": [
    {
     "name": "stdout",
     "output_type": "stream",
     "text": [
      "Index(['nbsp', 'new', 'features', 'black', 'set', 'condition', 'easy', 'style',\n",
      "       'high', 'design', 'top'],\n",
      "      dtype='object')\n"
     ]
    },
    {
     "data": {
      "image/png": "[encoded data removed]",
      "text/plain": [
       "<matplotlib.figure.Figure at 0x12bb2b9e748>"
      ]
     },
     "metadata": {},
     "output_type": "display_data"
    }
   ],
   "source": [
    "words_count(test_r)"
   ]
  },
  {
   "cell_type": "code",
   "execution_count": 52,
   "metadata": {},
   "outputs": [
    {
     "name": "stdout",
     "output_type": "stream",
     "text": [
      "Index(['featur', 'nbsp', 'design', 'new', 'set', 'use', 'includ', 'inch',\n",
      "       'black', 'comfort', 'style'],\n",
      "      dtype='object')\n"
     ]
    },
    {
     "data": {
      "image/png": "[encoded data removed]",
      "text/plain": [
       "<matplotlib.figure.Figure at 0x12bb2c395c0>"
      ]
     },
     "metadata": {},
     "output_type": "display_data"
    }
   ],
   "source": [
    "words_count(corpus_data)"
   ]
  },
  {
   "cell_type": "code",
   "execution_count": null,
   "metadata": {
    "collapsed": true
   },
   "outputs": [],
   "source": []
  },
  {
   "cell_type": "markdown",
   "metadata": {},
   "source": [
    "## Data type conversion for word embadding (word list to sentence)"
   ]
  },
  {
   "cell_type": "code",
   "execution_count": 53,
   "metadata": {
    "collapsed": true
   },
   "outputs": [],
   "source": [
    "def data_join(list_data):\n",
    "    for num in range(len(list_data)):\n",
    "        list_data[num] = (\" \").join(list_data[num])"
   ]
  },
  {
   "cell_type": "code",
   "execution_count": 54,
   "metadata": {
    "collapsed": true
   },
   "outputs": [],
   "source": [
    "data_join(train_q)\n",
    "data_join(train_r)\n",
    "data_join(test_q)\n",
    "data_join(test_r)\n",
    "data_join(corpus_data)"
   ]
  },
  {
   "cell_type": "code",
   "execution_count": 55,
   "metadata": {},
   "outputs": [
    {
     "name": "stdout",
     "output_type": "stream",
     "text": [
      "10157\n",
      "10157\n",
      "22513\n",
      "22513\n",
      "32670\n"
     ]
    }
   ],
   "source": [
    "print(len(train_q))\n",
    "print(len(train_r))\n",
    "print(len(test_q))\n",
    "print(len(test_r))\n",
    "print(len(corpus_data))"
   ]
  },
  {
   "cell_type": "code",
   "execution_count": 56,
   "metadata": {},
   "outputs": [
    {
     "data": {
      "text/plain": [
       "['bridal shower decor accent pillow heart design red black red satin accent pillow embroid heart black thread',\n",
       " 'led christma light set batteri oper multi led train christma light clear wire set batteri oper train christma light featur multi bulb match train light cover clear wire multi consist red green blue yellow bulb number bulb string bulb micro led space bulb inch light length feet total length feet inch lead cord addit product featur led light use less energi cool touch one bulb burn rest stay lit light equip lamp lock featur make replac interchang keep fall requir aa batteri includ conveni timer switch locat batteri pack timer function batteri pack allow hour hour cannot connect multipl set togeth list indoor use train dimens materi plastic wire acryl',\n",
       " 'projector viewson pro dlp multimedia projector',\n",
       " 'wine rack concept housewar wr solid wood ceil wall mount wine rack charcoal grey bottl like silent sturdi tree southern enterpris bird branch coat rack eye catch addit home cor tree theme coat rack featur branch pinecon accent small bird perch top give whimsic welcom appear still make sturdi enough hold coat hat umbrella whether serv coat rack hat rack combin two great space saver get appreci grace appear number hook frame materi metal hardwar materi metal dimens weight lb assembl detail assembl requir',\n",
       " 'light bulb wintergreen light christma led light bulb pack wtgr featur nickel base averag hour acryl resin bulb materi christma light bulb steadi dimmabl replac lamp nickel base prevent corros socket wattag watt voltag volt dimmabl ye light sourc led bulb shape type candl amber bulb amber']"
      ]
     },
     "execution_count": 56,
     "metadata": {},
     "output_type": "execute_result"
    }
   ],
   "source": [
    "corpus_data[:5]"
   ]
  },
  {
   "cell_type": "markdown",
   "metadata": {},
   "source": [
    "## TF-IDF (1)"
   ]
  },
  {
   "cell_type": "code",
   "execution_count": 57,
   "metadata": {
    "collapsed": true
   },
   "outputs": [],
   "source": [
    "from sklearn.feature_extraction.text import TfidfVectorizer"
   ]
  },
  {
   "cell_type": "code",
   "execution_count": 58,
   "metadata": {
    "collapsed": true
   },
   "outputs": [],
   "source": [
    "tfv = TfidfVectorizer(analyzer='word', token_pattern=r'\\w+', ngram_range=(1, 3), stop_words = 'english')"
   ]
  },
  {
   "cell_type": "code",
   "execution_count": 59,
   "metadata": {},
   "outputs": [
    {
     "name": "stdout",
     "output_type": "stream",
     "text": [
      "Wall time: 16.4 s\n"
     ]
    },
    {
     "data": {
      "text/plain": [
       "TfidfVectorizer(analyzer='word', binary=False, decode_error='strict',\n",
       "        dtype=<class 'numpy.int64'>, encoding='utf-8', input='content',\n",
       "        lowercase=True, max_df=1.0, max_features=None, min_df=1,\n",
       "        ngram_range=(1, 3), norm='l2', preprocessor=None, smooth_idf=True,\n",
       "        stop_words='english', strip_accents=None, sublinear_tf=False,\n",
       "        token_pattern='\\\\w+', tokenizer=None, use_idf=True,\n",
       "        vocabulary=None)"
      ]
     },
     "execution_count": 59,
     "metadata": {},
     "output_type": "execute_result"
    }
   ],
   "source": [
    "%%time\n",
    "tfv.fit(corpus_data)"
   ]
  },
  {
   "cell_type": "code",
   "execution_count": 60,
   "metadata": {},
   "outputs": [
    {
     "name": "stdout",
     "output_type": "stream",
     "text": [
      "Wall time: 8.66 s\n"
     ]
    }
   ],
   "source": [
    "%%time\n",
    "train_Q = tfv.transform(train_q)\n",
    "train_R = tfv.transform(train_r)\n",
    "test_Q = tfv.transform(test_q)\n",
    "test_R = tfv.transform(test_r)"
   ]
  },
  {
   "cell_type": "code",
   "execution_count": 61,
   "metadata": {
    "collapsed": true
   },
   "outputs": [],
   "source": [
    "from scipy.sparse import hstack"
   ]
  },
  {
   "cell_type": "code",
   "execution_count": 62,
   "metadata": {
    "collapsed": true
   },
   "outputs": [],
   "source": [
    "train_X = hstack((train_Q, train_R))"
   ]
  },
  {
   "cell_type": "code",
   "execution_count": 63,
   "metadata": {
    "collapsed": true
   },
   "outputs": [],
   "source": [
    "test_X = hstack((test_Q, test_R))"
   ]
  },
  {
   "cell_type": "code",
   "execution_count": 64,
   "metadata": {},
   "outputs": [
    {
     "name": "stdout",
     "output_type": "stream",
     "text": [
      "(10157, 1355711)\n",
      "(10157, 1355711)\n",
      "(22513, 1355711)\n",
      "(22513, 1355711)\n",
      "(10157, 2711422)\n",
      "(22513, 2711422)\n"
     ]
    }
   ],
   "source": [
    "print(train_Q.shape)\n",
    "print(train_R.shape)\n",
    "print(test_Q.shape)\n",
    "print(test_R.shape)\n",
    "print(train_X.shape)\n",
    "print(test_X.shape)"
   ]
  },
  {
   "cell_type": "code",
   "execution_count": 447,
   "metadata": {},
   "outputs": [
    {
     "data": {
      "text/plain": [
       "['train_X.pkl']"
      ]
     },
     "execution_count": 447,
     "metadata": {},
     "output_type": "execute_result"
    }
   ],
   "source": [
    "joblib.dump(train_X, 'train_X.pkl')"
   ]
  },
  {
   "cell_type": "code",
   "execution_count": 448,
   "metadata": {},
   "outputs": [
    {
     "data": {
      "text/plain": [
       "['test_X.pkl']"
      ]
     },
     "execution_count": 448,
     "metadata": {},
     "output_type": "execute_result"
    }
   ],
   "source": [
    "joblib.dump(test_X, 'test_X.pkl')"
   ]
  },
  {
   "cell_type": "code",
   "execution_count": null,
   "metadata": {
    "collapsed": true
   },
   "outputs": [],
   "source": []
  },
  {
   "cell_type": "markdown",
   "metadata": {},
   "source": [
    "## TF-IDF (2)"
   ]
  },
  {
   "cell_type": "code",
   "execution_count": 67,
   "metadata": {},
   "outputs": [
    {
     "data": {
      "text/plain": [
       "['accent pillow heart design red black red satin accent pillow embroid heart black thread',\n",
       " 'set batteri oper multi led train christma light clear wire set batteri oper train christma light featur multi bulb match train light cover clear wire multi consist red green blue yellow bulb number bulb string bulb micro led space bulb inch light length feet total length feet inch lead cord addit product featur led light use less energi cool touch one bulb burn rest stay lit light equip lamp lock featur make replac interchang keep fall requir aa batteri includ conveni timer switch locat batteri pack timer function batteri pack allow hour hour cannot connect multipl set togeth list indoor use train dimens materi plastic wire acryl',\n",
       " 'viewson pro dlp multimedia projector',\n",
       " 'concept housewar wr solid wood ceil wall mount wine rack charcoal grey bottl like silent sturdi tree southern enterpris bird branch coat rack eye catch addit home cor tree theme coat rack featur branch pinecon accent small bird perch top give whimsic welcom appear still make sturdi enough hold coat hat umbrella whether serv coat rack hat rack combin two great space saver get appreci grace appear number hook frame materi metal hardwar materi metal dimens weight lb assembl detail assembl requir',\n",
       " 'wintergreen light christma led light bulb pack wtgr featur nickel base averag hour acryl resin bulb materi christma light bulb steadi dimmabl replac lamp nickel base prevent corros socket wattag watt voltag volt dimmabl ye light sourc led bulb shape type candl amber bulb amber',\n",
       " 'oakley sunglass radar path polish black gray sunglass durabl day comfort lightweight stress resist matter frame materi integr surg port channel cool airflow optim peripher view side coverag polar ellipsoid len geometri come standard oakley hydrophob oleophob anti smudg len coat comfort perform three point fit hold lens precis optic align metal icon accent optic precis perform meet ansi standard impact resist meet ansi standard high mass high veloc impact uv protect plutonit len filter uva uvb uvc harm blue light nm glare reduct tune light transmiss iridium len coat multipl interchang unobtainium nose pad option customiz comfort secur fit protect sport specif oakley soft vault includ capac extra len polish black frame gray len',\n",
       " 'make american quilt dvd director jocelyn moorhous film adapt novel whitney otto star winona ryder finn dodd berkeley graduat student summer hiatu grandmoth home work thesi ponder marriag propos boyfriend sam dermot mulroney finn grandma hy ellen burstyn live great aunt gladi jo ann bancroft idyl northern california home two fieri women meet seven older femal rel close friend regular quilt bee led anna maya angel cours summer finn contempl futur gain insight love relationship differ member quilt bee experi brought life woman share uniqu tale confus young woman interwoven memori sage member quilt bee includ constanc kate nelligan anna daughter mariana alfr woodard finn free spirit mother salli kate capshaw becom lesson love pain emot growth finn women work make wed quilt memori becom vivid flashback subtli weav past present togeth creat color collect stori featur young star includ clair dane samantha mathi individu women youth tribut women friendship camaraderi make american quilt shine cast star actress',\n",
       " 'zagg invisibleshield cell phone screen protector samsung galaxi mini protect preciou technolog zagg invisibleshield cell phone screen protector samsung galaxi mini durabl yet slim almost invis scratch resist screen protector one ever need design nano memori technolog allow small scratch self heal samsung galaxi mini screen protector also resist impact water tear punctur plu bubbl free applic easi achiev shield ever get damag start wear problem got warranti lifetim devic',\n",
       " 'cook home stainless steel piec pasta cooker steamer multi pot encapsul bottom quart ultim pasta veget steamer cook set includ four piec quart stock pot temper glass lid steamer insert pasta insert mirror polish stainless steel stock pot featur encapsul bottom aluminum core bottom layer provid even heat distribut',\n",
       " 'presto flipsid electr waffl maker pleas waffl lover famili electr waffl maker presto stainless steel construct provid even heat distribut uniqu flip design ensur crisp fluffi waffl uniqu flip design evenli spread batter waffl crispi outsid fluffi tender insid',\n",
       " 'oakley radar pitch replac len gray one technolog advanc piec sport equip earth sure get oakley radar engin interchang len design let adapt sport environ three uniqu len shape avail choos amount coverag work best outdoor activ way mother natur sculptur facial physiqu offer wide rang accessori len set includ vent design offer cool airflow well best polar lens sun oakley polar technolog use liquid infus process bond polar filter molecular level elimin haze distort found convent technolog achiev unbeat glare cut perform durabl plutonit len materi offer superior impact protect filter uv ray high definit optic hdo maxim clariti patent innov like polar ellipsoid geometri precis crystal clear vision everi angl view',\n",
       " 'plu peyton tank tulah',\n",
       " 'surya ruffl circl decor pillow gray poli fill stylish yet simpl surya toss pillow make perfect accent bedroom live room solid pillow textur accent leap pillow featur beig choos squar pillow squar pillow addit alli choos pillow polyest fill fill polyest cover remov spot clean import',\n",
       " 'lorel round profil radio control wall clock lorel round profil radio control wall clock digit quartz atom',\n",
       " 'cuisinart dcc perfectemp cup programm coffeemak cuisinart cup programm coffeemak equip cut edg coffe technolog give hotter coffe without sacrif tast choos flavor profil regular bold strength control set brew time hour ahead backlit lcd easi read readi tone turn indic light signal time decalcifi',\n",
       " 'bachmann train thoma christma express ho scale readi run electr train set make holiday brighter thoma christma express ho scale readi run electr train set sport jolli hat equip snow plow thoma readi brave winter weather make sure christma tree import cargo arriv time island sodor holiday parti wonder decor tree perfect gift thoma fan life festiv thoma christma express deliv yuletid fun children age readi run train set includ thoma tank engin plow holiday hat move eye open wagon decor tree flat car crate load merri christma ventil van oval snap fit track power pack speed control instruct booklet',\n",
       " 'fremada sterl silver freeform necklac craft sterl silver necklac offer radiant glow chain secur spring ring closur necklac versatil contemporari make perfect everyday accessor',\n",
       " 'hobbit battl five armi blu ray disc anamorph widescreen blu ray disc anamorph widescreen star armitag richard freeman martin mckellen ian new line warner',\n",
       " 'gimborn cat grass plu singl cat gr gimborn cat grass plu singl cat gr bring great outdoor insid cat catgrass plu satisfi cat urg eat fresh veget preserv preciou housepl uniqu formula requir water grow straight contain cat grass plu help cat natur digest system also act natur hairbal remedi grass grow one week product type singl catitem weight gram',\n",
       " 'sodastream home soda maker kit make perfect soda seltzer home push button transform tap water freshli made soda second sodastream genesi home soda maker quick econom easi use fill includ reusabl carbon bottl water screw machin press larg button top add fizz want make soda flavor seltzer water add flavor choic save money save time save energi cut carbon footprint reusabl one liter carbon bottl save carri store larg soda seltzer case store also enjoy great save take everyth account homemad soda seltzer cost cent per liter plu help environ drastic reduc wast store bought can bottl kit includ one sodastream genesi home soda maker one liter carbon one reusabl bpa free carbon bottl one sodamix varieti pack sampler regular diet energi drink flavor click nutrit inform make soda way like fizz less fizz sweet light even creat flavor order sodastream genesi home soda maker kit brookston today',\n",
       " 'frigidair ffce lb microwav oven freestand black',\n",
       " 'nurs mate bryar women aqua',\n",
       " 'royc leather rfid block men bifold wallet doubl id flap genuin leather clever way keep privat inform protect royc leather rfid block men bifold wallet shield place wallet interior keep electron card reader steal person inform rfid bifold wallet made high qualiti genuin leather conveni doubl id flap eight slot credit busi card featur two long dollar bill carrier handsom wallet thought gift idea men life',\n",
       " 'coloni girl child halloween costum tradit ladi revolutionari style travel revolutionari road year earli american cloth costum includ navi blue lace trim peplum blous black full length skirt includ wig coloni girl child halloween costum includ navi blue lace trim peplum blous black full length skirt includ wig materi content polyest cotton care instruct dri clean size child chart vari costum see detail chart',\n",
       " 'victorinox swiss armi serrat util knife victorinox steak knife classic reliabl tri true member cutleri famili numer variat custom steak knife serv restaur patron pound pork countless cut beef knife gener use steak knife inch serrat blade make slice favorit cut clean easi stamp construct creat thinner lighter blade knife carv rosewood handl comfort classi round tip blade style tast look',\n",
       " 'cirago cirago mhl mhl adapt micro usb hdmi black cirago mhl adapt mhl hdmi enabl devic hdtv compat hdmi mhl mhl adapt ideal share content mhl compat smartphon tablet hdtv monitor mhl adapt incorpor mobil high definit version technolog support hd video digit audio connect power sourc via micro usb connector simultan charg devic video audio playback hdtv featuresconnect smartphon tablet mhl compat devic hdtvsupport hd video digit audioconnect devic via micro usb connector male connect power sourc via secondari micro usb connector femal simultan charg devic video audio playback hdtvsupport hdmi mhl requir mobil devic mhl enabledinterfac micro usb male micro usb femal hdmi femal hdmi version mhl version audio digit audiocolor black',\n",
       " 'zippo windproof satin chrome seren prayer lighter new box',\n",
       " 'snugpak chrysali sleep bag snugpak chrysali sleep bag perfect overnight trip temperatur drop zero spaciou sleep bag come expand panel allow comfort well built led assist',\n",
       " 'belkin wifi rang extend white',\n",
       " 'girl hello kitti polka dot foot sleeper',\n",
       " 'pinemeadow golf nitrix pro men complet piec golf club set right hand batman begin explor origin batman legend dark knight emerg forc good gotham wake parent murder disillus industri heir bruce wayn christian bale travel world seek mean fight injustic turn fear prey fear return gotham unveil alter ego batman mask crusad use strength intellect array high tech decept fight sinist forc threaten citi still galleri theatric trailer languag english french spanish subtitl english french spanish japanes korean dark night prologu tankman begin batman begin spoof batman journey begin shape mind bodi gotham citi rise cape cowl batman tumbler path discoveri save gotham citi genesi bat reflect write batman begin david goyer digit batman batman begin stunt confidenti file',\n",
       " 'convers chuck taylor low top sneaker women express individu style convers chuck taylor star low top sneaker canva upper athlet sneaker style rubber cap toe lace front logo detail canva line cushion insol stripe rubber midsol rubber traction outsol',\n",
       " 'sleep innov revers memori foam pillow',\n",
       " 'modern singl lever oil rub bronz kitchen faucet',\n",
       " 'georg men short sleev polo cold front youth winter boot provid young one outstand protect featur cool look children love snow boot ideal run around sled play outsid',\n",
       " 'women dc shoe trase tx black white ntroduc trase tx low profil silhouett clean upper design sure classic featur includ canva upper breathabl lightweight feel metal eyelet print dc logo new origin low top skate shoe metal eyelet vulcan construct abras resist sticki rubber outsol featur dc trademark',\n",
       " 'keurig donut shop medium roast coffe cup count',\n",
       " 'cold eez cold remedi lozeng sugar free honey lemon ea note actual product packag may differ imag shown due packag updat manufactur homeopath zinc glucon glycin',\n",
       " 'obagi elastiderm eye treatment cream oz authent nib seal',\n",
       " 'plantron starset ii mono cord ear headset',\n",
       " 'wildkin stay warm degre kid sleep bag pink leopard wildkin',\n",
       " 'ps dualshock wireless control urban camouflag look feel like part action ps dualshock wireless control urban camouflag compat ps control cover uniqu camouflag print gear action adventur intuit sixaxi motion sens control intens vibrat ps control make feel everi explos crash comfi ergonom grip keep comfort enough stay game hour wireless playstat control give freedom move around use bluetooth keep connectedeven friend run low juic charg use control usb cabl style assort may vari',\n",
       " 'blueski oz soak uv gel nail polish purpl fedora suitabl hand feet blueski shellac nail treatment damag natur nail provid day incred high gloss wear quick easi remov give nail glamour treatment deserv comfort home salon mani color choos never walk door bore nail ever',\n",
       " 'yanke candl black coconut larg jar oz brand new prioriti ship',\n",
       " 'infocu projector lamp infocu projector lamp descript sp lamp infocu certifi replac projector lamp',\n",
       " 'macal macbook air case keep macbook air look clean pristin macal macbook air case lightweight durabl case featur piec snap design protect macbook air ding scratch offer custom fit still provid access port sensor vent open reduc heat build state art macbook case includ anti slip silica gel feet design specif model allow transport comput without worri',\n",
       " 'crayola blue tween halloween costum teen girl one',\n",
       " 'mophi juic pack plu iphon red charg appl iphon go mophi juic pack plu bbr charg case provid addit hour batteri life littl hour charg time plastic rubber materi offer protect',\n",
       " 'vaniti fair year hardcov vaniti fair year showcas centuri person power art commerc crisi cultur highbrow low incept jazz age depress reincarn boom boom reagan year imag satur inform age vaniti fair present modern era unfold use wit imagin peerless literari narr bold groundbreak imageri greatest photograph artist illustr day sumptuou book take decad decad look world seen magazin stop describ incompar editor frank crowninshield birth jazz age vaniti fair magazin controversi rebirth histori glamor vaniti fair oscar parti exhaust sweep visual impact time capsul format vaniti fair year book everyon want',\n",
       " 'pittsburgh steeler roadblock duffel black time stand proud showcas undi spirit one winningest team american footbal handsom shoulder strap pittsburgh steeler roadblock duffel celebr accomplish multipl super bowl champion nfl franchis magnific zipper duffel bag offer enough interior spacious handl belong eas perfect travel companion casual weekend get away trip gym activ need roomi bag multipl compart fine stitch polyest beauti fit bill mon steeler fan let hear make nois measur closur type zip closur includ shoulder strap exterior featur full zipper closur interior featur multipl compart handl type remov strap adust shoulder strap shell materi polyest liner materi polyest handl materi nylon dimens weight lb warranti descript day limit manufactur warranti info',\n",
       " 'corel plain white dinner plate set',\n",
       " 'georg boy piec dress shirt tie set georg boy piec dress shirt tie set make boy look smart sharp comfort design impecc match piec set make boy look great piec also great mix match exist closet choos assort option',\n",
       " 'set twinkl warm white led christma light extens set black wire set twinkl warm white led christma light extens set black wire led connect new flexibl light system',\n",
       " 'fashion gift men stainless steel cross pendant necklac chain silver',\n",
       " 'kitchenaid rrfga food grinder mixer attach refurbish accessor kitchenaid stand mixer quickli grind meat firm fruit veget dri bread chees attach versatil attach includ coars fine grind plate',\n",
       " 'boy dc shoe pure black grey yellow kid pure featur heavi duti soft resili upper metal eyelet lace lock foam pad tongu collar lightweight mesh tongu vulcan construct also abras resist sticki rubber outsol multi tone bottom dc trademark pill pattern sole design allow comfort walk age featur either leather canva upper',\n",
       " 'everi day carri tactic larg heavi duti carri shoulder duffl bag odg everi day carri duffl bag construct heavi duti polyest withstand harsh environ accommod gear mission hike excurs dual carri handl well adjust shoulder strap longer carri time main compart featur wide mouth easili fit gear insid pull tab zipper addit side pocket easili stash access smaller item item need readi hand',\n",
       " 'sanrio co hello kitti women ounc eau de toilett tester spray hello kitti perfum introduc design hous sanrio co fragranc avail ounc eau de toilett tester spray',\n",
       " 'cookwar pot pan set piec stainless steel kitchen food cook',\n",
       " 'sunbeam heat electr blanket channel microplush king slate grey indulg rich soft sunbeam channel microplush heat blanket slate grey king ultra soft microplush fabric smooth touch stylish channel pattern hem edg finish blanket sophist person heat set prepar rest night sooth comfort eleg thermofin warm system blanket monitor temperatur auto adjust keep level warmth consist throughout night sunbeam blanket also allow save percent year heat bill turn heat blanket set thermostat percent hour sleep blanket includ heat level easi oper control make simpl find exactli right set easi care blanket fulli machin washabl dryer safe made percent polyest includ year limit warranti sunbeam twin singl heat control full singl heat control queen dual heat control king dual heat control',\n",
       " 'herbal essenc bodi envi volum shampoo oz herbal essenc bodi envi volum shampoo give hair bodi quit lightweight formula shampoo infus passion flower pearl natur volum shine herbal essenc bodi envi shampoo oz fresh exhilar scent work rich thick lather also ideal hair type includ treat hair herbal essenc volum shampoo come pump applic ad conveni best result combin herbal essenc bodi envi volum condition sold separ',\n",
       " 'bosch univers plu blender pitcher blender pitcher design pure mix blend crumb make anyth soup sauc fresh nut butter babi food sandwich spread blender featur larg cup capac titl bosch univers plu blender white includ blender lid funnel capac six cup motor watt use bosch univers motor set four speed attach mixer dimens inch high inch wide inch deep materi plastic remov blade easi clean fit older univers mixer fit univers plu mixer',\n",
       " 'danskin girl bunge tie cross trainer shoe upper pu mesh outsol eva fabric useasoftbristlebrushtoremoveanysurfacedirtordustfromthesho',\n",
       " 'perki pet mason jar wild bird feeder new free ship',\n",
       " 'richard petit long lace mesh ribbon belt dress exud classic eleg long formal dress richard featur darl ribbon belt waist allov rose mesh lace',\n",
       " 'swirl led light christma tree glitterdom figur winter town scene pack winter scene swirl led light christma tree glitterdom figur magnet motor bottom christma tree glitterdom swirl iridesc glitter insid time interv base tree lit within led light tree surround color wintri town scene conveni switch back batteri oper includ dimens materi resin plastic pack includ shown',\n",
       " 'harley davidson eagl frame art print gel coat finish',\n",
       " 'ultim harley davidson hardcov updat new gener bike lover visual stun comprehens histori harley davidson chart compani bike decad decad moment first model roll backyard shed milwauke harley postwar golden age sought bike distinguish compani today ultim harley davidson present seventi beauti covet harley time whether twin lightn seventi harley davidson bike examin present minut detail close up engin depth technic specif',\n",
       " 'wordlock bike lock match key mm ft black featur benefitsmatchkey system key match cabl word key match word lock laser etch uniqu key shape match key product heavi duti flexibl steel cabl mm thick feet long bike mount bracket',\n",
       " 'cloudburst rain jacket',\n",
       " 'walterdrak duffl bag stylish tapestri luggag lightweight yet rug water resist duffl bag part luggag set nest easi storag durabl polyest leather like trim duffl remov strap adjust',\n",
       " 'lego star war republ frigat minifig',\n",
       " 'itzi ritzi snack happen reusabl snack bag thermo straw bottl jungl never leav home without snack stash smart think keep cracker fruit sandwich candi bribe stylishli contain color zipper bag eco friendli carrier come modern pattern ador forget plastic bag ever exist even better machin washabl clean reus easi itzi ritzi snack happen reusabl snack everyth bag reusabl machin washabl bag snack sandwich much made fda approv bpa free machin washabl line bag also lead free phthalat free cpsia certifi zipper top allow silent snack messi crumb get stuck velcro ideal littl hand measur inch inch thermo straw bottl ounc combin lightweight portabl superior durabl made eastman tritan copolyest contain bodi impact resist kid friendli dishwash safe',\n",
       " 'lg ph minibeam led projector embed batteri built digit tuner lg minibeam projector featur digit tv tuner built hour batteri led light sourc easili convert display tablet projector hdmi compat cabl control content straight projector plug play media usb includ remot control auto keyston automat correct skew pictur degre projector featur hd resolut led rgb lamp inch screen',\n",
       " 'kitchenaid gb qt glass bowl stand mixer new box',\n",
       " 'macbeth collect margarita fashion yoga mat get fit style macbeth collect fashion yoga mat perfect accessori help keep fit carri around fit class unrol right home mat easili clean dirti slip resist safeti',\n",
       " 'toshiba canvio connect tb portabl extern hard drive black store import file pictur media eas use toshiba canvio connect tb portabl extern hard drive hard drive tb capac design hold photo hour music compat microsoft window xp toshiba tb hard drive keep file central allow easi access black hard drive also rpm speed let retriev file quickli effortlessli enhanc way use comput handi hard drive',\n",
       " 'harley davidson philosophi paperback',\n",
       " 'stainless steel cup rice cooker steam tray',\n",
       " 'rock candi wireless control red ps play video game style rock candi wireless control ps instead tradit black red transluc design use express person style button featur control standard game system includ wireless adapt conveni enjoy ps game full extent rock candi control red',\n",
       " 'accel powramid power center surg protector accel powramid power center surg protector descript powramid power center surg protector typic surg protector continu suppli power even longer provid surg protect expos connect devic potenti damag power surg power stop technolog powramid automat stop conduct power absorpt reach capac powramid provid advanc joul surg protect featur patent mov technolog maximum safeti connect devic powramid surg protector avail black white featur foot ground power cord',\n",
       " 'oster slice toaster oster slice toaster oven conveni prepar meal snack without turn big convent oven ideal quick grab go food heat leftov',\n",
       " 'retinol face moistur organ lili de valle oz cream retinol face moistur organ ozorgan retinol moistur power cocktail antioxid combin vitamin diminish fine line wrinkl prematur age due sun exposur vitamin boast long list clinic proven restor anti age properti result orient formul fight free radic damag well restor renew firm elast thick skin direct appli small amount face neck night appli sunscreen use day paraben free',\n",
       " 'polo shirt mossimo suppli co detail size junior knit type piqu materi cotton spandex necklin style round polo collar sleev style short set sleev basic sleev band cuff closur style front button garment length hip hem type plain hem care clean machin wash cold machin wash gentl delic non chlorin bleach need tumbl dri normal low heat iron low pattern solid pattern appli',\n",
       " 'samsung galaxi mini gb unlock gsm dual sim cell phone super slim mm galaxi mini offer much technolog galaxi conveni compact design enjoy unsurpass perform compact make one hand use comfort ip certif galaxi mini resist sweat rain liquid sand dust feel free use phone practic situat',\n",
       " 'georg boy long sleev polo shirt pack valu bundl georg boy long sleev polo shirt pack valu bundl ideal child back school wardrob polo shirt made fine soft cotton blend treat scotchgard protector prevent stain tradit style polo shirt featur flat knit rib collar match cuff also includ vent side seam breathabl sweat patch tagless label prevent itch irrit georg polo shirt come varieti color mix match school uniform essenti pair jean complet polish look georg boy',\n",
       " 'howard miller windsor carriag clock howard miller windsor clock add eleg set handsom carriag style clock quartz movement bevel side featur black roman numer glass crystal metal waterfal bezel polish brass finish craft select hardwood veneer rich warm windsor cherri finish howard miller begin howard miller clock impress see superior qualiti design howard miller wall floor mantel clock craft last gener perfectli accent home miller began manufactur wall mantel clock michigan evolv encompass cabinet make furnitur design renown qualiti style howard miller compani proudli stand behind reput world largest clock manufactur inch windsor cherri finish crystal glass cover quartz movement batteri oper bevel side top base',\n",
       " 'women black red tall rain boot choos pair chic durabl rubber boot wear raini day keep feet tidi garden muck soil sturdi easili washabl boot withstand bad weather help perform backyard chore line soft knit fabric keep toe warm raini day',\n",
       " 'special kitti outdoor dri cat food lb special kitti dri cat food know cat rule want serv best food one high qualiti varieti use wholesom ingredi support health also tast delici alway trust special kitti cat food provid nutriti premium product cat crave advanc outdoor formula made specif attent need outdoor pet provid extra energi need activ outdoor anim product also support eye bone tooth health cat may actual reward smile thank wholesom cat food special kitti outdoor dri cat food lb',\n",
       " 'fruit loom comfort front close sport bra style pack esta fruta del sujetador confort deportivo delantero cerca loom estilo es perfecto para el uso diario es cil de llevar con su caract stica de cierr frontal tien un frent fruncida para una mejor conformaci adem se construy con capa de cobertura sin complicacion elig uno de lo color variado fruit loom comfort front cerrar sost deportivo estilo cil de llevar cerca delant de algod sujetador frent fruncida para mejorar la conformaci capa para una cobertura sin complicacion perfecto para todo lo lavar quina en fr',\n",
       " 'offici logitech rock band usb microphon xbox nintendo wii ps test',\n",
       " 'cosco simpl fold high chair zuri invit fun meal time cosco simpl fold high chair easi stow take go high chair special design simpl take along ride full three posit adjust tray grow child give extra room need cleanup easi messi meal thank wipeabl seat pad high chair fold quickli storag sight pack easili car whether dine home travel simpl fold high chair give child fun place eat cosco simpl fold high chair zuri easi wipe seat make babi goo simpl clean fold flat stand make easi hide away compact fold great take go nonsens design set second full posit adjust tray built cup holder wipeabl seat pad comfort leg rest littl feet point har keep child lb secur',\n",
       " 'san francisco er offici nfl infant one hood infant towel keep babi warm dri hood towel made super soft terri cloth us print logo',\n",
       " 'bissel lift floor cordless stick vacuum power conveni bissel lift floor cordless stick vacuum smart choic everyday mess includ brush roll switch safe effect clean floor type detach hand vacuum make easi clean stair upholsteri',\n",
       " 'koolatron delux doubl treat ice cream maker ft doubl deck cone koolatron delux doubl treat ice cream maker mix batch two differ flavor time place ingredi chocol one side vanilla hit switch ice cream maker start mix automat stop delici treat reach perfect temperatur includ instruct manual recip book sweet inspir dishwash safe easi clean requir aa batteri must purchas separ',\n",
       " 'goofi movi full frame dvd minut disney enjoy outrag fun laughter disney legendari comedian star full length motion pictur great tradit qualiti disney anim goofi movi classic blend irresist charact unforgett music endear modern day stori lovabl goof bond teenag son max hilari cross countri road trip en rout ol fish hole find floppi ear misadventur max learn noth wrong take dear old dad littl goofi question answer showstop final max goofi crash stage spectacular rock concert ever perform fill action pack scene narrow escap even comic close encount bigfoot disney critic acclaim hit comedi delight memor adventur famili love take call goof cartoon goofi success stori cartoon goofi movi dvd storybook goofi movi trivia game theatric trailer',\n",
       " 'everlast wristwrap glove black',\n",
       " 'contour option elit twin tandem doubl babi stroller sand new style align center famili berlin san fb demi larg style align center famili cooper black larg style align center famili berlin san fb demi larg style align center style famili berlin san fb demi larg style famili berlin san fb demi larg align center style famili gill san ultra bold style famili arial black xx larg align center style famili gill san ultra bold larg align center decor underlin style famili berlin san fb demi larg style famili gill san ultra bold larg style famili cooper black larg decor underlin style famili cooper black decor underlin style style larg new contour option elit twin tandem doubl stroller sand best world auth dealer contour purchas cover full mfg warranti',\n",
       " 'jumbo bin bottl mahogani wine rack jumbo bin bottl wine rack durabl beauti eco friendli ever hand cut hand sand remark even grain',\n",
       " 'leather briefcas remov laptop sleev red stay stylishli connect luxuri italian leather bag honeycomb memori structur laptop sleev top zip offer easi access divid section one remov pad laptop sleev protect comput insid bag hold laptop second section includ gusset zip pocket disk pocket cell phone pocket pen pocket outer shape organ pocket featur doubl zipper space media gadget busi card pen loop lightweight bag weigh lb tubular forearm strap plu remov leather shoulder strap nonslip neopren pad absorb shock allevi bodi strain',\n",
       " 'bulova gymnasium wall clock underappreci charm vintag schoolhous accessori final get due bulova gymnasium wall clock bring back classic design solid hardwood case timeless brown cherri finish faux leather insert complement contrast stitch metal cage protect glass len presum fli dodg ball clock use quartz movement requir one aa batteri includ bulova corpor realiz great american dream began joseph bulova year old immigr bohemia open small jewelri store malden lane new york citi modest enterpris evolv one today preemin watch clock compani bulova began manufactur boudoir desk clock along fine pocket watch made sold unpreced number world war wristwatch issu militari greater conveni return veteran brought home new fashion new market emerg bulova timepiec use finest materi precis craftsmanship state art technolog endur qualiti perform heart bulova watch precis accuraci finest quartz movement altern technolog solar mechan energi bulova watch guarante accur within one minut year everi bulova anti magnet shock resist featur compani uniqu distort free scratch resist dura crystal bulova offer rang style scope product meet everyon need sporti marin star collect diamond watch heirloom qualiti timepiec bulova watch clock complement style',\n",
       " 'keurig coffe maker cup pack water filter kit',\n",
       " 'danskin core strength push foam sport bra high impact pack danskin core strength push foam sport bra bra wear day without continu adjust worri spill bend slight push underwir bra offer excel support also push sport bra great moistur sweat absorpt feel wet itchi middl physic activ contour pad sport bra keep breast place offer day comfort one sport bra lend nice shape breast squish black sport bracan worn physic activ like run work gym danskin core strength push foam sport bra also worn daili basi make great bra everyday wear mesh materi great addit cup provid ultim support',\n",
       " 'strawberri babi costum',\n",
       " 'somett athen inch cast aluminum outdoor ice bucket outdoor gather never somett athen outdoor enamor center ice bucket keep memori cold drink ice within easi reach beyond set adapt home need splendor function characterist cast aluminum age bronz finish accent love bow leg lattic style design adjust feet inset fit guest need',\n",
       " 'nickelodeon paw patrol rocki recycl truck vehicl figur race rescu nickelodeon paw patrol rocki recycl truck paw patrol job big pup small danger near give yelp paw patrol help rocki recycl truck fun toy taken straight belov nickelodeon jr show paw patrol featur one show brave pup rocki paw patrol rocki truck vehicl figur featur plucki pup green recycl truck truck outfit movabl fork lift back open compart real work wheel truck push direct easili rocki figur recycl truck toy part full line toy popular seri delight young fan rescu mission full friendship teamwork braveri choos chase marshal zuma skye rocki rubbl uniqu transform toy sold separ toy recommend age nickelodeon paw patrol rocki recycl truck vehicl figur popular nick jr show paw patrol learn adventur braveri teamwork includ rocki truck real work wheel',\n",
       " 'ray ban sunglass new wayfar rb black transpar green len mm simpli put ray ban icon eyewear sinc introduct classic wayfar style signatur shape ray ban immedi recogniz anywher world rock roll hollywood wayfar alway symbol style fashion tast rb wayfar ray ban modern interpret origin classic slightli smaller softer eye shape frame construct acet make lightweight durabl crystal len featur percent uv coat quintessenti wayfar shape balanc accent frame logo templ rb combin black frame green len never go wrong updat twist classic look',\n",
       " 'dell dell portabl backup hard drive tb',\n",
       " 'champion women power core cami sport bra champion women medium support sport bra must fit wardrob want coverag medium support soft moistur wick fabric keep dri support way stretch soft cup keep comfort bevi color choos sure find perfect match attir',\n",
       " 'toshiba canvio connect tb portabl extern hard drive valu bundl bonu case plug pc toshiba new nimbl versatil canvio connect let access share back preciou file media virtual anywher afford pocket size easi carri amazingli full featur perform offer huge amount storag tb upload download back desktop laptop comput even mobil devic toshiba canvio connect tb portabl extern hard drive tb expand digit storag usb usb flexibl interfac fast transfer speed rpm fast access perform plug pla',\n",
       " 'vizio fi inch hz full array smart led hdtv built wi fi',\n",
       " 'heart heart wooden basebal pictur frame',\n",
       " 'assassin creed rogu xbox game featur becom ultim assassin hunter experi assassin creed univers perspect templar play shay addit skill master assassin also possess new abil like enhanc eagl vision weapon deadli air rifl grenad launcher slowli descend dark wit shay transform adventur assassin grim commit templar will hunt former brother experi firsthand event lead shay dark path set cours forev chang fate assassin brotherhood new improv naval gameplay cast ship morrigan fight way ici sea north atlant narrow water america river valley assassin creed rogu build award win naval experi assassin creed iv black flag new gameplay includ new weapon enemi tactic vast divers open world explor shay stori allow explor three uniqu environ artic north atlant american river valley new york citi north america th centuri amid chao violenc french indian war shay patrick cormac fearless young member assassin brotherhood undergo dark transform forev shape futur coloni danger mission goe tragic wrong shay turn back assassin respons attempt end life cast asid call brother shay set mission wipe turn ultim becom fear assassin hunter histori introduc assassin creed rogu darkest chapter assassin creed franchis yet shay experi slow transform assassin assassin hunter follow creed set extraordinari journey new york citi wild river valley far away ici cold water north atlant pursuit ultim goal bring assassin',\n",
       " 'french toast white long sleev button boy uniform shirt littl boy look sharp school long sleev button uniform shirt french toast classic button dress shirt pair perfectli tie great school high qualiti fabric ensur boy wear shirt mani time',\n",
       " 'everlast black mma headgear protect competit everlast mma headgear full chin cheek pad includ mold face bar protect face punch everhid vinyl liner provid snug comfort fit includ full cheek chin pad protect face punch provid snug comfort fit set includ headgear brand everlast model lxl materi synthet leather black dimens inch long inch wide inch high weight pound',\n",
       " 'firefight child costum role play set littl boy put firefight costum readi fight imaginari fire big hero save day enjoy creativ posit play featur tradit color red black yellow display word fire chief back made polyest materi includ match helmet child costum idea role play dress parti halloween school play festiv occas refer detail chart vari costum ensur best possibl fit firefight child costum role play set child costum includ shirt hat materi content polyest tradit red black yellow color role play costum ideal dress parti halloween school play occas care spot clean child boy',\n",
       " 'thoma train storag chest thoma train collaps storag chest help make clean time fun featur thoma promin handl easi lift move around fabric chest attach lid conceal toy insid brightli color kid storag chest ideal addit bedroom play room',\n",
       " 'far cri limit edit ps far cri limit edit day ps far cri player find kyrat breathtak peril wild region himalaya struggl regim despot self appoint king use vast array weapon vehicl anim player write stori across exot open world landscap',\n",
       " 'van newsom backpack black backpack bag',\n",
       " 'highpoint kid pk show assort feel like superhero teenag mutant ninja turtl pk show sock highpoint',\n",
       " 'ringsid deluxefacesaverboxingheadgear thoroughli protect head provid full rang vision adjust rear closur lace top made entir leather buckl chin strap',\n",
       " 'degre reflex women plu shir leg yoga capri pant stretchi yoga pant reflex perfect loung activ wear made blend cotton spandex pant finish contrast waistband shir detail leg',\n",
       " 'aveeno nourish moistur condition set pack bring dri damag hair back life nourish moistur condition aveeno formul blend wheat protein wheat germ oil nourish moistur target damag area restor strength soft shine hair set includ two ounc bottl condition',\n",
       " 'hot ultrason home aroma humidifi air diffus purifi ioniz atom',\n",
       " 'infocu carri case projector soft carri case valu projector seri easier mobil protect fit infocu sta seri projector pad interior keep projector protect light weight',\n",
       " 'ecco enrico sneaker men shoe sporti fresh style simpl classic low top sneaker ecco leather upper rubber sole import ecco men sneaker lace closur metal eyelet pad collar',\n",
       " 'cuisinart cup automat coffeemak pink cup coffeemak eleg tech industri design fulli programm variabl heater plate control temperatur brew paus includ coffeemak measur scoop paper coffe starter kit filter dishwash safe part',\n",
       " 'fitbit charg energ day charg high perform wristband time deliv real time fit stat right wrist ole display show step taken distanc travel calori burn stair climb activ minut stay connect throughout day caller id day done track sleep set silent vibrat alarm morn night charg let monitor trend wirelessli sync data smartphon comput matter stay motiv step fit beat goal',\n",
       " 'radic skincar eye reviv cream ml unstopp eye cream work like four product one sensit age challeng area multitask gem enrich multipl anti age ingredi proven hydrat reduc puffi desreas discolor dark circl diminish wrinkl depth week product part space nk boutiqu web id',\n",
       " 'authent hotel spa love mom monogram terri cloth turkish cotton bath robe experi soft luxuri authent hotel spa terri bathrob monogram mom heart mom design feel pamper cozi knee length spa style robe featur long sleev two patch pocket',\n",
       " 'wellograph watch fit monitor smartwatch assort color display low power lcd integr backlight batteri mah day strap materi genuin leather nato nylon strap option sensor tri led hr sensor axi acceleromet charger magnet dock micro usb cabl cm wrist connect bluetooth low energi case materi sapphir stainless steel aluminum data month record water resist atm ft',\n",
       " 'women skecher gorun ultra hot pink aqua acclaim skecher gorun ultra get even better skecher gorun ultra shoe ultim cushion run great long distanc run recoveri run look maximum cushion resalyt ever enhanc resalyt cushion skecher gorun ride shoe uniqu combin soft resalyt midsol rigid resagrip outsol provid cushion support aggress traction control goimpuls sensor outsol allow superior control terrain mm heel drop without insol mm heel drop ad option insol way stretch mesh side panel ad comfort promot mid foot strike weight oz women side logo lace front soft fabric shoe line barefoot wear',\n",
       " 'rockin rider patch rock hors ride patch classic rock hors featur soft plush lightweight sturdi foam core sit beauti wooden base detail scroll engrav press ear sing exclus littl poni song say fun phrase make realist hors sound child amaz patch move mouth swish tail featur includ full bodi bridl rein high back saddl cotton trim metal stirrup wooden handl realist mane tail assembl requir saddl height inch requir aa batteri includ patch recommend age lb rockin rider patch rock hors ride soft plush lightweight sturdi foam core beauti wood base detail scroll engrav press left ear hear exclus littl poni song press right ear hear fun talk phrase realist hors sound move mouth swish tail full bodi bridl rein high back saddl cotton trim metal stirrup wood handl realist mane tail assembl requir saddl height aa batteri includ age year lb',\n",
       " 'boogi girl child halloween costum spread saturday night fever boogi girl child costum set includ zipper stretch poli jumpsuit sparkli dot accent match glovett pictur wig boa includ girl halloween costum fun choic trick treat school play histor reenact parti parad famili occas holiday product festiv costum made polyest comfort long wear also durabl multipl use simpli add separ accessori makeup look truli complet child halloween costum easi care simpli hand wash cold water view detail chart ensur proper fit',\n",
       " 'canon eo digit camera bodi canon eo digit camera bodi chang way user captur still imag video dslr camera canon eo trailblaz powerhous featur revolutionari autofocu technolog unlock potenti live view dual pixel cmo af game chang technolog allow eo captur video live view smooth precis autofocu similar camcord complet superb imag qualiti hallmark eo camera addit dual pixel cmo af provid fast accur autofocu live view still imag captur enabl fulli benefit freedom angl allow vari angl touch screen inch clear view lcd monitor ii composit option nearli limitless two real world choic live view viewfind shoot built wireless technolog eo remot app enhanc shoot versatil well enabl easi share brilliant imag qualiti provid eo megapixel cmo ap sensor first eo camera ap size sensor power digic imag processor support continu shoot frame per second well extend iso rang allow shoot wide varieti light condit stun photo accomplish use remark point cross type af system high precis dual cross center point advanc display option avail intellig viewfind suppli except control camera imag featur like hdr hdr backlight control multipl exposur handheld night scene creativ filter avail real time help turn even simpl imag spectacular photo elev possibl creativ express extraordinari new height power eo dual pixel cmo af place abil captur amaz still video right hand',\n",
       " 'bundl monster pc multicolor satin grosgrain ribbon bow girl hair clip set',\n",
       " 'montreal canadien resin logo high heel shoe wine bottl holder showcas wine uniqu way top high heel shoe bottl holder made paint resin shoe hold standard size bottl wine decor person favorit team logo featur front sole wine bottl holder make perfect game day parti accessori let guest know team loyalti montreal canadien resin logo high heel shoe wine bottl holder',\n",
       " 'memoi women cotton high waist pajama yoga leg fashion leg soft comfort made finest yarn make leg feel luxuri',\n",
       " 'truli radiant cz sterl silver infin heart necklac gift box captur look real necklac featur aaa grade cz grade cz enhanc facet fine jewelri cut show greater clariti luster shine craft sterl silver infin heart necklac come attract black velvet gift box',\n",
       " 'von ronen new york women gold sequin full length dress',\n",
       " 'one youmad carter newborn girl piec dress set purpl white',\n",
       " 'pyle retro belt drive turntabl usb pc connect recharg batteri grey pyle audio pvtt retro belt drive turntabl usb pc connect recharg batteri gray',\n",
       " 'cat heaven hardcov child west virginia cynthia rylant never dream becom writer free time devour archi comic book paperback romanc enjoy outdoor take one colleg english class hook great write know part went colleg know love beauti stori one night inspir southern writer jame age sat wrote young mountain name caldecott honor book ala notabl book instant success sinc night rylant stop creat wonder book stori explor friendship love grief mysteri often draw memori grow appalachia get lot person gratif think peopl get attent world make realli valuabl fiction make absolut shine beauti',\n",
       " 'inch champagn gold retina macbook bodi guard case perfect protect inch macbook champagn gold bodi guard case sleek fashion creat compli technolog bodi guard case also protect extern host eros',\n",
       " 'soni playstat game consol gb hdd jet black soni playstat gb bundl grand theft auto last us remast jet black factori refurbish factori refurbish soni bring great high qualiti product innov expect soni sure read specif great featur factori refurbish product return servic center restor meet manufactur qualiti standard may show limit sign use carri manufactur warranti manual softwar might includ usual download manufactur item origin manufactur box repackag protect ship model number product name soni game consol product type game consol intern memori gb hard drive media type blu ray cpu amd core video memori gddr sdram network bluetooth edr gigabit ethernet game control type dualshock wireless control dual analog stick triangl key circl key cross key squar key direct button touch pad connector type usb pin usb type hdmi output pin hdmi type composit video audio output spdif output toslink ethernet rj power consumpt oper watt tv connect hdmi composit video dimens inch weight lb',\n",
       " 'sunbeam slumber rest fleec electr blanket queen blue',\n",
       " 'sperri top sider men lanyard boat shoe linen lanyard boat shoe part sperri top sider et wet nautic collect thing boat enthusiast afraid get feet wet appreci quick dri',\n",
       " 'splendid infin scarf boweri street thermal',\n",
       " 'bluelin miraclebind notebook rule paper refil white sheet pack page remov reinsert refil micro perfor sheet margin page theme white appoint rule none includ refil sheet',\n",
       " 'west bend rotari waffl maker delici waffl turn away add west bend rotari waffl maker kitchen get cook make delici waffl easili degre rotat function temperatur readi light fold cool touch handl non skid feet nonstick coat remov drip tray temperatur control use great featur along includ recip find favorit waffl flavor',\n",
       " 'nespresso pixi clip espresso maker bundl milk frother nespresso pixi clip espresso maker bundl milk frother home kitchen kitchen categori coffe tea espresso',\n",
       " 'assassin creed iv black flag pre own playstat pirat rule caribbean establish lawless pirat republ among outlaw fearsom young captain name edward kenway exploit earn respect pirat legend like blackbeard draw ancient war may destroy everyth pirat built',\n",
       " 'sandisk gb non hs msd flash drive black sdsdqr sandisk elev gb non hs msd microsd memori card usb adapt sd adapt includ rescuepro recoveri softwar memori storag capac gb wire connect micro sd slot featur plug play includ microsd adapt adapt usb adapt batteri batteri use',\n",
       " 'low rise destruct boyfriend jean vanilla star detail borrow boy vanilla star low rise destruct boyfriend jean comfi jean low rise loos fit featur signific distress front back roll cuff ankl length fit pair jean top feminin romant detail provid contrast',\n",
       " 'cliniqu eye women ounc eye cream clinqu eye lightweight cream gel design help reduc fine line improv puffi dark circl around eye',\n",
       " 'matern long sleev block dress liz lang target',\n",
       " 'men tailor fit button collar dress shirt merona',\n",
       " 'lynk vela door shoe shelv stylish sleek design hold pair shoe shoe box adjust fit thick door even perman mount door wall eleg shoe shelv made beauti durabl non woven polym fabric steel polym construct heirloom white side taup shelv fit decor',\n",
       " 'razor youth sweet pea pad set pink razor youth sweet pea pad set help protect kid scrape injuri ride scooter bike skate featur foam cushion absorb shock crash fall pad set kid also hard mold plastic cap protect elbow knee flex velcro loop fasten strap help keep pad secur place without restrict freedom movement razor youth sweet pea pad set appropri children age piec decor cute flower',\n",
       " 'bow bath bar white marbl glass bulb includ requir two medium base watt incandesc bulb medium lamp glass shade cul certifi warranti one year assembl requir backplat overal lb',\n",
       " 'women maxi dress merona',\n",
       " 'urban armor gear case samsung galaxi note screen protector keep devic safe urban armor gear samsung galaxi note protect case sturdi sleev featur lightweight impact resist design note case screen protector offer access port feather light design reinforc corner skid pad enhanc protect avail choic color',\n",
       " 'girl wreck ralph time teacher watch',\n",
       " 'women stripe necklac maxi dress white hous black market brilliant silverton bead draw eye upward long lean halter dress timeless tone easi fit blouson bodic elast waist knee high side slit make summer must love',\n",
       " 'mercuri black inch black polish aluminum wall clock add sleek clean look home decor decor wall clock clock featur shini aluminum frame dial arab number inch decor wall clock also featur larg number read time across room brush metal glass case easi maintain style simpl streamlin let clock fit well almost room retro diner style kitchen modern billiard room famili room',\n",
       " 'women skecher ez flex game navi aqua step style comfort skecher ez flex game shoe soft sued mesh fabric upper sporti casual comfort mari jane sneaker stitch overlay accent memori foam insol side logo skecher heel logo sued mari jane strap hook loop side closur soft fabric shoe line memori foam cushion comfort insol shock absorb flexibl lightweight midsol flexibl traction outsol inch built heel',\n",
       " 'accessori bundl nook hd tablet slim doubl fold folio case offer secur protect tablet ad rang versatil option soft inner liner protect corner help safeguard tablet scratch damag folio case offer ideal way protect tablet wherev go includ screen protector',\n",
       " 'dkni soho round bangl watch mm gold one number less sunray dial further modernist appeal polish bangl bracelet watch embellish squar crystal encircl band gold brand dkni style name dkni soho round bangl watch mm style number',\n",
       " 'design import turkey runner stylish runner perfect way add cheer turkey design decor runner craft high qualiti cotton long last eleg enjoy kitchen year come materi cotton quantiti one dimens inch wide inch long digit imag display accur possibl howev due differ comput monitor cannot respons variat actual product screen',\n",
       " 'squirrel proof garden hang wild bird feeder sunflow seed birdfeed patio',\n",
       " 'ozark trail climatech mummi sleep bag get better night sleep ozark trail left mummi sleep bag durabl sleep bag lightweight water resist made heavi duti two way anti snag zipper full surround neck baffl climatech fiber red ozark trail sleep bag add comfort durabl bag rate withstand temperatur low degre red ozark sleep bag come complet insid pocket',\n",
       " 'black metal flourish lantern bisqu led light flameless indoor outdoor pillar candl black lantern featur eleg flourish pattern handl top beig bisqu flameless pillar candl look real wax candl safeti batteri oper amber color flame slight flicker candl two oper option timer function timer function keep candl hour automat go candl automat come time next day timer switch bottom candl use aaa batteri includ led light cool touch candl use indoor dimens high diamet materi metal resin plastic',\n",
       " 'ml aroma diffus atom air humidifi led ultrason purifi loniz ebay number seller assum respons list last updat nbsp may pdt nbsp view revis specif condit new brand new unus unopen undamag origin packag packag applic packag found retail store unless handmad packag manufactur non retail packag unprint box plastic bag see seller list full detail see condit definit open new window tab read condit countri manufactur china product dimens inch ounc sku ship weight pound em em signswis emma dw sign newslett',\n",
       " 'new zippo logo black matt classic windproof lighter zl',\n",
       " 'olay regenerist night recoveri cream ounc seal unbox pack smooth cleans face neck everi even avoid direct contact eye contact occur rins water',\n",
       " 'vintag polaroid sx land camera brown leather made usa',\n",
       " 'hamilton beach premier cookwar electr griddl cook delici meal eas use hamilton beach premier cookwar electr griddl ideal famili gather parti church function griddl number improv featur make simpl use easi maintain larg squar inch cook surfac prepar sever item time surfac coat non stick materi keep food adher also mean less time scrub finish hamilton beach electr griddl durabl construct die cast pan cook handl also brush stainless steel base remov stainless back splash use non stick electr griddl fri bacon egg grill tasti sandwich adjust heat low degre even warm tray keep food nice hot serv get hamilton beach premier cookwar electr griddl enjoy tasti treat famili friend',\n",
       " 'spiral cabl lock complet coil design cabl lock great afford way keep bicycl safe integr key cabl lock dust cap prevent dirt clog lock essenti accessori cyclist',\n",
       " 'spiderwir fish guid shirt spiderwir fish guid shirt two chest pocket vent back spiderwir fish guid shirt percent polyest chest pocket vent back quick dri',\n",
       " 'cuisinart custom classic toaster oven broiler tob cuisinart custom classic toaster oven broiler classic toaster oven broiler perfect traditionalist want simplic eas use watt power function includ toast bagel bake broil warm alway even shade control exact heat sensor technolog front remov crumb tray easi clean interior fit pizza bake rack pan includ',\n",
       " 'seagat backup plu portabl stdr tb extern hard drive mini portabl bluetooth speaker',\n",
       " 'sandisk flash memori card gb sdhc sandisk standard sd card give plenti room captur store preciou photo safe secur fast built last count sandisk standard sd card readi everi day',\n",
       " 'disney frozen toddler girl beach flip flop sandal',\n",
       " 'keurig vue singl serv coffe maker brewer kuerig',\n",
       " 'lenovo thinkpad intel core ghz gb inch laptop comput refurbish lenovo thinkpad laptop come intel core ghz processor mb ddr memori gb hard drive inch wxga display wi fi dvd rw optic drive microsoft window profession bit oper system',\n",
       " 'amber bead inch serv tray ideal formal entertain everyday use amber bead serv tray beauti durabl featur mirror polish finish handl artist adorn amber silver sculpt bead handcraft skill artisan food safe cast aluminum substanti tray weigh four pound hold inch pyrex dish color finish silver amber glass bead materi aluminum glass quantiti one set indoor dimens inch inch inch solid food safe aluminum larg mirror polish surfac amber glass bead design clean simpli hand wash hot soapi water towel dri polish necessari',\n",
       " 'rachael ray hard anod twin pack skillet whip tasti meal quickli easili rachael ray hard anod skillet twin pack skillet non slip rivet handl comfort secur grip bright orang phenol handl stay cool touch made hard anod aluminum skillet resist scratch evenli distribut heat ideal cook omelet pancak fish poultri microwav oven safe',\n",
       " 'case logic black foam case macbook pro laptop',\n",
       " 'men adida team forc adida eau de toilett spray oz launch design hous adida year nose behind fragranc quest top note aldehyd orang pineappl mandarin orang grapefruit middl note junip jasmin base note aresandalwood amber musk cedar tobacco fragranc classifi masculin',\n",
       " 'georg men half elast twill pant georg men half elast twill pant great choic work casual outing easi pair button shirt sweater easili make pair practic comfort pant classic stapl guy closet georg men half elast twill pant cotton polyest front slash pocket back pocket button closur belt loop button zipper closur elast waistband back machin wash cold',\n",
       " 'multi purpos patio umbrella stand side multi purpos patio umbrella stand side make perfect accent addit outdoor live space enjoy function durabl side patio stand uniqu patio',\n",
       " 'beauti crystal candl holder chandeli light fixtur home decor wed',\n",
       " 'gel ii floz reaction remix chang nail mood polish blue green aloha bay bay say hello new gel ii reaction remix nail polish temperatur activ gel polish chang right eye gorgeou glossi pigment last week end best world bold vibrant polish cold temperatur softer warmer tint heat appli two coat gel ii reaction top coat shine cure second watch polish transform right eye readi new look gell ii polish come minut fl oz bottl coat easi appli soak minut long last temperatur activ',\n",
       " 'boohoo hayley halterneck maxi dress yellow viscos elastan flat measur worn total length cm bust cm waist cm hip cm measur machin washabl model wear',\n",
       " 'bell maison bryce chenil bedspread bryce chenil bedspread made percent polyest fabric love print design enhanc appear bedroom design revers throw spread two option one side darker lighter combin bryce sham match color sold separ truli sophist look',\n",
       " 'animal men piec gift set fragranc launch design hous animal parfum animal men fragranc masculin scent men scent possess blend citru accent green flower sandalwood cedar vanilla musk underton recommend daytim wear set includ ounc eau de toilett spray ounc aftershav balm ounc bodi wash cannot accept return product due manufactur packag chang product packag may vari imag shown dimens materi perfum model brand animal parfum',\n",
       " 'griffin survivor hybrid case ipad mini black gb ridicul engin perfect case ipad matter your head think littl bit simpli put griffin survivor case protect case weve ever built design test meet exceed us depart defens standard griffin survivor extrem duti case design insid protect ipad extrem condit dirt sand rain shock vibrat host environment factor survivor built shatter resist polycarbon frame clad rug shock absorb silicon built screen protector seal multi touch display outsid environ hing plug seal dock connector headphon port hold switch camera volum control survivor independ test meet exceed environment test standard blown rain blown dust grit vibrat shock temperatur humid',\n",
       " 'kitchenaid artisan quart stand mixer mail rebat crystal blue kitchenaid artisan qt crystal blue stand mixer perfect make big batch famili favorit cooki mix knead bread flash fill hous welcom aroma bake perfect whip cream meringu quick easi mix speed give right speed everi cook job pc pour chute avoid mess bother qt crystal blue stand mixer best tool seriou cook sturdi reliabl tough watt motor qt bowl ergonom handl pc pour shield mixer tilt back mixer head design bowl beater easi access metal construct mean get year quiet depend servic save time toughest mix chore save money delici homemad food famili deserv',\n",
       " 'rck bella rossi infant babi girl stylish snow boot give littl one extra style cute short snow boot soft faux sued upper round toe fulli fur line interior light rubber outsol make boot flexibl comfort great day wear',\n",
       " 'women dc shoe trase tx se black introduc trase tx se low profil silhouett clean upper design sure classic featur includ canva upper breathabl lightweight feel metal eyelet print dc logo new origin low top skate shoe metal eyelet vulcan construct abras resist sticki rubber outsol featur dc trademark pill pattern tread',\n",
       " 'clemson tiger rectangl patio set cover',\n",
       " 'mind reader drawer cup coffe holder perfect home offic three drawer cup holder mindread allow keep cup organ drawer hold cup',\n",
       " 'insten av audio video compon cabl cord ps control adapt soni ps',\n",
       " 'rice cooker cup watch pot fastest simplest way cook keep rice warm readi serv heavi duti temper glass lid see cook process nonstick remov cook bowl make cleanup breez featur temper glass lid cool touch handl cook warm indic light keep warm cycl dimens lb',\n",
       " 'cuisinart brew central cup programm thermal coffeemak dcc bk robust combin flexibl user friendli durabl make cuisinart dcc bk ideal seriou coffe drinker show tradit design complet stainless steel accent cuisinart coffe espresso maker flaunt ergonom craft handl ideal make easi port kitchen home offic howev cuisinart dcc bk attract sophist cup coffe espresso maker fulli automat hour programm enabl cater connoisseur love awak freshli brew aroma everi morn programm cup coffe espresso maker also option cup accommod smaller brew built paus featur come handi pick brew process left furthermor cuisinart coffe espresso maker includ charcoal water filter gold tone filter contribut brew fresh rich delici cuisinart dcc bk would make great addit daili regim coffe lover',\n",
       " 'motiv perfect quad one quad contour highlight conceal miner rich formula contain vitamin oil moistur condit skin throughout day make ideal skin type',\n",
       " 'wintergreen light christma led light bulb pack wtgr',\n",
       " 'haggar men dress shirt white',\n",
       " 'spresso lux nespresso compat capsul brazil lungo fort count spresso lux dark roast coffe capsul best enjoy doubl espresso shot hand select arabica bean south america africa combin choic qualiti indian robusta bean result full bodi intens last rich flavor',\n",
       " 'zippo hand warmer high polish chrome enjoy great outdoor even cold outsid sleek thin design easili fit pocket virtual odorless great hunter stay warm hour includ conveni filler cup warm bag includ fuel high polish chrome',\n",
       " 'fix aluminum frame road bike black red make urban commut hip trendi fix gear bicycl oldest simplest type singl speed bike made popular bike messeng citi street cannot coast fix gear machin howev beauti model rear wheel flip creat non fix gear bike hand brake coast rear hub complet tradit ride experi bold vivid color set apart crowd lifetim warranti frame fork adult assembl requir',\n",
       " 'zippo black matt lighter new box',\n",
       " 'hollist piec mini drain pouch beig hollist centerpointlock two piec drainabl pouch clamp closur flang mini beig belt tab without integr filter comfortwear panel hollist centerpointlock drainabl mini pouch discreet pouch patent centerpointlock exclus featur assur secur attach pouch skin barrier prevent unintent separ pouch skin barrier pouch made highest qualiti materi confid secur uniqu centerpointlock featur prevent unintent pouch skin barrier separ confid comfort use superior pouch materi odor barrier rustl free film soft silent peac mind know pouch discreet made highest qualiti materi plastic belt tab permit easi attach belt pouch addit secur',\n",
       " 'jbl clip portabl bluetooth speaker assort color',\n",
       " 'teva women tevaspher trail event man made athlet shoe teva footwear special state art sandal men women boy girl toddler infant spirit shoe make teva name pronounc teh vah hebrew word natur devot toward produc technolog advanc shoe help peopl wear enjoy natur world also protect globe waterway first teva develop made grand canyon river guid mark thatcher whose goal provid friend fellow boater shoe provid support stabil eas movement quick dri capabl great river shoe requir sport sandal design success demand quickli outgrew abil produc option black width medium style athlet materi man made upper man made outsol heel height type inch sole man made gender women measur taken import measur guid women shoe size guid man made man made materi model tevaspher trail event',\n",
       " 'insten micro usb hdmi mhl adapt ac charger ft cabl samsung galaxi iii iv sv note iii mimicro usb hdmi mhl adapt pin univers usb travel charger adapt micro usb noodl cabl',\n",
       " 'specter gear buttstock shell pouch kit specter shotgun sling rear',\n",
       " 'insten purpl rubber hard shell clip case cover appl macbook air inch new',\n",
       " 'izod larg duffel bag blue larg duffel bag ideal gym bag overnight travel bag shoulder strap long enough comfort carri strap conveni well',\n",
       " 'premiertek led led light bulb frost warm white led bulbacc watt hr life',\n",
       " 'cuisinart dcc bkfr cup programm thermal coffe maker refurbish hour programm coffe maker coffe readi soon wake cuisinart coffe maker brew cup coffe even filter water',\n",
       " 'sportrack sr lr lock tilt platform hitch bike rack bike capac target sport outdoor bike bike accessori sportrack sr lr lock tilt platform hitch bike rack bike capac sportrack sr lr lock tilt platform hitch bike rack bike capac mous imag zoom sportrack sr lr lock tilt platform hitch bike rack bike capac addit view sportrack sr lr lock tilt platform hitch bike rack bike capac addit view sportrack sr lr lock tilt platform hitch bike rack bike capac addit view read review quantiti add cart free ship spend store pickup sold store note price promot style avail may vari store onlin must return within day ship date see return polici detail add registri add list share overview review ship return detail sportrack sr lr bike lock tilt platform hitch rack let transport bike less effort regular hang rack telescop cradl style wheel mount adjust bike differ length bmx bike kid women hybrid road bike mountain bike velcro wheel strap quickli secur wheel wheel loop provid stabil travel bike rack featur ratchet arm rubber hook secur bike protect finish center post fold rear vehicl access easili attach bike rack inch inch hitch includ hitch receiv lock use bike rack conveni fold vehicl bike rack measur inch inch inch weigh pound singl bike weight capac pound overal carri capac pound sportrack sr lr bike lock tilt platform hitch rack come limit lifetim warranti sportrack brand thule group start granbi quebec canada sportrack histor line asi easi product continu day sportrack offer vast array multi sport roof rack system accessori hitch mount product cargo box truck mount rack activ famili look qualiti product great valu back test thule global leader automot rack product carri limit lifetim warranti sportrack play outsid',\n",
       " 'ksm psmi artisan seri stand mixer quart watt majest yellow kitchenaid artisan stand mixer featur new tilt head gener quart capac make ultim user friendli design rug metal construct ensur long life quiet oper rubber feet anchor secur use featur speed kitchenaid uniqu planetari mix action power watt motor artisan quart stainless steel bowl ergonom handl clear plastic pour shield also accommod quart bowl',\n",
       " 'isoton first truli zone memori foam mattress topper king',\n",
       " 'cuisinart coffe plu chw cup programm coffeemak hot water system',\n",
       " 'bethani light iron crystal candl chandeli bring light room eleg crystal candl chandeli antiqu bronz finish iron base chandeli pois complet live space chandeli hold five incandesc light bulb light need adjust chain allow hang light fixtur inch height shorter let use centerpiec room base unit compos iron strength use foyer din room space home',\n",
       " 'assassin creed ii playstat assassin creed ii playstat walk shoe master assassin ezio renaiss rome tri defeat power templar order recruit command brotherhood assassin overcom enemi collabor leonardo da vinci niccolo machiavelli caterina sforza preserv order experi hour game play choos charact signatur weapon kill move uniqu multiplay mode make game new experi rate delv deeper secret societi assassin sequel blockbust action adventur game assassin creed epic stori famili vengeanc conspiraci set pristin yet brutal backdrop renaiss itali ezio befriend leonardo da vinci take florenc power famili ventur throughout canal venic learn becom master assassin game retain core gameplay experi made first opu resound success featur new experi surpris challeng player',\n",
       " 'insten black black tuff hybrid phone protector case samsung galaxi mini soft rubber coat tightli grip phone absorb shock bump exterior layer harden shell sleek smooth finish reinforc vulner corner add addit side grip better control phone',\n",
       " 'mind reader nespresso capsul drawer capac silver grey forget cheap wire mesh holder sticki drawer flimsi construct eventu sag holder built last attent detail superior materi construct mean safe place nespresso coffe machin directli top drawer without worri eventu sag heat compromis coffe pod underneath',\n",
       " 'john lennon men blue blue plaid sport shirt step style sport john lennon fashion shirt featur contrast color strateg detail shirt fun addit profession dressi wardrob craft finest materi unparallel style shirt perfect solut work attir casual night',\n",
       " 'rainbow palm pencil skirt new york base design mara hoffman known ultra flatter silhouett luxuri fabric outrag global print whose inspir pull natur fantasi world travel',\n",
       " 'dress cupcak dmc chevron parti favor bag diamond blue pack fun retro chevron stripe favor bag perfect wed bridal shower babi shower birthday candi buffet parti bag pinch flat bottom side gusset chevron parti favor bag diamond blue weight lb quantiti pack sku dmcc',\n",
       " 'advantu id badg holder convent neck pouch horizont black pk badg id holder featur nylon convent pouch display identif card well offer addit storag back featur two pocket one open one zipper store credit card item adjust cord insert width insert height orient horizont black',\n",
       " 'panason arc men shaver replac foil blade set pc we pc panason we pc panason we pc replac foil blade combo panason es es shaver we pc featur replac shaver outer foil blade set panason men shaver model es es blue',\n",
       " 'maidenform girl seamless racerback sport bra stretchi sport bra warm stretch soft pullov design maidenform brighten everi athlet activ',\n",
       " 'zingz thingz candl lantern',\n",
       " 'tg univers tablet stand expand function tablet easi use tg univers tablet stand allow user angl devic optim view includ non slip rubber feet prevent move tabletop counter surfac univers tablet holder util horizont vertic watch movi video hand free conveni view recip kitchen tg univers tablet stand hold tablet landscap portrait orient rubber non slip feet break space save storag dimens ipad tablet stand suitabl hand free view movi video design accommod wide varieti tablet devic',\n",
       " 'screen protector samsung galaxi note proteja la pantalla de su tableta contra ara azo mancha huella dactilar el polvo la suciedad ofrec la superfici resistent durabl transparent manteniendo la pantalla limpia sin ara azo agregado suavement con la superfici de uno mismo que se adhier deja residuo cuando se retiran se adapta la nota de la tableta samsung galaxi pulgada perfectament tipo protector de pantalla material uretano pel cula basada transparent modelo samsung galaxi note uso proteja la tableta interfac dispon modelo compat samsung galaxi note',\n",
       " 'rachael ray piec porcelain cook set cookwar set provid extraordinari valu time equip kitchen tool necessari whip tasti meal famili friend set basic cookwar shape size need make great tast dish lamb burger garlic yogurt sauc blueberri french toast three bean minestron soup rachael ray hard enamel cookwar provid superior perform fun color durabl materi piec cookwar set add time style kitchen make easi tackl recip durabl nonstick interior provid impecc food releas make clean breez sturdi construct promot even heat help reduc hot spot burn food gradient hue enamel exterior color durabl grippi handl offer comfort grasp dual rivet extra strength plu sturdi glass lid make possibl keep eye food without lift lid oven safe degre fahrenheit number piec addit includ item lid featur clear glass lid nonstick coat rivet handl pan pot materi aluminum handl materi silicon stainless steel lid materi glass finish enamel bake cook surfac nonstick care clean oven safe degre hand wash warranti descript lifetim limit manufactur warranti cooktop compat ga',\n",
       " 'maxpedit rollypoli fold dump pouch khaki foliag maxpedit rollypoli fold dump pouch khaki foliag rollypolyi maxpedit licens adapt elegantmm fold dump pouch design precis size hold seven rnd mag stack either vertic horizont also function dump pouch shotgun shell magazin pistol magazin altern rollypolyi multi purpos util pouch suitabl evid collect gener storag snag free elast shock cord closur pull posterior side bag velcro flap maintain pouch fold posit doubl lid conceal complet within bag fold state rollypolyi mere save preciou belt space attach moll pal web mean tacti sold separ top loop allow rollypolyto piggi back use duraflex siames slikclip includ grommet locat bottom allow quick drainag featur fold long wide thick open diamet tall total volum cu empti weight lb hold seven rnd mag',\n",
       " 'signatur levi strauss co men taper jean jean made levi strauss co slim fit sit waist taper leg open',\n",
       " 'charcoal companion pizza oven protect cover product inform charcoal companion pizza oven protect cover alway keep pizza oven protect heavi duti cover keep pizza oven prime cook condit water resist pizza oven protect cover charcoal companion dura bli craft cover featur secur stitch elast bottom ensur stay place time black water resist elast bottom import',\n",
       " 'irobot roomba vacuum clean robot box',\n",
       " 'real premium temper glass screen protector samsung galaxi note',\n",
       " 'dean exhibit aphex black satin acoust electr thin bodi guitar mahogani top bodi aphex aural excit thin bodi brand dean dimens inch long inch wide inch high materi wood plastic model exbk black type instrument acoust electr guitar weight drum head materi import ye detail mahogani top bodi aphex aural excit thin bodi storag',\n",
       " 'biscotti babi girl gold ruffl christma holiday parti dress astonish biscotti design parti dress glimmer gold shine like star sky make littl girl center celebr sleeveless line shape enhanc vertic ruffl spectacular golden mesh eleg combin bead sequin mesh cover stone highlight satin necklin dress line simpl one button closur back pictur perfect boutiqu dress holiday parti special occas',\n",
       " 'belmont revers bedspread sea spray belmont revers bedspread made percent polyest fabric design work decor stylish durabl combin belmont sham match color sold separ truli sophist look sure welcom addit bedroom also make ideal housewarm gift machin washabl comfort easi conveni care size twin king good choic anyth dorm master suit belmont revers bedspread sea spray twin full queen king revers bed cover percent polyest care machin wash tumbl dri low',\n",
       " 'need speed rival playstat need speed rival captur adrenalin intens street ultim rivalri cop racer stun open road environ built frostbit game engin need speed rival allow gamer play either cop racer side law set high stake challeng reward consequ racer goal becom infam take risk behind wheel captur intens escap video world see cop player evad speed point collect enabl unlock new car item keep rais stake race race becom ever valuabl target cop risk lose bust cop player work togeth part team pursuit racer earn promin rise rank polic forc everi bust achiev higher rank unlock new polic car power pursuit tech heart need speed rival alldriv innov new onlin featur allow gamer seamlessli transit play alon play friend elimin line singl player multiplay player keep one eye rearview mirror friend abl enter exit race fli creat world two event ever need speed rival push limit race game new improv featur next gen race redview counti brought life stun next gener detail weather effect forc driver master element well competit need speed network power autolog gamer compar stat challeng friend anytim anywher easili share accomplish friend rival person driver custom ride fresh paintjob custom licens plate liveri decal rim perform upgrad pursuit',\n",
       " 'fifa xbox one fifa bring soccer life stun detail fan experi emot sport like never wit intens crowd listen comment guid fan stori game dynam match present new emot intellig allow player react oppon teammat within context rel narr match next gener visual put fan live pitch grass wear match progress authent player visual give player true life appear player control heighten respons player movement make man man battl reward ever',\n",
       " 'girl hello kitti bike white pink hello kitti fan love cute inch girl bike pink white easi remov train wheel give confid need ride bike durabl sturdi steel frame built last bike one gear pink plastic pedal coaster style rear brake come front handlebar bag carri accessori',\n",
       " 'basket storag tower three braid remov straw grass bin cozi home design coupl cosmopolitan feel arriv form espresso stain multi tier seabrook storag tower perfect place store odd end display pot plant organ inspir furnish featur dutch style hand braid sea grass afford charm rustic feel time provid contemporari look easili compliment varieti decor coastal transit durabl construct solid wood overlay delight display natur man made materi finish chamfer edg deliv bit appeal contrast interweav pattern fibrou braid util mind back piec featur flat posterior allow tower nuzzl perfectli wall',\n",
       " 'soni playstat vita pch psvita',\n",
       " 'women dip dye drop back chiffon yellow dress onlin exclus',\n",
       " 'ihangi slip protect case iphon lanyard stylu pen assort color',\n",
       " 'home theater multimedia led lcd projector hd hdmi pc av dvd playstat',\n",
       " 'mossi oak iphon case mossi oak hard case iphon',\n",
       " 'rorytori outdoor sport lightweight sunglass uv polar replac lens bundl pack sport sunglass look sharp feel smart sinc save ton money amaz set come lightweight durabl frame interchang lens frame come two scheme black red accent brilliant blue blue accent frame come color clear yellow uv rate polar black brown iridium mirror black tint len clean rag soft carri case cinch eyeglass contain come set item fit comfort hard travel storag case line soft foam partit keep everyth organ safe note due differ monitor display actual may vari slightli imag rorytori regist trademark remi collect llc exclus distribut bundl monster rorytori trademark protect us trademark law get buyer remors incred bundl sport sunglass set come frame blue blue black red interchang lens len color clear yellow uv protect polar black brown iridium frame inch wide inch nose bridg tip arm lens frame come structur hard case prevent unnecessari wear tear',\n",
       " 'adida climawarm edg track pant boy',\n",
       " 'fossil men aero flite watch stainless steel black dial black leather strap women watch style function combin give handsom watch whether dress fossil men aero flite watch perfect timekeep solut sleek leather strap contrast dial offer timeless look secur strap water resist construct ensur watch life year come watch sure becom go accessori choic black case mm case thick mm water resist atm strap buckl closur manufactur year limit warranti import',\n",
       " 'polar rs heart rate monitor track heart rate workout heart rate monitor give continu heart rate readout run come polar code transmitt elast strap product featur expand onlin assort continu heart rate readout run workout lap split averag heart rate per lap owncal count calori ad conveni memori file review workout inform water resist design repel sweat moisturebox dimens dimens orgin unit stateswarranti provid manufacturerwarranti durat limitedwarranti durat limit improv train watch style heart rate monitor stopwatch function monitor intens level ensur achiev desir goal workout calcul amount total exercis time spent person target zone come polar code transmitt prevent interfer nearbi monitor back year warranti',\n",
       " 'sodastream fountain jet home soda maker starter kit black silver',\n",
       " 'cuisinart mix intm quart soft serv ice cream maker cuisinart mix intm quart soft serv ice cream maker cuisinart mix intm quart soft serv ice cream maker treat delici ice cream home',\n",
       " 'nba ps nomin game year award nba franchis return nba true life nba experi yet featur nba mvp kevin durant cover eclect soundtrack curat intern renown artist produc pharrel william nba hit court unpreced life like graphic ultra realist nba gameplay claim destini gameplay award win gameplay load new anim new shot time system improv player ai nba intens basketbal experi ever hero take control team featur epic player hand select repres past present nba great hero team support real world chariti make donat gamer earn win team special promo period team win receiv bonu donat crew take myplay onlin hit court fulli featur crew mode nba rule playstat exclus content virtual currenc bonu exclus myteam card pack playstationplu member esrb rate everyon',\n",
       " 'polar gp sport watch heart rate monitor black',\n",
       " 'modern sleep conforma memori foam pillow multipl size modern sleep conforma memori foam pillow cradl head neck optim posit sleep allevi pressur made aerat memori foam allow maximum airflow cooler sleep environ conforma pillow avail queen includ remov cotton cover machin washabl easi care contour support head comfort pillow also excel stomach back side sleeper',\n",
       " 'asic men fuji long sleev zip run top decid brave less ideal weather next trail run make sure equip asic fuji ls zip trail run shirt equip great climat control featur eco friendli cocona fabric rest fuji collect uniqu sport way stretch function abil repel wind water keep runner high high risk hypothermia low',\n",
       " 'georg rech men white blue check button dress shirt sleek style white blue check dress shirt shirt exclus georg rech craft finest materi top perfect solut work attir casual night color white blue pattern check sleev long sleev necklin button collar shirt closur button cuff button measur guid click view men size guid materi percent cotton machin washabl model gr',\n",
       " 'girl polka dot line dress sassi stylish girl polka dot line dress design stand among sea parti dress classic black glitzi gold polka dot fun dress classic line silhouett hit right knee pair boot mari jane look oh hip best unlik mani dress machin washabl',\n",
       " 'holgat toy farm truck',\n",
       " 'proctor silex electr griddl sq ft cook surfac product inform proctor silex electr griddl sq ft cook surfac proctor silex electr griddl sq ft cook area',\n",
       " 'bayou classic inch cast iron skillet bayou classic cast iron cookwar made heavi duti rough rug ideal fri fish chicken hushpuppi fri grill broil favorit dinner food pan goe easili stove top oven',\n",
       " 'black silver soccer ball crystal rhineston sticker bling car bumper decal new black silver soccer ball crystal rhineston auto decal bumper sticker crystal case appli glass plastic surfac specif made outsid car made withstand car wash element sticker remov great car window laptop tablet reader made high qualiti rhineston deep bold color sparkl bling sticker remov reusabl measur approxim recommend paint vehicl surfac',\n",
       " 'men dc shoe bridg black white bridg low profil skate shoe featur metal lace eyelet featur vulcan rubber construct board feel sole flex outsol use abras resist sticki rubber',\n",
       " 'columbu blue jacket jersey stripe design appl iphon thinshield card case coveroo fan blue jacket get offici nhl design coveroo design offici licens artwork approv nhl design print use highcolor process sticker skin case hand custom coveroo team san francisco california',\n",
       " 'men blue twill barrel cuff dress shirt',\n",
       " 'scent express va va vanilla crystal clear gel women secret ml oz deodor stick secret anti perspir deodor leav feel fresh dri day express delight fusion scent scent express',\n",
       " 'yanke candl co oz good air freshen candl oz good air candl tumbler candl jar contain super charg patent odor elimin core elimin power neutral odor molecul contact leav noth behind fresh clean air approxim burn time hour oz jar packagetyp',\n",
       " 'aveeno activ natur nourish shine shampoo fl oz ml aveeno activ natur nourish shine shampoo fl oz ml aveeno activ natur nourish shampoo much clean hair also nourish lock leav behind healthi shini look hair shine shampoo effect remov dirt oil prevent build illumin dull hair give vibrant look product provid three key element give hair life strength soft shine exclus activ natur formula infus nourish wheat complex palm extract design feed hair replenish moistur enhanc reflect strengthen shampoo target weakest part hair fortifi shaft protein need result hair resist futur damag shampoo tough enough work damag dri hair',\n",
       " 'anchor hock bamboo wine rack anchor hock bamboo wine rack beauti modern design featur espresso color accent make excel choic wine enthusiast starter begin wine collect casual entertain uniqu espresso rack curv bamboo shelv showcas finest bottl wine togeth one locat store flat surfac creat ideal accent complement decor kitchen outdoor bar den anywher design entertain anchor hock bamboo wine rack featur espresso color accent modern design ideal choic wine enthusiast causal entertain rack hold bottl wine espresso wine rack store flat surfac beauti way display wine collect hand wash',\n",
       " 'kitchen select singl serv coffe maker oz mug kitchen select singl serv coffe maker oz mug coffe maker easili prepar individu cup java coffe maker sure appreci versatil kitchen select singl serv coffe maker mug detach perman filter basket remov drip tray ensur hassl free cleanup handi indic light let know brew readi even better coffe maker come oz mug ad conveni featur teal includ oz mug illumin power light conveni hing lid perman filter basket remov drip tray import',\n",
       " 'lego star war set wing starfight seal',\n",
       " 'coca cola fridg cc coca cola mini fridg portabl effici look like icon coke adjust shelf self lock recess door handl store aluminum can two liter bottl includ owner manual portabl effici miniatur refriger fun coke design conveni storag aluminum can two lit bottl self lock recess door handl contain shelf offer temperatur level capac volum cu ft freezer capac cu ft refriger capac cu ft number shelv featur adjust shelv includ owner manual applianc placement countertop',\n",
       " 'arbroath basketweav outdoor lamp crafti weav live textur timeless basket pattern weather rattan warm light gold shade combin style durabl element',\n",
       " 'marvel spiderman boy show sock pack machin wash tumbl dri',\n",
       " 'lyrix jive water resist bluetooth speaker lyrix jive speaker offer listen freedom music want want even shower water resist silicon rubber case protect devic water splash angl capabl connect bluetooth enabl devic smartphon tablet laptop find wirelessli stream favorit song provid advanc bluetooth technolog distanc feet speaker also featur built mah recharg batteri provid four hour music entertain come built mic make receiv call complet hand free eas use design integr suction cup foot grab flat surfac like door window tabl pool line enjoy satisfyingli immers music go eye catch ear pleas lyrix jive speaker',\n",
       " 'classic contour memori foam bed pillow fiber content polyest fill materi memori foam thread count care clean spot clean bleach tumbl dri dri clean warranti descript year warranti info import',\n",
       " 'appl iphon gb gsm unlock cell phone iphon thing made iphon amaz phone complet new design power chip provid fast perform graphic yet iphon incred energi effici still get great batteri life',\n",
       " 'laneig bb cushion medium oz revolutionari bb conveni compact go beyond regular bb cream broad spectrum spf block harm uva uvb ray skin perfect optim miner water cool hydrat upon applic prevent shine brighten skin visibl reduc dark spot patent air cushion distribut right amount bb cream appli whenev wherev want buildup bother day flawless skin step away bb cushion',\n",
       " 'nike women minx rectangl new green sunglass',\n",
       " 'lilliput inch camera hd lcd field monitor hdmi compon video shoe mount du batteri hdmi ypbpr input connect full hd video camera high brightnesscontrast dizzi proof monitor sun shade see clearli sunshin shoot view apertur rgb monochromat display dc wide rang voltag user defin function button high capac recharg ion batteri make power cabl free featur screen diagon aspect ratio resolut pixel nativ maximum pixel pitch mm scan frequenc hz respons time ms view angl degre ordm ordm bright cd sup contrast ratio lcd backlight led screen rotat flip flip video input hdmi compon composit video output hdmi touch screen input none input power sourc dc oper temperatur ordmc ordmc mount type bsw thread shoe mount sku lput',\n",
       " 'women letti flip flop sandal',\n",
       " 'netgear rangemax wnr wireless router base tx wan base tx lan ieee draft mbp netgear rangemax wnr wireless router base tx wan base tx lan ieee draft mbp',\n",
       " 'signatur levi strauss co men bootcut jean signatur levi strauss co men bootcut jean great essenti everi man wardrob featur pocket style classic bootcut leg pair tee button sweater boot wear year round pick assort color',\n",
       " 'elya stainless steel clover heart charm station necklac finish polish materi stainless steel decor accent heart closur style lobster claw clasp chain style care clean wipe clean chain dimens mm accent pendant dimens mm mm weight manufactur suggest age year choke hazard warn applic',\n",
       " 'funko pop disney wreck ralph valu bundl wreck ralph disney pop vinyl figur take titl charact disney pixar hit wreck ralph movi give pop vinyl figur treatment measur inch tall wreck ralph perfect display home offic funko pop disney wreck ralph vinyl',\n",
       " 'wave digit shackl lock bike lock good buy easi fast put live busi popul area leav bike full view public place bike lock good deal',\n",
       " 'asic edg medium duffl bag zr plenti space effici storag durabl option asic edg medium duffl bag easi versatil choic travel sport anyth wet shoe pocket mesh panel luggag pull strap side zipper pocket front outsid zipper pocket pad shoulder strap carri',\n",
       " 'samsung un inch smart full hd hz led tv hdtv wifi',\n",
       " 'plantron headset amplifi small offic home offic stylishli design easi use choic headset wear style headset worn head stabil ear conveni headset also featur firefli use indic light let other know phone improv product file use mail take note phone keep hand free multitask nois cancel microphon deliv crystal clear voic qualiti elimin annoy background nois enjoy whole convers unintend interrupt thank uniqu boom mount flash red light let other know phone',\n",
       " 'wooden balanc bike say goodby train wheel balanc bike great way teach children fundament ride bicycl intuit child feet act train wheel coast along learn balanc steer confid graduat two wheeler breez brand classic toy model materi wood plastic natur dimens inch long inch wide inch high weight pound set includ one handl two panel one front panel one bag basket one bosun chair two wheel one flagstaff',\n",
       " 'honey stinger kid organ stinger waffl multipack box honey stinger organ waffl make great tast snack year similar waffl sold street corner throughout europ eaten profession cyclist decid creat sandwich honey two thin waffl wafer honey stinger organ waffl product kind certifi organ avail singl serv wrapper',\n",
       " 'panason travel shaver panason travel shaver ultra thin thick make pack travel easi simpl slip right pocket alway need come clean brush clean shaver conveni panason shaver also come storag pouch make travel easi simpl',\n",
       " 'golf club lapel pin men golf club lapel pin men whether tri add bit class whimsic touch outfit great lapel pin show person style golf club lapel pin perfect golf lover life lapel pin construct plate base metal enamel finish clutch back closur perfect gift give lapel pin come packag qualiti present board materi rhodium plate base metal enamel dimens weight lb',\n",
       " 'vigo vg stk stainless steel pull spray kitchen faucet deck plate includ mount hardwar hot cold water line spiral pull spray head power spray separ spout aerat flow spray face resist miner buildup easi clean finish resist corros tarnish ing exceed industri durabl standard high qualiti ceram disc cartridg ensur mainten free use degre swivel spout retract spout expand singl hole instal singl lever water temperatur control water pressur test industri standard',\n",
       " 'marmol son batman men ounc eau de toilett spray inspir hero life bold fragranc spray cologn brave covert scent help defeat unapp bodi odor enhanc natur masculin batman oz eau de toilett spray men cannot accept return product',\n",
       " 'eight clock dark italian roast cup coffe count eight clock dark italian roast coffe cup count offer quick conveni coffe make use keurig cup brew system eight clock coffe cup contain percent arabica coffe blend european dark coffe featur full bodi flavor balanc chocol overton eight clock cup made finest select bean roast ground measur exact specif keurig cup brew system design offer highli optim brew environ easi use eight clock coffe cup',\n",
       " 'dicki men short sleev twill work shirt dicki men short sleev twill work shirt wonder choic man basic wardrob shirt worn work play short sleev work shirt conveni wrinkl resist featur two chest pocket store pen item',\n",
       " 'soni playstat move navig control move navig control wireless get readi unlock immers gameplay experi playstat move navig control pair control wirelessli motion control start enjoy advanc game charact navig sleek control add analog stick dualshock direct action button ps button playstat move control scheme readi take game next level playstat move everi move translat game absolut precis whether spike volleybal defend gladiat duel draw bow fire arrow feel like actual game playstat move navig control pair motion control deliv advanc charact movement analog stick direct button well circl action button add depth control playstat move control scheme navig control connect motion control wirelessli allow jump right action without wire tangl playstat move easi use control make access fun everyon allow immers action get move',\n",
       " 'quick chang clamp key capo acoust electr classic guitar black',\n",
       " 'fekkai brilliant gloss hair care kit pc infus oliv oil scent fresh floral garden fragranc design bath hair reflect radianc salon perfect life test make sure hair luster outshin everyth around brilliant gloss shampoo shine smooth brilliant gloss condition gentl detangl vivid gloss brilliant gloss style creme sleek shine noth brilliant sight sunlight strike hair',\n",
       " 'vaniti fair widescreen focu featur spotlight seri william makepeac thackeray witti assess british class system seen experi one young woman brought screen seriou star power period comedi drama becki sharp rees witherspoon bright ambiti girl born poor british famili becki determin make someth howev accept job nanni children power aristocrat sir pitt crawley bob hoskin wast time ingrati famili pretti becki catch eye crawley handsom elig son rawdon jame purefoy becom chummi sharp tongu aunt matilda eileen atkin two becki introduc london exclus social circl becom acquaint amelia sedley romola garai former school chum amus becki effort scale ladder social influenc becki wed rawdon follow initi happi social econom stabil dream begin collaps begin drown troubl gambl drink soon turn power marquess steyn gabriel byrn support meanwhil amelia fortun fall even harder follow death husband vaniti fair direct mira nair enjoy surpris intern success monsoon wed mark deme rovi',\n",
       " 'rachael ray hard anod ii nonstick orang piec set rachael ray hard anod ii cookwar collect perfect combin durabl style piec cookwar set bakewar fit bill essenti piec make memor meal everi day',\n",
       " 'viatek mj mighti jump vehicl emerg jump starter car batteri die longer need anoth car get jump start simpli plug recharg glove box car jump starter dashboard outlet cigarett lighter transfer power car batteri vehicl intern wire take minut charg dead car batteri small enough store glove box recharg devic simpli flip switch leav plug minut car run',\n",
       " 'insten black gamepad control rubber gel case av composit cabl nintendo wii',\n",
       " 'georg men short sleev oxford shirt add basic georg men short sleev oxford shirt closet collect short sleev oxford shirt design featur button collar one chest pocket back yoke box pleat locker loop made cotton blend make comfort wear easi move pair shirt jean khaki pant nice shoe sneaker complet look georg men short sleev oxford shirt avail two option includ ox blue white avail wide select size walmart school uniform destin easi see walmart nation lead supplier school uniform larg select style size along qualiti featur unbeat price make simpl meet schoolwear need walmart com carri school uniform year round',\n",
       " 'gut iphon wave case iphon case offer precis engin except perform lightweight case uniqu wave design durabl protect coat hard case design provid extra protect rig grip surfac',\n",
       " 'women tall red print style rain boot chic classi durabl rubber boot perfect wear raini day keep feet tidi garden muck soil sturdi easili washabl boot withstand bad weather help perform backyard chore boot line soft knit fabric keep toe warn raini day waterproof soft cotton polyest line option red print height mid calf style pull materi rubber toe shape round heel height type inch platform height inch shaft height inch circumfer inch width medium line fulli line sole materi rubber footb pad china measur guid women shoe size guid upper outsol materi rubber model rb measur approxim taken use pleas note measur may vari slightli',\n",
       " 'warner brother batman classic anim hero bean chair warner brother classic anim hero bean chair make wonder spot play watch favorit show made polystyren fill polyest fabric easi clean batman kid chair child safe complet safeti zipper protect littl one coordin five drawer chest nightstand avail creat whole room set cute cozi furnitur piec sold separ kid bean bag chair proudli handcraft usa',\n",
       " 'rasta imposta clown girl toddler costum clown girl toddler costum product inform rasta imposta clown girl toddler costum clown girl toddler costum polyest toddler includ dress bloomer headband hat includ stock shoe chart chart toddler children size measur provid rang person wear costum measur costum type weight height waist inseam torso babi bun ting fit month lb babi costum month babi costum month toddler small medium one fit pleas note torso length measur nape neck waist costum avail size pleas refer individu product page actual avail size tall full figur doubt two size usual best order larger comfort fit polyest toddler includ dress bloomer headband hat rasta imposta clown girl toddler costum clown girl toddler costum toddler red unisex',\n",
       " 'gal canva duffl bag learn curv john deer big scoop dump truck rug tough perfect outdoor play real steel dump box realli work easi use handl move forward backward big load dump right place take sandbox load rock sand dirt handl age overs ultra durabl dump truck perfect outdoor sandbox play tough real steel dump box complet function featur easi use handl',\n",
       " 'lenovo touch game laptop hq ghz fhd gb tb warranti',\n",
       " 'rachael ray orang porcelain enamel cookwar qt cover oval saut pan whether saut ing food prepar risotto quintessenti piec chef kitchen deep straight side entertain saut pan lend room parti dish use saut ing meat veget',\n",
       " 'diamond golf club pendant necklac sterl silver ct',\n",
       " 'somerset home solid bed quilt lightweight quilt blanket great keep cool warm summer night suitabl cool winter night give comfort ad attract textur depth bedroom versatil solid classic stitch go decor quilt certainli add whole new decor element bedroom',\n",
       " 'reviv restor ra fold solar charger dual usb port storag pocket carri strap work samsung appl lg smartphon tablet usb devic reviv restor ra fold solar charger smart compact design solar restor ra design camper hiker outdoor enthusiast mind ultra slim design ra smaller standard paper inch ra fold ft length reveal mono crystallin high capac solar panel accessori pocket easi charg equip usb port ra provid charg output charg virtual usb power devic use sun power conveni featur attach adjust remov strap nylon loop multipl carri option intern pocket protect devic overh charg also doubl pocket extra accessori ra made durabl lightweight materi come drawstr cover protect charger rain dust dirt work smartphon samsung galaxi note edg alpha avant star sport appl iphon plu htc one one one mini motorola droid turbo moto lg stylu flex pro soni xperia oneplu one googl nexu blackberri passport tablet acer iconia appl ipad mini air asu memo pad transform pad dell venu pro googl nexu lg pad samsung galaxi tab tab tab soni xperia hp stream disclaim allow sec direct sunlight connect usb devic make best effort prevent usb devic overh treat solar panel care',\n",
       " 'speck candyshel ink case iphon impact shock protect',\n",
       " 'samsung un inch full hd hz led hdtv built wi fi',\n",
       " 'gucci guilti intens gucci women perfum ml edp oz new box',\n",
       " 'jach men flannel checker button shirt black cream skylin luggag set cover essenti next busi trip vacat pc set includ expand carri upright travel tote toiletri kit featur stylish purpl floral print',\n",
       " 'phila oliv storag ottoman multi function storag ottoman offer classic design comfort spot put feet flip seat cushion open reveal spaciou storag compart help keep live room organ frame materi wood upholsteri materi premium fabric upholsteri oliv upholsteri fill high comfort foam leg dark espresso flip seat cushion open reveal spaciou storag compart thick layer cushion design provid extra comfort feel durabl premium fabric great look minimum care frame made durabl tropic wood match furnitur avail ottoman dimens inch high inch wide inch deep import',\n",
       " 'signatur levi strauss co men relax fit jean easi fit straight leg sit waist slightli taper leg open relax seat thigh machin wash cold',\n",
       " 'distress finish french script paron wall clock appeal trendi tast distress age blue finish rust underton antiqu clock face featur collect paron materi mdf finish distress age blue finish rust underton antiqu clock face overal dimens uttermost clock combin premium qualiti materi uniqu high style design advanc product engin packag reinforc uttermost maintain lowest damag rate industri product design manufactur red packag ship mind',\n",
       " 'lg electron lb inch led lit full hd hz hdtv televis',\n",
       " 'weddingstar cute coupl figurin year weddingstar inc learn great deal make dream come true tradit contemporari today bride constantli search accessori reflect person style extens select bridal product featur mani exclus design inspir manufactur talent staff hand finish skill experienc craft peopl result qualiti uniqu wed accessori innov fashion product combin perenni favorit abil respond chang need made weddingstar leader wed industri cute coupl figurin use individu cake top combin decor perfect smaller wed cake top tier inch tall',\n",
       " 'temper glass screen protector compat samsung galaxi high transpar temper glass mm thick made chemic treat transpar temper glass provid break protect shock resist surfac hard surfac temper glass hard three time stronger regular pet film even sharp object knive key scratch product oleophob coat temper glass oleophob coat prevent fingerprint contamin make film easi clean delic touch temper glass coat back silicon adhes make instal east film attach firmli affect touch screen sensit anti shatter film broken temper glass break small piec sharp make safer glass product packag contain temper glass screen protector micro fiber fabric squeege card alcohol swab epoxi coat button',\n",
       " 'salli hansen salon pro gel nail color get salon nail less salli hansen gel nail salon gel polish give profession qualiti nail last week protect polish come varieti stylish hue plu get chip resist brilliant mirror shine healthi beauti nail profession salon result made fast easi',\n",
       " 'greenlin bicycl women speed aluminum beach cruiser',\n",
       " 'cttw diamond white gold dress pendant necklac perfect littl black diamond dress pendant fashion forward white gold black white diamond dress pendant featur cttw diamond set white gold adorn match white gold rope necklac chain necklac chic stylish imag black sleeveless sheath dress belt glimmer white diamond belt allur necklac would actual ideal adorn favorit littl black dress wear along play button shirt belov jean diamond dress pendant would fit mani occas event wed date danc parti would also wear equal well almost anywher play charm littl black dress necklac would make great gift sister bff birthday would equal enjoy gift anyon life ador fashion haut coutur trendi white gold black white diamond dress pendant modern classic vogu fit bill perfect littl black dress featur carat total weight diamond set white gold come dainti rope chain necklac minut fashion readi wear anywher stylish ensembl thought gift bff sister mother daughter aunt niec wife girlfriend necklac vogu complement fashion love ladi',\n",
       " 'sensorped classic comfort memori foam pillow enjoy rest sleep night night lay head comfort memori foam pillow classic design con form head neck shoulder superior support circular knit cover rayon face polyest back hypoallergen polyurethan foam fill ideal side sleeper',\n",
       " 'totalgreen daffodil flower bulb pk yellow daffodil pk yellow daffodil yellow cm pack bulb per bag may requir state depart agricultur appli nurseri stock dealer licens verifi contact state depart agricultur local counti extens offic best corp tri stay stock sku throughout season howev due weather perish natur sku may run stock earlier plan pleas order anticip annual need octob market type daffodil yellow pkg qti',\n",
       " 'lego minecraft creativ adventur farm make littl minecraft lego maniac happiest kid earth lego minecraft farm addit lego minecraft famili essenti help creat renew resourc surviv livestock water crop must kid get enough minecraft',\n",
       " 'coleman adjust comfort sleep bag get good night sleep cold warm camp weather insid coleman adjust comfort sleep bag comfi sleep bag polyest outsid insid uniqu adjust design give perfect level warmth comfort need pad pillow head area provid head soft place ground hide insid bag insul fill keep warm outdoor temperatur low high versatil coleman sleep bag design way snag zipper layer choos cover built lightweight sheet tradit plush blanket addit zipper goe horizont across sleep bag cover top bottom choic adjust comfort level night readi pack camp attract bag design roll easili goe includ stuff sack warm weather sleep bag cold weather sleep bag recommend camp enthusiast foot inch tall adjust coleman sleep bag versatil comfort machin washabl reli brand trust',\n",
       " 'dean dimebag lightn bolt electr guitar bbolt',\n",
       " 'blendtec design blender sea foam blue blendtec design seri blender built highest standard make cleanest safest power blender buy design manufactur assembl usa domest content purchas pride',\n",
       " 'bloomsz peoni border charm flower bulb root pk',\n",
       " 'terrain sport doubl stroller matter go bright red stroller handl trip tike tech doubl terrain sport stroller easi push glide almost effortlessli type terrain compat infant car seat come standard dual rear suspens front wheel adjust track one touch reclin har system featur independ seat canopi suitabl newborn toddler',\n",
       " 'tmnt bebop action figur master thief tmnt bebop action figur hire former russian arm dealer steranko break shredder lair steal legendari helmet bright purpl mohawk unlimit gadget abil turn invis ray glass thiev opportun appear endless arm leg black purpl realist look howev master shredder catch wind never shredder send tube tub mutagen dna warthog toy action figur mutat bebop half human half warthog mutant would make ideal christma birthday gift special fan start collect help friend get start tmnt bebop action figur tmnt bebop action figur tmnt action figur base tv show villain figur half human half warthog',\n",
       " 'spa sensat memori foam side sleeper adjust pillow wake feel relax refresh renew morn spa sensat memori foam side sleeper pillow featur uniqu cut shape make easier sleep back side adjust pillow also align back open air passageway reduc nois easier breath sleep come three remov memori foam insert thick fiber fill zipper cover allow remov easi clean shape pillow fit insid regular standard pillowcas conveni adjust differ height suit person need',\n",
       " 'cavalri usb extern portabl hard drive gb black model caug',\n",
       " 'emat',\n",
       " 'takara men sugiyama road bike black blue fixi bike stylish practic fixi bike avail flip hop hub enabl rider choos whether bike set fix gear singl speed abil coast freeli bike ship singl speed bike one gear mean less part less weight bike perfect citi dueler anybodi look bike simpl oper easi maintain',\n",
       " 'eureka quick cordless vacuum eureka quick cordless vacuum great quick cleanup small area eureka vacuum weigh pound work bare floor well carpet cordless vacuum featur brush switch adjust height bagless vacuum microfiltr system clean path batteri run time approxim minut',\n",
       " 'presto electr griddl remov handl brand new',\n",
       " 'american made rayn silver citi wall mirror creat dramat visual appeal space textur silver frame wall mirror attract mirror offer beauti black silver design sure add interest charact space',\n",
       " 'yoga pant mossimo suppli co get zen mossimo suppli co junior yoga pant comfi pant welcom friend come casual exercis yoga class flexibl construct flatter cut featur stretchi jersey knit fabric full waistband elast subtl boot cut design machin wash cold tumbl dri rise mid rise size junior knit type jersey materi cotton spandex closur style full waistband elast pocket style pocket bootcut care clean machin wash cold non chlorin bleach need tumbl dri normal low heat iron low info',\n",
       " 'panason shaver replac outer foil inner blade combin es panason replac combo panason we pc replac shaver outer foil blade set we pc featur replac shaver outer foil blade set combo pack includ panason we we panason men shaver model es es es es es es es es es es es es es es es es',\n",
       " 'women distress boyfriend jean weather denim add casual charact cuf boyfriend jean final get jean want without steal closet women distress boyfriend jean metaphor cut extra room seat thigh fade straight leg jean taper roll cuff hem offer ultra casual look pair sandal flat favorit fashion boot cuf boyfriend jean design slightli slouchi boyfriend silhouett sit lower hip easi fit perfectli place whisker threadbar tear mark front back enhanc worn live look love jean craft ultim comfort look even better cinch belt amp shini stud creat uniqu look pair favorit shirt top jean walk door look pull togeth chic',\n",
       " 'blueski oz soak uv gel nail polish black dark lava',\n",
       " 'pyrex cup rectangl glass storag set dark blue plastic cover set pyrex glass storag set ideal kitchen organ come six cup rectangl glass contain blue plastic cover ideal leftov take food go non porou glass becom discolor absorb smell lid bpa free microwav refriger freezer dishwash safe glass contain also use oven pyrex cup rectangl glass food storag dark blue plastic cover pyrex glasswar dark blue plastic cover includ one cup rectangl vessel blue plastic cover ideal refriger freezer storag take food go non porou glass absorb stain odor bpa free plastic lid made glass oven microwav refriger freezer safe dishwash safe year limit warranti pyrex glasswar vessel year limit warranti plastic lid model',\n",
       " 'coleman solar batteri charger use power sun keep batteri charg coleman solar batter charger rigid watt coleman solar charger batteri kit provid amp charg power volt batteri coleman charger ideal use rv atv boat deer feeder emerg solar power kit coleman solar batteri charger featur mainten free easi instal come pre cut hole batteri clamp stainless steel screw cla adapt volt plug feet wire simpli plug batteri charger use includ plug wire coleman solar charger work weather condit use wide temperatur rang ultra bright blue led light provid charg indic built block diod protect batteri discharg night made ab plastic amorph solar cell coleman solar batteri charger durabl multipurpos solar charger coleman solar batteri charg power type cell amorph solar frame ab plastic voltag temperatur degre dimens',\n",
       " 'new pro control bluetooth wireless gamepa nintendo wii usb cabl',\n",
       " 'op men print flip flop sandal',\n",
       " 'degre women four pocket trouser pant creat clean polish look sleek slack degre featur four pocket construct casual pant easili styliz sophist look offic famili gather',\n",
       " 'vilano men tuono road bike vlno featur road bike frame doubl but aluminum aero shifter shimano si handlebar mount wheelset doubl wall cnc machin side frame frame white frame materi aluminum steel gener dimens product weight lb',\n",
       " 'op women beach eva stack flip flop stack op women eva flip flop stylish comfort wear featur attract satin sequin upper durabl lightweight bottom women flip flop look fabul beach pair favorit pair short jean op women beach eva stack flip flop upper satin sequin bottom eva fabric coat hand wash cold water beach flip flop stylish comfort',\n",
       " 'impakt sidehack bmx bicycl impakt sidehack bmx bike made today park bike spec high perform steel come equip brake cabl rotor degre rotat handlebar trick bar spin away look coolest way bring along buddi rip place place bmx good way make monkey anyon brave enough ride co pilot local skate park impakt sidehack bmx bike afford yet built take lick fun factor stuff legend spoke alloy wheel freestyl geometri alloy platform bmx pedal micro drive front rear sprocket round impakt sidehack make one best bmx buy today',\n",
       " 'mu kitchen flour sack towel set rooster piec kitchen towel flour sack towel offer ultim util set flour sack towel great cover dough lint free towel also perfect dri dish polish glasswar made percent absorb fine weav cotton get softer wash option rooster dimens inch inch materi cotton care instruct machin washabl warm water tumbl dri low made extra soft percent absorb cotton flour sack lint free great dri polish cover dough',\n",
       " 'zagg invisibleshield hd screen protector samsung galaxi cell phone zagg invisibleshield hd screen protector samsung galaxi protect smartphon display without sacrif imag qualiti invisibleshield hd made compon shield phone harsh impact drop still enjoy high level imag clariti',\n",
       " 'gear head mous gear head rat de computadora descripci optic wireless radio frequenc red black dpi scroll wheel',\n",
       " 'brica pop open cling shade pk shield kid bright hot sun car ride brica pop open cling shade pk total conveni pop open window shade spring open instantli need twist fold away cinch static cling fabric materi make extrem easi attach remov attach car shade easi see sun block mesh backseat rider protect sun view window wipe clean',\n",
       " 'kitchenaid speed digit hand mixer red',\n",
       " 'ecco women nephi mm regular sued boot',\n",
       " 'guess women ounc feminin scent eau de parfum spray launch design hous guess guess feminin scent possess blend citru grapefruit black currant orang blossom jasmin oak moss sandalwood vanilla recommend casual wear',\n",
       " 'infocu projector lamp infocu lamp rule want best experi possibl infocu projector use lamp authent bad stuff want want take extra care make sure everi infocu certifi lamp give best perform valu possibl cool thing',\n",
       " 'sunbeam sg black cubic foot microwav oven sunbeam watt microwav featur six auto cook set versatil cook prepar adjust power level meal prepar eas express cook weight defrost offer faster prepar led display digit timer clock provid easi view child safe lock featur keep peac mind',\n",
       " 'celesti dream women flutter sleev squar neck nightgown add celesti dream nightgown sleepwear wardrob timelessli classic flutter sleev design sure keep comfort women nightgown ideal sleep loung featur eleg shape exquisit detail includ bead lace ribbon stitch squar neck six button placket gather yoke compliment long length loos fit made comfort blend cotton polyest jersey fabric',\n",
       " 'teamson kyd hand carri doll hous magic garden room collect unlock magic teamson magic garden doll hous excel addit ever popular magic garden collect doll hous ensur littl one happi time fli butterfli doll figurin includ around quarter three level imagin fun decor floor uniqu way pink bed bathtub foot rest love seat tv stand chair sink cabinet doll hous door open easi play time capabl give littl one chanc explor level excit doll hous perfect age safe sturdi eco friendli wood lead free paint cpsia compliant care packag uniqu hand paint hand carv design skill craftsman suitabl kid bedroom playroom develop imagin creativ whimsic piec easi assembl best gift kid birthday christma gift babi shower mani happi moment friendli custom servic support teamson dimens length width height sku tmn',\n",
       " 'victorinox swiss armi knife swiss armi function black swiss armi knife number tool number function length inch black classic',\n",
       " 'batman begin blu ray widescreen batman begin explor origin batman legend dark knight emerg forc good gotham wake parent murder disillus industri heir bruce wayn christian bale travel world seek mean fight injustic turn fear prey fear return gotham unveil alter ego batman mask crusad use strength intellect array high tech decept fight sinist forc threaten citi still galleri theatric trailer languag english french spanish subtitl english french spanish japanes korean dark night prologu tankman begin batman begin spoof batman journey begin shape mind bodi gotham citi rise cape cowl batman tumbler path discoveri save gotham citi genesi bat reflect write batman begin david goyer digit batman batman begin stunt confidenti file',\n",
       " 'pointehaven solid flannel sheet set xl twin',\n",
       " 'wii shape shape first fit game come camera peripher includ insid box featur ubisoft proprietari bodi track technolog game scan bodi project imag onto tv creat person interact workout base specif bodi shape analysi fit level person goal shape abl recommend workout program best suit game also featur virtual coach provid verbal visual feedback movement ensur minut invest achiev maximum result alway side coach motiv reach goal best shape allow get benefit without hold control leav hand free incorpor equip may alreadi without excess band strap camera bodi track technolog follow progress show tangibl result hard work',\n",
       " 'lipstik littl girl trendi yellow floral tier ruffl spring dress babi trend sit stand ultra doubl stroller lemon drop',\n",
       " 'hamilton beach cup brewstat dispens coffe maker remov reservoir silver black hamilton beach cup coffe maker win featur brewstat coffe maker remov water reservoir made brew full cup coffe even easier latest addit line brewstat coffe maker remov reservoir mean pour spill simpli fill reservoir desir level place base brew silver black dispens coffe maker dispens one fresh cup time press cup travel mug dispens bar fill caraf spill break hot plate scorch coffe flavor gentl warm heater keep unus coffe tast fresh four hour customiz brew set includ bold regular small batch new dedic program brew ice coffe hamilton beach cup coffe maker',\n",
       " 'chevron design runner craft percent cotton fabul runner sport trendi chevron design contemporari addit dine area liven dinner pop excit print trendi runner',\n",
       " 'golf junior set letex pc made usa import',\n",
       " 'pc king queen microfib quilt comfort bedspread bed color revers',\n",
       " 'blendtec foursid jar bypass tap judder mid way stir foursid jar creat vortex properli blend shake smoothi chunki bit even add ingredi mid blend thank gripper lid creat vortex forc vertic motion blend jar chase content like round jar flat wall easili scrape clean pour varieti way thank spout corner cold forg singl prop wing tip inch blade made eastman tritan copolyest bpa free brand blendtec includ item foursid jar vent gripper lid type blender finish clear clear style classic set ounc measur display wattag capac ounc total capac ounc measur model dimens inch high inch wide inch long',\n",
       " 'panason we combo replac blade foil panason replac includ combo set inner blade outer foil panason shaver es es sa older shaver model recommend replac blade outer foil least year keep optim shave experi',\n",
       " 'mobo mobito youth ultim three wheel cruiser red child say wesom say mobo mobito excit addit mobo brand size kid includ featur mobo rider come expect impecc mobil maximum comfort innov design safeti featur galor parent love ergonom back support six angl set adjust frame design fit grow child kid love mobo mobito built fun excit new emerg brake featur rear wheel automat align allow quick turn stylish cruis ultim eye catcher mobo mobito great way promot healthi exercis navig next adventur manufactur suggest age year year year gear speed bicycl frame height bicycl frame compon featur chainless adjust frame bicycl frame materi steel seat featur cushion adjust back support seat materi pvc brake system calip pedal materi aluminum nylon rim materi aluminum front wheel height rear wheel height tire type knobbi tire width maximum weight capac lb care clean wipe clean dimens fold dimens weight lb warranti descript day limit manufactur warranti assembl detail assembl requir tool provid bike type recumb',\n",
       " 'panason arc es wet dri recharg shaver incorpor durabl nanotech blade panason es men electr shaver offer accur shave rpm motor recharg men shaver fast enough trim thick beard effortlessli without irrit pull panason shaver render top line cut perform use degre blade angl pivot head recharg men shaver move along shape face provid perfect shave enjoy close shave shower panason shaver work effici wet dri skin use turbo clean mode panason es swift easi clean',\n",
       " 'nfl green bay packer plaqu',\n",
       " 'club bicycl motorcycl util lock prevent bicycl motorcycl theft durabl bicycl motorcycl util lock maker club steer wheel lock club bicycl motorcycl lock one toughest bike lock ever made',\n",
       " 'club compact bicycl util lock prevent bicycl theft durabl compact bicycl util lock club compact util lock one toughest bike lock ever made',\n",
       " 'romano wall mirror extra larg inch mirror featur burnish silver color frame clean line rais inner lip readi hang vertic horizont mirror thick deep bevel premium qualiti frame assembl made top qualiti materi type wall mirror product featur made usa',\n",
       " 'white mountain electr ice cream maker qt elec ice cream maker white mountain electr ice cream maker qt elec ice cream maker made classic american style ice cream bucket handcraft sturdi new england white pine year old white mountain compani ice cream maker turn ultrasmooth old fashion ice cream frozen yogurt minut tripl motion action dasher system rpm univers electr motor stainless steel canist lid bucket bound galvan hoop durabl recip includ type electr capac qt',\n",
       " 'nickelodeon teenag mutant ninja turtl bodi pillow junt se mai poderosa liga de divirta se montando incr vei quebra cabe',\n",
       " 'panason fashion earbud earphon ergofitplu ultim fit plu superior sound add one enhanc listen experi ergofit design earphon comfort extend sound port power bass deliveri superb nois isol cord slider tangl free storag earpad includ avail seven fashion color',\n",
       " 'brinley co women sterl silver adjust infin fashion toe ring flaunt eleg style infin toe ring brinley co chic toe ring made premium sterl silver featur high polish finish adjust band creat perfect fit',\n",
       " 'disney infin marvel super hero edit video game starter pack ps disney infin marvel super hero player use real world interact marvel figur activ origin storylin play set virtual game world marvel popular franchis play set pen award win marvel comic writer brian michael bendi player abl take role marvel charact includ captain america iron man black widow thor hulk hawkey battl enemi complet challeng mission solv puzzl ultim save world destruct featur enhanc toy box mode disney infin marvel super hero introduc new structur franchis theme adventur player custom play use game charact across disney infin univers fan also hundr marvel theme item locat prop charact dispos creat stori even creat favorit comic book moment',\n",
       " 'cafe latt kitchen accent rug fun novelti rug sure brighten room non allergen stain fade resist nylon rug soft underfoot hassl free machin tuft latex back primari materi nylon pile height inch style contemporari primari multi secondari color beig black terracotta wine oliv green pattern novelti',\n",
       " 'women nike comfort thong white polar blue nike comfort thong offer soft comfort deserv mesh synthet leather upper provid excel fit breathabl lose plush luxuri mm memori foam set upon nike free inspir outsol',\n",
       " 'made smart housewar junk drawer organ tray',\n",
       " 'rachael ray green stonewar pc oz bubbl brown singl set excit dinner guest serv favorit bake dish bubbl brown singl person touch sure rememb featur multipl use stonewar dishwash microwav freezer safe oven safe conveni versatil glaze interior non porou food interact contemporari design contemporari play shape vibrant fun goe directli oven shallow side result crunch top serv flare handl flare handl allow get good grip angl perfect portion add person touch meal creat individu ounc portion favorit dish guest short time rachael ray radic chang way america cook dinner perki girl next door swagger catch phrase techniqu dinner ideolog simpler less expens time sold billion book made one top person food televis origin china materi stonewar typic ship within busi day',\n",
       " 'marvel legend spider man infinit seri set pc rhino pre order',\n",
       " 'fosmon nintendo wii gamepad usb charg charg cabl cord wire ft white keep nintendo wii gamepad charg vacat simpli away home replac old lost one charger let charg devic provid unlimit play time plug usb cabl requir wall ac adapt abl plug wall outlet includ cabl never heat overcharg batteri never run power away home',\n",
       " 'corel livingwar dinner plate countri cottag set durabl attract countri cottag corel livingwar dinner plate design stand rigor everyday life break chip resist long last use microwav oven safe versatil dishwash safe easi clean corel livingwar glass dinner plate come set six made easili stackabl cupboard space effici come three year replac warranti break chip',\n",
       " 'woven jacquard bedspread sham sold separ look simpl eleg interlock diamond design fashion lamont home bedspread featur lightweight comfort materi versatil fring edg either bedspread match sinlg shame separ perfect addit home solid color bedspread avail varieti size includ twin full queen king find one fit everi bed home choos array color suit tast famili member woven cotton bed machin washabl conveni',\n",
       " 'road mice hp fdshsxb ford shelbi wireless mous silver blue road mice hp fdshsxb ford shelbi wireless mous silver blue',\n",
       " 'disney watch boy wreck ralph time teacher watch dy',\n",
       " 'georg men short sleev oxford dress shirt get attract daili wear profession flair georg men long sleev poplin shirt design offic readi silhouett construct comfort poplin fabric men long sleev shirt sure becom wardrob favorit men poplin shirt relax torso enjoy comfort movement even warm temperatur long sleev occas wear transit men poplin shirt summer winter addit sweatshirt jacket comfort meet town confer georg men long sleev poplin shirt smart wardrob basic collar necklin button style easili fashion versatil men long sleev shirt casual occas outdoor bbq whether favor casual basic daili work wear solid georg men long sleev poplin shirt fine wardrob buy also avail big men size cotton polyest comfort collar expand inch long sleev button cuff full button front back yoke',\n",
       " 'paderno world cuisin chocol mold',\n",
       " 'pepper sentinel float polar sunglass stylish sunglass polar lens coat protect eye harm uv ray perfect day outdoor love stylish glass',\n",
       " 'wagan solar panel watt charger wagan watt solar panel provid watt amp power fold panel give option stand conveni stand storag pouch durabl loop fabric permit hang optim posit applic includ ipod mobil devis camera applic amp',\n",
       " 'metal lantern wax led flicker candl white brighten home metal lantern wax led flicker candl candl lantern would look perfect entri way porch patio sun goe turn led candl beauti light love vintag look black lantern includ metal lantern flameless candl requir aaa batteri sold separ',\n",
       " 'simmon beautyrest latex pillow multipl size instantli add layer comfort outstand support bed simmon beautyrest latex pillow provid except support contour neck head consist contour action reduc pressur neck head provid comfort rest night sleep featur natur latex foam also breathabl cell structur help retain shape rare requir fluf simmon pillow design remain extrem resili last twice long tradit pillow durabl natur latex pillow design comfort smart addit sleep routin',\n",
       " 'calphalon quart chef pan cover set tri pli stainless combin beauti stainless steel superior perform aluminum chef pan classic style polish stainless steel exterior satin finish interior temper glass lid also includ quart pan',\n",
       " 'white mark women boston black white sweater dress sheath style boston sweater dress white mark style knit pattern diamond deer heart long sleev keep cozi neck curv hug cut add flirti touch black white dress',\n",
       " 'dicki men tradit work pant origin still best featur trademark perman creas stain releas finish pant handl dirtiest dirti work still come back fresh ever also avail men big size',\n",
       " 'pittsburgh pirat offici mlb ear pittsburgh pirat offici mlb ear wincraft show team pride wherev go popular team logo ear hypo allergen stainless steel construct offici logo offici team color terrif collect must game day great subtl stylish way show team allegi approx wide offici licens leagu team decor usa',\n",
       " 'pre lit medium white american spruce upsid half wall christma tree warm clear led light pre lit medium white american spruce upsid half wall christma tree warm clear led light christma tree save need space set enjoy lumin beauti festiv tree without hassl rearrang furnitur tree flat back posit right wall save space product featur pre lit warm clear led light warm clear also known warm white soft natur incandesc glow similar candlelight bulb mini tip addit product featur led light use less energi durabl non glass replac bulb cool touch medium profil tree hing branch construct indoor use come free chain hang dimens high base stand top tree base diamet widest point materi pvc metal plastic bulb wire',\n",
       " 'men beasti boy shirt show retro punk rock love beasti boy men shirt basic black crew neck tee shirt featur icon black white imag beasti boy third album check head made comfort cotton blend',\n",
       " 'sterl silver pad lock necklac show key heart held someon special unusu sterl silver necklac padlock pendant featur high polish finish hang cuban chain secur spring ring clasp secur',\n",
       " 'women crepe easi waist dress merona',\n",
       " 'sleep innov embrac memori foam bodi pillow sleep innov embrac memori foam bodi pillow design provid comfort support need deep rest night sleep comfi micro cushion core sleep innov bodi pillow made conform natur bodi posit order help reliev pain pressur point also help promot proper bodi align sleep memori foam pillow deliv gentl contour support greater airflow pillow due special core fiber fill construct uniqu shape effect side sleeper requir addit support stabil gusset sleep innov embrac memori foam bodi pillow come special size soft feel pillowcas year warranti',\n",
       " 'new gb micro sd sdhc high capac secur sd tf flash memori card class',\n",
       " 'lyrix jive water resist bluetooth speaker featur compact design fit palm hand lyrix jive bluetooth speaker use advanc bluetooth technolog deliv incred clear stream sound distanc feet recharg ion batteri provid four hour play design integr suction cup foot lyrix jive bluetooth speaker stick virtual smooth surfac shower locker windshield toolbox silicon rubber shell easi clean remark water resist lyrix jive speaker play music also allow hand free convers use bluetooth enabl phone devic built mic packag come usb cabl easi recharg speaker come choic sever color match room offic decor wirelessli stream music favorit devic feet away water resist silicon rubber case mah recharg batteri provid hour oper avrcp audio video remot control profil hand free call built mic one touch redial bluetooth enabl devic option red blue green orang black purpl pink yellow model includ item usb charg cabl dimens inch high inch diamet weight pound',\n",
       " 'whole home pepper kitchen rug nourison whimsic word wisdom upbeat design charm palett delight textur day brighten collect carv print accent rug bring fun fill flair environ versatil machin washabl non skid',\n",
       " 'nutri ninja ninja blender duo auto iq nutri ninja ninja blender duo auto iq take guesswork drink make auto iq technolog featur intellig program combin uniqu time puls blend paus pattern work digit countdown timer display much time remain select auto iq program count track blend time use three manual speed also includ rachel beller best sell eat lose eat win healthi live book page healthi tip trick recip special tailor nutri ninja ninja blender duo book grab go action plan slimmer healthier combin nutri ninja pro extractor blade auto iq break whole fruit veget ice seed maximum nutrient vitamin extract small regular jumbo multi serv nutri ninja cup sip seal lid allow make nutrient rich super juic take go total crush technolog deliv unbeat profession power ninja auto iq combin xl oz blender total crush blade pulver ice snow second creami frozen drink smoothi whole famili jar blade lid bpa free dishwash safe auto iq technolog one touch conveni blend xl oz total crush blender pulver ice snow second nutri ninja pro extractor blade deliv power nutrient vitamin extract jumbo multi serv oz regular oz nutri ninja cup sip seal lid watt profession perform power',\n",
       " 'celest home lattic flannel sheet set xl twin',\n",
       " 'lego super hero batman joker steam roller piec joker goon caus havoc gotham citi crazi steam roller destroy everyth path batgirl robin need backup batmantm fast heavili arm batw end crime wave use batw flick missil disabl rampag steam roller switch wing attack mode grab bad guy launch laugh ga bomb batman fellow hero save gotham citi includ minifigur assort weapon batman batgirl robin joker joker goon',\n",
       " 'polar ft heart rate monitor',\n",
       " 'notat cowlneck cabl knit sweater dress',\n",
       " 'ventil contour memori foam pillow ventil contour memori foam pillow',\n",
       " 'oster ogg watt microwav oven',\n",
       " 'cgc sterl silver celtic turtl necklac',\n",
       " 'memorex travelcard flash memori card gb sdhc memorex sdhc travelcard help captur save share preciou memori featur class high transfer write speed write protect switch addit safeti sdhc travelcard ideal profession amateur photograph music enthusiast anyon live life go highli compat digit devic secur digit card popular flash format',\n",
       " 'brett favr packer gunsling shirt jersey green bay crew sweatshirt',\n",
       " 'convers ct ox youth boy yellow textil sneaker shoe us brand style convers ct ox width medium true runner yello upper materi textil outsol materi man made heel height inch descript convers brand athlet shoe includ wide rang lace slip style men women dazzl array hip materi color pattern first gain fame still earn respect convers star high top canva basketbal shoe wide known simpli chuck taylor nicknam chucki basketbal player join compani promot still footwear choic mani seriou basketbal player also anyon want hip comfort casual shoe shoemak marqui convers open convers rubber shoe compani malden massachusett dedic manufactur waterproof winter footwear seven year later compani expand line includ tenni shoe expand basketbal shoe',\n",
       " 'panason cup rice cooker steamer',\n",
       " 'paderno world cuisin heart chocol mold set',\n",
       " 'op men skate sneaker hit street pair op men drag athlet sneaker featur comfort pad collar footb lace cool design pair definit keeper',\n",
       " 'hollist inview extra clear silicon extern cathet self adhes latex free med mm box inview extra male extern cathet medium purpl adhes latex free',\n",
       " 'beat dr dre urbeat ear earbud headphon assort color',\n",
       " 'amber sport good box gym sac bag asg',\n",
       " 'surya ruffl circl decor pillow light blue fill stylish yet simpl surya toss pillow make perfect accent bedroom live room solid pillow textur accent leap pillow featur beig choos squar pillow squar pillow addit alli choos pillow polyest fill fill polyest cover remov spot clean import',\n",
       " 'rashbi men orang dress shirt step style sport stylish shirt work casual night breathabl cotton construct easili goe day night perfect work outing rashbi dedic offer engin style men',\n",
       " 'satin nickel widespead hole solid brass kitchen faucet',\n",
       " 'green mountain coffe breakfast blend keurig cup ct light crisp way start day breakfast blend classic live vibrant new england breakfast coffe snappi citrusi central american coffe match sweet indonesian bean perfect morn wake',\n",
       " 'georg boy piec dress shirt tie set get littl guy readi special occas georg boy piec dress shirt tie set item good choic season event pictur concert set includ tie long sleev button shirt clip tie cute conveni long sleev shirt featur button style collar creat dress look made cotton poli blend breathabl comfort durabl front pocket offer dapper accent pair boy shirt tie set coordin dress slack complet look select multipl set mix match style',\n",
       " 'matern sleev cowl neck sweater dress liz lang target',\n",
       " 'bottl dakota wine rack display top wooden mallet rack hold standard ml bottl bordeaux burgundi champagn style wine bottl shelv smooth round edg maximum bottl label safeti made usa bottl dakota wine rack display top',\n",
       " 'georg men short sleev rayon shirt go love print soft rayon fabric georg men rayon woven short sleev shirt perfect relax day upcom vacat choos assort color print',\n",
       " 'cuisinart grind brew dgb bk coffe maker black cuisinart grind brew dgb bk coffe maker black grind brew coffeemak form cuisinart automat grind bean right brew produc fresh flavor pot coffe fulli programm brush metal finish delux cup coffeemak right home modern kitchen option accessori gold tone filter basket brew basket black grinder assembl lid grinder brew basket lid replac caraf black',\n",
       " 'batman muscl tee boy readi brave even warmest day cool muscl tee featur fearless batman print soft comfi construct crewneck soft jersey knit cotton polyest washabl import',\n",
       " 'danbi design fridg white cu ft add touch class room home offic strike compact refriger danbi come height two feet featur cu ft cool capac ideal unit floor countertop make perfect fridg space dormitori room wet bar find storag room tall bottl problem third gener canstor beverag dispens second none accessori easili store scratch resist worktop there need defrost unit done automat splendid applianc also come mechan thermostat offer wire shelv maximum storag versatil left right hand user love conveni revers door swing integr door handl compact unit also come part labor warranti month',\n",
       " 'south shore soho mirror multipl finish five piec dress ensembl south shore soho mirror black add finish touch much like cherri cake black frame mirror exud eleg impart timeless look furnitur collect made particl board frame built durabl serv year come south shore mirror remark easi assembl mirror dresser thank pre drill fix post also frame util environment prefer product construct altern choos natur mapl finish mirror coordin consist furnitur theme room overal south shore soho mirror black make magnific impress greatli enhanc room decor',\n",
       " 'men dicki loos fit cargo short desert sand loos fit cargo short dicki featur casual waistband pleat cargo pocket',\n",
       " 'nextt golf piec men bag club set set offer latest equip technolog set target differ player profil sure meet need everi improv golfer',\n",
       " 'anywher comfort memori foam neck pillow',\n",
       " 'kitchenaid stand mixer qt hammer glass bowl cover gbh',\n",
       " 'white mountain electr ice cream maker qt black wii gb delux consol game pad nintendo land wii next great game consol nintendo redefin play next innov new wii gamepad control introduc entir new way play game also transform connect friend enjoy entertain',\n",
       " 'champion women powertrain absolut workout petit length pant featur powerflex technolog semi fit pant stretch move doubl dri moistur control keep cool dri powertrain pant offer uv protect stylish reflect logo front',\n",
       " 'timex men expedit field chronograph watch brown leather strap get classic outdoor style function timex expedit field watch masculin watch design withstand rigor everyday use timex chronograph watch men carri adventur averag perfectli tune chronolog timex men watch featur programm alarm keep schedul chronograph stop watch record import time interv indiglo night light allow check hour period low light even pitch black beauti design timex expedit field watch sturdi brass case miner glass crystal watch face accent rug brown leather strap buckl clasp keep time earthi brown dial enjoy characterist timex water resist meter look watch adventur consid buy timex expedit field watch',\n",
       " 'logitech wireless mous brazil optic wireless radio frequenc brazil usb notebook scroll wheel brazil symmetr',\n",
       " 'silver jean dark wash skinni jean classic five pocket skinni jean deep dark wash highlight mix fade whisker throughout silver jean',\n",
       " 'sandisk gb class sdhc sd flash memori card sdsdb jewel case wholesal',\n",
       " 'etern artesian natur alkalin water oz pack custom review recommend polici etern artesian natur alkalin water begin journey high remot nativ forest new zealand kaimanawa rang voyag take layer volcan rock sandston vast aquif collect millennia pure etern artesian water pristin provid refresh tast hydrat enliven free pollut natur alkalin water come care select rare underground spring isol protect commerci industri pollut etern artesian water featur natur occur electrolyt chemic free noth ad remov pack etern artesian water come uniqu curvi bottl easi grip hold onto drink bottl etern alkalin water alway bpa free recycl etern artesian natur alkalin water water trust feel good drink',\n",
       " 'samsonit tier closet shelf organ conveni store cloth shoe towel floor sight samsonit shelf organ hang easili split two five organ short closet',\n",
       " 'jesu cross stainless steel necklac uniqu design jesu pendant perfect way show faith love jesu make perfect gift love one metal stainless steel style pendant finish high polish chain marin chain length inch clasp lobster claw metal weight gram pendant dimens mm wide mm long necklac dimens mm wide inch long weight measur approxim may vari slightli list inform custom made ship within busi day',\n",
       " 'twist design cherri wood coat rack',\n",
       " 'le creuset signatur fri pan skillet serv pancak ome let hamburg conveni wide shallow skillet two pour spout helper handl make lift transfer food breez glossi porcelain enamel cast iron non reactiv finish requir season easi clean mainstay french chef nearli centuri le creuset cookwar featur bold bright color varieti shape size suit culinari need enamel cast iron cookwar piec skill fulli finish hand made franc quart capac lb dia product featur mold cast iron expertli enamel glossi porcelain coat versatil stovetop oven broiler highest qualiti porcelain enamel coat imperm odor stain food react enamel finish easi clean enamel surfac scratch resist superior conduct heat promot faster cook time even distribut retent heat ensur cookwar stay hot longer two pour spout helper handl make lift food transfer easi suit stove top includ electr ga ceram halogen induct oven safe broiler safe bright choic coordin virtual home decor care use instruct select low medium heat best result select heat sourc close possibl base pan prevent energi loss heat handl gentli pre heat utensil low set minut add oil liquid pan wooden plastic silicon heat resist nylon tool recommend avoid scratch enamel surfac use pothold oven glove lift metal handl pan stovetop oven set hot pan le creuset trivet board cloth directli unprotect counter top use pan ceram halogen stove top alway lift pan slide move pan ban ged hard surfac drop may chip break oven safe broiler safe maintain beauti pan finish hand wash recommend warm sudsi water nylon brush pad cool pan wash dishwash hot soapi water leav drain put away still damp remov stubborn food residu plastic spong scourer use metal scourer abras cleaner kind',\n",
       " 'empow fit mm cranberri print yoga mat clutch lightweight durabl mm mat perfect yoga pilat stretch studio qualiti mat non slip surfac sooth contemporari design conveni tote pocket includ easi transport home studio well store small item key cell phone licens credit card mp player uniqu tote pocket perfect carri mat store belong extra thick mat add comfort yoga pilat workout conveni twist make mat favorit el set incluy mat clutch marca empow fit modelo mp material nylon polyest sbr pvc corrug doubl wall corrug cranberri medida gr peso libra',\n",
       " 'bow bath bar amber marbl glass bulb includ requir two medium base watt incandesc bulb medium lamp glass shade cul certifi warranti one year assembl requir backplat overal lb',\n",
       " 'shadow rider runner small',\n",
       " 'motiv eye base smooth neutral eyelid keep eye shadow creas eye stay true',\n",
       " 'girl line dress',\n",
       " 'sterl industri victoria starburst mirror mirror comprehens collect vari style tradit ultra modern rang size shape textur finish function transform room reflect natur beauti home decor wall cohes fashion effect techniqu bring person space sterl king tree etch floral mirror tradit oval mirror delic etch flower give littl girl wonder gift room add style sophist room home frame includ hook hang locat back mirror frame dimens mirror',\n",
       " 'lego star war ewok villag',\n",
       " 'peg perego orion front mount child bike seat carrier navi red give littl one ride forget orion front mount child bike seat let keep child close enjoy fun bicycl ride innov bracket system allow orion fix head tube bicycl enabl orion attach bike way throw center balanc rider bracket fix bicycl instal breez ne click instal system uniqu design bracket also allow orion mount almost type support frame fit bicycl frame mm mm orion also mount electr bicycl bike equip suspens system orion let littl passeng fun excit ride without take bump road point adjust safeti har thermoform weatherproof pad keep littl one cozi secur safeti strap includ adjust footrest prevent contact wheel spoke detach handl includ child bike seat children lb posit orion allow bicycl driver keep watch eye littl one bicycl driver also feel sens secur comfort abl arm posit around child featur front mount adjust footrest child fit bike bike attach seat safeti secur featur lock lap bar point har remain upright even bicycl tip manufactur suggest age year frame materi plastic protect qualiti rust resist rustproof fade resist water resist includ attach hardwar recommend capac person maximum weight capac lb maximum user height certif meet astm standard care clean wipe clean damp cloth dimens weight lb warranti descript year limit manufactur warranti assembl detail assembl requir tool provid',\n",
       " 'sodastream countri time pack save time effort money sodastream pack concentr syrup make equival approxim can favorit beverag simpli add cap liter carbon water readi enjoy cool refresh countri time drink whenev want sodastream',\n",
       " 'burger friend payday dress dress women',\n",
       " 'elit platinum cu ft toaster oven white grill bake broil keep warm elit platinum slice toaster oven broiler larg capac cu ft job big power toaster oven key featur heat select switch allow user set differ heat set also featur stay mode well heat direct set customiz featur combin minut timer give user full control grant abil tackl wide rang cook task',\n",
       " 'funvil sparkl girlz doll dress caucasian princess inspir creativ funvil sparkl girlz doll wear love royal outfit come match dress kid coordin tiara bag also includ caucasian princess doll dress kit good choic imagin play',\n",
       " 'oz nfl green bay packer gameday style glass pilsner set pk show favorit nfl team offici licens pilsner glass set gameday style enhanc team color logo ounc pilsner sure hold favorit game time beverag oz nfl green bay packer gameday style glass pilsner set pk offici licens nfl gameday style team color logo oz capac',\n",
       " 'micro flannel piec sheet set queen sheet set meadow luxuri soft warm micro flannel sheet set combin excel comfort properti high qualiti european cotton flannel easi care polyest fleec without bulk weight micro flannel shrink pill resist wrinkl also energi save fast wash quick dri thermal properti design product keep warm without overh wrap gentl cocoon comfort extra larg flat sheet deep pocket fit sheet accommod deep pocket mattress room spare even pillowcas made littl larger norm extra bit eleg comfort micro flannel regist trademark shavel home product patent pend',\n",
       " 'euro pro slice toaster oven model heavi scratch',\n",
       " 'bell sport cycl product shackl lock bike lock key harden steel shackl crossbar guard bike superior secur carri bracket featur quick releas vinyl coat protect bike scratch durabl soft vinyl coat protect bike finish',\n",
       " 'calphalon peek belgian waffl maker',\n",
       " 'camelbak chute water bottl grey new chute water bottl design hydrat demand whether backcountri sit desk ergonom high flow spout angl contour effici full hydrat leak proof tether cap twist half turn conveni snap handl way your drink even put thread cap insid spout get comfort lip seal one piec tether twice clever youll see market keep top lock way one hand refil go',\n",
       " 'insten pink flip folio leather skin case cover car charger appl ipad th rd nd support auto sleep wake leather case stand stop worri scratch appl ipad get excel carri accessori today leather case featur smooth synthet leather heavi duti stitch ensur long life appl ipad featur auto secur magnet flap best combin secur eas use leather case cover turn horizont stand conveni view slide show video light pink materi synthet leather sued interior wake devic automat open uniqu design allow easi access button control port without remov case car charger compat appl ipad iphon ipod car charger equip smart ic chip fuse protect devic charg sudden surg power may damag devic batteri also rapid charg batteri drive use plug cigarett lighter socket red led light unplug devic disconnect pull cigarett lighter adapt may power car key posit disconnect pull cord product name trademark list manufactur owner trademark eforc corp manufactur necessarili endors use product',\n",
       " 'one strap sling backpack beig tan cross bodi tablet messeng shoulder bag',\n",
       " 'revers floral jungl dress green floral dress women',\n",
       " 'mudhut nomad runner',\n",
       " 'cooper classic tremont clock tremont clock enhanc motif love gold finish clock featur arab number black glass encas face',\n",
       " 'kaisercraft beyond page mdf storag drawer beyond page fabul line product made qualiti press board paint ink chalk paper embellish way truli uniqu piec art storag unit featur drawer assembl approxim',\n",
       " 'touch comfort memori foam pillow like silent sturdi tree southern enterpris bird branch coat rack eye catch addit home cor tree theme coat rack featur branch pinecon accent small bird perch top give whimsic welcom appear still make sturdi enough hold coat hat umbrella whether serv coat rack hat rack combin two great space saver get appreci grace appear number hook frame materi metal hardwar materi metal dimens weight lb assembl detail assembl requir',\n",
       " 'champion polar sunglass multicolor readi runprotect sun champion polar sunglass offer uv protect visibl polar sunglass offer sunglass champion scratch resist surfac rubber templ end snug fit plastic black lens black frame',\n",
       " 'fossil women virginia es two tone resin quartz watch beig dial fossil women virginia watchthi classic timepiec fossil featur stainless steel case bracelet gold tone dial precis quartz movement water resist level meter finish fine timepiec case stainless steel caseback stainless steel screw dial gold tone hand gold tone marker roman bracelet stainless steel clasp deploy crystal miner crown push pull movement quartz water resist atm meter feet case measur mm diamet mm long mm thick bracelet measur mm wide inch long model es measur approxim may vari slightli list dimens women watch band size fit inch inch wrist',\n",
       " 'mixpresso espresso machin nespresso compat plu bonu italian capsul black model log mixpresso espresso machin ultim way brew italian cup espresso home work place ideal espresso high qualiti bar pump two cup automat brew option best choic espresso lover offer milk frother go make cappuccino latt go machin year warranti machin compat nespresso capsul system three modern stylish design',\n",
       " 'lenovo core ghz mb gb dvdrw window profession laptop comput refurbish lenovo thinkpad notebook pc come intel core ghz processor mb ddr memori gb hard drive inch wxga display wi fi dvdrw optic drive microsoft window profession bit oper system oper system microsoft window profession bit processor intel core ghz memori mb ddr memori hard drive gb optic drive dvdrw drive graphic intel hd graphic audio high definit hd audio volum mute button display screen inch display type wxga led backlight display resolut network integr gigabit ethernet slot type ii pc card slot express card slot cardbu support port usb port lan port audio microphon vga port display port esata usb combo port modem rj rj ieee laptop batteri cell lithium ion model lenovo packag content laptop ac adapt recoveri cd recoveri partit wi fi ye dimens inch high inch wide inch deep weight pound',\n",
       " 'diy wall clock home room offic modern decor mirror surfac sticker',\n",
       " 'fisher price thoma train trackmast motor spencer engin new',\n",
       " 'insten micro usb hdmi mhl adapt ft cabl samsung galaxi iii iv sv note iii',\n",
       " 'crucibl men cz black plate stainless steel cross necklac stainless steel cross pendant highlight inlaid cross prong set cz cross pair tradit latin cross softer maltes cross polish layer piec pair hearti curb chain masculin yet refin look',\n",
       " 'maryland plastic quart clear punch bowl next cater event special occas parti serv guest qualiti eleg qt clear plastic punch bowl dispos bowl perfect serv beverag salad even bread finger food',\n",
       " 'men blk dnm lambskin leather shirt suppl lambskin leather tailor sleek crewneck shirt unlik fine center seam bisect ultra lux style offer sharp final touch',\n",
       " 'minisuit juke portabl bluetooth speaker alloy steel hous black bring gift tini big sound holiday season design augment sound tablet smart phone amaz bluetooth speaker compat iphon ipod ipad samsung galaxi microsoft nexu nokia soni smart phone tablet laptop pc desktop compact cute bluetooth speaker built recharg batteri line input touch control led light indic impress sound tini want bluetooth switch includ cabl fit mm ear jack full charg juic minut away small durabl pocket innov exquisit color design adorn speaker whether entertain guest holiday work gym go road trip attend courtsid sport event throw perfect summer bbq bring tini big sound minisuit portabl super bass speaker',\n",
       " 'assassin creed ezio costum hoodi xl ezio auditor true renaiss man ezio auditor alway move stay ahead call law bring true peac justic itali result need make sure keep face cover bodi warm get pretti cold top church tower like share ezio style assassin creed ezio costum hoodi assassin creed ezio costum hoodi load super cool featur detail expans pointi assassin hood lace cuff embroideri bottom bit put latest renaiss italian hoodi fashion slip assassin creed ezio costum hoodi offici licens ubisoft assassin creed ezio costum hoodi white red cotton polyest hoodi also featur embroid detail lace cuff assassin creed logo zipper pull point assassin hood machin wash cold tumbl dri low lay flat dri import size xl chest bodi length hood meet shoulder sleev length shoulder seam',\n",
       " 'matern one shoulder rosett dress merona give babi bump flatter coverag merona matern shoulder dress cluster rosett shoulder feminin look asymmetr necklin give edgi touch sleeveless dress skirt flow elast waistband reach knee doubl stitch seam make durabl full line offer opaqu coverag side hook loop fasten zipper make easi avail standard size assort color machin wash',\n",
       " 'princess charm school hardcov macbook mountain lion edit paperback',\n",
       " 'american rag belt plaid cargo short featur cool plaid design clutch cargo pocket remov ring belt american rag short new go warm weather month cotton machin washabl import american rag men short relax fit belt loop ring belt includ zip fli button closur front seam pocket two back pocket side cargo pocket allov plaid',\n",
       " 'pack ekobrew refil cup singl serv coffe maker anyon would call morn person miracl manag get hous one piec everi day fell love keurig cup coffe maker could final brew perfect cup even felt like still half asleep love much wast singl serv cup ekobrew refil cup come handi cup design use keurig cup machin easili clean use get keep use machin love without wast',\n",
       " 'thane red black vacuum innov effect vacuum featur easi empti bagless dust cup washabl reusabl filter clean high low variou extens use liquid lifter spot clean ergonom design lightweight vacuum long life recharg batteri pack uniqu tri filtrat system volt motor convert dri vac wet vac window squeege clean suck liquid without leav streak duster tool help clean fine dust particl fragil object pictur frame chandeli porcelain collect televis much',\n",
       " 'signatur levi strauss co women total shape pull bootcut jean new signatur levi strauss co total shape pull boot cut jean jean love shape innov construct high stretch denim combin flawless beauti fit day comfort',\n",
       " 'samsonit tier swivel closet organ stay top messi closet simplifi life six tier swivel closet organ organ solut highlight polyest construct conveni split function make tier hang organ shorter closet',\n",
       " 'lenovo thinkpad ed lenovo thinkpad ed seri window pro bit window pro bit downgrad gb ram gb hdd',\n",
       " 'thule vectro inch macbook air bumper laptop case thule know protect thule vectro macbook bumper except engin protect macbook drop meter innov snap case rug still retain beauti aesthet macbook want protect secur closur keep devic fasten shut even bump drop easi snap instal option scratch shield degre protect bevel edg engin secur fit macbook offer enhanc grip engin shock absorb ridg provid ultim protect protect bumper case macbook air',\n",
       " 'boy adida team tiro train pant grade school black white train pant use adida climacool fabric wick away moistur keep feel fresh bottom leg zip easi zip pocket secur storag polyest import',\n",
       " 'men canali regular fit dress shirt',\n",
       " 'lego creator sea plane skim wave high speed sea plane lego creator sea plane larg propel huge pontoon rebuild power swamp boat super fast catamaran skim wave sea plane cool aircraft featur orang black white scheme larg propel engin detail navig light tint windshield larg pontoon land water spin propel appli power thunder ocean surfac soar sky perform cool aerial maneuv ocean land done fli rebuild sea plane power swamp boat super fast catamaran',\n",
       " 'lego ninjago zane kid moveabl minifigur alarm clock lego creat anoth icon zane clock tie fantast lego seri ninjago cool clock featur movabl part time display digit lcd screen blue backlight head move activ alarm light',\n",
       " 'nespresso vertuolin coffe espresso machin cup capac capac volum oz featur automat shutoff remov water reservoir remov drip tray materi metal plastic includ remov water reservoir instruct manual drip tray coffe tea varieti pack batteri batteri use dimens product weight lb',\n",
       " 'nintendo wii white consol ntsc',\n",
       " 'yanke green flipper feeder flipper bird feeder featur four feed port easili access via perch ring feeder also come uniqu mechan deter squirrel access bird seed materi polycarbon metal quantiti one green set outdoor dimens inch long inch wide microban antimicrobi technolog fight growth damag bacteria mold mildew four feed port easili access via perch ring heavi metal cap fit snugli tube prevent squirrel lift reach seed weight capac pound',\n",
       " 'nike free women train shoe bluedark greylim',\n",
       " 'bk zombi killer full tang knife bk zombi killer full tang knife featuresful tang heavi duti zombi killer knife overal length blade length sharp blade materi stainless steel black finish handl materi neon green nylon cord wrap sheath custom black ballist nylon weight lb',\n",
       " 'lorel round profil wall clock lorel round profil wall clock quartz',\n",
       " 'bumper bell knee low heel boot assort color',\n",
       " 'ghz wireless cordless optic mous mice dpi usb receiv pc laptop',\n",
       " 'black greig folk magic bell sleev dress midnight blue dress women',\n",
       " 'nfl junior san francisco er scoop neck shirt sequin logo nfl junior san francisco er scoop neck shirt sequin logo let show support favorit team featur contour cut show figur nfl shirt featur er logo',\n",
       " 'lenmar batteri ibm lenovo laptop comput black lbix',\n",
       " 'seren prayer hand stainless steel necklac god grant seren accept thing cannot chang courag chang thing wisdom know differ inspir seren prayer engrav insid notebook necklac pray hand front signific meaning gift love one',\n",
       " 'adult scari werewolf mask osfm',\n",
       " 'brio milano men purpl white stripe button dress shirt brio milano men purpl white stripe dress shirt perfect top work leisur style dress nine daili fashion button shirt',\n",
       " 'new sandisk gb class microsd microsdhc sd sdhc tf flash memori card adapt irrespect phone devic optim sandisk micro sd card gb ampl memori space video music imag rington game sandisk sdsdq truli make phone limitless furthermor gb micro sd card also equip intern usb drive card reader',\n",
       " 'la preciosa sterl silver cz center flower necklac inch',\n",
       " 'balboa babi high chair cover retro flower soft quilt balboa babi high chair cover provid comfi seat babi also design keep babi come contact chair parent rest easi know provid germ free space babi',\n",
       " 'kitchenaid oz diamond vortex blender raspberri ice uniqu one piec diamond angl pitcher stainless steel blade work togeth creat power vortex creat except result featur benefit soft start featur start motor slower speed pull food blade quickli increas select speed set steel reinforc coupler provid direct effici power transfer motor directli blade robust blend control panel white led light wipe clean easili sturdi die cast metal base oz bpa free diamond pitcher design shatter scratch stain resist dishwash safe easi cleanup patent vortex stainless steel blade diamond shape lock place pitcher speed crush ice function intelli speed maintain optim speed height origin usa ice crush capabl ye clean care dishwash safe pitcher typic ship within busi day',\n",
       " 'kitchenaid speed digit hand mixer white',\n",
       " 'wrangler men comfort solut seri flat front pant wrangler men pant comfort solut seri made comfort durabl cotton blend also comfort elast waistband men flat front pant wrangler pant featur button front closur two slash front pocket well two back welt flap pocket button closur',\n",
       " 'blackhawk gen moll system shotgun shell pouch black',\n",
       " 'revlon colorstay gel envi longwear nail enamel fl oz salon qualiti brilliant shine life resist wear use colorstay gel envi diamond top coat plu base step gel envi formaldehyd toluen dbp free formula',\n",
       " 'levi vintag cloth custom jean lisa mari',\n",
       " 'men kelti weather larg rain jacket stylish kelti jacket great weather featur bold green hue rain wind proof well lightweight wonder backpack outdoor activ',\n",
       " 'startech com mhl adapt convert micro usb hdmi type male micro usb hdmi femal digit audio video type femal micro usb black connect mhl enabl mobil devic hdtv monitor projector use hdmi mhd hdf mhl mobil high definit adapt micro usb hdmi activ video adapt enabl connect mhl enabl smartphon tablet pc mobil devic non mhl enabl hdtv monitor projector hdmi simpl plug play solut view photo video support audio mobil devic content larg display mhl hdmi adapt support output resolut channel digit audio deliv qualiti conveni compact activ adapt offer micro usb port side ad benefit simultan charg connect mobil devic alway readi use back startech com year warranti free lifetim technic support',\n",
       " 'amk pm powermag hand releas magnet reach hard get area lift small part metal shave tabl floor etc separ ferrou materi non ferrou great clean power equip drill press mill machin lath height cylind diamet lift power lb sku amk',\n",
       " 'philip senseo hd pod coffe maker black hd',\n",
       " 'schwinn men prelud road bike prelud bike aluminum road frame lightweight quick agil ride alloy rim lightweight durabl frame materi aluminum number item includ frame',\n",
       " 'lrg big tall stripe cargo short',\n",
       " 'silver jean relax bootcut craig jean duti style statu relax kickin bootcut jean silver jean',\n",
       " 'notepro page colleg rule hardcov notebook notepro colleg rule notebook excel note take organ effici archiv notebook durabl hard black cover provid increas write stabil twin wire bind allow notebook lay flat open percent recycl fiber minimum percent post consum materi includ self stick color tab label custom index cover spine microperfor colleg rule page space date page measur inch inch includ doubl side pocket storag index page',\n",
       " 'electro road bike bell electro road bike bell great option bike want safeti conveni bell without look loud db bell mount without tool suitabl mm handlebar db tool less mount fit mm handlebar black avail size univers fit materi plastic dimens inch long inch wide inch high',\n",
       " 'speck candyshel cell phone case samsung galaxi grey pink spk lightweight flexibl design keep cell phone snug safe speck candyshel case samsung galaxi grey pink featur cushion interior keep cell phone snugli place outer shell protect scratch dent case allow access port control keep corner protect',\n",
       " 'beat studio ear headphon assort color world famou headphon complet redesign reimagin new beat studio lighter sexier stronger comfort precis sound adapt nois cancel hour recharg batteri remotetalk energi excit expect beat plu power reengin sound',\n",
       " 'insten grape tropic teal tuff hybrid hard premium case phone stand samsung galaxi mini',\n",
       " 'classic accessori terrazzo patio chair set round cover larg fit diamet heavi duti terrazzo patio chair set cover protect outdoor patio furnitur rain snow sun dirt also durabl enough crack extrem cold condit terrazzo fit round cover featur elast cord around bottom offer secur fit terrazzo fabric cover air vent prevent insid condens wind loft machin washabl cover avail neutral shade sand',\n",
       " 'white mark women print sleeveless skater dress littl flirti total chic women fit flare dress white mark add fun day night adventur dress lightli flare skirt move walk especi danc option mint yellow fuchsia casual dress style sundress even dress style day dinner fit missi type length sleev sleeveless waist detail elast necklin scoop line unlin closur pull approxim length top center back hem inch measur taken small',\n",
       " 'sport coverag inc nhl columbu blue jacket polyest jersey bed skirt',\n",
       " 'holder rotat rack stand pod storag nespresso coffe capsul',\n",
       " 'dartmouth four section cream bond leather cube storag ottoman dine live room front televis long favorit way enjoy meal especi like husband unsightli tray take away beauti decor atmospher work hard creat come close give battl solut final dartmouth leather tray ottoman offer perfect way dine away stun style ottoman care craft high qualiti bond leather come gorgeou easi match espresso brown shade allow indescrib visual appeal leather realli shine top ottoman though like ottoman ever seen appear four upholst leather cushion actual four individu tray simpli lift one four tray flip larg wooden dine tray beauti mahogani shade pad leather previous top ottoman comfort rest tray lap larg squar ottoman way allow famili dine away without creat undesir mess tacki tray plu tray also great way hold glass dessert without worri place leather',\n",
       " 'plantron headset amplifi cabl coil cord connect headset quick disconnect plug standard modular telephon headset jack',\n",
       " 'krup km coffe maker definit seri stainless steel best cup coffe come home meet coffe maker stylish stainless steel hub prep cup bold beauti blend program daili start time cup joe exactli want trust keep warm featur keep pot hot year warranti model km',\n",
       " 'solofil singl cup reusabl coffe filter call coffe connoisseur perfect solut arriv solofil singl cup reusabl coffe filter make easi enjoy favorit blend gourmet coffe even make cup simpli fill cup favorit blend bean pop singl cup coffe maker like cup innov octaflow plu spray head system evenli distribut hot water throughout entir cup ensur coffe ground steep perfect built perman stainless steel micro mesh filter give durabl reli everi morn save money reduc environment impact stay bpa free rins clean sink second',\n",
       " 'coffe peopl donut shop coffe keurig cup brew system origin donut shop coffe rememb good ol day sweet full bodi american classic box cup per case pack total cup use keurig brewer',\n",
       " 'arizona diamondback ultim hand',\n",
       " 'super smash bro nintendo wii get readi play favorit nintendo charact super smash bro nintendo wii matter game charact everyon love mario samu pikachu get togeth wii game blow mind action pack game take charact turn warrior head battl classic video game inspir happen game give new war wage yet familiar territori charact prais super smash bro examin http www examin com review super smash bro wii review embarrass rich ny nintendo fan digit paradis gamesbeat http venturebeat com super smash bro wii nintendo masterpiec youll play year review hen play smash bro friend noth better wii version fantast addit seri otenti best entri franchis yet uper smash bro wii system best game yet one best multiplay experi avail one nintendo finest achiev destructoid http www destructoid com review super smash bro wii phtml uper smash bro wii might best iter yet ne best look game market us gamer http www usgam net articl super smash bro wii review wit true form ign http www ign com articl super smash bro wii review gift keep give video game condit new batteri batteri use genr adventur fight battl player platform nintendo wii publish nintendo develop nintendo',\n",
       " 'sunbeam channel velvet plush electr heat blanket full queen lagoon blue indulg rich soft sunbeam channel velvet plush heat blanket full queen lagoon blue bsv lfq beauti ultra soft velveti fabric smooth touch stylish channel pattern hem edg finish blanket sophist wrap luxuri warmth throughout night person heat set prepar rest night sooth comfort eleg thermofin warm system blanket monitor temperatur auto adjust keep level warmth consist throughout night sunbeam blanket smart way cut energi cost well allow save percent year heat bill turn heat blanket set thermostat percent hour sleep made percent polyest blanket present soft surfac smooth sooth touch blanket includ heat level easi oper control make simpl find exactli right set blanket avail twin full queen king size dual control split element queen king size easi care blanket fulli machin washabl dryer safe also includ limit warranti sunbeam twin singl heat control full queen dual heat control king dual heat control featur america electr heat blanket turn thermostat still relax warmth comfort easi use multi set control channel velvet plush extra soft plush comfort fabric made percent polyest includ limit manufactur warranti sunbeam',\n",
       " 'lumenno vienna collect light bronz gold silver wash chandeli vienna collect light chandeli featur bronz gold silver wash finish complement mani tradit decor crystal teardrop accent add interest complet look',\n",
       " 'insten samsung galaxi note usb data cabl oem et dq samsung white usb data cabl samsung galaxi note oem et dq charg cell phone usb high speed data cabl',\n",
       " 'women paper crown lauren conrad britton tea length crepe dress medium grey two tier design further flowi movement winsom crepe dress suspend delic strap finish midi length hem',\n",
       " 'wave spiral combin cabl lock keep bike possess secur lock wave spiral combin cabl lock power cabl bike lock loop bike wheel frame attach bike bike rack street sign also great secur outdoor item sturdi construct easili stand element perfect cabl bike lock busi bicyclist go',\n",
       " 'vaniti fair reissu paperback two heroin one humbl scheme meet board school embark differ live experienc affair love war rise fall fortun classic studi dog pursuit wealth statu reissu vaniti fair thackeray panoram satir saga corrupt level english societi publish set napoleon war chronicl live two women could differ becki sharp orphan whose resourc vast ambit nativ wit loos moral schoolmat amelia sedley typic naiv victorian heroin pamper daughter wealthi famili becki fluctuat fortun eventu bring affair amelia dissolut husband kill waterloo amelia child left penniless becki husband rawdon crawley rise world manag lead high life london sole basi shrewd chapter entitl live noth classic thackeray subtitl novel without hero underst case view human novel distinctli bleak deliber antihero critic time misunderstood book decri among thing viciou vile odiou vaniti fair endur one great comic novel time landmark histori realism fiction',\n",
       " 'nespresso citiz espresso machin titan savor flavor espresso nepresso citiz espresso machin practic yet power espresso maker preheat second simpl design ideal new wonder nespresso straightforward backlit led power cup button plu nespresso capsul cinch get sleek slim singl cup coffe maker compact silhouett fit practic counter space also auto shutoff easi fill water reservoir patent high pressur extract system preserv favorit blend subtl flavor aroma top smooth thick crema abl delici espresso whenev want also enjoy urban design nod modern retro inspir add nespresso aeroccino milk frother creat lusciou latt cappuccino capsul varieti pack includ us ti ne cup capac capac volum oz featur milk frother steamer wand separ milk reservoir materi plastic safeti secur featur auto shut includ electr frother steamer pot beverag pod batteri batteri use dimens product weight lb assembl detail assembl requir',\n",
       " 'wagan amp jump starter honor trade ltd wagan tech wagan tech amp batteri jumper tm air compressor peak jump starter power recharg ah lead acid batteri heavi duti booster clamp extra long gaug booster cabl psi high power air compressor quick flow inflat tire min min usb power port dc',\n",
       " 'presto quart stainless steel pressur cooker presto quart stainless steel pressur cooker offer ergonom design stay cool black plastic handl come fulli equip lock lid vent releas steam pressur indic overpressur plug prepar meal three time faster cook microwav busi week use make mani favorit meal veget dish meat chicken fish food heat content reach ideal temperatur hold essenti nutrient heavi duti pressur cooker becom reliabl option famili everyday meal craft qualiti stainless steel cookwar featur triclad base quick even distribut heat exterior polish look easi maintain regular clean presto pressur cooker excel choic hous warm wed registri gift',\n",
       " 'dr scholl women wiley wide width walk shoe dr scholl comfort technolog built insid',\n",
       " 'keurig swiss miss milk chocol hot cocoa cup count use keurig cup brew system keurig swiss miss hot chocol cup delici chocolati beverag hot cocoa cup count made premium cocoa nonfat milk measur exact specif beverag sure warm spirit tast bud keurig swiss miss milk chocol hot cocoa cup milk chocol cocoa mix made care real dairi milk chocol cup made premium cocoa nonfat milk perfect cup contain swiss miss cup',\n",
       " 'cuisinart dcc bk cup classic thermal programm coffeemak black',\n",
       " 'soni playstat psp email deliveri playstat network code fill psn wallet cash allow download new game dlc video well stream movi music download latest game add on playstat network code allow download ton great ps game ps vita game exclus psn titl expand game experi new dlc access favorit movi music rent purchas latest greatest movi show avail choos million song video stream instantli favorit devic connect million start play take game next level download latest multiplay map mission charact play onlin friend ton playstat gamer',\n",
       " 'haier cu ft refriger rca cu ft microwav valu bundl enjoy ad conveni black decker refriger microwav bundl set ideal colleg bound student housewarm gift black decker cu ft refriger featur dispens storag system crisper black decker cu ft refriger rca cu ft microwav valu bundl come refriger dispens storag system crisper enough room accommod liter bottl microwav watt cook power power level black decker refriger ideal colleg student roommat household',\n",
       " 'stainless steel contemporari coat rack stylish contemporari bold coat rack featur wavi stainless steel frame black finish wooden knob sturdi marbl base perfect ad organ space trendi rack sure make statement',\n",
       " 'bell ballist armor bike lock featur attach handlebar materi steel wire steel care clean wipe clean weight lb batteri batteri use assembl detail assembl requir',\n",
       " 'frigidair profession slice infrar convect toaster oven stainless steel cook toast whole meal frigidair profession slice convect toaster oven small applianc provid powerplu convect cook rapid cook infrar technolog help save time matter make technolog cook food quickli effici spend less time wait pro select lcd display bright easi read display differ cook option right fingertip stainless steel toaster oven fit six slice bread inch pizza posit cook rack easili adjust crumb tray remov need clean frigidair profession infrar convect toaster oven come pizza pan bake pan readi use right box frigidair profession slice infrar convect toaster oven stainless steel infrar rapid cook technolog make cook faster powerplu convect cook evenli pro select lcd display bright easi read preset cook option powerplu preheat heat quickli fit slice bread pizza easi clean non stick interior',\n",
       " 'kichler olympia light wall sconc old bronz sunset marbl glass',\n",
       " 'boy dc shoe pure black grey yellow kid pure featur heavi duti soft resili upper metal eyelet lace lock foam pad tongu collar lightweight mesh tongu vulcan construct also abras resist sticki rubber outsol multi tone bottom dc trademark pill pattern sole design allow comfort walk age featur either leather canva upper',\n",
       " 'white shimano cm aluminum road commut bike race bicycl speed',\n",
       " 'wilson pudg bag wheel wilson pudg bag wheel featur extra larg main compart equip side pocket organ valuabl accessori separ bat sleev hold bat wide set wheel reinforc hous abras resist reinforc wear panel bottom bag pad unigrip handl neopren comfort grip handl load unload meet check luggag requir major airlin',\n",
       " 'child boy white werewolf costum california costum medium child boy white werewolf costum includ charact mask shirt attach fur medium',\n",
       " 'rival pbwmime qt ice cream maker electr ice cream maker patent tripl motion action dasher system rpm commerci grade univers motor wood bucket manufactur select pine bucket bound galvan hoop pbwmime qt ice cream maker quart',\n",
       " 'women glamoris sport bounc cami bra black fuller bust women seek upper bust control full coverag medium impact support open mesh cami design provid breathabl upper bust contain activ workout reinforc wire free cup provid except support comfort moistur wick fabric keep cool dri made hondura special featur run',\n",
       " 'lego star war jedi scout fighter protect vital holocron dark side jek streamlin jedi scout fighter lift rear hatch stash contain holocron lightsab place clone trooper jek co pilot dual cockpit open two way astro mech droid posit behind unleash awesom armori includ spring load shooter elev rotat cannon rear recreat thrill scene lego star war yoda chronicl anim speial action get hot handl detach cockpit turn escap pod guard holocron life includ minifigur assort weapon jek ithorian jedi master plu astro mech droid ra protocol droid',\n",
       " 'button shape cake chocol silicon mold bake pan bake treat shape button silicon pan mold versatil easi manuev use make cake ice cube jelli chocol etc mess fuss',\n",
       " 'maxi matic drc elit platinum cup stainless rice cooker black cook perfect rice everi time use cup rice cooker cook two cup delici rice enjoy benefit fill food low fat reduc calori high fiber nutrient maxi matic cup rice cooker perfect quick decis meal fast side dish stainless steel rice cooker work kitchen add someth make life easier overal maxi matic rice cooker make cup cook rice eat meal',\n",
       " 'biddeford microplush electr blanket snuggl winter biddeford microplush heat blanket indigo ultrasoft microplush materi irresist cozi biddeford goe step beyond give electr blanket two separ control ultim comfort control whether ad layer bed want cuddl couch person heat blanket go transform frosti night toasti dream',\n",
       " 'nwt hello kitti backpack cute',\n",
       " 'fal ez clean sandwich waffl maker fal ez clean sandwich waffl maker make wonder addit kitchen allow make delici waffl fantast sandwich delici pocket sandwich grill chees two set interchang non stick plate includ fal waffl maker one waffl one sandwich easi remov sandwich waffl maker dishwash safe make easi clean built indic light alert machin heat readi go ez clean fal sandwich maker make custom sandwich waffl simpl sure becom much use tool kitchen',\n",
       " 'bottl wine tower rack shelv bottl wine tower excel addit home bar home wine enjoy classic tower provid way store wine accessori style wine storag rack featur individu drawer hous bottl wine tower larg drawer store bar accessori two shelv top provid ampl room place open bottl plate decor item hang rack bottl wine tower let conveni display wine glass ad conveni quickli easili assembl wine rack tower construct solid wood strength durabl classic eleg yet simpl design piec enabl fit well varieti decor style would work kitchen dine room bar area almost home',\n",
       " 'evanes women jersey cocktail dress enhanc person style jersey cocktail dress women cloth boast inset empir waist casual dress featur versatil work day nighttim',\n",
       " 'batman hurrican ride along innov durabl featur sporti design batman go kart give authent drive experi let driver control pedal power custom ergonom mold seat adjust equip high backrest comfort safe sit posit speed kept check even curv easi use handbrak ride great encourag physic activ build strength endur coordin child brand warner brother model materi steel plastic rubber batman graphic dimens inch long inch wide inch high weight pound assembl requir dimens warranti year manufactur materi steel plastic rubber model brand dc comic',\n",
       " 'italian sterl silver twist roc chain necklac italian sterl silver twist roc chain necklac rug design attach lobster claw clasp ideal ad pendant effect creat person',\n",
       " 'lorel mahogani wall clock lorel wall clock quartz',\n",
       " 'mlb dodger neck pillow multicolor mlb dodger neck pillow multicolor let sleep go love total comfort blue neck pillow adorn red white dodger logo name travel pillow shape fit perfectli around neck dream yet anoth dodger win soft spandex exterior smooth skin firm yet flexibl fill polystyren bead dodger pillow perfect companion travel fabric spandex fill polystyren bead',\n",
       " 'nike wild trail women run shoe',\n",
       " 'supima cotton bath robe warm comfort supima cotton bathrob give cozi relax cover cold day step bath robe ideal loung sofa bed read favorit book watch televis',\n",
       " 'clear vinyl id badg holder punch horizont clip box detail id badg holder secur id card made clear sturdi vinyl punch chain clip use holder per box horizont clip sold pack stock number upc',\n",
       " 'trigger quick chang key clamp capo acoust electr classic guitar black',\n",
       " 'palmer cocoa butter formula massag stretch mark cream oz treat skin palmer cocoa butter formula massag stretch mark cream design help prevent reduc appear stretch mark palmer cocoa butter lotion also contain nourish vitamin collagen elastin shea butter palmer cocoa butter formula massag stretch mark cream oz cocoa butter lotion stretch mark contain vitamin collagen elastin shea butter bodi lotion help prevent reduc stretch mark ideal pregnant women ingredi water aqua theobroma cacao cocoa extract glycerin glyceryl stearat peg stearat isopropyl lanol isopropyl palmit propylen glycol dimethicon lanolin alcohol lanolin stearic acid bentonit theobroma cacao cocoa seed butter miner oil paraffinum liquidum microcrystallin wax cera microcristallina cetyl alcohol stearyl alcohol tocopheryl acet solubl collagen hydrolyz elastin diazolidinyl urea disodium edta methylparaben propylparaben limonen linalool caramel fragranc parfum',\n",
       " 'bend skeleton print unfram paper poster gicle unfram paper poster gicle illustr andrea vesaliu year theme medic anatomi vertic portrait orient art type fine art print canva frame wall art gicle print canva countri origin belgium isbn canvas ship readi hang wood stretcher heavi duti except unstretch canva',\n",
       " 'ct round diamond prong miracl set promis ring sterl silver style promis ring set sterl silver carat total weight ct stone descript round white diamond ct stone descript round white diamond ct set type prong band width care clean avoid household cleaner clean jewelri cleaner wipe clean dri cloth profession clean',\n",
       " 'dual mattress topper white except memori foam mattress topper bring plush comfort sleep surfac bed featur two inch suretemp memori foam layer top two inch fiberfil pillowtop layer attach stretch fit bedskirt keep secur place result plush like feel combin therapeut support pressur point relief bodi need rest night sleep',\n",
       " 'ray ban sunglass rb gold blue mirror mm brand ray ban made import product frame matt gold len crystal green mirror multilay blue gender unisex condit new eye mm bridg mm templ mm',\n",
       " 'martin diamond mobil taboret lightweight conveni martin diamond mobil drawer taboret ultim storag solut home artist crafter econom space yet load featur sturdi metal frame firm melamin top suppli use six ampl size drawer store addit materi',\n",
       " 'thule str van backpack tsbp contemporari commut backpack dedic technolog storag expand compress accommod varieti gear pad dedic compart protect macbook pro ipad safeedg construct line macbook compart superior bumper protectioncrush proof safezon compart sunglass scientif calcul plu dedic phone pocketremov safezon compart versatil storagesuitcas style open provid easi pack locat itemspl gusset front panel allow flexibl storag capacityperson organ smaller accessori compris multipl storag pocket key fobbas compress strap also secur jacket yoga matdur water resist nylon tpe back water resist ykk zipperstwo side mesh pocket water bottl accessori',\n",
       " 'pittsburgh pirat mlb pittsburgh pirat offici mlb diamet vinyl car decal wincraft offici licens team logo decal self adhes back decal perfect varieti surfac includ car bumper window measur made usa',\n",
       " 'italian ventil memori foam pillow italian ventil memori foam pillow offer superior comfort cradl contour head neck manufactur milan itali pillow featur uniqu vertic ventil chamber increas airflow cooler relax sleep',\n",
       " 'eucalyptu fold dine esta mesa para exterior tien do base de apoyo que se pueden mover con facilidad para sosten una amba seccion de la part superior con tablilla se pueden plegar amba seccion para un almacenamiento sencillo',\n",
       " 'wave bike lock pd combin pad lock wave bike lock pd combin pad lock pd combin lock made mm harden steel shackl digit combin chang prefer secur code wave lock secur product design daili commut mind',\n",
       " 'sunbeam electr qt wooden ice cream maker black target home kitchen kitchen applianc see kitchen applianc sunbeam electr qt wooden ice cream maker black sunbeam electr qt wooden ice cream maker black mous imag zoom sunbeam electr qt wooden ice cream maker black go demo section reg save sale read review quantiti add product essenti learn target year replac plan cover item add cart stock onlin find store sold store note price promot style avail may vari store onlin must return within day ship date see return polici detail add registri add list share overview specif review ship return detail creat good old fashion fun conveni electr crank churn scoop plenti ice cream friend famili ice cream maker quart capac design authent style wooden bucket hold ice rock salt number piec includ instruct manual capac volum qt featur indic light materi aluminum wood finish smooth care clean hand wash',\n",
       " 'women sterl silver bead chain necklac',\n",
       " 'hablando sola color chang tote bag',\n",
       " 'food ounc peppermint essenti oil pack peppermint brisk aroma enjoy centuri aromatherapeut culinari applic peppermint taken intern properli dilut peppermint oil percent pure steam distil fresh peppermint leav',\n",
       " 'sivan health fit nbr yoga mat red durabl sivan health fit nbr yoga mat featur cushion non slip surfac mat washabl lightweight ideal yoga stretch flexibl exercis made durabl nbr foam non skid ridg stabil comfort mat extra thick dens provid adequ pad hold extrem well time measur inch wide inch long millimet thick well made sivan health fit nbr yoga mat add comfort yoga workout',\n",
       " 'lego star war jabba palac play set',\n",
       " 'newmetro design ka thr kitchenaid tilt head bowl lift mixer red ultim hand free mix bake prepar new patent beaterblad wing system design act like wiper blade continu scrape side bottom bowl mix virtual elimin hand scrape batter build thu cut mix time much your done mix beaterblad also spatula care use beater blade top rack dishwash safe use bottl brush clean insid neck recommend bread dough extra thick cooki dough frozen food batter becom thick beat revert tradit flat beater red trim ka th work kitchenaid quart tilt head mixer batter build blade perfect cake cooki frost compound butter meatloaf pie fill mash potato made usa certifi ansinsf tilt head stand mixer made polycarbon proprietari thermo plastic elastom dimens sku nwmto',\n",
       " 'dream seren trugel memori foam pillow dream seren trugel memori foam pillow percent polyest cover washabl remov use protect dirt damag regular use inner fill made percent polyurethan foam percent gel memori foam bed pillow conform shape head ad comfort also featur contour support design neck cool layer gel transform temperatur balanc comfort zone headrest elev pressur point relief cool effect ideal tire stress muscl also good everyday relax regul sleep pattern gel memori foam bed pillow help refresh mind bodi spirit everi night bedtim bring sleep accessori travel ensur proper night sleep go give sooth rest dream seren trugel memori foam pillow',\n",
       " 'afterglow agx licens wire headset xbox green afterglow agx offici licens headset use xbox headset featur fulli adjust design ear cup slide disconnect headband power mm neodymium driver full rang audio profession tune mechan acoust design depth rich clariti sound plush anatom contour polyurethan ear pad provid ad comfort extend play afterglow agx licens wire headset xbox power mm neodymium driver flexibl detach nois cancel microphon line control game chat volum fulli adjust design anatom contour polyurethan ear pad green',\n",
       " 'dell black xp desktop pc intel core processor gb memori gb ssd tb hard drive window profession monitor includ dell xp desktop intel core processor everyth need comput microsoft window profession let complet task',\n",
       " 'nook hd stand black custom design cover trim ultra modern way protect nook hd textur polyurethan exterior match stitch rug pleas touch insid lightweight sturdi plastic shell cradl devic secur allow easi access control part stori easili turn cover stand lock small tab side shell special engin slot insid front cover view screen type mode landscap prefer read mode portrait problem shell swivel full degre allow chang orient sued line deboss nook logo put finish touch excit product compat barn nobl nook electron reader featur view stand materi polyurethan protect qualiti bump resist scratch resist',\n",
       " 'fade glori women print infin scarf beauti fade glori infin scarf sure compliment outfit denim accessori must season fade glori women print infin scarf polyest soft lightweight materi assort color print multipl way wear',\n",
       " 'pittsburgh pirat subway sign frame auth dirt pnc park pittsburgh pirat vintag style subway sign rather show stop along subway line show stop along pirat histori subway sign come frame measur dirt authent mlb authent piec guarante authent steiner sport',\n",
       " 'first pillow memori foam toddler pillow free pillowcas',\n",
       " 'bird chevron seed feeder beauti uniqu ellipt metal shape classic chevron design revers plastic insert convert feeder finch feeder wide mouth design offer easi fill educ elimin spillag larg integr perch allow easi feed hold pound seed',\n",
       " 'insten temper glass screen protector lcd guard shield samsung galaxi packag includ temper glass screen protector descript temper glass screen protector note compat samsung galaxi devic lcd screen window virtual soul keep clean clear protect reusabl screen protector film materi glass thick mm super slim premium temper glass screen protector special process chemic treat reinforc glass increas shock absorb protect screen scratch knive key offer superior durabl scratch prevent resist fingerprint smudg silicon adhes featur easi instal firm attach affect sensit screen',\n",
       " 'blendtec wildsid total blender refurbish total blender replac nine applianc one fast easi use machin larg blade squar jar combin power tougher blend task eas less time patent blade make larger serv blend whole food eas amp peak horsepow motor direct drive motor solid state electron brand blendtec includ item total blender classic motor base four side jar vent gripper lid recip book owner manual type blender finish glossi option black white red style recondit total blender wildsid set push cycl button total blender classic automat speed slow shut cycl complet recip turn perfect everi time wattag watt capac ounc model tb recond dimens inch high inch wide inch deep',\n",
       " 'david king leather backpack style cross bodi bag cafe look great even work bust enhanc sport bra made nylon spandex bra comfort well chic option grey blue pink print stripe closur pullov line unlin',\n",
       " 'kitchenaid ksm pslr lavend quart artisan tilt head stand mixer rebat outfit kitchen style function beauti artisan stand mixer kitchenaid featur tilt head design speed option model come quart metal mix bowl charm lavend finish brand kitchenaid includ item one mixer one quart metal bowl type stand mixer finish glossi option lavend style tilt head set mix speed wattag watt capac quart model ksm pslr dimens inch high inch wide inch deep',\n",
       " 'rose plate silver black diamond penguin necklac cute penguin necklac guarante love anim lover singl black diamond set black rose rhodium plate pendant',\n",
       " 'sandisk gb sd memori card blue sdsdb easili recov delet photo video rescuepro recoveri softwar includ sandisk memori card simpli plug memori card comput via adapt begin run program rescuepro softwar automat scan card find lost file save comput hard drive even file damag delet month ago preciou moment believ lost recov protect memori sandisk memori card',\n",
       " 'melissa doug disney sleep beauti snow white wooden magnet dress magnet piec kid mix match creat one kind fashion wooden dress princess come signatur fashion wear share plu piec children need make style imagin love make fashion stori star sleep beauti snow white',\n",
       " 'kelti weather women medium rain jacket women kelti jacket great weather featur love periwinkl hue rain wind proof well lightweight wonder backpack outdoor activ',\n",
       " 'kent bicycl foot heavi duti chain lock three feet long mm link kent heavi duti chain lock featur protect nylon canva wrap ensur bike stay scuff free lock made toru shape oblong link carbon steel black',\n",
       " 'fossil jewelri women stainless steel necklac',\n",
       " 'ihom wireless usb chargeabl portabl bluetooth speaker assort color bring parti wherev go ibt expand bluetooth mini speaker ibt two audio sourc bluetooth wireless audio stream mobil devic ipad iphon ipod touch android blackberrri smartphon direct line via includ cabl decvic headphon jack speaker featur headphon jack usb chargeabl speaker includ wire connect bluetooth includ usb cabl batteri batteri use',\n",
       " 'casebound notebook hardcov',\n",
       " 'logitech wireless desktop mk keyboard mous set long rang ghz wireless give power reliabl connect even crowd wireless environ easi carri mous full keyboard mean comfort control want home one go',\n",
       " 'rachael ray stainless steel ii piec cookwar set',\n",
       " 'fathead jr batman detect comic book cover wall decal give child action pack decor bedroom play space high qualiti batman vinyl wall decal rip tear resist damag wall child love see favorit action charact right room materi high grade vinyl set includ one sheet assort graphic one squeege set indoor dimens assort sheet inch high inch wide care instruct appli graphic clean smooth interior surfac',\n",
       " 'belkin socket offic seri surg protector cord home seri offer surg protect gener electron home applianc model boast joul maximum spike amperag outlet lifetim connect equip warranti',\n",
       " 'sofia first royal curtsi dress warn choke hazard small part small part suitabl children year learn curtsi like princess sofia beauti royal curtsi dress perfect dress littl princess learn royal curtsi satin ruffl detail pink lavend shimmer print make littl girl feel like true princess dress also featur princess sofia icon necklin littl princess look like princess sofia sofia first royal curtsi dress learn curtsi like princess sofia beauti royal curtsi dress perfect dress littl princess learn royal curtsi satin ruffl detail pink lavend shimmer print dress also featur princess sofia icon necklin fit size',\n",
       " 'patio umbrella round crank patio umbrella blue california umbrella ft steel push button tilt olefin patio umbrella featur steel wire rib perfect patio style canopi simpl crank open aluminum frame make vintag design easi use even includ push button tilt featur choic olefin fabric color allow wealth choic realli fun space california umbrella california umbrella known produc high end qualiti patio umbrella frame year california umbrella trademark immedi recogn standard engin innov among brand unit state leader industri california umbrella str ive provid product servic satisfi even demand consum california umbrella dedic provid artist innov fashion consciou high qualiti product need foot patio style canopi steel wire rib aluminum center pole easi open crank mechan push button tilt',\n",
       " 'philosophi eye hope multitask eye cream philosophi eye hope multitask eye cream help reduc look fine line wrinkl dark circl puffi dehydr',\n",
       " 'giorgio beverli hill silver jean men ounc eau de toilett spray introduc design hous giorgio beverli hill silver jean classifi masculin scent',\n",
       " 'kitchenaid classic plu tilt head stand mixer empir red ksm er',\n",
       " 'lo us quick chang clamp key capo acoust electr classic guitar black',\n",
       " 'men dc shoe pure tx black gum pure tx take dc pure shoe reconstruct use canva upper tongu heel collar foam pad comfort support upper also featur vent hole breathabl well metal lace eyelet perform wrap cup sole incorpor dc dgt rubber durabl grip',\n",
       " 'barbi royal bride doll barbi fan love barbi royal bride play set barbi seri set includ barbi sparkli pink accent wed gown bouquet overs wed ring fit child small finger featur remov cloth includ flower doll accessori doll costum doll articul articul materi fabric plastic textil materi fabric plastic dimens weight lb suggest age year care clean wipe clean damp cloth warranti descript year limit warranti year limit manufactur warranti',\n",
       " 'wrangler men long sleev woven shirt woven shirt wrangler front button long sleev collar',\n",
       " 'levi boy huntington cargo short levi boy cargo short meant keep busi son design comfort mind soft lightweight short relax fit featur khaki tradit waist belt loop come fabric belt button closur cargo back',\n",
       " 'men modern look khaki pant windowpan plaid flat front design slim fit give docker men khaki pant sharp contemporari style keep look date crisp plaid pant transit easili work weekend lightweight cotton rich construct make pant comfort easi wear singl button closur zip fli flat front slant front pocket welt front pocket rear button close welt pocket slim fit woven construct fabric cotton care machin wash import',\n",
       " 'jasmin vanilla handmad scent dri oil perfum',\n",
       " 'nostalgia electr old fashion quart ice cream maker make homemad treat like use made quart ice cream maker nostalgia electr maker come fun pistachio green clear lid easili view desert made aluminum canist plastic bucket brand nostalgia electr type electr ice cream maker finish pistachio style old fashion wattag capac two quart model icmp pist dimens inch high inch wide inch long',\n",
       " 'women nomad hurrican ii rain boot red rain rain go away sing song anymor hurrican come design eager jump puddl durabl water resist rain boot friendli side note nomad rain boot water resist waterproof intend extrem weather condit shaft height circumfer fit true upper rubber special featur water resist',\n",
       " 'uttermost stockton white rescu denim rug stockton blue rescu denim rug construct handwoven rescu white blue denim contemporari style wool rug add eleg touch home decor rug recommend high traffic area',\n",
       " 'la leela dark blue coconut tree aloha surf beach hawaiian shirt men swim camp stylish hawaiian shirt la leela construct percent likr comfort fit beach print add perfect touch relax',\n",
       " 'danskin women dri shelf bra racerback tank pack get cool comfort danskin dri racerback tank shelf bra classic women racerback tank built shelf bra neck made moistur wick fabric draw perspir away bodi tank ideal everyth yoga pilat run jog speed walk danskin tank also media player pocket listen favorit music work',\n",
       " 'nike ladi lunar duet sport golf shoe lunar duet sport shoe nike clean design high perform featur upper made protect canva contrast detail full length lunalon foam sockin cushion support foot keep comfort walk cours spikeless sole rubber traction lug strateg place reduc pressur enhanc traction',\n",
       " 'men adida get readi eau de toilett spray oz wild spontan passion adida get readi captur essenc brazil tropic fusion fresh juici fruit contrast sensual wood',\n",
       " 'mini suit luxuri genuin leather wallet case appl iphon giftbox dustbag minisuit new luxuri leather wallet case featur design intuit exclaim smart function innov case protect cover also wallet hidden insid execut look feel fashion meet function cover hug mobil phone execut look feel protect accident bump scratch elimin bulki pocket purs case allow hide id card credit card even money carri fewer item whether go meet commut loung wow friend famili cowork one kind case wallet put money belong accessor minisuit luxuri leather wallet case today',\n",
       " 'inch long crystal punch ladl beauti delic took sever time get unbroken well worth effort punch bowl gorg',\n",
       " 'fosmon nintendo wii gamepad power charg ac adapt input ac output keep nintendo wii gamepad charg vacat simpli away home replac old lost one charger let charg devic provid unlimit play time plug wall charger plug right wall ac plug outlet plug never heat overcharg batteri never run power away home',\n",
       " 'toshiba canvio slim tb extern hard drive toshiba canvio slim ii portabl extern hard drive ideal take storag go drive offer high capac storag slim sleek brush aluminum design perfect companion ultrabook store backup canvio slim ii let store file central place next comput give easi access file whenev need whether home away home get peac mind know data protect includ nti backup ez softwar scan window oper system offer customiz backup option comput choos back file folder cloud back file folder canvio slim ii portabl hard drive back everyth save comput choos three comprehens coverag click restor button recov file folder entir system even schedul backup run automat time day ensur file alway protect secur backup file password protect data encrypt bit help keep backup safe prevent unauthor access',\n",
       " 'shabbi chic indoor outdoor candl crystal acryl chandeli',\n",
       " 'fido runner everi dog need home give love ensembl bed item patch magic perfect home featur runner top decor finest qualiti cotton product hand layer hand quilt place set machin washabl line flat dri distress dimens small lb larg lb',\n",
       " 'dirt devil swift stick red vacuum cleaner upright swift red stick vacuum cleaner ideal daili clean hard floor quick pick up carpet rug innov dirt cup empti push button lightweight design low profil mean easi get around furnitur stair crevic tool floor tool easili exchang total clean floor right baseboard around tricki corner easi store slim design',\n",
       " 'sandisk gb micro sd card dual adapt sandisk gb micro sd card offer easi afford way expand mobil devic onboard memori featur addit storag space app photo video sandisk gb micro sd card complet compat mobil phone laptop tablet devic support micro sdhc format design withstand toughest condit sandisk microsd microsdhc memori card waterproof shockproof ray proof oper temperatur rang degre fahrenheit enjoy mobil media almost climat even devic surviv sandisk memori card compat mobil phone laptop tablet devic memori card instantli add storag space devic microsd microsdhc memori card slot expand memori smartphon tablet mean captur photo video enjoy favorit music wherev go applic photo video music carri file mobil phone laptop tablet devic support micro sdhc format black plastic model sdsdqm dual includ item micro sd card sd adapt mini sd adapt dimens inch wide inch high weight ounc',\n",
       " 'lipstik girl fuchsia white metal gold paint bubbl tank dress feel like star bubbl tank dress lipstik racer back tank dress fuchsia white horizon stripe detail metal gold paint splatter throughout bubbl hem tier ruffl coordin accent made poli spandex blend stretch fun parti dress summer night',\n",
       " 'solar solpl pro logix amp automat batteri charger model pl solar pro logix automat batteri charger control sever variabl phase charg process ensur batteri get optim charg mean batteri charg better faster avoid damag batteri weight lb manufactur solar packag dimens ship separ warehous may requir extra time deliveri',\n",
       " 'levi women petit skinni bootcut indigo rins jean deep beauti indigo rins give boot cut jean appeal varieti outfit classic style levi women jean embodi zipper fli embroid pocket contrast stitch complementari fit',\n",
       " 'home imag person electr parti grill feed eight peopl versatil cooker person creat recip cook prefer adjust temperatur control',\n",
       " 'trend lab owl wall clock',\n",
       " 'portabl pocket projector portabl pocket projector modern day miracl micro miniatur imagin projector inch deep inch wide less inch tall throw imag inch inch diagon',\n",
       " 'knee har boot wide width take footwear new height fabul knee black boot cool strap har around ankl faux leather boot side zip entri elast calf easi slip style calf fit fit measur tall heel man made materi import final sale return exchang',\n",
       " 'panason wet dri shaver es rw es rw panason electr shaver well suit shield particularli sensit skin provid smooth shave trustworthi transport panason es rw gentl shave mechan avoid irrit raw feel skin particularli tender area panason electr shaver ideal rid stubbl special design sustain wonder suppl skin except shave time featur men electr shaver help make sure consist receiv mani complet shave without deplet power plu panason es rw featur precis blade enjoy smooth shave month end',\n",
       " 'green toy recycl truck get kid excit recycl green toy recycl truck eco friendli toy recycl truck look like real thing side chute movabl recycl bed open shut rear door plu awesom green toy made recycl plastic milk contain teach kid recycl basic toy put recycl practic',\n",
       " 'black labrador clock great home decor labrador hold clock uniqu timepiec classic roman numer clock hang dog mouth dog stand golden tone bone shape base craft composit materi finish antiqu bronz black sterl industri special bring creativ imagin decor home accessori sterl design innov qualiti manufactur ensur product stylish demand',\n",
       " 'mobo triton pro ultim three wheel cruiser adult silver safeti flag includ optim visibl ergonom design cruiser recumb style design reduc shoulder arm stress innov steer system balanc need blue metal orang red overal height top bottom inch dimens',\n",
       " 'sienna pc comfort set queen sienna pc comfort set queen sienna comfort set featur warm brown diamond pattern give home dose welcom style craft plush microfib polyest overs comfort come sham decor pillow bed skirt set includ one comfort two sham one bed skirt two decor pillow two euro sham style tradit fabric detail print pattern solid bedskirt drop length inch option multi brown materi percent microfib polyest fill materi polyest hypoallergen care instruct machin washabl queen comfort dimens inch wide inch long sham dimens inch wide inch long bedskirt dimens inch wide inch long inch drop squar decor pillow inch wide inch long boudoir decor pillow inch wide inch long euro sham inch wide inch long king comfort dimens inch wide inch long sham dimens inch wide inch long bedskirt dimens inch wide inch long inch drop squar decor pillow inch wide inch long boudoir decor pillow inch wide inch long two euro sham inch wide inch long digit imag display accur possibl',\n",
       " 'dough support low loft firm memori foam pillow dough pillow construct memori foam comfort night sleep regardl sleep prefer pillow design elimin pain pressur point',\n",
       " 'advantag ii small dog flea lice topic treatment ct advantag topic flea treatment small dog treat prevent control flea lice infest canin monthli use dog puppi week older weigh lb bayer advantag flea treatment lice treatment kill flea life stage within hour applic',\n",
       " 'zippo high polish chrome delux hand warmer fill cup pouch',\n",
       " 'klimt chic hardshel iphon case teal pack',\n",
       " 'women satin neck bridesmaid dress remov flower fashion color tevolio women sleeveless dress tevolio lightweight dress avail varieti bright classic color wear dress special occas choos afford bridesmaid dress look flatter whole bridal parti knee length sleeveless dress beauti sheer layer full line dress high waist neck squar back featur remov flower conveni bra strap holder avail size',\n",
       " 'speck candyshel grip cell phone case samsung galaxi gray green spk candyshel grip case fit samsung galaxi mini textur text rubber stripe give slip grip great shoot messag back forth dual layer case patent design provid two layer protect singl piec construct easi put take impact resist hard outer shell galaxi mini cover guard impact add strength durabl shock absorb soft rubberi interior reinforc corner rubberi ridg absorb shock occasion bump drop save face rais edg help protect screen impact add grip phone lie face tabl dashboard without slide cover button rubber cover shield volum power button keep fulli access',\n",
       " 'blackhawk gen moll system shotgun shell pouch coyot tan cl fabric materi nylon coyot tan round count attach mount type moll cartridg type shot shell finish plain made usa addit featur gen moll system',\n",
       " 'threshold pinch pleat comfort set modern luxuri threshold pinch pleat comfort set make eleg addit bedroom sport uniqu pinch pleat quilt solid color subtl geometr pattern cotton comfort set comfort stylish bed set includ high qualiti soft comfort pillow sham avail blue gray lavend white full queen king size machin washabl',\n",
       " 'genuin dicki men relax fit flat front cargo pant',\n",
       " 'chain strap pvc rain boot black givenchi black givenchi found hubert de givenchi intern luxuryhous known haut coutur readi wear accessoriescollect men women sinc riccardo tisci creativ director givenchi twist code hous hich cool chic sobrieti feminin andaristocrat eleg iccardo tisci add dark romantic sensual creat silhouett combin pure line graphic structur true hous creativ heritag spirit riccardo tisci bring thenam givenchi today world project futur',\n",
       " 'girl champion hazel water shoe pink',\n",
       " 'nook hd madelin houndstooth cover classic madelein cover avail nook hd bold new houndstooth pattern print smooth durabl coat canva madelein elast closur design team chose bright red shade add live accent front cover band attach back panel pair nickel plate rivet one accent emboss logo addit secur case band keep front cover neatli way enjoy nook hd insid find charcoal sued line point talon clip keep devic firmli place easili access time',\n",
       " 'condor black moll round gaug shell shotgun reload magazin pouch thank appreci busi nbsp nbsp nbsp nbsp nbsp one inkfrog creation',\n",
       " 'lili beth golf club head cover extend life club eye catch lili beth golf head cover yellow bumbl bee vibrant cover featur lightweight waterproof design defend club even worst condit includ cover high qualiti color stitch coordin golf shoe bag sold separ lili beth golf lili beth golf bring runway fair way high fashion high function golf accessori design exclus women golfer whimsic print bright color combin best design golf world offer highli playabl accessori guarante style game golf longer boy club longer stuck equip',\n",
       " 'blueski oz soak uv gel nail polish beig cocoa',\n",
       " 'kestrel sc carbon fiber road bike cm black arm rest bar',\n",
       " 'crawford corner shop black ponytail hair clip black ponytail hair clip one fit craft black cotton great hair accessori pull back hair style clip perfect wear occas',\n",
       " 'women ann klein crystal index leather strap watch mm taup rose gold sparkl crystal polish roman numer mark index beauti watch defin pretti mother pearl dial slim leather strap style name ann klein crystal index leather strap watch mm',\n",
       " 'nutteri acorn seed feeder squirrel cat big bird resist feeder icon stainless steel acorn design made use highest qualiti materi manufactur standard complet squirrel resist easi fill clean suprem seed feeder',\n",
       " 'men beig twill dress shirt',\n",
       " 'freshwar caviti silicon chocol cooki candi pastri mold freshwar chocol mold creat chocol bear seashel circl heart shape construct flexibl silicon non stick mold use oven microwav heat resist',\n",
       " 'renogi solar bundl kit polycrystallin solar panel charg control mc adapt kit tire alway hook camper rv power grid renogi solut renogi kit stock item need make solar instal rooftop rv camper boat renogi panel back year perform warranti renogi expert stand us answer call click view addit inform solar panel also suitabl marin usag materi glass metal plastic set includ one renogi poli solar panel one adaptor kit cabl one pwm charg control dimens mm inch care instruct normal glass care',\n",
       " 'elit elit function quart electron pressur cooker',\n",
       " 'lego star war skyhopp swoop canyon tatooin high perform lego star war skyhopp contain pilot cabin adjust wing detach storag box dual spring load shooter lego skyhopp maneuver airspeed good chase womp rat target practic watch bad temper tusken raider love attack gaffi stick reliv famou star war adventur creat new one toy includ two minifigur weapon skyhopp pilot tusken raider play star war skyhopp introduc franchis children watch eye light play toy shoot bad guy avoid enemi stick hour fun entertain make lego star war skyhopp part toy collect',\n",
       " 'fitbit charg wireless activ wristband black sz larg new box',\n",
       " 'lenni nina leonard long sleev women sweater dress belt made cotton acryl dress durabl stylish avail varieti color sure match wardrob',\n",
       " 'women sport design skecher slip sneaker instantli enrich style comfort level sport women slip soft smooth solid heather finish fabric slip sporti casual comfort sneaker stitch overlay accent stitch overlay zig zag stitch detail soft fabric shoe line cushion insol lightweight midsol super flexibl outsol',\n",
       " 'slightli use medium size white iron victorian style pillar candl lantern beauti victorian style candl lantern made matt white iron accent eleg floral cutwork detail add magic ambianc even made iron clear glass panel iron loop top easi hang may sit use one pillar candl inch diamet smaller candl includ weigh littl one pound measur inch long inch wide inch high height includ hang loop',\n",
       " 'hello kitti watch women black leather strap mm wl bk hello kitti join dark side black timepiec',\n",
       " 'cuisinart cup automat coffeemak cup capac adjust shutoff fulli programm approx filter includ',\n",
       " 'men short sleev leather polo shirt daniel black larg daniel design outerwear sportswear sinc graduat hanyang univers seoul korea daniel move new york receiv fashion design degre fit graduat join robert comstock new york increas knowledg leather outerwear past year head design emanuel ungaro outerwear new york collect incorpor element outerwear sportswear use common thread fine leather luxuri uniqu fabric includ exclus develop new leather techniqu laser perfor camouflag luxuri lamb laser etch lamb mani item design achiev multi facet use give consum abil creat distinct look remov revers function',\n",
       " 'new gener kitchen rug mohawk home kitchen rug sure add comfort charm kitchen combin style function kitchen rug fit decor need non slip back safeti',\n",
       " 'order home collect pc tealight earth tone candl set bring soft illumin classic style area home decor set featur solid glass votiv holder beauti mute hue candl holder rest decor amid attract espresso wood base add ambient light room ideal ad touch style allur room candl set design indoor outdoor use polish assort river rock accent design earth tone glass bring dramat style sophist home offic packag includ rock tealight candl includ set indoor option earth tone materi plastic wood rock dimens inch wide inch deep inch high',\n",
       " 'game wear pittsburgh pirat color basebal bracelet support pittsburgh pirat game wear color basebal bracelet bracelet featur team color display team spirit subtl way',\n",
       " 'kitchenaid speed ultra power hand mixer white kitchenaid speed hand mixer come equip stainless steel beater power dc motor simpl use three power speed effortless oper easili get job done quickli get cooki cake bread oven beater eject button keep hand clean ultra power kitchen hand mixer make prepar favorit meal easi',\n",
       " 'lego star war yoda watch time jedi master kid build custom lego star war watch rearrang color link dozen differ look yoda collect watch come match yoda toy hour star war action play',\n",
       " 'zulu atla beverag bottl pink oz love rehydr zulu atla beverag bottl pink awesom bottl featur grip make easi hold whether got extra cold beverag take water break workout nifti lid snap shut spill easi hold attach backpack carri devic lid detach straw bottl easi clean water bottl hold approxim ounc dishwash safe',\n",
       " 'bulk lot white chic moroccan shabbi candl lantern holder wed centerpiec',\n",
       " 'jean paul gaultier unisex ounc eau de parfum spray',\n",
       " 'adult evil scari werewolf wolf vinyl costum mask standard great fang werewolf mask rubi great quick econom costum halloween great classic werewolf costum mix accessori creat funki wolf teen wolf great qualiti vinyl mask cover entir head slit back put great even better costum accessori store',\n",
       " 'la leela men palm tree sunset print orang beach hawaiian shirt swim camp get readi beachsid fun wear casual shirt la leela beauti print trendi button add new twist casual look',\n",
       " 'leather ottoman storag footstool coffe brown espresso bench live room',\n",
       " 'signatur levi strauss co women modern bootcut jean show bodi signatur levi strauss co women modern bootcut jean fashion jean sit natur waist comfort fit slimmer seat thigh design make look long lean tradit pocket style bootcut leg open perfect go casual dress look lighter weight extra stretchi denim provid superior comfort contour curv creat longer sexier silhouett signatur levi strauss co women modern bootcut jean avail three differ length short medium long everi woman enjoy great fit chic jean perfect look comfort style add signatur levi strauss co women modern bootcut jean closet today',\n",
       " 'hobbit unexpect journey blu ray dvd ultraviolet widescreen',\n",
       " 'tech full tang camo surviv knife inch pack tech full tang camo surviv knife inch pack camo surviv knife tech must outdoor men hunter amaz knife strap side via nylon sheath explor wilder confid full tang stainless steel blade partial serrat perfect tool outdoor situat make versatil import addit surviv gear camo surviv knife tech featur includ stainless steel full tang black coat partial serrat blade blade length inch camouflag handl overal dimens inch',\n",
       " 'bv bike buddi foot resett combin cabl lock bicycl buddi digit combin cabl lock easi set easi use make life difficult thiev set combin ever forget bike safe theft compact flexibl coil extend feet wrap around bench tree fenc',\n",
       " 'lofti quilt bedspread versatil lightweight bed option year round layer made cotton fill polyest ad loft prewash soft machin washabl lightweight versatil topper perfect layer year round use soft geometr pattern lofti textur creat look warm welcom prewash ad soft cotton shell polyest fill machin wash dri made portug',\n",
       " 'coreal piec stainless steel fri pan set show cook skill set durabl stainless steel coreal fri pan two piec set use heat sourc make versatil option kitchen',\n",
       " 'lion martial medium red art karat glove pair anladia women gradient denim distress skinni jean',\n",
       " 'sodastream genesi home soda maker starter kit black silver make perfect soda seltzer home push button transform tap water freshli made soda second sodastream home soda maker quick econom easi use fill includ reusabl carbon bottl wit',\n",
       " 'oshkosh gosh pear toddler girl sandal toddler girl pear slingback sandal oshkosh gosh littl girl look readi spring decor bow toe strap hook loop strap easi adjust pretti floral print open toe shoe dazzl favorit sundress',\n",
       " 'deflect eight pocket busi card holder capac card clear display multipl card one conveni holder design offer clear view card durabl plastic hold card per pocket card holder type busi card holder card capac card busi card clear',\n",
       " 'presto profession cooldaddi electr deep fryer serv crispi crunchi fri chicken onion ring right home cooldaddi electr deep fryer presto profession cooker design home use watt fryer offer big cup capac compact safeti featur includ cool touch exterior basket handl doubl exterior control lower food oil cover close charcoal filter reduc fri odor seal tight cover prevent splatter monitor progress easili extra larg view window remov nonstick pot make cleanup easi interior heavi cast nonstick aluminum exterior stay cool plastic hand wash import hx wx profession cooker design home use cup capac compact cool touch exterior charcoal filter reduc fri odor seal tight cover prevent splatter',\n",
       " 'singl strap school travel sport sling cross bodi navi blue shoulder bag',\n",
       " 'disney frozen slumber sling bag set slumber set could prompt longest back back frozen marathon time disney frozen slumber sling bag set made polyest toasti warm slumber featur side zipper carri bag special design temperatur degre sleep bag featur anna elsa olaf hit slumber parti',\n",
       " 'kelli comput suppli lockabl cpu holder black video cabl creat pure digit connect dvi enabl hdtv display devic hdmi enabl digit video sourc gold plate connector provid optim signal transfer premium doubl shield cabl protect outsid emi rfi nois interfer cabl type video connector port interfac dvi male hdmi male devic type home theater system connect devic digit display devic digit sourc devic',\n",
       " 'women tori burch print tunic dress white mix pattern mikado dress tori burch yarn dy mikado dress caftan necklin sleeveless shift silhouett back zip cotton silk line silk import model measur height cm bust cm waist cm hip cm dress us tori burch tori burch luxuri lifestyl brand defin classic american sportswear eclect sensibl embodi person style spirit ceo design tori burch creat stylish wearabl cloth accessori women age',\n",
       " 'samsung seri un hd led lcd internet tv',\n",
       " 'keurig mini plu cup coffe maker brewer black',\n",
       " 'pillow perfect floral fantasi raspberri foot patio umbrella pillow perfect patio umbrella featur aluminum pole eight rib construct flap stylish uv resist polyest cover offer chic yet function escap bright outdoor durabl polyest cover easili open close hand crank system tilt ad shade',\n",
       " 'rangemaxx zipper shell bag rangemaxx zipper shell bag perfect accessori shotgun shooter top pouch hold one box shotgun shell easi access lower pouch secur stow empti shell move freeli around shoot rang without worri empti shell spill end day quickli unload spent shell zipper bottom empti bag rangemaxx zipper shell bag rigid foam reinforc back made durabl denier polyest import',\n",
       " 'non iron tradit fit multicheck dress shirt',\n",
       " 'assassin creed ezio costum hoodi ezio auditor alway move stay ahead call law bring true peac justic itali result need make sure keep face cover bodi warm get pretti cold top church tower like share ezio style assassin creed ezio costum hoodi assassin creed ezio costum hoodi load super cool featur detail expans pointi assassin hood lace cuff embroideri bottom bit put latest renaiss italian hoodi fashion slip assassin creed ezio costum hoodi offici licens ubisoft assassin creed ezio costum hoodi white red cotton polyest hoodi also featur embroid detail lace cuff assassin creed logo zipper pull point assassin hood machin wash cold tumbl dri low lay flat dri import',\n",
       " 'barni coffe kitchen barni varieti pack serv coffe cup barni coffe kitchen varieti pack make perfect sampler varieti pack discov pleasur amaz blend sooth well round flavor aroma barni coffe satisfi crave someth easi classic familiar',\n",
       " 'venosan venosoft mmhg thigh silicon top close toe',\n",
       " 'holi bibl new intern version razzleberri plum italian duo tone thinlin bibl paperback lightweight compact portabl niv compact thinlin bibl perfect bibl go lifestyl design mind conveni allow carri anyth gym bag glove box backpack laptop case niv compact thinlin bibl ideal way keep god word side featur extra thin edit less one inch thick present page ideal gift give ribbon marker testimoni bibl great tuck work bag travel bag without ad extra weight bulk highli recommend toni sever bibl keep stash right place glove box desk work suitcas way never find without word god jacki',\n",
       " 'guy fieri side tang santoku red side tang cutleri offer perfect perfect blend weight balanc feel comfort hand blade expertli craft high carbon german steel hold ultra sharp edg inch santoku knife hand wash warm water mild deterg rins dri immedi includ knife sheath santoku knife blade materi stainless steel handl materi ab cutleri construct forg care clean hand wash recommend warranti descript year limit manufactur warranti',\n",
       " 'buoy beach patio umbrella ft squar beach patio umbrella aqua aluminum pole multi bb',\n",
       " 'soft wash italian black denim button shirt upscal night day work go wrong percent cotton button shirt alara luxuri addit wardrob',\n",
       " 'old fashion quart ice cream maker',\n",
       " 'xia home fashion tulip bouquet runner',\n",
       " 'lenovo geek squad certifi refurbish',\n",
       " 'wave aluminum center mount kid bike kickstand aluminum adjust safeti foot fit bike',\n",
       " 'alpin stainless steel big piec stock pot set alpin cuisin stainless steel stockpot set versatil enough cook batch chili gallon soup durabl stainless steel provid last use set come size meet larg cook need',\n",
       " 'purina kitten chow dri cat food nurtur lb bag anim feed test use associ american feed control offici aafco procedur substanti purina kitten chow nurtur cat food provid complet balanc nutrit life stage cat purina dedic year develop high qualiti product satisfi need dog cat nurtur dog food nurtur cat food purina kitten chow nurtur cat food percent complet balanc encourag healthi appetit grow kitten balanc cat food fill essenti vitamin miner nutrient found mother cat milk purina kitten chow also help support healthi brain develop',\n",
       " 'barska optic bi gx tactic sling backpack tan barska optic bi gx tactic sling backpack tan gx tactic sling backpack tanmanufactur id bi barska optic gx tactic sling backpack tan bi one main compart smaller compart intern organ ambidextr cross bodi pad shoulder sling strap system front side web system attach extra accessori top bottom handl offer altern carri posit pad back ventil channel larg velcro area attach patch name tape top access pass port side compress strap adjust velcro divid dual mag pouch includ featur pad back ventil adjust univers sling side compress strap adjust velcro dividersspecif model bi finish tan weight lb outer',\n",
       " 'lego star war desk lamp lego star war desk lamp minifigur hold led light lightsab help studi provid light work latest lego project star war desk lamp minifigur detach posabl',\n",
       " 'destini ps bungi creator halo activis publish call duti come destini next evolut interact entertain epic adventur unlik anyth player experienc destini guardian last citi earth abl wield incred power explor ancient ruin solar system red dune mar lush jungl venu defeat earth enemi discov lost becom legend destini deliv new way experi first person action game sweep adventur set within bold new univers destini featur unpreced combin cooper competit public person activ seamlessli woven expans persist onlin world',\n",
       " 'lot sandisk gb micro sd microsdhc sdhc sd class flash tf memori card',\n",
       " 'convers two fold hi youth girl gray textil sneaker shoe uk convers brand athlet shoe includ wide rang lace slip style men women dazzl array hip materi color pattern first gain fame still earn respect convers star high top canva basketbal shoe wide known simpli chuck taylor nicknam chucki basketbal player join compani promot still footwear choic mani seriou basketbal player also anyon want hip comfort casual shoe shoemak marqui convers open convers rubber shoe compani malden massachusett dedic manufactur waterproof winter footwear seven year later compani expand line includ tenni shoe expand basketbal shoe',\n",
       " 'brand new control nintendo gamecub wii black blue',\n",
       " 'yanke red dipper feeder prevent larg bird squirrel eat bird food bird feeder red feeder attract bird look great yard garden',\n",
       " 'men union logan cargo short black',\n",
       " 'danskin women dri crop leg pack valu bundl danskin women dri crop leg avail conveni pack valu bundl stylish comfort made stretch cotton come capri length leg pack includ dri moistur wick technolog antimicrobi reduc odor danskin women dri crop leg pack valu bundl pack danskin leg stretch cotton elast waistband capri length dri moistur wick technolog antimicrobi reduc odor',\n",
       " 'linksi wrt ac wireless ac router engin deliv best class network perform linksi wrt ac dual band gigabit wifi router deliv unmatch user experi ultim wifi coverag home router featur upgrad icon linksi blue black design outfit latest wireless ac platform along industri first four antenna configur power ghz dual core arm provid except signal strength rang simultan support multipl user also featur uniqu dual esata usb usb port conveni connect array devic experi lightn fast transfer speed',\n",
       " 'fish lure lunker bait tackl cabin lodg home decor kitchen rug door mat',\n",
       " 'full tang wood hunt knife sheath tactic surviv bowi',\n",
       " 'someday lovin bunker tie dye dress dress women',\n",
       " 'insten purpl case accessori samsung galaxi tab inch tablet sm',\n",
       " 'kitchenaid stand mixer pasta press attach kitchenaid pasta press attach compat kitchenaid stand mixer allow make fresh pasta home featur six interchang pasta plate attach make small larg macaroni spaghetti bucatini rigatoni fusilli white packag includ six interchang pasta plate hardwar finish stainless steel assembl requir materi chrome stainless steel plastic dimens inch high inch wide inch deep',\n",
       " 'bosch compact blender pitcher bosch blender pitcher design pure mix blend crumb make anyth soup sauc fresh nut butter babi food sandwich spread four cup capac',\n",
       " 'adesso xtream xtream speaker system wireless speaker black adesso xtream design flexibl mind doubl stand tablet smart phone turn upsid set top speaker notebook xtream util bluetooth wireless hand free audio deep bass speaker sound technolog high qualiti sound improv movi multimedia experi make flawless hand free phone call use integr omni direct microphon never run batteri power io screen meter multipoint technolog connect two devic time silicon materi better protect great look pair portabl make perfect companion tablet smartphon notebook comput',\n",
       " 'viscofresh memori foam ventil pillow standard',\n",
       " 'marvel amaz spider man marvel legend infinit seri amaz spider man action figur build fieri green goblin figur part come cool marvel legend infinit seri figur heroic amaz spider man figur take green goblin dastardli scheme come right arm part build green goblin figur collect part figur sold separ complet evil mastermind bodi send spider man figur battl action epic build green goblin figur marvel product produc hasbro licens marvel charact',\n",
       " 'threshold block print paisley comfort set',\n",
       " 'epson elplp replac projector lamp epson elplp replac projector lamp projector lamp uhe',\n",
       " 'ea sport fifa xbox one fifa bring footbal life stun detail fan experi emot sport like never pre order fifa receiv gold pack build dream club fifa ultim team',\n",
       " 'aveeno activ natur posit ageless lift firm eye cream oz wheat protein firm skin shiitak mushroom enhanc vital slow age effect cream oz moistur eye cream lift firm skin around eye reduc appear line wrinkl dark circl ingredi water cyclopentasiloxan glycerin methylheptyl isostear tetrahydroxypropyl ethylenediamin butylen glycol cetyl alcohol cetearyl alcohol steareth alkyl benzoat glyceryl stearat capryl capric triglycerid triisostearin squalan cetyl ester myristyl alcohol dimethicon crosspolym cocglycerid ceteth hydroxtethyl acryl sodium acryloyldimethyl laurat copolym glyceryl laurat stearyl alcohol bentonit glyceryl behen dmdm hydantoin methylparaben saccharomyc lysat extract glyceryl stearat silica sodium methylesculetin acet distearyl ether fragranc picea excelsa bud extract propylparaben polysorb tyrosin ganoderma lucidum mushroom stem extract alga extract lentinu edod extract titanium dioxid mica may also contain citric acid',\n",
       " 'yanke candl midsumm night pk vent clip intox masculin blend musk patchouli sage mahogani cologn neutral odor enjoy great true life yanke fragranc vent stick use vent stick vehicl air vent fill air authent yanke fragranc vent stick provid continu fragranc two week sku da',\n",
       " 'marbl cover composit book manufactur roar spring paper product marbl cover composit book wide margin rule black marbl cover flexibl cover four squar corner sheet page custom also search composit composit book notebook roar',\n",
       " 'eurograph skelet system poster',\n",
       " 'women black tactel lycra workout pant made soft elast light weight tactel lycra elast drawstr waist pant move pack away easili avail quick chang comfort anywher anytim',\n",
       " 'urban trend metal lantern handl votiv candl holder antiqu pierc silver urt featur come handl silver finish pierc metal materi metal dimens overal height top bottom inch overal width side side inch overal depth front back inch overal product weight pound',\n",
       " 'stop train stop thoma tank engin stori hardcov illustr full thoma tank engin decid bypass usual stop speed directli end line havoc ensu passeng bounc seat bed one get train everyth baggag car get mix',\n",
       " 'men dicki relax fit peach twill cargo short black get job done comfort style cargo short dicki featur bellow cargo pocket casual waistband',\n",
       " 'lipper intern singl serv reusabl coffe pod keurig coffe maker set',\n",
       " 'rca cu ft microwav stainless steel quickli consist heat meal rca cu ft microwav high power rca microwav featur weight speed defrost conveni great quickli defrost frozen cut meat veget also ten power level nine automat cook menu fast simpl heat cook plu stainless steel microwav hour digit clock minut digit timer keep eye time rca cu ft microwav stainless steel stainless steel microwav equip power level speed weight defrost conveni nine automat cook menu varieti meal hour digit clock minut digit timer help keep eye time cu ft rca microwav come year part labor warranti rca cu ft microwav model rmw',\n",
       " 'zippo high polish chrome filigre pocket lighter high polish chrome finish filigre designpackag environment friendli gift boxal metal construct windproof design work virtual anywhererefil lifetim use flint replaceabledistinct zippo click',\n",
       " 'hobbit desol smaug blu ray disc anamorph widescreen hobbit desol smaug blu ray disc anamorph widescreen dwarv along bilbo baggin gandalf grey continu quest reclaim homeland erebor smaug dragon',\n",
       " 'person bridal shower banner hang person bridal shower banner announc bridal shower post well wish bride vinyl banner featur pink rose design word',\n",
       " 'disney boy tween wreck ralph watch featur pink bezel pink leather strap finish polish matt steel style children watch band materi leather watch pink face pink product type analog shape round oval',\n",
       " 'mlb men new york yanke knit short support team comfort team sleepwear wear comfi team logo sleepwear watch favorit mlb team wear game show true pride',\n",
       " 'uttermost tori denim squar wall mirror set add uniqu look home decor squar mirror set featur stretch denim wrap wooden frame accent silver inner edg materi mdf mirror pinewood linen finish antiqu orient vertic horizont shape squar frame wood overal dimens inch high inch wide inch deep',\n",
       " 'medlin medcel alkalin batteri aa case medcel advantag alkalin batteri design provid superior perform medic high tech devic pager blood glucos moitor puls oximet blood pressur monitor telemetri unit ongo batteri test togeth research develop brought mercuri free alkalin batteri profession applic batteri packag profession use',\n",
       " 'green bay packer got aaron shirt get readi nfl season shirt green bay packer got aaron shirt percent cotton machin washabl avail mani size',\n",
       " 'linea echo white dinner plate set',\n",
       " 'camelbak eddi water bottl palm conveni portabl go hydrat fit conveni cup holder',\n",
       " 'grabber pack mega warmer perfect sooth warmth comfort grabber mega warmer portabl everyday heat sourc last twelv hour dri clean odorless non toxic non flammabl warmer perfect pocket grabber sleep bag pouch refil grabber cozi muff grabber stadium seat mega warmer come packag per box packag quantiti maximum effect durat hr maximum warm temperatur degre fahrenheit materi cellulos iron dimens weight lb bodi applic feet hand',\n",
       " 'biddeford heat microplush throw zebra wrap warmth season ultra soft micro plush heat throw biddeford digit control allow choos six heat set provid perfect warmth level also featur hour automat shut ad safeti extra long foot power cord allow snuggl throw room heat throw machin washabl dryabl come year warranti featur automat shut light control number heat set number hour auto shut cord length fiber content polyest weav type micro plu',\n",
       " 'american apparel men button shirt',\n",
       " 'frontlin plu flea tick control medium size dog lb ct frontlin plu flea tick control provid fast effect conveni treatment control flea chew lice dog weigh lb lb fast act medic also kill tick includ may transmit lyme diseas medium size dog flea tick control safe use dog puppi give man best friend break harm pest year long conveni packag dog flea tick prevent contain enough medic three month',\n",
       " 'applianc art christma tree refriger cover christma tree theme refriger cover add touch winter holiday home applianc art refriger cover easi instal easi keep clean',\n",
       " 'profession doubl belgian waffl maker profession doubl belgian waffl maker cook two thick delici belgian waffl time easi use applianc make thick delici belgian waffl crispi outsid light fluffi insid unit rotat function help evenli coat batter upper lower waffl plate result gourmet qualiti belgian waffl extra deep pocket fill mapl syrup whip cream fresh fruit applianc also provid rotari brown control knob light dark accommod individu prefer featur waffl maker watt doubl belgian waffl maker home use make two belgian waffl time extra deep waffl pocket produc extra thick waffl easi handl rotari ensur even bake top bottom rotari thermostat brown control knob two led readi indic light audio beep tone indic waffl readi delici recip includ manual brush st',\n",
       " 'madison park signatur cashmer robe gift box indulg incred soft cashmer fabric ultim luxuri premium cashmer robe made percent cashmer best qualiti design lightweight robe perfect year round warmth featur tie belt flatter fit',\n",
       " 'jordan manufactur foot steel market umbrella made spun polyest avail multipl option foot steel market umbrella ideal way provid shade outdoor area sturdi steel pole featur easi use crank tilt option conveni shade',\n",
       " 'reflectionz girl bright pink glitter grosgrain small hair bow clippi ador fashion hair bow allig clippi littl girl reflectionz sparkl accent grosgrain hair bow measur approxim inch inch perfect hair accessori complet outfit',\n",
       " 'boll king polar sunglass shini black polar tn boll king polar sunglass nowaday hard find sunglass suit well boll king polar sunglass make feel like majesti kingdom glass perfect sunglass suppos block sun classic combin shini black grey polar lens support classic look never go style king sunglass durabl polycarbon lens made premium grade resin result len time shock resist glass three time lighter unrival precis clariti asid light weight optic precis boll lens infus carbo gla armour shell side len give protect need scratch damag thermogrip keep sunglass place focu realli import look nice pair eleg sunglass good price boll king polar sunglass one',\n",
       " 'la leela men hawaiian paradis print button shirt beach swim camp get readi beachsid fun wear casual shirt la leela design lightweight wrinkl free materi shirt secur front button',\n",
       " 'graham graham men dress shirt tie set green check handsom men dress shirt tie set definit make thing bit easier let total honest guy mix match pattern color dress shirt neckwear probabl one suit might well let one awesom long sleev shirt tie set work fret abl cut dash silhouett everywher go boardroom danc floor place best part fabul dress shirt tie set mind one bit steal credit pick flatter match either come green check pattern machin wash',\n",
       " 'genuin dicki men flat front comfort waist pant updat wardrob stylish comfort dicki men flat front comfort waist pant multi use pocket design cotton polyest blend fabric resist wrinkl abras better yet dicki men pant worn straight wash carri belong wallet key multi use pocket minimalist look singl button closur zipper fli wrinkl free men pant design includ belt loop conveni',\n",
       " 'avia missi girl breath lightweight cross train shoe busi day play friend never avia missi girl breath lightweight cross train shoe walk play tag hide alway feel comfi cute pair great wear school afternoon play date friend',\n",
       " 'bogoss men stripe print long sleev button shirt command attent bogoss men stripe print long sleev button shirt stylish octagon button solid yellow interior collar line cuff uniqu print stripe look button busi casual',\n",
       " 'scienc sleep neck support pillow firm neck bolster base polyest fill pillow combin soft gentli fill head portion combin produc perfect support align back side sleeper pillow fit standard pillowcas',\n",
       " 'big agn bald mountain sleep bag degre synthet orang silver long left zip bald mountain sound like scari place visit vision futur nearli frighten spend night bald mountain degre synthet sleep bag hirsut cat big agn warm even hair fall courtesi contour drawcord hood mummi shape increas warmth decreas weight courtesi cours synthet pinneco core insul wrap tough nylon shell unlik pinneco warm even get wet also breathabl use core screen layer resist extern moistur activ draw condens insid bag keep warm wolverin dri sand worm night draft collar draft zipper lock draft bet see come insotect tubic baffl construct use vertic baffl insul better conform bodi provid superior loft support also mate togeth left right zip bag feel need doublewid',\n",
       " 'griffin powerblock mobil output power ac ac input voltag dc output voltag wall charger detach usb charg sync cabl griffin set standard ac charger powerblock powerblock space save energi save charger connect tablet reader smartphon devic charg includ micro usb cabl low profil wall charger work ac outlet deliv volt optim deliv watt fast safe charg fold plug blade make powerblock mobil easi carri backpack luggag recommend kindl nexu kobo galaxi tab blackberri android window smartphon gener inform manufactur griffin technolog manufactur part number na brand name griffin product line powerblock product name powerblock mobil product type ac adapt technic inform devic support tablet pc book reader smartphon usb devic power descript input voltag ac ac output voltag dc maximum output power maximum output current miscellan packag content powerblock mobil foot fetach micro usb connector cabl compat samsung galaxi tab tablet pc book reader kobo amazon kindl smartphon brand nexu blackberri warranti',\n",
       " 'clarin extra firm eye wrinkl ounc smooth cream extra firm eye wrinkl smooth cream formul clarin anti wrinkl cream firm smooth hydrat reduc look wrinkl crow feet fatigu',\n",
       " 'insten clear screen protector samsung ativ odyssey insten screen protector samsung ativ odyssey protect phone unwant scratch dust particl',\n",
       " 'mini home cinema theater hd multimedia usb led projector av tv vga hdmi jd ebay number seller assum respons list last updat nbsp apr pdt nbsp view revis specif condit new see detail new unus absolut sign wear may miss origin packag origin packag seal may factori second new unus defect see seller list full detail descript imperfect see condit definit open new window tab read condit materi plastic glass white dl dl dt dd list style none margin pad margin pad border list style type none pa bodi margin auto pad auto align center width height auto min height overflow hidden pa center famili geneva arial helvetica san serif margin auto pa top background url http design pushauct com standard dvd movi movi film titlebg jpg height width margin auto float left overflow hidden pa topright background url http design pushauct com standard dvd movi movi film titler jpg right repeat float right width height pa titl float left margin fff display inlin width align left pa conterbig width margin auto float left background ca height auto min height pa conter width margin auto pa conterc width float left display inlin pa product width margin auto pa product width margin auto pa product align center vertic align middl pad pa product img border solid margin align center margin pad pa box overflow hidden posit rel width margin auto auto pad pa tboxl pa tboxt pa tboxr posit absolut top index height pa tboxl left width pa tboxt index width pa tboxr right width pa mboxl pa mboxr posit absolut index width pa mboxl top left index height pa mboxr top right index height pa mboxt width align left weight normal pa demo align left line height float left width pa demot width align left float left pad left pad top pa bboxl pa bboxt pa bboxr posit absolut bottom index height pa bboxl left width pa bboxt index width pa bboxr right width pa head width float left pa headc pad left float left line height pa line border bottom dot height width float left overflow hidden pa bottom width height float left background none mini home cinema theater hd multimedia usb led projector av tv vga hdmi jd',\n",
       " 'vanilla champagn ml roll bottl perfum bodi oil scent fragranc',\n",
       " 'panason es arc men electr shaver wet dri ebay number seller assum respons list last updat nbsp mar pdt nbsp view revis specif th condit th use',\n",
       " 'ultrason mini led usb essenti oil air humidifi aromatherapi aroma diffus',\n",
       " 'kraft handmad journal memo notebook blank paper notepad retro diari draw mini',\n",
       " 'jlab crasher bluetooth speaker assort color crasher hi fi digit amp power two jlab engin full rang driver fresh clean mid high warm rich room fill sound rear passiv subwoof pump enough bass wake neighbor outlast wet blanket competitor crasher boast recharg ion batteri keep parti go hour word abe lincoln stop parti built mic speaker phone make take call easier ever creat perfect portabl confer experi white collar dream need juic problem crasher one bluetooth speaker market fulli charg smartphon tablet continu blast favorit jock jam plug crasher full usb port juic abc alway charg crasher sleek yet rug anod aluminum hous boast electr scheme complement perfect sound crush acoust crasher come standard usb ac power adapt aux cabl usb cabl match microfib carri pouch play well ipod ipad ipad mini iphon android window phone blackberri kindl kindl fire devic bluetooth mm jack',\n",
       " 'nike shox vaeda women wolf grey vivid pink black synthet upper featur support overlay flexibl enhanc fit feel five puck nike shox midsol platform provid women specif cushion better overal ride help reduc risk impact relat injuri outsol featur combin carbon rubber heel durabl rubber forefoot plush ride wt oz',\n",
       " 'dell led lcd monitor ms design reliabl clear brilliant screen clariti environ consciou design rigor reliabl test defin dell monitor essenti featur high resolut widescreen display featur need help boost product outstand qualiti rigor test process qualiti monitor help ensur long term perform reliabl environ consciou built compli latest environment regulatori standard',\n",
       " 'women nurs sport bra white small gilligan omalley',\n",
       " 'new hawkin liter classic aluminum pressur cooker litr classic hawkin largestsel popular rang pressur cooker perhap attract combin featur benefit price rang first introduc hawkin kept date numer innov improv year latest improv introduc superior pressur regul system control pressur narrow effici rang reduc sprout frothi food dal easier insert remov safeti valv locat lid handl bar oper steam safe deflect downward gasket minimum exposur steam insid cooker rub everi time product open close last longer suitabl ga electr ceram halogen cooktop staycool handl fix sturdi pivot put pressur plastic handl part metal handl thu handl last longer ideal cook person base flat diamet mm base thick mm easi open close quarter turn enough litr capac new whistl pressur regul shield safeti valv gasket last longer mirror polish interior base matt finish insid fit lid open pressur fall stay cool handl dimens sku anjd',\n",
       " 'presto quart delux stainless steel pressur cooker presto quart stainless steel pressur cooker made luxuri stainless steel tri clad base quick even heat easi clean high speed pressur cook smart choic healthi flavor meal cook fast easi food cook three time faster ordinari cook method presto delux pressur cooker save time energi money proper cook pressur maintain automat pressur regul model presto stainless steel pressur cooker offer multipl safeti featur includ independ pressur releas devic prevent excess buildup cooker cover lock keep cooker open pressur safe reduc ideal use ga electr smooth top induct rang includ stainless steel rack complet page instruct recip book presto delux pressur cooker sold donat breast',\n",
       " 'crawford corner shop white braid comb hair accessori pair white decor comb one fit great hair accessori pull hair away face love hair accessori set add eleg style poni tail',\n",
       " 'women gucci flora gucci eau de toilett spray oz launch design hous gucci year nose behind fragranc gucci top note mandarin bergamot kumquat lemon peoni middl note rose petal osmanthu green aquat addit base note aresandalwood patchouli pink pepper fragranc classifi citru',\n",
       " 'oster cup blender blender design power versatil prep food blend smoothi use varieti conveni set enjoy rich tast coffe freshli ground coffe bean shred chees homemad pizza pur soup light delici dinner option endless easi push button oper watt motor help accomplish blend task eas stainless steel blade metal drive system ensur last durabl easi clean cycl elimin jar disassembl fast clean assur last qualiti oster brand promis perform versatil durabl',\n",
       " 'convers chuck taylor stud low top sneaker women love fun embellish classic convers chuck taylor star stud low top sneaker canva upper casual low top sneaker style rubber toe lace front logo detail two tone metal stud textil line cushion footb stripe rubber midsol rubber traction outsol',\n",
       " 'babi trend sit stand doubl stroller carbon give babi comfort ride turn walk time bond time babi trend sit stand doubl stroller carbon featur front back seat conveni take two kid stroller durabl construct babi trend doubl stroller bear lb compat car seat like babi trend evenflo embrac discoveri britax companion chaperon point har infant safeti boot babi doubl stroller creat safe environ child two full canopi provid shade littl one front rear eva tire facilit quiet comfort ride foot activ rear brake system comfort stop babi trend doubl stroller take bottl milk favorit drink two cup holder plu let keep essenti tray eas transport come easi fold design babi trend sit stand doubl stroller carbon front back seat child sit upright unassist lb babi trend sit stand doubl stroller carbon front seat featur point child restraint safeti har jump seat rear child least year old lb full shade canopi babi doubl stroller cover parent tray cup holder babi trend sit stand doubl stroller carbon front rear eva tire fix wheel foot activ rear brake system accept infant car seat better fit perform may beed remov canopi stroller fit follow car seat babi trend lb lb evenflo embrac discoveri britax companion chaperon singl hand fold fast easi use weight lb assembl requir model ss',\n",
       " 'women nike solarsoft flip flop black',\n",
       " 'belkin grip candi case iphon black ebc get iphon case celebr love fun combo tone twist classic design add aesthet punch innov flexibl materi easi grip',\n",
       " 'champion sport sunglass polar hydrophob coat matt metal gray',\n",
       " 'armen live antiqu brown storag ottoman natur jute accent nail armen live antiqu brown storag ottoman natur jute accent nail armen live antiqu brown storag ottoman natur jute accent nail modest look close see potenti big adventur handsom ottoman display topographi border faraway land serv handsom storag chest make great place rest heel tray cocktail cushion top rise disc lose hidden storag compart ideal treasur measur inch featur antiqu nailhead along base tenet armen live design abid creat modern furnitur collect build year industri experi armen live combin function versatil expert craftsmanship dramat furnitur style offer price point fit discrimin budget product categori includ bar stool club chair dine tabl ottoman sofa armen live base sun valley calif small storag ottoman nailhead accent woven fabric antiqu bond leather old papyru look ancient map pattern kiln dri hardwood frame dimens inch',\n",
       " 'haier cu ft door refriger black',\n",
       " 'orlimar men trophi golf shoe white black men medium trophi golf shoe sure make grip green easier take shot swing good shoe brand orlimar style tradit model trophi print saddl closur lace footb pad heel height heel sole mold rubber materi synthet leather',\n",
       " 'vaniti fair reprint paperback think could good woman five thousand year ecki sharp becki sharp poor orphan first make friend love amelia sedley miss pinkerton academi young ladi may natur advantag companion make wit charm devious determin make success whatev cost vaniti fair stori becki rise fall gambl manipul seduc way high societi napoleon war vaniti fair thackeray panoram satir saga corrupt level english societi publish set napoleon war chronicl live two women could differ becki sharp orphan whose resourc vast ambit nativ wit loos moral schoolmat amelia sedley typic naiv victorian heroin pamper daughter wealthi famili becki fluctuat fortun eventu bring affair amelia dissolut husband kill waterloo amelia child left penniless becki husband rawdon crawley rise world manag lead high life london sole basi shrewd chapter entitl live noth classic thackeray subtitl novel without hero underst case view human novel distinctli bleak deliber antihero critic time misunderstood book decri among thing viciou vile odiou vaniti fair endur one great comic novel time landmark histori realism fiction genr juvenil fiction fiction literatur theme subgenr human qualiti behavior humor fiction type charact societi social issu literari genr type novel famili friendship histor gener edit reprint languag english author william makepeac thackeray william thackeray',\n",
       " 'women sleeveless maxi dress merona',\n",
       " 'aspca tender voic sterl silver necklac diamond accent run hors pendant',\n",
       " 'mohawk home kitchen utensil rug urban add style protect floor mohawk home utensil kitchen floor rug bold artist design featur fork whisk measur cup utensil contemporari kitchen rug work well rang decor style coordin varieti mohawk home accessori',\n",
       " 'cornwal clock nautic feel mango wood clock featur goldplat metal accent gorgeou timepiec craft mango wood iron color finish natur nickel materi mango wood iron set includ one clock dimens inch inch inch care instruct wash damp cloth type wall materi wood iron',\n",
       " 'keurig coffe maker cup pack cup carousel',\n",
       " 'wordlock bike lock match key mm ft black featur benefitsmatchkey system key match cabl word key match word lock laser etch uniqu key shape match key product heavi duti flexibl steel cabl mm thick feet long bike mount bracket',\n",
       " 'lalaloopsi girl peanut big top add littl girl whimsic toy collect lalaloopsi peanut big top doll charact rag doll magic came life last stitch sewn henc uniqu look show grown readi school version lalaloopsi girl collect best friend roommat live learn lalaloopsi academi learn art peanut big top sewn clown costum resid entertain group lalaloopsi doll featur fun lanyard hair immers play come comb ador pet eleph charact uniqu person base made',\n",
       " 'varaluz madison light hammer ore chandeli impress guest beauti gold tint faux candl chandeli made hand forg recycl steel dine guilt free measur chain wire foot chain set indoor finish hammer ore shade gold tint mercuri glass number light requir four watt halogen base bulb includ dimens inch high inch wide shade dimens inch high inch wide canopi dimens inch wide inch deep voltag',\n",
       " 'verona wall mirror dark espresso verona bevel wall mirror make stylish function addit bath space bedroom featur distinct four side frame made durabl mdf smooth chocol finish miter corner temper glass mirror provid extra safeti bevel mirror featur interior slim band slant pewter add depth hint sparkl beauti frame glass combin rectangular shape highlight vaniti dresser use stand alon wall hang dress entryway larg closet hallway dark espresso wall mirror blend well tradit modern furnish rich coffe add warmth space come complet assembl readi hang includ necessari mount hardwar instal frame wipe clean dri cloth easi care need verona wall mirror made sturdi mdf mm bevel mirror',\n",
       " 'lego star war ultim collector millennium falcon uc',\n",
       " 'one youmad carter newborn girl sunglass hairband clip set',\n",
       " 'beat dre mixr hd ear stereo headphon inlin remot mic white feel beat music groov sound wear beat dre mixr hd ear stereo headphon deliv extrem deep bass extraordinarili high volum headphon inlin mic remot help enjoy incred sound featur mm driver deliv low frequenc rang smooth mid high without rough sound ear rotat earcup allow singl ear monitor snug fit pad headband leather ear cup come white stereo headphon ensur comfort day listen music fixtur parti friend groov wonder music listen favorit artist song sound beat dre mixr hd ear stereo headphon design heard parti beat mixr dj headphon deliv extrem deep bass extraordinarili high volum enjoy incred sound beat dr dre beat mixr ear headphon featur mm driver deliv low frequenc rang smooth mid high rotat earcup allow singl ear monitor snug fit pad headband leather pad ear cup make sure comfort day listen music',\n",
       " 'women free peopl north star knee boot us eu black dramat faux sued knee boot offer maximum drama maximum eas thank drawstr top shaft droopi boot gone lightweight lug sole heel platform boot shaft calf circumfer textil upper leather line synthet sole free peopl made spain bp shoe',\n",
       " 'delta cassidi singl handl kitchen faucet spray timeless design today home sleek faucet add perfect updat home decor stun kitchen faucet finish venetian bronz',\n",
       " 'soni playstat ps video game consol gb white latest model',\n",
       " 'sterl silver necklac jade bamboo pendant add cultur influenc littl good luck look bamboo shape jade stone mm mm shine sterl silver set chain approxim length inch approxim drop inch',\n",
       " 'men tailor fit button collar dress shirt merona leopard print high heel great pair shoe match almost jungl cat costum worn help creat cat costum finish exist one featur five inch heel leopard print high heel',\n",
       " 'banana lemon men purpl button shirt purpl pattern men button shirt paisley collar ideal go stay machin washabl made percent cotton shirt conveni comfort option purpl sleev long sleev necklin regular neck collar shirt chest pocket closur button front measur guid materi percent cotton machin washabl measur approxim may vari',\n",
       " 'crucibl stainless steel facet doubl chain leather bracelet brown',\n",
       " 'gearon durabl waterproof shockproof snow dirtproof fingerprint scanner full case cover appl iphon black waterproof case allow take iphon terrain protect cover iphon protect water dirt snow shock case submerg water meter allow take surf swim snorkel shower packag also come waterproof aux calb allow connect speaker pool beach one best featur phone even case touch id sensor still work allow unlock screen purchas app compat appl iphon',\n",
       " 'hp led monitor long lifecycl high bright standard aspect ratio make hp led monitor ideal solut demand retail hospit environ',\n",
       " 'kobo eread wireless eread gb wi fi white',\n",
       " 'cliniqu best seller piec treatment set cliniqu best seller treatment set',\n",
       " 'new plantron vista amplifi headset cord',\n",
       " 'delonghi cu ft convect toaster oven digit control delonghi cu ft convect toaster oven digit control featur interior larg enough cook two inch pizza time bake entre side dish make meal whole famili right countertop larg slice toast capac let make enough toast whole famili time toast selector automat shut let choos set light dark toast way like user friendli digit control choos convect bake broil toast keep warm pizza convect fan circul hot air distribut heat evenli consist result cook food faster interior light allow view entir cook process non stick interior make cleanup quick effortless model includ non stick bake pan non stick broil tray wire rack',\n",
       " 'ubiqu port edgerout introduc edgerout ubiqu network part edgemax platform edgerout combin carrier class reliabl enterpris level featur compact afford unit edgerout poe edgerout lite model world first econom router capabl rout million packet per second edgerout poe edgerout lite model world first econom router capabl rout million packet per second',\n",
       " 'sparco laser inkjet top load clip style badg kit bx make employe name badg quickli easili badg kit includ insert card top load clip style holder clip style holder seal three side hold name tag secur insert compat laser inkjet printer mm thick',\n",
       " 'dean michael amott tyrant electr guitar classic black michael amott signatur tyrant afford signatur make apolog lightweight basswood bodi bolt neck fret rosewood fingerboard short scale shape bodi make extrem easi guitar navig access entir fretboard usa dean dmt amott tyrant bridg pickup usa dean dmt amott time capsul neck pickup give wide rang great tone work sweet vintag modern aggress grover tune machin fix tune matic bridg string design offer stabil ad sustain appoint includ dean eagl headstock pearl dot inlay black hardwar basswood top bodi scale bolt mapl neck rosewood fingerboard fret pearl dot inlay grover tuner black hardwar machin aluminum pickguard tune matic bridg usa dean dmt amott tyrant bridg pickup usa dean dmt amott time capsul neck pickup finish classic white classic black',\n",
       " 'hablando sola etern love tote bag beauti tote bag featur ampl storag detach keychain tote includ two handl ador charact design',\n",
       " 'full tang stone wash surviv dagger militari tactic hunt knife',\n",
       " 'cincinnati red offici mlb magnet photo frame offici licens vinyl magnet frame ideal frame pictur hold note fridg file cabinet hold one photo vertic perspect great team individu sport photo come bonu addit team logo magnet offici licens team leagu made usa',\n",
       " 'sylvania spa bluetooth pa speaker microphon fm radio head road take music tailgat parti complet without tune sylvania spa come equip bluetooth capabl microphon adjust talk karaok',\n",
       " 'micro sd gb gb gb tf flash memori card sdhc microsd adapt ebay number seller assum respons list last updat nbsp apr pdt nbsp view revis specif th condit th new see detail',\n",
       " 'logitech ladi lili wireless mous multicolor logitech ladi lili wireless mous get freedom wireless mous extra inject person logitech mous look like piec art piec technolog bright color psychedel flower cover white background mous top imag ladybug add hint whimsi mous sculpt black side comfort grip built scroll wheel easi navig built comfort mind logitech mous ergonom design decreas hand fatigu',\n",
       " 'sara boo white sequin parti dress white sleeveless fit line dress sweetheart neck sequin detail fantast addit wardrob definit partywear cocktail dress accessor phenomen',\n",
       " 'minisuit selfi stick batteri free appl android earphon jack connector iphon minisuit batteri free selfi stick featur technolog requir batteri amaz famili friend foe alik work window devic work iphon plu previou gener work bluetooth requir simpli plug small wire earphon jack open phone camera app snap away get head crowd everi wed concert ball game adjust width cradl inch mm fit appl iphon samsung galaxi note htc one lg flex motorola moto nexu soni xperia perfect travel extrem lightweight pound ounc monopod extend feet mm adjust ball head thumb screw lock multipl angl degre posit android devic pleas sure latest android version download still troubl pleas download app camera play store appl devic pleas sure latest io updat',\n",
       " 'dyconn faucet contemporari kitchen faucet modern contemporari kitchen faucet featur elong curv handl curv spout uniqu eleg look made solid brass finish tarnish corros resist finish stun kitchen faucet give home updat stylish look',\n",
       " 'neon poni lisa frank diamond ring favor pack look sophist princess neon poni lisa frank diamond ring favor everi set includ four plastic ring larg crystal clear diamond top tuck goodi bag guest feel rich',\n",
       " 'charact costum werewolf child costum werewolf child costum medium white product inform charact costum werewolf child costum werewolf child costum medium white chart chart children size measur provid rang person wear costum measur costum height waist inseem torso pleas note costum avail size pleas refer individu product page actual avail size tall full figur doubt two size usual best order larger comfort fit polyest nylon medium includ chinless mask shirt glove includ makeup pant shoe charact costum werewolf child costum werewolf child costum medium white boy',\n",
       " 'pyrex piec smart essenti mix bowl set blend store cook serv wealth delici dish help pyrex piec smart essenti mix bowl set bowl construct sturdi durabl non porou glass absorb flavor featur thick rim eas use clear glass allow user easili view content glass mix bowl set includ piec thick pyrex glass bowl bright color lid set includ quart mix bowl green plastic cover quart bowl orang plastic cover quart mix bowl blue plastic cover quart bowl red plastic cover dine mix simpli pop lid bowl go straight refriger easi clean versatil bowl dishwash safe easili stack within eas store pyrex mix bowl set microwav safe',\n",
       " 'brome squirrel buster plu squirrel proof bird feeder',\n",
       " 'lorel radio control black wall clock round wall clock radio control set modifi day atom clock accur one second per million year clock automat adjust daylight save time design work continent unit state design also featur easi read white dial black arab numer ab plastic cover clock run one aa batteri sold separ',\n",
       " 'berghoff neo cast iron fri pan green modern field function design use materi central element berghoff line neo mark pure line give product ident function articl receiv share design care intern expert design notic neo line award sever intern prize high gloss bright enamel coat durabl long last cast iron entir line oven safe suitabl heat sourc includ induct',\n",
       " 'folger gourmet select caramel drizzl cup count best part wake found right box folger gourmet select caramel drizzl cup caramel flavor coffe give pick need start day distinct tast caramel combin folger percent arabica bean sure reach second cup intend use keurig coffe maker box contain count folger gourmet cup ingredi arabica coffe natur artifici flavor',\n",
       " 'premier comfort heavenli cotton flannel sheet set heavenli flannel sheet set keep warm cozi night made percent cotton brush side flannel sheet set soft touch perfect cold night',\n",
       " 'philip senseo hd black coffe maker pod machin pod holder manual',\n",
       " 'ozark trail lb warm weather rectangular sleep bag take ozark trail sleep bag next camp trip sure way spend night outdoor comfort rest next day sleep bag made percent polyest percent nylon featur soft breathabl line get two zip togeth creat doubl bag',\n",
       " 'melissa doug disney sofia first princess amber wooden magnet dress melissa doug disney sofia first magnet dress sure provid hour fun child featur magnet piec creat varieti outfit popular disney charact sister princess amber doll come stand stand dress latest fashion ideal play display disney dress play set enhanc child imagin creat stylish combin sophia amber wear like real sister switch outfit share creat new fashion',\n",
       " 'men blue cotton dress shirt dress impress classic dress shirt construct percent cotton dress shirt featur straight point collar french cuff',\n",
       " 'classic accessori veranda tall round patio chair set cover fit diamet veranda tall round patio cover offer eleg way safeguard outdoor furnitur featur gardel fabric system special treatment medium patio chair cover featur fabric design resist crack even cold weather protect water repel resist pvc underco well splash guard skirt veranda patio cover keep patio furnitur shield element cover interlock seam ad strength durabl click close strap snap leg help secur cover windiest day veranda patio cover tall round tabl also come complet pad handl easi fit remov featur cover mesh air vent reduc insid condens wind loft',\n",
       " 'joovi fold doubl stroller lemon know arriv joovi fold doubl stroller one terrain stroller engin activ go famili sporti function design intend make everi parent proud push',\n",
       " 'schwinn combo bike lock mm schwinn mm key combo cabl lock light provid technolog ultim bike secur cabl lock made braid steel cover durabl pvc ensur increas strength wont scratch bike integr light make easi use lock low light condit abil unlock either key combin provid versatil keep bike secur',\n",
       " 'latt commun modr wireless bluetooth speaker assort color get freedom bring pristin wireless audio whatev whenev want carri room room throw bag cord dock hassl want use cord modr come one readi use',\n",
       " 'laser glow technolog gga xxx galileo green laser pointer mw',\n",
       " 'inch lamella invert pendant art glass handsom bronz base combin form trend set inch lamella invert pendant design tiffani style shade light brighten room',\n",
       " 'georg men short sleev poplin dress shirt get attract daili wear profession flair georg men long sleev poplin shirt design offic readi silhouett construct comfort poplin fabric men long sleev shirt sure becom wardrob favorit men poplin shirt relax torso enjoy comfort movement even warm temperatur long sleev occas wear transit men poplin shirt summer winter addit sweatshirt jacket comfort meet town confer georg men long sleev poplin shirt smart wardrob basic collar necklin button style easili fashion versatil men long sleev shirt casual occas outdoor bbq whether favor casual basic daili work wear solid georg men long sleev poplin shirt fine wardrob buy',\n",
       " 'mainstay round patio umbrella turquois cove stay shade sun turquois cove mainstay round umbrella model ideal hot summer day patio garden made durabl polyest fabric fade resist mainstay umbrella also come steel pole tilt three way mainstay round umbrella turquois cove uv rate fabric resist fade sturdi steel pole way tilt push easi open close garden umbrella polyest fabric',\n",
       " 'tribeca live luxuri solid flannel deep pocket sheet set',\n",
       " 'beat dr dre beat tour ear headphon assort color beat dr dre tour ear headphon among first earbud hold ear headphon newli design custom fit improv sound qualiti get even closer music custom ear headphon made fit perfectli come tangl free cord also featur microphon make call use smartphon includ four shape eartip differ size three secur fit wingtip',\n",
       " 'fal cool touch rice cooker black fal cool touch rice cooker hold cup uncook food cup cook food cook rice anyth els might want steam attract black silver exterior use entertain well everyday use glass lid allow see cook capac volum cup applianc capabl steamer rice cooker featur remov lid see lid remov bowl nonstick coat includ instruct manual steamer basket measur cup materi plastic finish matt safeti secur featur cool touch exterior care clean dishwash safe part',\n",
       " 'la leela light blue likr sunset aloha surf beach hawaiian shirt men swim camp stylish sunset theme hawaiian shirt craft comfort likr conveni machin washabl relax fit size xl make shirt ideal mani peopl',\n",
       " 'samsung galaxi note sm white gb sprint clean esn new enter whole new world mobil commun classic white samsung galaxi note sm cell phone avail servic sprint grab attent first moment smartphon impress inch super amol capacit display invit explor multimedia new level even let watch movi check email modernist look fit perfectli textur back cover refin stitch make samsung galaxi feel person equip impress mg rear camera smartphon grant opportun turn import moment preciou memori time support video call need mp front camera hand run potent android jelli bean oper system samsung galaxi disappoint mean speed draw power ghz quad core processor forc allow present mani conveni air command featur screen write action memo creat comfort user come gb intern memori samsung galaxi provid freedom store data want even support micro sd card gb whole samsung galaxi note sm cell phone creat make feel comfort offer speed top grade qualiti',\n",
       " 'luxuri diva lightweight black white polka dot dress medium',\n",
       " 'nfl san francisco er veteran sport watch',\n",
       " 'king road piec queen comfort set season comfort set featur lush multicolor print variou arrang bullion cord tassel fring accent heighten charact style bed ensembl set includ comfort bedskirt two sham style tradit fabric detail print pattern floral bedskirt drop length inch materi percent cotton care instruct dri clean dimens comfort inch wide inch long bedskirt inch wide inch long sham inch wide inch long digit imag display accur possibl howev due differ comput monitor cannot respons variat actual product screen',\n",
       " 'stone candl shade light lumin singl tier chandeli light home beauti fixtur featur eleg finish stone candl shade complet look',\n",
       " 'riedel vivant martini glass set riedel vivant martini glass set glass craft lead free tyrol crystal glass tradit cone shape help prevent differ ingredi martini separ beauti drawn stem let hold without affect temperatur drink cocktail glass capac oz',\n",
       " 'journe collect sterl silver dragonfli necklac simpl yet stylish dragonfli critter pendant highlight ensembl jewelri craft fine sterl silver includ coordin inch cabl chain',\n",
       " 'anti scratch clear snap case appl macbook air inch clear snap case appl macbook air inch keep macbook safe protect extern dust scratch snap case accessori extrem tough durabl case mold perfectli macbook shape without compromis usabl provid easi access function without remov case special design allow air flow ventil area case maintain shape without warp melt comput gener heat clear materi hard plastic accessori phone includ note laptop must close put case compat appl macbook air inch appl endors use product appl iphon ipad ipod regist trademark appl inc warn california resid pleas note per proposit product may contain one chemic known state california caus cancer birth defect reproduct harm wash hand handl use product contact manufactur inform regard chemic may contain product dimens materi pvc model',\n",
       " 'seren prayer dog tag stainless steel necklac inspir seren prayer engrav dog tag shape pendant pray hand back front dog tag pendant say god grant seren accept thing cannot chang courag chang thing wisdom know differ inch stainless steel chain hypoallergen free velvet gift pouch pendant becom signific meaning gift love one',\n",
       " 'fanmat mlb new york yanke pc car mat set take love game road fanmat mlb new york yanke pc car mat set that right alway keep new york yanke foot car mat set design fit standard car foot well bright white blue floor mat ny yanke logo emblazon cant miss carpet top protect car non slip back stay firmli place let world know support soon step car yanke car mat also great gift idea yanke fan year limit manufactur warranti',\n",
       " 'woodland import old world wall mount bottl wine rack',\n",
       " 'joli piec comfort set beauti neutral floral bed set bedroom need joli piec comfort set made cotton special made comfort breathabl set includ euro sham pillow sham bed skirt comfort decor pillow easi care machin wash cold water tumbl dri',\n",
       " 'green bay packer nfl classic watch green bay packer nfl classic watch classic watch bring instant state comfort abil genuin leather strap compliment plenti shini metal case silver tone hand offici licens team logo color team logo stand matt black textur dial make perfect watch occas classic watch featur precis quartz movement stainless steel case back scratch resist miner crystal len water shock resist atm ft come limit lifetim warranti',\n",
       " 'women plu sleev lightweight terri robe women plu sleev lightweight terri robe come variou size attract girli color lightweight terri cloth robe made durabl cotton blend materi percent cotton percent polyest absorb water easili comfort women robe knee length height length sleev robe interior string tie match sash belt adjust get good fit carri handi knee length robe next time go beach swim pool ideal coverag swimsuit',\n",
       " 'approv schoolwear boy short sleev polo pack add approv schoolwear boy short sleev polo son school wardrob made percent cotton percent polyest comfort enough wear day long blend also make shirt easi clean flat rib collar add style school uniform polo shirt also includ short sleev keep son cool warm day shirt avail multipl color come tagless provid addit comfort piec recommend older boy teen unlik store shop uniform shirt walmart year round make conveni updat son wardrob need',\n",
       " 'harley davidson live ride frame art print gel coat finish harley davidson motto live ride ride live accompani mani rider million mile show sens freedom love open road frame print frame textur glaze poster come hand finish non reflect percent acryl polym coat protect imag tradit glass plexi glass glaze rather highli textur gel coat finish',\n",
       " 'rex skeleton collag poster print rex skeleton collag poster print licens reproduct print premium heavi stock paper captur vivid color detail origin paper print',\n",
       " 'blueski oz soak uv gel nail polish brown gravel',\n",
       " 'keurig white elit brew system bonu cup water filter kit got new keurig elat fast ship got best price avail complaint wish littl excit order differ coffe tri thank',\n",
       " 'foundat quad lx four passeng stroller regatta foundat lx four child stroller multi child stroller design test accommod children pound extra larg seat area stroller construct extra heavi duti steel frame doubl wall tube safebrak system automat engag caregiv separ stroller secondari manual park brake engag extra secur brake system featur wear resist shoe less brake compon elimin need adjust replac seat adjust point har size fit larger children stroller also featur largest wheel industri provid ultim maneuver stroller fold easili fabric extra durabl easi clean protect invest year come exclus comfortpush handl automat disengag brake forward motion elimin hand fatigu caregiv extra larg canopi shield children harm uv ray wide open easi access extra larg storag basket provid ambl space diaper bag blanket toy caregiv suppli pleas regatta blue stroller assembl unfold year limit manufactur warranti',\n",
       " 'linksi wireless ac smart router linksi smart wi fi router wireless ac technolog ghz dual band wireless compat ac wifi secur protocol support extern antenna ethernet port compat window',\n",
       " 'roommat thoma tank engin peel stick wall decal roommat thoma peel stick wall decal fun way add new look child room play area peel stick wall decal featur color charact well known phrase popular thoma tank engin children show children enjoy fill favorit space imag thoma perci roommat wall decal use wall appli decal almost flat surfac includ furnitur mirror applic easi simpli peel stick virtual clean dri surfac ad conveni wall peel stick decal easili move one place anoth without leav sticki residu behind children easili appli remov roommat thoma peel stick wall decal window wall tile floor reuseabl decal non damag surfac make excel parti decor thoma theme parti roommat thoma tank engin peel stick wall decal peel stick smooth clean dri surfac remov instantli without damag surfac leav sticki residu work wall furnitur mirror window ceram tile accessori even automot surfac featur thoma perci jame',\n",
       " 'serta delux inch memori foam mattress topper bonu pillow sleep suprem comfort atop inch mattress topper serta featur high densiti memori foam construct natur hypoallergen topper adjust uniqu bodi shape reduc pressur point prevent toss turn type memori foam mattress topper measur inch thick materi visco elast memori foam densiti pound natur antimicrobi memori foam resist dust mite temperatur sensit foam adjust bodi temperatur stay warm dispers weight evenli reduc pressur point disrupt sleep',\n",
       " 'dir wireless ac dual band gigabit router',\n",
       " 'funvil sparkl girlz doll dress caucasian ballerina kid danc night away funvil sparkl girlz doll ballerina come dress eleg outfit accessori match kid play dress danc caucasian sparkl doll use includ match costum wand hair accessori even creat danc routin show friend famili',\n",
       " 'bar mop kitchen towel pack easili clean dri polish area home pack bar mop kitchen towel one made soft percent cotton machin washabl bar mop towel set design absorb water counter surfac',\n",
       " 'tahari arthur levin women novelti textur sheath dress make jaw drop exquisit sheath dress arthur levin dress featur round necklin bead raw edg detail small cutout bust',\n",
       " 'warm white mm led christma light white wire wintergreen light mm wide angl led mini light produc except bright minim energi consumpt bulb cast warm white glow enhanc indoor outdoor light everi season bulb mold socket secur fit lock element result longer life wide angl bulb cast light everi direct bold color illumin holiday event energi star rate list save money save power save energi featur prelamp led light string epoxi plastic bulb fuse socket increas weather resist strength gaug wire string length end connector lead tail space bulb full wave technolog brilliant illumin watt indoor outdoor use energi star qualifi list led light string',\n",
       " 'luxuri diva yellow sheer spring daisi lace lightweight infin circl scarf simpli ador cute chic infin scarf provid simpl effortless style time year scarf featur textur spring daisi pattern sheer lightweight background worn long doubl around neck simpli ador cute chic infin scarf provid simpl effortless style time year scarf featur textur spring daisi pattern sheer lightweight background worn long doubl around neck cool lightweight comfort',\n",
       " 'accent pillow white',\n",
       " 'explor inch mossi oak duffel bag conveni size duffel bag featur camouflag print green trim craft durabl polyest bag design last',\n",
       " 'make mold oz light green vanilla flavor candi wafer pack light green vanilla flavor candi wafer melt oz great tast vanilla flavor microwav never allow candi wafer finish candi piec come contact water moistur store cool dri place never store refriger freezer near odor releas item onion smoke featur oz gram creami vanilla flavor meltabl candi wafer light shade blue use cover cake pop cooki decor use make handcraft candi sku mknm',\n",
       " 'disney infin wreck ralph discov whole new way play disney charact nintendo wii wii ds xbox playstat star origin disney adventur battl enemi solv puzzl conquer obstacl complet varieti excit quest game includ bring hous mega powerhous wreck ralph use huge fist high power cherri bomb bash crash smash bad guy anyth els path place infin figur onto base transport world favorit disney movi base includ warn choke hazard small part children year',\n",
       " 'paperflow alco metal wall coat hat rack doubl peg alco collect materi epoxi paint steel wood silver light brown shape semicircl style contemporari finish silver light brown frame rail materi metal wood',\n",
       " 'hobbit unexpect journey blu ray disc anamorph widescreen hobbit unexpect journey blu ray disc anamorph widescreen bilbo baggin peac hobbit live shire join group thirteen dwarv quest retak home danger dragon smaug',\n",
       " 'gmc women denali road bike pink black enjoy smooth comfort ride gmc women denali road bike offer speed truli excit perform bike shimano gear shift system better control differ terrain shimano derailleur let effortlessli ride uphil speed road bike sturdi steel frame calip brake offer smooth easi stop power front wheel rear wheel gmc denali road bicycl let enjoy smooth ride tough hard terrain kickstand easi park frame standov height recommend height assembl requir speed race bike lightweight aluminum mixt frame shimano revo gear shift system put control shimano tz derailleur make climb hill easi vitess profil aluminum wheel kenda tire calip brake assembl requir frame standov height recommend height manufactur suggest age year gear speed bicycl frame height bicycl frame materi steel aluminum seat materi vinyl brake system calip rear brake system calip bicycl chain materi steel pedal materi steel resin rim materi metal alloy front wheel height rear wheel height tire type smooth tire width includ kickstand maximum weight capac lb care clean wipe clean damp cloth dimens weight lb warranti descript month limit manufactur warranti assembl detail assembl requir bike type road',\n",
       " 'men dicki challeng genuin leather waterproof steel toe work boot oxblood',\n",
       " 'zippo jack daniel street chrome lighter get light need stylish classic zippo jack daniel street chrome lighter known worldwid qualiti reliabl product featur uniqu windproof design work virtual anywher fuel compart easili refil jack daniel zippo lighter abil last lifetim use',\n",
       " 'univers elit wire headset',\n",
       " 'integr servic router evm expans slot base lan usbth cisco provid signific addit valu compar prior gener cisco router similar price point offer fivefold per cisco cisco rack mountabl integr servic router fast ethernet ethernet gigabit ethernet ethernet base base tx base new open box new open box cisco provid signific addit valu compar prior gener cisco router similar price point offer fivefold perform improv tenfold increas secur voic perform embed servic option dramat increas slot perform densiti maintain support exist modul avail today cisco cisco cisco seri new open box product origin manufactur condit includ accessori carri manufactur warranti manual softwar might includ usual download manufactur item origin manufactur box repackag protect ship model number product name cisco integr servic router enclosur type desktop modular nm data protocol fast ethernet ethernet gigabit ethernet remot manag protocol snmp encrypt algorithm ae de tripl de ram mb instal gb maximum sdram flash memori mb instal mb maximum interfac ethernet base base tx base rj usb manag consol rj auxiliari rj expans slot total free instal hwic instal aim instal nme xd instal evm instal pvdm memori compactflash card connect technolog wire statu indic power activ power power suppli intern ac dimens inch weight lb',\n",
       " 'fuji fujifilm instax mini pink instant polaroid camera print instax film fujifilm instax mini camera black automat determin best bright take pictur inform suitabl set light correspond lamp turn bright adjust dial posit mark lit lamp set bright adjust dial high key mode mark allow take pictur softer impress',\n",
       " 'women peep toe high heel cutout boot lace pump faux leather pad shoe black heel sophist sexi design back zipper easi slip lace front cut upper pad insol comfort non skid rubber outsol peep toe',\n",
       " 'honey pack drawer hang organ brown green brown green product inform honey pack drawer hang organ brown green brown green creat neater closet space drawer honey design fit shelf hang organ sold separ standalon bin closet shelv bed storag drawer instantli creat organ space sock undergar scarv tie accessori handi pull fabric handl easi access drawer content perfect blend economi strength style coordin honey mix match collect sturdi canva closet organ addit item sold separ',\n",
       " 'accel powergeniu outlet home theater smart surg protector la oleada accel powergeniu protector acondicionador de energ es la soluci de alimentaci ideal para el uso en su cine en casa la oficina en casa lo equipo electr nico sensibl en su cine en casa sistema inform tico pueden ser cilment da ado por la sobretension pico que son comun con corrient alterna el accel powergeniu cuenta con una capacidad de absorci de aumento ximo de julio para una excelent protecci de energ fabricant accel corporaci fabricant direcci web del fabricant http www accellc com marca accel nea de producto powergeniu nombr del producto powergeniu surg protector outlet de cine en casa inteligent tipo de producto supresor protector recept culo alimentaci de ca protecci de nea de dato red tel fono voltaj de entrada ac nea xima actual xima oleada actual ka manejo de potencia kva energ de sobretensi cabl de alimentaci cabl longitud conformidad medioambient certificado autoridad de roh',\n",
       " 'kantek mobil cpu stand black detail video cabl creat pure digit connect dvi enabl hdtv display devic hdmi enabl digit video sourc gold plate connector provid optim signal transfer premium doubl shield cabl protect outsid emi rfi nois interfer cabl type video connector port interfac dvi male hdmi male devic type home theater system connect devic digit display devic digit sourc devic cabl cord length connect type hdmi connect gender male connect type dvi connect gender male cabl version data transfer rate gbp wire gaug awg cabl applic hdmi enabl devic dvd player hdtv dvi compon warranti descript limit lifetim warranti',\n",
       " 'long sleev neck sweater dress mossimo suppli co',\n",
       " 'panason er portabl wet dri hair beard trimmer enhanc person style wet dri hair beard trimmer panason portabl hair trimmer boast five posit height adjust easili clean rins water',\n",
       " 'plantron audio pack stereo cord headset',\n",
       " 'selsun blue island breez alo dandruff shampoo fl oz',\n",
       " 'polaroid digit camera accessori kit includ zelcksg care clean sb charger ksd gb memori card polaroid digit camera accessori kit includ follow item piec digit camera camcord delux clean kit aa aaa nimh quick batteri charger includ pack mah recharg aa ni mh batteri gb standard secur digit sd memori card',\n",
       " 'samsung galaxi note sm gb jet black smartphon clean imei',\n",
       " 'holi bibl king jame version tulip italian duo tone bloom collect bibl paperback pick favorit blossom bloom collect grow faith perfect bibl go lifestyl design mind conveni allow carri anyth gym bag glove box backpack laptop bag flower inspir king jame version compact thinlin bloom collect bibl ideal way keep god word side featur attract italian duo tone cover flower design extra thin edit less one inch thick present page ideal gift give word christ red ribbon marker',\n",
       " 'cotton tale cupcak pillow set ador cupcak pillow set cotton tale complet decor theme nurseri pillow arriv set two one chocol pink taffeta pillow fun swirl design one featur curli fleec big white button',\n",
       " 'palmer cocoa butter formula vitamin concentr cream oz palmer cocoa butter formula vitamin concentr cream advanc moistur soften smooth reliev dri skin palmer cocoa butter formula vitamin concentr cream tone skin also help smooth blend unattract mark scar excel tan butter ideal hand elbow knee palmer cocoa butter formula vitamin concentr cream wide recommend stretch mark pregnanc',\n",
       " 'vizio inch hz razor led smart ultra slim hdtv refurbish vizio smallest member extens seri product line seri current vizio highest tier led smart tv seri character high bench mark visual spec sleek minimalist design brand vizio display inch product type led black aspect ratio resolut refresh rate hz featur dlna ambient light sensor al vizio internet app plu netflix iheartradio rhapsodi flickr fandago crackl amazon instant video go hulu plu vudu facebook flixfl youtub pandora interfac port hdmi ethernet built wifi usb compon composit rf digit optic dimens stand inch wide inch high inch deep ship dimens inch wide inch high inch deep weight pound ship weight pound',\n",
       " 'philip senseo hd coffe espresso maker black',\n",
       " 'graham graham men dress shirt tie set blue check handsom men dress shirt tie set definit make thing bit easier let total honest guy mix match pattern color dress shirt neckwear probabl one suit might well let one awesom long sleev shirt tie set work fret abl cut dash silhouett everywher go boardroom danc floor place best part fabul dress shirt tie set mind one bit steal credit pick flatter match either come blue check pattern machin wash',\n",
       " 'lenovo touch hq gb tb hdd gb ram ac game laptop',\n",
       " 'vintag golf club frame art print product inform vintag golf club frame art print fine art gicle print taken origin work depict sketch vintag golf club antiqu background art virtuoso frame artwork design styliz focus eye balanc emphasi longev accompani',\n",
       " 'convers chuck taylor star hi fade girl toddler youth high top sneaker fashion forward ombr effect convers high top bring extra fun sneaker style cute casual look canva upper lace rubber sole',\n",
       " 'nespresso inissia espresso machin bundl delici coffe shop drink without high price tag use nespresso inissia espresso machin bundl transpar water tank serv selector thermo block heat system brew perfect cup espresso easier ever featur auto shut safeti featur plu remov drip tray easi clean come coffe tea varieti pack instruct manual modern white case match kitchen cor',\n",
       " 'insten snap case appl iphon dark purpl heart butterfli',\n",
       " 'espresso polka dot three drawer hamper unit lightweight easi assembl use easi pull drawer breez load unload stopper drawer track prevent drawer push back unit drawer bottom support hard panel content caus drawer sag canva drawer remov drawer frame spot clean need basket materi percent cotton percent polyest materi wood fabric finish espresso dimens inch high inch wide inch deep drawer dimens inch high inch wide inch deep',\n",
       " 'pyrex leak lid round bake dish meal plan becom cinch leak free round bake dish great store leftov keep meal prepar advanc dish safe microwav oven snug elastom seal around lid need worri leak spill',\n",
       " 'journe collect women strappi high heel sandal',\n",
       " 'safco drawer organ mesh black low profil organ varieti bin size hold desk essenti long wear steel mesh construct deliv effici style lightweight yet sturdi design last year perfect organiz tool workspac compart adjust height saf bl bl safco safco drawer organ',\n",
       " 'aveeno activ natur nourish volum shampoo oz add volum life limp lacklust hair aveeno activ natur nourish volum shampoo nourish hair give rich lustrou feel featur fusion lightweight condition aveeno hair shampoo give hair strength make soft touch shine luxuri equip activ natur formula enrich nourish wheat complex antioxid rich blue lotu flower help replenish moistur protect fragil hair fortifi hair shaft protein lightweight shampoo gentl enough use treat hair',\n",
       " 'howl werewolf boy costum xl full moon high night sky howl pierc dark werewolf boy halloween costum featur tatter shirt realist graphic tear faux fur fingerless glove chinless vinyl wolf mask howl come travel best get wood late',\n",
       " 'rosato gold plate sterl silver necklac incorpor underst eleg look two tone goldplat silver necklac simpl design highli polish finish necklac complement ensembl',\n",
       " 'amp decora combo port usb charger combo outlet white usb bw usb port charg port outlet outlet offer usb charg port total amp power charg devic tablet smart mobil phone simultan port type control microprocessor smart chip recogn optim charg power devic fit standard wallbox wallplat includ usb port usb outlet white',\n",
       " 'cuisinart spb silver hp blender cuisinart spb blender use smart power sophist electron minc delic herb whip smoothi even chop ice put food processor work bowl slice shred chop mix dip sturdi cast workhors handl anyth toss',\n",
       " 'ralph lauren black label leather shirt jacket craft ultra soft leather contemporari jacket combin lightweight sensibl shirt classic detail rug moto jacket lamb leather sleev line nylon spot clean import band collar snap throat closur full zip front long sleev zip vent cuff quilt shoulder elbow seam back yoke zip pocket chest waist clean finish hem web id',\n",
       " 'nike shox deliv boy grade school white white silver',\n",
       " 'uttermost andar coffe bronz candl holder set infus decor subtl decad beauti candl holder craft metal rich coffe bronz finish holder support clear glass candl cup wit cream color candl bring warm glow room titl andar candl holder finish coffe bronz materi metal glass small dimens inch high inch diamet larg dimens inch high inch diamet',\n",
       " 'long sleev shift dress xhilar dress work go casual long sleev shift dress xhilar versatil enough everi time day simpl dress get beauti complic depend accessor rom pearl charm bracelet round collar show fave necklac back half length zipper closur polyest spandex blend make long sleev dress super easi wear easi care machin washabl size junior materi polyest spandex polyest necklin crew sleev style long closur style back half length zipper garment length knee care clean machin wash gentl delic bleach tumbl dri normal low heat iron low revers side',\n",
       " 'sunpentown doubl door refriger energi star stainless steel cu ft sunpentown cubic foot stainless steel doubl door refriger flush back compact design ideal colleg dorm room offic revers door offer versatil also featur separ freezer fridg compart adjust thermostat fresh food section slide wire shelf storag versatil transpar veget storag drawer glass shelf front level leg dispens tall bottl rack freestand applic energi star',\n",
       " 'panason close curv blade wet dri ladi shaver panason close curv blade wet dri ladi shaver need silki smooth skin use run tap conveni cordless ladi shaver blade float head cut system multipl shave foil head move independ remov hair singl pass also work well contour great result recharg ladi shaver sharp nickel free hypoallergen blade made stainless steel use shaver leg arm bikini area pop trimmer conveni ergonom design make easi use protect cover includ',\n",
       " 'men dc shoe villain tx black black black look villain villain tx dc moccasin to slip featur whip stitch well styliz upper cupsol technolog inner line soft mesh sole bear dc trademark pill pattern tread',\n",
       " 'oster duraceram waffl maker make classic belgian style waffl quickli easili flip style oster duraceram waffl maker revolutionari duraceram materi natur free pfoa ptfe flip waffl maker work percent faster model save time energi featur adjust temperatur control creat light fluffi waffl crispier waffl turn dial ceram coat last four time longer non stick coat surfac coat flake peel give even cook belgian waffl releas quickli pictur perfect plate easi cleanup coat pfoa ptfe free ad conveni oster waffl maker compact design allow stand vertic space save storag applianc avail choic color cover one year warranti',\n",
       " 'first kenmor waffl maker playset littl girl cook alway aspir first kenmor waffl maker kit waffl maker equip led indic light waffl shape like heart',\n",
       " 'insten black gamepad silicon case av audio video composit cabl nintendo wii silicon skin case compat nintendo wii black av composit cabl compat nintendo wii wii silicon skin case compat nintendo wii black quantiti keep nintendo wii safe protect style silicon skin case add splash nintendo wii provid instant around protect scratch dirt greas caus everyday use abus non slip surfac great provid better grip enhanc game perform manufactur use premium virgin silicon materi smooth washabl design ensur comfort cleanli uniqu design allow easi access button control port without remov skin black accessori devic includ av composit cabl compat nintendo wii wii quantiti av cabl provid composit video audio output view tv monitor dock connector plug directli game consol ultra thick flexibl jacket code connector simplifi instal length approx ft grey accessori game consol includ product name trademark list manufactur owner trademark eforc corp manufactur necessarili endors use',\n",
       " 'whetston jungl team full tang stainless steel jungl surviv knife whetston jungl surviv knife thick full tang stainless steel blade extrem sharp rug handl design extra grip fit perfectli hand complet protect carri case surviv knife must wilder',\n",
       " 'mlb appliqu piec bed comfort set yanke show team spirit mlb piec comfort set perfect festiv accent dress bedroom yanke comfort set featur team color emblem appliqu comfort ideal kid bedroom also creat theme guest room yanke comfort set everyon know much support home team make bold statement home decor mlb piec comfort set',\n",
       " 'zippo windproof street chrome lighter new box',\n",
       " 'dfi women singl strap jewel even gown grace eleg gown featur shir throughout top strapless cut multicolor jewel adorn bodic waist eye catch cluster',\n",
       " 'sorel women buff caribu boot carib boot sorel keep feet warm dri coldest day boot featur waterproof construct seam seal remov thermoplu felt inner boot seam seal waterproof construct waterproof full grain sued upper remov mm thermoplu inner boot wool acryl blend snow cuff mm bond felt frost plug handcraft waterproof vulcan rubber shell rate degre fahrenheit option buff height mid calf style cold weather materi nubuck leather wool acryl blend toe shape round platform height inch shaft height inch circumfer inch width medium line remov mm thermoplu innerboot sole materi aero tec vulcan rubber footb pad china',\n",
       " 'pittsburgh pirat offici mlb christma santa hat fan love show team spirit holiday season offic christma parti tailgat terrif embroid logo santa hat',\n",
       " 'easton men pinch hitter mid cleat score homerun easton men pinch hitter mid cleat featur cleat sole help stay feet game pair pant jersey',\n",
       " 'barska load gear gx tactic sling backpack load gear tactic backpack gx manufactur id bi load gear gx tactic sling backpackon main compart smaller compart intern organ ambidextr cross bodi pad shoulder sling strap system front side web system attach extra accessori top bottom handl offer altern carri posit pad back ventil channel larg velcro area attach patch name tape top access pass port side compress strap adjust velcro divid',\n",
       " 'coleman piec luggag set grey spinner set consist inch spinner expand upright inch expand upright inch featur four degre spinner wheel lock telescop handl two inch expand top side carri handl fulli line inch upright featur telescop handl degre spinner wheel top carri handl inch meet airlin carri restrict made rich denier polyest',\n",
       " 'new gift unisex men black silver stainless steel cross pendant necklac chain',\n",
       " ...]"
      ]
     },
     "execution_count": 67,
     "metadata": {},
     "output_type": "execute_result"
    }
   ],
   "source": [
    "train_r"
   ]
  },
  {
   "cell_type": "code",
   "execution_count": 65,
   "metadata": {},
   "outputs": [
    {
     "ename": "ValueError",
     "evalue": "blocks must be 2-D",
     "output_type": "error",
     "traceback": [
      "\u001b[1;31m---------------------------------------------------------------------------\u001b[0m",
      "\u001b[1;31mValueError\u001b[0m                                Traceback (most recent call last)",
      "\u001b[1;32m<ipython-input-65-2eace7d67169>\u001b[0m in \u001b[0;36m<module>\u001b[1;34m()\u001b[0m\n\u001b[1;32m----> 1\u001b[1;33m \u001b[0mtrain_x\u001b[0m \u001b[1;33m=\u001b[0m \u001b[0mhstack\u001b[0m\u001b[1;33m(\u001b[0m\u001b[1;33m(\u001b[0m\u001b[0mtrain_q\u001b[0m\u001b[1;33m,\u001b[0m \u001b[0mtrain_r\u001b[0m\u001b[1;33m)\u001b[0m\u001b[1;33m)\u001b[0m\u001b[1;33m\u001b[0m\u001b[0m\n\u001b[0m",
      "\u001b[1;32mC:\\Users\\tjdal\\Anaconda3\\lib\\site-packages\\scipy\\sparse\\construct.py\u001b[0m in \u001b[0;36mhstack\u001b[1;34m(blocks, format, dtype)\u001b[0m\n\u001b[0;32m    456\u001b[0m \u001b[1;33m\u001b[0m\u001b[0m\n\u001b[0;32m    457\u001b[0m     \"\"\"\n\u001b[1;32m--> 458\u001b[1;33m     \u001b[1;32mreturn\u001b[0m \u001b[0mbmat\u001b[0m\u001b[1;33m(\u001b[0m\u001b[1;33m[\u001b[0m\u001b[0mblocks\u001b[0m\u001b[1;33m]\u001b[0m\u001b[1;33m,\u001b[0m \u001b[0mformat\u001b[0m\u001b[1;33m=\u001b[0m\u001b[0mformat\u001b[0m\u001b[1;33m,\u001b[0m \u001b[0mdtype\u001b[0m\u001b[1;33m=\u001b[0m\u001b[0mdtype\u001b[0m\u001b[1;33m)\u001b[0m\u001b[1;33m\u001b[0m\u001b[0m\n\u001b[0m\u001b[0;32m    459\u001b[0m \u001b[1;33m\u001b[0m\u001b[0m\n\u001b[0;32m    460\u001b[0m \u001b[1;33m\u001b[0m\u001b[0m\n",
      "\u001b[1;32mC:\\Users\\tjdal\\Anaconda3\\lib\\site-packages\\scipy\\sparse\\construct.py\u001b[0m in \u001b[0;36mbmat\u001b[1;34m(blocks, format, dtype)\u001b[0m\n\u001b[0;32m    539\u001b[0m \u001b[1;33m\u001b[0m\u001b[0m\n\u001b[0;32m    540\u001b[0m     \u001b[1;32mif\u001b[0m \u001b[0mblocks\u001b[0m\u001b[1;33m.\u001b[0m\u001b[0mndim\u001b[0m \u001b[1;33m!=\u001b[0m \u001b[1;36m2\u001b[0m\u001b[1;33m:\u001b[0m\u001b[1;33m\u001b[0m\u001b[0m\n\u001b[1;32m--> 541\u001b[1;33m         \u001b[1;32mraise\u001b[0m \u001b[0mValueError\u001b[0m\u001b[1;33m(\u001b[0m\u001b[1;34m'blocks must be 2-D'\u001b[0m\u001b[1;33m)\u001b[0m\u001b[1;33m\u001b[0m\u001b[0m\n\u001b[0m\u001b[0;32m    542\u001b[0m \u001b[1;33m\u001b[0m\u001b[0m\n\u001b[0;32m    543\u001b[0m     \u001b[0mM\u001b[0m\u001b[1;33m,\u001b[0m\u001b[0mN\u001b[0m \u001b[1;33m=\u001b[0m \u001b[0mblocks\u001b[0m\u001b[1;33m.\u001b[0m\u001b[0mshape\u001b[0m\u001b[1;33m\u001b[0m\u001b[0m\n",
      "\u001b[1;31mValueError\u001b[0m: blocks must be 2-D"
     ]
    }
   ],
   "source": [
    "train_x = hstack((train_q, train_r))"
   ]
  },
  {
   "cell_type": "code",
   "execution_count": null,
   "metadata": {
    "collapsed": true
   },
   "outputs": [],
   "source": [
    "test_x = hstack((test_q, test_r))"
   ]
  },
  {
   "cell_type": "code",
   "execution_count": null,
   "metadata": {
    "collapsed": true
   },
   "outputs": [],
   "source": []
  },
  {
   "cell_type": "markdown",
   "metadata": {},
   "source": [
    "# Modeling"
   ]
  },
  {
   "cell_type": "code",
   "execution_count": 449,
   "metadata": {
    "collapsed": true
   },
   "outputs": [],
   "source": [
    "from sklearn.decomposition import TruncatedSVD\n",
    "from sklearn.preprocessing import StandardScaler\n",
    "import xgboost as xgb\n",
    "from sklearn.model_selection import GridSearchCV\n",
    "from sklearn import pipeline\n",
    "from sklearn import grid_search\n",
    "from sklearn import metrics"
   ]
  },
  {
   "cell_type": "code",
   "execution_count": 450,
   "metadata": {
    "collapsed": true
   },
   "outputs": [],
   "source": [
    "from sklearn.model_selection import train_test_split"
   ]
  },
  {
   "cell_type": "code",
   "execution_count": 451,
   "metadata": {
    "collapsed": true
   },
   "outputs": [],
   "source": [
    "from sklearn.metrics import r2_score"
   ]
  },
  {
   "cell_type": "code",
   "execution_count": 452,
   "metadata": {
    "collapsed": true
   },
   "outputs": [],
   "source": [
    "svd = TruncatedSVD()\n",
    "scl = StandardScaler()\n",
    "xgb_model = xgb.XGBRegressor()  "
   ]
  },
  {
   "cell_type": "code",
   "execution_count": 132,
   "metadata": {
    "collapsed": true
   },
   "outputs": [],
   "source": [
    "X_train, X_test, y_train, y_test = train_test_split(train_X, y, test_size=0.20, random_state=33)"
   ]
  },
  {
   "cell_type": "code",
   "execution_count": null,
   "metadata": {
    "collapsed": true
   },
   "outputs": [],
   "source": []
  },
  {
   "cell_type": "code",
   "execution_count": 453,
   "metadata": {
    "collapsed": true
   },
   "outputs": [],
   "source": [
    "clf = pipeline.Pipeline([('svd', svd), ('scl', scl), ('xgb', xgb_model)])"
   ]
  },
  {
   "cell_type": "code",
   "execution_count": 454,
   "metadata": {
    "collapsed": true
   },
   "outputs": [],
   "source": [
    "clf2 = pipeline.Pipeline([('svd', svd), ('xgb', xgb_model)])"
   ]
  },
  {
   "cell_type": "code",
   "execution_count": 455,
   "metadata": {
    "collapsed": true
   },
   "outputs": [],
   "source": [
    "clf3 = xgb.XGBRegressor()"
   ]
  },
  {
   "cell_type": "code",
   "execution_count": 456,
   "metadata": {
    "collapsed": true
   },
   "outputs": [],
   "source": [
    "model_clf = clf.fit(train_X, y)\n",
    "clf_pred = model_clf.predict(test_X)"
   ]
  },
  {
   "cell_type": "code",
   "execution_count": 457,
   "metadata": {},
   "outputs": [
    {
     "data": {
      "text/plain": [
       "array([ 3.12624311,  3.06819654,  3.37994576, ...,  3.12167335,\n",
       "        3.37726235,  3.09612083], dtype=float32)"
      ]
     },
     "execution_count": 457,
     "metadata": {},
     "output_type": "execute_result"
    }
   ],
   "source": [
    "clf_pred"
   ]
  },
  {
   "cell_type": "code",
   "execution_count": null,
   "metadata": {
    "collapsed": true
   },
   "outputs": [],
   "source": []
  },
  {
   "cell_type": "code",
   "execution_count": 461,
   "metadata": {
    "collapsed": true
   },
   "outputs": [],
   "source": [
    "model_clf2 = clf2.fit(train_X, y)\n",
    "clf2_pred = model_clf2.predict(test_X)"
   ]
  },
  {
   "cell_type": "code",
   "execution_count": 462,
   "metadata": {},
   "outputs": [
    {
     "data": {
      "text/plain": [
       "array([ 3.35851097,  3.29088807,  3.21306539, ...,  3.13887048,\n",
       "        3.50986814,  3.15042138], dtype=float32)"
      ]
     },
     "execution_count": 462,
     "metadata": {},
     "output_type": "execute_result"
    }
   ],
   "source": [
    "clf2_pred"
   ]
  },
  {
   "cell_type": "code",
   "execution_count": null,
   "metadata": {
    "collapsed": true
   },
   "outputs": [],
   "source": []
  },
  {
   "cell_type": "code",
   "execution_count": 470,
   "metadata": {
    "collapsed": true
   },
   "outputs": [],
   "source": [
    "def round_convert(nump):\n",
    "    for num in range(len(nump)):\n",
    "        if nump[num] % 1 >= 0.00000000 and nump[num] % 1 < 0.49999999:\n",
    "            nump[num] = int(nump[num])\n",
    "        else:\n",
    "            nump[num] = int(nump[num] + 1)\n",
    "    \n",
    "    return nump"
   ]
  },
  {
   "cell_type": "code",
   "execution_count": 471,
   "metadata": {},
   "outputs": [
    {
     "data": {
      "text/plain": [
       "array([ 3.,  3.,  3., ...,  3.,  3.,  3.], dtype=float32)"
      ]
     },
     "execution_count": 471,
     "metadata": {},
     "output_type": "execute_result"
    }
   ],
   "source": [
    "round_convert(clf_pred)"
   ]
  },
  {
   "cell_type": "code",
   "execution_count": 472,
   "metadata": {},
   "outputs": [
    {
     "data": {
      "text/plain": [
       "array([ 3.,  3.,  3., ...,  3.,  4.,  3.], dtype=float32)"
      ]
     },
     "execution_count": 472,
     "metadata": {},
     "output_type": "execute_result"
    }
   ],
   "source": [
    "round_convert(clf2_pred)"
   ]
  },
  {
   "cell_type": "code",
   "execution_count": 473,
   "metadata": {
    "collapsed": true
   },
   "outputs": [],
   "source": [
    "clf_pred = clf_pred.astype(int)\n",
    "clf2_pred = clf2_pred.astype(int)"
   ]
  },
  {
   "cell_type": "code",
   "execution_count": null,
   "metadata": {
    "collapsed": true
   },
   "outputs": [],
   "source": []
  },
  {
   "cell_type": "code",
   "execution_count": 474,
   "metadata": {
    "collapsed": true
   },
   "outputs": [],
   "source": [
    "clf_answer = pd.concat([pd.DataFrame(df_test['id'], columns=['id']), pd.DataFrame(clf_pred, columns=['prediction'])], axis=1)"
   ]
  },
  {
   "cell_type": "code",
   "execution_count": 475,
   "metadata": {
    "collapsed": true
   },
   "outputs": [],
   "source": [
    "clf_answer.to_csv('./clf_answer.csv', index=False)"
   ]
  },
  {
   "cell_type": "code",
   "execution_count": null,
   "metadata": {
    "collapsed": true
   },
   "outputs": [],
   "source": []
  },
  {
   "cell_type": "code",
   "execution_count": 476,
   "metadata": {
    "collapsed": true
   },
   "outputs": [],
   "source": [
    "clf2_answer = pd.concat([pd.DataFrame(df_test['id'], columns=['id']), pd.DataFrame(clf2_pred, columns=['prediction'])], axis=1)"
   ]
  },
  {
   "cell_type": "code",
   "execution_count": 477,
   "metadata": {
    "collapsed": true
   },
   "outputs": [],
   "source": [
    "clf2_answer.to_csv('./clf2_answer.csv', index=False)"
   ]
  },
  {
   "cell_type": "code",
   "execution_count": null,
   "metadata": {
    "collapsed": true
   },
   "outputs": [],
   "source": []
  },
  {
   "cell_type": "markdown",
   "metadata": {
    "collapsed": true
   },
   "source": []
  },
  {
   "cell_type": "code",
   "execution_count": null,
   "metadata": {
    "collapsed": true
   },
   "outputs": [],
   "source": []
  },
  {
   "cell_type": "code",
   "execution_count": null,
   "metadata": {
    "collapsed": true
   },
   "outputs": [],
   "source": []
  },
  {
   "cell_type": "code",
   "execution_count": null,
   "metadata": {
    "collapsed": true
   },
   "outputs": [],
   "source": []
  }
 ],
 "metadata": {
  "kernelspec": {
   "display_name": "Python 3",
   "language": "python",
   "name": "python3"
  },
  "language_info": {
   "codemirror_mode": {
    "name": "ipython",
    "version": 3
   },
   "file_extension": ".py",
   "mimetype": "text/x-python",
   "name": "python",
   "nbconvert_exporter": "python",
   "pygments_lexer": "ipython3",
   "version": "3.6.1"
  }
 },
 "nbformat": 4,
 "nbformat_minor": 2
}
